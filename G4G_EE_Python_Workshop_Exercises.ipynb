{
  "cells": [
    {
      "cell_type": "markdown",
      "metadata": {
        "id": "IgbrGpmZ17No"
      },
      "source": [
        "# G4G Earth Engine Python Workshop Exercises\n",
        "\n",
        "This notebook provides answer keys to the exercises of the G4G Earth Engine Python workshop. The answer keys will be unveiled progressively during the workshop."
      ]
    },
    {
      "cell_type": "markdown",
      "metadata": {
        "id": "gEIHyuS3dxgk"
      },
      "source": [
        "## Install packages"
      ]
    },
    {
      "cell_type": "code",
      "execution_count": null,
      "metadata": {
        "id": "1X2BKYAtdyT4"
      },
      "outputs": [],
      "source": [
        "# %pip install -U \"geemap[workshop]\""
      ]
    },
    {
      "cell_type": "markdown",
      "metadata": {
        "id": "6YeyHnQ4dz9I"
      },
      "source": [
        "## Import libraries"
      ]
    },
    {
      "cell_type": "code",
      "execution_count": null,
      "metadata": {
        "id": "p1Lg0Nbwd2BN"
      },
      "outputs": [],
      "source": [
        "import ee\n",
        "import geemap"
      ]
    },
    {
      "cell_type": "markdown",
      "metadata": {
        "id": "vSuyevqcd5E_"
      },
      "source": [
        "## Exercise 1 - Creating cloud-free imagery\n",
        "\n",
        "Create a cloud-free imagery of Texas for the year of 2022. You can use either Landsat 9 or Sentinel-2 imagery. Relevant Earth Engine assets:\n",
        "- [ee.FeatureCollection(\"TIGER/2018/States\")](https://developers.google.com/earth-engine/datasets/catalog/TIGER_2018_States)\n",
        "- [ee.ImageCollection(\"COPERNICUS/S2_SR\")](https://developers.google.com/earth-engine/datasets/catalog/COPERNICUS_S2_SR)\n",
        "- [ee.ImageCollection(\"LANDSAT/LC09/C02/T1_L2\")](https://developers.google.com/earth-engine/datasets/catalog/LANDSAT_LC09_C02_T1_L2)\n",
        "\n",
        "![](https://i.imgur.com/FNvRhJe.png)"
      ]
    },
    {
      "cell_type": "code",
      "execution_count": null,
      "metadata": {
        "id": "hT2_kABXd6_s"
      },
      "outputs": [],
      "source": [
        "m = geemap.Map()\n",
        "states = ee.FeatureCollection(\"TIGER/2018/States\")\n",
        "texas = states.filter(ee.Filter.eq('NAME', 'Texas'))\n",
        "\n",
        "collection = (\n",
        "    ee.ImageCollection('COPERNICUS/S2_SR')\n",
        "    .filterBounds(texas)\n",
        "    .filterDate('2022-01-01', '2023-01-01')\n",
        "    .filter(ee.Filter.lt('CLOUDY_PIXEL_PERCENTAGE', 5))\n",
        ")\n",
        "image = collection.median()\n",
        "image = image.clipToCollection(texas)\n",
        "\n",
        "vis = {\n",
        "    'min': 0.0,\n",
        "    'max': 5000,\n",
        "    'bands': ['B8', 'B4', 'B3'],\n",
        "}\n",
        "\n",
        "m.add_layer(image, vis, 'Cloud-free image 2022')\n",
        "m.add_layer(texas, {}, 'Texas', False)\n",
        "m.center_object(texas, 6)\n",
        "m"
      ]
    },
    {
      "cell_type": "markdown",
      "metadata": {
        "id": "rlXQRjS4d8Xt"
      },
      "source": [
        "## Exercise 2 - Creating land cover maps with a legend\n",
        "\n",
        "Create a split map for visualizing NLCD land cover change in Texas between 2001 and 2019. Add the NLCD legend to the map. Relevant Earth Engine assets:\n",
        "- [ee.FeatureCollection(\"TIGER/2018/States\")](https://developers.google.com/earth-engine/datasets/catalog/TIGER_2018_States)\n",
        "- [ee.ImageCollection(\"USGS/NLCD_RELEASES/2019_REL/NLCD\")](https://developers.google.com/earth-engine/datasets/catalog/USGS_NLCD_RELEASES_2019_REL_NLCD)\n",
        "\n",
        "\n",
        "![](https://i.imgur.com/1b62CeI.jpg)\n"
      ]
    },
    {
      "cell_type": "code",
      "execution_count": null,
      "metadata": {
        "id": "IQHXwT6xd-TV"
      },
      "outputs": [],
      "source": [
        "# Add your code here."
      ]
    },
    {
      "cell_type": "markdown",
      "metadata": {
        "id": "nsyupwDwd-4z"
      },
      "source": [
        "## Exercise 3 - Zonal statistics\n",
        "\n",
        "Find out which state has the highest mean temperature in the United States on June 28, 2023. Relevant Earth Engine assets:\n",
        "\n",
        "- [ee.FeatureCollection(\"TIGER/2018/States\")](https://developers.google.com/earth-engine/datasets/catalog/TIGER_2018_States)\n",
        "- [ee.ImageCollection(\"NOAA/GFS0P25\")](https://developers.google.com/earth-engine/datasets/catalog/NOAA_GFS0P25)\n",
        "\n",
        "![](https://i.imgur.com/GZCHHz3.png)"
      ]
    },
    {
      "cell_type": "code",
      "execution_count": null,
      "metadata": {
        "id": "KWtP3Cq7eAuI"
      },
      "outputs": [],
      "source": [
        "# Add your code here."
      ]
    },
    {
      "cell_type": "markdown",
      "metadata": {
        "id": "YAjJPg0teBJR"
      },
      "source": [
        "## Exercise 4 - Analyzing forest cover gain and loss\n",
        "\n",
        "Find out which US state has the largest forest gain and loss between 2000 and 2022. Create pie charts and bar charts to show the results. Relevant Earth Engine assets:\n",
        "\n",
        "- [ee.FeatureCollection(\"TIGER/2018/States\")](https://developers.google.com/earth-engine/datasets/catalog/TIGER_2018_States)\n",
        "- [ee.Image(\"UMD/hansen/global_forest_change_2022_v1_10\")](https://developers.google.com/earth-engine/datasets/catalog/UMD_hansen_global_forest_change_2022_v1_10)\n",
        "\n",
        "![](https://i.imgur.com/t5sH5ku.png)"
      ]
    },
    {
      "cell_type": "code",
      "execution_count": null,
      "metadata": {
        "id": "Gg0HbiSaeC9F"
      },
      "outputs": [],
      "source": [
        "# Add your code here."
      ]
    },
    {
      "cell_type": "markdown",
      "metadata": {
        "id": "sfK8BDobeFPJ"
      },
      "source": [
        "## Exercise 5 - Exporting images by a fishnet\n",
        "\n",
        "Create a fishnet with a 4-degree interval based on the extent of `[-112.5439, 34.0891, -85.0342, 49.6858]`. Use the fishnet to download the Landsat 7 image tiles by the fishnet using the `geemap.download_ee_image_tiles()` and `geemap.download_ee_image_tiles_parallel()` functions. Relevant Earth Engine assets:\n",
        "\n",
        "- `ee.Image('LANDSAT/LE7_TOA_5YEAR/1999_2003')`\n",
        "\n",
        "![](https://i.imgur.com/L1IH3fq.png)"
      ]
    },
    {
      "cell_type": "code",
      "execution_count": null,
      "metadata": {
        "id": "DEc6Yn6xeFpW"
      },
      "outputs": [],
      "source": [
        "# Add your code here."
      ]
    },
    {
      "cell_type": "markdown",
      "metadata": {
        "id": "hKMzLgmBeHex"
      },
      "source": [
        "## Exercise 6 - Creating timelapse animations\n",
        "\n",
        "Use the geemap timelapse GUI to create a timelapse animation for any location of your choice. Share the timelapse on social media and use the hashtagd such as #EarthEngine and #geemap. See [this](https://i.imgur.com/uFaXD9s.gif) example.\n",
        "\n",
        "![](https://i.imgur.com/vecPydF.png)"
      ]
    },
    {
      "cell_type": "code",
      "execution_count": null,
      "metadata": {
        "id": "vh3LvofneODE"
      },
      "outputs": [],
      "source": []
    },
    {
      "cell_type": "markdown",
      "metadata": {
        "id": "ano06yiE5Z_V"
      },
      "source": [
        "### Exercise 7 - Building an interactive web app for visualizing land cover change\n",
        "\n",
        "Follow the instructions [here](https://huggingface.co/spaces/giswqs/solara-geemap) to build an interactive Earth Engine web app with [Solara](https://github.com/widgetti/solara) and geemap. You need to [sign up](https://huggingface.co/join) for a free Hugging Face account to create the web app. It is free and easy to sign up.\n",
        "\n",
        "After following the instructions above, you should have a web app that looks like this:\n",
        "\n",
        "![](https://i.imgur.com/uYDUPl0.png)\n",
        "\n",
        "The web app URL should look like this: https://giswqs-solara-geemap.hf.space/split-map."
      ]
    },
    {
      "cell_type": "code",
      "execution_count": null,
      "metadata": {
        "id": "mWpowQZi5h0w"
      },
      "outputs": [],
      "source": []
    }
  ],
  "metadata": {
    "colab": {
      "provenance": []
    },
    "kernelspec": {
      "display_name": "Python 3",
      "name": "python3"
    },
    "language_info": {
      "codemirror_mode": {
        "name": "ipython",
        "version": 3
      },
      "file_extension": ".py",
      "mimetype": "text/x-python",
      "name": "python",
      "nbconvert_exporter": "python",
      "pygments_lexer": "ipython3",
      "version": "3.11.5"
    }
  },
  "nbformat": 4,
  "nbformat_minor": 0
}
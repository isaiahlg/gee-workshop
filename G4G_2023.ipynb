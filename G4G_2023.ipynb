{
 "cells": [
  {
   "cell_type": "markdown",
   "metadata": {},
   "source": [
    "[![image](https://colab.research.google.com/assets/colab-badge.svg)](https://colab.research.google.com/github/gee-community/geemap/blob/master/docs/workshops/G4G_2023.ipynb)\n",
    "\n",
    "**Introduction to Google Earth Engine in Python**\n",
    "\n",
    "-   Notebook: <https://geemap.org/workshops/G4G_2023>\n",
    "-   Earth Engine: <https://earthengine.google.com>\n",
    "-   Geemap: <https://geemap.org>\n",
    "\n",
    "## Introduction (10 mins)\n",
    "\n",
    "This notebook is for the workshop presented at the [Geo for Good Summit 2023](https://earthoutreachonair.withgoogle.com/events/geoforgood23). Check out [this link](https://earthoutreachonair.withgoogle.com/events/geoforgood23?tab=g4gagenda&expand=module:agenda) for more information about the workshop.\n",
    "\n",
    "### Abstract\n",
    "\n",
    "This workshop provides an introduction to cloud-based geospatial analysis using the Earth Engine Python API. Attendees will learn the basics of Earth Engine data types and how to visualize, analyze, and export Earth Engine data in a Jupyter environment with geemap. In addition, attendees will learn how to develop and deploy interactive Earth Engine web apps with Python. Through practical examples and hands-on exercises, attendees will enhance their learning experience. During each hands-on session, attendees will walk through Jupyter Notebook examples on Google Colab with the instructors. At the end of each session, they will complete a hands-on exercise to apply the knowledge they have learned.\n",
    "\n",
    "### Prerequisites\n",
    "\n",
    "-   To use geemap and the Earth Engine Python API, you must [register](https://code.earthengine.google.com/register) for an Earth Engine account and follow the instructions [here](https://docs.google.com/document/d/1ZGSmrNm6_baqd8CHt33kIBWOlvkh-HLr46bODgJN1h0/edit?usp=sharing) to create a Cloud Project. Earth Engine is free for [noncommercial and research use](https://earthengine.google.com/noncommercial). To test whether you can use authenticate the Earth Engine Python API, please run [this notebook](https://colab.research.google.com/github/giswqs/geemap/blob/master/examples/notebooks/geemap_colab.ipynb) on Google Colab.\n",
    "\n",
    "-   It is recommended that attendees have a basic understanding of Python and Jupyter Notebook.\n",
    "-   Familiarity with the Earth Engine JavaScript API is not required but will be helpful.\n",
    "-   Attendees can use Google Colab to follow this workshop without installing anything on their computer.\n",
    "\n",
    "## Introduction to Earth Engine and geemap (15 mins)\n",
    "\n",
    "Earth Engine is free for [noncommercial and research use](https://earthengine.google.com/noncommercial). For more than a decade, Earth Engine has enabled planetary-scale Earth data science and analysis by nonprofit organizations, research scientists, and other impact users.\n",
    "\n",
    "With the launch of Earth Engine for [commercial use](https://earthengine.google.com/commercial), commercial customers will be charged for Earth Engine services. However, Earth Engine will remain free of charge for noncommercial use and research projects. Nonprofit organizations, academic institutions, educators, news media, Indigenous governments, and government researchers are eligible to use Earth Engine free of charge, just as they have done for over a decade.\n",
    "\n",
    "The geemap Python package is built upon the Earth Engine Python API and open-source mapping libraries. It allows Earth Engine users to interactively manipulate, analyze, and visualize geospatial big data in a Jupyter environment. Since its creation in April 2020, geemap has received over 2,900 GitHub stars and is being used by over 1,000 projects on GitHub.\n",
    "\n",
    "## Google Colab and Earth Engine Python API authentication (5 mins)\n",
    "\n",
    "[![image](https://colab.research.google.com/assets/colab-badge.svg)](https://colab.research.google.com/github/gee-community/geemap/blob/master/docs/workshops/G4G_2023.ipynb)\n",
    "\n",
    "### Change Colab dark theme\n",
    "\n",
    "Currently, ipywidgets does not work well with Colab dark theme. Some of the geemap widgets may not display properly in Colab dark theme.It is recommended that you change Colab to the light theme.\n",
    "\n",
    "![](https://i.imgur.com/EJ0GDP8.png)\n",
    "\n",
    "\n",
    "### Install geemap\n",
    "\n",
    "The geemap package is pre-installed in Google Colab and is updated to the latest minor or major release every few weeks. Some optional dependencies of geemap being used by this notebook are not pre-installed in Colab. Uncomment the following line to install geemap and some optional dependencies."
   ]
  },
  {
   "cell_type": "code",
   "execution_count": null,
   "metadata": {},
   "outputs": [],
   "source": [
    "# %pip install -U \"geemap[workshop]\""
   ]
  },
  {
   "cell_type": "markdown",
   "metadata": {},
   "source": [
    "Note that some geemap features do not work properly with Google Colab. If you are familiar with [Anaconda](https://www.anaconda.com/distribution/#download-section) or [Miniconda](https://docs.conda.io/en/latest/miniconda.html), it is recommended to create a new conda environment to install geemap and its optional dependencies on your local computer. \n",
    "\n",
    "```bash\n",
    "conda create -n gee python=3.11\n",
    "conda activate gee\n",
    "conda install -c conda-forge mamba\n",
    "mamba install -c conda-forge geemap pygis\n",
    "```"
   ]
  },
  {
   "cell_type": "markdown",
   "metadata": {},
   "source": [
    "### Import libraries\n",
    "\n",
    "Import the earthengine-api and geemap."
   ]
  },
  {
   "cell_type": "code",
   "execution_count": 1,
   "metadata": {},
   "outputs": [],
   "source": [
    "import ee\n",
    "import geemap"
   ]
  },
  {
   "cell_type": "markdown",
   "metadata": {},
   "source": [
    "### Authenticate and initialize Earth Engine\n",
    "\n",
    "You will need to create a [Google Cloud Project](https://console.cloud.google.com/projectcreate) and enable the [Earth Engine API](https://console.cloud.google.com/apis/api/earthengine.googleapis.com) for the project. You can find detailed instructions [here](https://book.geemap.org/chapters/01_introduction.html#earth-engine-authentication)."
   ]
  },
  {
   "cell_type": "code",
   "execution_count": 3,
   "metadata": {},
   "outputs": [
    {
     "data": {
      "text/html": [
       "\n",
       "            <style>\n",
       "                .geemap-dark {\n",
       "                    --jp-widgets-color: white;\n",
       "                    --jp-widgets-label-color: white;\n",
       "                    --jp-ui-font-color1: white;\n",
       "                    --jp-layout-color2: #454545;\n",
       "                    background-color: #383838;\n",
       "                }\n",
       "                    \n",
       "                .geemap-dark .jupyter-button {\n",
       "                    --jp-layout-color3: #383838;\n",
       "                }\n",
       "                \n",
       "                .geemap-colab {\n",
       "                    background-color: var(--colab-primary-surface-color, white);\n",
       "                }\n",
       "                    \n",
       "                .geemap-colab .jupyter-button {\n",
       "                    --jp-layout-color3: var(--colab-primary-surface-color, white);\n",
       "                }\n",
       "            </style>\n",
       "            "
      ],
      "text/plain": [
       "<IPython.core.display.HTML object>"
      ]
     },
     "metadata": {},
     "output_type": "display_data"
    },
    {
     "data": {
      "text/html": [
       "<p>To authorize access needed by Earth Engine, open the following\n",
       "        URL in a web browser and follow the instructions:</p>\n",
       "        <p><a href=https://code.earthengine.google.com/client-auth?scopes=https%3A//www.googleapis.com/auth/earthengine%20https%3A//www.googleapis.com/auth/devstorage.full_control&request_id=FXt8h4VQpUpanRwcLUucI3jmYQGHs3EWKXRXttG8OV4&tc=qBO75WvdNAm_2r22ndmt0YXcsQn5DHJ8hiSM0mtXiZ0&cc=jR8-b4q_p1dGk_AeMXAx22ThK1KLA38FLYR28bvCwvE>https://code.earthengine.google.com/client-auth?scopes=https%3A//www.googleapis.com/auth/earthengine%20https%3A//www.googleapis.com/auth/devstorage.full_control&request_id=FXt8h4VQpUpanRwcLUucI3jmYQGHs3EWKXRXttG8OV4&tc=qBO75WvdNAm_2r22ndmt0YXcsQn5DHJ8hiSM0mtXiZ0&cc=jR8-b4q_p1dGk_AeMXAx22ThK1KLA38FLYR28bvCwvE</a></p>\n",
       "        <p>The authorization workflow will generate a code, which you should paste in the box below.</p>\n",
       "        "
      ],
      "text/plain": [
       "<IPython.core.display.HTML object>"
      ]
     },
     "metadata": {},
     "output_type": "display_data"
    },
    {
     "name": "stdout",
     "output_type": "stream",
     "text": [
      "\n",
      "Successfully saved authorization token.\n"
     ]
    }
   ],
   "source": [
    "ee.Authenticate()"
   ]
  },
  {
   "cell_type": "code",
   "execution_count": 4,
   "metadata": {},
   "outputs": [
    {
     "data": {
      "text/html": [
       "\n",
       "            <style>\n",
       "                .geemap-dark {\n",
       "                    --jp-widgets-color: white;\n",
       "                    --jp-widgets-label-color: white;\n",
       "                    --jp-ui-font-color1: white;\n",
       "                    --jp-layout-color2: #454545;\n",
       "                    background-color: #383838;\n",
       "                }\n",
       "                    \n",
       "                .geemap-dark .jupyter-button {\n",
       "                    --jp-layout-color3: #383838;\n",
       "                }\n",
       "                \n",
       "                .geemap-colab {\n",
       "                    background-color: var(--colab-primary-surface-color, white);\n",
       "                }\n",
       "                    \n",
       "                .geemap-colab .jupyter-button {\n",
       "                    --jp-layout-color3: var(--colab-primary-surface-color, white);\n",
       "                }\n",
       "            </style>\n",
       "            "
      ],
      "text/plain": [
       "<IPython.core.display.HTML object>"
      ]
     },
     "metadata": {},
     "output_type": "display_data"
    }
   ],
   "source": [
    "ee.Initialize()"
   ]
  },
  {
   "cell_type": "markdown",
   "metadata": {},
   "source": [
    "## Creating interactive maps\n",
    "\n",
    "Let's create an interactive map using the `ipyleaflet` plotting backend. The [`geemap.Map`](https://geemap.org/geemap/#geemap.geemap.m) class inherits the [`ipyleaflet.Map`](https://ipyleaflet.readthedocs.io/en/latest/map_and_basemaps/map.html) class. Therefore, you can use the same syntax to create an interactive map as you would with `ipyleaflet.Map`."
   ]
  },
  {
   "cell_type": "code",
   "execution_count": 5,
   "metadata": {},
   "outputs": [
    {
     "data": {
      "text/html": [
       "\n",
       "            <style>\n",
       "                .geemap-dark {\n",
       "                    --jp-widgets-color: white;\n",
       "                    --jp-widgets-label-color: white;\n",
       "                    --jp-ui-font-color1: white;\n",
       "                    --jp-layout-color2: #454545;\n",
       "                    background-color: #383838;\n",
       "                }\n",
       "                    \n",
       "                .geemap-dark .jupyter-button {\n",
       "                    --jp-layout-color3: #383838;\n",
       "                }\n",
       "                \n",
       "                .geemap-colab {\n",
       "                    background-color: var(--colab-primary-surface-color, white);\n",
       "                }\n",
       "                    \n",
       "                .geemap-colab .jupyter-button {\n",
       "                    --jp-layout-color3: var(--colab-primary-surface-color, white);\n",
       "                }\n",
       "            </style>\n",
       "            "
      ],
      "text/plain": [
       "<IPython.core.display.HTML object>"
      ]
     },
     "metadata": {},
     "output_type": "display_data"
    }
   ],
   "source": [
    "m = geemap.Map()"
   ]
  },
  {
   "cell_type": "markdown",
   "metadata": {},
   "source": [
    "To display it in a Jupyter notebook, simply ask for the object representation:"
   ]
  },
  {
   "cell_type": "code",
   "execution_count": 6,
   "metadata": {},
   "outputs": [
    {
     "data": {
      "text/html": [
       "\n",
       "            <style>\n",
       "                .geemap-dark {\n",
       "                    --jp-widgets-color: white;\n",
       "                    --jp-widgets-label-color: white;\n",
       "                    --jp-ui-font-color1: white;\n",
       "                    --jp-layout-color2: #454545;\n",
       "                    background-color: #383838;\n",
       "                }\n",
       "                    \n",
       "                .geemap-dark .jupyter-button {\n",
       "                    --jp-layout-color3: #383838;\n",
       "                }\n",
       "                \n",
       "                .geemap-colab {\n",
       "                    background-color: var(--colab-primary-surface-color, white);\n",
       "                }\n",
       "                    \n",
       "                .geemap-colab .jupyter-button {\n",
       "                    --jp-layout-color3: var(--colab-primary-surface-color, white);\n",
       "                }\n",
       "            </style>\n",
       "            "
      ],
      "text/plain": [
       "<IPython.core.display.HTML object>"
      ]
     },
     "metadata": {},
     "output_type": "display_data"
    },
    {
     "data": {
      "application/vnd.jupyter.widget-view+json": {
       "model_id": "7c48535b77a94bd1b85c4cca2ad2926b",
       "version_major": 2,
       "version_minor": 0
      },
      "text/plain": [
       "Map(center=[0, 0], controls=(WidgetControl(options=['position', 'transparent_bg'], widget=SearchDataGUI(childr…"
      ]
     },
     "execution_count": 6,
     "metadata": {},
     "output_type": "execute_result"
    }
   ],
   "source": [
    "m"
   ]
  },
  {
   "cell_type": "markdown",
   "metadata": {},
   "source": [
    "To customize the map, you can specify various keyword arguments, such as `center` ([lat, lon]), `zoom`, `width`, and `height`. The default `width` is `100%`, which takes up the entire cell width of the Jupyter notebook. The `height` argument accepts a number or a string. If a number is provided, it represents the height of the map in pixels. If a string is provided, the string must be in the format of a number followed by `px`, e.g., `600px`."
   ]
  },
  {
   "cell_type": "code",
   "execution_count": 7,
   "metadata": {},
   "outputs": [
    {
     "data": {
      "text/html": [
       "\n",
       "            <style>\n",
       "                .geemap-dark {\n",
       "                    --jp-widgets-color: white;\n",
       "                    --jp-widgets-label-color: white;\n",
       "                    --jp-ui-font-color1: white;\n",
       "                    --jp-layout-color2: #454545;\n",
       "                    background-color: #383838;\n",
       "                }\n",
       "                    \n",
       "                .geemap-dark .jupyter-button {\n",
       "                    --jp-layout-color3: #383838;\n",
       "                }\n",
       "                \n",
       "                .geemap-colab {\n",
       "                    background-color: var(--colab-primary-surface-color, white);\n",
       "                }\n",
       "                    \n",
       "                .geemap-colab .jupyter-button {\n",
       "                    --jp-layout-color3: var(--colab-primary-surface-color, white);\n",
       "                }\n",
       "            </style>\n",
       "            "
      ],
      "text/plain": [
       "<IPython.core.display.HTML object>"
      ]
     },
     "metadata": {},
     "output_type": "display_data"
    },
    {
     "data": {
      "application/vnd.jupyter.widget-view+json": {
       "model_id": "bc8e614a846a4015b51936c2cbb4d621",
       "version_major": 2,
       "version_minor": 0
      },
      "text/plain": [
       "Map(center=[40, -100], controls=(WidgetControl(options=['position', 'transparent_bg'], widget=SearchDataGUI(ch…"
      ]
     },
     "execution_count": 7,
     "metadata": {},
     "output_type": "execute_result"
    }
   ],
   "source": [
    "m = geemap.Map(center=[40, -100], zoom=4, height=600)\n",
    "m"
   ]
  },
  {
   "cell_type": "markdown",
   "metadata": {},
   "source": [
    "To hide a control, set `control_name` to `False`, e.g., `draw_ctrl=False`."
   ]
  },
  {
   "cell_type": "code",
   "execution_count": 8,
   "metadata": {},
   "outputs": [
    {
     "data": {
      "text/html": [
       "\n",
       "            <style>\n",
       "                .geemap-dark {\n",
       "                    --jp-widgets-color: white;\n",
       "                    --jp-widgets-label-color: white;\n",
       "                    --jp-ui-font-color1: white;\n",
       "                    --jp-layout-color2: #454545;\n",
       "                    background-color: #383838;\n",
       "                }\n",
       "                    \n",
       "                .geemap-dark .jupyter-button {\n",
       "                    --jp-layout-color3: #383838;\n",
       "                }\n",
       "                \n",
       "                .geemap-colab {\n",
       "                    background-color: var(--colab-primary-surface-color, white);\n",
       "                }\n",
       "                    \n",
       "                .geemap-colab .jupyter-button {\n",
       "                    --jp-layout-color3: var(--colab-primary-surface-color, white);\n",
       "                }\n",
       "            </style>\n",
       "            "
      ],
      "text/plain": [
       "<IPython.core.display.HTML object>"
      ]
     },
     "metadata": {},
     "output_type": "display_data"
    },
    {
     "data": {
      "application/vnd.jupyter.widget-view+json": {
       "model_id": "be137aadceda42e58de42bb6d99954b3",
       "version_major": 2,
       "version_minor": 0
      },
      "text/plain": [
       "Map(center=[0, 0], controls=(ZoomControl(options=['position', 'zoom_in_text', 'zoom_in_title', 'zoom_out_text'…"
      ]
     },
     "execution_count": 8,
     "metadata": {},
     "output_type": "execute_result"
    }
   ],
   "source": [
    "m = geemap.Map(data_ctrl=False, toolbar_ctrl=False, draw_ctrl=False)\n",
    "m"
   ]
  },
  {
   "cell_type": "markdown",
   "metadata": {},
   "source": [
    "### Adding basemaps\n",
    "\n",
    "There are several ways to add basemaps to a map. You can specify the basemap to use in the `basemap` keyword argument when creating the map. Alternatively, you can add basemap layers to the map using the `add_basemap` method. Geemap has hundreds of built-in basemaps available that can be easily added to the map with only one line of code.\n",
    "\n",
    "Create a map by specifying the basemap to use as follows. For example, the `Esri.WorldImagery` basemap represents the Esri world imagery basemap."
   ]
  },
  {
   "cell_type": "code",
   "execution_count": 9,
   "metadata": {},
   "outputs": [
    {
     "data": {
      "text/html": [
       "\n",
       "            <style>\n",
       "                .geemap-dark {\n",
       "                    --jp-widgets-color: white;\n",
       "                    --jp-widgets-label-color: white;\n",
       "                    --jp-ui-font-color1: white;\n",
       "                    --jp-layout-color2: #454545;\n",
       "                    background-color: #383838;\n",
       "                }\n",
       "                    \n",
       "                .geemap-dark .jupyter-button {\n",
       "                    --jp-layout-color3: #383838;\n",
       "                }\n",
       "                \n",
       "                .geemap-colab {\n",
       "                    background-color: var(--colab-primary-surface-color, white);\n",
       "                }\n",
       "                    \n",
       "                .geemap-colab .jupyter-button {\n",
       "                    --jp-layout-color3: var(--colab-primary-surface-color, white);\n",
       "                }\n",
       "            </style>\n",
       "            "
      ],
      "text/plain": [
       "<IPython.core.display.HTML object>"
      ]
     },
     "metadata": {},
     "output_type": "display_data"
    },
    {
     "data": {
      "application/vnd.jupyter.widget-view+json": {
       "model_id": "ae5fec835df24ab882613eb6b81b2063",
       "version_major": 2,
       "version_minor": 0
      },
      "text/plain": [
       "Map(center=[0, 0], controls=(WidgetControl(options=['position', 'transparent_bg'], widget=SearchDataGUI(childr…"
      ]
     },
     "execution_count": 9,
     "metadata": {},
     "output_type": "execute_result"
    }
   ],
   "source": [
    "m = geemap.Map(basemap='Esri.WorldImagery')\n",
    "m"
   ]
  },
  {
   "cell_type": "markdown",
   "metadata": {},
   "source": [
    "You can add as many basemaps as you like to the map. For example, the following code adds the `OpenTopoMap` basemap to the map above:"
   ]
  },
  {
   "cell_type": "code",
   "execution_count": null,
   "metadata": {},
   "outputs": [],
   "source": [
    "m.add_basemap('Esri.WorldTopoMap')"
   ]
  },
  {
   "cell_type": "code",
   "execution_count": null,
   "metadata": {},
   "outputs": [],
   "source": [
    "m.add_basemap('OpenTopoMap')"
   ]
  },
  {
   "cell_type": "markdown",
   "metadata": {},
   "source": [
    "Print out the first 10 basemaps:"
   ]
  },
  {
   "cell_type": "code",
   "execution_count": 11,
   "metadata": {},
   "outputs": [
    {
     "data": {
      "text/html": [
       "\n",
       "            <style>\n",
       "                .geemap-dark {\n",
       "                    --jp-widgets-color: white;\n",
       "                    --jp-widgets-label-color: white;\n",
       "                    --jp-ui-font-color1: white;\n",
       "                    --jp-layout-color2: #454545;\n",
       "                    background-color: #383838;\n",
       "                }\n",
       "                    \n",
       "                .geemap-dark .jupyter-button {\n",
       "                    --jp-layout-color3: #383838;\n",
       "                }\n",
       "                \n",
       "                .geemap-colab {\n",
       "                    background-color: var(--colab-primary-surface-color, white);\n",
       "                }\n",
       "                    \n",
       "                .geemap-colab .jupyter-button {\n",
       "                    --jp-layout-color3: var(--colab-primary-surface-color, white);\n",
       "                }\n",
       "            </style>\n",
       "            "
      ],
      "text/plain": [
       "<IPython.core.display.HTML object>"
      ]
     },
     "metadata": {},
     "output_type": "display_data"
    },
    {
     "data": {
      "text/plain": [
       "155"
      ]
     },
     "execution_count": 11,
     "metadata": {},
     "output_type": "execute_result"
    }
   ],
   "source": [
    "basemaps = list(geemap.basemaps.keys())\n",
    "len(geemap.basemaps)"
   ]
  },
  {
   "cell_type": "code",
   "execution_count": 12,
   "metadata": {},
   "outputs": [
    {
     "data": {
      "text/html": [
       "\n",
       "            <style>\n",
       "                .geemap-dark {\n",
       "                    --jp-widgets-color: white;\n",
       "                    --jp-widgets-label-color: white;\n",
       "                    --jp-ui-font-color1: white;\n",
       "                    --jp-layout-color2: #454545;\n",
       "                    background-color: #383838;\n",
       "                }\n",
       "                    \n",
       "                .geemap-dark .jupyter-button {\n",
       "                    --jp-layout-color3: #383838;\n",
       "                }\n",
       "                \n",
       "                .geemap-colab {\n",
       "                    background-color: var(--colab-primary-surface-color, white);\n",
       "                }\n",
       "                    \n",
       "                .geemap-colab .jupyter-button {\n",
       "                    --jp-layout-color3: var(--colab-primary-surface-color, white);\n",
       "                }\n",
       "            </style>\n",
       "            "
      ],
      "text/plain": [
       "<IPython.core.display.HTML object>"
      ]
     },
     "metadata": {},
     "output_type": "display_data"
    },
    {
     "data": {
      "text/plain": [
       "['OpenStreetMap',\n",
       " 'Esri.WorldStreetMap',\n",
       " 'Esri.WorldImagery',\n",
       " 'Esri.WorldTopoMap',\n",
       " 'FWS NWI Wetlands',\n",
       " 'FWS NWI Wetlands Raster',\n",
       " 'NLCD 2021 CONUS Land Cover',\n",
       " 'NLCD 2019 CONUS Land Cover',\n",
       " 'NLCD 2016 CONUS Land Cover',\n",
       " 'NLCD 2013 CONUS Land Cover']"
      ]
     },
     "execution_count": 12,
     "metadata": {},
     "output_type": "execute_result"
    }
   ],
   "source": [
    "basemaps[:10]"
   ]
  },
  {
   "cell_type": "markdown",
   "metadata": {},
   "source": [
    "You can also change basemaps interactively using the basemap GUI."
   ]
  },
  {
   "cell_type": "markdown",
   "metadata": {},
   "source": [
    "## Using Earth Engine data (30 mins)\n",
    "\n",
    "### Earth Engine data types (Image, ImageCollection, Geometry, Feature, FeatureCollection)\n",
    "\n",
    "Earth Engine objects are server-side objects rather than client-side objects, which means that they are not stored locally on your computer. Similar to video streaming services (e.g., YouTube, Netflix, and Hulu), which store videos/movies on their servers, Earth Engine data are stored on the Earth Engine servers. We can stream geospatial data from Earth Engine on-the-fly without having to download the data just like we can watch videos from streaming services using a web browser without having to download the entire video to your computer.\n",
    "\n",
    "-   **Image**: the fundamental raster data type in Earth Engine.\n",
    "-   **ImageCollection**: a stack or time-series of images.\n",
    "-   **Geometry**: the fundamental vector data type in Earth Engine.\n",
    "-   **Feature**: a Geometry with attributes.\n",
    "-   **FeatureCollection**: a set of features.\n",
    "\n",
    "### Image\n",
    "\n",
    "Raster data in Earth Engine are represented as **Image** objects. Images are composed of one or more bands and each band has its own name, data type, scale, mask and projection. Each image has metadata stored as a set of properties.\n",
    "\n",
    "#### Loading Earth Engine images"
   ]
  },
  {
   "cell_type": "code",
   "execution_count": 13,
   "metadata": {},
   "outputs": [
    {
     "data": {
      "text/html": [
       "\n",
       "            <style>\n",
       "                .geemap-dark {\n",
       "                    --jp-widgets-color: white;\n",
       "                    --jp-widgets-label-color: white;\n",
       "                    --jp-ui-font-color1: white;\n",
       "                    --jp-layout-color2: #454545;\n",
       "                    background-color: #383838;\n",
       "                }\n",
       "                    \n",
       "                .geemap-dark .jupyter-button {\n",
       "                    --jp-layout-color3: #383838;\n",
       "                }\n",
       "                \n",
       "                .geemap-colab {\n",
       "                    background-color: var(--colab-primary-surface-color, white);\n",
       "                }\n",
       "                    \n",
       "                .geemap-colab .jupyter-button {\n",
       "                    --jp-layout-color3: var(--colab-primary-surface-color, white);\n",
       "                }\n",
       "            </style>\n",
       "            "
      ],
      "text/plain": [
       "<IPython.core.display.HTML object>"
      ]
     },
     "metadata": {},
     "output_type": "display_data"
    },
    {
     "data": {
      "text/html": [
       "<div><style>:root {\n",
       "  --font-color-primary: var(--jp-content-font-color0, rgba(0, 0, 0, 1));\n",
       "  --font-color-secondary: var(--jp-content-font-color2, rgba(0, 0, 0, 0.6));\n",
       "  --font-color-accent: rgba(123, 31, 162, 1);\n",
       "  --border-color: var(--jp-border-color2, #e0e0e0);\n",
       "  --background-color: var(--jp-layout-color0, white);\n",
       "  --background-color-row-even: var(--jp-layout-color1, white);\n",
       "  --background-color-row-odd: var(--jp-layout-color2, #eeeeee);\n",
       "}\n",
       "\n",
       "html[theme=\"dark\"],\n",
       "body[data-theme=\"dark\"],\n",
       "body.vscode-dark {\n",
       "  --font-color-primary: rgba(255, 255, 255, 1);\n",
       "  --font-color-secondary: rgba(255, 255, 255, 0.6);\n",
       "  --font-color-accent: rgb(173, 132, 190);\n",
       "  --border-color: #2e2e2e;\n",
       "  --background-color: #111111;\n",
       "  --background-color-row-even: #111111;\n",
       "  --background-color-row-odd: #313131;\n",
       "}\n",
       "\n",
       ".ee {\n",
       "  padding: 1em;\n",
       "  line-height: 1.5em;\n",
       "  min-width: 300px;\n",
       "  max-width: 1200px;\n",
       "  overflow-y: scroll;\n",
       "  max-height: 600px;\n",
       "  border: 1px solid var(--border-color);\n",
       "  font-family: monospace;\n",
       "}\n",
       "\n",
       ".ee li {\n",
       "  list-style-type: none;\n",
       "}\n",
       "\n",
       ".ee ul {\n",
       "  padding-left: 1.5em !important;\n",
       "  margin: 0;\n",
       "}\n",
       "\n",
       ".ee > ul {\n",
       "  padding-left: 0 !important;\n",
       "}\n",
       "\n",
       ".ee-open,\n",
       ".ee-shut {\n",
       "  color: var(--font-color-secondary);\n",
       "  cursor: pointer;\n",
       "  margin: 0;\n",
       "}\n",
       "\n",
       ".ee-open:hover,\n",
       ".ee-shut:hover {\n",
       "  color: var(--font-color-primary);\n",
       "}\n",
       "\n",
       ".ee-k {\n",
       "  color: var(--font-color-accent);\n",
       "  margin-right: 6px;\n",
       "}\n",
       "\n",
       ".ee-v {\n",
       "  color: var(--font-color-primary);\n",
       "}\n",
       "\n",
       ".ee-toggle {\n",
       "  display: none;\n",
       "}\n",
       "\n",
       ".ee-shut + ul {\n",
       "  display: none;\n",
       "}\n",
       "\n",
       ".ee-open + ul {\n",
       "  display: block;\n",
       "}\n",
       "\n",
       ".ee-shut::before {\n",
       "  display: inline-block;\n",
       "  content: \"▼\";\n",
       "  margin-right: 6px;\n",
       "  transform: rotate(-90deg);\n",
       "  transition: transform 0.2s;\n",
       "}\n",
       "\n",
       ".ee-open::before {\n",
       "  transform: rotate(0deg);\n",
       "  display: inline-block;\n",
       "  content: \"▼\";\n",
       "  margin-right: 6px;\n",
       "  transition: transform 0.2s;\n",
       "}\n",
       "</style><div class='ee'><ul><li><label class='ee-shut'>Image USGS/SRTMGL1_003 (1 band)<input type='checkbox' class='ee-toggle'></label><ul><li><span class='ee-k'>type:</span><span class='ee-v'>Image</span></li><li><span class='ee-k'>id:</span><span class='ee-v'>USGS/SRTMGL1_003</span></li><li><span class='ee-k'>version:</span><span class='ee-v'>1641990767055141</span></li><li><label class='ee-shut'>bands: List (1 element)<input type='checkbox' class='ee-toggle'></label><ul><li><label class='ee-shut'>0: \"elevation\", signed int16, EPSG:4326, 1296001x417601 px<input type='checkbox' class='ee-toggle'></label><ul><li><span class='ee-k'>id:</span><span class='ee-v'>elevation</span></li><li><span class='ee-k'>crs:</span><span class='ee-v'>EPSG:4326</span></li><li><label class='ee-shut'>crs_transform: List (6 elements)<input type='checkbox' class='ee-toggle'></label><ul><li><span class='ee-k'>0:</span><span class='ee-v'>0.0002777777777777778</span></li><li><span class='ee-k'>1:</span><span class='ee-v'>0</span></li><li><span class='ee-k'>2:</span><span class='ee-v'>-180.0001388888889</span></li><li><span class='ee-k'>3:</span><span class='ee-v'>0</span></li><li><span class='ee-k'>4:</span><span class='ee-v'>-0.0002777777777777778</span></li><li><span class='ee-k'>5:</span><span class='ee-v'>60.00013888888889</span></li></ul></li><li><label class='ee-shut'>data_type: signed int16<input type='checkbox' class='ee-toggle'></label><ul><li><span class='ee-k'>type:</span><span class='ee-v'>PixelType</span></li><li><span class='ee-k'>max:</span><span class='ee-v'>32767</span></li><li><span class='ee-k'>min:</span><span class='ee-v'>-32768</span></li><li><span class='ee-k'>precision:</span><span class='ee-v'>int</span></li></ul></li><li><label class='ee-shut'>dimensions: [1296001, 417601]<input type='checkbox' class='ee-toggle'></label><ul><li><span class='ee-k'>0:</span><span class='ee-v'>1296001</span></li><li><span class='ee-k'>1:</span><span class='ee-v'>417601</span></li></ul></li></ul></li></ul></li><li><label class='ee-shut'>properties: Object (24 properties)<input type='checkbox' class='ee-toggle'></label><ul><li><label class='ee-shut'>date_range: [950227200000, 951177600000]<input type='checkbox' class='ee-toggle'></label><ul><li><span class='ee-k'>0:</span><span class='ee-v'>950227200000</span></li><li><span class='ee-k'>1:</span><span class='ee-v'>951177600000</span></li></ul></li><li><span class='ee-k'>description:</span><span class='ee-v'><p>The Shuttle Radar Topography Mission (SRTM, see <a href=\"https://onlinelibrary.wiley.com/doi/10.1029/2005RG000183/full\">Farr\n",
       "et al. 2007</a>)\n",
       "digital elevation data is an international research effort that\n",
       "obtained digital elevation models on a near-global scale. This\n",
       "SRTM V3 product (SRTM Plus) is provided by NASA JPL\n",
       "at a resolution of 1 arc-second (approximately 30m).</p><p>This dataset has undergone a void-filling process using open-source data\n",
       "(ASTER GDEM2, GMTED2010, and NED), as opposed to other versions that\n",
       "contain voids or have been void-filled with commercial sources.\n",
       "For more information on the different versions see the\n",
       "<a href=\"https://lpdaac.usgs.gov/documents/13/SRTM_Quick_Guide.pdf\">SRTM Quick Guide</a>.</p><p>Documentation:</p><ul><li><p><a href=\"https://lpdaac.usgs.gov/documents/179/SRTM_User_Guide_V3.pdf\">User&#39;s Guide</a></p></li><li><p><a href=\"https://lpdaac.usgs.gov/documents/13/SRTM_Quick_Guide.pdf\">General Documentation</a></p></li><li><p><a href=\"https://doi.org/10.1029/2005RG000183\">Algorithm Theoretical Basis Document (ATBD)</a></p></li></ul><p><b>Provider: <a href=\"https://cmr.earthdata.nasa.gov/search/concepts/C1000000240-LPDAAC_ECS.html\">NASA / USGS / JPL-Caltech</a></b><br><p><b>Bands</b><table class=\"eecat\"><tr><th scope=\"col\">Name</th><th scope=\"col\">Description</th></tr><tr><td>elevation</td><td><p>Elevation</p></td></tr></table><p><b>Terms of Use</b><br><p>Unless otherwise noted, images and video on JPL public\n",
       "web sites (public sites ending with a jpl.nasa.gov address) may\n",
       "be used for any purpose without prior permission. For more information\n",
       "and exceptions visit the <a href=\"https://www.jpl.nasa.gov/imagepolicy/\">JPL Image Use Policy site</a>.</p><p><b>Suggested citation(s)</b><ul><li><p>Farr, T.G., Rosen, P.A., Caro, E., Crippen, R., Duren, R., Hensley,\n",
       "S., Kobrick, M., Paller, M., Rodriguez, E., Roth, L., Seal, D.,\n",
       "Shaffer, S., Shimada, J., Umland, J., Werner, M., Oskin, M., Burbank,\n",
       "D., and Alsdorf, D.E., 2007, The shuttle radar topography mission:\n",
       "Reviews of Geophysics, v. 45, no. 2, RG2004, at\n",
       "<a href=\"https://doi.org/10.1029/2005RG000183\">https://doi.org/10.1029/2005RG000183</a>.</p></li></ul><style>\n",
       "  table.eecat {\n",
       "  border: 1px solid black;\n",
       "  border-collapse: collapse;\n",
       "  font-size: 13px;\n",
       "  }\n",
       "  table.eecat td, tr, th {\n",
       "  text-align: left; vertical-align: top;\n",
       "  border: 1px solid gray; padding: 3px;\n",
       "  }\n",
       "  td.nobreak { white-space: nowrap; }\n",
       "</style></span></li><li><label class='ee-shut'>keywords: List (7 elements)<input type='checkbox' class='ee-toggle'></label><ul><li><span class='ee-k'>0:</span><span class='ee-v'>dem</span></li><li><span class='ee-k'>1:</span><span class='ee-v'>elevation</span></li><li><span class='ee-k'>2:</span><span class='ee-v'>geophysical</span></li><li><span class='ee-k'>3:</span><span class='ee-v'>nasa</span></li><li><span class='ee-k'>4:</span><span class='ee-v'>srtm</span></li><li><span class='ee-k'>5:</span><span class='ee-v'>topography</span></li><li><span class='ee-k'>6:</span><span class='ee-v'>usgs</span></li></ul></li><li><span class='ee-k'>period:</span><span class='ee-v'>0</span></li><li><label class='ee-shut'>product_tags: List (5 elements)<input type='checkbox' class='ee-toggle'></label><ul><li><span class='ee-k'>0:</span><span class='ee-v'>srtm</span></li><li><span class='ee-k'>1:</span><span class='ee-v'>elevation</span></li><li><span class='ee-k'>2:</span><span class='ee-v'>topography</span></li><li><span class='ee-k'>3:</span><span class='ee-v'>dem</span></li><li><span class='ee-k'>4:</span><span class='ee-v'>geophysical</span></li></ul></li><li><span class='ee-k'>provider:</span><span class='ee-v'>NASA / USGS / JPL-Caltech</span></li><li><span class='ee-k'>provider_url:</span><span class='ee-v'>https://cmr.earthdata.nasa.gov/search/concepts/C1000000240-LPDAAC_ECS.html</span></li><li><span class='ee-k'>sample:</span><span class='ee-v'>https://mw1.google.com/ges/dd/images/SRTM90_V4_sample.png</span></li><li><label class='ee-shut'>source_tags: ['nasa', 'usgs']<input type='checkbox' class='ee-toggle'></label><ul><li><span class='ee-k'>0:</span><span class='ee-v'>nasa</span></li><li><span class='ee-k'>1:</span><span class='ee-v'>usgs</span></li></ul></li><li><span class='ee-k'>system:asset_size:</span><span class='ee-v'>132792638252</span></li><li><span class='ee-k'>system:visualization_0_bands:</span><span class='ee-v'>elevation</span></li><li><span class='ee-k'>system:visualization_0_gamma:</span><span class='ee-v'>1.6</span></li><li><span class='ee-k'>system:visualization_0_max:</span><span class='ee-v'>6000.0</span></li><li><span class='ee-k'>system:visualization_0_min:</span><span class='ee-v'>0.0</span></li><li><span class='ee-k'>system:visualization_0_name:</span><span class='ee-v'>Elevation</span></li><li><label class='ee-shut'>tags: List (7 elements)<input type='checkbox' class='ee-toggle'></label><ul><li><span class='ee-k'>0:</span><span class='ee-v'>dem</span></li><li><span class='ee-k'>1:</span><span class='ee-v'>elevation</span></li><li><span class='ee-k'>2:</span><span class='ee-v'>geophysical</span></li><li><span class='ee-k'>3:</span><span class='ee-v'>nasa</span></li><li><span class='ee-k'>4:</span><span class='ee-v'>srtm</span></li><li><span class='ee-k'>5:</span><span class='ee-v'>topography</span></li><li><span class='ee-k'>6:</span><span class='ee-v'>usgs</span></li></ul></li><li><span class='ee-k'>thumb:</span><span class='ee-v'>https://mw1.google.com/ges/dd/images/SRTM90_V4_thumb.png</span></li><li><span class='ee-k'>title:</span><span class='ee-v'>NASA SRTM Digital Elevation 30m</span></li><li><span class='ee-k'>type_name:</span><span class='ee-v'>Image</span></li><li><span class='ee-k'>visualization_0_bands:</span><span class='ee-v'>elevation</span></li><li><span class='ee-k'>visualization_0_gamma:</span><span class='ee-v'>1.6</span></li><li><span class='ee-k'>visualization_0_max:</span><span class='ee-v'>6000.0</span></li><li><span class='ee-k'>visualization_0_min:</span><span class='ee-v'>0.0</span></li><li><span class='ee-k'>visualization_0_name:</span><span class='ee-v'>Elevation</span></li></ul></li></ul></li></ul></div><script>function toggleHeader() {\n",
       "    const parent = this.parentElement;\n",
       "    parent.className = parent.className === \"ee-open\" ? \"ee-shut\" : \"ee-open\";\n",
       "}\n",
       "\n",
       "for (let c of document.getElementsByClassName(\"ee-toggle\")) {\n",
       "    c.onclick = toggleHeader;\n",
       "}</script></div>"
      ],
      "text/plain": [
       "<ee.image.Image at 0x163ddc310>"
      ]
     },
     "execution_count": 13,
     "metadata": {},
     "output_type": "execute_result"
    }
   ],
   "source": [
    "image = ee.Image('USGS/SRTMGL1_003')\n",
    "image"
   ]
  },
  {
   "cell_type": "markdown",
   "metadata": {},
   "source": [
    "#### Visualizing Earth Engine images"
   ]
  },
  {
   "cell_type": "code",
   "execution_count": 14,
   "metadata": {},
   "outputs": [
    {
     "data": {
      "text/html": [
       "\n",
       "            <style>\n",
       "                .geemap-dark {\n",
       "                    --jp-widgets-color: white;\n",
       "                    --jp-widgets-label-color: white;\n",
       "                    --jp-ui-font-color1: white;\n",
       "                    --jp-layout-color2: #454545;\n",
       "                    background-color: #383838;\n",
       "                }\n",
       "                    \n",
       "                .geemap-dark .jupyter-button {\n",
       "                    --jp-layout-color3: #383838;\n",
       "                }\n",
       "                \n",
       "                .geemap-colab {\n",
       "                    background-color: var(--colab-primary-surface-color, white);\n",
       "                }\n",
       "                    \n",
       "                .geemap-colab .jupyter-button {\n",
       "                    --jp-layout-color3: var(--colab-primary-surface-color, white);\n",
       "                }\n",
       "            </style>\n",
       "            "
      ],
      "text/plain": [
       "<IPython.core.display.HTML object>"
      ]
     },
     "metadata": {},
     "output_type": "display_data"
    },
    {
     "data": {
      "application/vnd.jupyter.widget-view+json": {
       "model_id": "5b99370cae154c46a5a4993590b7a817",
       "version_major": 2,
       "version_minor": 0
      },
      "text/plain": [
       "Map(center=[21.79, 70.87], controls=(WidgetControl(options=['position', 'transparent_bg'], widget=SearchDataGU…"
      ]
     },
     "execution_count": 14,
     "metadata": {},
     "output_type": "execute_result"
    }
   ],
   "source": [
    "m = geemap.Map(center=[21.79, 70.87], zoom=3)\n",
    "image = ee.Image('USGS/SRTMGL1_003')\n",
    "vis_params = {\n",
    "    'min': 0,\n",
    "    'max': 6000,\n",
    "    'palette': ['006633', 'E5FFCC', '662A00', 'D8D8D8', 'F5F5F5'], # 'terrain'\n",
    "}\n",
    "m.add_layer(image, vis_params, 'SRTM')\n",
    "m"
   ]
  },
  {
   "cell_type": "markdown",
   "metadata": {},
   "source": [
    "### ImageCollection\n",
    "\n",
    "An `ImageCollection` is a stack or sequence of images. An `ImageCollection` can be loaded by passing an Earth Engine asset ID into the `ImageCollection` constructor. You can find `ImageCollection` IDs in the [Earth Engine Data Catalog](https://developers.google.com/earth-engine/datasets).\n",
    "\n",
    "#### Loading image collections\n",
    "\n",
    "For example, to load the image collection of the [Sentinel-2 surface reflectance](https://developers.google.com/earth-engine/datasets/catalog/COPERNICUS_S2_SR):"
   ]
  },
  {
   "cell_type": "code",
   "execution_count": 15,
   "metadata": {},
   "outputs": [
    {
     "data": {
      "text/html": [
       "\n",
       "            <style>\n",
       "                .geemap-dark {\n",
       "                    --jp-widgets-color: white;\n",
       "                    --jp-widgets-label-color: white;\n",
       "                    --jp-ui-font-color1: white;\n",
       "                    --jp-layout-color2: #454545;\n",
       "                    background-color: #383838;\n",
       "                }\n",
       "                    \n",
       "                .geemap-dark .jupyter-button {\n",
       "                    --jp-layout-color3: #383838;\n",
       "                }\n",
       "                \n",
       "                .geemap-colab {\n",
       "                    background-color: var(--colab-primary-surface-color, white);\n",
       "                }\n",
       "                    \n",
       "                .geemap-colab .jupyter-button {\n",
       "                    --jp-layout-color3: var(--colab-primary-surface-color, white);\n",
       "                }\n",
       "            </style>\n",
       "            "
      ],
      "text/plain": [
       "<IPython.core.display.HTML object>"
      ]
     },
     "metadata": {},
     "output_type": "display_data"
    }
   ],
   "source": [
    "collection = ee.ImageCollection('COPERNICUS/S2_SR')"
   ]
  },
  {
   "cell_type": "markdown",
   "metadata": {},
   "source": [
    "#### Visualizing image collections\n",
    "\n",
    "To visualize an Earth Engine **ImageCollection**, we need to convert an **ImageCollection** to an **Image** by compositing all the images in the collection to a single image representing, for example, the min, max, median, mean or standard deviation of the images. For example, to create a median value image from a collection, use the `collection.median()` method. Let's create a median image from the Sentinel-2 surface reflectance collection:"
   ]
  },
  {
   "cell_type": "code",
   "execution_count": 16,
   "metadata": {},
   "outputs": [
    {
     "data": {
      "text/html": [
       "\n",
       "            <style>\n",
       "                .geemap-dark {\n",
       "                    --jp-widgets-color: white;\n",
       "                    --jp-widgets-label-color: white;\n",
       "                    --jp-ui-font-color1: white;\n",
       "                    --jp-layout-color2: #454545;\n",
       "                    background-color: #383838;\n",
       "                }\n",
       "                    \n",
       "                .geemap-dark .jupyter-button {\n",
       "                    --jp-layout-color3: #383838;\n",
       "                }\n",
       "                \n",
       "                .geemap-colab {\n",
       "                    background-color: var(--colab-primary-surface-color, white);\n",
       "                }\n",
       "                    \n",
       "                .geemap-colab .jupyter-button {\n",
       "                    --jp-layout-color3: var(--colab-primary-surface-color, white);\n",
       "                }\n",
       "            </style>\n",
       "            "
      ],
      "text/plain": [
       "<IPython.core.display.HTML object>"
      ]
     },
     "metadata": {},
     "output_type": "display_data"
    },
    {
     "data": {
      "application/vnd.jupyter.widget-view+json": {
       "model_id": "31d5ceebd47e4a33b0779de8a527810e",
       "version_major": 2,
       "version_minor": 0
      },
      "text/plain": [
       "Map(center=[17.7009, 83.277], controls=(WidgetControl(options=['position', 'transparent_bg'], widget=SearchDat…"
      ]
     },
     "execution_count": 16,
     "metadata": {},
     "output_type": "execute_result"
    }
   ],
   "source": [
    "m = geemap.Map()\n",
    "collection = ee.ImageCollection('COPERNICUS/S2_SR')\n",
    "image = collection.median()\n",
    "\n",
    "vis = {\n",
    "    'min': 0.0,\n",
    "    'max': 3000,\n",
    "    'bands': ['B4', 'B3', 'B2'],\n",
    "}\n",
    "\n",
    "m.set_center(83.277, 17.7009, 12)\n",
    "m.add_layer(image, vis, 'Sentinel-2')\n",
    "m"
   ]
  },
  {
   "cell_type": "markdown",
   "metadata": {},
   "source": [
    "#### Filtering image collections"
   ]
  },
  {
   "cell_type": "code",
   "execution_count": 17,
   "metadata": {},
   "outputs": [
    {
     "data": {
      "text/html": [
       "\n",
       "            <style>\n",
       "                .geemap-dark {\n",
       "                    --jp-widgets-color: white;\n",
       "                    --jp-widgets-label-color: white;\n",
       "                    --jp-ui-font-color1: white;\n",
       "                    --jp-layout-color2: #454545;\n",
       "                    background-color: #383838;\n",
       "                }\n",
       "                    \n",
       "                .geemap-dark .jupyter-button {\n",
       "                    --jp-layout-color3: #383838;\n",
       "                }\n",
       "                \n",
       "                .geemap-colab {\n",
       "                    background-color: var(--colab-primary-surface-color, white);\n",
       "                }\n",
       "                    \n",
       "                .geemap-colab .jupyter-button {\n",
       "                    --jp-layout-color3: var(--colab-primary-surface-color, white);\n",
       "                }\n",
       "            </style>\n",
       "            "
      ],
      "text/plain": [
       "<IPython.core.display.HTML object>"
      ]
     },
     "metadata": {},
     "output_type": "display_data"
    },
    {
     "data": {
      "application/vnd.jupyter.widget-view+json": {
       "model_id": "1fa89bd0737b4497a534d480db00f932",
       "version_major": 2,
       "version_minor": 0
      },
      "text/plain": [
       "Map(center=[17.7009, 83.277], controls=(WidgetControl(options=['position', 'transparent_bg'], widget=SearchDat…"
      ]
     },
     "execution_count": 17,
     "metadata": {},
     "output_type": "execute_result"
    }
   ],
   "source": [
    "m = geemap.Map()\n",
    "collection = (\n",
    "    ee.ImageCollection('COPERNICUS/S2_SR')\n",
    "    .filterDate('2021-01-01', '2022-01-01') # only images from 2021\n",
    "    .filter(ee.Filter.lt('CLOUDY_PIXEL_PERCENTAGE', 5)) # only images with less than 5% cloud cover\n",
    "        # see if the nightlights have a cloudy pixel percentage filter too\n",
    ")\n",
    "image = collection.median() # reduce with median -- no need for the imageReducer!\n",
    "\n",
    "vis = {\n",
    "    'min': 0.0,\n",
    "    'max': 3000,\n",
    "    'bands': ['B4', 'B3', 'B2'],\n",
    "}\n",
    "\n",
    "m.set_center(83.277, 17.7009, 12)\n",
    "m.add_layer(image, vis, 'Sentinel-2')\n",
    "m"
   ]
  },
  {
   "cell_type": "markdown",
   "metadata": {},
   "source": [
    "### FeatureCollection\n",
    "\n",
    "A **FeatureCollection** is a collection of Features. A FeatureCollection is analogous to a GeoJSON FeatureCollection object, i.e., a collection of features with associated properties/attributes. Data contained in a shapefile can be represented as a FeatureCollection.\n",
    "\n",
    "#### Loading feature collections\n",
    "\n",
    "The [Earth Engine Data Catalog](https://developers.google.com/earth-engine/datasets) hosts a variety of vector datasets (e.g,, US Census data, country boundaries, and more) as feature collections. You can find feature collection IDs by searching the data catalog. For example, to load the [TIGER roads data](https://developers.google.com/earth-engine/datasets/catalog/TIGER_2016_Roads) by the U.S. Census Bureau:"
   ]
  },
  {
   "cell_type": "code",
   "execution_count": 18,
   "metadata": {},
   "outputs": [
    {
     "data": {
      "text/html": [
       "\n",
       "            <style>\n",
       "                .geemap-dark {\n",
       "                    --jp-widgets-color: white;\n",
       "                    --jp-widgets-label-color: white;\n",
       "                    --jp-ui-font-color1: white;\n",
       "                    --jp-layout-color2: #454545;\n",
       "                    background-color: #383838;\n",
       "                }\n",
       "                    \n",
       "                .geemap-dark .jupyter-button {\n",
       "                    --jp-layout-color3: #383838;\n",
       "                }\n",
       "                \n",
       "                .geemap-colab {\n",
       "                    background-color: var(--colab-primary-surface-color, white);\n",
       "                }\n",
       "                    \n",
       "                .geemap-colab .jupyter-button {\n",
       "                    --jp-layout-color3: var(--colab-primary-surface-color, white);\n",
       "                }\n",
       "            </style>\n",
       "            "
      ],
      "text/plain": [
       "<IPython.core.display.HTML object>"
      ]
     },
     "metadata": {},
     "output_type": "display_data"
    },
    {
     "data": {
      "application/vnd.jupyter.widget-view+json": {
       "model_id": "f0b348018f8d467daa4fa002116c1d7f",
       "version_major": 2,
       "version_minor": 0
      },
      "text/plain": [
       "Map(center=[40.7688, -73.9596], controls=(WidgetControl(options=['position', 'transparent_bg'], widget=SearchD…"
      ]
     },
     "execution_count": 18,
     "metadata": {},
     "output_type": "execute_result"
    }
   ],
   "source": [
    "m = geemap.Map()\n",
    "fc = ee.FeatureCollection('TIGER/2016/Roads')\n",
    "m.set_center(-73.9596, 40.7688, 12)\n",
    "m.add_layer(fc, {}, 'Census roads')\n",
    "m"
   ]
  },
  {
   "cell_type": "markdown",
   "metadata": {},
   "source": [
    "#### Filtering feature collections"
   ]
  },
  {
   "cell_type": "code",
   "execution_count": 19,
   "metadata": {},
   "outputs": [
    {
     "data": {
      "text/html": [
       "\n",
       "            <style>\n",
       "                .geemap-dark {\n",
       "                    --jp-widgets-color: white;\n",
       "                    --jp-widgets-label-color: white;\n",
       "                    --jp-ui-font-color1: white;\n",
       "                    --jp-layout-color2: #454545;\n",
       "                    background-color: #383838;\n",
       "                }\n",
       "                    \n",
       "                .geemap-dark .jupyter-button {\n",
       "                    --jp-layout-color3: #383838;\n",
       "                }\n",
       "                \n",
       "                .geemap-colab {\n",
       "                    background-color: var(--colab-primary-surface-color, white);\n",
       "                }\n",
       "                    \n",
       "                .geemap-colab .jupyter-button {\n",
       "                    --jp-layout-color3: var(--colab-primary-surface-color, white);\n",
       "                }\n",
       "            </style>\n",
       "            "
      ],
      "text/plain": [
       "<IPython.core.display.HTML object>"
      ]
     },
     "metadata": {},
     "output_type": "display_data"
    },
    {
     "data": {
      "application/vnd.jupyter.widget-view+json": {
       "model_id": "b645beb6579240abb0f303d64524f398",
       "version_major": 2,
       "version_minor": 0
      },
      "text/plain": [
       "Map(center=[42.161779492134215, -71.49747297364661], controls=(WidgetControl(options=['position', 'transparent…"
      ]
     },
     "execution_count": 19,
     "metadata": {},
     "output_type": "execute_result"
    }
   ],
   "source": [
    "m = geemap.Map()\n",
    "states = ee.FeatureCollection('TIGER/2018/States')\n",
    "fc = states.filter(ee.Filter.eq('NAME', 'Massachusetts'))\n",
    "m.add_layer(fc, {}, 'Louisiana')\n",
    "m.center_object(fc, 7)\n",
    "m"
   ]
  },
  {
   "cell_type": "code",
   "execution_count": 20,
   "id": "64fb868d",
   "metadata": {},
   "outputs": [
    {
     "data": {
      "text/html": [
       "\n",
       "            <style>\n",
       "                .geemap-dark {\n",
       "                    --jp-widgets-color: white;\n",
       "                    --jp-widgets-label-color: white;\n",
       "                    --jp-ui-font-color1: white;\n",
       "                    --jp-layout-color2: #454545;\n",
       "                    background-color: #383838;\n",
       "                }\n",
       "                    \n",
       "                .geemap-dark .jupyter-button {\n",
       "                    --jp-layout-color3: #383838;\n",
       "                }\n",
       "                \n",
       "                .geemap-colab {\n",
       "                    background-color: var(--colab-primary-surface-color, white);\n",
       "                }\n",
       "                    \n",
       "                .geemap-colab .jupyter-button {\n",
       "                    --jp-layout-color3: var(--colab-primary-surface-color, white);\n",
       "                }\n",
       "            </style>\n",
       "            "
      ],
      "text/plain": [
       "<IPython.core.display.HTML object>"
      ]
     },
     "metadata": {},
     "output_type": "display_data"
    },
    {
     "data": {
      "text/html": [
       "<div>\n",
       "<style scoped>\n",
       "    .dataframe tbody tr th:only-of-type {\n",
       "        vertical-align: middle;\n",
       "    }\n",
       "\n",
       "    .dataframe tbody tr th {\n",
       "        vertical-align: top;\n",
       "    }\n",
       "\n",
       "    .dataframe thead th {\n",
       "        text-align: right;\n",
       "    }\n",
       "</style>\n",
       "<table border=\"1\" class=\"dataframe\">\n",
       "  <thead>\n",
       "    <tr style=\"text-align: right;\">\n",
       "      <th></th>\n",
       "      <th>ALAND</th>\n",
       "      <th>AWATER</th>\n",
       "      <th>DIVISION</th>\n",
       "      <th>FUNCSTAT</th>\n",
       "      <th>GEOID</th>\n",
       "      <th>INTPTLAT</th>\n",
       "      <th>INTPTLON</th>\n",
       "      <th>LSAD</th>\n",
       "      <th>MTFCC</th>\n",
       "      <th>NAME</th>\n",
       "      <th>REGION</th>\n",
       "      <th>STATEFP</th>\n",
       "      <th>STATENS</th>\n",
       "      <th>STUSPS</th>\n",
       "    </tr>\n",
       "  </thead>\n",
       "  <tbody>\n",
       "    <tr>\n",
       "      <th>0</th>\n",
       "      <td>348021896</td>\n",
       "      <td>1550236201</td>\n",
       "      <td>0</td>\n",
       "      <td>A</td>\n",
       "      <td>78</td>\n",
       "      <td>+18.3267480</td>\n",
       "      <td>-064.9712508</td>\n",
       "      <td>00</td>\n",
       "      <td>G4000</td>\n",
       "      <td>United States Virgin Islands</td>\n",
       "      <td>9</td>\n",
       "      <td>78</td>\n",
       "      <td>01802710</td>\n",
       "      <td>VI</td>\n",
       "    </tr>\n",
       "    <tr>\n",
       "      <th>1</th>\n",
       "      <td>472292529</td>\n",
       "      <td>4644252461</td>\n",
       "      <td>0</td>\n",
       "      <td>A</td>\n",
       "      <td>69</td>\n",
       "      <td>+14.9367835</td>\n",
       "      <td>+145.6010210</td>\n",
       "      <td>00</td>\n",
       "      <td>G4000</td>\n",
       "      <td>Commonwealth of the Northern Mariana Islands</td>\n",
       "      <td>9</td>\n",
       "      <td>69</td>\n",
       "      <td>01779809</td>\n",
       "      <td>MP</td>\n",
       "    </tr>\n",
       "    <tr>\n",
       "      <th>2</th>\n",
       "      <td>543555840</td>\n",
       "      <td>934337453</td>\n",
       "      <td>0</td>\n",
       "      <td>A</td>\n",
       "      <td>66</td>\n",
       "      <td>+13.4382886</td>\n",
       "      <td>+144.7729493</td>\n",
       "      <td>00</td>\n",
       "      <td>G4000</td>\n",
       "      <td>Guam</td>\n",
       "      <td>9</td>\n",
       "      <td>66</td>\n",
       "      <td>01802705</td>\n",
       "      <td>GU</td>\n",
       "    </tr>\n",
       "  </tbody>\n",
       "</table>\n",
       "</div>"
      ],
      "text/plain": [
       "       ALAND      AWATER DIVISION FUNCSTAT GEOID     INTPTLAT      INTPTLON  \\\n",
       "0  348021896  1550236201        0        A    78  +18.3267480  -064.9712508   \n",
       "1  472292529  4644252461        0        A    69  +14.9367835  +145.6010210   \n",
       "2  543555840   934337453        0        A    66  +13.4382886  +144.7729493   \n",
       "\n",
       "  LSAD  MTFCC                                          NAME REGION STATEFP  \\\n",
       "0   00  G4000                  United States Virgin Islands      9      78   \n",
       "1   00  G4000  Commonwealth of the Northern Mariana Islands      9      69   \n",
       "2   00  G4000                                          Guam      9      66   \n",
       "\n",
       "    STATENS STUSPS  \n",
       "0  01802710     VI  \n",
       "1  01779809     MP  \n",
       "2  01802705     GU  "
      ]
     },
     "execution_count": 20,
     "metadata": {},
     "output_type": "execute_result"
    }
   ],
   "source": [
    "# export attribute table to pandas df\n",
    "geemap.ee_to_df(states.limit(3))"
   ]
  },
  {
   "cell_type": "code",
   "execution_count": 21,
   "metadata": {},
   "outputs": [
    {
     "data": {
      "text/html": [
       "\n",
       "            <style>\n",
       "                .geemap-dark {\n",
       "                    --jp-widgets-color: white;\n",
       "                    --jp-widgets-label-color: white;\n",
       "                    --jp-ui-font-color1: white;\n",
       "                    --jp-layout-color2: #454545;\n",
       "                    background-color: #383838;\n",
       "                }\n",
       "                    \n",
       "                .geemap-dark .jupyter-button {\n",
       "                    --jp-layout-color3: #383838;\n",
       "                }\n",
       "                \n",
       "                .geemap-colab {\n",
       "                    background-color: var(--colab-primary-surface-color, white);\n",
       "                }\n",
       "                    \n",
       "                .geemap-colab .jupyter-button {\n",
       "                    --jp-layout-color3: var(--colab-primary-surface-color, white);\n",
       "                }\n",
       "            </style>\n",
       "            "
      ],
      "text/plain": [
       "<IPython.core.display.HTML object>"
      ]
     },
     "metadata": {},
     "output_type": "display_data"
    },
    {
     "data": {
      "text/html": [
       "<div><style>:root {\n",
       "  --font-color-primary: var(--jp-content-font-color0, rgba(0, 0, 0, 1));\n",
       "  --font-color-secondary: var(--jp-content-font-color2, rgba(0, 0, 0, 0.6));\n",
       "  --font-color-accent: rgba(123, 31, 162, 1);\n",
       "  --border-color: var(--jp-border-color2, #e0e0e0);\n",
       "  --background-color: var(--jp-layout-color0, white);\n",
       "  --background-color-row-even: var(--jp-layout-color1, white);\n",
       "  --background-color-row-odd: var(--jp-layout-color2, #eeeeee);\n",
       "}\n",
       "\n",
       "html[theme=\"dark\"],\n",
       "body[data-theme=\"dark\"],\n",
       "body.vscode-dark {\n",
       "  --font-color-primary: rgba(255, 255, 255, 1);\n",
       "  --font-color-secondary: rgba(255, 255, 255, 0.6);\n",
       "  --font-color-accent: rgb(173, 132, 190);\n",
       "  --border-color: #2e2e2e;\n",
       "  --background-color: #111111;\n",
       "  --background-color-row-even: #111111;\n",
       "  --background-color-row-odd: #313131;\n",
       "}\n",
       "\n",
       ".ee {\n",
       "  padding: 1em;\n",
       "  line-height: 1.5em;\n",
       "  min-width: 300px;\n",
       "  max-width: 1200px;\n",
       "  overflow-y: scroll;\n",
       "  max-height: 600px;\n",
       "  border: 1px solid var(--border-color);\n",
       "  font-family: monospace;\n",
       "}\n",
       "\n",
       ".ee li {\n",
       "  list-style-type: none;\n",
       "}\n",
       "\n",
       ".ee ul {\n",
       "  padding-left: 1.5em !important;\n",
       "  margin: 0;\n",
       "}\n",
       "\n",
       ".ee > ul {\n",
       "  padding-left: 0 !important;\n",
       "}\n",
       "\n",
       ".ee-open,\n",
       ".ee-shut {\n",
       "  color: var(--font-color-secondary);\n",
       "  cursor: pointer;\n",
       "  margin: 0;\n",
       "}\n",
       "\n",
       ".ee-open:hover,\n",
       ".ee-shut:hover {\n",
       "  color: var(--font-color-primary);\n",
       "}\n",
       "\n",
       ".ee-k {\n",
       "  color: var(--font-color-accent);\n",
       "  margin-right: 6px;\n",
       "}\n",
       "\n",
       ".ee-v {\n",
       "  color: var(--font-color-primary);\n",
       "}\n",
       "\n",
       ".ee-toggle {\n",
       "  display: none;\n",
       "}\n",
       "\n",
       ".ee-shut + ul {\n",
       "  display: none;\n",
       "}\n",
       "\n",
       ".ee-open + ul {\n",
       "  display: block;\n",
       "}\n",
       "\n",
       ".ee-shut::before {\n",
       "  display: inline-block;\n",
       "  content: \"▼\";\n",
       "  margin-right: 6px;\n",
       "  transform: rotate(-90deg);\n",
       "  transition: transform 0.2s;\n",
       "}\n",
       "\n",
       ".ee-open::before {\n",
       "  transform: rotate(0deg);\n",
       "  display: inline-block;\n",
       "  content: \"▼\";\n",
       "  margin-right: 6px;\n",
       "  transition: transform 0.2s;\n",
       "}\n",
       "</style><div class='ee'><ul><li><label class='ee-shut'>Object (14 properties)<input type='checkbox' class='ee-toggle'></label><ul><li><span class='ee-k'>ALAND:</span><span class='ee-v'>20205125364</span></li><li><span class='ee-k'>AWATER:</span><span class='ee-v'>7129925486</span></li><li><span class='ee-k'>DIVISION:</span><span class='ee-v'>1</span></li><li><span class='ee-k'>FUNCSTAT:</span><span class='ee-v'>A</span></li><li><span class='ee-k'>GEOID:</span><span class='ee-v'>25</span></li><li><span class='ee-k'>INTPTLAT:</span><span class='ee-v'>+42.1565196</span></li><li><span class='ee-k'>INTPTLON:</span><span class='ee-v'>-071.4895915</span></li><li><span class='ee-k'>LSAD:</span><span class='ee-v'>00</span></li><li><span class='ee-k'>MTFCC:</span><span class='ee-v'>G4000</span></li><li><span class='ee-k'>NAME:</span><span class='ee-v'>Massachusetts</span></li><li><span class='ee-k'>REGION:</span><span class='ee-v'>1</span></li><li><span class='ee-k'>STATEFP:</span><span class='ee-v'>25</span></li><li><span class='ee-k'>STATENS:</span><span class='ee-v'>00606926</span></li><li><span class='ee-k'>STUSPS:</span><span class='ee-v'>MA</span></li></ul></li></ul></div><script>function toggleHeader() {\n",
       "    const parent = this.parentElement;\n",
       "    parent.className = parent.className === \"ee-open\" ? \"ee-shut\" : \"ee-open\";\n",
       "}\n",
       "\n",
       "for (let c of document.getElementsByClassName(\"ee-toggle\")) {\n",
       "    c.onclick = toggleHeader;\n",
       "}</script></div>"
      ],
      "text/plain": [
       "<ee.dictionary.Dictionary at 0x1641a9dc0>"
      ]
     },
     "execution_count": 21,
     "metadata": {},
     "output_type": "execute_result"
    }
   ],
   "source": [
    "feat = fc.first()\n",
    "feat.toDictionary()"
   ]
  },
  {
   "cell_type": "code",
   "execution_count": 22,
   "metadata": {},
   "outputs": [
    {
     "data": {
      "text/html": [
       "\n",
       "            <style>\n",
       "                .geemap-dark {\n",
       "                    --jp-widgets-color: white;\n",
       "                    --jp-widgets-label-color: white;\n",
       "                    --jp-ui-font-color1: white;\n",
       "                    --jp-layout-color2: #454545;\n",
       "                    background-color: #383838;\n",
       "                }\n",
       "                    \n",
       "                .geemap-dark .jupyter-button {\n",
       "                    --jp-layout-color3: #383838;\n",
       "                }\n",
       "                \n",
       "                .geemap-colab {\n",
       "                    background-color: var(--colab-primary-surface-color, white);\n",
       "                }\n",
       "                    \n",
       "                .geemap-colab .jupyter-button {\n",
       "                    --jp-layout-color3: var(--colab-primary-surface-color, white);\n",
       "                }\n",
       "            </style>\n",
       "            "
      ],
      "text/plain": [
       "<IPython.core.display.HTML object>"
      ]
     },
     "metadata": {},
     "output_type": "display_data"
    },
    {
     "data": {
      "application/vnd.jupyter.widget-view+json": {
       "model_id": "2f516e45aed745c4a5709ee061dba356",
       "version_major": 2,
       "version_minor": 0
      },
      "text/plain": [
       "Map(center=[41.34849667120548, -120.04086128111338], controls=(WidgetControl(options=['position', 'transparent…"
      ]
     },
     "execution_count": 22,
     "metadata": {},
     "output_type": "execute_result"
    }
   ],
   "source": [
    "m = geemap.Map()\n",
    "states = ee.FeatureCollection('TIGER/2018/States')\n",
    "fc = states.filter(ee.Filter.inList('NAME', ['California', 'Oregon', 'Washington']))\n",
    "m.add_layer(fc, {}, 'West Coast')\n",
    "m.center_object(fc, 5)\n",
    "m"
   ]
  },
  {
   "cell_type": "code",
   "execution_count": 23,
   "metadata": {},
   "outputs": [
    {
     "data": {
      "text/html": [
       "\n",
       "            <style>\n",
       "                .geemap-dark {\n",
       "                    --jp-widgets-color: white;\n",
       "                    --jp-widgets-label-color: white;\n",
       "                    --jp-ui-font-color1: white;\n",
       "                    --jp-layout-color2: #454545;\n",
       "                    background-color: #383838;\n",
       "                }\n",
       "                    \n",
       "                .geemap-dark .jupyter-button {\n",
       "                    --jp-layout-color3: #383838;\n",
       "                }\n",
       "                \n",
       "                .geemap-colab {\n",
       "                    background-color: var(--colab-primary-surface-color, white);\n",
       "                }\n",
       "                    \n",
       "                .geemap-colab .jupyter-button {\n",
       "                    --jp-layout-color3: var(--colab-primary-surface-color, white);\n",
       "                }\n",
       "            </style>\n",
       "            "
      ],
      "text/plain": [
       "<IPython.core.display.HTML object>"
      ]
     },
     "metadata": {},
     "output_type": "display_data"
    }
   ],
   "source": [
    "region = m.user_roi\n",
    "if region is None:\n",
    "    region = ee.Geometry.BBox(-88.40, 29.88, -77.90, 35.39)\n",
    "\n",
    "fc = ee.FeatureCollection('TIGER/2018/States').filterBounds(region)\n",
    "m.add_layer(fc, {}, 'Southeastern U.S.')\n",
    "m.center_object(fc, 6)"
   ]
  },
  {
   "cell_type": "markdown",
   "metadata": {},
   "source": [
    "#### Visualizing feature collections"
   ]
  },
  {
   "cell_type": "code",
   "execution_count": 24,
   "metadata": {},
   "outputs": [
    {
     "data": {
      "text/html": [
       "\n",
       "            <style>\n",
       "                .geemap-dark {\n",
       "                    --jp-widgets-color: white;\n",
       "                    --jp-widgets-label-color: white;\n",
       "                    --jp-ui-font-color1: white;\n",
       "                    --jp-layout-color2: #454545;\n",
       "                    background-color: #383838;\n",
       "                }\n",
       "                    \n",
       "                .geemap-dark .jupyter-button {\n",
       "                    --jp-layout-color3: #383838;\n",
       "                }\n",
       "                \n",
       "                .geemap-colab {\n",
       "                    background-color: var(--colab-primary-surface-color, white);\n",
       "                }\n",
       "                    \n",
       "                .geemap-colab .jupyter-button {\n",
       "                    --jp-layout-color3: var(--colab-primary-surface-color, white);\n",
       "                }\n",
       "            </style>\n",
       "            "
      ],
      "text/plain": [
       "<IPython.core.display.HTML object>"
      ]
     },
     "metadata": {},
     "output_type": "display_data"
    },
    {
     "data": {
      "application/vnd.jupyter.widget-view+json": {
       "model_id": "f26b6656bb5b44ca88044ea3c27b4079",
       "version_major": 2,
       "version_minor": 0
      },
      "text/plain": [
       "Map(center=[40, -100], controls=(WidgetControl(options=['position', 'transparent_bg'], widget=SearchDataGUI(ch…"
      ]
     },
     "execution_count": 24,
     "metadata": {},
     "output_type": "execute_result"
    }
   ],
   "source": [
    "m = geemap.Map(center=[40, -100], zoom=4)\n",
    "states = ee.FeatureCollection(\"TIGER/2018/States\")\n",
    "m.add_layer(states, {}, \"US States\")\n",
    "m"
   ]
  },
  {
   "cell_type": "code",
   "execution_count": 25,
   "metadata": {},
   "outputs": [
    {
     "data": {
      "text/html": [
       "\n",
       "            <style>\n",
       "                .geemap-dark {\n",
       "                    --jp-widgets-color: white;\n",
       "                    --jp-widgets-label-color: white;\n",
       "                    --jp-ui-font-color1: white;\n",
       "                    --jp-layout-color2: #454545;\n",
       "                    background-color: #383838;\n",
       "                }\n",
       "                    \n",
       "                .geemap-dark .jupyter-button {\n",
       "                    --jp-layout-color3: #383838;\n",
       "                }\n",
       "                \n",
       "                .geemap-colab {\n",
       "                    background-color: var(--colab-primary-surface-color, white);\n",
       "                }\n",
       "                    \n",
       "                .geemap-colab .jupyter-button {\n",
       "                    --jp-layout-color3: var(--colab-primary-surface-color, white);\n",
       "                }\n",
       "            </style>\n",
       "            "
      ],
      "text/plain": [
       "<IPython.core.display.HTML object>"
      ]
     },
     "metadata": {},
     "output_type": "display_data"
    },
    {
     "data": {
      "application/vnd.jupyter.widget-view+json": {
       "model_id": "6d971b71ae1b4e52bd9682cd0e0528d0",
       "version_major": 2,
       "version_minor": 0
      },
      "text/plain": [
       "Map(center=[40, -100], controls=(WidgetControl(options=['position', 'transparent_bg'], widget=SearchDataGUI(ch…"
      ]
     },
     "execution_count": 25,
     "metadata": {},
     "output_type": "execute_result"
    }
   ],
   "source": [
    "m = geemap.Map(center=[40, -100], zoom=4)\n",
    "states = ee.FeatureCollection(\"TIGER/2018/States\")\n",
    "style = {'color': '0000ffff', 'width': 2, 'lineType': 'solid', 'fillColor': 'FF000080'}\n",
    "m.add_layer(states.style(**style), {}, \"US States\")\n",
    "m"
   ]
  },
  {
   "cell_type": "code",
   "execution_count": null,
   "metadata": {},
   "outputs": [],
   "source": [
    "m = geemap.Map(center=[40, -100], zoom=4)\n",
    "states = ee.FeatureCollection(\"TIGER/2018/States\")\n",
    "vis_params = {\n",
    "    'color': '000000',\n",
    "    'colorOpacity': 1,\n",
    "    'pointSize': 3,\n",
    "    'pointShape': 'circle',\n",
    "    'width': 2,\n",
    "    'lineType': 'solid',\n",
    "    'fillColorOpacity': 0.66,\n",
    "}\n",
    "palette = ['006633', 'E5FFCC', '662A00', 'D8D8D8', 'F5F5F5']\n",
    "m.add_styled_vector(\n",
    "    states, column=\"NAME\", palette=palette, layer_name=\"Styled vector\", **vis_params\n",
    ")\n",
    "m"
   ]
  },
  {
   "cell_type": "markdown",
   "metadata": {},
   "source": [
    "### Earth Engine Data Catalog\n",
    "\n",
    "The [Earth Engine Data Catalog](https://developers.google.com/earth-engine/datasets) hosts a variety of geospatial datasets. As of October 2023, the catalog contains over [1,000 datasets](https://github.com/opengeos/Earth-Engine-Catalog/blob/master/gee_catalog.tsv) with a total size of over 80 petabytes. Some notable datasets include: Landsat, Sentinel, MODIS, NAIP, etc. For a complete list of datasets in CSV or JSON formats, see the [Earth Engine Datasets List](https://github.com/giswqs/Earth-Engine-Catalog/blob/master/gee_catalog.tsv).\n",
    "\n",
    "#### Searching for datasets\n",
    "\n",
    "The [Earth Engine Data Catalog](https://developers.google.com/earth-engine/datasets/catalog) is searchable. You can search datasets by name, keyword, or tag. For example, enter \"elevation\" in the search box will filter the catalog to show only datasets containing \"elevation\" in their name, description, or tags. 52 datasets are returned for this search query. Scroll down the list to find the [NASA SRTM Digital Elevation 30m](https://developers.google.com/earth-engine/datasets/catalog/USGS_SRTMGL1_003#description) dataset. On each dataset page, you can find the following information, including Dataset Availability, Dataset Provider, Earth Engine Snippet, Tags, Description, Code Example, and more (see {numref}`ch03_gee_srtm`). One important piece of information is the Image/ImageCollection/FeatureCollection ID of each dataset, which is essential for accessing the dataset through the Earth Engine JavaScript or Python APIs.\n",
    "\n",
    "![](https://i.imgur.com/B3rf4QN.jpg)"
   ]
  },
  {
   "cell_type": "code",
   "execution_count": 26,
   "metadata": {},
   "outputs": [
    {
     "data": {
      "text/html": [
       "\n",
       "            <style>\n",
       "                .geemap-dark {\n",
       "                    --jp-widgets-color: white;\n",
       "                    --jp-widgets-label-color: white;\n",
       "                    --jp-ui-font-color1: white;\n",
       "                    --jp-layout-color2: #454545;\n",
       "                    background-color: #383838;\n",
       "                }\n",
       "                    \n",
       "                .geemap-dark .jupyter-button {\n",
       "                    --jp-layout-color3: #383838;\n",
       "                }\n",
       "                \n",
       "                .geemap-colab {\n",
       "                    background-color: var(--colab-primary-surface-color, white);\n",
       "                }\n",
       "                    \n",
       "                .geemap-colab .jupyter-button {\n",
       "                    --jp-layout-color3: var(--colab-primary-surface-color, white);\n",
       "                }\n",
       "            </style>\n",
       "            "
      ],
      "text/plain": [
       "<IPython.core.display.HTML object>"
      ]
     },
     "metadata": {},
     "output_type": "display_data"
    },
    {
     "data": {
      "application/vnd.jupyter.widget-view+json": {
       "model_id": "c1ecf3c44edf4e41810f3746e7da601d",
       "version_major": 2,
       "version_minor": 0
      },
      "text/plain": [
       "Map(center=[0, 0], controls=(WidgetControl(options=['position', 'transparent_bg'], widget=SearchDataGUI(childr…"
      ]
     },
     "execution_count": 26,
     "metadata": {},
     "output_type": "execute_result"
    }
   ],
   "source": [
    "m = geemap.Map()\n",
    "m"
   ]
  },
  {
   "cell_type": "code",
   "execution_count": 28,
   "metadata": {},
   "outputs": [
    {
     "data": {
      "text/html": [
       "\n",
       "            <style>\n",
       "                .geemap-dark {\n",
       "                    --jp-widgets-color: white;\n",
       "                    --jp-widgets-label-color: white;\n",
       "                    --jp-ui-font-color1: white;\n",
       "                    --jp-layout-color2: #454545;\n",
       "                    background-color: #383838;\n",
       "                }\n",
       "                    \n",
       "                .geemap-dark .jupyter-button {\n",
       "                    --jp-layout-color3: #383838;\n",
       "                }\n",
       "                \n",
       "                .geemap-colab {\n",
       "                    background-color: var(--colab-primary-surface-color, white);\n",
       "                }\n",
       "                    \n",
       "                .geemap-colab .jupyter-button {\n",
       "                    --jp-layout-color3: var(--colab-primary-surface-color, white);\n",
       "                }\n",
       "            </style>\n",
       "            "
      ],
      "text/plain": [
       "<IPython.core.display.HTML object>"
      ]
     },
     "metadata": {},
     "output_type": "display_data"
    }
   ],
   "source": [
    "dataset_xyz = ee.Image('USGS/SRTMGL1_003')\n",
    "m.add_layer(dataset_xyz, {}, \"USGS/SRTMGL1_003\")"
   ]
  },
  {
   "cell_type": "code",
   "execution_count": 29,
   "metadata": {},
   "outputs": [
    {
     "data": {
      "text/html": [
       "\n",
       "            <style>\n",
       "                .geemap-dark {\n",
       "                    --jp-widgets-color: white;\n",
       "                    --jp-widgets-label-color: white;\n",
       "                    --jp-ui-font-color1: white;\n",
       "                    --jp-layout-color2: #454545;\n",
       "                    background-color: #383838;\n",
       "                }\n",
       "                    \n",
       "                .geemap-dark .jupyter-button {\n",
       "                    --jp-layout-color3: #383838;\n",
       "                }\n",
       "                \n",
       "                .geemap-colab {\n",
       "                    background-color: var(--colab-primary-surface-color, white);\n",
       "                }\n",
       "                    \n",
       "                .geemap-colab .jupyter-button {\n",
       "                    --jp-layout-color3: var(--colab-primary-surface-color, white);\n",
       "                }\n",
       "            </style>\n",
       "            "
      ],
      "text/plain": [
       "<IPython.core.display.HTML object>"
      ]
     },
     "metadata": {},
     "output_type": "display_data"
    },
    {
     "data": {
      "application/vnd.jupyter.widget-view+json": {
       "model_id": "49c40dc98a2d401a83ce75b30ede6219",
       "version_major": 2,
       "version_minor": 0
      },
      "text/plain": [
       "Map(center=[0, 0], controls=(WidgetControl(options=['position', 'transparent_bg'], widget=SearchDataGUI(childr…"
      ]
     },
     "execution_count": 29,
     "metadata": {},
     "output_type": "execute_result"
    }
   ],
   "source": [
    "m = geemap.Map()\n",
    "dem = ee.Image('USGS/SRTMGL1_003')\n",
    "vis_params = {\n",
    "    'min': 0,\n",
    "    'max': 4000,\n",
    "    'palette': ['006633', 'E5FFCC', '662A00', 'D8D8D8', 'F5F5F5'],\n",
    "}\n",
    "m.add_layer(dem, vis_params, 'SRTM DEM')\n",
    "m"
   ]
  },
  {
   "cell_type": "code",
   "execution_count": 32,
   "id": "35c94266",
   "metadata": {},
   "outputs": [
    {
     "data": {
      "text/html": [
       "\n",
       "            <style>\n",
       "                .geemap-dark {\n",
       "                    --jp-widgets-color: white;\n",
       "                    --jp-widgets-label-color: white;\n",
       "                    --jp-ui-font-color1: white;\n",
       "                    --jp-layout-color2: #454545;\n",
       "                    background-color: #383838;\n",
       "                }\n",
       "                    \n",
       "                .geemap-dark .jupyter-button {\n",
       "                    --jp-layout-color3: #383838;\n",
       "                }\n",
       "                \n",
       "                .geemap-colab {\n",
       "                    background-color: var(--colab-primary-surface-color, white);\n",
       "                }\n",
       "                    \n",
       "                .geemap-colab .jupyter-button {\n",
       "                    --jp-layout-color3: var(--colab-primary-surface-color, white);\n",
       "                }\n",
       "            </style>\n",
       "            "
      ],
      "text/plain": [
       "<IPython.core.display.HTML object>"
      ]
     },
     "metadata": {},
     "output_type": "display_data"
    },
    {
     "ename": "EEException",
     "evalue": "Feature: Value of property system:index must be a string.",
     "output_type": "error",
     "traceback": [
      "\u001b[0;31m---------------------------------------------------------------------------\u001b[0m",
      "\u001b[0;31mHttpError\u001b[0m                                 Traceback (most recent call last)",
      "File \u001b[0;32m~/opt/anaconda3/envs/gee/lib/python3.9/site-packages/ee/data.py:354\u001b[0m, in \u001b[0;36m_execute_cloud_call\u001b[0;34m(call, num_retries)\u001b[0m\n\u001b[1;32m    353\u001b[0m \u001b[39mtry\u001b[39;00m:\n\u001b[0;32m--> 354\u001b[0m   \u001b[39mreturn\u001b[39;00m call\u001b[39m.\u001b[39;49mexecute(num_retries\u001b[39m=\u001b[39;49mnum_retries)\n\u001b[1;32m    355\u001b[0m \u001b[39mexcept\u001b[39;00m googleapiclient\u001b[39m.\u001b[39merrors\u001b[39m.\u001b[39mHttpError \u001b[39mas\u001b[39;00m e:\n",
      "File \u001b[0;32m~/opt/anaconda3/envs/gee/lib/python3.9/site-packages/googleapiclient/_helpers.py:130\u001b[0m, in \u001b[0;36mpositional.<locals>.positional_decorator.<locals>.positional_wrapper\u001b[0;34m(*args, **kwargs)\u001b[0m\n\u001b[1;32m    129\u001b[0m         logger\u001b[39m.\u001b[39mwarning(message)\n\u001b[0;32m--> 130\u001b[0m \u001b[39mreturn\u001b[39;00m wrapped(\u001b[39m*\u001b[39;49margs, \u001b[39m*\u001b[39;49m\u001b[39m*\u001b[39;49mkwargs)\n",
      "File \u001b[0;32m~/opt/anaconda3/envs/gee/lib/python3.9/site-packages/googleapiclient/http.py:938\u001b[0m, in \u001b[0;36mHttpRequest.execute\u001b[0;34m(self, http, num_retries)\u001b[0m\n\u001b[1;32m    937\u001b[0m \u001b[39mif\u001b[39;00m resp\u001b[39m.\u001b[39mstatus \u001b[39m>\u001b[39m\u001b[39m=\u001b[39m \u001b[39m300\u001b[39m:\n\u001b[0;32m--> 938\u001b[0m     \u001b[39mraise\u001b[39;00m HttpError(resp, content, uri\u001b[39m=\u001b[39m\u001b[39mself\u001b[39m\u001b[39m.\u001b[39muri)\n\u001b[1;32m    939\u001b[0m \u001b[39mreturn\u001b[39;00m \u001b[39mself\u001b[39m\u001b[39m.\u001b[39mpostproc(resp, content)\n",
      "\u001b[0;31mHttpError\u001b[0m: <HttpError 400 when requesting https://earthengine.googleapis.com/v1/projects/earthengine-legacy/maps?fields=name&alt=json returned \"Feature: Value of property system:index must be a string.\". Details: \"Feature: Value of property system:index must be a string.\">",
      "\nDuring handling of the above exception, another exception occurred:\n",
      "\u001b[0;31mEEException\u001b[0m                               Traceback (most recent call last)",
      "Cell \u001b[0;32mIn[32], line 3\u001b[0m\n\u001b[1;32m      1\u001b[0m \u001b[39m# upload a local file\u001b[39;00m\n\u001b[1;32m      2\u001b[0m cambridge \u001b[39m=\u001b[39m geemap\u001b[39m.\u001b[39mgeojson_to_ee(geo_json\u001b[39m=\u001b[39m\u001b[39m'\u001b[39m\u001b[39mdata/cambridge.json\u001b[39m\u001b[39m'\u001b[39m)\n\u001b[0;32m----> 3\u001b[0m m\u001b[39m.\u001b[39;49maddLayer(cambridge, {}, \u001b[39m'\u001b[39;49m\u001b[39mCambridge\u001b[39;49m\u001b[39m'\u001b[39;49m)\n",
      "File \u001b[0;32m~/opt/anaconda3/envs/gee/lib/python3.9/site-packages/geemap/geemap.py:336\u001b[0m, in \u001b[0;36mMap.add_ee_layer\u001b[0;34m(self, ee_object, vis_params, name, shown, opacity)\u001b[0m\n\u001b[1;32m    331\u001b[0m         \u001b[39mif\u001b[39;00m has_plot_dropdown:\n\u001b[1;32m    332\u001b[0m             \u001b[39mself\u001b[39m\u001b[39m.\u001b[39m_plot_dropdown_widget\u001b[39m.\u001b[39moptions \u001b[39m=\u001b[39m \u001b[39mlist\u001b[39m(\n\u001b[1;32m    333\u001b[0m                 \u001b[39mself\u001b[39m\u001b[39m.\u001b[39mee_raster_layers\u001b[39m.\u001b[39mkeys()\n\u001b[1;32m    334\u001b[0m             )\n\u001b[0;32m--> 336\u001b[0m \u001b[39msuper\u001b[39;49m()\u001b[39m.\u001b[39;49madd_layer(ee_object, vis_params, name, shown, opacity)\n\u001b[1;32m    338\u001b[0m \u001b[39mif\u001b[39;00m \u001b[39misinstance\u001b[39m(ee_object, (ee\u001b[39m.\u001b[39mImage, ee\u001b[39m.\u001b[39mImageCollection)):\n\u001b[1;32m    339\u001b[0m     \u001b[39mif\u001b[39;00m has_plot_dropdown:\n",
      "File \u001b[0;32m~/opt/anaconda3/envs/gee/lib/python3.9/site-packages/geemap/core.py:751\u001b[0m, in \u001b[0;36mMap.add_layer\u001b[0;34m(self, ee_object, vis_params, name, shown, opacity)\u001b[0m\n\u001b[1;32m    749\u001b[0m \u001b[39mif\u001b[39;00m name \u001b[39mis\u001b[39;00m \u001b[39mNone\u001b[39;00m:\n\u001b[1;32m    750\u001b[0m     name \u001b[39m=\u001b[39m \u001b[39mf\u001b[39m\u001b[39m\"\u001b[39m\u001b[39mLayer \u001b[39m\u001b[39m{\u001b[39;00m\u001b[39mlen\u001b[39m(\u001b[39mself\u001b[39m\u001b[39m.\u001b[39mee_layers)\u001b[39m \u001b[39m\u001b[39m+\u001b[39m\u001b[39m \u001b[39m\u001b[39m1\u001b[39m\u001b[39m}\u001b[39;00m\u001b[39m\"\u001b[39m\n\u001b[0;32m--> 751\u001b[0m tile_layer \u001b[39m=\u001b[39m ee_tile_layers\u001b[39m.\u001b[39;49mEELeafletTileLayer(\n\u001b[1;32m    752\u001b[0m     ee_object, vis_params, name, shown, opacity\n\u001b[1;32m    753\u001b[0m )\n\u001b[1;32m    755\u001b[0m \u001b[39m# Remove the layer if it already exists.\u001b[39;00m\n\u001b[1;32m    756\u001b[0m \u001b[39mself\u001b[39m\u001b[39m.\u001b[39mremove(name)\n",
      "File \u001b[0;32m~/opt/anaconda3/envs/gee/lib/python3.9/site-packages/geemap/ee_tile_layers.py:142\u001b[0m, in \u001b[0;36mEELeafletTileLayer.__init__\u001b[0;34m(self, ee_object, vis_params, name, shown, opacity, **kwargs)\u001b[0m\n\u001b[1;32m    124\u001b[0m \u001b[39mdef\u001b[39;00m \u001b[39m__init__\u001b[39m(\n\u001b[1;32m    125\u001b[0m     \u001b[39mself\u001b[39m,\n\u001b[1;32m    126\u001b[0m     ee_object,\n\u001b[0;32m   (...)\u001b[0m\n\u001b[1;32m    131\u001b[0m     \u001b[39m*\u001b[39m\u001b[39m*\u001b[39mkwargs,\n\u001b[1;32m    132\u001b[0m ):\n\u001b[1;32m    133\u001b[0m \u001b[39m    \u001b[39m\u001b[39m\"\"\"Initialize the ipyleaflet tile layer.\u001b[39;00m\n\u001b[1;32m    134\u001b[0m \n\u001b[1;32m    135\u001b[0m \u001b[39m    Args:\u001b[39;00m\n\u001b[0;32m   (...)\u001b[0m\n\u001b[1;32m    140\u001b[0m \u001b[39m        opacity (float, optional): The layer's opacity represented as a number between 0 and 1. Defaults to 1.\u001b[39;00m\n\u001b[1;32m    141\u001b[0m \u001b[39m    \"\"\"\u001b[39;00m\n\u001b[0;32m--> 142\u001b[0m     \u001b[39mself\u001b[39m\u001b[39m.\u001b[39murl_format \u001b[39m=\u001b[39m _get_tile_url_format(\n\u001b[1;32m    143\u001b[0m         ee_object, _validate_vis_params(vis_params)\n\u001b[1;32m    144\u001b[0m     )\n\u001b[1;32m    145\u001b[0m     \u001b[39msuper\u001b[39m()\u001b[39m.\u001b[39m\u001b[39m__init__\u001b[39m(\n\u001b[1;32m    146\u001b[0m         url\u001b[39m=\u001b[39m\u001b[39mself\u001b[39m\u001b[39m.\u001b[39murl_format,\n\u001b[1;32m    147\u001b[0m         attribution\u001b[39m=\u001b[39m\u001b[39m\"\u001b[39m\u001b[39mGoogle Earth Engine\u001b[39m\u001b[39m\"\u001b[39m,\n\u001b[0;32m   (...)\u001b[0m\n\u001b[1;32m    152\u001b[0m         \u001b[39m*\u001b[39m\u001b[39m*\u001b[39mkwargs,\n\u001b[1;32m    153\u001b[0m     )\n",
      "File \u001b[0;32m~/opt/anaconda3/envs/gee/lib/python3.9/site-packages/geemap/ee_tile_layers.py:18\u001b[0m, in \u001b[0;36m_get_tile_url_format\u001b[0;34m(ee_object, vis_params)\u001b[0m\n\u001b[1;32m     16\u001b[0m \u001b[39mdef\u001b[39;00m \u001b[39m_get_tile_url_format\u001b[39m(ee_object, vis_params):\n\u001b[1;32m     17\u001b[0m     image \u001b[39m=\u001b[39m _ee_object_to_image(ee_object, vis_params)\n\u001b[0;32m---> 18\u001b[0m     map_id_dict \u001b[39m=\u001b[39m ee\u001b[39m.\u001b[39;49mImage(image)\u001b[39m.\u001b[39;49mgetMapId(vis_params)\n\u001b[1;32m     19\u001b[0m     \u001b[39mreturn\u001b[39;00m map_id_dict[\u001b[39m\"\u001b[39m\u001b[39mtile_fetcher\u001b[39m\u001b[39m\"\u001b[39m]\u001b[39m.\u001b[39murl_format\n",
      "File \u001b[0;32m~/opt/anaconda3/envs/gee/lib/python3.9/site-packages/ee/image.py:129\u001b[0m, in \u001b[0;36mImage.getMapId\u001b[0;34m(self, vis_params)\u001b[0m\n\u001b[1;32m    127\u001b[0m vis_image, request \u001b[39m=\u001b[39m \u001b[39mself\u001b[39m\u001b[39m.\u001b[39m_apply_visualization(vis_params)\n\u001b[1;32m    128\u001b[0m request[\u001b[39m'\u001b[39m\u001b[39mimage\u001b[39m\u001b[39m'\u001b[39m] \u001b[39m=\u001b[39m vis_image\n\u001b[0;32m--> 129\u001b[0m response \u001b[39m=\u001b[39m data\u001b[39m.\u001b[39;49mgetMapId(request)\n\u001b[1;32m    130\u001b[0m response[\u001b[39m'\u001b[39m\u001b[39mimage\u001b[39m\u001b[39m'\u001b[39m] \u001b[39m=\u001b[39m \u001b[39mself\u001b[39m\n\u001b[1;32m    131\u001b[0m \u001b[39mreturn\u001b[39;00m response\n",
      "File \u001b[0;32m~/opt/anaconda3/envs/gee/lib/python3.9/site-packages/ee/data.py:664\u001b[0m, in \u001b[0;36mgetMapId\u001b[0;34m(params)\u001b[0m\n\u001b[1;32m    659\u001b[0m queryParams \u001b[39m=\u001b[39m {\n\u001b[1;32m    660\u001b[0m     \u001b[39m'\u001b[39m\u001b[39mfields\u001b[39m\u001b[39m'\u001b[39m: \u001b[39m'\u001b[39m\u001b[39mname\u001b[39m\u001b[39m'\u001b[39m,\n\u001b[1;32m    661\u001b[0m     \u001b[39m'\u001b[39m\u001b[39mbody\u001b[39m\u001b[39m'\u001b[39m: request,\n\u001b[1;32m    662\u001b[0m }\n\u001b[1;32m    663\u001b[0m _maybe_populate_workload_tag(queryParams)\n\u001b[0;32m--> 664\u001b[0m result \u001b[39m=\u001b[39m _execute_cloud_call(\n\u001b[1;32m    665\u001b[0m     _get_cloud_projects()\n\u001b[1;32m    666\u001b[0m     \u001b[39m.\u001b[39;49mmaps()\n\u001b[1;32m    667\u001b[0m     \u001b[39m.\u001b[39;49mcreate(parent\u001b[39m=\u001b[39;49m_get_projects_path(), \u001b[39m*\u001b[39;49m\u001b[39m*\u001b[39;49mqueryParams)\n\u001b[1;32m    668\u001b[0m )\n\u001b[1;32m    669\u001b[0m map_name \u001b[39m=\u001b[39m result[\u001b[39m'\u001b[39m\u001b[39mname\u001b[39m\u001b[39m'\u001b[39m]\n\u001b[1;32m    670\u001b[0m url_format \u001b[39m=\u001b[39m \u001b[39m'\u001b[39m\u001b[39m%s\u001b[39;00m\u001b[39m/\u001b[39m\u001b[39m%s\u001b[39;00m\u001b[39m/\u001b[39m\u001b[39m%s\u001b[39;00m\u001b[39m/tiles/\u001b[39m\u001b[39m{z}\u001b[39;00m\u001b[39m/\u001b[39m\u001b[39m{x}\u001b[39;00m\u001b[39m/\u001b[39m\u001b[39m{y}\u001b[39;00m\u001b[39m'\u001b[39m \u001b[39m%\u001b[39m (\n\u001b[1;32m    671\u001b[0m     _tile_base_url, _cloud_api_utils\u001b[39m.\u001b[39mVERSION, map_name)\n",
      "File \u001b[0;32m~/opt/anaconda3/envs/gee/lib/python3.9/site-packages/ee/data.py:356\u001b[0m, in \u001b[0;36m_execute_cloud_call\u001b[0;34m(call, num_retries)\u001b[0m\n\u001b[1;32m    354\u001b[0m   \u001b[39mreturn\u001b[39;00m call\u001b[39m.\u001b[39mexecute(num_retries\u001b[39m=\u001b[39mnum_retries)\n\u001b[1;32m    355\u001b[0m \u001b[39mexcept\u001b[39;00m googleapiclient\u001b[39m.\u001b[39merrors\u001b[39m.\u001b[39mHttpError \u001b[39mas\u001b[39;00m e:\n\u001b[0;32m--> 356\u001b[0m   \u001b[39mraise\u001b[39;00m _translate_cloud_exception(e)\n",
      "\u001b[0;31mEEException\u001b[0m: Feature: Value of property system:index must be a string."
     ]
    }
   ],
   "source": [
    "# upload a local file\n",
    "cambridge = geemap.geojson_to_ee(geo_json='data/cambridge.json')\n",
    "m.addLayer(cambridge, {}, 'Cambridge')\n"
   ]
  },
  {
   "cell_type": "markdown",
   "metadata": {},
   "source": [
    "#### Using the datasets module"
   ]
  },
  {
   "cell_type": "code",
   "execution_count": null,
   "metadata": {},
   "outputs": [],
   "source": [
    "from geemap.datasets import DATA"
   ]
  },
  {
   "cell_type": "code",
   "execution_count": null,
   "metadata": {},
   "outputs": [],
   "source": [
    "m = geemap.Map(center=[40, -100], zoom=4)\n",
    "dataset = ee.Image(DATA.USGS_GAP_CONUS_2011)\n",
    "m.add_layer(dataset, {}, 'GAP CONUS')\n",
    "m"
   ]
  },
  {
   "cell_type": "code",
   "execution_count": null,
   "metadata": {},
   "outputs": [],
   "source": [
    "from geemap.datasets import get_metadata\n",
    "\n",
    "get_metadata(DATA.USGS_GAP_CONUS_2011)"
   ]
  },
  {
   "cell_type": "markdown",
   "metadata": {},
   "source": [
    "### Converting Earth Engine JavaScripts to Python\n",
    "\n",
    "Find some Earth Engine JavaScript code that you want to convert to Python. For example, you can grab some sample code from the [Earth Engine Documentation](https://developers.google.com/earth-engine/guides/image_visualization)."
   ]
  },
  {
   "cell_type": "code",
   "execution_count": 33,
   "metadata": {},
   "outputs": [
    {
     "data": {
      "text/html": [
       "\n",
       "            <style>\n",
       "                .geemap-dark {\n",
       "                    --jp-widgets-color: white;\n",
       "                    --jp-widgets-label-color: white;\n",
       "                    --jp-ui-font-color1: white;\n",
       "                    --jp-layout-color2: #454545;\n",
       "                    background-color: #383838;\n",
       "                }\n",
       "                    \n",
       "                .geemap-dark .jupyter-button {\n",
       "                    --jp-layout-color3: #383838;\n",
       "                }\n",
       "                \n",
       "                .geemap-colab {\n",
       "                    background-color: var(--colab-primary-surface-color, white);\n",
       "                }\n",
       "                    \n",
       "                .geemap-colab .jupyter-button {\n",
       "                    --jp-layout-color3: var(--colab-primary-surface-color, white);\n",
       "                }\n",
       "            </style>\n",
       "            "
      ],
      "text/plain": [
       "<IPython.core.display.HTML object>"
      ]
     },
     "metadata": {},
     "output_type": "display_data"
    },
    {
     "data": {
      "application/vnd.jupyter.widget-view+json": {
       "model_id": "a87fed86b4c54c4ca0c076a9e5f9bbc4",
       "version_major": 2,
       "version_minor": 0
      },
      "text/plain": [
       "Map(center=[0, 0], controls=(WidgetControl(options=['position', 'transparent_bg'], widget=SearchDataGUI(childr…"
      ]
     },
     "execution_count": 33,
     "metadata": {},
     "output_type": "execute_result"
    }
   ],
   "source": [
    "m = geemap.Map()\n",
    "m\n",
    "\n",
    "# settings tool wrench\n",
    "# refresh looking button\n",
    "# paste JS code "
   ]
  },
  {
   "cell_type": "code",
   "execution_count": null,
   "metadata": {},
   "outputs": [],
   "source": [
    "# Load an image.\n",
    "image = ee.Image('LANDSAT/LC08/C02/T1_TOA/LC08_044034_20140318')\n",
    "\n",
    "# Define the visualization parameters.\n",
    "vizParams = {'bands': ['B5', 'B4', 'B3'], 'min': 0, 'max': 0.5, 'gamma': [0.95, 1.1, 1]}\n",
    "\n",
    "# Center the map and display the image.\n",
    "m.set_center(-122.1899, 37.5010, 10)\n",
    "# San Francisco Bay\n",
    "m.add_layer(image, vizParams, 'False color composite')"
   ]
  },
  {
   "cell_type": "markdown",
   "metadata": {},
   "source": [
    "### Exercise 1 - Creating cloud-free imagery\n",
    "\n",
    "Create a cloud-free imagery of Texas for the year of 2022. You can use either Landsat 9 or Sentinel-2 imagery. Relevant Earth Engine assets:\n",
    "\n",
    "-   [ee.FeatureCollection(\"TIGER/2018/States\")](https://developers.google.com/earth-engine/datasets/catalog/TIGER_2018_States)\n",
    "-   [ee.ImageCollection(\"COPERNICUS/S2_SR\")](https://developers.google.com/earth-engine/datasets/catalog/COPERNICUS_S2_SR)\n",
    "-   [ee.ImageCollection(\"LANDSAT/LC09/C02/T1_L2\")](https://developers.google.com/earth-engine/datasets/catalog/LANDSAT_LC09_C02_T1_L2)\n",
    "\n",
    "![](https://i.imgur.com/i3IT0lF.png)"
   ]
  },
  {
   "cell_type": "code",
   "execution_count": 41,
   "metadata": {},
   "outputs": [
    {
     "data": {
      "text/html": [
       "\n",
       "            <style>\n",
       "                .geemap-dark {\n",
       "                    --jp-widgets-color: white;\n",
       "                    --jp-widgets-label-color: white;\n",
       "                    --jp-ui-font-color1: white;\n",
       "                    --jp-layout-color2: #454545;\n",
       "                    background-color: #383838;\n",
       "                }\n",
       "                    \n",
       "                .geemap-dark .jupyter-button {\n",
       "                    --jp-layout-color3: #383838;\n",
       "                }\n",
       "                \n",
       "                .geemap-colab {\n",
       "                    background-color: var(--colab-primary-surface-color, white);\n",
       "                }\n",
       "                    \n",
       "                .geemap-colab .jupyter-button {\n",
       "                    --jp-layout-color3: var(--colab-primary-surface-color, white);\n",
       "                }\n",
       "            </style>\n",
       "            "
      ],
      "text/plain": [
       "<IPython.core.display.HTML object>"
      ]
     },
     "metadata": {},
     "output_type": "display_data"
    },
    {
     "data": {
      "application/vnd.jupyter.widget-view+json": {
       "model_id": "60fe6227ab3147d180122526a8a46e4f",
       "version_major": 2,
       "version_minor": 0
      },
      "text/plain": [
       "Map(center=[42.161779492134215, -71.49747297364661], controls=(WidgetControl(options=['position', 'transparent…"
      ]
     },
     "execution_count": 41,
     "metadata": {},
     "output_type": "execute_result"
    }
   ],
   "source": [
    "states = ee.FeatureCollection('TIGER/2018/States')\n",
    "ma = states.filter(ee.Filter.eq('NAME', 'Massachusetts'))\n",
    "\n",
    "m = geemap.Map()\n",
    "s2 = ee.ImageCollection('COPERNICUS/S2_SR')\n",
    "s2ma2021 = s2.filterDate('2021-01-01', '2022-01-01').filterBounds(ma)\n",
    "s2ma2021CloudFree = s2ma2021.filter(ee.Filter.lt('CLOUDY_PIXEL_PERCENTAGE', 5))\n",
    "image = s2ma2021CloudFree.median()\n",
    "image = image.clipToCollection(ma)\n",
    "\n",
    "m.add_layer(image, {'bands': ['B4', 'B3', 'B2'], 'min': 0, 'max': 2000, 'gamma': 2}, 'S2 2021 MA')\n",
    "m.add_layer(ma, {}, 'MA')\n",
    "\n",
    "# center map around MA\n",
    "m.center_object(ma, 8)\n",
    "m"
   ]
  },
  {
   "cell_type": "markdown",
   "metadata": {},
   "source": [
    "## Break 1 (10 mins)\n",
    "\n",
    "## Visualizing Earth Engine data (30 mins)\n",
    "\n",
    "### Geemap Inspector tool, plotting tool, interactive GUI for data visualization\n",
    "\n",
    "### Using the inspector tool"
   ]
  },
  {
   "cell_type": "code",
   "execution_count": 42,
   "metadata": {},
   "outputs": [
    {
     "data": {
      "text/html": [
       "\n",
       "            <style>\n",
       "                .geemap-dark {\n",
       "                    --jp-widgets-color: white;\n",
       "                    --jp-widgets-label-color: white;\n",
       "                    --jp-ui-font-color1: white;\n",
       "                    --jp-layout-color2: #454545;\n",
       "                    background-color: #383838;\n",
       "                }\n",
       "                    \n",
       "                .geemap-dark .jupyter-button {\n",
       "                    --jp-layout-color3: #383838;\n",
       "                }\n",
       "                \n",
       "                .geemap-colab {\n",
       "                    background-color: var(--colab-primary-surface-color, white);\n",
       "                }\n",
       "                    \n",
       "                .geemap-colab .jupyter-button {\n",
       "                    --jp-layout-color3: var(--colab-primary-surface-color, white);\n",
       "                }\n",
       "            </style>\n",
       "            "
      ],
      "text/plain": [
       "<IPython.core.display.HTML object>"
      ]
     },
     "metadata": {},
     "output_type": "display_data"
    },
    {
     "data": {
      "application/vnd.jupyter.widget-view+json": {
       "model_id": "58d7b7e06e8143edba452c515ff39fcd",
       "version_major": 2,
       "version_minor": 0
      },
      "text/plain": [
       "Map(center=[40, -100], controls=(WidgetControl(options=['position', 'transparent_bg'], widget=SearchDataGUI(ch…"
      ]
     },
     "execution_count": 42,
     "metadata": {},
     "output_type": "execute_result"
    }
   ],
   "source": [
    "m = geemap.Map(center=(40, -100), zoom=4)\n",
    "\n",
    "dem = ee.Image('USGS/SRTMGL1_003')\n",
    "landsat7 = ee.Image('LANDSAT/LE7_TOA_5YEAR/1999_2003').select(\n",
    "    ['B1', 'B2', 'B3', 'B4', 'B5', 'B7']\n",
    ")\n",
    "states = ee.FeatureCollection(\"TIGER/2018/States\")\n",
    "\n",
    "vis_params = {\n",
    "    'min': 0,\n",
    "    'max': 4000,\n",
    "    'palette': ['006633', 'E5FFCC', '662A00', 'D8D8D8', 'F5F5F5'],\n",
    "}\n",
    "\n",
    "m.add_layer(dem, vis_params, 'SRTM DEM')\n",
    "m.add_layer(\n",
    "    landsat7,\n",
    "    {'bands': ['B4', 'B3', 'B2'], 'min': 20, 'max': 200, 'gamma': 2.0},\n",
    "    'Landsat 7',\n",
    ")\n",
    "m.add_layer(states, {}, \"US States\")\n",
    "m.add('inspector')\n",
    "m"
   ]
  },
  {
   "cell_type": "markdown",
   "metadata": {},
   "source": [
    "### Using the plotting tool"
   ]
  },
  {
   "cell_type": "code",
   "execution_count": 43,
   "metadata": {},
   "outputs": [
    {
     "data": {
      "text/html": [
       "\n",
       "            <style>\n",
       "                .geemap-dark {\n",
       "                    --jp-widgets-color: white;\n",
       "                    --jp-widgets-label-color: white;\n",
       "                    --jp-ui-font-color1: white;\n",
       "                    --jp-layout-color2: #454545;\n",
       "                    background-color: #383838;\n",
       "                }\n",
       "                    \n",
       "                .geemap-dark .jupyter-button {\n",
       "                    --jp-layout-color3: #383838;\n",
       "                }\n",
       "                \n",
       "                .geemap-colab {\n",
       "                    background-color: var(--colab-primary-surface-color, white);\n",
       "                }\n",
       "                    \n",
       "                .geemap-colab .jupyter-button {\n",
       "                    --jp-layout-color3: var(--colab-primary-surface-color, white);\n",
       "                }\n",
       "            </style>\n",
       "            "
      ],
      "text/plain": [
       "<IPython.core.display.HTML object>"
      ]
     },
     "metadata": {},
     "output_type": "display_data"
    },
    {
     "data": {
      "application/vnd.jupyter.widget-view+json": {
       "model_id": "334b4b54796946f5b9cb48704fd0813e",
       "version_major": 2,
       "version_minor": 0
      },
      "text/plain": [
       "Map(center=[40, -100], controls=(WidgetControl(options=['position', 'transparent_bg'], widget=SearchDataGUI(ch…"
      ]
     },
     "execution_count": 43,
     "metadata": {},
     "output_type": "execute_result"
    }
   ],
   "source": [
    "m = geemap.Map(center=[40, -100], zoom=4)\n",
    "\n",
    "landsat7 = ee.Image('LANDSAT/LE7_TOA_5YEAR/1999_2003').select(\n",
    "    ['B1', 'B2', 'B3', 'B4', 'B5', 'B7']\n",
    ")\n",
    "\n",
    "landsat_vis = {'bands': ['B4', 'B3', 'B2'], 'gamma': 1.4}\n",
    "m.add_layer(landsat7, landsat_vis, \"Landsat\")\n",
    "\n",
    "hyperion = ee.ImageCollection('EO1/HYPERION').filter(\n",
    "    ee.Filter.date('2016-01-01', '2017-03-01')\n",
    ")\n",
    "\n",
    "hyperion_vis = {\n",
    "    'min': 1000.0,\n",
    "    'max': 14000.0,\n",
    "    'gamma': 2.5,\n",
    "}\n",
    "m.add_layer(hyperion, hyperion_vis, 'Hyperion')\n",
    "m.add_plot_gui()\n",
    "m"
   ]
  },
  {
   "cell_type": "markdown",
   "metadata": {},
   "source": [
    "Set plotting options for Landsat."
   ]
  },
  {
   "cell_type": "code",
   "execution_count": 44,
   "metadata": {},
   "outputs": [
    {
     "data": {
      "text/html": [
       "\n",
       "            <style>\n",
       "                .geemap-dark {\n",
       "                    --jp-widgets-color: white;\n",
       "                    --jp-widgets-label-color: white;\n",
       "                    --jp-ui-font-color1: white;\n",
       "                    --jp-layout-color2: #454545;\n",
       "                    background-color: #383838;\n",
       "                }\n",
       "                    \n",
       "                .geemap-dark .jupyter-button {\n",
       "                    --jp-layout-color3: #383838;\n",
       "                }\n",
       "                \n",
       "                .geemap-colab {\n",
       "                    background-color: var(--colab-primary-surface-color, white);\n",
       "                }\n",
       "                    \n",
       "                .geemap-colab .jupyter-button {\n",
       "                    --jp-layout-color3: var(--colab-primary-surface-color, white);\n",
       "                }\n",
       "            </style>\n",
       "            "
      ],
      "text/plain": [
       "<IPython.core.display.HTML object>"
      ]
     },
     "metadata": {},
     "output_type": "display_data"
    }
   ],
   "source": [
    "m.set_plot_options(add_marker_cluster=True, overlay=True)"
   ]
  },
  {
   "cell_type": "markdown",
   "metadata": {},
   "source": [
    "Set plotting options for Hyperion."
   ]
  },
  {
   "cell_type": "code",
   "execution_count": 45,
   "metadata": {},
   "outputs": [
    {
     "data": {
      "text/html": [
       "\n",
       "            <style>\n",
       "                .geemap-dark {\n",
       "                    --jp-widgets-color: white;\n",
       "                    --jp-widgets-label-color: white;\n",
       "                    --jp-ui-font-color1: white;\n",
       "                    --jp-layout-color2: #454545;\n",
       "                    background-color: #383838;\n",
       "                }\n",
       "                    \n",
       "                .geemap-dark .jupyter-button {\n",
       "                    --jp-layout-color3: #383838;\n",
       "                }\n",
       "                \n",
       "                .geemap-colab {\n",
       "                    background-color: var(--colab-primary-surface-color, white);\n",
       "                }\n",
       "                    \n",
       "                .geemap-colab .jupyter-button {\n",
       "                    --jp-layout-color3: var(--colab-primary-surface-color, white);\n",
       "                }\n",
       "            </style>\n",
       "            "
      ],
      "text/plain": [
       "<IPython.core.display.HTML object>"
      ]
     },
     "metadata": {},
     "output_type": "display_data"
    }
   ],
   "source": [
    "m.set_plot_options(add_marker_cluster=True, plot_type=\"bar\")"
   ]
  },
  {
   "cell_type": "markdown",
   "metadata": {},
   "source": [
    "### Legends, color bars, and labels\n",
    "\n",
    "#### Built-in legends"
   ]
  },
  {
   "cell_type": "code",
   "execution_count": 46,
   "metadata": {},
   "outputs": [
    {
     "data": {
      "text/html": [
       "\n",
       "            <style>\n",
       "                .geemap-dark {\n",
       "                    --jp-widgets-color: white;\n",
       "                    --jp-widgets-label-color: white;\n",
       "                    --jp-ui-font-color1: white;\n",
       "                    --jp-layout-color2: #454545;\n",
       "                    background-color: #383838;\n",
       "                }\n",
       "                    \n",
       "                .geemap-dark .jupyter-button {\n",
       "                    --jp-layout-color3: #383838;\n",
       "                }\n",
       "                \n",
       "                .geemap-colab {\n",
       "                    background-color: var(--colab-primary-surface-color, white);\n",
       "                }\n",
       "                    \n",
       "                .geemap-colab .jupyter-button {\n",
       "                    --jp-layout-color3: var(--colab-primary-surface-color, white);\n",
       "                }\n",
       "            </style>\n",
       "            "
      ],
      "text/plain": [
       "<IPython.core.display.HTML object>"
      ]
     },
     "metadata": {},
     "output_type": "display_data"
    }
   ],
   "source": [
    "from geemap.legends import builtin_legends"
   ]
  },
  {
   "cell_type": "code",
   "execution_count": 47,
   "metadata": {},
   "outputs": [
    {
     "data": {
      "text/html": [
       "\n",
       "            <style>\n",
       "                .geemap-dark {\n",
       "                    --jp-widgets-color: white;\n",
       "                    --jp-widgets-label-color: white;\n",
       "                    --jp-ui-font-color1: white;\n",
       "                    --jp-layout-color2: #454545;\n",
       "                    background-color: #383838;\n",
       "                }\n",
       "                    \n",
       "                .geemap-dark .jupyter-button {\n",
       "                    --jp-layout-color3: #383838;\n",
       "                }\n",
       "                \n",
       "                .geemap-colab {\n",
       "                    background-color: var(--colab-primary-surface-color, white);\n",
       "                }\n",
       "                    \n",
       "                .geemap-colab .jupyter-button {\n",
       "                    --jp-layout-color3: var(--colab-primary-surface-color, white);\n",
       "                }\n",
       "            </style>\n",
       "            "
      ],
      "text/plain": [
       "<IPython.core.display.HTML object>"
      ]
     },
     "metadata": {},
     "output_type": "display_data"
    },
    {
     "name": "stdout",
     "output_type": "stream",
     "text": [
      "NLCD\n",
      "ESA_WorldCover\n",
      "ESRI_LandCover\n",
      "ESRI_LandCover_TS\n",
      "Dynamic_World\n",
      "NWI\n",
      "MODIS/051/MCD12Q1\n",
      "MODIS/006/MCD12Q1\n",
      "GLOBCOVER\n",
      "JAXA/PALSAR\n",
      "Oxford\n",
      "AAFC/ACI\n",
      "COPERNICUS/CORINE/V20/100m\n",
      "COPERNICUS/Landcover/100m/Proba-V/Global\n",
      "USDA/NASS/CDL\n",
      "ALOS_landforms\n"
     ]
    }
   ],
   "source": [
    "for legend in builtin_legends:\n",
    "    print(legend)"
   ]
  },
  {
   "cell_type": "markdown",
   "metadata": {},
   "source": [
    "Add NLCD WMS layer and legend to the map."
   ]
  },
  {
   "cell_type": "code",
   "execution_count": 48,
   "metadata": {},
   "outputs": [
    {
     "data": {
      "text/html": [
       "\n",
       "            <style>\n",
       "                .geemap-dark {\n",
       "                    --jp-widgets-color: white;\n",
       "                    --jp-widgets-label-color: white;\n",
       "                    --jp-ui-font-color1: white;\n",
       "                    --jp-layout-color2: #454545;\n",
       "                    background-color: #383838;\n",
       "                }\n",
       "                    \n",
       "                .geemap-dark .jupyter-button {\n",
       "                    --jp-layout-color3: #383838;\n",
       "                }\n",
       "                \n",
       "                .geemap-colab {\n",
       "                    background-color: var(--colab-primary-surface-color, white);\n",
       "                }\n",
       "                    \n",
       "                .geemap-colab .jupyter-button {\n",
       "                    --jp-layout-color3: var(--colab-primary-surface-color, white);\n",
       "                }\n",
       "            </style>\n",
       "            "
      ],
      "text/plain": [
       "<IPython.core.display.HTML object>"
      ]
     },
     "metadata": {},
     "output_type": "display_data"
    },
    {
     "data": {
      "application/vnd.jupyter.widget-view+json": {
       "model_id": "7406f063a0ed4b05ae12d880de6af57f",
       "version_major": 2,
       "version_minor": 0
      },
      "text/plain": [
       "Map(center=[40, -100], controls=(WidgetControl(options=['position', 'transparent_bg'], widget=SearchDataGUI(ch…"
      ]
     },
     "execution_count": 48,
     "metadata": {},
     "output_type": "execute_result"
    }
   ],
   "source": [
    "m = geemap.Map(center=[40, -100], zoom=4)\n",
    "m.add_basemap('Esri.WorldImagery')\n",
    "m.add_basemap('NLCD 2021 CONUS Land Cover')\n",
    "m.add_legend(builtin_legend='NLCD', max_width='100px', height='455px')\n",
    "m"
   ]
  },
  {
   "cell_type": "markdown",
   "metadata": {},
   "source": [
    "Add NLCD Earth Engine layer and legend to the map."
   ]
  },
  {
   "cell_type": "code",
   "execution_count": 49,
   "metadata": {},
   "outputs": [
    {
     "data": {
      "text/html": [
       "\n",
       "            <style>\n",
       "                .geemap-dark {\n",
       "                    --jp-widgets-color: white;\n",
       "                    --jp-widgets-label-color: white;\n",
       "                    --jp-ui-font-color1: white;\n",
       "                    --jp-layout-color2: #454545;\n",
       "                    background-color: #383838;\n",
       "                }\n",
       "                    \n",
       "                .geemap-dark .jupyter-button {\n",
       "                    --jp-layout-color3: #383838;\n",
       "                }\n",
       "                \n",
       "                .geemap-colab {\n",
       "                    background-color: var(--colab-primary-surface-color, white);\n",
       "                }\n",
       "                    \n",
       "                .geemap-colab .jupyter-button {\n",
       "                    --jp-layout-color3: var(--colab-primary-surface-color, white);\n",
       "                }\n",
       "            </style>\n",
       "            "
      ],
      "text/plain": [
       "<IPython.core.display.HTML object>"
      ]
     },
     "metadata": {},
     "output_type": "display_data"
    },
    {
     "data": {
      "application/vnd.jupyter.widget-view+json": {
       "model_id": "c7fb6807013d423183570d4b63ce6af7",
       "version_major": 2,
       "version_minor": 0
      },
      "text/plain": [
       "Map(center=[40, -100], controls=(WidgetControl(options=['position', 'transparent_bg'], widget=SearchDataGUI(ch…"
      ]
     },
     "execution_count": 49,
     "metadata": {},
     "output_type": "execute_result"
    }
   ],
   "source": [
    "m = geemap.Map(center=[40, -100], zoom=4)\n",
    "m.add_basemap('Esri.WorldImagery')\n",
    "\n",
    "nlcd = ee.Image('USGS/NLCD_RELEASES/2021_REL/NLCD/2021')\n",
    "landcover = nlcd.select('landcover')\n",
    "\n",
    "m.add_layer(landcover, {}, 'NLCD Land Cover 2021')\n",
    "m.add_legend(\n",
    "    title=\"NLCD Land Cover Classification\", builtin_legend='NLCD', height='455px'\n",
    ")\n",
    "m"
   ]
  },
  {
   "cell_type": "markdown",
   "metadata": {},
   "source": [
    "#### Custom legends"
   ]
  },
  {
   "cell_type": "markdown",
   "metadata": {},
   "source": [
    "Add a custom legend by specifying the colors and labels."
   ]
  },
  {
   "cell_type": "code",
   "execution_count": 50,
   "metadata": {},
   "outputs": [
    {
     "data": {
      "text/html": [
       "\n",
       "            <style>\n",
       "                .geemap-dark {\n",
       "                    --jp-widgets-color: white;\n",
       "                    --jp-widgets-label-color: white;\n",
       "                    --jp-ui-font-color1: white;\n",
       "                    --jp-layout-color2: #454545;\n",
       "                    background-color: #383838;\n",
       "                }\n",
       "                    \n",
       "                .geemap-dark .jupyter-button {\n",
       "                    --jp-layout-color3: #383838;\n",
       "                }\n",
       "                \n",
       "                .geemap-colab {\n",
       "                    background-color: var(--colab-primary-surface-color, white);\n",
       "                }\n",
       "                    \n",
       "                .geemap-colab .jupyter-button {\n",
       "                    --jp-layout-color3: var(--colab-primary-surface-color, white);\n",
       "                }\n",
       "            </style>\n",
       "            "
      ],
      "text/plain": [
       "<IPython.core.display.HTML object>"
      ]
     },
     "metadata": {},
     "output_type": "display_data"
    },
    {
     "data": {
      "application/vnd.jupyter.widget-view+json": {
       "model_id": "2e34fd434b03449f8cc727eb904e4e0d",
       "version_major": 2,
       "version_minor": 0
      },
      "text/plain": [
       "Map(center=[0, 0], controls=(WidgetControl(options=['position', 'transparent_bg'], widget=SearchDataGUI(childr…"
      ]
     },
     "execution_count": 50,
     "metadata": {},
     "output_type": "execute_result"
    }
   ],
   "source": [
    "m = geemap.Map(add_google_map=False)\n",
    "\n",
    "keys = ['One', 'Two', 'Three', 'Four', 'etc']\n",
    "\n",
    "# colors can be defined using either hex code or RGB (0-255, 0-255, 0-255)\n",
    "colors = ['#8DD3C7', '#FFFFB3', '#BEBADA', '#FB8072', '#80B1D3']\n",
    "# legend_colors = [(255, 0, 0), (127, 255, 0), (127, 18, 25), (36, 70, 180), (96, 68 123)]\n",
    "\n",
    "m.add_legend(keys=keys, colors=colors, position='bottomright')\n",
    "m"
   ]
  },
  {
   "cell_type": "markdown",
   "metadata": {},
   "source": [
    "Add a custom legend by specifying a dictionary of colors and labels."
   ]
  },
  {
   "cell_type": "code",
   "execution_count": 51,
   "metadata": {},
   "outputs": [
    {
     "data": {
      "text/html": [
       "\n",
       "            <style>\n",
       "                .geemap-dark {\n",
       "                    --jp-widgets-color: white;\n",
       "                    --jp-widgets-label-color: white;\n",
       "                    --jp-ui-font-color1: white;\n",
       "                    --jp-layout-color2: #454545;\n",
       "                    background-color: #383838;\n",
       "                }\n",
       "                    \n",
       "                .geemap-dark .jupyter-button {\n",
       "                    --jp-layout-color3: #383838;\n",
       "                }\n",
       "                \n",
       "                .geemap-colab {\n",
       "                    background-color: var(--colab-primary-surface-color, white);\n",
       "                }\n",
       "                    \n",
       "                .geemap-colab .jupyter-button {\n",
       "                    --jp-layout-color3: var(--colab-primary-surface-color, white);\n",
       "                }\n",
       "            </style>\n",
       "            "
      ],
      "text/plain": [
       "<IPython.core.display.HTML object>"
      ]
     },
     "metadata": {},
     "output_type": "display_data"
    },
    {
     "data": {
      "application/vnd.jupyter.widget-view+json": {
       "model_id": "e7cff5258bc54da6a8845ee83b421728",
       "version_major": 2,
       "version_minor": 0
      },
      "text/plain": [
       "Map(center=[40, -100], controls=(WidgetControl(options=['position', 'transparent_bg'], widget=SearchDataGUI(ch…"
      ]
     },
     "execution_count": 51,
     "metadata": {},
     "output_type": "execute_result"
    }
   ],
   "source": [
    "m = geemap.Map(center=[40, -100], zoom=4)\n",
    "m.add_basemap('Esri.WorldImagery')\n",
    "\n",
    "legend_dict = {\n",
    "    '11 Open Water': '466b9f',\n",
    "    '12 Perennial Ice/Snow': 'd1def8',\n",
    "    '21 Developed, Open Space': 'dec5c5',\n",
    "    '22 Developed, Low Intensity': 'd99282',\n",
    "    '23 Developed, Medium Intensity': 'eb0000',\n",
    "    '24 Developed High Intensity': 'ab0000',\n",
    "    '31 Barren Land (Rock/Sand/Clay)': 'b3ac9f',\n",
    "    '41 Deciduous Forest': '68ab5f',\n",
    "    '42 Evergreen Forest': '1c5f2c',\n",
    "    '43 Mixed Forest': 'b5c58f',\n",
    "    '51 Dwarf Scrub': 'af963c',\n",
    "    '52 Shrub/Scrub': 'ccb879',\n",
    "    '71 Grassland/Herbaceous': 'dfdfc2',\n",
    "    '72 Sedge/Herbaceous': 'd1d182',\n",
    "    '73 Lichens': 'a3cc51',\n",
    "    '74 Moss': '82ba9e',\n",
    "    '81 Pasture/Hay': 'dcd939',\n",
    "    '82 Cultivated Crops': 'ab6c28',\n",
    "    '90 Woody Wetlands': 'b8d9eb',\n",
    "    '95 Emergent Herbaceous Wetlands': '6c9fb8',\n",
    "}\n",
    "\n",
    "nlcd = ee.Image('USGS/NLCD_RELEASES/2021_REL/NLCD/2021')\n",
    "landcover = nlcd.select('landcover')\n",
    "\n",
    "m.add_layer(landcover, {}, 'NLCD Land Cover 2021')\n",
    "m.add_legend(title=\"NLCD Land Cover Classification\", legend_dict=legend_dict)\n",
    "m"
   ]
  },
  {
   "cell_type": "markdown",
   "metadata": {},
   "source": [
    "#### Creating color bars\n",
    "\n",
    "Add a horizontal color bar."
   ]
  },
  {
   "cell_type": "code",
   "execution_count": 52,
   "metadata": {},
   "outputs": [
    {
     "data": {
      "text/html": [
       "\n",
       "            <style>\n",
       "                .geemap-dark {\n",
       "                    --jp-widgets-color: white;\n",
       "                    --jp-widgets-label-color: white;\n",
       "                    --jp-ui-font-color1: white;\n",
       "                    --jp-layout-color2: #454545;\n",
       "                    background-color: #383838;\n",
       "                }\n",
       "                    \n",
       "                .geemap-dark .jupyter-button {\n",
       "                    --jp-layout-color3: #383838;\n",
       "                }\n",
       "                \n",
       "                .geemap-colab {\n",
       "                    background-color: var(--colab-primary-surface-color, white);\n",
       "                }\n",
       "                    \n",
       "                .geemap-colab .jupyter-button {\n",
       "                    --jp-layout-color3: var(--colab-primary-surface-color, white);\n",
       "                }\n",
       "            </style>\n",
       "            "
      ],
      "text/plain": [
       "<IPython.core.display.HTML object>"
      ]
     },
     "metadata": {},
     "output_type": "display_data"
    },
    {
     "data": {
      "application/vnd.jupyter.widget-view+json": {
       "model_id": "2607b5f14a70470e8347c6b0af88e26a",
       "version_major": 2,
       "version_minor": 0
      },
      "text/plain": [
       "Map(center=[0, 0], controls=(WidgetControl(options=['position', 'transparent_bg'], widget=SearchDataGUI(childr…"
      ]
     },
     "execution_count": 52,
     "metadata": {},
     "output_type": "execute_result"
    }
   ],
   "source": [
    "m = geemap.Map()\n",
    "\n",
    "dem = ee.Image('USGS/SRTMGL1_003')\n",
    "vis_params = {\n",
    "    'min': 0,\n",
    "    'max': 4000,\n",
    "    'palette': ['006633', 'E5FFCC', '662A00', 'D8D8D8', 'F5F5F5'],\n",
    "}\n",
    "\n",
    "m.add_layer(dem, vis_params, 'SRTM DEM')\n",
    "m.add_colorbar(vis_params, label=\"Elevation (m)\", layer_name=\"SRTM DEM\")\n",
    "m"
   ]
  },
  {
   "cell_type": "markdown",
   "metadata": {},
   "source": [
    "Add a vertical color bar."
   ]
  },
  {
   "cell_type": "code",
   "execution_count": 53,
   "metadata": {},
   "outputs": [
    {
     "data": {
      "text/html": [
       "\n",
       "            <style>\n",
       "                .geemap-dark {\n",
       "                    --jp-widgets-color: white;\n",
       "                    --jp-widgets-label-color: white;\n",
       "                    --jp-ui-font-color1: white;\n",
       "                    --jp-layout-color2: #454545;\n",
       "                    background-color: #383838;\n",
       "                }\n",
       "                    \n",
       "                .geemap-dark .jupyter-button {\n",
       "                    --jp-layout-color3: #383838;\n",
       "                }\n",
       "                \n",
       "                .geemap-colab {\n",
       "                    background-color: var(--colab-primary-surface-color, white);\n",
       "                }\n",
       "                    \n",
       "                .geemap-colab .jupyter-button {\n",
       "                    --jp-layout-color3: var(--colab-primary-surface-color, white);\n",
       "                }\n",
       "            </style>\n",
       "            "
      ],
      "text/plain": [
       "<IPython.core.display.HTML object>"
      ]
     },
     "metadata": {},
     "output_type": "display_data"
    }
   ],
   "source": [
    "m.add_colorbar(\n",
    "    vis_params,\n",
    "    label=\"Elevation (m)\",\n",
    "    layer_name=\"SRTM DEM\",\n",
    "    orientation=\"vertical\",\n",
    "    max_width=\"100px\"\n",
    ")"
   ]
  },
  {
   "cell_type": "markdown",
   "metadata": {},
   "source": [
    "Make the color bar background transparent."
   ]
  },
  {
   "cell_type": "code",
   "execution_count": 54,
   "metadata": {},
   "outputs": [
    {
     "data": {
      "text/html": [
       "\n",
       "            <style>\n",
       "                .geemap-dark {\n",
       "                    --jp-widgets-color: white;\n",
       "                    --jp-widgets-label-color: white;\n",
       "                    --jp-ui-font-color1: white;\n",
       "                    --jp-layout-color2: #454545;\n",
       "                    background-color: #383838;\n",
       "                }\n",
       "                    \n",
       "                .geemap-dark .jupyter-button {\n",
       "                    --jp-layout-color3: #383838;\n",
       "                }\n",
       "                \n",
       "                .geemap-colab {\n",
       "                    background-color: var(--colab-primary-surface-color, white);\n",
       "                }\n",
       "                    \n",
       "                .geemap-colab .jupyter-button {\n",
       "                    --jp-layout-color3: var(--colab-primary-surface-color, white);\n",
       "                }\n",
       "            </style>\n",
       "            "
      ],
      "text/plain": [
       "<IPython.core.display.HTML object>"
      ]
     },
     "metadata": {},
     "output_type": "display_data"
    }
   ],
   "source": [
    "m.add_colorbar(\n",
    "    vis_params,\n",
    "    label=\"Elevation (m)\",\n",
    "    layer_name=\"SRTM DEM\",\n",
    "    orientation=\"vertical\",\n",
    "    max_width=\"100px\",\n",
    "    transparent_bg=True\n",
    ")"
   ]
  },
  {
   "cell_type": "markdown",
   "metadata": {},
   "source": [
    "### Split-panel map and linked maps\n",
    "\n",
    "### Split-panel maps\n",
    "\n",
    "Create a split map with basemaps. Note that ipyleaflet has a bug with the SplitControl. You can't pan the map, which should be resolved in the next ipyleaflet release."
   ]
  },
  {
   "cell_type": "code",
   "execution_count": 55,
   "metadata": {},
   "outputs": [
    {
     "data": {
      "text/html": [
       "\n",
       "            <style>\n",
       "                .geemap-dark {\n",
       "                    --jp-widgets-color: white;\n",
       "                    --jp-widgets-label-color: white;\n",
       "                    --jp-ui-font-color1: white;\n",
       "                    --jp-layout-color2: #454545;\n",
       "                    background-color: #383838;\n",
       "                }\n",
       "                    \n",
       "                .geemap-dark .jupyter-button {\n",
       "                    --jp-layout-color3: #383838;\n",
       "                }\n",
       "                \n",
       "                .geemap-colab {\n",
       "                    background-color: var(--colab-primary-surface-color, white);\n",
       "                }\n",
       "                    \n",
       "                .geemap-colab .jupyter-button {\n",
       "                    --jp-layout-color3: var(--colab-primary-surface-color, white);\n",
       "                }\n",
       "            </style>\n",
       "            "
      ],
      "text/plain": [
       "<IPython.core.display.HTML object>"
      ]
     },
     "metadata": {},
     "output_type": "display_data"
    },
    {
     "data": {
      "application/vnd.jupyter.widget-view+json": {
       "model_id": "4ca158b6279f400f90a241b2d14b7f62",
       "version_major": 2,
       "version_minor": 0
      },
      "text/plain": [
       "Map(center=[0, 0], controls=(ZoomControl(options=['position', 'zoom_in_text', 'zoom_in_title', 'zoom_out_text'…"
      ]
     },
     "execution_count": 55,
     "metadata": {},
     "output_type": "execute_result"
    }
   ],
   "source": [
    "m = geemap.Map()\n",
    "m.split_map(left_layer='Esri.WorldTopoMap', right_layer='OpenTopoMap')\n",
    "m\n",
    "\n",
    "# consider adding a splitmap to the geovis for NREL"
   ]
  },
  {
   "cell_type": "markdown",
   "metadata": {},
   "source": [
    "Create a split map with Earth Engine layers."
   ]
  },
  {
   "cell_type": "code",
   "execution_count": 56,
   "metadata": {},
   "outputs": [
    {
     "data": {
      "text/html": [
       "\n",
       "            <style>\n",
       "                .geemap-dark {\n",
       "                    --jp-widgets-color: white;\n",
       "                    --jp-widgets-label-color: white;\n",
       "                    --jp-ui-font-color1: white;\n",
       "                    --jp-layout-color2: #454545;\n",
       "                    background-color: #383838;\n",
       "                }\n",
       "                    \n",
       "                .geemap-dark .jupyter-button {\n",
       "                    --jp-layout-color3: #383838;\n",
       "                }\n",
       "                \n",
       "                .geemap-colab {\n",
       "                    background-color: var(--colab-primary-surface-color, white);\n",
       "                }\n",
       "                    \n",
       "                .geemap-colab .jupyter-button {\n",
       "                    --jp-layout-color3: var(--colab-primary-surface-color, white);\n",
       "                }\n",
       "            </style>\n",
       "            "
      ],
      "text/plain": [
       "<IPython.core.display.HTML object>"
      ]
     },
     "metadata": {},
     "output_type": "display_data"
    },
    {
     "data": {
      "application/vnd.jupyter.widget-view+json": {
       "model_id": "000332ef93304ea993d4e1ee8cabd65f",
       "version_major": 2,
       "version_minor": 0
      },
      "text/plain": [
       "Map(center=[40, -100], controls=(ZoomControl(options=['position', 'zoom_in_text', 'zoom_in_title', 'zoom_out_t…"
      ]
     },
     "execution_count": 56,
     "metadata": {},
     "output_type": "execute_result"
    }
   ],
   "source": [
    "m = geemap.Map(center=(40, -100), zoom=4, height=600)\n",
    "\n",
    "nlcd_2001 = ee.Image('USGS/NLCD_RELEASES/2019_REL/NLCD/2001').select('landcover')\n",
    "nlcd_2019 = ee.Image('USGS/NLCD_RELEASES/2021_REL/NLCD/2021').select('landcover')\n",
    "\n",
    "left_layer = geemap.ee_tile_layer(nlcd_2001, {}, 'NLCD 2001')\n",
    "right_layer = geemap.ee_tile_layer(nlcd_2019, {}, 'NLCD 2021')\n",
    "\n",
    "m.split_map(left_layer, right_layer)\n",
    "m"
   ]
  },
  {
   "cell_type": "markdown",
   "metadata": {},
   "source": [
    "### Linked maps\n",
    "\n",
    "Create a 2x2 linked map for visualizing Sentinel-2 imagery with different band combinations. Note that this feature does not work properly with Colab. Panning one map would not pan other maps. "
   ]
  },
  {
   "cell_type": "code",
   "execution_count": 57,
   "metadata": {},
   "outputs": [
    {
     "data": {
      "text/html": [
       "\n",
       "            <style>\n",
       "                .geemap-dark {\n",
       "                    --jp-widgets-color: white;\n",
       "                    --jp-widgets-label-color: white;\n",
       "                    --jp-ui-font-color1: white;\n",
       "                    --jp-layout-color2: #454545;\n",
       "                    background-color: #383838;\n",
       "                }\n",
       "                    \n",
       "                .geemap-dark .jupyter-button {\n",
       "                    --jp-layout-color3: #383838;\n",
       "                }\n",
       "                \n",
       "                .geemap-colab {\n",
       "                    background-color: var(--colab-primary-surface-color, white);\n",
       "                }\n",
       "                    \n",
       "                .geemap-colab .jupyter-button {\n",
       "                    --jp-layout-color3: var(--colab-primary-surface-color, white);\n",
       "                }\n",
       "            </style>\n",
       "            "
      ],
      "text/plain": [
       "<IPython.core.display.HTML object>"
      ]
     },
     "metadata": {},
     "output_type": "display_data"
    },
    {
     "data": {
      "application/vnd.jupyter.widget-view+json": {
       "model_id": "bf6f27c25d4c4cf5bd4f3b71af88c4f0",
       "version_major": 2,
       "version_minor": 0
      },
      "text/plain": [
       "GridspecLayout(children=(Output(layout=Layout(grid_area='widget001')), Output(layout=Layout(grid_area='widget0…"
      ]
     },
     "execution_count": 57,
     "metadata": {},
     "output_type": "execute_result"
    }
   ],
   "source": [
    "image = (\n",
    "    ee.ImageCollection('COPERNICUS/S2')\n",
    "    .filterDate('2018-09-01', '2018-09-30')\n",
    "    .map(lambda img: img.divide(10000))\n",
    "    .median()\n",
    ")\n",
    "\n",
    "vis_params = [\n",
    "    {'bands': ['B4', 'B3', 'B2'], 'min': 0, 'max': 0.3, 'gamma': 1.3},\n",
    "    {'bands': ['B8', 'B11', 'B4'], 'min': 0, 'max': 0.3, 'gamma': 1.3},\n",
    "    {'bands': ['B8', 'B4', 'B3'], 'min': 0, 'max': 0.3, 'gamma': 1.3},\n",
    "    {'bands': ['B12', 'B12', 'B4'], 'min': 0, 'max': 0.3, 'gamma': 1.3},\n",
    "]\n",
    "\n",
    "labels = [\n",
    "    'Natural Color (B4/B3/B2)',\n",
    "    'Land/Water (B8/B11/B4)',\n",
    "    'Color Infrared (B8/B4/B3)',\n",
    "    'Vegetation (B12/B11/B4)',\n",
    "]\n",
    "\n",
    "geemap.linked_maps(\n",
    "    rows=2,\n",
    "    cols=2,\n",
    "    height=\"300px\",\n",
    "    center=[38.4151, 21.2712],\n",
    "    zoom=12,\n",
    "    ee_objects=[image],\n",
    "    vis_params=vis_params,\n",
    "    labels=labels,\n",
    "    label_position=\"topright\",\n",
    ")\n",
    "#### whattttt so cool"
   ]
  },
  {
   "cell_type": "markdown",
   "metadata": {},
   "source": [
    "### Timeseries inspector and time slider\n",
    "\n",
    "#### Timeseries inspector\n",
    "\n",
    "Check the available years of NLCD."
   ]
  },
  {
   "cell_type": "code",
   "execution_count": 58,
   "metadata": {},
   "outputs": [
    {
     "data": {
      "text/html": [
       "\n",
       "            <style>\n",
       "                .geemap-dark {\n",
       "                    --jp-widgets-color: white;\n",
       "                    --jp-widgets-label-color: white;\n",
       "                    --jp-ui-font-color1: white;\n",
       "                    --jp-layout-color2: #454545;\n",
       "                    background-color: #383838;\n",
       "                }\n",
       "                    \n",
       "                .geemap-dark .jupyter-button {\n",
       "                    --jp-layout-color3: #383838;\n",
       "                }\n",
       "                \n",
       "                .geemap-colab {\n",
       "                    background-color: var(--colab-primary-surface-color, white);\n",
       "                }\n",
       "                    \n",
       "                .geemap-colab .jupyter-button {\n",
       "                    --jp-layout-color3: var(--colab-primary-surface-color, white);\n",
       "                }\n",
       "            </style>\n",
       "            "
      ],
      "text/plain": [
       "<IPython.core.display.HTML object>"
      ]
     },
     "metadata": {},
     "output_type": "display_data"
    },
    {
     "data": {
      "text/plain": [
       "['2001', '2004', '2006', '2008', '2011', '2013', '2016', '2019']"
      ]
     },
     "execution_count": 58,
     "metadata": {},
     "output_type": "execute_result"
    }
   ],
   "source": [
    "m = geemap.Map(center=[40, -100], zoom=4)\n",
    "collection = ee.ImageCollection('USGS/NLCD_RELEASES/2019_REL/NLCD').select('landcover')\n",
    "vis_params = {'bands': ['landcover']}\n",
    "years = collection.aggregate_array('system:index').getInfo()\n",
    "years"
   ]
  },
  {
   "cell_type": "markdown",
   "metadata": {},
   "source": [
    "Create a timeseries inspector for NLCD. Note that ipyleaflet has a bug with the SplitControl. You can't pan the map, which should be resolved in the next ipyleaflet release."
   ]
  },
  {
   "cell_type": "code",
   "execution_count": 59,
   "metadata": {},
   "outputs": [
    {
     "data": {
      "text/html": [
       "\n",
       "            <style>\n",
       "                .geemap-dark {\n",
       "                    --jp-widgets-color: white;\n",
       "                    --jp-widgets-label-color: white;\n",
       "                    --jp-ui-font-color1: white;\n",
       "                    --jp-layout-color2: #454545;\n",
       "                    background-color: #383838;\n",
       "                }\n",
       "                    \n",
       "                .geemap-dark .jupyter-button {\n",
       "                    --jp-layout-color3: #383838;\n",
       "                }\n",
       "                \n",
       "                .geemap-colab {\n",
       "                    background-color: var(--colab-primary-surface-color, white);\n",
       "                }\n",
       "                    \n",
       "                .geemap-colab .jupyter-button {\n",
       "                    --jp-layout-color3: var(--colab-primary-surface-color, white);\n",
       "                }\n",
       "            </style>\n",
       "            "
      ],
      "text/plain": [
       "<IPython.core.display.HTML object>"
      ]
     },
     "metadata": {},
     "output_type": "display_data"
    },
    {
     "data": {
      "application/vnd.jupyter.widget-view+json": {
       "model_id": "f02a337d5ddf4261b221abe9dabcd1c0",
       "version_major": 2,
       "version_minor": 0
      },
      "text/plain": [
       "Map(center=[40, -100], controls=(WidgetControl(options=['position', 'transparent_bg'], widget=Dropdown(layout=…"
      ]
     },
     "execution_count": 59,
     "metadata": {},
     "output_type": "execute_result"
    }
   ],
   "source": [
    "m.ts_inspector(\n",
    "    left_ts=collection,\n",
    "    right_ts=collection,\n",
    "    left_names=years,\n",
    "    right_names=years,\n",
    "    left_vis=vis_params,\n",
    "    right_vis=vis_params,\n",
    "    width='80px',\n",
    ")\n",
    "m"
   ]
  },
  {
   "cell_type": "markdown",
   "metadata": {},
   "source": [
    "#### Time slider\n",
    "\n",
    "Note that this feature may not work properly with Colab. Restart Colab runtime if the time slider does not work.\n",
    "\n",
    "Create a map for visualizing MODIS vegetation data."
   ]
  },
  {
   "cell_type": "code",
   "execution_count": null,
   "metadata": {},
   "outputs": [
    {
     "data": {
      "text/html": [
       "\n",
       "            <style>\n",
       "                .geemap-dark {\n",
       "                    --jp-widgets-color: white;\n",
       "                    --jp-widgets-label-color: white;\n",
       "                    --jp-ui-font-color1: white;\n",
       "                    --jp-layout-color2: #454545;\n",
       "                    background-color: #383838;\n",
       "                }\n",
       "                    \n",
       "                .geemap-dark .jupyter-button {\n",
       "                    --jp-layout-color3: #383838;\n",
       "                }\n",
       "                \n",
       "                .geemap-colab {\n",
       "                    background-color: var(--colab-primary-surface-color, white);\n",
       "                }\n",
       "                    \n",
       "                .geemap-colab .jupyter-button {\n",
       "                    --jp-layout-color3: var(--colab-primary-surface-color, white);\n",
       "                }\n",
       "            </style>\n",
       "            "
      ],
      "text/plain": [
       "<IPython.core.display.HTML object>"
      ]
     },
     "metadata": {},
     "output_type": "display_data"
    },
    {
     "data": {
      "application/vnd.jupyter.widget-view+json": {
       "model_id": "895edcd694894eb8afaacc86669219d2",
       "version_major": 2,
       "version_minor": 0
      },
      "text/plain": [
       "Map(center=[0, 0], controls=(WidgetControl(options=['position', 'transparent_bg'], widget=SearchDataGUI(childr…"
      ]
     },
     "execution_count": 60,
     "metadata": {},
     "output_type": "execute_result"
    },
    {
     "name": "stderr",
     "output_type": "stream",
     "text": [
      "No such comm: 29a85686053d495abd956b170d2a2860\n",
      "No such comm: 29a85686053d495abd956b170d2a2860\n",
      "No such comm: 4f2c3af567b5401f94c377295f951fb4\n",
      "No such comm: 4f2c3af567b5401f94c377295f951fb4\n",
      "No such comm: f3054c26c1e645e68a560ef0fc8c3e54\n",
      "No such comm: 276f446bb8c1459eb4ec8743c1149bd6\n",
      "No such comm: 276f446bb8c1459eb4ec8743c1149bd6\n",
      "No such comm: ac6db83b74664c93817813f25fb2abe5\n",
      "No such comm: 50c209d292614ce2a4dbf22d8087552a\n",
      "No such comm: 20e6403acc0b4c01825df5648d6b4b00\n",
      "No such comm: 20e6403acc0b4c01825df5648d6b4b00\n",
      "No such comm: f80dcf237aef4fe8a50508bbb71b0b6b\n",
      "No such comm: 9520f84101bb4280a3f5ae160c6815a1\n",
      "No such comm: 52d3e1edb1e84d8a9ee682826be9b3ca\n",
      "No such comm: 52d3e1edb1e84d8a9ee682826be9b3ca\n"
     ]
    }
   ],
   "source": [
    "m = geemap.Map()\n",
    "\n",
    "collection = (\n",
    "    ee.ImageCollection('MODIS/MCD43A4_006_NDVI')\n",
    "    .filter(ee.Filter.date('2018-06-01', '2018-07-01'))\n",
    "    .select(\"NDVI\")\n",
    ")\n",
    "vis_params = {\n",
    "    'min': 0.0,\n",
    "    'max': 1.0,\n",
    "    'palette': 'ndvi',\n",
    "}\n",
    "\n",
    "m.add_time_slider(collection, vis_params, time_interval=5)\n",
    "m\n",
    "\n",
    "# inspect the nightlights data with the time slider!"
   ]
  },
  {
   "cell_type": "markdown",
   "metadata": {},
   "source": [
    "Create a map for visualizing weather data."
   ]
  },
  {
   "cell_type": "code",
   "execution_count": 61,
   "metadata": {},
   "outputs": [
    {
     "data": {
      "text/html": [
       "\n",
       "            <style>\n",
       "                .geemap-dark {\n",
       "                    --jp-widgets-color: white;\n",
       "                    --jp-widgets-label-color: white;\n",
       "                    --jp-ui-font-color1: white;\n",
       "                    --jp-layout-color2: #454545;\n",
       "                    background-color: #383838;\n",
       "                }\n",
       "                    \n",
       "                .geemap-dark .jupyter-button {\n",
       "                    --jp-layout-color3: #383838;\n",
       "                }\n",
       "                \n",
       "                .geemap-colab {\n",
       "                    background-color: var(--colab-primary-surface-color, white);\n",
       "                }\n",
       "                    \n",
       "                .geemap-colab .jupyter-button {\n",
       "                    --jp-layout-color3: var(--colab-primary-surface-color, white);\n",
       "                }\n",
       "            </style>\n",
       "            "
      ],
      "text/plain": [
       "<IPython.core.display.HTML object>"
      ]
     },
     "metadata": {},
     "output_type": "display_data"
    },
    {
     "data": {
      "application/vnd.jupyter.widget-view+json": {
       "model_id": "3c6624937bf4487c9aeadb2d8e238e40",
       "version_major": 2,
       "version_minor": 0
      },
      "text/plain": [
       "Map(center=[0, 0], controls=(WidgetControl(options=['position', 'transparent_bg'], widget=SearchDataGUI(childr…"
      ]
     },
     "execution_count": 61,
     "metadata": {},
     "output_type": "execute_result"
    }
   ],
   "source": [
    "m = geemap.Map()\n",
    "\n",
    "collection = (\n",
    "    ee.ImageCollection('NOAA/GFS0P25')\n",
    "    .filterDate('2018-12-22', '2018-12-23')\n",
    "    .limit(24)\n",
    "    .select('temperature_2m_above_ground')\n",
    ")\n",
    "\n",
    "vis_params = {\n",
    "    'min': -40.0,\n",
    "    'max': 35.0,\n",
    "    'palette': ['blue', 'purple', 'cyan', 'green', 'yellow', 'red'],\n",
    "}\n",
    "\n",
    "labels = [str(n).zfill(2) + \":00\" for n in range(0, 24)]\n",
    "m.add_time_slider(collection, vis_params, labels=labels, time_interval=1, opacity=0.8)\n",
    "m"
   ]
  },
  {
   "cell_type": "markdown",
   "metadata": {},
   "source": [
    "Visualizing Sentinel-2 imagery"
   ]
  },
  {
   "cell_type": "code",
   "execution_count": 62,
   "metadata": {},
   "outputs": [
    {
     "data": {
      "text/html": [
       "\n",
       "            <style>\n",
       "                .geemap-dark {\n",
       "                    --jp-widgets-color: white;\n",
       "                    --jp-widgets-label-color: white;\n",
       "                    --jp-ui-font-color1: white;\n",
       "                    --jp-layout-color2: #454545;\n",
       "                    background-color: #383838;\n",
       "                }\n",
       "                    \n",
       "                .geemap-dark .jupyter-button {\n",
       "                    --jp-layout-color3: #383838;\n",
       "                }\n",
       "                \n",
       "                .geemap-colab {\n",
       "                    background-color: var(--colab-primary-surface-color, white);\n",
       "                }\n",
       "                    \n",
       "                .geemap-colab .jupyter-button {\n",
       "                    --jp-layout-color3: var(--colab-primary-surface-color, white);\n",
       "                }\n",
       "            </style>\n",
       "            "
      ],
      "text/plain": [
       "<IPython.core.display.HTML object>"
      ]
     },
     "metadata": {},
     "output_type": "display_data"
    },
    {
     "data": {
      "application/vnd.jupyter.widget-view+json": {
       "model_id": "f74173e6415845ebbda89f0b05ce0a63",
       "version_major": 2,
       "version_minor": 0
      },
      "text/plain": [
       "Map(center=[37.75, -122.45], controls=(WidgetControl(options=['position', 'transparent_bg'], widget=SearchData…"
      ]
     },
     "execution_count": 62,
     "metadata": {},
     "output_type": "execute_result"
    }
   ],
   "source": [
    "m = geemap.Map(center=[37.75, -122.45], zoom=12)\n",
    "\n",
    "collection = (\n",
    "    ee.ImageCollection('COPERNICUS/S2_SR')\n",
    "    .filterBounds(ee.Geometry.Point([-122.45, 37.75]))\n",
    "    .filterMetadata('CLOUDY_PIXEL_PERCENTAGE', 'less_than', 10)\n",
    ")\n",
    "\n",
    "vis_params = {\"min\": 0, \"max\": 4000, \"bands\": [\"B8\", \"B4\", \"B3\"]}\n",
    "\n",
    "m.add_time_slider(collection, vis_params)\n",
    "m"
   ]
  },
  {
   "cell_type": "markdown",
   "metadata": {},
   "source": [
    "### Exercise 2 - Creating land cover maps with a legend\n",
    "\n",
    "Create a split map for visualizing NLCD land cover change in Texas between 2001 and 2019. Add the NLCD legend to the map. Relevant Earth Engine assets:\n",
    "\n",
    "-   [ee.FeatureCollection(\"TIGER/2018/States\")](https://developers.google.com/earth-engine/datasets/catalog/TIGER_2018_States)\n",
    "-   [ee.ImageCollection(\"USGS/NLCD_RELEASES/2019_REL/NLCD\")](https://developers.google.com/earth-engine/datasets/catalog/USGS_NLCD_RELEASES_2019_REL_NLCD)\n",
    "\n",
    "![](https://i.imgur.com/1b62CeI.jpg)"
   ]
  },
  {
   "cell_type": "code",
   "execution_count": null,
   "metadata": {},
   "outputs": [],
   "source": [
    "# Create a split map for visualizing NLCD land cover change in Texas between 2001 and 2019. Add the NLCD legend to the map.\n"
   ]
  },
  {
   "cell_type": "markdown",
   "metadata": {},
   "source": [
    "## Analyzing Earth Engine data (30 mins)\n",
    "\n",
    "### Image descriptive statistics\n",
    "\n",
    "Use a sample Landsat image."
   ]
  },
  {
   "cell_type": "code",
   "execution_count": 64,
   "metadata": {},
   "outputs": [
    {
     "data": {
      "text/html": [
       "\n",
       "            <style>\n",
       "                .geemap-dark {\n",
       "                    --jp-widgets-color: white;\n",
       "                    --jp-widgets-label-color: white;\n",
       "                    --jp-ui-font-color1: white;\n",
       "                    --jp-layout-color2: #454545;\n",
       "                    background-color: #383838;\n",
       "                }\n",
       "                    \n",
       "                .geemap-dark .jupyter-button {\n",
       "                    --jp-layout-color3: #383838;\n",
       "                }\n",
       "                \n",
       "                .geemap-colab {\n",
       "                    background-color: var(--colab-primary-surface-color, white);\n",
       "                }\n",
       "                    \n",
       "                .geemap-colab .jupyter-button {\n",
       "                    --jp-layout-color3: var(--colab-primary-surface-color, white);\n",
       "                }\n",
       "            </style>\n",
       "            "
      ],
      "text/plain": [
       "<IPython.core.display.HTML object>"
      ]
     },
     "metadata": {},
     "output_type": "display_data"
    }
   ],
   "source": [
    "import geemap"
   ]
  },
  {
   "cell_type": "code",
   "execution_count": 66,
   "metadata": {},
   "outputs": [
    {
     "data": {
      "text/html": [
       "\n",
       "            <style>\n",
       "                .geemap-dark {\n",
       "                    --jp-widgets-color: white;\n",
       "                    --jp-widgets-label-color: white;\n",
       "                    --jp-ui-font-color1: white;\n",
       "                    --jp-layout-color2: #454545;\n",
       "                    background-color: #383838;\n",
       "                }\n",
       "                    \n",
       "                .geemap-dark .jupyter-button {\n",
       "                    --jp-layout-color3: #383838;\n",
       "                }\n",
       "                \n",
       "                .geemap-colab {\n",
       "                    background-color: var(--colab-primary-surface-color, white);\n",
       "                }\n",
       "                    \n",
       "                .geemap-colab .jupyter-button {\n",
       "                    --jp-layout-color3: var(--colab-primary-surface-color, white);\n",
       "                }\n",
       "            </style>\n",
       "            "
      ],
      "text/plain": [
       "<IPython.core.display.HTML object>"
      ]
     },
     "metadata": {},
     "output_type": "display_data"
    },
    {
     "data": {
      "application/vnd.jupyter.widget-view+json": {
       "model_id": "d291ea8f859545bb9d245bdd67154daf",
       "version_major": 2,
       "version_minor": 0
      },
      "text/plain": [
       "Map(center=[0, 0], controls=(WidgetControl(options=['position', 'transparent_bg'], widget=SearchDataGUI(childr…"
      ]
     },
     "execution_count": 66,
     "metadata": {},
     "output_type": "execute_result"
    }
   ],
   "source": [
    "m = geemap.Map()\n",
    "m"
   ]
  },
  {
   "cell_type": "code",
   "execution_count": 67,
   "metadata": {},
   "outputs": [
    {
     "data": {
      "text/html": [
       "\n",
       "            <style>\n",
       "                .geemap-dark {\n",
       "                    --jp-widgets-color: white;\n",
       "                    --jp-widgets-label-color: white;\n",
       "                    --jp-ui-font-color1: white;\n",
       "                    --jp-layout-color2: #454545;\n",
       "                    background-color: #383838;\n",
       "                }\n",
       "                    \n",
       "                .geemap-dark .jupyter-button {\n",
       "                    --jp-layout-color3: #383838;\n",
       "                }\n",
       "                \n",
       "                .geemap-colab {\n",
       "                    background-color: var(--colab-primary-surface-color, white);\n",
       "                }\n",
       "                    \n",
       "                .geemap-colab .jupyter-button {\n",
       "                    --jp-layout-color3: var(--colab-primary-surface-color, white);\n",
       "                }\n",
       "            </style>\n",
       "            "
      ],
      "text/plain": [
       "<IPython.core.display.HTML object>"
      ]
     },
     "metadata": {},
     "output_type": "display_data"
    },
    {
     "data": {
      "application/vnd.jupyter.widget-view+json": {
       "model_id": "e5d3790085f54e8b959597d18c71336c",
       "version_major": 2,
       "version_minor": 0
      },
      "text/plain": [
       "Map(center=[37.75379999999999, -122.44390000000001], controls=(WidgetControl(options=['position', 'transparent…"
      ]
     },
     "execution_count": 67,
     "metadata": {},
     "output_type": "execute_result"
    }
   ],
   "source": [
    "m = geemap.Map()\n",
    "\n",
    "centroid = ee.Geometry.Point([-122.4439, 37.7538])\n",
    "image = ee.ImageCollection('LANDSAT/LC08/C01/T1_SR').filterBounds(centroid).first()\n",
    "vis = {'min': 0, 'max': 3000, 'bands': ['B5', 'B4', 'B3']}\n",
    "\n",
    "m.center_object(centroid, 8)\n",
    "m.add_layer(image, vis, \"Landsat-8\")\n",
    "m.add_layer(centroid, {}, 'Centroid')\n",
    "m"
   ]
  },
  {
   "cell_type": "markdown",
   "metadata": {},
   "source": [
    "Check image properties."
   ]
  },
  {
   "cell_type": "code",
   "execution_count": 68,
   "metadata": {},
   "outputs": [
    {
     "data": {
      "text/html": [
       "\n",
       "            <style>\n",
       "                .geemap-dark {\n",
       "                    --jp-widgets-color: white;\n",
       "                    --jp-widgets-label-color: white;\n",
       "                    --jp-ui-font-color1: white;\n",
       "                    --jp-layout-color2: #454545;\n",
       "                    background-color: #383838;\n",
       "                }\n",
       "                    \n",
       "                .geemap-dark .jupyter-button {\n",
       "                    --jp-layout-color3: #383838;\n",
       "                }\n",
       "                \n",
       "                .geemap-colab {\n",
       "                    background-color: var(--colab-primary-surface-color, white);\n",
       "                }\n",
       "                    \n",
       "                .geemap-colab .jupyter-button {\n",
       "                    --jp-layout-color3: var(--colab-primary-surface-color, white);\n",
       "                }\n",
       "            </style>\n",
       "            "
      ],
      "text/plain": [
       "<IPython.core.display.HTML object>"
      ]
     },
     "metadata": {},
     "output_type": "display_data"
    },
    {
     "data": {
      "text/html": [
       "<div><style>:root {\n",
       "  --font-color-primary: var(--jp-content-font-color0, rgba(0, 0, 0, 1));\n",
       "  --font-color-secondary: var(--jp-content-font-color2, rgba(0, 0, 0, 0.6));\n",
       "  --font-color-accent: rgba(123, 31, 162, 1);\n",
       "  --border-color: var(--jp-border-color2, #e0e0e0);\n",
       "  --background-color: var(--jp-layout-color0, white);\n",
       "  --background-color-row-even: var(--jp-layout-color1, white);\n",
       "  --background-color-row-odd: var(--jp-layout-color2, #eeeeee);\n",
       "}\n",
       "\n",
       "html[theme=\"dark\"],\n",
       "body[data-theme=\"dark\"],\n",
       "body.vscode-dark {\n",
       "  --font-color-primary: rgba(255, 255, 255, 1);\n",
       "  --font-color-secondary: rgba(255, 255, 255, 0.6);\n",
       "  --font-color-accent: rgb(173, 132, 190);\n",
       "  --border-color: #2e2e2e;\n",
       "  --background-color: #111111;\n",
       "  --background-color-row-even: #111111;\n",
       "  --background-color-row-odd: #313131;\n",
       "}\n",
       "\n",
       ".ee {\n",
       "  padding: 1em;\n",
       "  line-height: 1.5em;\n",
       "  min-width: 300px;\n",
       "  max-width: 1200px;\n",
       "  overflow-y: scroll;\n",
       "  max-height: 600px;\n",
       "  border: 1px solid var(--border-color);\n",
       "  font-family: monospace;\n",
       "}\n",
       "\n",
       ".ee li {\n",
       "  list-style-type: none;\n",
       "}\n",
       "\n",
       ".ee ul {\n",
       "  padding-left: 1.5em !important;\n",
       "  margin: 0;\n",
       "}\n",
       "\n",
       ".ee > ul {\n",
       "  padding-left: 0 !important;\n",
       "}\n",
       "\n",
       ".ee-open,\n",
       ".ee-shut {\n",
       "  color: var(--font-color-secondary);\n",
       "  cursor: pointer;\n",
       "  margin: 0;\n",
       "}\n",
       "\n",
       ".ee-open:hover,\n",
       ".ee-shut:hover {\n",
       "  color: var(--font-color-primary);\n",
       "}\n",
       "\n",
       ".ee-k {\n",
       "  color: var(--font-color-accent);\n",
       "  margin-right: 6px;\n",
       "}\n",
       "\n",
       ".ee-v {\n",
       "  color: var(--font-color-primary);\n",
       "}\n",
       "\n",
       ".ee-toggle {\n",
       "  display: none;\n",
       "}\n",
       "\n",
       ".ee-shut + ul {\n",
       "  display: none;\n",
       "}\n",
       "\n",
       ".ee-open + ul {\n",
       "  display: block;\n",
       "}\n",
       "\n",
       ".ee-shut::before {\n",
       "  display: inline-block;\n",
       "  content: \"▼\";\n",
       "  margin-right: 6px;\n",
       "  transform: rotate(-90deg);\n",
       "  transition: transform 0.2s;\n",
       "}\n",
       "\n",
       ".ee-open::before {\n",
       "  transform: rotate(0deg);\n",
       "  display: inline-block;\n",
       "  content: \"▼\";\n",
       "  margin-right: 6px;\n",
       "  transition: transform 0.2s;\n",
       "}\n",
       "</style><div class='ee'><ul><li><label class='ee-shut'>List (28 elements)<input type='checkbox' class='ee-toggle'></label><ul><li><span class='ee-k'>0:</span><span class='ee-v'>IMAGE_QUALITY_TIRS</span></li><li><span class='ee-k'>1:</span><span class='ee-v'>CLOUD_COVER</span></li><li><span class='ee-k'>2:</span><span class='ee-v'>system:id</span></li><li><span class='ee-k'>3:</span><span class='ee-v'>EARTH_SUN_DISTANCE</span></li><li><span class='ee-k'>4:</span><span class='ee-v'>LANDSAT_ID</span></li><li><span class='ee-k'>5:</span><span class='ee-v'>system:footprint</span></li><li><span class='ee-k'>6:</span><span class='ee-v'>system:version</span></li><li><span class='ee-k'>7:</span><span class='ee-v'>CLOUD_COVER_LAND</span></li><li><span class='ee-k'>8:</span><span class='ee-v'>GEOMETRIC_RMSE_MODEL</span></li><li><span class='ee-k'>9:</span><span class='ee-v'>SR_APP_VERSION</span></li><li><span class='ee-k'>10:</span><span class='ee-v'>SATELLITE</span></li><li><span class='ee-k'>11:</span><span class='ee-v'>SOLAR_AZIMUTH_ANGLE</span></li><li><span class='ee-k'>12:</span><span class='ee-v'>IMAGE_QUALITY_OLI</span></li><li><span class='ee-k'>13:</span><span class='ee-v'>system:time_end</span></li><li><span class='ee-k'>14:</span><span class='ee-v'>WRS_PATH</span></li><li><span class='ee-k'>15:</span><span class='ee-v'>system:time_start</span></li><li><span class='ee-k'>16:</span><span class='ee-v'>SENSING_TIME</span></li><li><span class='ee-k'>17:</span><span class='ee-v'>ESPA_VERSION</span></li><li><span class='ee-k'>18:</span><span class='ee-v'>SOLAR_ZENITH_ANGLE</span></li><li><span class='ee-k'>19:</span><span class='ee-v'>WRS_ROW</span></li><li><span class='ee-k'>20:</span><span class='ee-v'>GEOMETRIC_RMSE_MODEL_Y</span></li><li><span class='ee-k'>21:</span><span class='ee-v'>LEVEL1_PRODUCTION_DATE</span></li><li><span class='ee-k'>22:</span><span class='ee-v'>GEOMETRIC_RMSE_MODEL_X</span></li><li><span class='ee-k'>23:</span><span class='ee-v'>system:asset_size</span></li><li><span class='ee-k'>24:</span><span class='ee-v'>PIXEL_QA_VERSION</span></li><li><span class='ee-k'>25:</span><span class='ee-v'>system:index</span></li><li><span class='ee-k'>26:</span><span class='ee-v'>system:bands</span></li><li><span class='ee-k'>27:</span><span class='ee-v'>system:band_names</span></li></ul></li></ul></div><script>function toggleHeader() {\n",
       "    const parent = this.parentElement;\n",
       "    parent.className = parent.className === \"ee-open\" ? \"ee-shut\" : \"ee-open\";\n",
       "}\n",
       "\n",
       "for (let c of document.getElementsByClassName(\"ee-toggle\")) {\n",
       "    c.onclick = toggleHeader;\n",
       "}</script></div>"
      ],
      "text/plain": [
       "<ee.ee_list.List at 0x168d3a910>"
      ]
     },
     "execution_count": 68,
     "metadata": {},
     "output_type": "execute_result"
    }
   ],
   "source": [
    "image.propertyNames()"
   ]
  },
  {
   "cell_type": "markdown",
   "metadata": {},
   "source": [
    "Check image property values."
   ]
  },
  {
   "cell_type": "code",
   "execution_count": 70,
   "metadata": {},
   "outputs": [
    {
     "data": {
      "text/html": [
       "\n",
       "            <style>\n",
       "                .geemap-dark {\n",
       "                    --jp-widgets-color: white;\n",
       "                    --jp-widgets-label-color: white;\n",
       "                    --jp-ui-font-color1: white;\n",
       "                    --jp-layout-color2: #454545;\n",
       "                    background-color: #383838;\n",
       "                }\n",
       "                    \n",
       "                .geemap-dark .jupyter-button {\n",
       "                    --jp-layout-color3: #383838;\n",
       "                }\n",
       "                \n",
       "                .geemap-colab {\n",
       "                    background-color: var(--colab-primary-surface-color, white);\n",
       "                }\n",
       "                    \n",
       "                .geemap-colab .jupyter-button {\n",
       "                    --jp-layout-color3: var(--colab-primary-surface-color, white);\n",
       "                }\n",
       "            </style>\n",
       "            "
      ],
      "text/plain": [
       "<IPython.core.display.HTML object>"
      ]
     },
     "metadata": {},
     "output_type": "display_data"
    },
    {
     "data": {
      "text/html": [
       "<div><style>:root {\n",
       "  --font-color-primary: var(--jp-content-font-color0, rgba(0, 0, 0, 1));\n",
       "  --font-color-secondary: var(--jp-content-font-color2, rgba(0, 0, 0, 0.6));\n",
       "  --font-color-accent: rgba(123, 31, 162, 1);\n",
       "  --border-color: var(--jp-border-color2, #e0e0e0);\n",
       "  --background-color: var(--jp-layout-color0, white);\n",
       "  --background-color-row-even: var(--jp-layout-color1, white);\n",
       "  --background-color-row-odd: var(--jp-layout-color2, #eeeeee);\n",
       "}\n",
       "\n",
       "html[theme=\"dark\"],\n",
       "body[data-theme=\"dark\"],\n",
       "body.vscode-dark {\n",
       "  --font-color-primary: rgba(255, 255, 255, 1);\n",
       "  --font-color-secondary: rgba(255, 255, 255, 0.6);\n",
       "  --font-color-accent: rgb(173, 132, 190);\n",
       "  --border-color: #2e2e2e;\n",
       "  --background-color: #111111;\n",
       "  --background-color-row-even: #111111;\n",
       "  --background-color-row-odd: #313131;\n",
       "}\n",
       "\n",
       ".ee {\n",
       "  padding: 1em;\n",
       "  line-height: 1.5em;\n",
       "  min-width: 300px;\n",
       "  max-width: 1200px;\n",
       "  overflow-y: scroll;\n",
       "  max-height: 600px;\n",
       "  border: 1px solid var(--border-color);\n",
       "  font-family: monospace;\n",
       "}\n",
       "\n",
       ".ee li {\n",
       "  list-style-type: none;\n",
       "}\n",
       "\n",
       ".ee ul {\n",
       "  padding-left: 1.5em !important;\n",
       "  margin: 0;\n",
       "}\n",
       "\n",
       ".ee > ul {\n",
       "  padding-left: 0 !important;\n",
       "}\n",
       "\n",
       ".ee-open,\n",
       ".ee-shut {\n",
       "  color: var(--font-color-secondary);\n",
       "  cursor: pointer;\n",
       "  margin: 0;\n",
       "}\n",
       "\n",
       ".ee-open:hover,\n",
       ".ee-shut:hover {\n",
       "  color: var(--font-color-primary);\n",
       "}\n",
       "\n",
       ".ee-k {\n",
       "  color: var(--font-color-accent);\n",
       "  margin-right: 6px;\n",
       "}\n",
       "\n",
       ".ee-v {\n",
       "  color: var(--font-color-primary);\n",
       "}\n",
       "\n",
       ".ee-toggle {\n",
       "  display: none;\n",
       "}\n",
       "\n",
       ".ee-shut + ul {\n",
       "  display: none;\n",
       "}\n",
       "\n",
       ".ee-open + ul {\n",
       "  display: block;\n",
       "}\n",
       "\n",
       ".ee-shut::before {\n",
       "  display: inline-block;\n",
       "  content: \"▼\";\n",
       "  margin-right: 6px;\n",
       "  transform: rotate(-90deg);\n",
       "  transition: transform 0.2s;\n",
       "}\n",
       "\n",
       ".ee-open::before {\n",
       "  transform: rotate(0deg);\n",
       "  display: inline-block;\n",
       "  content: \"▼\";\n",
       "  margin-right: 6px;\n",
       "  transition: transform 0.2s;\n",
       "}\n",
       "</style><div class='ee'><ul><li><label class='ee-shut'>Object (19 properties)<input type='checkbox' class='ee-toggle'></label><ul><li><span class='ee-k'>CLOUD_COVER:</span><span class='ee-v'>0.05</span></li><li><span class='ee-k'>CLOUD_COVER_LAND:</span><span class='ee-v'>0.06</span></li><li><span class='ee-k'>EARTH_SUN_DISTANCE:</span><span class='ee-v'>1.001791</span></li><li><span class='ee-k'>ESPA_VERSION:</span><span class='ee-v'>2_23_0_1b</span></li><li><span class='ee-k'>GEOMETRIC_RMSE_MODEL:</span><span class='ee-v'>6.678</span></li><li><span class='ee-k'>GEOMETRIC_RMSE_MODEL_X:</span><span class='ee-v'>4.663</span></li><li><span class='ee-k'>GEOMETRIC_RMSE_MODEL_Y:</span><span class='ee-v'>4.78</span></li><li><span class='ee-k'>IMAGE_QUALITY_OLI:</span><span class='ee-v'>9</span></li><li><span class='ee-k'>IMAGE_QUALITY_TIRS:</span><span class='ee-v'>9</span></li><li><span class='ee-k'>LANDSAT_ID:</span><span class='ee-v'>LC08_L1TP_044034_20130409_20170310_01_T1</span></li><li><span class='ee-k'>LEVEL1_PRODUCTION_DATE:</span><span class='ee-v'>1489126619000</span></li><li><span class='ee-k'>PIXEL_QA_VERSION:</span><span class='ee-v'>generate_pixel_qa_1.6.0</span></li><li><span class='ee-k'>SATELLITE:</span><span class='ee-v'>LANDSAT_8</span></li><li><span class='ee-k'>SENSING_TIME:</span><span class='ee-v'>2013-04-09T18:46:34.7579070Z</span></li><li><span class='ee-k'>SOLAR_AZIMUTH_ANGLE:</span><span class='ee-v'>142.742508</span></li><li><span class='ee-k'>SOLAR_ZENITH_ANGLE:</span><span class='ee-v'>34.973495</span></li><li><span class='ee-k'>SR_APP_VERSION:</span><span class='ee-v'>LaSRC_1.3.0</span></li><li><span class='ee-k'>WRS_PATH:</span><span class='ee-v'>44</span></li><li><span class='ee-k'>WRS_ROW:</span><span class='ee-v'>34</span></li></ul></li></ul></div><script>function toggleHeader() {\n",
       "    const parent = this.parentElement;\n",
       "    parent.className = parent.className === \"ee-open\" ? \"ee-shut\" : \"ee-open\";\n",
       "}\n",
       "\n",
       "for (let c of document.getElementsByClassName(\"ee-toggle\")) {\n",
       "    c.onclick = toggleHeader;\n",
       "}</script></div>"
      ],
      "text/plain": [
       "<ee.dictionary.Dictionary at 0x169c48220>"
      ]
     },
     "execution_count": 70,
     "metadata": {},
     "output_type": "execute_result"
    }
   ],
   "source": [
    "image.toDictionary()"
   ]
  },
  {
   "cell_type": "markdown",
   "metadata": {},
   "source": [
    "Get specific image properties."
   ]
  },
  {
   "cell_type": "code",
   "execution_count": 71,
   "metadata": {},
   "outputs": [
    {
     "data": {
      "text/html": [
       "\n",
       "            <style>\n",
       "                .geemap-dark {\n",
       "                    --jp-widgets-color: white;\n",
       "                    --jp-widgets-label-color: white;\n",
       "                    --jp-ui-font-color1: white;\n",
       "                    --jp-layout-color2: #454545;\n",
       "                    background-color: #383838;\n",
       "                }\n",
       "                    \n",
       "                .geemap-dark .jupyter-button {\n",
       "                    --jp-layout-color3: #383838;\n",
       "                }\n",
       "                \n",
       "                .geemap-colab {\n",
       "                    background-color: var(--colab-primary-surface-color, white);\n",
       "                }\n",
       "                    \n",
       "                .geemap-colab .jupyter-button {\n",
       "                    --jp-layout-color3: var(--colab-primary-surface-color, white);\n",
       "                }\n",
       "            </style>\n",
       "            "
      ],
      "text/plain": [
       "<IPython.core.display.HTML object>"
      ]
     },
     "metadata": {},
     "output_type": "display_data"
    },
    {
     "data": {
      "text/html": [
       "<div><style>:root {\n",
       "  --font-color-primary: var(--jp-content-font-color0, rgba(0, 0, 0, 1));\n",
       "  --font-color-secondary: var(--jp-content-font-color2, rgba(0, 0, 0, 0.6));\n",
       "  --font-color-accent: rgba(123, 31, 162, 1);\n",
       "  --border-color: var(--jp-border-color2, #e0e0e0);\n",
       "  --background-color: var(--jp-layout-color0, white);\n",
       "  --background-color-row-even: var(--jp-layout-color1, white);\n",
       "  --background-color-row-odd: var(--jp-layout-color2, #eeeeee);\n",
       "}\n",
       "\n",
       "html[theme=\"dark\"],\n",
       "body[data-theme=\"dark\"],\n",
       "body.vscode-dark {\n",
       "  --font-color-primary: rgba(255, 255, 255, 1);\n",
       "  --font-color-secondary: rgba(255, 255, 255, 0.6);\n",
       "  --font-color-accent: rgb(173, 132, 190);\n",
       "  --border-color: #2e2e2e;\n",
       "  --background-color: #111111;\n",
       "  --background-color-row-even: #111111;\n",
       "  --background-color-row-odd: #313131;\n",
       "}\n",
       "\n",
       ".ee {\n",
       "  padding: 1em;\n",
       "  line-height: 1.5em;\n",
       "  min-width: 300px;\n",
       "  max-width: 1200px;\n",
       "  overflow-y: scroll;\n",
       "  max-height: 600px;\n",
       "  border: 1px solid var(--border-color);\n",
       "  font-family: monospace;\n",
       "}\n",
       "\n",
       ".ee li {\n",
       "  list-style-type: none;\n",
       "}\n",
       "\n",
       ".ee ul {\n",
       "  padding-left: 1.5em !important;\n",
       "  margin: 0;\n",
       "}\n",
       "\n",
       ".ee > ul {\n",
       "  padding-left: 0 !important;\n",
       "}\n",
       "\n",
       ".ee-open,\n",
       ".ee-shut {\n",
       "  color: var(--font-color-secondary);\n",
       "  cursor: pointer;\n",
       "  margin: 0;\n",
       "}\n",
       "\n",
       ".ee-open:hover,\n",
       ".ee-shut:hover {\n",
       "  color: var(--font-color-primary);\n",
       "}\n",
       "\n",
       ".ee-k {\n",
       "  color: var(--font-color-accent);\n",
       "  margin-right: 6px;\n",
       "}\n",
       "\n",
       ".ee-v {\n",
       "  color: var(--font-color-primary);\n",
       "}\n",
       "\n",
       ".ee-toggle {\n",
       "  display: none;\n",
       "}\n",
       "\n",
       ".ee-shut + ul {\n",
       "  display: none;\n",
       "}\n",
       "\n",
       ".ee-open + ul {\n",
       "  display: block;\n",
       "}\n",
       "\n",
       ".ee-shut::before {\n",
       "  display: inline-block;\n",
       "  content: \"▼\";\n",
       "  margin-right: 6px;\n",
       "  transform: rotate(-90deg);\n",
       "  transition: transform 0.2s;\n",
       "}\n",
       "\n",
       ".ee-open::before {\n",
       "  transform: rotate(0deg);\n",
       "  display: inline-block;\n",
       "  content: \"▼\";\n",
       "  margin-right: 6px;\n",
       "  transition: transform 0.2s;\n",
       "}\n",
       "</style><div class='ee'><ul><li><span class='ee-v'>0.05</span></li></ul></div><script>function toggleHeader() {\n",
       "    const parent = this.parentElement;\n",
       "    parent.className = parent.className === \"ee-open\" ? \"ee-shut\" : \"ee-open\";\n",
       "}\n",
       "\n",
       "for (let c of document.getElementsByClassName(\"ee-toggle\")) {\n",
       "    c.onclick = toggleHeader;\n",
       "}</script></div>"
      ],
      "text/plain": [
       "<ee.computedobject.ComputedObject at 0x169c480d0>"
      ]
     },
     "execution_count": 71,
     "metadata": {},
     "output_type": "execute_result"
    }
   ],
   "source": [
    "image.get('CLOUD_COVER')  # 0.05"
   ]
  },
  {
   "cell_type": "markdown",
   "metadata": {},
   "source": [
    "Get image properties with easy-to-read time format."
   ]
  },
  {
   "cell_type": "code",
   "execution_count": 72,
   "metadata": {},
   "outputs": [
    {
     "data": {
      "text/html": [
       "\n",
       "            <style>\n",
       "                .geemap-dark {\n",
       "                    --jp-widgets-color: white;\n",
       "                    --jp-widgets-label-color: white;\n",
       "                    --jp-ui-font-color1: white;\n",
       "                    --jp-layout-color2: #454545;\n",
       "                    background-color: #383838;\n",
       "                }\n",
       "                    \n",
       "                .geemap-dark .jupyter-button {\n",
       "                    --jp-layout-color3: #383838;\n",
       "                }\n",
       "                \n",
       "                .geemap-colab {\n",
       "                    background-color: var(--colab-primary-surface-color, white);\n",
       "                }\n",
       "                    \n",
       "                .geemap-colab .jupyter-button {\n",
       "                    --jp-layout-color3: var(--colab-primary-surface-color, white);\n",
       "                }\n",
       "            </style>\n",
       "            "
      ],
      "text/plain": [
       "<IPython.core.display.HTML object>"
      ]
     },
     "metadata": {},
     "output_type": "display_data"
    },
    {
     "data": {
      "text/html": [
       "<div><style>:root {\n",
       "  --font-color-primary: var(--jp-content-font-color0, rgba(0, 0, 0, 1));\n",
       "  --font-color-secondary: var(--jp-content-font-color2, rgba(0, 0, 0, 0.6));\n",
       "  --font-color-accent: rgba(123, 31, 162, 1);\n",
       "  --border-color: var(--jp-border-color2, #e0e0e0);\n",
       "  --background-color: var(--jp-layout-color0, white);\n",
       "  --background-color-row-even: var(--jp-layout-color1, white);\n",
       "  --background-color-row-odd: var(--jp-layout-color2, #eeeeee);\n",
       "}\n",
       "\n",
       "html[theme=\"dark\"],\n",
       "body[data-theme=\"dark\"],\n",
       "body.vscode-dark {\n",
       "  --font-color-primary: rgba(255, 255, 255, 1);\n",
       "  --font-color-secondary: rgba(255, 255, 255, 0.6);\n",
       "  --font-color-accent: rgb(173, 132, 190);\n",
       "  --border-color: #2e2e2e;\n",
       "  --background-color: #111111;\n",
       "  --background-color-row-even: #111111;\n",
       "  --background-color-row-odd: #313131;\n",
       "}\n",
       "\n",
       ".ee {\n",
       "  padding: 1em;\n",
       "  line-height: 1.5em;\n",
       "  min-width: 300px;\n",
       "  max-width: 1200px;\n",
       "  overflow-y: scroll;\n",
       "  max-height: 600px;\n",
       "  border: 1px solid var(--border-color);\n",
       "  font-family: monospace;\n",
       "}\n",
       "\n",
       ".ee li {\n",
       "  list-style-type: none;\n",
       "}\n",
       "\n",
       ".ee ul {\n",
       "  padding-left: 1.5em !important;\n",
       "  margin: 0;\n",
       "}\n",
       "\n",
       ".ee > ul {\n",
       "  padding-left: 0 !important;\n",
       "}\n",
       "\n",
       ".ee-open,\n",
       ".ee-shut {\n",
       "  color: var(--font-color-secondary);\n",
       "  cursor: pointer;\n",
       "  margin: 0;\n",
       "}\n",
       "\n",
       ".ee-open:hover,\n",
       ".ee-shut:hover {\n",
       "  color: var(--font-color-primary);\n",
       "}\n",
       "\n",
       ".ee-k {\n",
       "  color: var(--font-color-accent);\n",
       "  margin-right: 6px;\n",
       "}\n",
       "\n",
       ".ee-v {\n",
       "  color: var(--font-color-primary);\n",
       "}\n",
       "\n",
       ".ee-toggle {\n",
       "  display: none;\n",
       "}\n",
       "\n",
       ".ee-shut + ul {\n",
       "  display: none;\n",
       "}\n",
       "\n",
       ".ee-open + ul {\n",
       "  display: block;\n",
       "}\n",
       "\n",
       ".ee-shut::before {\n",
       "  display: inline-block;\n",
       "  content: \"▼\";\n",
       "  margin-right: 6px;\n",
       "  transform: rotate(-90deg);\n",
       "  transition: transform 0.2s;\n",
       "}\n",
       "\n",
       ".ee-open::before {\n",
       "  transform: rotate(0deg);\n",
       "  display: inline-block;\n",
       "  content: \"▼\";\n",
       "  margin-right: 6px;\n",
       "  transition: transform 0.2s;\n",
       "}\n",
       "</style><div class='ee'><ul><li><label class='ee-shut'>Object (28 properties)<input type='checkbox' class='ee-toggle'></label><ul><li><span class='ee-k'>CLOUD_COVER:</span><span class='ee-v'>0.05</span></li><li><span class='ee-k'>CLOUD_COVER_LAND:</span><span class='ee-v'>0.06</span></li><li><span class='ee-k'>EARTH_SUN_DISTANCE:</span><span class='ee-v'>1.001791</span></li><li><span class='ee-k'>ESPA_VERSION:</span><span class='ee-v'>2_23_0_1b</span></li><li><span class='ee-k'>GEOMETRIC_RMSE_MODEL:</span><span class='ee-v'>6.678</span></li><li><span class='ee-k'>GEOMETRIC_RMSE_MODEL_X:</span><span class='ee-v'>4.663</span></li><li><span class='ee-k'>GEOMETRIC_RMSE_MODEL_Y:</span><span class='ee-v'>4.78</span></li><li><span class='ee-k'>IMAGE_DATE:</span><span class='ee-v'>2013-04-09</span></li><li><span class='ee-k'>IMAGE_QUALITY_OLI:</span><span class='ee-v'>9</span></li><li><span class='ee-k'>IMAGE_QUALITY_TIRS:</span><span class='ee-v'>9</span></li><li><span class='ee-k'>LANDSAT_ID:</span><span class='ee-v'>LC08_L1TP_044034_20130409_20170310_01_T1</span></li><li><span class='ee-k'>LEVEL1_PRODUCTION_DATE:</span><span class='ee-v'>1489126619000</span></li><li><span class='ee-k'>NOMINAL_SCALE:</span><span class='ee-v'>30</span></li><li><span class='ee-k'>PIXEL_QA_VERSION:</span><span class='ee-v'>generate_pixel_qa_1.6.0</span></li><li><span class='ee-k'>SATELLITE:</span><span class='ee-v'>LANDSAT_8</span></li><li><span class='ee-k'>SENSING_TIME:</span><span class='ee-v'>2013-04-09T18:46:34.7579070Z</span></li><li><span class='ee-k'>SOLAR_AZIMUTH_ANGLE:</span><span class='ee-v'>142.742508</span></li><li><span class='ee-k'>SOLAR_ZENITH_ANGLE:</span><span class='ee-v'>34.973495</span></li><li><span class='ee-k'>SR_APP_VERSION:</span><span class='ee-v'>LaSRC_1.3.0</span></li><li><span class='ee-k'>WRS_PATH:</span><span class='ee-v'>44</span></li><li><span class='ee-k'>WRS_ROW:</span><span class='ee-v'>34</span></li><li><span class='ee-k'>system:asset_size:</span><span class='ee-v'>558.682087 MB</span></li><li><label class='ee-shut'>system:band_names: List (12 elements)<input type='checkbox' class='ee-toggle'></label><ul><li><span class='ee-k'>0:</span><span class='ee-v'>B1</span></li><li><span class='ee-k'>1:</span><span class='ee-v'>B2</span></li><li><span class='ee-k'>2:</span><span class='ee-v'>B3</span></li><li><span class='ee-k'>3:</span><span class='ee-v'>B4</span></li><li><span class='ee-k'>4:</span><span class='ee-v'>B5</span></li><li><span class='ee-k'>5:</span><span class='ee-v'>B6</span></li><li><span class='ee-k'>6:</span><span class='ee-v'>B7</span></li><li><span class='ee-k'>7:</span><span class='ee-v'>B10</span></li><li><span class='ee-k'>8:</span><span class='ee-v'>B11</span></li><li><span class='ee-k'>9:</span><span class='ee-v'>sr_aerosol</span></li><li><span class='ee-k'>10:</span><span class='ee-v'>pixel_qa</span></li><li><span class='ee-k'>11:</span><span class='ee-v'>radsat_qa</span></li></ul></li><li><span class='ee-k'>system:id:</span><span class='ee-v'>LANDSAT/LC08/C01/T1_SR/LC08_044034_20130409</span></li><li><span class='ee-k'>system:index:</span><span class='ee-v'>LC08_044034_20130409</span></li><li><span class='ee-k'>system:time_end:</span><span class='ee-v'>2013-04-09 18:46:34</span></li><li><span class='ee-k'>system:time_start:</span><span class='ee-v'>2013-04-09 18:46:34</span></li><li><span class='ee-k'>system:version:</span><span class='ee-v'>1581684730621653</span></li></ul></li></ul></div><script>function toggleHeader() {\n",
       "    const parent = this.parentElement;\n",
       "    parent.className = parent.className === \"ee-open\" ? \"ee-shut\" : \"ee-open\";\n",
       "}\n",
       "\n",
       "for (let c of document.getElementsByClassName(\"ee-toggle\")) {\n",
       "    c.onclick = toggleHeader;\n",
       "}</script></div>"
      ],
      "text/plain": [
       "<ee.dictionary.Dictionary at 0x169c4fc40>"
      ]
     },
     "execution_count": 72,
     "metadata": {},
     "output_type": "execute_result"
    }
   ],
   "source": [
    "props = geemap.image_props(image)\n",
    "props"
   ]
  },
  {
   "cell_type": "markdown",
   "metadata": {},
   "source": [
    "Compute image descriptive statistics."
   ]
  },
  {
   "cell_type": "code",
   "execution_count": 73,
   "metadata": {},
   "outputs": [
    {
     "data": {
      "text/html": [
       "\n",
       "            <style>\n",
       "                .geemap-dark {\n",
       "                    --jp-widgets-color: white;\n",
       "                    --jp-widgets-label-color: white;\n",
       "                    --jp-ui-font-color1: white;\n",
       "                    --jp-layout-color2: #454545;\n",
       "                    background-color: #383838;\n",
       "                }\n",
       "                    \n",
       "                .geemap-dark .jupyter-button {\n",
       "                    --jp-layout-color3: #383838;\n",
       "                }\n",
       "                \n",
       "                .geemap-colab {\n",
       "                    background-color: var(--colab-primary-surface-color, white);\n",
       "                }\n",
       "                    \n",
       "                .geemap-colab .jupyter-button {\n",
       "                    --jp-layout-color3: var(--colab-primary-surface-color, white);\n",
       "                }\n",
       "            </style>\n",
       "            "
      ],
      "text/plain": [
       "<IPython.core.display.HTML object>"
      ]
     },
     "metadata": {},
     "output_type": "display_data"
    },
    {
     "data": {
      "text/html": [
       "<div><style>:root {\n",
       "  --font-color-primary: var(--jp-content-font-color0, rgba(0, 0, 0, 1));\n",
       "  --font-color-secondary: var(--jp-content-font-color2, rgba(0, 0, 0, 0.6));\n",
       "  --font-color-accent: rgba(123, 31, 162, 1);\n",
       "  --border-color: var(--jp-border-color2, #e0e0e0);\n",
       "  --background-color: var(--jp-layout-color0, white);\n",
       "  --background-color-row-even: var(--jp-layout-color1, white);\n",
       "  --background-color-row-odd: var(--jp-layout-color2, #eeeeee);\n",
       "}\n",
       "\n",
       "html[theme=\"dark\"],\n",
       "body[data-theme=\"dark\"],\n",
       "body.vscode-dark {\n",
       "  --font-color-primary: rgba(255, 255, 255, 1);\n",
       "  --font-color-secondary: rgba(255, 255, 255, 0.6);\n",
       "  --font-color-accent: rgb(173, 132, 190);\n",
       "  --border-color: #2e2e2e;\n",
       "  --background-color: #111111;\n",
       "  --background-color-row-even: #111111;\n",
       "  --background-color-row-odd: #313131;\n",
       "}\n",
       "\n",
       ".ee {\n",
       "  padding: 1em;\n",
       "  line-height: 1.5em;\n",
       "  min-width: 300px;\n",
       "  max-width: 1200px;\n",
       "  overflow-y: scroll;\n",
       "  max-height: 600px;\n",
       "  border: 1px solid var(--border-color);\n",
       "  font-family: monospace;\n",
       "}\n",
       "\n",
       ".ee li {\n",
       "  list-style-type: none;\n",
       "}\n",
       "\n",
       ".ee ul {\n",
       "  padding-left: 1.5em !important;\n",
       "  margin: 0;\n",
       "}\n",
       "\n",
       ".ee > ul {\n",
       "  padding-left: 0 !important;\n",
       "}\n",
       "\n",
       ".ee-open,\n",
       ".ee-shut {\n",
       "  color: var(--font-color-secondary);\n",
       "  cursor: pointer;\n",
       "  margin: 0;\n",
       "}\n",
       "\n",
       ".ee-open:hover,\n",
       ".ee-shut:hover {\n",
       "  color: var(--font-color-primary);\n",
       "}\n",
       "\n",
       ".ee-k {\n",
       "  color: var(--font-color-accent);\n",
       "  margin-right: 6px;\n",
       "}\n",
       "\n",
       ".ee-v {\n",
       "  color: var(--font-color-primary);\n",
       "}\n",
       "\n",
       ".ee-toggle {\n",
       "  display: none;\n",
       "}\n",
       "\n",
       ".ee-shut + ul {\n",
       "  display: none;\n",
       "}\n",
       "\n",
       ".ee-open + ul {\n",
       "  display: block;\n",
       "}\n",
       "\n",
       ".ee-shut::before {\n",
       "  display: inline-block;\n",
       "  content: \"▼\";\n",
       "  margin-right: 6px;\n",
       "  transform: rotate(-90deg);\n",
       "  transition: transform 0.2s;\n",
       "}\n",
       "\n",
       ".ee-open::before {\n",
       "  transform: rotate(0deg);\n",
       "  display: inline-block;\n",
       "  content: \"▼\";\n",
       "  margin-right: 6px;\n",
       "  transition: transform 0.2s;\n",
       "}\n",
       "</style><div class='ee'><ul><li><label class='ee-shut'>Object (5 properties)<input type='checkbox' class='ee-toggle'></label><ul><li><label class='ee-shut'>max: Object (12 properties)<input type='checkbox' class='ee-toggle'></label><ul><li><span class='ee-k'>B1:</span><span class='ee-v'>13619</span></li><li><span class='ee-k'>B10:</span><span class='ee-v'>3157</span></li><li><span class='ee-k'>B11:</span><span class='ee-v'>3129</span></li><li><span class='ee-k'>B2:</span><span class='ee-v'>13927</span></li><li><span class='ee-k'>B3:</span><span class='ee-v'>15027</span></li><li><span class='ee-k'>B4:</span><span class='ee-v'>15006</span></li><li><span class='ee-k'>B5:</span><span class='ee-v'>14734</span></li><li><span class='ee-k'>B6:</span><span class='ee-v'>15394</span></li><li><span class='ee-k'>B7:</span><span class='ee-v'>15875</span></li><li><span class='ee-k'>pixel_qa:</span><span class='ee-v'>834</span></li><li><span class='ee-k'>radsat_qa:</span><span class='ee-v'>254</span></li><li><span class='ee-k'>sr_aerosol:</span><span class='ee-v'>228</span></li></ul></li><li><label class='ee-shut'>mean: Object (12 properties)<input type='checkbox' class='ee-toggle'></label><ul><li><span class='ee-k'>B1:</span><span class='ee-v'>373.1726644893754</span></li><li><span class='ee-k'>B10:</span><span class='ee-v'>2933.3468360917377</span></li><li><span class='ee-k'>B11:</span><span class='ee-v'>2916.1595090391606</span></li><li><span class='ee-k'>B2:</span><span class='ee-v'>427.3772568549278</span></li><li><span class='ee-k'>B3:</span><span class='ee-v'>614.8436692570979</span></li><li><span class='ee-k'>B4:</span><span class='ee-v'>591.2399058309232</span></li><li><span class='ee-k'>B5:</span><span class='ee-v'>1954.205975438382</span></li><li><span class='ee-k'>B6:</span><span class='ee-v'>1472.0903200013267</span></li><li><span class='ee-k'>B7:</span><span class='ee-v'>996.8030059412354</span></li><li><span class='ee-k'>pixel_qa:</span><span class='ee-v'>322.8439734001687</span></li><li><span class='ee-k'>radsat_qa:</span><span class='ee-v'>0.00016066332799187966</span></li><li><span class='ee-k'>sr_aerosol:</span><span class='ee-v'>90.67310882142343</span></li></ul></li><li><label class='ee-shut'>min: Object (12 properties)<input type='checkbox' class='ee-toggle'></label><ul><li><span class='ee-k'>B1:</span><span class='ee-v'>-2000</span></li><li><span class='ee-k'>B10:</span><span class='ee-v'>2735</span></li><li><span class='ee-k'>B11:</span><span class='ee-v'>2661</span></li><li><span class='ee-k'>B2:</span><span class='ee-v'>-2000</span></li><li><span class='ee-k'>B3:</span><span class='ee-v'>-1590</span></li><li><span class='ee-k'>B4:</span><span class='ee-v'>-1671</span></li><li><span class='ee-k'>B5:</span><span class='ee-v'>-222</span></li><li><span class='ee-k'>B6:</span><span class='ee-v'>-108</span></li><li><span class='ee-k'>B7:</span><span class='ee-v'>-54</span></li><li><span class='ee-k'>pixel_qa:</span><span class='ee-v'>322</span></li><li><span class='ee-k'>radsat_qa:</span><span class='ee-v'>0</span></li><li><span class='ee-k'>sr_aerosol:</span><span class='ee-v'>8</span></li></ul></li><li><label class='ee-shut'>std: Object (12 properties)<input type='checkbox' class='ee-toggle'></label><ul><li><span class='ee-k'>B1:</span><span class='ee-v'>217.8725775842265</span></li><li><span class='ee-k'>B10:</span><span class='ee-v'>67.60157379721916</span></li><li><span class='ee-k'>B11:</span><span class='ee-v'>63.8863306004462</span></li><li><span class='ee-k'>B2:</span><span class='ee-v'>247.29896236085855</span></li><li><span class='ee-k'>B3:</span><span class='ee-v'>312.21830071192664</span></li><li><span class='ee-k'>B4:</span><span class='ee-v'>410.7108722666891</span></li><li><span class='ee-k'>B5:</span><span class='ee-v'>1219.1599281513597</span></li><li><span class='ee-k'>B6:</span><span class='ee-v'>941.2496196855449</span></li><li><span class='ee-k'>B7:</span><span class='ee-v'>744.1469631243534</span></li><li><span class='ee-k'>pixel_qa:</span><span class='ee-v'>4.988877486476503</span></li><li><span class='ee-k'>radsat_qa:</span><span class='ee-v'>0.1580637487536732</span></li><li><span class='ee-k'>sr_aerosol:</span><span class='ee-v'>24.489609431565157</span></li></ul></li><li><label class='ee-shut'>sum: Object (12 properties)<input type='checkbox' class='ee-toggle'></label><ul><li><span class='ee-k'>B1:</span><span class='ee-v'>14024460817.22353</span></li><li><span class='ee-k'>B10:</span><span class='ee-v'>110240142649.21176</span></li><li><span class='ee-k'>B11:</span><span class='ee-v'>109594213786.41176</span></li><li><span class='ee-k'>B2:</span><span class='ee-v'>16061561210.909805</span></li><li><span class='ee-k'>B3:</span><span class='ee-v'>23106866522.533333</span></li><li><span class='ee-k'>B4:</span><span class='ee-v'>22219797112.552944</span></li><li><span class='ee-k'>B5:</span><span class='ee-v'>73442370621.70981</span></li><li><span class='ee-k'>B6:</span><span class='ee-v'>55323647675.3255</span></li><li><span class='ee-k'>B7:</span><span class='ee-v'>37461545363.83922</span></li><li><span class='ee-k'>pixel_qa:</span><span class='ee-v'>12133023358.564705</span></li><li><span class='ee-k'>radsat_qa:</span><span class='ee-v'>6038</span></li><li><span class='ee-k'>sr_aerosol:</span><span class='ee-v'>3407649013.0431376</span></li></ul></li></ul></li></ul></div><script>function toggleHeader() {\n",
       "    const parent = this.parentElement;\n",
       "    parent.className = parent.className === \"ee-open\" ? \"ee-shut\" : \"ee-open\";\n",
       "}\n",
       "\n",
       "for (let c of document.getElementsByClassName(\"ee-toggle\")) {\n",
       "    c.onclick = toggleHeader;\n",
       "}</script></div>"
      ],
      "text/plain": [
       "<ee.dictionary.Dictionary at 0x169b944c0>"
      ]
     },
     "execution_count": 73,
     "metadata": {},
     "output_type": "execute_result"
    }
   ],
   "source": [
    "stats = geemap.image_stats(image, scale=30)\n",
    "stats"
   ]
  },
  {
   "cell_type": "markdown",
   "metadata": {},
   "source": [
    "### Zonal statistics\n",
    "\n",
    "#### Zonal statistics\n",
    "\n",
    "Add Earth Engine data to the map."
   ]
  },
  {
   "cell_type": "code",
   "execution_count": 74,
   "metadata": {},
   "outputs": [
    {
     "data": {
      "text/html": [
       "\n",
       "            <style>\n",
       "                .geemap-dark {\n",
       "                    --jp-widgets-color: white;\n",
       "                    --jp-widgets-label-color: white;\n",
       "                    --jp-ui-font-color1: white;\n",
       "                    --jp-layout-color2: #454545;\n",
       "                    background-color: #383838;\n",
       "                }\n",
       "                    \n",
       "                .geemap-dark .jupyter-button {\n",
       "                    --jp-layout-color3: #383838;\n",
       "                }\n",
       "                \n",
       "                .geemap-colab {\n",
       "                    background-color: var(--colab-primary-surface-color, white);\n",
       "                }\n",
       "                    \n",
       "                .geemap-colab .jupyter-button {\n",
       "                    --jp-layout-color3: var(--colab-primary-surface-color, white);\n",
       "                }\n",
       "            </style>\n",
       "            "
      ],
      "text/plain": [
       "<IPython.core.display.HTML object>"
      ]
     },
     "metadata": {},
     "output_type": "display_data"
    },
    {
     "data": {
      "application/vnd.jupyter.widget-view+json": {
       "model_id": "8da6469315e54b61b42e516d8eb98ffc",
       "version_major": 2,
       "version_minor": 0
      },
      "text/plain": [
       "Map(center=[40, -100], controls=(WidgetControl(options=['position', 'transparent_bg'], widget=SearchDataGUI(ch…"
      ]
     },
     "execution_count": 74,
     "metadata": {},
     "output_type": "execute_result"
    }
   ],
   "source": [
    "m = geemap.Map(center=[40, -100], zoom=4)\n",
    "\n",
    "# Add NASA SRTM\n",
    "dem = ee.Image('USGS/SRTMGL1_003')\n",
    "dem_vis = {\n",
    "    'min': 0,\n",
    "    'max': 4000,\n",
    "    'palette': ['006633', 'E5FFCC', '662A00', 'D8D8D8', 'F5F5F5'],\n",
    "}\n",
    "m.add_layer(dem, dem_vis, 'SRTM DEM')\n",
    "\n",
    "# Add 5-year Landsat TOA composite\n",
    "landsat = ee.Image('LANDSAT/LE7_TOA_5YEAR/1999_2003')\n",
    "landsat_vis = {'bands': ['B4', 'B3', 'B2'], 'gamma': 1.4}\n",
    "m.add_layer(landsat, landsat_vis, \"Landsat\", False)\n",
    "\n",
    "# Add US Census States\n",
    "states = ee.FeatureCollection(\"TIGER/2018/States\")\n",
    "style = {'fillColor': '00000000'}\n",
    "m.add_layer(states.style(**style), {}, 'US States')\n",
    "m"
   ]
  },
  {
   "cell_type": "markdown",
   "metadata": {},
   "source": [
    "Compute zonal statistics. In this case, we compute the mean elevation of each state and export the results to a CSV file."
   ]
  },
  {
   "cell_type": "code",
   "execution_count": 75,
   "metadata": {},
   "outputs": [
    {
     "data": {
      "text/html": [
       "\n",
       "            <style>\n",
       "                .geemap-dark {\n",
       "                    --jp-widgets-color: white;\n",
       "                    --jp-widgets-label-color: white;\n",
       "                    --jp-ui-font-color1: white;\n",
       "                    --jp-layout-color2: #454545;\n",
       "                    background-color: #383838;\n",
       "                }\n",
       "                    \n",
       "                .geemap-dark .jupyter-button {\n",
       "                    --jp-layout-color3: #383838;\n",
       "                }\n",
       "                \n",
       "                .geemap-colab {\n",
       "                    background-color: var(--colab-primary-surface-color, white);\n",
       "                }\n",
       "                    \n",
       "                .geemap-colab .jupyter-button {\n",
       "                    --jp-layout-color3: var(--colab-primary-surface-color, white);\n",
       "                }\n",
       "            </style>\n",
       "            "
      ],
      "text/plain": [
       "<IPython.core.display.HTML object>"
      ]
     },
     "metadata": {},
     "output_type": "display_data"
    },
    {
     "name": "stdout",
     "output_type": "stream",
     "text": [
      "Computing statistics ...\n",
      "Generating URL ...\n",
      "Downloading data from https://earthengine.googleapis.com/v1/projects/earthengine-legacy/tables/04e8c7b138ea4c98a9a99871c8737598-72aa8445997ce98b1e314ebc347a6322:getFeatures\n",
      "Please wait ...\n",
      "Data downloaded to /Users/ilyonsg/Documents/gee/gee-python-workshop/dem_stats.csv\n"
     ]
    }
   ],
   "source": [
    "out_dem_stats = 'exports/dem_stats.csv'\n",
    "geemap.zonal_stats(\n",
    "    dem, states, out_dem_stats, statistics_type='MEAN', scale=1000, return_fc=False\n",
    ")"
   ]
  },
  {
   "cell_type": "markdown",
   "metadata": {},
   "source": [
    "Display the csv file as a table."
   ]
  },
  {
   "cell_type": "code",
   "execution_count": 76,
   "metadata": {},
   "outputs": [
    {
     "data": {
      "text/html": [
       "\n",
       "            <style>\n",
       "                .geemap-dark {\n",
       "                    --jp-widgets-color: white;\n",
       "                    --jp-widgets-label-color: white;\n",
       "                    --jp-ui-font-color1: white;\n",
       "                    --jp-layout-color2: #454545;\n",
       "                    background-color: #383838;\n",
       "                }\n",
       "                    \n",
       "                .geemap-dark .jupyter-button {\n",
       "                    --jp-layout-color3: #383838;\n",
       "                }\n",
       "                \n",
       "                .geemap-colab {\n",
       "                    background-color: var(--colab-primary-surface-color, white);\n",
       "                }\n",
       "                    \n",
       "                .geemap-colab .jupyter-button {\n",
       "                    --jp-layout-color3: var(--colab-primary-surface-color, white);\n",
       "                }\n",
       "            </style>\n",
       "            "
      ],
      "text/plain": [
       "<IPython.core.display.HTML object>"
      ]
     },
     "metadata": {},
     "output_type": "display_data"
    },
    {
     "data": {
      "text/html": [
       "<div>\n",
       "<style scoped>\n",
       "    .dataframe tbody tr th:only-of-type {\n",
       "        vertical-align: middle;\n",
       "    }\n",
       "\n",
       "    .dataframe tbody tr th {\n",
       "        vertical-align: top;\n",
       "    }\n",
       "\n",
       "    .dataframe thead th {\n",
       "        text-align: right;\n",
       "    }\n",
       "</style>\n",
       "<table border=\"1\" class=\"dataframe\">\n",
       "  <thead>\n",
       "    <tr style=\"text-align: right;\">\n",
       "      <th></th>\n",
       "      <th>mean</th>\n",
       "      <th>STATENS</th>\n",
       "      <th>GEOID</th>\n",
       "      <th>AWATER</th>\n",
       "      <th>LSAD</th>\n",
       "      <th>STUSPS</th>\n",
       "      <th>STATEFP</th>\n",
       "      <th>FUNCSTAT</th>\n",
       "      <th>INTPTLAT</th>\n",
       "      <th>DIVISION</th>\n",
       "      <th>REGION</th>\n",
       "      <th>NAME</th>\n",
       "      <th>INTPTLON</th>\n",
       "      <th>MTFCC</th>\n",
       "      <th>ALAND</th>\n",
       "      <th>system:index</th>\n",
       "    </tr>\n",
       "  </thead>\n",
       "  <tbody>\n",
       "    <tr>\n",
       "      <th>30</th>\n",
       "      <td>13.904218</td>\n",
       "      <td>1779781</td>\n",
       "      <td>10</td>\n",
       "      <td>1399985648</td>\n",
       "      <td>0</td>\n",
       "      <td>DE</td>\n",
       "      <td>10</td>\n",
       "      <td>A</td>\n",
       "      <td>38.998566</td>\n",
       "      <td>5</td>\n",
       "      <td>3</td>\n",
       "      <td>Delaware</td>\n",
       "      <td>-75.441644</td>\n",
       "      <td>G4000</td>\n",
       "      <td>5045925646</td>\n",
       "      <td>0000000000000000000b</td>\n",
       "    </tr>\n",
       "    <tr>\n",
       "      <th>1</th>\n",
       "      <td>14.699425</td>\n",
       "      <td>1779809</td>\n",
       "      <td>69</td>\n",
       "      <td>4644252461</td>\n",
       "      <td>0</td>\n",
       "      <td>MP</td>\n",
       "      <td>69</td>\n",
       "      <td>A</td>\n",
       "      <td>14.936784</td>\n",
       "      <td>0</td>\n",
       "      <td>9</td>\n",
       "      <td>Commonwealth of the Northern Mariana Islands</td>\n",
       "      <td>145.601021</td>\n",
       "      <td>G4000</td>\n",
       "      <td>472292529</td>\n",
       "      <td>00000000000000000023</td>\n",
       "    </tr>\n",
       "    <tr>\n",
       "      <th>0</th>\n",
       "      <td>15.149698</td>\n",
       "      <td>1802710</td>\n",
       "      <td>78</td>\n",
       "      <td>1550236201</td>\n",
       "      <td>0</td>\n",
       "      <td>VI</td>\n",
       "      <td>78</td>\n",
       "      <td>A</td>\n",
       "      <td>18.326748</td>\n",
       "      <td>0</td>\n",
       "      <td>9</td>\n",
       "      <td>United States Virgin Islands</td>\n",
       "      <td>-64.971251</td>\n",
       "      <td>G4000</td>\n",
       "      <td>348021896</td>\n",
       "      <td>00000000000000000022</td>\n",
       "    </tr>\n",
       "    <tr>\n",
       "      <th>27</th>\n",
       "      <td>21.218275</td>\n",
       "      <td>294478</td>\n",
       "      <td>12</td>\n",
       "      <td>31361101223</td>\n",
       "      <td>0</td>\n",
       "      <td>FL</td>\n",
       "      <td>12</td>\n",
       "      <td>A</td>\n",
       "      <td>28.457430</td>\n",
       "      <td>5</td>\n",
       "      <td>3</td>\n",
       "      <td>Florida</td>\n",
       "      <td>-82.409148</td>\n",
       "      <td>G4000</td>\n",
       "      <td>138949136250</td>\n",
       "      <td>00000000000000000001</td>\n",
       "    </tr>\n",
       "    <tr>\n",
       "      <th>3</th>\n",
       "      <td>26.543959</td>\n",
       "      <td>1802701</td>\n",
       "      <td>60</td>\n",
       "      <td>1307243754</td>\n",
       "      <td>0</td>\n",
       "      <td>AS</td>\n",
       "      <td>60</td>\n",
       "      <td>A</td>\n",
       "      <td>-14.267159</td>\n",
       "      <td>0</td>\n",
       "      <td>9</td>\n",
       "      <td>American Samoa</td>\n",
       "      <td>-170.668267</td>\n",
       "      <td>G4000</td>\n",
       "      <td>197759063</td>\n",
       "      <td>00000000000000000029</td>\n",
       "    </tr>\n",
       "    <tr>\n",
       "      <th>39</th>\n",
       "      <td>30.862419</td>\n",
       "      <td>1629543</td>\n",
       "      <td>22</td>\n",
       "      <td>23753621895</td>\n",
       "      <td>0</td>\n",
       "      <td>LA</td>\n",
       "      <td>22</td>\n",
       "      <td>A</td>\n",
       "      <td>30.863437</td>\n",
       "      <td>7</td>\n",
       "      <td>3</td>\n",
       "      <td>Louisiana</td>\n",
       "      <td>-91.798717</td>\n",
       "      <td>G4000</td>\n",
       "      <td>111897594374</td>\n",
       "      <td>00000000000000000014</td>\n",
       "    </tr>\n",
       "    <tr>\n",
       "      <th>2</th>\n",
       "      <td>36.152070</td>\n",
       "      <td>1802705</td>\n",
       "      <td>66</td>\n",
       "      <td>934337453</td>\n",
       "      <td>0</td>\n",
       "      <td>GU</td>\n",
       "      <td>66</td>\n",
       "      <td>A</td>\n",
       "      <td>13.438289</td>\n",
       "      <td>0</td>\n",
       "      <td>9</td>\n",
       "      <td>Guam</td>\n",
       "      <td>144.772949</td>\n",
       "      <td>G4000</td>\n",
       "      <td>543555840</td>\n",
       "      <td>00000000000000000024</td>\n",
       "    </tr>\n",
       "    <tr>\n",
       "      <th>34</th>\n",
       "      <td>43.438403</td>\n",
       "      <td>1702382</td>\n",
       "      <td>11</td>\n",
       "      <td>18687198</td>\n",
       "      <td>0</td>\n",
       "      <td>DC</td>\n",
       "      <td>11</td>\n",
       "      <td>A</td>\n",
       "      <td>38.904103</td>\n",
       "      <td>5</td>\n",
       "      <td>3</td>\n",
       "      <td>District of Columbia</td>\n",
       "      <td>-77.017229</td>\n",
       "      <td>G4000</td>\n",
       "      <td>158340391</td>\n",
       "      <td>00000000000000000035</td>\n",
       "    </tr>\n",
       "    <tr>\n",
       "      <th>5</th>\n",
       "      <td>57.769871</td>\n",
       "      <td>1219835</td>\n",
       "      <td>44</td>\n",
       "      <td>1323670487</td>\n",
       "      <td>0</td>\n",
       "      <td>RI</td>\n",
       "      <td>44</td>\n",
       "      <td>A</td>\n",
       "      <td>41.597419</td>\n",
       "      <td>1</td>\n",
       "      <td>1</td>\n",
       "      <td>Rhode Island</td>\n",
       "      <td>-71.527272</td>\n",
       "      <td>G4000</td>\n",
       "      <td>2677779902</td>\n",
       "      <td>00000000000000000005</td>\n",
       "    </tr>\n",
       "    <tr>\n",
       "      <th>11</th>\n",
       "      <td>65.266327</td>\n",
       "      <td>1779795</td>\n",
       "      <td>34</td>\n",
       "      <td>3544860246</td>\n",
       "      <td>0</td>\n",
       "      <td>NJ</td>\n",
       "      <td>34</td>\n",
       "      <td>A</td>\n",
       "      <td>40.107274</td>\n",
       "      <td>2</td>\n",
       "      <td>1</td>\n",
       "      <td>New Jersey</td>\n",
       "      <td>-74.665201</td>\n",
       "      <td>G4000</td>\n",
       "      <td>19047825980</td>\n",
       "      <td>0000000000000000000e</td>\n",
       "    </tr>\n",
       "    <tr>\n",
       "      <th>38</th>\n",
       "      <td>90.901962</td>\n",
       "      <td>1779790</td>\n",
       "      <td>28</td>\n",
       "      <td>3926919758</td>\n",
       "      <td>0</td>\n",
       "      <td>MS</td>\n",
       "      <td>28</td>\n",
       "      <td>A</td>\n",
       "      <td>32.686471</td>\n",
       "      <td>6</td>\n",
       "      <td>3</td>\n",
       "      <td>Mississippi</td>\n",
       "      <td>-89.656138</td>\n",
       "      <td>G4000</td>\n",
       "      <td>121533519481</td>\n",
       "      <td>0000000000000000002c</td>\n",
       "    </tr>\n",
       "    <tr>\n",
       "      <th>32</th>\n",
       "      <td>99.896965</td>\n",
       "      <td>1779799</td>\n",
       "      <td>45</td>\n",
       "      <td>5075218778</td>\n",
       "      <td>0</td>\n",
       "      <td>SC</td>\n",
       "      <td>45</td>\n",
       "      <td>A</td>\n",
       "      <td>33.874178</td>\n",
       "      <td>5</td>\n",
       "      <td>3</td>\n",
       "      <td>South Carolina</td>\n",
       "      <td>-80.854264</td>\n",
       "      <td>G4000</td>\n",
       "      <td>77864918488</td>\n",
       "      <td>0000000000000000001b</td>\n",
       "    </tr>\n",
       "    <tr>\n",
       "      <th>28</th>\n",
       "      <td>107.979334</td>\n",
       "      <td>1714934</td>\n",
       "      <td>24</td>\n",
       "      <td>6979966958</td>\n",
       "      <td>0</td>\n",
       "      <td>MD</td>\n",
       "      <td>24</td>\n",
       "      <td>A</td>\n",
       "      <td>38.946658</td>\n",
       "      <td>5</td>\n",
       "      <td>3</td>\n",
       "      <td>Maryland</td>\n",
       "      <td>-76.674494</td>\n",
       "      <td>G4000</td>\n",
       "      <td>25151100280</td>\n",
       "      <td>00000000000000000004</td>\n",
       "    </tr>\n",
       "    <tr>\n",
       "      <th>10</th>\n",
       "      <td>131.079799</td>\n",
       "      <td>606926</td>\n",
       "      <td>25</td>\n",
       "      <td>7129925486</td>\n",
       "      <td>0</td>\n",
       "      <td>MA</td>\n",
       "      <td>25</td>\n",
       "      <td>A</td>\n",
       "      <td>42.156520</td>\n",
       "      <td>1</td>\n",
       "      <td>1</td>\n",
       "      <td>Massachusetts</td>\n",
       "      <td>-71.489592</td>\n",
       "      <td>G4000</td>\n",
       "      <td>20205125364</td>\n",
       "      <td>00000000000000000033</td>\n",
       "    </tr>\n",
       "    <tr>\n",
       "      <th>8</th>\n",
       "      <td>133.111310</td>\n",
       "      <td>1779780</td>\n",
       "      <td>9</td>\n",
       "      <td>1815617571</td>\n",
       "      <td>0</td>\n",
       "      <td>CT</td>\n",
       "      <td>9</td>\n",
       "      <td>A</td>\n",
       "      <td>41.579864</td>\n",
       "      <td>1</td>\n",
       "      <td>1</td>\n",
       "      <td>Connecticut</td>\n",
       "      <td>-72.746657</td>\n",
       "      <td>G4000</td>\n",
       "      <td>12542497068</td>\n",
       "      <td>0000000000000000000a</td>\n",
       "    </tr>\n",
       "    <tr>\n",
       "      <th>35</th>\n",
       "      <td>143.795001</td>\n",
       "      <td>1779775</td>\n",
       "      <td>1</td>\n",
       "      <td>4593327154</td>\n",
       "      <td>0</td>\n",
       "      <td>AL</td>\n",
       "      <td>1</td>\n",
       "      <td>A</td>\n",
       "      <td>32.739632</td>\n",
       "      <td>6</td>\n",
       "      <td>3</td>\n",
       "      <td>Alabama</td>\n",
       "      <td>-86.843459</td>\n",
       "      <td>G4000</td>\n",
       "      <td>131174048583</td>\n",
       "      <td>00000000000000000016</td>\n",
       "    </tr>\n",
       "    <tr>\n",
       "      <th>4</th>\n",
       "      <td>151.547035</td>\n",
       "      <td>1779808</td>\n",
       "      <td>72</td>\n",
       "      <td>4922382562</td>\n",
       "      <td>0</td>\n",
       "      <td>PR</td>\n",
       "      <td>72</td>\n",
       "      <td>A</td>\n",
       "      <td>18.217648</td>\n",
       "      <td>0</td>\n",
       "      <td>9</td>\n",
       "      <td>Puerto Rico</td>\n",
       "      <td>-66.410799</td>\n",
       "      <td>G4000</td>\n",
       "      <td>8868896030</td>\n",
       "      <td>00000000000000000031</td>\n",
       "    </tr>\n",
       "    <tr>\n",
       "      <th>31</th>\n",
       "      <td>159.012285</td>\n",
       "      <td>1705317</td>\n",
       "      <td>13</td>\n",
       "      <td>4422936154</td>\n",
       "      <td>0</td>\n",
       "      <td>GA</td>\n",
       "      <td>13</td>\n",
       "      <td>A</td>\n",
       "      <td>32.629579</td>\n",
       "      <td>5</td>\n",
       "      <td>3</td>\n",
       "      <td>Georgia</td>\n",
       "      <td>-83.423511</td>\n",
       "      <td>G4000</td>\n",
       "      <td>149482048342</td>\n",
       "      <td>00000000000000000015</td>\n",
       "    </tr>\n",
       "    <tr>\n",
       "      <th>42</th>\n",
       "      <td>166.667753</td>\n",
       "      <td>68085</td>\n",
       "      <td>5</td>\n",
       "      <td>2962859592</td>\n",
       "      <td>0</td>\n",
       "      <td>AR</td>\n",
       "      <td>5</td>\n",
       "      <td>A</td>\n",
       "      <td>34.895526</td>\n",
       "      <td>7</td>\n",
       "      <td>3</td>\n",
       "      <td>Arkansas</td>\n",
       "      <td>-92.444626</td>\n",
       "      <td>G4000</td>\n",
       "      <td>134768872727</td>\n",
       "      <td>0000000000000000002b</td>\n",
       "    </tr>\n",
       "    <tr>\n",
       "      <th>14</th>\n",
       "      <td>191.298394</td>\n",
       "      <td>1779784</td>\n",
       "      <td>17</td>\n",
       "      <td>6214824948</td>\n",
       "      <td>0</td>\n",
       "      <td>IL</td>\n",
       "      <td>17</td>\n",
       "      <td>A</td>\n",
       "      <td>40.102875</td>\n",
       "      <td>3</td>\n",
       "      <td>2</td>\n",
       "      <td>Illinois</td>\n",
       "      <td>-89.152611</td>\n",
       "      <td>G4000</td>\n",
       "      <td>143780567633</td>\n",
       "      <td>00000000000000000002</td>\n",
       "    </tr>\n",
       "    <tr>\n",
       "      <th>29</th>\n",
       "      <td>216.019349</td>\n",
       "      <td>1027616</td>\n",
       "      <td>37</td>\n",
       "      <td>13466071395</td>\n",
       "      <td>0</td>\n",
       "      <td>NC</td>\n",
       "      <td>37</td>\n",
       "      <td>A</td>\n",
       "      <td>35.539710</td>\n",
       "      <td>5</td>\n",
       "      <td>3</td>\n",
       "      <td>North Carolina</td>\n",
       "      <td>-79.130864</td>\n",
       "      <td>G4000</td>\n",
       "      <td>125923656064</td>\n",
       "      <td>00000000000000000008</td>\n",
       "    </tr>\n",
       "    <tr>\n",
       "      <th>9</th>\n",
       "      <td>217.098618</td>\n",
       "      <td>1779787</td>\n",
       "      <td>23</td>\n",
       "      <td>11746549764</td>\n",
       "      <td>0</td>\n",
       "      <td>ME</td>\n",
       "      <td>23</td>\n",
       "      <td>A</td>\n",
       "      <td>45.409284</td>\n",
       "      <td>1</td>\n",
       "      <td>1</td>\n",
       "      <td>Maine</td>\n",
       "      <td>-68.666616</td>\n",
       "      <td>G4000</td>\n",
       "      <td>79887426037</td>\n",
       "      <td>00000000000000000025</td>\n",
       "    </tr>\n",
       "    <tr>\n",
       "      <th>55</th>\n",
       "      <td>218.896789</td>\n",
       "      <td>1785533</td>\n",
       "      <td>2</td>\n",
       "      <td>245481577452</td>\n",
       "      <td>0</td>\n",
       "      <td>AK</td>\n",
       "      <td>2</td>\n",
       "      <td>A</td>\n",
       "      <td>63.347356</td>\n",
       "      <td>9</td>\n",
       "      <td>4</td>\n",
       "      <td>Alaska</td>\n",
       "      <td>-152.839733</td>\n",
       "      <td>G4000</td>\n",
       "      <td>1478839695958</td>\n",
       "      <td>00000000000000000028</td>\n",
       "    </tr>\n",
       "    <tr>\n",
       "      <th>18</th>\n",
       "      <td>228.944106</td>\n",
       "      <td>448508</td>\n",
       "      <td>18</td>\n",
       "      <td>1538002829</td>\n",
       "      <td>0</td>\n",
       "      <td>IN</td>\n",
       "      <td>18</td>\n",
       "      <td>A</td>\n",
       "      <td>39.901314</td>\n",
       "      <td>3</td>\n",
       "      <td>2</td>\n",
       "      <td>Indiana</td>\n",
       "      <td>-86.291913</td>\n",
       "      <td>G4000</td>\n",
       "      <td>92789302676</td>\n",
       "      <td>00000000000000000030</td>\n",
       "    </tr>\n",
       "    <tr>\n",
       "      <th>17</th>\n",
       "      <td>236.144443</td>\n",
       "      <td>1779789</td>\n",
       "      <td>26</td>\n",
       "      <td>103885855702</td>\n",
       "      <td>0</td>\n",
       "      <td>MI</td>\n",
       "      <td>26</td>\n",
       "      <td>A</td>\n",
       "      <td>44.844177</td>\n",
       "      <td>3</td>\n",
       "      <td>2</td>\n",
       "      <td>Michigan</td>\n",
       "      <td>-85.660491</td>\n",
       "      <td>G4000</td>\n",
       "      <td>146600952990</td>\n",
       "      <td>0000000000000000002a</td>\n",
       "    </tr>\n",
       "    <tr>\n",
       "      <th>37</th>\n",
       "      <td>254.333270</td>\n",
       "      <td>1779786</td>\n",
       "      <td>21</td>\n",
       "      <td>2375337755</td>\n",
       "      <td>0</td>\n",
       "      <td>KY</td>\n",
       "      <td>21</td>\n",
       "      <td>A</td>\n",
       "      <td>37.533684</td>\n",
       "      <td>6</td>\n",
       "      <td>3</td>\n",
       "      <td>Kentucky</td>\n",
       "      <td>-85.292980</td>\n",
       "      <td>G4000</td>\n",
       "      <td>102279490672</td>\n",
       "      <td>00000000000000000021</td>\n",
       "    </tr>\n",
       "    <tr>\n",
       "      <th>22</th>\n",
       "      <td>262.460676</td>\n",
       "      <td>1779791</td>\n",
       "      <td>29</td>\n",
       "      <td>2489425460</td>\n",
       "      <td>0</td>\n",
       "      <td>MO</td>\n",
       "      <td>29</td>\n",
       "      <td>A</td>\n",
       "      <td>38.350750</td>\n",
       "      <td>4</td>\n",
       "      <td>2</td>\n",
       "      <td>Missouri</td>\n",
       "      <td>-92.456783</td>\n",
       "      <td>G4000</td>\n",
       "      <td>178050802184</td>\n",
       "      <td>0000000000000000002d</td>\n",
       "    </tr>\n",
       "    <tr>\n",
       "      <th>16</th>\n",
       "      <td>274.241898</td>\n",
       "      <td>1085497</td>\n",
       "      <td>39</td>\n",
       "      <td>10268850702</td>\n",
       "      <td>0</td>\n",
       "      <td>OH</td>\n",
       "      <td>39</td>\n",
       "      <td>A</td>\n",
       "      <td>40.414930</td>\n",
       "      <td>3</td>\n",
       "      <td>2</td>\n",
       "      <td>Ohio</td>\n",
       "      <td>-82.711997</td>\n",
       "      <td>G4000</td>\n",
       "      <td>105828882568</td>\n",
       "      <td>00000000000000000018</td>\n",
       "    </tr>\n",
       "    <tr>\n",
       "      <th>33</th>\n",
       "      <td>288.662188</td>\n",
       "      <td>1779803</td>\n",
       "      <td>51</td>\n",
       "      <td>8528531774</td>\n",
       "      <td>0</td>\n",
       "      <td>VA</td>\n",
       "      <td>51</td>\n",
       "      <td>A</td>\n",
       "      <td>37.522251</td>\n",
       "      <td>5</td>\n",
       "      <td>3</td>\n",
       "      <td>Virginia</td>\n",
       "      <td>-78.668194</td>\n",
       "      <td>G4000</td>\n",
       "      <td>102257717110</td>\n",
       "      <td>00000000000000000034</td>\n",
       "    </tr>\n",
       "    <tr>\n",
       "      <th>36</th>\n",
       "      <td>292.736641</td>\n",
       "      <td>1325873</td>\n",
       "      <td>47</td>\n",
       "      <td>2350123465</td>\n",
       "      <td>0</td>\n",
       "      <td>TN</td>\n",
       "      <td>47</td>\n",
       "      <td>A</td>\n",
       "      <td>35.860803</td>\n",
       "      <td>6</td>\n",
       "      <td>3</td>\n",
       "      <td>Tennessee</td>\n",
       "      <td>-86.349990</td>\n",
       "      <td>G4000</td>\n",
       "      <td>106802728188</td>\n",
       "      <td>0000000000000000001d</td>\n",
       "    </tr>\n",
       "    <tr>\n",
       "      <th>15</th>\n",
       "      <td>310.048272</td>\n",
       "      <td>1779806</td>\n",
       "      <td>55</td>\n",
       "      <td>29344951758</td>\n",
       "      <td>0</td>\n",
       "      <td>WI</td>\n",
       "      <td>55</td>\n",
       "      <td>A</td>\n",
       "      <td>44.630907</td>\n",
       "      <td>3</td>\n",
       "      <td>2</td>\n",
       "      <td>Wisconsin</td>\n",
       "      <td>-89.709392</td>\n",
       "      <td>G4000</td>\n",
       "      <td>140290039723</td>\n",
       "      <td>0000000000000000000f</td>\n",
       "    </tr>\n",
       "    <tr>\n",
       "      <th>13</th>\n",
       "      <td>313.593300</td>\n",
       "      <td>1779796</td>\n",
       "      <td>36</td>\n",
       "      <td>19246994695</td>\n",
       "      <td>0</td>\n",
       "      <td>NY</td>\n",
       "      <td>36</td>\n",
       "      <td>A</td>\n",
       "      <td>42.913397</td>\n",
       "      <td>2</td>\n",
       "      <td>1</td>\n",
       "      <td>New York</td>\n",
       "      <td>-75.596272</td>\n",
       "      <td>G4000</td>\n",
       "      <td>122049149763</td>\n",
       "      <td>00000000000000000026</td>\n",
       "    </tr>\n",
       "    <tr>\n",
       "      <th>25</th>\n",
       "      <td>324.828508</td>\n",
       "      <td>1779785</td>\n",
       "      <td>19</td>\n",
       "      <td>1084180812</td>\n",
       "      <td>0</td>\n",
       "      <td>IA</td>\n",
       "      <td>19</td>\n",
       "      <td>A</td>\n",
       "      <td>42.070024</td>\n",
       "      <td>4</td>\n",
       "      <td>2</td>\n",
       "      <td>Iowa</td>\n",
       "      <td>-93.493347</td>\n",
       "      <td>G4000</td>\n",
       "      <td>144661267977</td>\n",
       "      <td>00000000000000000036</td>\n",
       "    </tr>\n",
       "    <tr>\n",
       "      <th>6</th>\n",
       "      <td>347.549097</td>\n",
       "      <td>1779794</td>\n",
       "      <td>33</td>\n",
       "      <td>1026675248</td>\n",
       "      <td>0</td>\n",
       "      <td>NH</td>\n",
       "      <td>33</td>\n",
       "      <td>A</td>\n",
       "      <td>43.672691</td>\n",
       "      <td>1</td>\n",
       "      <td>1</td>\n",
       "      <td>New Hampshire</td>\n",
       "      <td>-71.584315</td>\n",
       "      <td>G4000</td>\n",
       "      <td>23189413166</td>\n",
       "      <td>00000000000000000007</td>\n",
       "    </tr>\n",
       "    <tr>\n",
       "      <th>19</th>\n",
       "      <td>365.691669</td>\n",
       "      <td>662849</td>\n",
       "      <td>27</td>\n",
       "      <td>18945217189</td>\n",
       "      <td>0</td>\n",
       "      <td>MN</td>\n",
       "      <td>27</td>\n",
       "      <td>A</td>\n",
       "      <td>46.315957</td>\n",
       "      <td>4</td>\n",
       "      <td>2</td>\n",
       "      <td>Minnesota</td>\n",
       "      <td>-94.199604</td>\n",
       "      <td>G4000</td>\n",
       "      <td>206228939448</td>\n",
       "      <td>00000000000000000003</td>\n",
       "    </tr>\n",
       "    <tr>\n",
       "      <th>7</th>\n",
       "      <td>373.218511</td>\n",
       "      <td>1779802</td>\n",
       "      <td>50</td>\n",
       "      <td>1030416650</td>\n",
       "      <td>0</td>\n",
       "      <td>VT</td>\n",
       "      <td>50</td>\n",
       "      <td>A</td>\n",
       "      <td>44.068577</td>\n",
       "      <td>1</td>\n",
       "      <td>1</td>\n",
       "      <td>Vermont</td>\n",
       "      <td>-72.669184</td>\n",
       "      <td>G4000</td>\n",
       "      <td>23874175944</td>\n",
       "      <td>00000000000000000009</td>\n",
       "    </tr>\n",
       "    <tr>\n",
       "      <th>12</th>\n",
       "      <td>383.069765</td>\n",
       "      <td>1779798</td>\n",
       "      <td>42</td>\n",
       "      <td>3394589990</td>\n",
       "      <td>0</td>\n",
       "      <td>PA</td>\n",
       "      <td>42</td>\n",
       "      <td>A</td>\n",
       "      <td>40.902496</td>\n",
       "      <td>2</td>\n",
       "      <td>1</td>\n",
       "      <td>Pennsylvania</td>\n",
       "      <td>-77.833451</td>\n",
       "      <td>G4000</td>\n",
       "      <td>115884442321</td>\n",
       "      <td>00000000000000000012</td>\n",
       "    </tr>\n",
       "    <tr>\n",
       "      <th>41</th>\n",
       "      <td>399.402488</td>\n",
       "      <td>1102857</td>\n",
       "      <td>40</td>\n",
       "      <td>3374587997</td>\n",
       "      <td>0</td>\n",
       "      <td>OK</td>\n",
       "      <td>40</td>\n",
       "      <td>A</td>\n",
       "      <td>35.590051</td>\n",
       "      <td>7</td>\n",
       "      <td>3</td>\n",
       "      <td>Oklahoma</td>\n",
       "      <td>-97.486815</td>\n",
       "      <td>G4000</td>\n",
       "      <td>177662925723</td>\n",
       "      <td>0000000000000000001c</td>\n",
       "    </tr>\n",
       "    <tr>\n",
       "      <th>40</th>\n",
       "      <td>506.065790</td>\n",
       "      <td>1779801</td>\n",
       "      <td>48</td>\n",
       "      <td>19006305260</td>\n",
       "      <td>0</td>\n",
       "      <td>TX</td>\n",
       "      <td>48</td>\n",
       "      <td>A</td>\n",
       "      <td>31.434703</td>\n",
       "      <td>7</td>\n",
       "      <td>3</td>\n",
       "      <td>Texas</td>\n",
       "      <td>-99.281824</td>\n",
       "      <td>G4000</td>\n",
       "      <td>676653171537</td>\n",
       "      <td>00000000000000000019</td>\n",
       "    </tr>\n",
       "    <tr>\n",
       "      <th>26</th>\n",
       "      <td>513.079917</td>\n",
       "      <td>1779805</td>\n",
       "      <td>54</td>\n",
       "      <td>489028543</td>\n",
       "      <td>0</td>\n",
       "      <td>WV</td>\n",
       "      <td>54</td>\n",
       "      <td>A</td>\n",
       "      <td>38.647285</td>\n",
       "      <td>5</td>\n",
       "      <td>3</td>\n",
       "      <td>West Virginia</td>\n",
       "      <td>-80.618327</td>\n",
       "      <td>G4000</td>\n",
       "      <td>62266474513</td>\n",
       "      <td>00000000000000000000</td>\n",
       "    </tr>\n",
       "    <tr>\n",
       "      <th>54</th>\n",
       "      <td>533.164496</td>\n",
       "      <td>1779782</td>\n",
       "      <td>15</td>\n",
       "      <td>11777809026</td>\n",
       "      <td>0</td>\n",
       "      <td>HI</td>\n",
       "      <td>15</td>\n",
       "      <td>A</td>\n",
       "      <td>19.597764</td>\n",
       "      <td>9</td>\n",
       "      <td>4</td>\n",
       "      <td>Hawaii</td>\n",
       "      <td>-155.502443</td>\n",
       "      <td>G4000</td>\n",
       "      <td>16633990195</td>\n",
       "      <td>0000000000000000001f</td>\n",
       "    </tr>\n",
       "    <tr>\n",
       "      <th>21</th>\n",
       "      <td>555.519836</td>\n",
       "      <td>1779797</td>\n",
       "      <td>38</td>\n",
       "      <td>4403267548</td>\n",
       "      <td>0</td>\n",
       "      <td>ND</td>\n",
       "      <td>38</td>\n",
       "      <td>A</td>\n",
       "      <td>47.442174</td>\n",
       "      <td>4</td>\n",
       "      <td>2</td>\n",
       "      <td>North Dakota</td>\n",
       "      <td>-100.460826</td>\n",
       "      <td>G4000</td>\n",
       "      <td>178707534813</td>\n",
       "      <td>00000000000000000020</td>\n",
       "    </tr>\n",
       "    <tr>\n",
       "      <th>23</th>\n",
       "      <td>586.011597</td>\n",
       "      <td>481813</td>\n",
       "      <td>20</td>\n",
       "      <td>1344141205</td>\n",
       "      <td>0</td>\n",
       "      <td>KS</td>\n",
       "      <td>20</td>\n",
       "      <td>A</td>\n",
       "      <td>38.498546</td>\n",
       "      <td>4</td>\n",
       "      <td>2</td>\n",
       "      <td>Kansas</td>\n",
       "      <td>-98.383430</td>\n",
       "      <td>G4000</td>\n",
       "      <td>211755344060</td>\n",
       "      <td>0000000000000000002f</td>\n",
       "    </tr>\n",
       "    <tr>\n",
       "      <th>53</th>\n",
       "      <td>664.443736</td>\n",
       "      <td>1779804</td>\n",
       "      <td>53</td>\n",
       "      <td>12559278850</td>\n",
       "      <td>0</td>\n",
       "      <td>WA</td>\n",
       "      <td>53</td>\n",
       "      <td>A</td>\n",
       "      <td>47.407324</td>\n",
       "      <td>9</td>\n",
       "      <td>4</td>\n",
       "      <td>Washington</td>\n",
       "      <td>-120.575800</td>\n",
       "      <td>G4000</td>\n",
       "      <td>172112588220</td>\n",
       "      <td>00000000000000000013</td>\n",
       "    </tr>\n",
       "    <tr>\n",
       "      <th>24</th>\n",
       "      <td>665.129064</td>\n",
       "      <td>1785534</td>\n",
       "      <td>46</td>\n",
       "      <td>3382720225</td>\n",
       "      <td>0</td>\n",
       "      <td>SD</td>\n",
       "      <td>46</td>\n",
       "      <td>A</td>\n",
       "      <td>44.446796</td>\n",
       "      <td>4</td>\n",
       "      <td>2</td>\n",
       "      <td>South Dakota</td>\n",
       "      <td>-100.238176</td>\n",
       "      <td>G4000</td>\n",
       "      <td>196346981786</td>\n",
       "      <td>00000000000000000032</td>\n",
       "    </tr>\n",
       "    <tr>\n",
       "      <th>20</th>\n",
       "      <td>796.525159</td>\n",
       "      <td>1779792</td>\n",
       "      <td>31</td>\n",
       "      <td>1371829134</td>\n",
       "      <td>0</td>\n",
       "      <td>NE</td>\n",
       "      <td>31</td>\n",
       "      <td>A</td>\n",
       "      <td>41.543305</td>\n",
       "      <td>4</td>\n",
       "      <td>2</td>\n",
       "      <td>Nebraska</td>\n",
       "      <td>-99.811865</td>\n",
       "      <td>G4000</td>\n",
       "      <td>198956658395</td>\n",
       "      <td>00000000000000000011</td>\n",
       "    </tr>\n",
       "    <tr>\n",
       "      <th>51</th>\n",
       "      <td>834.134829</td>\n",
       "      <td>1779778</td>\n",
       "      <td>6</td>\n",
       "      <td>20463871877</td>\n",
       "      <td>0</td>\n",
       "      <td>CA</td>\n",
       "      <td>6</td>\n",
       "      <td>A</td>\n",
       "      <td>37.155177</td>\n",
       "      <td>9</td>\n",
       "      <td>4</td>\n",
       "      <td>California</td>\n",
       "      <td>-119.543418</td>\n",
       "      <td>G4000</td>\n",
       "      <td>403503931312</td>\n",
       "      <td>0000000000000000000d</td>\n",
       "    </tr>\n",
       "    <tr>\n",
       "      <th>52</th>\n",
       "      <td>1058.624919</td>\n",
       "      <td>1155107</td>\n",
       "      <td>41</td>\n",
       "      <td>6192386935</td>\n",
       "      <td>0</td>\n",
       "      <td>OR</td>\n",
       "      <td>41</td>\n",
       "      <td>A</td>\n",
       "      <td>43.971713</td>\n",
       "      <td>9</td>\n",
       "      <td>4</td>\n",
       "      <td>Oregon</td>\n",
       "      <td>-120.622958</td>\n",
       "      <td>G4000</td>\n",
       "      <td>248606993270</td>\n",
       "      <td>00000000000000000010</td>\n",
       "    </tr>\n",
       "    <tr>\n",
       "      <th>49</th>\n",
       "      <td>1255.629626</td>\n",
       "      <td>767982</td>\n",
       "      <td>30</td>\n",
       "      <td>3869208832</td>\n",
       "      <td>0</td>\n",
       "      <td>MT</td>\n",
       "      <td>30</td>\n",
       "      <td>A</td>\n",
       "      <td>47.051177</td>\n",
       "      <td>8</td>\n",
       "      <td>4</td>\n",
       "      <td>Montana</td>\n",
       "      <td>-109.634817</td>\n",
       "      <td>G4000</td>\n",
       "      <td>376962738765</td>\n",
       "      <td>0000000000000000002e</td>\n",
       "    </tr>\n",
       "    <tr>\n",
       "      <th>50</th>\n",
       "      <td>1291.736626</td>\n",
       "      <td>1779777</td>\n",
       "      <td>4</td>\n",
       "      <td>1027337603</td>\n",
       "      <td>0</td>\n",
       "      <td>AZ</td>\n",
       "      <td>4</td>\n",
       "      <td>A</td>\n",
       "      <td>34.203936</td>\n",
       "      <td>8</td>\n",
       "      <td>4</td>\n",
       "      <td>Arizona</td>\n",
       "      <td>-111.606357</td>\n",
       "      <td>G4000</td>\n",
       "      <td>294198551143</td>\n",
       "      <td>00000000000000000037</td>\n",
       "    </tr>\n",
       "    <tr>\n",
       "      <th>43</th>\n",
       "      <td>1593.872505</td>\n",
       "      <td>1779783</td>\n",
       "      <td>16</td>\n",
       "      <td>2391722557</td>\n",
       "      <td>0</td>\n",
       "      <td>ID</td>\n",
       "      <td>16</td>\n",
       "      <td>A</td>\n",
       "      <td>44.348422</td>\n",
       "      <td>8</td>\n",
       "      <td>4</td>\n",
       "      <td>Idaho</td>\n",
       "      <td>-114.558854</td>\n",
       "      <td>G4000</td>\n",
       "      <td>214049787659</td>\n",
       "      <td>00000000000000000006</td>\n",
       "    </tr>\n",
       "    <tr>\n",
       "      <th>48</th>\n",
       "      <td>1690.774989</td>\n",
       "      <td>1779793</td>\n",
       "      <td>32</td>\n",
       "      <td>2047206072</td>\n",
       "      <td>0</td>\n",
       "      <td>NV</td>\n",
       "      <td>32</td>\n",
       "      <td>A</td>\n",
       "      <td>39.331093</td>\n",
       "      <td>8</td>\n",
       "      <td>4</td>\n",
       "      <td>Nevada</td>\n",
       "      <td>-116.615147</td>\n",
       "      <td>G4000</td>\n",
       "      <td>284329506470</td>\n",
       "      <td>00000000000000000027</td>\n",
       "    </tr>\n",
       "    <tr>\n",
       "      <th>44</th>\n",
       "      <td>1765.391363</td>\n",
       "      <td>897535</td>\n",
       "      <td>35</td>\n",
       "      <td>728776523</td>\n",
       "      <td>0</td>\n",
       "      <td>NM</td>\n",
       "      <td>35</td>\n",
       "      <td>A</td>\n",
       "      <td>34.434684</td>\n",
       "      <td>8</td>\n",
       "      <td>4</td>\n",
       "      <td>New Mexico</td>\n",
       "      <td>-106.131618</td>\n",
       "      <td>G4000</td>\n",
       "      <td>314196306401</td>\n",
       "      <td>0000000000000000000c</td>\n",
       "    </tr>\n",
       "    <tr>\n",
       "      <th>45</th>\n",
       "      <td>1836.623316</td>\n",
       "      <td>1455989</td>\n",
       "      <td>49</td>\n",
       "      <td>6998824394</td>\n",
       "      <td>0</td>\n",
       "      <td>UT</td>\n",
       "      <td>49</td>\n",
       "      <td>A</td>\n",
       "      <td>39.334992</td>\n",
       "      <td>8</td>\n",
       "      <td>4</td>\n",
       "      <td>Utah</td>\n",
       "      <td>-111.656333</td>\n",
       "      <td>G4000</td>\n",
       "      <td>212886221680</td>\n",
       "      <td>00000000000000000017</td>\n",
       "    </tr>\n",
       "    <tr>\n",
       "      <th>47</th>\n",
       "      <td>1949.331152</td>\n",
       "      <td>1779807</td>\n",
       "      <td>56</td>\n",
       "      <td>1867670745</td>\n",
       "      <td>0</td>\n",
       "      <td>WY</td>\n",
       "      <td>56</td>\n",
       "      <td>A</td>\n",
       "      <td>42.989659</td>\n",
       "      <td>8</td>\n",
       "      <td>4</td>\n",
       "      <td>Wyoming</td>\n",
       "      <td>-107.544392</td>\n",
       "      <td>G4000</td>\n",
       "      <td>251458544898</td>\n",
       "      <td>0000000000000000001e</td>\n",
       "    </tr>\n",
       "    <tr>\n",
       "      <th>46</th>\n",
       "      <td>2095.192956</td>\n",
       "      <td>1779779</td>\n",
       "      <td>8</td>\n",
       "      <td>1181621593</td>\n",
       "      <td>0</td>\n",
       "      <td>CO</td>\n",
       "      <td>8</td>\n",
       "      <td>A</td>\n",
       "      <td>38.993848</td>\n",
       "      <td>8</td>\n",
       "      <td>4</td>\n",
       "      <td>Colorado</td>\n",
       "      <td>-105.508317</td>\n",
       "      <td>G4000</td>\n",
       "      <td>268422891711</td>\n",
       "      <td>0000000000000000001a</td>\n",
       "    </tr>\n",
       "  </tbody>\n",
       "</table>\n",
       "</div>"
      ],
      "text/plain": [
       "           mean  STATENS  GEOID        AWATER  LSAD STUSPS  STATEFP FUNCSTAT  \\\n",
       "30    13.904218  1779781     10    1399985648     0     DE       10        A   \n",
       "1     14.699425  1779809     69    4644252461     0     MP       69        A   \n",
       "0     15.149698  1802710     78    1550236201     0     VI       78        A   \n",
       "27    21.218275   294478     12   31361101223     0     FL       12        A   \n",
       "3     26.543959  1802701     60    1307243754     0     AS       60        A   \n",
       "39    30.862419  1629543     22   23753621895     0     LA       22        A   \n",
       "2     36.152070  1802705     66     934337453     0     GU       66        A   \n",
       "34    43.438403  1702382     11      18687198     0     DC       11        A   \n",
       "5     57.769871  1219835     44    1323670487     0     RI       44        A   \n",
       "11    65.266327  1779795     34    3544860246     0     NJ       34        A   \n",
       "38    90.901962  1779790     28    3926919758     0     MS       28        A   \n",
       "32    99.896965  1779799     45    5075218778     0     SC       45        A   \n",
       "28   107.979334  1714934     24    6979966958     0     MD       24        A   \n",
       "10   131.079799   606926     25    7129925486     0     MA       25        A   \n",
       "8    133.111310  1779780      9    1815617571     0     CT        9        A   \n",
       "35   143.795001  1779775      1    4593327154     0     AL        1        A   \n",
       "4    151.547035  1779808     72    4922382562     0     PR       72        A   \n",
       "31   159.012285  1705317     13    4422936154     0     GA       13        A   \n",
       "42   166.667753    68085      5    2962859592     0     AR        5        A   \n",
       "14   191.298394  1779784     17    6214824948     0     IL       17        A   \n",
       "29   216.019349  1027616     37   13466071395     0     NC       37        A   \n",
       "9    217.098618  1779787     23   11746549764     0     ME       23        A   \n",
       "55   218.896789  1785533      2  245481577452     0     AK        2        A   \n",
       "18   228.944106   448508     18    1538002829     0     IN       18        A   \n",
       "17   236.144443  1779789     26  103885855702     0     MI       26        A   \n",
       "37   254.333270  1779786     21    2375337755     0     KY       21        A   \n",
       "22   262.460676  1779791     29    2489425460     0     MO       29        A   \n",
       "16   274.241898  1085497     39   10268850702     0     OH       39        A   \n",
       "33   288.662188  1779803     51    8528531774     0     VA       51        A   \n",
       "36   292.736641  1325873     47    2350123465     0     TN       47        A   \n",
       "15   310.048272  1779806     55   29344951758     0     WI       55        A   \n",
       "13   313.593300  1779796     36   19246994695     0     NY       36        A   \n",
       "25   324.828508  1779785     19    1084180812     0     IA       19        A   \n",
       "6    347.549097  1779794     33    1026675248     0     NH       33        A   \n",
       "19   365.691669   662849     27   18945217189     0     MN       27        A   \n",
       "7    373.218511  1779802     50    1030416650     0     VT       50        A   \n",
       "12   383.069765  1779798     42    3394589990     0     PA       42        A   \n",
       "41   399.402488  1102857     40    3374587997     0     OK       40        A   \n",
       "40   506.065790  1779801     48   19006305260     0     TX       48        A   \n",
       "26   513.079917  1779805     54     489028543     0     WV       54        A   \n",
       "54   533.164496  1779782     15   11777809026     0     HI       15        A   \n",
       "21   555.519836  1779797     38    4403267548     0     ND       38        A   \n",
       "23   586.011597   481813     20    1344141205     0     KS       20        A   \n",
       "53   664.443736  1779804     53   12559278850     0     WA       53        A   \n",
       "24   665.129064  1785534     46    3382720225     0     SD       46        A   \n",
       "20   796.525159  1779792     31    1371829134     0     NE       31        A   \n",
       "51   834.134829  1779778      6   20463871877     0     CA        6        A   \n",
       "52  1058.624919  1155107     41    6192386935     0     OR       41        A   \n",
       "49  1255.629626   767982     30    3869208832     0     MT       30        A   \n",
       "50  1291.736626  1779777      4    1027337603     0     AZ        4        A   \n",
       "43  1593.872505  1779783     16    2391722557     0     ID       16        A   \n",
       "48  1690.774989  1779793     32    2047206072     0     NV       32        A   \n",
       "44  1765.391363   897535     35     728776523     0     NM       35        A   \n",
       "45  1836.623316  1455989     49    6998824394     0     UT       49        A   \n",
       "47  1949.331152  1779807     56    1867670745     0     WY       56        A   \n",
       "46  2095.192956  1779779      8    1181621593     0     CO        8        A   \n",
       "\n",
       "     INTPTLAT  DIVISION  REGION                                          NAME  \\\n",
       "30  38.998566         5       3                                      Delaware   \n",
       "1   14.936784         0       9  Commonwealth of the Northern Mariana Islands   \n",
       "0   18.326748         0       9                  United States Virgin Islands   \n",
       "27  28.457430         5       3                                       Florida   \n",
       "3  -14.267159         0       9                                American Samoa   \n",
       "39  30.863437         7       3                                     Louisiana   \n",
       "2   13.438289         0       9                                          Guam   \n",
       "34  38.904103         5       3                          District of Columbia   \n",
       "5   41.597419         1       1                                  Rhode Island   \n",
       "11  40.107274         2       1                                    New Jersey   \n",
       "38  32.686471         6       3                                   Mississippi   \n",
       "32  33.874178         5       3                                South Carolina   \n",
       "28  38.946658         5       3                                      Maryland   \n",
       "10  42.156520         1       1                                 Massachusetts   \n",
       "8   41.579864         1       1                                   Connecticut   \n",
       "35  32.739632         6       3                                       Alabama   \n",
       "4   18.217648         0       9                                   Puerto Rico   \n",
       "31  32.629579         5       3                                       Georgia   \n",
       "42  34.895526         7       3                                      Arkansas   \n",
       "14  40.102875         3       2                                      Illinois   \n",
       "29  35.539710         5       3                                North Carolina   \n",
       "9   45.409284         1       1                                         Maine   \n",
       "55  63.347356         9       4                                        Alaska   \n",
       "18  39.901314         3       2                                       Indiana   \n",
       "17  44.844177         3       2                                      Michigan   \n",
       "37  37.533684         6       3                                      Kentucky   \n",
       "22  38.350750         4       2                                      Missouri   \n",
       "16  40.414930         3       2                                          Ohio   \n",
       "33  37.522251         5       3                                      Virginia   \n",
       "36  35.860803         6       3                                     Tennessee   \n",
       "15  44.630907         3       2                                     Wisconsin   \n",
       "13  42.913397         2       1                                      New York   \n",
       "25  42.070024         4       2                                          Iowa   \n",
       "6   43.672691         1       1                                 New Hampshire   \n",
       "19  46.315957         4       2                                     Minnesota   \n",
       "7   44.068577         1       1                                       Vermont   \n",
       "12  40.902496         2       1                                  Pennsylvania   \n",
       "41  35.590051         7       3                                      Oklahoma   \n",
       "40  31.434703         7       3                                         Texas   \n",
       "26  38.647285         5       3                                 West Virginia   \n",
       "54  19.597764         9       4                                        Hawaii   \n",
       "21  47.442174         4       2                                  North Dakota   \n",
       "23  38.498546         4       2                                        Kansas   \n",
       "53  47.407324         9       4                                    Washington   \n",
       "24  44.446796         4       2                                  South Dakota   \n",
       "20  41.543305         4       2                                      Nebraska   \n",
       "51  37.155177         9       4                                    California   \n",
       "52  43.971713         9       4                                        Oregon   \n",
       "49  47.051177         8       4                                       Montana   \n",
       "50  34.203936         8       4                                       Arizona   \n",
       "43  44.348422         8       4                                         Idaho   \n",
       "48  39.331093         8       4                                        Nevada   \n",
       "44  34.434684         8       4                                    New Mexico   \n",
       "45  39.334992         8       4                                          Utah   \n",
       "47  42.989659         8       4                                       Wyoming   \n",
       "46  38.993848         8       4                                      Colorado   \n",
       "\n",
       "      INTPTLON  MTFCC          ALAND          system:index  \n",
       "30  -75.441644  G4000     5045925646  0000000000000000000b  \n",
       "1   145.601021  G4000      472292529  00000000000000000023  \n",
       "0   -64.971251  G4000      348021896  00000000000000000022  \n",
       "27  -82.409148  G4000   138949136250  00000000000000000001  \n",
       "3  -170.668267  G4000      197759063  00000000000000000029  \n",
       "39  -91.798717  G4000   111897594374  00000000000000000014  \n",
       "2   144.772949  G4000      543555840  00000000000000000024  \n",
       "34  -77.017229  G4000      158340391  00000000000000000035  \n",
       "5   -71.527272  G4000     2677779902  00000000000000000005  \n",
       "11  -74.665201  G4000    19047825980  0000000000000000000e  \n",
       "38  -89.656138  G4000   121533519481  0000000000000000002c  \n",
       "32  -80.854264  G4000    77864918488  0000000000000000001b  \n",
       "28  -76.674494  G4000    25151100280  00000000000000000004  \n",
       "10  -71.489592  G4000    20205125364  00000000000000000033  \n",
       "8   -72.746657  G4000    12542497068  0000000000000000000a  \n",
       "35  -86.843459  G4000   131174048583  00000000000000000016  \n",
       "4   -66.410799  G4000     8868896030  00000000000000000031  \n",
       "31  -83.423511  G4000   149482048342  00000000000000000015  \n",
       "42  -92.444626  G4000   134768872727  0000000000000000002b  \n",
       "14  -89.152611  G4000   143780567633  00000000000000000002  \n",
       "29  -79.130864  G4000   125923656064  00000000000000000008  \n",
       "9   -68.666616  G4000    79887426037  00000000000000000025  \n",
       "55 -152.839733  G4000  1478839695958  00000000000000000028  \n",
       "18  -86.291913  G4000    92789302676  00000000000000000030  \n",
       "17  -85.660491  G4000   146600952990  0000000000000000002a  \n",
       "37  -85.292980  G4000   102279490672  00000000000000000021  \n",
       "22  -92.456783  G4000   178050802184  0000000000000000002d  \n",
       "16  -82.711997  G4000   105828882568  00000000000000000018  \n",
       "33  -78.668194  G4000   102257717110  00000000000000000034  \n",
       "36  -86.349990  G4000   106802728188  0000000000000000001d  \n",
       "15  -89.709392  G4000   140290039723  0000000000000000000f  \n",
       "13  -75.596272  G4000   122049149763  00000000000000000026  \n",
       "25  -93.493347  G4000   144661267977  00000000000000000036  \n",
       "6   -71.584315  G4000    23189413166  00000000000000000007  \n",
       "19  -94.199604  G4000   206228939448  00000000000000000003  \n",
       "7   -72.669184  G4000    23874175944  00000000000000000009  \n",
       "12  -77.833451  G4000   115884442321  00000000000000000012  \n",
       "41  -97.486815  G4000   177662925723  0000000000000000001c  \n",
       "40  -99.281824  G4000   676653171537  00000000000000000019  \n",
       "26  -80.618327  G4000    62266474513  00000000000000000000  \n",
       "54 -155.502443  G4000    16633990195  0000000000000000001f  \n",
       "21 -100.460826  G4000   178707534813  00000000000000000020  \n",
       "23  -98.383430  G4000   211755344060  0000000000000000002f  \n",
       "53 -120.575800  G4000   172112588220  00000000000000000013  \n",
       "24 -100.238176  G4000   196346981786  00000000000000000032  \n",
       "20  -99.811865  G4000   198956658395  00000000000000000011  \n",
       "51 -119.543418  G4000   403503931312  0000000000000000000d  \n",
       "52 -120.622958  G4000   248606993270  00000000000000000010  \n",
       "49 -109.634817  G4000   376962738765  0000000000000000002e  \n",
       "50 -111.606357  G4000   294198551143  00000000000000000037  \n",
       "43 -114.558854  G4000   214049787659  00000000000000000006  \n",
       "48 -116.615147  G4000   284329506470  00000000000000000027  \n",
       "44 -106.131618  G4000   314196306401  0000000000000000000c  \n",
       "45 -111.656333  G4000   212886221680  00000000000000000017  \n",
       "47 -107.544392  G4000   251458544898  0000000000000000001e  \n",
       "46 -105.508317  G4000   268422891711  0000000000000000001a  "
      ]
     },
     "execution_count": 76,
     "metadata": {},
     "output_type": "execute_result"
    }
   ],
   "source": [
    "geemap.csv_to_df(out_dem_stats).sort_values(by=['mean'], ascending=True)"
   ]
  },
  {
   "cell_type": "markdown",
   "metadata": {},
   "source": [
    "Compute zonal statistics of mean spectral values of each state."
   ]
  },
  {
   "cell_type": "code",
   "execution_count": 77,
   "metadata": {},
   "outputs": [
    {
     "data": {
      "text/html": [
       "\n",
       "            <style>\n",
       "                .geemap-dark {\n",
       "                    --jp-widgets-color: white;\n",
       "                    --jp-widgets-label-color: white;\n",
       "                    --jp-ui-font-color1: white;\n",
       "                    --jp-layout-color2: #454545;\n",
       "                    background-color: #383838;\n",
       "                }\n",
       "                    \n",
       "                .geemap-dark .jupyter-button {\n",
       "                    --jp-layout-color3: #383838;\n",
       "                }\n",
       "                \n",
       "                .geemap-colab {\n",
       "                    background-color: var(--colab-primary-surface-color, white);\n",
       "                }\n",
       "                    \n",
       "                .geemap-colab .jupyter-button {\n",
       "                    --jp-layout-color3: var(--colab-primary-surface-color, white);\n",
       "                }\n",
       "            </style>\n",
       "            "
      ],
      "text/plain": [
       "<IPython.core.display.HTML object>"
      ]
     },
     "metadata": {},
     "output_type": "display_data"
    },
    {
     "name": "stdout",
     "output_type": "stream",
     "text": [
      "Computing statistics ...\n",
      "Generating URL ...\n",
      "Downloading data from https://earthengine.googleapis.com/v1/projects/earthengine-legacy/tables/43bd4bf81c3075afbdf1273ca1195e79-0f88298f19971e3df977c0934c525711:getFeatures\n",
      "Please wait ...\n",
      "Data downloaded to /Users/ilyonsg/Documents/gee/gee-python-workshop/landsat_stats.csv\n"
     ]
    }
   ],
   "source": [
    "out_landsat_stats = 'exports/landsat_stats.csv'\n",
    "geemap.zonal_stats(\n",
    "    landsat,\n",
    "    states,\n",
    "    out_landsat_stats,\n",
    "    statistics_type='MEAN',\n",
    "    scale=1000,\n",
    "    return_fc=False,\n",
    ")"
   ]
  },
  {
   "cell_type": "code",
   "execution_count": 78,
   "metadata": {},
   "outputs": [
    {
     "data": {
      "text/html": [
       "\n",
       "            <style>\n",
       "                .geemap-dark {\n",
       "                    --jp-widgets-color: white;\n",
       "                    --jp-widgets-label-color: white;\n",
       "                    --jp-ui-font-color1: white;\n",
       "                    --jp-layout-color2: #454545;\n",
       "                    background-color: #383838;\n",
       "                }\n",
       "                    \n",
       "                .geemap-dark .jupyter-button {\n",
       "                    --jp-layout-color3: #383838;\n",
       "                }\n",
       "                \n",
       "                .geemap-colab {\n",
       "                    background-color: var(--colab-primary-surface-color, white);\n",
       "                }\n",
       "                    \n",
       "                .geemap-colab .jupyter-button {\n",
       "                    --jp-layout-color3: var(--colab-primary-surface-color, white);\n",
       "                }\n",
       "            </style>\n",
       "            "
      ],
      "text/plain": [
       "<IPython.core.display.HTML object>"
      ]
     },
     "metadata": {},
     "output_type": "display_data"
    },
    {
     "data": {
      "text/html": [
       "<div>\n",
       "<style scoped>\n",
       "    .dataframe tbody tr th:only-of-type {\n",
       "        vertical-align: middle;\n",
       "    }\n",
       "\n",
       "    .dataframe tbody tr th {\n",
       "        vertical-align: top;\n",
       "    }\n",
       "\n",
       "    .dataframe thead th {\n",
       "        text-align: right;\n",
       "    }\n",
       "</style>\n",
       "<table border=\"1\" class=\"dataframe\">\n",
       "  <thead>\n",
       "    <tr style=\"text-align: right;\">\n",
       "      <th></th>\n",
       "      <th>B1</th>\n",
       "      <th>B2</th>\n",
       "      <th>B3</th>\n",
       "      <th>B4</th>\n",
       "      <th>B5</th>\n",
       "      <th>B6_VCID_2</th>\n",
       "      <th>B7</th>\n",
       "      <th>STATENS</th>\n",
       "      <th>GEOID</th>\n",
       "      <th>AWATER</th>\n",
       "      <th>...</th>\n",
       "      <th>STATEFP</th>\n",
       "      <th>FUNCSTAT</th>\n",
       "      <th>INTPTLAT</th>\n",
       "      <th>DIVISION</th>\n",
       "      <th>REGION</th>\n",
       "      <th>NAME</th>\n",
       "      <th>INTPTLON</th>\n",
       "      <th>MTFCC</th>\n",
       "      <th>ALAND</th>\n",
       "      <th>system:index</th>\n",
       "    </tr>\n",
       "  </thead>\n",
       "  <tbody>\n",
       "    <tr>\n",
       "      <th>0</th>\n",
       "      <td>31.388169</td>\n",
       "      <td>21.705126</td>\n",
       "      <td>15.932166</td>\n",
       "      <td>21.327083</td>\n",
       "      <td>14.938834</td>\n",
       "      <td>195.713347</td>\n",
       "      <td>9.025148</td>\n",
       "      <td>1802710</td>\n",
       "      <td>78</td>\n",
       "      <td>1550236201</td>\n",
       "      <td>...</td>\n",
       "      <td>78</td>\n",
       "      <td>A</td>\n",
       "      <td>18.326748</td>\n",
       "      <td>0</td>\n",
       "      <td>9</td>\n",
       "      <td>United States Virgin Islands</td>\n",
       "      <td>-64.971251</td>\n",
       "      <td>G4000</td>\n",
       "      <td>348021896</td>\n",
       "      <td>00000000000000000022</td>\n",
       "    </tr>\n",
       "    <tr>\n",
       "      <th>1</th>\n",
       "      <td>28.235328</td>\n",
       "      <td>17.018901</td>\n",
       "      <td>11.455564</td>\n",
       "      <td>15.965257</td>\n",
       "      <td>8.924914</td>\n",
       "      <td>195.315727</td>\n",
       "      <td>5.052182</td>\n",
       "      <td>1779809</td>\n",
       "      <td>69</td>\n",
       "      <td>4644252461</td>\n",
       "      <td>...</td>\n",
       "      <td>69</td>\n",
       "      <td>A</td>\n",
       "      <td>14.936784</td>\n",
       "      <td>0</td>\n",
       "      <td>9</td>\n",
       "      <td>Commonwealth of the Northern Mariana Islands</td>\n",
       "      <td>145.601021</td>\n",
       "      <td>G4000</td>\n",
       "      <td>472292529</td>\n",
       "      <td>00000000000000000023</td>\n",
       "    </tr>\n",
       "    <tr>\n",
       "      <th>2</th>\n",
       "      <td>28.668204</td>\n",
       "      <td>20.113093</td>\n",
       "      <td>14.315282</td>\n",
       "      <td>33.956516</td>\n",
       "      <td>19.119983</td>\n",
       "      <td>195.479526</td>\n",
       "      <td>9.265647</td>\n",
       "      <td>1802705</td>\n",
       "      <td>66</td>\n",
       "      <td>934337453</td>\n",
       "      <td>...</td>\n",
       "      <td>66</td>\n",
       "      <td>A</td>\n",
       "      <td>13.438289</td>\n",
       "      <td>0</td>\n",
       "      <td>9</td>\n",
       "      <td>Guam</td>\n",
       "      <td>144.772949</td>\n",
       "      <td>G4000</td>\n",
       "      <td>543555840</td>\n",
       "      <td>00000000000000000024</td>\n",
       "    </tr>\n",
       "    <tr>\n",
       "      <th>3</th>\n",
       "      <td>28.647075</td>\n",
       "      <td>18.090196</td>\n",
       "      <td>12.326404</td>\n",
       "      <td>20.628377</td>\n",
       "      <td>9.692754</td>\n",
       "      <td>195.222892</td>\n",
       "      <td>5.489101</td>\n",
       "      <td>1802701</td>\n",
       "      <td>60</td>\n",
       "      <td>1307243754</td>\n",
       "      <td>...</td>\n",
       "      <td>60</td>\n",
       "      <td>A</td>\n",
       "      <td>-14.267159</td>\n",
       "      <td>0</td>\n",
       "      <td>9</td>\n",
       "      <td>American Samoa</td>\n",
       "      <td>-170.668267</td>\n",
       "      <td>G4000</td>\n",
       "      <td>197759063</td>\n",
       "      <td>00000000000000000029</td>\n",
       "    </tr>\n",
       "    <tr>\n",
       "      <th>4</th>\n",
       "      <td>28.336682</td>\n",
       "      <td>22.331603</td>\n",
       "      <td>16.056443</td>\n",
       "      <td>50.435245</td>\n",
       "      <td>28.273058</td>\n",
       "      <td>196.526227</td>\n",
       "      <td>12.979382</td>\n",
       "      <td>1779808</td>\n",
       "      <td>72</td>\n",
       "      <td>4922382562</td>\n",
       "      <td>...</td>\n",
       "      <td>72</td>\n",
       "      <td>A</td>\n",
       "      <td>18.217648</td>\n",
       "      <td>0</td>\n",
       "      <td>9</td>\n",
       "      <td>Puerto Rico</td>\n",
       "      <td>-66.410799</td>\n",
       "      <td>G4000</td>\n",
       "      <td>8868896030</td>\n",
       "      <td>00000000000000000031</td>\n",
       "    </tr>\n",
       "    <tr>\n",
       "      <th>5</th>\n",
       "      <td>26.693995</td>\n",
       "      <td>20.365608</td>\n",
       "      <td>14.392753</td>\n",
       "      <td>48.919237</td>\n",
       "      <td>26.154328</td>\n",
       "      <td>190.419794</td>\n",
       "      <td>11.823346</td>\n",
       "      <td>1219835</td>\n",
       "      <td>44</td>\n",
       "      <td>1323670487</td>\n",
       "      <td>...</td>\n",
       "      <td>44</td>\n",
       "      <td>A</td>\n",
       "      <td>41.597419</td>\n",
       "      <td>1</td>\n",
       "      <td>1</td>\n",
       "      <td>Rhode Island</td>\n",
       "      <td>-71.527272</td>\n",
       "      <td>G4000</td>\n",
       "      <td>2677779902</td>\n",
       "      <td>00000000000000000005</td>\n",
       "    </tr>\n",
       "    <tr>\n",
       "      <th>6</th>\n",
       "      <td>24.182084</td>\n",
       "      <td>19.897618</td>\n",
       "      <td>14.210275</td>\n",
       "      <td>66.181356</td>\n",
       "      <td>32.332016</td>\n",
       "      <td>188.583438</td>\n",
       "      <td>13.340159</td>\n",
       "      <td>1779794</td>\n",
       "      <td>33</td>\n",
       "      <td>1026675248</td>\n",
       "      <td>...</td>\n",
       "      <td>33</td>\n",
       "      <td>A</td>\n",
       "      <td>43.672691</td>\n",
       "      <td>1</td>\n",
       "      <td>1</td>\n",
       "      <td>New Hampshire</td>\n",
       "      <td>-71.584315</td>\n",
       "      <td>G4000</td>\n",
       "      <td>23189413166</td>\n",
       "      <td>00000000000000000007</td>\n",
       "    </tr>\n",
       "    <tr>\n",
       "      <th>7</th>\n",
       "      <td>24.753833</td>\n",
       "      <td>20.574505</td>\n",
       "      <td>14.488847</td>\n",
       "      <td>71.927340</td>\n",
       "      <td>34.637324</td>\n",
       "      <td>188.670951</td>\n",
       "      <td>14.045808</td>\n",
       "      <td>1779802</td>\n",
       "      <td>50</td>\n",
       "      <td>1030416650</td>\n",
       "      <td>...</td>\n",
       "      <td>50</td>\n",
       "      <td>A</td>\n",
       "      <td>44.068577</td>\n",
       "      <td>1</td>\n",
       "      <td>1</td>\n",
       "      <td>Vermont</td>\n",
       "      <td>-72.669184</td>\n",
       "      <td>G4000</td>\n",
       "      <td>23874175944</td>\n",
       "      <td>00000000000000000009</td>\n",
       "    </tr>\n",
       "    <tr>\n",
       "      <th>8</th>\n",
       "      <td>26.434410</td>\n",
       "      <td>21.109626</td>\n",
       "      <td>16.415626</td>\n",
       "      <td>56.396922</td>\n",
       "      <td>32.885391</td>\n",
       "      <td>189.828376</td>\n",
       "      <td>14.392366</td>\n",
       "      <td>1779780</td>\n",
       "      <td>9</td>\n",
       "      <td>1815617571</td>\n",
       "      <td>...</td>\n",
       "      <td>9</td>\n",
       "      <td>A</td>\n",
       "      <td>41.579864</td>\n",
       "      <td>1</td>\n",
       "      <td>1</td>\n",
       "      <td>Connecticut</td>\n",
       "      <td>-72.746657</td>\n",
       "      <td>G4000</td>\n",
       "      <td>12542497068</td>\n",
       "      <td>0000000000000000000a</td>\n",
       "    </tr>\n",
       "    <tr>\n",
       "      <th>9</th>\n",
       "      <td>24.399284</td>\n",
       "      <td>19.500602</td>\n",
       "      <td>13.340003</td>\n",
       "      <td>61.643714</td>\n",
       "      <td>28.630826</td>\n",
       "      <td>188.700606</td>\n",
       "      <td>11.798984</td>\n",
       "      <td>1779787</td>\n",
       "      <td>23</td>\n",
       "      <td>11746549764</td>\n",
       "      <td>...</td>\n",
       "      <td>23</td>\n",
       "      <td>A</td>\n",
       "      <td>45.409284</td>\n",
       "      <td>1</td>\n",
       "      <td>1</td>\n",
       "      <td>Maine</td>\n",
       "      <td>-68.666616</td>\n",
       "      <td>G4000</td>\n",
       "      <td>79887426037</td>\n",
       "      <td>00000000000000000025</td>\n",
       "    </tr>\n",
       "    <tr>\n",
       "      <th>10</th>\n",
       "      <td>26.418330</td>\n",
       "      <td>20.474098</td>\n",
       "      <td>14.929373</td>\n",
       "      <td>50.053701</td>\n",
       "      <td>26.972604</td>\n",
       "      <td>188.948101</td>\n",
       "      <td>12.135537</td>\n",
       "      <td>606926</td>\n",
       "      <td>25</td>\n",
       "      <td>7129925486</td>\n",
       "      <td>...</td>\n",
       "      <td>25</td>\n",
       "      <td>A</td>\n",
       "      <td>42.156520</td>\n",
       "      <td>1</td>\n",
       "      <td>1</td>\n",
       "      <td>Massachusetts</td>\n",
       "      <td>-71.489592</td>\n",
       "      <td>G4000</td>\n",
       "      <td>20205125364</td>\n",
       "      <td>00000000000000000033</td>\n",
       "    </tr>\n",
       "    <tr>\n",
       "      <th>11</th>\n",
       "      <td>28.292224</td>\n",
       "      <td>23.163249</td>\n",
       "      <td>18.607442</td>\n",
       "      <td>52.247561</td>\n",
       "      <td>33.727738</td>\n",
       "      <td>192.738293</td>\n",
       "      <td>16.538366</td>\n",
       "      <td>1779795</td>\n",
       "      <td>34</td>\n",
       "      <td>3544860246</td>\n",
       "      <td>...</td>\n",
       "      <td>34</td>\n",
       "      <td>A</td>\n",
       "      <td>40.107274</td>\n",
       "      <td>2</td>\n",
       "      <td>1</td>\n",
       "      <td>New Jersey</td>\n",
       "      <td>-74.665201</td>\n",
       "      <td>G4000</td>\n",
       "      <td>19047825980</td>\n",
       "      <td>0000000000000000000e</td>\n",
       "    </tr>\n",
       "    <tr>\n",
       "      <th>12</th>\n",
       "      <td>26.607226</td>\n",
       "      <td>22.131232</td>\n",
       "      <td>17.298735</td>\n",
       "      <td>68.487219</td>\n",
       "      <td>40.732713</td>\n",
       "      <td>192.079890</td>\n",
       "      <td>17.961563</td>\n",
       "      <td>1779798</td>\n",
       "      <td>42</td>\n",
       "      <td>3394589990</td>\n",
       "      <td>...</td>\n",
       "      <td>42</td>\n",
       "      <td>A</td>\n",
       "      <td>40.902496</td>\n",
       "      <td>2</td>\n",
       "      <td>1</td>\n",
       "      <td>Pennsylvania</td>\n",
       "      <td>-77.833451</td>\n",
       "      <td>G4000</td>\n",
       "      <td>115884442321</td>\n",
       "      <td>00000000000000000012</td>\n",
       "    </tr>\n",
       "    <tr>\n",
       "      <th>13</th>\n",
       "      <td>25.978804</td>\n",
       "      <td>21.007124</td>\n",
       "      <td>15.371374</td>\n",
       "      <td>63.645910</td>\n",
       "      <td>34.395695</td>\n",
       "      <td>191.027433</td>\n",
       "      <td>14.751453</td>\n",
       "      <td>1779796</td>\n",
       "      <td>36</td>\n",
       "      <td>19246994695</td>\n",
       "      <td>...</td>\n",
       "      <td>36</td>\n",
       "      <td>A</td>\n",
       "      <td>42.913397</td>\n",
       "      <td>2</td>\n",
       "      <td>1</td>\n",
       "      <td>New York</td>\n",
       "      <td>-75.596272</td>\n",
       "      <td>G4000</td>\n",
       "      <td>122049149763</td>\n",
       "      <td>00000000000000000026</td>\n",
       "    </tr>\n",
       "    <tr>\n",
       "      <th>14</th>\n",
       "      <td>27.846027</td>\n",
       "      <td>23.865799</td>\n",
       "      <td>21.326302</td>\n",
       "      <td>59.747416</td>\n",
       "      <td>47.673504</td>\n",
       "      <td>194.800388</td>\n",
       "      <td>25.237422</td>\n",
       "      <td>1779784</td>\n",
       "      <td>17</td>\n",
       "      <td>6214824948</td>\n",
       "      <td>...</td>\n",
       "      <td>17</td>\n",
       "      <td>A</td>\n",
       "      <td>40.102875</td>\n",
       "      <td>3</td>\n",
       "      <td>2</td>\n",
       "      <td>Illinois</td>\n",
       "      <td>-89.152611</td>\n",
       "      <td>G4000</td>\n",
       "      <td>143780567633</td>\n",
       "      <td>00000000000000000002</td>\n",
       "    </tr>\n",
       "    <tr>\n",
       "      <th>15</th>\n",
       "      <td>26.618538</td>\n",
       "      <td>21.544949</td>\n",
       "      <td>17.098901</td>\n",
       "      <td>55.453789</td>\n",
       "      <td>35.668268</td>\n",
       "      <td>189.530465</td>\n",
       "      <td>16.589857</td>\n",
       "      <td>1779806</td>\n",
       "      <td>55</td>\n",
       "      <td>29344951758</td>\n",
       "      <td>...</td>\n",
       "      <td>55</td>\n",
       "      <td>A</td>\n",
       "      <td>44.630907</td>\n",
       "      <td>3</td>\n",
       "      <td>2</td>\n",
       "      <td>Wisconsin</td>\n",
       "      <td>-89.709392</td>\n",
       "      <td>G4000</td>\n",
       "      <td>140290039723</td>\n",
       "      <td>0000000000000000000f</td>\n",
       "    </tr>\n",
       "    <tr>\n",
       "      <th>16</th>\n",
       "      <td>27.745233</td>\n",
       "      <td>23.756297</td>\n",
       "      <td>19.135417</td>\n",
       "      <td>67.301824</td>\n",
       "      <td>42.574495</td>\n",
       "      <td>194.736796</td>\n",
       "      <td>20.283192</td>\n",
       "      <td>1085497</td>\n",
       "      <td>39</td>\n",
       "      <td>10268850702</td>\n",
       "      <td>...</td>\n",
       "      <td>39</td>\n",
       "      <td>A</td>\n",
       "      <td>40.414930</td>\n",
       "      <td>3</td>\n",
       "      <td>2</td>\n",
       "      <td>Ohio</td>\n",
       "      <td>-82.711997</td>\n",
       "      <td>G4000</td>\n",
       "      <td>105828882568</td>\n",
       "      <td>00000000000000000018</td>\n",
       "    </tr>\n",
       "    <tr>\n",
       "      <th>17</th>\n",
       "      <td>25.859335</td>\n",
       "      <td>19.407503</td>\n",
       "      <td>13.804269</td>\n",
       "      <td>42.206897</td>\n",
       "      <td>24.870510</td>\n",
       "      <td>188.717157</td>\n",
       "      <td>11.619823</td>\n",
       "      <td>1779789</td>\n",
       "      <td>26</td>\n",
       "      <td>103885855702</td>\n",
       "      <td>...</td>\n",
       "      <td>26</td>\n",
       "      <td>A</td>\n",
       "      <td>44.844177</td>\n",
       "      <td>3</td>\n",
       "      <td>2</td>\n",
       "      <td>Michigan</td>\n",
       "      <td>-85.660491</td>\n",
       "      <td>G4000</td>\n",
       "      <td>146600952990</td>\n",
       "      <td>0000000000000000002a</td>\n",
       "    </tr>\n",
       "    <tr>\n",
       "      <th>18</th>\n",
       "      <td>27.271588</td>\n",
       "      <td>23.668761</td>\n",
       "      <td>19.288911</td>\n",
       "      <td>72.911611</td>\n",
       "      <td>47.145421</td>\n",
       "      <td>195.876063</td>\n",
       "      <td>22.695020</td>\n",
       "      <td>448508</td>\n",
       "      <td>18</td>\n",
       "      <td>1538002829</td>\n",
       "      <td>...</td>\n",
       "      <td>18</td>\n",
       "      <td>A</td>\n",
       "      <td>39.901314</td>\n",
       "      <td>3</td>\n",
       "      <td>2</td>\n",
       "      <td>Indiana</td>\n",
       "      <td>-86.291913</td>\n",
       "      <td>G4000</td>\n",
       "      <td>92789302676</td>\n",
       "      <td>00000000000000000030</td>\n",
       "    </tr>\n",
       "    <tr>\n",
       "      <th>19</th>\n",
       "      <td>26.798008</td>\n",
       "      <td>22.322800</td>\n",
       "      <td>18.351797</td>\n",
       "      <td>57.665801</td>\n",
       "      <td>39.857432</td>\n",
       "      <td>192.491462</td>\n",
       "      <td>19.805776</td>\n",
       "      <td>662849</td>\n",
       "      <td>27</td>\n",
       "      <td>18945217189</td>\n",
       "      <td>...</td>\n",
       "      <td>27</td>\n",
       "      <td>A</td>\n",
       "      <td>46.315957</td>\n",
       "      <td>4</td>\n",
       "      <td>2</td>\n",
       "      <td>Minnesota</td>\n",
       "      <td>-94.199604</td>\n",
       "      <td>G4000</td>\n",
       "      <td>206228939448</td>\n",
       "      <td>00000000000000000003</td>\n",
       "    </tr>\n",
       "    <tr>\n",
       "      <th>20</th>\n",
       "      <td>29.618139</td>\n",
       "      <td>27.902665</td>\n",
       "      <td>28.186084</td>\n",
       "      <td>63.421753</td>\n",
       "      <td>64.603757</td>\n",
       "      <td>201.816956</td>\n",
       "      <td>38.226742</td>\n",
       "      <td>1779792</td>\n",
       "      <td>31</td>\n",
       "      <td>1371829134</td>\n",
       "      <td>...</td>\n",
       "      <td>31</td>\n",
       "      <td>A</td>\n",
       "      <td>41.543305</td>\n",
       "      <td>4</td>\n",
       "      <td>2</td>\n",
       "      <td>Nebraska</td>\n",
       "      <td>-99.811865</td>\n",
       "      <td>G4000</td>\n",
       "      <td>198956658395</td>\n",
       "      <td>00000000000000000011</td>\n",
       "    </tr>\n",
       "    <tr>\n",
       "      <th>21</th>\n",
       "      <td>28.894316</td>\n",
       "      <td>26.348814</td>\n",
       "      <td>25.466746</td>\n",
       "      <td>60.619158</td>\n",
       "      <td>51.764412</td>\n",
       "      <td>197.680685</td>\n",
       "      <td>28.956137</td>\n",
       "      <td>1779797</td>\n",
       "      <td>38</td>\n",
       "      <td>4403267548</td>\n",
       "      <td>...</td>\n",
       "      <td>38</td>\n",
       "      <td>A</td>\n",
       "      <td>47.442174</td>\n",
       "      <td>4</td>\n",
       "      <td>2</td>\n",
       "      <td>North Dakota</td>\n",
       "      <td>-100.460826</td>\n",
       "      <td>G4000</td>\n",
       "      <td>178707534813</td>\n",
       "      <td>00000000000000000020</td>\n",
       "    </tr>\n",
       "    <tr>\n",
       "      <th>22</th>\n",
       "      <td>27.551059</td>\n",
       "      <td>23.657523</td>\n",
       "      <td>20.804899</td>\n",
       "      <td>61.738602</td>\n",
       "      <td>50.265106</td>\n",
       "      <td>194.423836</td>\n",
       "      <td>25.539642</td>\n",
       "      <td>1779791</td>\n",
       "      <td>29</td>\n",
       "      <td>2489425460</td>\n",
       "      <td>...</td>\n",
       "      <td>29</td>\n",
       "      <td>A</td>\n",
       "      <td>38.350750</td>\n",
       "      <td>4</td>\n",
       "      <td>2</td>\n",
       "      <td>Missouri</td>\n",
       "      <td>-92.456783</td>\n",
       "      <td>G4000</td>\n",
       "      <td>178050802184</td>\n",
       "      <td>0000000000000000002d</td>\n",
       "    </tr>\n",
       "    <tr>\n",
       "      <th>23</th>\n",
       "      <td>30.129009</td>\n",
       "      <td>28.197501</td>\n",
       "      <td>28.864022</td>\n",
       "      <td>61.289679</td>\n",
       "      <td>65.052440</td>\n",
       "      <td>200.759246</td>\n",
       "      <td>39.815137</td>\n",
       "      <td>481813</td>\n",
       "      <td>20</td>\n",
       "      <td>1344141205</td>\n",
       "      <td>...</td>\n",
       "      <td>20</td>\n",
       "      <td>A</td>\n",
       "      <td>38.498546</td>\n",
       "      <td>4</td>\n",
       "      <td>2</td>\n",
       "      <td>Kansas</td>\n",
       "      <td>-98.383430</td>\n",
       "      <td>G4000</td>\n",
       "      <td>211755344060</td>\n",
       "      <td>0000000000000000002f</td>\n",
       "    </tr>\n",
       "    <tr>\n",
       "      <th>24</th>\n",
       "      <td>29.642542</td>\n",
       "      <td>27.549565</td>\n",
       "      <td>27.532930</td>\n",
       "      <td>59.769556</td>\n",
       "      <td>59.973653</td>\n",
       "      <td>201.111253</td>\n",
       "      <td>34.425377</td>\n",
       "      <td>1785534</td>\n",
       "      <td>46</td>\n",
       "      <td>3382720225</td>\n",
       "      <td>...</td>\n",
       "      <td>46</td>\n",
       "      <td>A</td>\n",
       "      <td>44.446796</td>\n",
       "      <td>4</td>\n",
       "      <td>2</td>\n",
       "      <td>South Dakota</td>\n",
       "      <td>-100.238176</td>\n",
       "      <td>G4000</td>\n",
       "      <td>196346981786</td>\n",
       "      <td>00000000000000000032</td>\n",
       "    </tr>\n",
       "    <tr>\n",
       "      <th>25</th>\n",
       "      <td>27.911620</td>\n",
       "      <td>24.437453</td>\n",
       "      <td>21.613942</td>\n",
       "      <td>70.673644</td>\n",
       "      <td>51.427716</td>\n",
       "      <td>195.926890</td>\n",
       "      <td>26.010468</td>\n",
       "      <td>1779785</td>\n",
       "      <td>19</td>\n",
       "      <td>1084180812</td>\n",
       "      <td>...</td>\n",
       "      <td>19</td>\n",
       "      <td>A</td>\n",
       "      <td>42.070024</td>\n",
       "      <td>4</td>\n",
       "      <td>2</td>\n",
       "      <td>Iowa</td>\n",
       "      <td>-93.493347</td>\n",
       "      <td>G4000</td>\n",
       "      <td>144661267977</td>\n",
       "      <td>00000000000000000036</td>\n",
       "    </tr>\n",
       "    <tr>\n",
       "      <th>26</th>\n",
       "      <td>25.543631</td>\n",
       "      <td>20.765737</td>\n",
       "      <td>16.787797</td>\n",
       "      <td>60.934672</td>\n",
       "      <td>40.541160</td>\n",
       "      <td>190.507120</td>\n",
       "      <td>18.040511</td>\n",
       "      <td>1779805</td>\n",
       "      <td>54</td>\n",
       "      <td>489028543</td>\n",
       "      <td>...</td>\n",
       "      <td>54</td>\n",
       "      <td>A</td>\n",
       "      <td>38.647285</td>\n",
       "      <td>5</td>\n",
       "      <td>3</td>\n",
       "      <td>West Virginia</td>\n",
       "      <td>-80.618327</td>\n",
       "      <td>G4000</td>\n",
       "      <td>62266474513</td>\n",
       "      <td>00000000000000000000</td>\n",
       "    </tr>\n",
       "    <tr>\n",
       "      <th>27</th>\n",
       "      <td>27.820736</td>\n",
       "      <td>22.752539</td>\n",
       "      <td>17.998343</td>\n",
       "      <td>48.222970</td>\n",
       "      <td>34.602211</td>\n",
       "      <td>195.562211</td>\n",
       "      <td>17.568043</td>\n",
       "      <td>294478</td>\n",
       "      <td>12</td>\n",
       "      <td>31361101223</td>\n",
       "      <td>...</td>\n",
       "      <td>12</td>\n",
       "      <td>A</td>\n",
       "      <td>28.457430</td>\n",
       "      <td>5</td>\n",
       "      <td>3</td>\n",
       "      <td>Florida</td>\n",
       "      <td>-82.409148</td>\n",
       "      <td>G4000</td>\n",
       "      <td>138949136250</td>\n",
       "      <td>00000000000000000001</td>\n",
       "    </tr>\n",
       "    <tr>\n",
       "      <th>28</th>\n",
       "      <td>27.850982</td>\n",
       "      <td>22.862359</td>\n",
       "      <td>18.305766</td>\n",
       "      <td>53.743407</td>\n",
       "      <td>33.292797</td>\n",
       "      <td>191.063201</td>\n",
       "      <td>15.767802</td>\n",
       "      <td>1714934</td>\n",
       "      <td>24</td>\n",
       "      <td>6979966958</td>\n",
       "      <td>...</td>\n",
       "      <td>24</td>\n",
       "      <td>A</td>\n",
       "      <td>38.946658</td>\n",
       "      <td>5</td>\n",
       "      <td>3</td>\n",
       "      <td>Maryland</td>\n",
       "      <td>-76.674494</td>\n",
       "      <td>G4000</td>\n",
       "      <td>25151100280</td>\n",
       "      <td>00000000000000000004</td>\n",
       "    </tr>\n",
       "    <tr>\n",
       "      <th>29</th>\n",
       "      <td>26.858496</td>\n",
       "      <td>21.842992</td>\n",
       "      <td>18.281441</td>\n",
       "      <td>52.001752</td>\n",
       "      <td>38.444887</td>\n",
       "      <td>190.906151</td>\n",
       "      <td>19.485086</td>\n",
       "      <td>1027616</td>\n",
       "      <td>37</td>\n",
       "      <td>13466071395</td>\n",
       "      <td>...</td>\n",
       "      <td>37</td>\n",
       "      <td>A</td>\n",
       "      <td>35.539710</td>\n",
       "      <td>5</td>\n",
       "      <td>3</td>\n",
       "      <td>North Carolina</td>\n",
       "      <td>-79.130864</td>\n",
       "      <td>G4000</td>\n",
       "      <td>125923656064</td>\n",
       "      <td>00000000000000000008</td>\n",
       "    </tr>\n",
       "    <tr>\n",
       "      <th>30</th>\n",
       "      <td>29.094652</td>\n",
       "      <td>24.190289</td>\n",
       "      <td>19.698221</td>\n",
       "      <td>55.264846</td>\n",
       "      <td>34.664264</td>\n",
       "      <td>192.057107</td>\n",
       "      <td>16.893077</td>\n",
       "      <td>1779781</td>\n",
       "      <td>10</td>\n",
       "      <td>1399985648</td>\n",
       "      <td>...</td>\n",
       "      <td>10</td>\n",
       "      <td>A</td>\n",
       "      <td>38.998566</td>\n",
       "      <td>5</td>\n",
       "      <td>3</td>\n",
       "      <td>Delaware</td>\n",
       "      <td>-75.441644</td>\n",
       "      <td>G4000</td>\n",
       "      <td>5045925646</td>\n",
       "      <td>0000000000000000000b</td>\n",
       "    </tr>\n",
       "    <tr>\n",
       "      <th>31</th>\n",
       "      <td>26.385754</td>\n",
       "      <td>21.532106</td>\n",
       "      <td>17.827812</td>\n",
       "      <td>53.434529</td>\n",
       "      <td>40.273753</td>\n",
       "      <td>192.628625</td>\n",
       "      <td>20.197848</td>\n",
       "      <td>1705317</td>\n",
       "      <td>13</td>\n",
       "      <td>4422936154</td>\n",
       "      <td>...</td>\n",
       "      <td>13</td>\n",
       "      <td>A</td>\n",
       "      <td>32.629579</td>\n",
       "      <td>5</td>\n",
       "      <td>3</td>\n",
       "      <td>Georgia</td>\n",
       "      <td>-83.423511</td>\n",
       "      <td>G4000</td>\n",
       "      <td>149482048342</td>\n",
       "      <td>00000000000000000015</td>\n",
       "    </tr>\n",
       "    <tr>\n",
       "      <th>32</th>\n",
       "      <td>26.748999</td>\n",
       "      <td>21.650402</td>\n",
       "      <td>17.802222</td>\n",
       "      <td>52.167806</td>\n",
       "      <td>38.192817</td>\n",
       "      <td>192.366314</td>\n",
       "      <td>19.080133</td>\n",
       "      <td>1779799</td>\n",
       "      <td>45</td>\n",
       "      <td>5075218778</td>\n",
       "      <td>...</td>\n",
       "      <td>45</td>\n",
       "      <td>A</td>\n",
       "      <td>33.874178</td>\n",
       "      <td>5</td>\n",
       "      <td>3</td>\n",
       "      <td>South Carolina</td>\n",
       "      <td>-80.854264</td>\n",
       "      <td>G4000</td>\n",
       "      <td>77864918488</td>\n",
       "      <td>0000000000000000001b</td>\n",
       "    </tr>\n",
       "    <tr>\n",
       "      <th>33</th>\n",
       "      <td>26.856425</td>\n",
       "      <td>22.037660</td>\n",
       "      <td>18.288093</td>\n",
       "      <td>56.426193</td>\n",
       "      <td>39.426451</td>\n",
       "      <td>191.194741</td>\n",
       "      <td>18.742382</td>\n",
       "      <td>1779803</td>\n",
       "      <td>51</td>\n",
       "      <td>8528531774</td>\n",
       "      <td>...</td>\n",
       "      <td>51</td>\n",
       "      <td>A</td>\n",
       "      <td>37.522251</td>\n",
       "      <td>5</td>\n",
       "      <td>3</td>\n",
       "      <td>Virginia</td>\n",
       "      <td>-78.668194</td>\n",
       "      <td>G4000</td>\n",
       "      <td>102257717110</td>\n",
       "      <td>00000000000000000034</td>\n",
       "    </tr>\n",
       "    <tr>\n",
       "      <th>34</th>\n",
       "      <td>31.497899</td>\n",
       "      <td>26.801450</td>\n",
       "      <td>23.507628</td>\n",
       "      <td>49.549969</td>\n",
       "      <td>34.376713</td>\n",
       "      <td>192.854208</td>\n",
       "      <td>20.606912</td>\n",
       "      <td>1702382</td>\n",
       "      <td>11</td>\n",
       "      <td>18687198</td>\n",
       "      <td>...</td>\n",
       "      <td>11</td>\n",
       "      <td>A</td>\n",
       "      <td>38.904103</td>\n",
       "      <td>5</td>\n",
       "      <td>3</td>\n",
       "      <td>District of Columbia</td>\n",
       "      <td>-77.017229</td>\n",
       "      <td>G4000</td>\n",
       "      <td>158340391</td>\n",
       "      <td>00000000000000000035</td>\n",
       "    </tr>\n",
       "    <tr>\n",
       "      <th>35</th>\n",
       "      <td>26.380884</td>\n",
       "      <td>21.282672</td>\n",
       "      <td>17.683036</td>\n",
       "      <td>52.217778</td>\n",
       "      <td>40.058335</td>\n",
       "      <td>192.404521</td>\n",
       "      <td>19.461855</td>\n",
       "      <td>1779775</td>\n",
       "      <td>1</td>\n",
       "      <td>4593327154</td>\n",
       "      <td>...</td>\n",
       "      <td>1</td>\n",
       "      <td>A</td>\n",
       "      <td>32.739632</td>\n",
       "      <td>6</td>\n",
       "      <td>3</td>\n",
       "      <td>Alabama</td>\n",
       "      <td>-86.843459</td>\n",
       "      <td>G4000</td>\n",
       "      <td>131174048583</td>\n",
       "      <td>00000000000000000016</td>\n",
       "    </tr>\n",
       "    <tr>\n",
       "      <th>36</th>\n",
       "      <td>27.014266</td>\n",
       "      <td>22.538769</td>\n",
       "      <td>19.220318</td>\n",
       "      <td>58.494216</td>\n",
       "      <td>44.910304</td>\n",
       "      <td>193.166802</td>\n",
       "      <td>21.995257</td>\n",
       "      <td>1325873</td>\n",
       "      <td>47</td>\n",
       "      <td>2350123465</td>\n",
       "      <td>...</td>\n",
       "      <td>47</td>\n",
       "      <td>A</td>\n",
       "      <td>35.860803</td>\n",
       "      <td>6</td>\n",
       "      <td>3</td>\n",
       "      <td>Tennessee</td>\n",
       "      <td>-86.349990</td>\n",
       "      <td>G4000</td>\n",
       "      <td>106802728188</td>\n",
       "      <td>0000000000000000001d</td>\n",
       "    </tr>\n",
       "    <tr>\n",
       "      <th>37</th>\n",
       "      <td>27.179483</td>\n",
       "      <td>22.961976</td>\n",
       "      <td>18.937999</td>\n",
       "      <td>64.764725</td>\n",
       "      <td>45.811420</td>\n",
       "      <td>194.783845</td>\n",
       "      <td>21.598618</td>\n",
       "      <td>1779786</td>\n",
       "      <td>21</td>\n",
       "      <td>2375337755</td>\n",
       "      <td>...</td>\n",
       "      <td>21</td>\n",
       "      <td>A</td>\n",
       "      <td>37.533684</td>\n",
       "      <td>6</td>\n",
       "      <td>3</td>\n",
       "      <td>Kentucky</td>\n",
       "      <td>-85.292980</td>\n",
       "      <td>G4000</td>\n",
       "      <td>102279490672</td>\n",
       "      <td>00000000000000000021</td>\n",
       "    </tr>\n",
       "    <tr>\n",
       "      <th>38</th>\n",
       "      <td>26.490764</td>\n",
       "      <td>21.640737</td>\n",
       "      <td>17.937905</td>\n",
       "      <td>54.068605</td>\n",
       "      <td>40.660630</td>\n",
       "      <td>193.266742</td>\n",
       "      <td>19.578046</td>\n",
       "      <td>1779790</td>\n",
       "      <td>28</td>\n",
       "      <td>3926919758</td>\n",
       "      <td>...</td>\n",
       "      <td>28</td>\n",
       "      <td>A</td>\n",
       "      <td>32.686471</td>\n",
       "      <td>6</td>\n",
       "      <td>3</td>\n",
       "      <td>Mississippi</td>\n",
       "      <td>-89.656138</td>\n",
       "      <td>G4000</td>\n",
       "      <td>121533519481</td>\n",
       "      <td>0000000000000000002c</td>\n",
       "    </tr>\n",
       "    <tr>\n",
       "      <th>39</th>\n",
       "      <td>26.911211</td>\n",
       "      <td>22.107666</td>\n",
       "      <td>17.801061</td>\n",
       "      <td>46.712107</td>\n",
       "      <td>33.288424</td>\n",
       "      <td>193.046569</td>\n",
       "      <td>15.948110</td>\n",
       "      <td>1629543</td>\n",
       "      <td>22</td>\n",
       "      <td>23753621895</td>\n",
       "      <td>...</td>\n",
       "      <td>22</td>\n",
       "      <td>A</td>\n",
       "      <td>30.863437</td>\n",
       "      <td>7</td>\n",
       "      <td>3</td>\n",
       "      <td>Louisiana</td>\n",
       "      <td>-91.798717</td>\n",
       "      <td>G4000</td>\n",
       "      <td>111897594374</td>\n",
       "      <td>00000000000000000014</td>\n",
       "    </tr>\n",
       "    <tr>\n",
       "      <th>40</th>\n",
       "      <td>31.961216</td>\n",
       "      <td>31.112636</td>\n",
       "      <td>32.895182</td>\n",
       "      <td>61.526663</td>\n",
       "      <td>66.163121</td>\n",
       "      <td>202.104357</td>\n",
       "      <td>43.192299</td>\n",
       "      <td>1779801</td>\n",
       "      <td>48</td>\n",
       "      <td>19006305260</td>\n",
       "      <td>...</td>\n",
       "      <td>48</td>\n",
       "      <td>A</td>\n",
       "      <td>31.434703</td>\n",
       "      <td>7</td>\n",
       "      <td>3</td>\n",
       "      <td>Texas</td>\n",
       "      <td>-99.281824</td>\n",
       "      <td>G4000</td>\n",
       "      <td>676653171537</td>\n",
       "      <td>00000000000000000019</td>\n",
       "    </tr>\n",
       "    <tr>\n",
       "      <th>41</th>\n",
       "      <td>28.755042</td>\n",
       "      <td>26.293467</td>\n",
       "      <td>26.014495</td>\n",
       "      <td>60.563649</td>\n",
       "      <td>59.492218</td>\n",
       "      <td>198.771381</td>\n",
       "      <td>34.223969</td>\n",
       "      <td>1102857</td>\n",
       "      <td>40</td>\n",
       "      <td>3374587997</td>\n",
       "      <td>...</td>\n",
       "      <td>40</td>\n",
       "      <td>A</td>\n",
       "      <td>35.590051</td>\n",
       "      <td>7</td>\n",
       "      <td>3</td>\n",
       "      <td>Oklahoma</td>\n",
       "      <td>-97.486815</td>\n",
       "      <td>G4000</td>\n",
       "      <td>177662925723</td>\n",
       "      <td>0000000000000000001c</td>\n",
       "    </tr>\n",
       "    <tr>\n",
       "      <th>42</th>\n",
       "      <td>27.034921</td>\n",
       "      <td>22.568674</td>\n",
       "      <td>19.379135</td>\n",
       "      <td>55.878864</td>\n",
       "      <td>43.645793</td>\n",
       "      <td>193.836232</td>\n",
       "      <td>21.478362</td>\n",
       "      <td>68085</td>\n",
       "      <td>5</td>\n",
       "      <td>2962859592</td>\n",
       "      <td>...</td>\n",
       "      <td>5</td>\n",
       "      <td>A</td>\n",
       "      <td>34.895526</td>\n",
       "      <td>7</td>\n",
       "      <td>3</td>\n",
       "      <td>Arkansas</td>\n",
       "      <td>-92.444626</td>\n",
       "      <td>G4000</td>\n",
       "      <td>134768872727</td>\n",
       "      <td>0000000000000000002b</td>\n",
       "    </tr>\n",
       "    <tr>\n",
       "      <th>43</th>\n",
       "      <td>27.353399</td>\n",
       "      <td>25.766709</td>\n",
       "      <td>25.818268</td>\n",
       "      <td>54.099242</td>\n",
       "      <td>47.737364</td>\n",
       "      <td>200.077433</td>\n",
       "      <td>31.067808</td>\n",
       "      <td>1779783</td>\n",
       "      <td>16</td>\n",
       "      <td>2391722557</td>\n",
       "      <td>...</td>\n",
       "      <td>16</td>\n",
       "      <td>A</td>\n",
       "      <td>44.348422</td>\n",
       "      <td>8</td>\n",
       "      <td>4</td>\n",
       "      <td>Idaho</td>\n",
       "      <td>-114.558854</td>\n",
       "      <td>G4000</td>\n",
       "      <td>214049787659</td>\n",
       "      <td>00000000000000000006</td>\n",
       "    </tr>\n",
       "    <tr>\n",
       "      <th>44</th>\n",
       "      <td>34.152682</td>\n",
       "      <td>36.474039</td>\n",
       "      <td>42.997107</td>\n",
       "      <td>62.234072</td>\n",
       "      <td>73.637599</td>\n",
       "      <td>204.939847</td>\n",
       "      <td>56.819551</td>\n",
       "      <td>897535</td>\n",
       "      <td>35</td>\n",
       "      <td>728776523</td>\n",
       "      <td>...</td>\n",
       "      <td>35</td>\n",
       "      <td>A</td>\n",
       "      <td>34.434684</td>\n",
       "      <td>8</td>\n",
       "      <td>4</td>\n",
       "      <td>New Mexico</td>\n",
       "      <td>-106.131618</td>\n",
       "      <td>G4000</td>\n",
       "      <td>314196306401</td>\n",
       "      <td>0000000000000000000c</td>\n",
       "    </tr>\n",
       "    <tr>\n",
       "      <th>45</th>\n",
       "      <td>36.779796</td>\n",
       "      <td>39.289260</td>\n",
       "      <td>44.619088</td>\n",
       "      <td>64.595458</td>\n",
       "      <td>68.689559</td>\n",
       "      <td>205.417553</td>\n",
       "      <td>52.658223</td>\n",
       "      <td>1455989</td>\n",
       "      <td>49</td>\n",
       "      <td>6998824394</td>\n",
       "      <td>...</td>\n",
       "      <td>49</td>\n",
       "      <td>A</td>\n",
       "      <td>39.334992</td>\n",
       "      <td>8</td>\n",
       "      <td>4</td>\n",
       "      <td>Utah</td>\n",
       "      <td>-111.656333</td>\n",
       "      <td>G4000</td>\n",
       "      <td>212886221680</td>\n",
       "      <td>00000000000000000017</td>\n",
       "    </tr>\n",
       "    <tr>\n",
       "      <th>46</th>\n",
       "      <td>29.889661</td>\n",
       "      <td>29.937843</td>\n",
       "      <td>32.321869</td>\n",
       "      <td>56.410052</td>\n",
       "      <td>61.475820</td>\n",
       "      <td>200.382842</td>\n",
       "      <td>42.678696</td>\n",
       "      <td>1779779</td>\n",
       "      <td>8</td>\n",
       "      <td>1181621593</td>\n",
       "      <td>...</td>\n",
       "      <td>8</td>\n",
       "      <td>A</td>\n",
       "      <td>38.993848</td>\n",
       "      <td>8</td>\n",
       "      <td>4</td>\n",
       "      <td>Colorado</td>\n",
       "      <td>-105.508317</td>\n",
       "      <td>G4000</td>\n",
       "      <td>268422891711</td>\n",
       "      <td>0000000000000000001a</td>\n",
       "    </tr>\n",
       "    <tr>\n",
       "      <th>47</th>\n",
       "      <td>33.438453</td>\n",
       "      <td>34.641127</td>\n",
       "      <td>37.607443</td>\n",
       "      <td>58.743196</td>\n",
       "      <td>68.849089</td>\n",
       "      <td>204.333905</td>\n",
       "      <td>49.934905</td>\n",
       "      <td>1779807</td>\n",
       "      <td>56</td>\n",
       "      <td>1867670745</td>\n",
       "      <td>...</td>\n",
       "      <td>56</td>\n",
       "      <td>A</td>\n",
       "      <td>42.989659</td>\n",
       "      <td>8</td>\n",
       "      <td>4</td>\n",
       "      <td>Wyoming</td>\n",
       "      <td>-107.544392</td>\n",
       "      <td>G4000</td>\n",
       "      <td>251458544898</td>\n",
       "      <td>0000000000000000001e</td>\n",
       "    </tr>\n",
       "    <tr>\n",
       "      <th>48</th>\n",
       "      <td>37.783801</td>\n",
       "      <td>39.590258</td>\n",
       "      <td>44.687383</td>\n",
       "      <td>59.322228</td>\n",
       "      <td>66.619737</td>\n",
       "      <td>210.191772</td>\n",
       "      <td>51.928985</td>\n",
       "      <td>1779793</td>\n",
       "      <td>32</td>\n",
       "      <td>2047206072</td>\n",
       "      <td>...</td>\n",
       "      <td>32</td>\n",
       "      <td>A</td>\n",
       "      <td>39.331093</td>\n",
       "      <td>8</td>\n",
       "      <td>4</td>\n",
       "      <td>Nevada</td>\n",
       "      <td>-116.615147</td>\n",
       "      <td>G4000</td>\n",
       "      <td>284329506470</td>\n",
       "      <td>00000000000000000027</td>\n",
       "    </tr>\n",
       "    <tr>\n",
       "      <th>49</th>\n",
       "      <td>30.120042</td>\n",
       "      <td>28.767456</td>\n",
       "      <td>29.263860</td>\n",
       "      <td>53.507322</td>\n",
       "      <td>57.769215</td>\n",
       "      <td>201.929898</td>\n",
       "      <td>37.984008</td>\n",
       "      <td>767982</td>\n",
       "      <td>30</td>\n",
       "      <td>3869208832</td>\n",
       "      <td>...</td>\n",
       "      <td>30</td>\n",
       "      <td>A</td>\n",
       "      <td>47.051177</td>\n",
       "      <td>8</td>\n",
       "      <td>4</td>\n",
       "      <td>Montana</td>\n",
       "      <td>-109.634817</td>\n",
       "      <td>G4000</td>\n",
       "      <td>376962738765</td>\n",
       "      <td>0000000000000000002e</td>\n",
       "    </tr>\n",
       "    <tr>\n",
       "      <th>50</th>\n",
       "      <td>35.121600</td>\n",
       "      <td>37.598372</td>\n",
       "      <td>45.309619</td>\n",
       "      <td>63.590099</td>\n",
       "      <td>70.595708</td>\n",
       "      <td>208.805378</td>\n",
       "      <td>55.233181</td>\n",
       "      <td>1779777</td>\n",
       "      <td>4</td>\n",
       "      <td>1027337603</td>\n",
       "      <td>...</td>\n",
       "      <td>4</td>\n",
       "      <td>A</td>\n",
       "      <td>34.203936</td>\n",
       "      <td>8</td>\n",
       "      <td>4</td>\n",
       "      <td>Arizona</td>\n",
       "      <td>-111.606357</td>\n",
       "      <td>G4000</td>\n",
       "      <td>294198551143</td>\n",
       "      <td>00000000000000000037</td>\n",
       "    </tr>\n",
       "    <tr>\n",
       "      <th>51</th>\n",
       "      <td>31.982405</td>\n",
       "      <td>31.220229</td>\n",
       "      <td>32.841479</td>\n",
       "      <td>57.578662</td>\n",
       "      <td>53.325205</td>\n",
       "      <td>204.279854</td>\n",
       "      <td>36.724518</td>\n",
       "      <td>1779778</td>\n",
       "      <td>6</td>\n",
       "      <td>20463871877</td>\n",
       "      <td>...</td>\n",
       "      <td>6</td>\n",
       "      <td>A</td>\n",
       "      <td>37.155177</td>\n",
       "      <td>9</td>\n",
       "      <td>4</td>\n",
       "      <td>California</td>\n",
       "      <td>-119.543418</td>\n",
       "      <td>G4000</td>\n",
       "      <td>403503931312</td>\n",
       "      <td>0000000000000000000d</td>\n",
       "    </tr>\n",
       "    <tr>\n",
       "      <th>52</th>\n",
       "      <td>27.051865</td>\n",
       "      <td>24.406807</td>\n",
       "      <td>23.860677</td>\n",
       "      <td>51.316701</td>\n",
       "      <td>43.380485</td>\n",
       "      <td>200.020205</td>\n",
       "      <td>28.270800</td>\n",
       "      <td>1155107</td>\n",
       "      <td>41</td>\n",
       "      <td>6192386935</td>\n",
       "      <td>...</td>\n",
       "      <td>41</td>\n",
       "      <td>A</td>\n",
       "      <td>43.971713</td>\n",
       "      <td>9</td>\n",
       "      <td>4</td>\n",
       "      <td>Oregon</td>\n",
       "      <td>-120.622958</td>\n",
       "      <td>G4000</td>\n",
       "      <td>248606993270</td>\n",
       "      <td>00000000000000000010</td>\n",
       "    </tr>\n",
       "    <tr>\n",
       "      <th>53</th>\n",
       "      <td>27.469868</td>\n",
       "      <td>23.916901</td>\n",
       "      <td>21.771626</td>\n",
       "      <td>53.913108</td>\n",
       "      <td>37.117188</td>\n",
       "      <td>195.513904</td>\n",
       "      <td>21.836538</td>\n",
       "      <td>1779804</td>\n",
       "      <td>53</td>\n",
       "      <td>12559278850</td>\n",
       "      <td>...</td>\n",
       "      <td>53</td>\n",
       "      <td>A</td>\n",
       "      <td>47.407324</td>\n",
       "      <td>9</td>\n",
       "      <td>4</td>\n",
       "      <td>Washington</td>\n",
       "      <td>-120.575800</td>\n",
       "      <td>G4000</td>\n",
       "      <td>172112588220</td>\n",
       "      <td>00000000000000000013</td>\n",
       "    </tr>\n",
       "    <tr>\n",
       "      <th>54</th>\n",
       "      <td>26.245346</td>\n",
       "      <td>19.456760</td>\n",
       "      <td>14.991562</td>\n",
       "      <td>33.307071</td>\n",
       "      <td>22.011358</td>\n",
       "      <td>196.853565</td>\n",
       "      <td>12.323241</td>\n",
       "      <td>1779782</td>\n",
       "      <td>15</td>\n",
       "      <td>11777809026</td>\n",
       "      <td>...</td>\n",
       "      <td>15</td>\n",
       "      <td>A</td>\n",
       "      <td>19.597764</td>\n",
       "      <td>9</td>\n",
       "      <td>4</td>\n",
       "      <td>Hawaii</td>\n",
       "      <td>-155.502443</td>\n",
       "      <td>G4000</td>\n",
       "      <td>16633990195</td>\n",
       "      <td>0000000000000000001f</td>\n",
       "    </tr>\n",
       "    <tr>\n",
       "      <th>55</th>\n",
       "      <td>58.458144</td>\n",
       "      <td>50.260662</td>\n",
       "      <td>45.295325</td>\n",
       "      <td>69.323721</td>\n",
       "      <td>23.088024</td>\n",
       "      <td>177.653050</td>\n",
       "      <td>12.604952</td>\n",
       "      <td>1785533</td>\n",
       "      <td>2</td>\n",
       "      <td>245481577452</td>\n",
       "      <td>...</td>\n",
       "      <td>2</td>\n",
       "      <td>A</td>\n",
       "      <td>63.347356</td>\n",
       "      <td>9</td>\n",
       "      <td>4</td>\n",
       "      <td>Alaska</td>\n",
       "      <td>-152.839733</td>\n",
       "      <td>G4000</td>\n",
       "      <td>1478839695958</td>\n",
       "      <td>00000000000000000028</td>\n",
       "    </tr>\n",
       "  </tbody>\n",
       "</table>\n",
       "<p>56 rows × 22 columns</p>\n",
       "</div>"
      ],
      "text/plain": [
       "           B1         B2         B3         B4         B5   B6_VCID_2  \\\n",
       "0   31.388169  21.705126  15.932166  21.327083  14.938834  195.713347   \n",
       "1   28.235328  17.018901  11.455564  15.965257   8.924914  195.315727   \n",
       "2   28.668204  20.113093  14.315282  33.956516  19.119983  195.479526   \n",
       "3   28.647075  18.090196  12.326404  20.628377   9.692754  195.222892   \n",
       "4   28.336682  22.331603  16.056443  50.435245  28.273058  196.526227   \n",
       "5   26.693995  20.365608  14.392753  48.919237  26.154328  190.419794   \n",
       "6   24.182084  19.897618  14.210275  66.181356  32.332016  188.583438   \n",
       "7   24.753833  20.574505  14.488847  71.927340  34.637324  188.670951   \n",
       "8   26.434410  21.109626  16.415626  56.396922  32.885391  189.828376   \n",
       "9   24.399284  19.500602  13.340003  61.643714  28.630826  188.700606   \n",
       "10  26.418330  20.474098  14.929373  50.053701  26.972604  188.948101   \n",
       "11  28.292224  23.163249  18.607442  52.247561  33.727738  192.738293   \n",
       "12  26.607226  22.131232  17.298735  68.487219  40.732713  192.079890   \n",
       "13  25.978804  21.007124  15.371374  63.645910  34.395695  191.027433   \n",
       "14  27.846027  23.865799  21.326302  59.747416  47.673504  194.800388   \n",
       "15  26.618538  21.544949  17.098901  55.453789  35.668268  189.530465   \n",
       "16  27.745233  23.756297  19.135417  67.301824  42.574495  194.736796   \n",
       "17  25.859335  19.407503  13.804269  42.206897  24.870510  188.717157   \n",
       "18  27.271588  23.668761  19.288911  72.911611  47.145421  195.876063   \n",
       "19  26.798008  22.322800  18.351797  57.665801  39.857432  192.491462   \n",
       "20  29.618139  27.902665  28.186084  63.421753  64.603757  201.816956   \n",
       "21  28.894316  26.348814  25.466746  60.619158  51.764412  197.680685   \n",
       "22  27.551059  23.657523  20.804899  61.738602  50.265106  194.423836   \n",
       "23  30.129009  28.197501  28.864022  61.289679  65.052440  200.759246   \n",
       "24  29.642542  27.549565  27.532930  59.769556  59.973653  201.111253   \n",
       "25  27.911620  24.437453  21.613942  70.673644  51.427716  195.926890   \n",
       "26  25.543631  20.765737  16.787797  60.934672  40.541160  190.507120   \n",
       "27  27.820736  22.752539  17.998343  48.222970  34.602211  195.562211   \n",
       "28  27.850982  22.862359  18.305766  53.743407  33.292797  191.063201   \n",
       "29  26.858496  21.842992  18.281441  52.001752  38.444887  190.906151   \n",
       "30  29.094652  24.190289  19.698221  55.264846  34.664264  192.057107   \n",
       "31  26.385754  21.532106  17.827812  53.434529  40.273753  192.628625   \n",
       "32  26.748999  21.650402  17.802222  52.167806  38.192817  192.366314   \n",
       "33  26.856425  22.037660  18.288093  56.426193  39.426451  191.194741   \n",
       "34  31.497899  26.801450  23.507628  49.549969  34.376713  192.854208   \n",
       "35  26.380884  21.282672  17.683036  52.217778  40.058335  192.404521   \n",
       "36  27.014266  22.538769  19.220318  58.494216  44.910304  193.166802   \n",
       "37  27.179483  22.961976  18.937999  64.764725  45.811420  194.783845   \n",
       "38  26.490764  21.640737  17.937905  54.068605  40.660630  193.266742   \n",
       "39  26.911211  22.107666  17.801061  46.712107  33.288424  193.046569   \n",
       "40  31.961216  31.112636  32.895182  61.526663  66.163121  202.104357   \n",
       "41  28.755042  26.293467  26.014495  60.563649  59.492218  198.771381   \n",
       "42  27.034921  22.568674  19.379135  55.878864  43.645793  193.836232   \n",
       "43  27.353399  25.766709  25.818268  54.099242  47.737364  200.077433   \n",
       "44  34.152682  36.474039  42.997107  62.234072  73.637599  204.939847   \n",
       "45  36.779796  39.289260  44.619088  64.595458  68.689559  205.417553   \n",
       "46  29.889661  29.937843  32.321869  56.410052  61.475820  200.382842   \n",
       "47  33.438453  34.641127  37.607443  58.743196  68.849089  204.333905   \n",
       "48  37.783801  39.590258  44.687383  59.322228  66.619737  210.191772   \n",
       "49  30.120042  28.767456  29.263860  53.507322  57.769215  201.929898   \n",
       "50  35.121600  37.598372  45.309619  63.590099  70.595708  208.805378   \n",
       "51  31.982405  31.220229  32.841479  57.578662  53.325205  204.279854   \n",
       "52  27.051865  24.406807  23.860677  51.316701  43.380485  200.020205   \n",
       "53  27.469868  23.916901  21.771626  53.913108  37.117188  195.513904   \n",
       "54  26.245346  19.456760  14.991562  33.307071  22.011358  196.853565   \n",
       "55  58.458144  50.260662  45.295325  69.323721  23.088024  177.653050   \n",
       "\n",
       "           B7  STATENS  GEOID        AWATER  ...  STATEFP FUNCSTAT   INTPTLAT  \\\n",
       "0    9.025148  1802710     78    1550236201  ...       78        A  18.326748   \n",
       "1    5.052182  1779809     69    4644252461  ...       69        A  14.936784   \n",
       "2    9.265647  1802705     66     934337453  ...       66        A  13.438289   \n",
       "3    5.489101  1802701     60    1307243754  ...       60        A -14.267159   \n",
       "4   12.979382  1779808     72    4922382562  ...       72        A  18.217648   \n",
       "5   11.823346  1219835     44    1323670487  ...       44        A  41.597419   \n",
       "6   13.340159  1779794     33    1026675248  ...       33        A  43.672691   \n",
       "7   14.045808  1779802     50    1030416650  ...       50        A  44.068577   \n",
       "8   14.392366  1779780      9    1815617571  ...        9        A  41.579864   \n",
       "9   11.798984  1779787     23   11746549764  ...       23        A  45.409284   \n",
       "10  12.135537   606926     25    7129925486  ...       25        A  42.156520   \n",
       "11  16.538366  1779795     34    3544860246  ...       34        A  40.107274   \n",
       "12  17.961563  1779798     42    3394589990  ...       42        A  40.902496   \n",
       "13  14.751453  1779796     36   19246994695  ...       36        A  42.913397   \n",
       "14  25.237422  1779784     17    6214824948  ...       17        A  40.102875   \n",
       "15  16.589857  1779806     55   29344951758  ...       55        A  44.630907   \n",
       "16  20.283192  1085497     39   10268850702  ...       39        A  40.414930   \n",
       "17  11.619823  1779789     26  103885855702  ...       26        A  44.844177   \n",
       "18  22.695020   448508     18    1538002829  ...       18        A  39.901314   \n",
       "19  19.805776   662849     27   18945217189  ...       27        A  46.315957   \n",
       "20  38.226742  1779792     31    1371829134  ...       31        A  41.543305   \n",
       "21  28.956137  1779797     38    4403267548  ...       38        A  47.442174   \n",
       "22  25.539642  1779791     29    2489425460  ...       29        A  38.350750   \n",
       "23  39.815137   481813     20    1344141205  ...       20        A  38.498546   \n",
       "24  34.425377  1785534     46    3382720225  ...       46        A  44.446796   \n",
       "25  26.010468  1779785     19    1084180812  ...       19        A  42.070024   \n",
       "26  18.040511  1779805     54     489028543  ...       54        A  38.647285   \n",
       "27  17.568043   294478     12   31361101223  ...       12        A  28.457430   \n",
       "28  15.767802  1714934     24    6979966958  ...       24        A  38.946658   \n",
       "29  19.485086  1027616     37   13466071395  ...       37        A  35.539710   \n",
       "30  16.893077  1779781     10    1399985648  ...       10        A  38.998566   \n",
       "31  20.197848  1705317     13    4422936154  ...       13        A  32.629579   \n",
       "32  19.080133  1779799     45    5075218778  ...       45        A  33.874178   \n",
       "33  18.742382  1779803     51    8528531774  ...       51        A  37.522251   \n",
       "34  20.606912  1702382     11      18687198  ...       11        A  38.904103   \n",
       "35  19.461855  1779775      1    4593327154  ...        1        A  32.739632   \n",
       "36  21.995257  1325873     47    2350123465  ...       47        A  35.860803   \n",
       "37  21.598618  1779786     21    2375337755  ...       21        A  37.533684   \n",
       "38  19.578046  1779790     28    3926919758  ...       28        A  32.686471   \n",
       "39  15.948110  1629543     22   23753621895  ...       22        A  30.863437   \n",
       "40  43.192299  1779801     48   19006305260  ...       48        A  31.434703   \n",
       "41  34.223969  1102857     40    3374587997  ...       40        A  35.590051   \n",
       "42  21.478362    68085      5    2962859592  ...        5        A  34.895526   \n",
       "43  31.067808  1779783     16    2391722557  ...       16        A  44.348422   \n",
       "44  56.819551   897535     35     728776523  ...       35        A  34.434684   \n",
       "45  52.658223  1455989     49    6998824394  ...       49        A  39.334992   \n",
       "46  42.678696  1779779      8    1181621593  ...        8        A  38.993848   \n",
       "47  49.934905  1779807     56    1867670745  ...       56        A  42.989659   \n",
       "48  51.928985  1779793     32    2047206072  ...       32        A  39.331093   \n",
       "49  37.984008   767982     30    3869208832  ...       30        A  47.051177   \n",
       "50  55.233181  1779777      4    1027337603  ...        4        A  34.203936   \n",
       "51  36.724518  1779778      6   20463871877  ...        6        A  37.155177   \n",
       "52  28.270800  1155107     41    6192386935  ...       41        A  43.971713   \n",
       "53  21.836538  1779804     53   12559278850  ...       53        A  47.407324   \n",
       "54  12.323241  1779782     15   11777809026  ...       15        A  19.597764   \n",
       "55  12.604952  1785533      2  245481577452  ...        2        A  63.347356   \n",
       "\n",
       "   DIVISION  REGION                                          NAME    INTPTLON  \\\n",
       "0         0       9                  United States Virgin Islands  -64.971251   \n",
       "1         0       9  Commonwealth of the Northern Mariana Islands  145.601021   \n",
       "2         0       9                                          Guam  144.772949   \n",
       "3         0       9                                American Samoa -170.668267   \n",
       "4         0       9                                   Puerto Rico  -66.410799   \n",
       "5         1       1                                  Rhode Island  -71.527272   \n",
       "6         1       1                                 New Hampshire  -71.584315   \n",
       "7         1       1                                       Vermont  -72.669184   \n",
       "8         1       1                                   Connecticut  -72.746657   \n",
       "9         1       1                                         Maine  -68.666616   \n",
       "10        1       1                                 Massachusetts  -71.489592   \n",
       "11        2       1                                    New Jersey  -74.665201   \n",
       "12        2       1                                  Pennsylvania  -77.833451   \n",
       "13        2       1                                      New York  -75.596272   \n",
       "14        3       2                                      Illinois  -89.152611   \n",
       "15        3       2                                     Wisconsin  -89.709392   \n",
       "16        3       2                                          Ohio  -82.711997   \n",
       "17        3       2                                      Michigan  -85.660491   \n",
       "18        3       2                                       Indiana  -86.291913   \n",
       "19        4       2                                     Minnesota  -94.199604   \n",
       "20        4       2                                      Nebraska  -99.811865   \n",
       "21        4       2                                  North Dakota -100.460826   \n",
       "22        4       2                                      Missouri  -92.456783   \n",
       "23        4       2                                        Kansas  -98.383430   \n",
       "24        4       2                                  South Dakota -100.238176   \n",
       "25        4       2                                          Iowa  -93.493347   \n",
       "26        5       3                                 West Virginia  -80.618327   \n",
       "27        5       3                                       Florida  -82.409148   \n",
       "28        5       3                                      Maryland  -76.674494   \n",
       "29        5       3                                North Carolina  -79.130864   \n",
       "30        5       3                                      Delaware  -75.441644   \n",
       "31        5       3                                       Georgia  -83.423511   \n",
       "32        5       3                                South Carolina  -80.854264   \n",
       "33        5       3                                      Virginia  -78.668194   \n",
       "34        5       3                          District of Columbia  -77.017229   \n",
       "35        6       3                                       Alabama  -86.843459   \n",
       "36        6       3                                     Tennessee  -86.349990   \n",
       "37        6       3                                      Kentucky  -85.292980   \n",
       "38        6       3                                   Mississippi  -89.656138   \n",
       "39        7       3                                     Louisiana  -91.798717   \n",
       "40        7       3                                         Texas  -99.281824   \n",
       "41        7       3                                      Oklahoma  -97.486815   \n",
       "42        7       3                                      Arkansas  -92.444626   \n",
       "43        8       4                                         Idaho -114.558854   \n",
       "44        8       4                                    New Mexico -106.131618   \n",
       "45        8       4                                          Utah -111.656333   \n",
       "46        8       4                                      Colorado -105.508317   \n",
       "47        8       4                                       Wyoming -107.544392   \n",
       "48        8       4                                        Nevada -116.615147   \n",
       "49        8       4                                       Montana -109.634817   \n",
       "50        8       4                                       Arizona -111.606357   \n",
       "51        9       4                                    California -119.543418   \n",
       "52        9       4                                        Oregon -120.622958   \n",
       "53        9       4                                    Washington -120.575800   \n",
       "54        9       4                                        Hawaii -155.502443   \n",
       "55        9       4                                        Alaska -152.839733   \n",
       "\n",
       "    MTFCC          ALAND          system:index  \n",
       "0   G4000      348021896  00000000000000000022  \n",
       "1   G4000      472292529  00000000000000000023  \n",
       "2   G4000      543555840  00000000000000000024  \n",
       "3   G4000      197759063  00000000000000000029  \n",
       "4   G4000     8868896030  00000000000000000031  \n",
       "5   G4000     2677779902  00000000000000000005  \n",
       "6   G4000    23189413166  00000000000000000007  \n",
       "7   G4000    23874175944  00000000000000000009  \n",
       "8   G4000    12542497068  0000000000000000000a  \n",
       "9   G4000    79887426037  00000000000000000025  \n",
       "10  G4000    20205125364  00000000000000000033  \n",
       "11  G4000    19047825980  0000000000000000000e  \n",
       "12  G4000   115884442321  00000000000000000012  \n",
       "13  G4000   122049149763  00000000000000000026  \n",
       "14  G4000   143780567633  00000000000000000002  \n",
       "15  G4000   140290039723  0000000000000000000f  \n",
       "16  G4000   105828882568  00000000000000000018  \n",
       "17  G4000   146600952990  0000000000000000002a  \n",
       "18  G4000    92789302676  00000000000000000030  \n",
       "19  G4000   206228939448  00000000000000000003  \n",
       "20  G4000   198956658395  00000000000000000011  \n",
       "21  G4000   178707534813  00000000000000000020  \n",
       "22  G4000   178050802184  0000000000000000002d  \n",
       "23  G4000   211755344060  0000000000000000002f  \n",
       "24  G4000   196346981786  00000000000000000032  \n",
       "25  G4000   144661267977  00000000000000000036  \n",
       "26  G4000    62266474513  00000000000000000000  \n",
       "27  G4000   138949136250  00000000000000000001  \n",
       "28  G4000    25151100280  00000000000000000004  \n",
       "29  G4000   125923656064  00000000000000000008  \n",
       "30  G4000     5045925646  0000000000000000000b  \n",
       "31  G4000   149482048342  00000000000000000015  \n",
       "32  G4000    77864918488  0000000000000000001b  \n",
       "33  G4000   102257717110  00000000000000000034  \n",
       "34  G4000      158340391  00000000000000000035  \n",
       "35  G4000   131174048583  00000000000000000016  \n",
       "36  G4000   106802728188  0000000000000000001d  \n",
       "37  G4000   102279490672  00000000000000000021  \n",
       "38  G4000   121533519481  0000000000000000002c  \n",
       "39  G4000   111897594374  00000000000000000014  \n",
       "40  G4000   676653171537  00000000000000000019  \n",
       "41  G4000   177662925723  0000000000000000001c  \n",
       "42  G4000   134768872727  0000000000000000002b  \n",
       "43  G4000   214049787659  00000000000000000006  \n",
       "44  G4000   314196306401  0000000000000000000c  \n",
       "45  G4000   212886221680  00000000000000000017  \n",
       "46  G4000   268422891711  0000000000000000001a  \n",
       "47  G4000   251458544898  0000000000000000001e  \n",
       "48  G4000   284329506470  00000000000000000027  \n",
       "49  G4000   376962738765  0000000000000000002e  \n",
       "50  G4000   294198551143  00000000000000000037  \n",
       "51  G4000   403503931312  0000000000000000000d  \n",
       "52  G4000   248606993270  00000000000000000010  \n",
       "53  G4000   172112588220  00000000000000000013  \n",
       "54  G4000    16633990195  0000000000000000001f  \n",
       "55  G4000  1478839695958  00000000000000000028  \n",
       "\n",
       "[56 rows x 22 columns]"
      ]
     },
     "execution_count": 78,
     "metadata": {},
     "output_type": "execute_result"
    }
   ],
   "source": [
    "geemap.csv_to_df(out_landsat_stats)"
   ]
  },
  {
   "cell_type": "markdown",
   "metadata": {},
   "source": [
    "#### Zonal statistics by group\n",
    "\n",
    "Compute zonal statistics by group. In this case, we compute the area of each land cover type in each state and export the results to a CSV file."
   ]
  },
  {
   "cell_type": "code",
   "execution_count": 79,
   "metadata": {},
   "outputs": [
    {
     "data": {
      "text/html": [
       "\n",
       "            <style>\n",
       "                .geemap-dark {\n",
       "                    --jp-widgets-color: white;\n",
       "                    --jp-widgets-label-color: white;\n",
       "                    --jp-ui-font-color1: white;\n",
       "                    --jp-layout-color2: #454545;\n",
       "                    background-color: #383838;\n",
       "                }\n",
       "                    \n",
       "                .geemap-dark .jupyter-button {\n",
       "                    --jp-layout-color3: #383838;\n",
       "                }\n",
       "                \n",
       "                .geemap-colab {\n",
       "                    background-color: var(--colab-primary-surface-color, white);\n",
       "                }\n",
       "                    \n",
       "                .geemap-colab .jupyter-button {\n",
       "                    --jp-layout-color3: var(--colab-primary-surface-color, white);\n",
       "                }\n",
       "            </style>\n",
       "            "
      ],
      "text/plain": [
       "<IPython.core.display.HTML object>"
      ]
     },
     "metadata": {},
     "output_type": "display_data"
    },
    {
     "data": {
      "application/vnd.jupyter.widget-view+json": {
       "model_id": "44c5fa43564048f08c25e8330b4da805",
       "version_major": 2,
       "version_minor": 0
      },
      "text/plain": [
       "Map(center=[40, -100], controls=(WidgetControl(options=['position', 'transparent_bg'], widget=SearchDataGUI(ch…"
      ]
     },
     "execution_count": 79,
     "metadata": {},
     "output_type": "execute_result"
    }
   ],
   "source": [
    "m = geemap.Map(center=[40, -100], zoom=4)\n",
    "\n",
    "# Add NLCD data\n",
    "dataset = ee.Image('USGS/NLCD_RELEASES/2021_REL/NLCD/2021')\n",
    "landcover = dataset.select('landcover')\n",
    "m.add_layer(landcover, {}, 'NLCD 2021')\n",
    "\n",
    "# Add US census states\n",
    "states = ee.FeatureCollection(\"TIGER/2018/States\")\n",
    "style = {'fillColor': '00000000'}\n",
    "m.add_layer(states.style(**style), {}, 'US States')\n",
    "\n",
    "# Add NLCD legend\n",
    "m.add_legend(title='NLCD Land Cover', builtin_legend='NLCD')\n",
    "m"
   ]
  },
  {
   "cell_type": "markdown",
   "metadata": {},
   "source": [
    "Compute zonal statistics by group and convert the area unit from square meters to square kilometers."
   ]
  },
  {
   "cell_type": "code",
   "execution_count": 80,
   "metadata": {},
   "outputs": [
    {
     "data": {
      "text/html": [
       "\n",
       "            <style>\n",
       "                .geemap-dark {\n",
       "                    --jp-widgets-color: white;\n",
       "                    --jp-widgets-label-color: white;\n",
       "                    --jp-ui-font-color1: white;\n",
       "                    --jp-layout-color2: #454545;\n",
       "                    background-color: #383838;\n",
       "                }\n",
       "                    \n",
       "                .geemap-dark .jupyter-button {\n",
       "                    --jp-layout-color3: #383838;\n",
       "                }\n",
       "                \n",
       "                .geemap-colab {\n",
       "                    background-color: var(--colab-primary-surface-color, white);\n",
       "                }\n",
       "                    \n",
       "                .geemap-colab .jupyter-button {\n",
       "                    --jp-layout-color3: var(--colab-primary-surface-color, white);\n",
       "                }\n",
       "            </style>\n",
       "            "
      ],
      "text/plain": [
       "<IPython.core.display.HTML object>"
      ]
     },
     "metadata": {},
     "output_type": "display_data"
    },
    {
     "name": "stdout",
     "output_type": "stream",
     "text": [
      "Computing ... \n",
      "Generating URL ...\n",
      "Downloading data from https://earthengine.googleapis.com/v1/projects/earthengine-legacy/tables/235cc5c81163f82c69d09c0cb017c3c2-a0bf4785ca5c6e2f1d5ee609eaa54fdd:getFeatures\n",
      "Please wait ...\n",
      "Data downloaded to /Users/ilyonsg/Documents/gee/gee-python-workshop/nlcd_stats.csv\n"
     ]
    }
   ],
   "source": [
    "nlcd_stats = 'exports/nlcd_stats.csv'\n",
    "\n",
    "geemap.zonal_stats_by_group(\n",
    "    landcover,\n",
    "    states,\n",
    "    nlcd_stats,\n",
    "    statistics_type='SUM',\n",
    "    denominator=1e6,\n",
    "    decimal_places=2,\n",
    ")"
   ]
  },
  {
   "cell_type": "code",
   "execution_count": 81,
   "metadata": {},
   "outputs": [
    {
     "data": {
      "text/html": [
       "\n",
       "            <style>\n",
       "                .geemap-dark {\n",
       "                    --jp-widgets-color: white;\n",
       "                    --jp-widgets-label-color: white;\n",
       "                    --jp-ui-font-color1: white;\n",
       "                    --jp-layout-color2: #454545;\n",
       "                    background-color: #383838;\n",
       "                }\n",
       "                    \n",
       "                .geemap-dark .jupyter-button {\n",
       "                    --jp-layout-color3: #383838;\n",
       "                }\n",
       "                \n",
       "                .geemap-colab {\n",
       "                    background-color: var(--colab-primary-surface-color, white);\n",
       "                }\n",
       "                    \n",
       "                .geemap-colab .jupyter-button {\n",
       "                    --jp-layout-color3: var(--colab-primary-surface-color, white);\n",
       "                }\n",
       "            </style>\n",
       "            "
      ],
      "text/plain": [
       "<IPython.core.display.HTML object>"
      ]
     },
     "metadata": {},
     "output_type": "display_data"
    },
    {
     "data": {
      "text/html": [
       "<div>\n",
       "<style scoped>\n",
       "    .dataframe tbody tr th:only-of-type {\n",
       "        vertical-align: middle;\n",
       "    }\n",
       "\n",
       "    .dataframe tbody tr th {\n",
       "        vertical-align: top;\n",
       "    }\n",
       "\n",
       "    .dataframe thead th {\n",
       "        text-align: right;\n",
       "    }\n",
       "</style>\n",
       "<table border=\"1\" class=\"dataframe\">\n",
       "  <thead>\n",
       "    <tr style=\"text-align: right;\">\n",
       "      <th></th>\n",
       "      <th>Class_81</th>\n",
       "      <th>Class_71</th>\n",
       "      <th>Class_82</th>\n",
       "      <th>Class_95</th>\n",
       "      <th>Class_41</th>\n",
       "      <th>Class_52</th>\n",
       "      <th>Class_31</th>\n",
       "      <th>Class_42</th>\n",
       "      <th>Class_21</th>\n",
       "      <th>Class_43</th>\n",
       "      <th>...</th>\n",
       "      <th>STATEFP</th>\n",
       "      <th>FUNCSTAT</th>\n",
       "      <th>INTPTLAT</th>\n",
       "      <th>DIVISION</th>\n",
       "      <th>REGION</th>\n",
       "      <th>NAME</th>\n",
       "      <th>INTPTLON</th>\n",
       "      <th>MTFCC</th>\n",
       "      <th>ALAND</th>\n",
       "      <th>system:index</th>\n",
       "    </tr>\n",
       "  </thead>\n",
       "  <tbody>\n",
       "    <tr>\n",
       "      <th>0</th>\n",
       "      <td>0.00</td>\n",
       "      <td>0.00</td>\n",
       "      <td>0.00</td>\n",
       "      <td>0.00</td>\n",
       "      <td>0.00</td>\n",
       "      <td>0.00</td>\n",
       "      <td>0.00</td>\n",
       "      <td>0.00</td>\n",
       "      <td>0.00</td>\n",
       "      <td>0.00</td>\n",
       "      <td>...</td>\n",
       "      <td>78</td>\n",
       "      <td>A</td>\n",
       "      <td>18.326748</td>\n",
       "      <td>0</td>\n",
       "      <td>9</td>\n",
       "      <td>United States Virgin Islands</td>\n",
       "      <td>-64.971251</td>\n",
       "      <td>G4000</td>\n",
       "      <td>348021896</td>\n",
       "      <td>00000000000000000022</td>\n",
       "    </tr>\n",
       "    <tr>\n",
       "      <th>1</th>\n",
       "      <td>0.00</td>\n",
       "      <td>0.00</td>\n",
       "      <td>0.00</td>\n",
       "      <td>0.00</td>\n",
       "      <td>0.00</td>\n",
       "      <td>0.00</td>\n",
       "      <td>0.00</td>\n",
       "      <td>0.00</td>\n",
       "      <td>0.00</td>\n",
       "      <td>0.00</td>\n",
       "      <td>...</td>\n",
       "      <td>69</td>\n",
       "      <td>A</td>\n",
       "      <td>14.936784</td>\n",
       "      <td>0</td>\n",
       "      <td>9</td>\n",
       "      <td>Commonwealth of the Northern Mariana Islands</td>\n",
       "      <td>145.601021</td>\n",
       "      <td>G4000</td>\n",
       "      <td>472292529</td>\n",
       "      <td>00000000000000000023</td>\n",
       "    </tr>\n",
       "    <tr>\n",
       "      <th>2</th>\n",
       "      <td>0.00</td>\n",
       "      <td>0.00</td>\n",
       "      <td>0.00</td>\n",
       "      <td>0.00</td>\n",
       "      <td>0.00</td>\n",
       "      <td>0.00</td>\n",
       "      <td>0.00</td>\n",
       "      <td>0.00</td>\n",
       "      <td>0.00</td>\n",
       "      <td>0.00</td>\n",
       "      <td>...</td>\n",
       "      <td>66</td>\n",
       "      <td>A</td>\n",
       "      <td>13.438289</td>\n",
       "      <td>0</td>\n",
       "      <td>9</td>\n",
       "      <td>Guam</td>\n",
       "      <td>144.772949</td>\n",
       "      <td>G4000</td>\n",
       "      <td>543555840</td>\n",
       "      <td>00000000000000000024</td>\n",
       "    </tr>\n",
       "    <tr>\n",
       "      <th>3</th>\n",
       "      <td>0.00</td>\n",
       "      <td>0.00</td>\n",
       "      <td>0.00</td>\n",
       "      <td>0.00</td>\n",
       "      <td>0.00</td>\n",
       "      <td>0.00</td>\n",
       "      <td>0.00</td>\n",
       "      <td>0.00</td>\n",
       "      <td>0.00</td>\n",
       "      <td>0.00</td>\n",
       "      <td>...</td>\n",
       "      <td>60</td>\n",
       "      <td>A</td>\n",
       "      <td>-14.267159</td>\n",
       "      <td>0</td>\n",
       "      <td>9</td>\n",
       "      <td>American Samoa</td>\n",
       "      <td>-170.668267</td>\n",
       "      <td>G4000</td>\n",
       "      <td>197759063</td>\n",
       "      <td>00000000000000000029</td>\n",
       "    </tr>\n",
       "    <tr>\n",
       "      <th>4</th>\n",
       "      <td>0.00</td>\n",
       "      <td>0.00</td>\n",
       "      <td>0.00</td>\n",
       "      <td>0.00</td>\n",
       "      <td>0.00</td>\n",
       "      <td>0.00</td>\n",
       "      <td>0.00</td>\n",
       "      <td>0.00</td>\n",
       "      <td>0.00</td>\n",
       "      <td>0.00</td>\n",
       "      <td>...</td>\n",
       "      <td>72</td>\n",
       "      <td>A</td>\n",
       "      <td>18.217648</td>\n",
       "      <td>0</td>\n",
       "      <td>9</td>\n",
       "      <td>Puerto Rico</td>\n",
       "      <td>-66.410799</td>\n",
       "      <td>G4000</td>\n",
       "      <td>8868896030</td>\n",
       "      <td>00000000000000000031</td>\n",
       "    </tr>\n",
       "    <tr>\n",
       "      <th>5</th>\n",
       "      <td>81.09</td>\n",
       "      <td>50.85</td>\n",
       "      <td>17.48</td>\n",
       "      <td>31.64</td>\n",
       "      <td>858.79</td>\n",
       "      <td>29.34</td>\n",
       "      <td>27.94</td>\n",
       "      <td>101.95</td>\n",
       "      <td>104.92</td>\n",
       "      <td>401.81</td>\n",
       "      <td>...</td>\n",
       "      <td>44</td>\n",
       "      <td>A</td>\n",
       "      <td>41.597419</td>\n",
       "      <td>1</td>\n",
       "      <td>1</td>\n",
       "      <td>Rhode Island</td>\n",
       "      <td>-71.527272</td>\n",
       "      <td>G4000</td>\n",
       "      <td>2677779902</td>\n",
       "      <td>00000000000000000005</td>\n",
       "    </tr>\n",
       "    <tr>\n",
       "      <th>6</th>\n",
       "      <td>719.46</td>\n",
       "      <td>121.58</td>\n",
       "      <td>70.56</td>\n",
       "      <td>103.72</td>\n",
       "      <td>5293.13</td>\n",
       "      <td>177.91</td>\n",
       "      <td>75.16</td>\n",
       "      <td>4370.31</td>\n",
       "      <td>524.16</td>\n",
       "      <td>9100.65</td>\n",
       "      <td>...</td>\n",
       "      <td>33</td>\n",
       "      <td>A</td>\n",
       "      <td>43.672691</td>\n",
       "      <td>1</td>\n",
       "      <td>1</td>\n",
       "      <td>New Hampshire</td>\n",
       "      <td>-71.584315</td>\n",
       "      <td>G4000</td>\n",
       "      <td>23189413166</td>\n",
       "      <td>00000000000000000007</td>\n",
       "    </tr>\n",
       "    <tr>\n",
       "      <th>7</th>\n",
       "      <td>3141.23</td>\n",
       "      <td>45.86</td>\n",
       "      <td>434.74</td>\n",
       "      <td>114.32</td>\n",
       "      <td>9588.68</td>\n",
       "      <td>74.28</td>\n",
       "      <td>33.12</td>\n",
       "      <td>3129.44</td>\n",
       "      <td>387.45</td>\n",
       "      <td>5400.50</td>\n",
       "      <td>...</td>\n",
       "      <td>50</td>\n",
       "      <td>A</td>\n",
       "      <td>44.068577</td>\n",
       "      <td>1</td>\n",
       "      <td>1</td>\n",
       "      <td>Vermont</td>\n",
       "      <td>-72.669184</td>\n",
       "      <td>G4000</td>\n",
       "      <td>23874175944</td>\n",
       "      <td>00000000000000000009</td>\n",
       "    </tr>\n",
       "    <tr>\n",
       "      <th>8</th>\n",
       "      <td>462.99</td>\n",
       "      <td>50.07</td>\n",
       "      <td>214.63</td>\n",
       "      <td>87.39</td>\n",
       "      <td>6389.13</td>\n",
       "      <td>26.34</td>\n",
       "      <td>32.80</td>\n",
       "      <td>140.29</td>\n",
       "      <td>941.22</td>\n",
       "      <td>1329.85</td>\n",
       "      <td>...</td>\n",
       "      <td>9</td>\n",
       "      <td>A</td>\n",
       "      <td>41.579864</td>\n",
       "      <td>1</td>\n",
       "      <td>1</td>\n",
       "      <td>Connecticut</td>\n",
       "      <td>-72.746657</td>\n",
       "      <td>G4000</td>\n",
       "      <td>12542497068</td>\n",
       "      <td>0000000000000000000a</td>\n",
       "    </tr>\n",
       "    <tr>\n",
       "      <th>9</th>\n",
       "      <td>2241.05</td>\n",
       "      <td>1539.73</td>\n",
       "      <td>1062.59</td>\n",
       "      <td>783.29</td>\n",
       "      <td>12944.45</td>\n",
       "      <td>887.96</td>\n",
       "      <td>116.32</td>\n",
       "      <td>17930.21</td>\n",
       "      <td>869.64</td>\n",
       "      <td>29878.28</td>\n",
       "      <td>...</td>\n",
       "      <td>23</td>\n",
       "      <td>A</td>\n",
       "      <td>45.409284</td>\n",
       "      <td>1</td>\n",
       "      <td>1</td>\n",
       "      <td>Maine</td>\n",
       "      <td>-68.666616</td>\n",
       "      <td>G4000</td>\n",
       "      <td>79887426037</td>\n",
       "      <td>00000000000000000025</td>\n",
       "    </tr>\n",
       "    <tr>\n",
       "      <th>10</th>\n",
       "      <td>736.80</td>\n",
       "      <td>179.49</td>\n",
       "      <td>267.33</td>\n",
       "      <td>347.10</td>\n",
       "      <td>4606.55</td>\n",
       "      <td>89.26</td>\n",
       "      <td>158.60</td>\n",
       "      <td>1753.07</td>\n",
       "      <td>947.93</td>\n",
       "      <td>4686.42</td>\n",
       "      <td>...</td>\n",
       "      <td>25</td>\n",
       "      <td>A</td>\n",
       "      <td>42.156520</td>\n",
       "      <td>1</td>\n",
       "      <td>1</td>\n",
       "      <td>Massachusetts</td>\n",
       "      <td>-71.489592</td>\n",
       "      <td>G4000</td>\n",
       "      <td>20205125364</td>\n",
       "      <td>00000000000000000033</td>\n",
       "    </tr>\n",
       "    <tr>\n",
       "      <th>11</th>\n",
       "      <td>863.03</td>\n",
       "      <td>97.41</td>\n",
       "      <td>1968.45</td>\n",
       "      <td>931.14</td>\n",
       "      <td>4117.11</td>\n",
       "      <td>66.26</td>\n",
       "      <td>101.05</td>\n",
       "      <td>765.51</td>\n",
       "      <td>1997.76</td>\n",
       "      <td>863.54</td>\n",
       "      <td>...</td>\n",
       "      <td>34</td>\n",
       "      <td>A</td>\n",
       "      <td>40.107274</td>\n",
       "      <td>2</td>\n",
       "      <td>1</td>\n",
       "      <td>New Jersey</td>\n",
       "      <td>-74.665201</td>\n",
       "      <td>G4000</td>\n",
       "      <td>19047825980</td>\n",
       "      <td>0000000000000000000e</td>\n",
       "    </tr>\n",
       "    <tr>\n",
       "      <th>12</th>\n",
       "      <td>16131.93</td>\n",
       "      <td>618.28</td>\n",
       "      <td>11791.80</td>\n",
       "      <td>160.96</td>\n",
       "      <td>59401.45</td>\n",
       "      <td>324.78</td>\n",
       "      <td>258.21</td>\n",
       "      <td>1338.69</td>\n",
       "      <td>5091.96</td>\n",
       "      <td>12832.17</td>\n",
       "      <td>...</td>\n",
       "      <td>42</td>\n",
       "      <td>A</td>\n",
       "      <td>40.902496</td>\n",
       "      <td>2</td>\n",
       "      <td>1</td>\n",
       "      <td>Pennsylvania</td>\n",
       "      <td>-77.833451</td>\n",
       "      <td>G4000</td>\n",
       "      <td>115884442321</td>\n",
       "      <td>00000000000000000012</td>\n",
       "    </tr>\n",
       "    <tr>\n",
       "      <th>13</th>\n",
       "      <td>17537.60</td>\n",
       "      <td>423.07</td>\n",
       "      <td>11223.89</td>\n",
       "      <td>654.34</td>\n",
       "      <td>49498.80</td>\n",
       "      <td>382.84</td>\n",
       "      <td>225.29</td>\n",
       "      <td>9815.32</td>\n",
       "      <td>3968.74</td>\n",
       "      <td>12276.05</td>\n",
       "      <td>...</td>\n",
       "      <td>36</td>\n",
       "      <td>A</td>\n",
       "      <td>42.913397</td>\n",
       "      <td>2</td>\n",
       "      <td>1</td>\n",
       "      <td>New York</td>\n",
       "      <td>-75.596272</td>\n",
       "      <td>G4000</td>\n",
       "      <td>122049149763</td>\n",
       "      <td>00000000000000000026</td>\n",
       "    </tr>\n",
       "    <tr>\n",
       "      <th>14</th>\n",
       "      <td>10163.59</td>\n",
       "      <td>382.28</td>\n",
       "      <td>97422.14</td>\n",
       "      <td>480.38</td>\n",
       "      <td>19448.67</td>\n",
       "      <td>55.96</td>\n",
       "      <td>170.43</td>\n",
       "      <td>138.07</td>\n",
       "      <td>2188.70</td>\n",
       "      <td>886.36</td>\n",
       "      <td>...</td>\n",
       "      <td>17</td>\n",
       "      <td>A</td>\n",
       "      <td>40.102875</td>\n",
       "      <td>3</td>\n",
       "      <td>2</td>\n",
       "      <td>Illinois</td>\n",
       "      <td>-89.152611</td>\n",
       "      <td>G4000</td>\n",
       "      <td>143780567633</td>\n",
       "      <td>00000000000000000002</td>\n",
       "    </tr>\n",
       "    <tr>\n",
       "      <th>15</th>\n",
       "      <td>11473.94</td>\n",
       "      <td>888.82</td>\n",
       "      <td>43742.15</td>\n",
       "      <td>4367.66</td>\n",
       "      <td>36755.13</td>\n",
       "      <td>414.40</td>\n",
       "      <td>181.15</td>\n",
       "      <td>2370.60</td>\n",
       "      <td>2514.74</td>\n",
       "      <td>8775.15</td>\n",
       "      <td>...</td>\n",
       "      <td>55</td>\n",
       "      <td>A</td>\n",
       "      <td>44.630907</td>\n",
       "      <td>3</td>\n",
       "      <td>2</td>\n",
       "      <td>Wisconsin</td>\n",
       "      <td>-89.709392</td>\n",
       "      <td>G4000</td>\n",
       "      <td>140290039723</td>\n",
       "      <td>0000000000000000000f</td>\n",
       "    </tr>\n",
       "    <tr>\n",
       "      <th>16</th>\n",
       "      <td>14619.66</td>\n",
       "      <td>345.14</td>\n",
       "      <td>42610.32</td>\n",
       "      <td>305.16</td>\n",
       "      <td>33486.95</td>\n",
       "      <td>205.30</td>\n",
       "      <td>203.55</td>\n",
       "      <td>341.56</td>\n",
       "      <td>3698.71</td>\n",
       "      <td>1301.80</td>\n",
       "      <td>...</td>\n",
       "      <td>39</td>\n",
       "      <td>A</td>\n",
       "      <td>40.414930</td>\n",
       "      <td>3</td>\n",
       "      <td>2</td>\n",
       "      <td>Ohio</td>\n",
       "      <td>-82.711997</td>\n",
       "      <td>G4000</td>\n",
       "      <td>105828882568</td>\n",
       "      <td>00000000000000000018</td>\n",
       "    </tr>\n",
       "    <tr>\n",
       "      <th>17</th>\n",
       "      <td>4297.57</td>\n",
       "      <td>3338.75</td>\n",
       "      <td>38065.16</td>\n",
       "      <td>1059.72</td>\n",
       "      <td>34069.14</td>\n",
       "      <td>1047.30</td>\n",
       "      <td>453.44</td>\n",
       "      <td>7368.15</td>\n",
       "      <td>4041.68</td>\n",
       "      <td>10116.02</td>\n",
       "      <td>...</td>\n",
       "      <td>26</td>\n",
       "      <td>A</td>\n",
       "      <td>44.844177</td>\n",
       "      <td>3</td>\n",
       "      <td>2</td>\n",
       "      <td>Michigan</td>\n",
       "      <td>-85.660491</td>\n",
       "      <td>G4000</td>\n",
       "      <td>146600952990</td>\n",
       "      <td>0000000000000000002a</td>\n",
       "    </tr>\n",
       "    <tr>\n",
       "      <th>18</th>\n",
       "      <td>6751.04</td>\n",
       "      <td>335.77</td>\n",
       "      <td>55141.65</td>\n",
       "      <td>161.15</td>\n",
       "      <td>20188.14</td>\n",
       "      <td>98.16</td>\n",
       "      <td>152.35</td>\n",
       "      <td>141.00</td>\n",
       "      <td>2189.64</td>\n",
       "      <td>855.15</td>\n",
       "      <td>...</td>\n",
       "      <td>18</td>\n",
       "      <td>A</td>\n",
       "      <td>39.901314</td>\n",
       "      <td>3</td>\n",
       "      <td>2</td>\n",
       "      <td>Indiana</td>\n",
       "      <td>-86.291913</td>\n",
       "      <td>G4000</td>\n",
       "      <td>92789302676</td>\n",
       "      <td>00000000000000000030</td>\n",
       "    </tr>\n",
       "    <tr>\n",
       "      <th>19</th>\n",
       "      <td>12844.18</td>\n",
       "      <td>1660.83</td>\n",
       "      <td>91060.33</td>\n",
       "      <td>16601.53</td>\n",
       "      <td>26423.12</td>\n",
       "      <td>947.52</td>\n",
       "      <td>360.25</td>\n",
       "      <td>4205.69</td>\n",
       "      <td>2941.21</td>\n",
       "      <td>9747.75</td>\n",
       "      <td>...</td>\n",
       "      <td>27</td>\n",
       "      <td>A</td>\n",
       "      <td>46.315957</td>\n",
       "      <td>4</td>\n",
       "      <td>2</td>\n",
       "      <td>Minnesota</td>\n",
       "      <td>-94.199604</td>\n",
       "      <td>G4000</td>\n",
       "      <td>206228939448</td>\n",
       "      <td>00000000000000000003</td>\n",
       "    </tr>\n",
       "    <tr>\n",
       "      <th>20</th>\n",
       "      <td>1609.25</td>\n",
       "      <td>105848.81</td>\n",
       "      <td>79915.86</td>\n",
       "      <td>3531.80</td>\n",
       "      <td>1898.07</td>\n",
       "      <td>264.89</td>\n",
       "      <td>103.33</td>\n",
       "      <td>731.21</td>\n",
       "      <td>1687.71</td>\n",
       "      <td>167.01</td>\n",
       "      <td>...</td>\n",
       "      <td>31</td>\n",
       "      <td>A</td>\n",
       "      <td>41.543305</td>\n",
       "      <td>4</td>\n",
       "      <td>2</td>\n",
       "      <td>Nebraska</td>\n",
       "      <td>-99.811865</td>\n",
       "      <td>G4000</td>\n",
       "      <td>198956658395</td>\n",
       "      <td>00000000000000000011</td>\n",
       "    </tr>\n",
       "    <tr>\n",
       "      <th>21</th>\n",
       "      <td>11063.68</td>\n",
       "      <td>42621.12</td>\n",
       "      <td>99802.46</td>\n",
       "      <td>5731.00</td>\n",
       "      <td>1901.35</td>\n",
       "      <td>11294.22</td>\n",
       "      <td>187.32</td>\n",
       "      <td>118.72</td>\n",
       "      <td>2460.36</td>\n",
       "      <td>63.32</td>\n",
       "      <td>...</td>\n",
       "      <td>38</td>\n",
       "      <td>A</td>\n",
       "      <td>47.442174</td>\n",
       "      <td>4</td>\n",
       "      <td>2</td>\n",
       "      <td>North Dakota</td>\n",
       "      <td>-100.460826</td>\n",
       "      <td>G4000</td>\n",
       "      <td>178707534813</td>\n",
       "      <td>00000000000000000020</td>\n",
       "    </tr>\n",
       "    <tr>\n",
       "      <th>22</th>\n",
       "      <td>57066.65</td>\n",
       "      <td>453.10</td>\n",
       "      <td>42036.66</td>\n",
       "      <td>575.46</td>\n",
       "      <td>63550.61</td>\n",
       "      <td>530.26</td>\n",
       "      <td>209.65</td>\n",
       "      <td>1299.88</td>\n",
       "      <td>2589.13</td>\n",
       "      <td>2235.22</td>\n",
       "      <td>...</td>\n",
       "      <td>29</td>\n",
       "      <td>A</td>\n",
       "      <td>38.350750</td>\n",
       "      <td>4</td>\n",
       "      <td>2</td>\n",
       "      <td>Missouri</td>\n",
       "      <td>-92.456783</td>\n",
       "      <td>G4000</td>\n",
       "      <td>178050802184</td>\n",
       "      <td>0000000000000000002d</td>\n",
       "    </tr>\n",
       "    <tr>\n",
       "      <th>23</th>\n",
       "      <td>18974.79</td>\n",
       "      <td>74907.25</td>\n",
       "      <td>100320.58</td>\n",
       "      <td>425.39</td>\n",
       "      <td>8018.80</td>\n",
       "      <td>1964.16</td>\n",
       "      <td>111.03</td>\n",
       "      <td>29.18</td>\n",
       "      <td>3267.25</td>\n",
       "      <td>293.57</td>\n",
       "      <td>...</td>\n",
       "      <td>20</td>\n",
       "      <td>A</td>\n",
       "      <td>38.498546</td>\n",
       "      <td>4</td>\n",
       "      <td>2</td>\n",
       "      <td>Kansas</td>\n",
       "      <td>-98.383430</td>\n",
       "      <td>G4000</td>\n",
       "      <td>211755344060</td>\n",
       "      <td>0000000000000000002f</td>\n",
       "    </tr>\n",
       "    <tr>\n",
       "      <th>24</th>\n",
       "      <td>15276.05</td>\n",
       "      <td>95198.20</td>\n",
       "      <td>67434.39</td>\n",
       "      <td>3576.14</td>\n",
       "      <td>632.50</td>\n",
       "      <td>3252.13</td>\n",
       "      <td>1350.28</td>\n",
       "      <td>5413.40</td>\n",
       "      <td>2153.57</td>\n",
       "      <td>123.86</td>\n",
       "      <td>...</td>\n",
       "      <td>46</td>\n",
       "      <td>A</td>\n",
       "      <td>44.446796</td>\n",
       "      <td>4</td>\n",
       "      <td>2</td>\n",
       "      <td>South Dakota</td>\n",
       "      <td>-100.238176</td>\n",
       "      <td>G4000</td>\n",
       "      <td>196346981786</td>\n",
       "      <td>00000000000000000032</td>\n",
       "    </tr>\n",
       "    <tr>\n",
       "      <th>25</th>\n",
       "      <td>17795.19</td>\n",
       "      <td>1898.16</td>\n",
       "      <td>107191.71</td>\n",
       "      <td>1046.40</td>\n",
       "      <td>9615.61</td>\n",
       "      <td>47.22</td>\n",
       "      <td>122.60</td>\n",
       "      <td>74.23</td>\n",
       "      <td>1456.08</td>\n",
       "      <td>496.66</td>\n",
       "      <td>...</td>\n",
       "      <td>19</td>\n",
       "      <td>A</td>\n",
       "      <td>42.070024</td>\n",
       "      <td>4</td>\n",
       "      <td>2</td>\n",
       "      <td>Iowa</td>\n",
       "      <td>-93.493347</td>\n",
       "      <td>G4000</td>\n",
       "      <td>144661267977</td>\n",
       "      <td>00000000000000000036</td>\n",
       "    </tr>\n",
       "    <tr>\n",
       "      <th>26</th>\n",
       "      <td>5422.93</td>\n",
       "      <td>643.14</td>\n",
       "      <td>306.93</td>\n",
       "      <td>70.91</td>\n",
       "      <td>48597.73</td>\n",
       "      <td>343.51</td>\n",
       "      <td>135.89</td>\n",
       "      <td>715.05</td>\n",
       "      <td>1007.39</td>\n",
       "      <td>3713.87</td>\n",
       "      <td>...</td>\n",
       "      <td>54</td>\n",
       "      <td>A</td>\n",
       "      <td>38.647285</td>\n",
       "      <td>5</td>\n",
       "      <td>3</td>\n",
       "      <td>West Virginia</td>\n",
       "      <td>-80.618327</td>\n",
       "      <td>G4000</td>\n",
       "      <td>62266474513</td>\n",
       "      <td>00000000000000000000</td>\n",
       "    </tr>\n",
       "    <tr>\n",
       "      <th>27</th>\n",
       "      <td>17670.41</td>\n",
       "      <td>3457.94</td>\n",
       "      <td>9823.32</td>\n",
       "      <td>14553.46</td>\n",
       "      <td>106.47</td>\n",
       "      <td>5136.89</td>\n",
       "      <td>636.76</td>\n",
       "      <td>28628.62</td>\n",
       "      <td>7911.87</td>\n",
       "      <td>575.46</td>\n",
       "      <td>...</td>\n",
       "      <td>12</td>\n",
       "      <td>A</td>\n",
       "      <td>28.457430</td>\n",
       "      <td>5</td>\n",
       "      <td>3</td>\n",
       "      <td>Florida</td>\n",
       "      <td>-82.409148</td>\n",
       "      <td>G4000</td>\n",
       "      <td>138949136250</td>\n",
       "      <td>00000000000000000001</td>\n",
       "    </tr>\n",
       "    <tr>\n",
       "      <th>28</th>\n",
       "      <td>2685.16</td>\n",
       "      <td>95.22</td>\n",
       "      <td>5699.70</td>\n",
       "      <td>805.08</td>\n",
       "      <td>6475.47</td>\n",
       "      <td>58.35</td>\n",
       "      <td>64.27</td>\n",
       "      <td>518.95</td>\n",
       "      <td>1815.26</td>\n",
       "      <td>1601.77</td>\n",
       "      <td>...</td>\n",
       "      <td>24</td>\n",
       "      <td>A</td>\n",
       "      <td>38.946658</td>\n",
       "      <td>5</td>\n",
       "      <td>3</td>\n",
       "      <td>Maryland</td>\n",
       "      <td>-76.674494</td>\n",
       "      <td>G4000</td>\n",
       "      <td>25151100280</td>\n",
       "      <td>00000000000000000004</td>\n",
       "    </tr>\n",
       "    <tr>\n",
       "      <th>29</th>\n",
       "      <td>10672.86</td>\n",
       "      <td>2557.12</td>\n",
       "      <td>19967.33</td>\n",
       "      <td>1599.98</td>\n",
       "      <td>26099.13</td>\n",
       "      <td>2831.12</td>\n",
       "      <td>290.77</td>\n",
       "      <td>18170.89</td>\n",
       "      <td>7101.49</td>\n",
       "      <td>11521.21</td>\n",
       "      <td>...</td>\n",
       "      <td>37</td>\n",
       "      <td>A</td>\n",
       "      <td>35.539710</td>\n",
       "      <td>5</td>\n",
       "      <td>3</td>\n",
       "      <td>North Carolina</td>\n",
       "      <td>-79.130864</td>\n",
       "      <td>G4000</td>\n",
       "      <td>125923656064</td>\n",
       "      <td>00000000000000000008</td>\n",
       "    </tr>\n",
       "    <tr>\n",
       "      <th>30</th>\n",
       "      <td>51.40</td>\n",
       "      <td>10.04</td>\n",
       "      <td>2207.92</td>\n",
       "      <td>332.84</td>\n",
       "      <td>206.20</td>\n",
       "      <td>8.30</td>\n",
       "      <td>14.78</td>\n",
       "      <td>157.16</td>\n",
       "      <td>331.05</td>\n",
       "      <td>156.16</td>\n",
       "      <td>...</td>\n",
       "      <td>10</td>\n",
       "      <td>A</td>\n",
       "      <td>38.998566</td>\n",
       "      <td>5</td>\n",
       "      <td>3</td>\n",
       "      <td>Delaware</td>\n",
       "      <td>-75.441644</td>\n",
       "      <td>G4000</td>\n",
       "      <td>5045925646</td>\n",
       "      <td>0000000000000000000b</td>\n",
       "    </tr>\n",
       "    <tr>\n",
       "      <th>31</th>\n",
       "      <td>11370.65</td>\n",
       "      <td>6005.25</td>\n",
       "      <td>20430.19</td>\n",
       "      <td>2254.35</td>\n",
       "      <td>20300.48</td>\n",
       "      <td>5533.99</td>\n",
       "      <td>301.02</td>\n",
       "      <td>38599.38</td>\n",
       "      <td>5872.87</td>\n",
       "      <td>7020.07</td>\n",
       "      <td>...</td>\n",
       "      <td>13</td>\n",
       "      <td>A</td>\n",
       "      <td>32.629579</td>\n",
       "      <td>5</td>\n",
       "      <td>3</td>\n",
       "      <td>Georgia</td>\n",
       "      <td>-83.423511</td>\n",
       "      <td>G4000</td>\n",
       "      <td>149482048342</td>\n",
       "      <td>00000000000000000015</td>\n",
       "    </tr>\n",
       "    <tr>\n",
       "      <th>32</th>\n",
       "      <td>5704.32</td>\n",
       "      <td>3147.34</td>\n",
       "      <td>8215.62</td>\n",
       "      <td>2499.48</td>\n",
       "      <td>6556.12</td>\n",
       "      <td>3019.86</td>\n",
       "      <td>158.55</td>\n",
       "      <td>21161.41</td>\n",
       "      <td>3298.81</td>\n",
       "      <td>3423.49</td>\n",
       "      <td>...</td>\n",
       "      <td>45</td>\n",
       "      <td>A</td>\n",
       "      <td>33.874178</td>\n",
       "      <td>5</td>\n",
       "      <td>3</td>\n",
       "      <td>South Carolina</td>\n",
       "      <td>-80.854264</td>\n",
       "      <td>G4000</td>\n",
       "      <td>77864918488</td>\n",
       "      <td>0000000000000000001b</td>\n",
       "    </tr>\n",
       "    <tr>\n",
       "      <th>33</th>\n",
       "      <td>16920.18</td>\n",
       "      <td>2953.31</td>\n",
       "      <td>6380.26</td>\n",
       "      <td>879.19</td>\n",
       "      <td>35032.36</td>\n",
       "      <td>2169.89</td>\n",
       "      <td>177.75</td>\n",
       "      <td>9457.25</td>\n",
       "      <td>3499.33</td>\n",
       "      <td>14992.88</td>\n",
       "      <td>...</td>\n",
       "      <td>51</td>\n",
       "      <td>A</td>\n",
       "      <td>37.522251</td>\n",
       "      <td>5</td>\n",
       "      <td>3</td>\n",
       "      <td>Virginia</td>\n",
       "      <td>-78.668194</td>\n",
       "      <td>G4000</td>\n",
       "      <td>102257717110</td>\n",
       "      <td>00000000000000000034</td>\n",
       "    </tr>\n",
       "    <tr>\n",
       "      <th>34</th>\n",
       "      <td>0.00</td>\n",
       "      <td>0.15</td>\n",
       "      <td>0.07</td>\n",
       "      <td>0.28</td>\n",
       "      <td>15.21</td>\n",
       "      <td>0.00</td>\n",
       "      <td>0.21</td>\n",
       "      <td>0.00</td>\n",
       "      <td>18.81</td>\n",
       "      <td>0.28</td>\n",
       "      <td>...</td>\n",
       "      <td>11</td>\n",
       "      <td>A</td>\n",
       "      <td>38.904103</td>\n",
       "      <td>5</td>\n",
       "      <td>3</td>\n",
       "      <td>District of Columbia</td>\n",
       "      <td>-77.017229</td>\n",
       "      <td>G4000</td>\n",
       "      <td>158340391</td>\n",
       "      <td>00000000000000000035</td>\n",
       "    </tr>\n",
       "    <tr>\n",
       "      <th>35</th>\n",
       "      <td>19380.11</td>\n",
       "      <td>4871.77</td>\n",
       "      <td>6486.05</td>\n",
       "      <td>545.61</td>\n",
       "      <td>24027.56</td>\n",
       "      <td>4897.36</td>\n",
       "      <td>315.51</td>\n",
       "      <td>35284.96</td>\n",
       "      <td>3845.76</td>\n",
       "      <td>12065.93</td>\n",
       "      <td>...</td>\n",
       "      <td>1</td>\n",
       "      <td>A</td>\n",
       "      <td>32.739632</td>\n",
       "      <td>6</td>\n",
       "      <td>3</td>\n",
       "      <td>Alabama</td>\n",
       "      <td>-86.843459</td>\n",
       "      <td>G4000</td>\n",
       "      <td>131174048583</td>\n",
       "      <td>00000000000000000016</td>\n",
       "    </tr>\n",
       "    <tr>\n",
       "      <th>36</th>\n",
       "      <td>24155.22</td>\n",
       "      <td>1073.25</td>\n",
       "      <td>12334.92</td>\n",
       "      <td>91.03</td>\n",
       "      <td>45347.96</td>\n",
       "      <td>737.64</td>\n",
       "      <td>130.62</td>\n",
       "      <td>3906.87</td>\n",
       "      <td>3633.84</td>\n",
       "      <td>7529.44</td>\n",
       "      <td>...</td>\n",
       "      <td>47</td>\n",
       "      <td>A</td>\n",
       "      <td>35.860803</td>\n",
       "      <td>6</td>\n",
       "      <td>3</td>\n",
       "      <td>Tennessee</td>\n",
       "      <td>-86.349990</td>\n",
       "      <td>G4000</td>\n",
       "      <td>106802728188</td>\n",
       "      <td>0000000000000000001d</td>\n",
       "    </tr>\n",
       "    <tr>\n",
       "      <th>37</th>\n",
       "      <td>25049.97</td>\n",
       "      <td>579.14</td>\n",
       "      <td>13722.16</td>\n",
       "      <td>149.69</td>\n",
       "      <td>49896.15</td>\n",
       "      <td>422.03</td>\n",
       "      <td>187.28</td>\n",
       "      <td>649.41</td>\n",
       "      <td>2264.69</td>\n",
       "      <td>6089.92</td>\n",
       "      <td>...</td>\n",
       "      <td>21</td>\n",
       "      <td>A</td>\n",
       "      <td>37.533684</td>\n",
       "      <td>6</td>\n",
       "      <td>3</td>\n",
       "      <td>Kentucky</td>\n",
       "      <td>-85.292980</td>\n",
       "      <td>G4000</td>\n",
       "      <td>102279490672</td>\n",
       "      <td>00000000000000000021</td>\n",
       "    </tr>\n",
       "    <tr>\n",
       "      <th>38</th>\n",
       "      <td>16304.86</td>\n",
       "      <td>2842.33</td>\n",
       "      <td>17665.96</td>\n",
       "      <td>945.99</td>\n",
       "      <td>11657.71</td>\n",
       "      <td>3751.10</td>\n",
       "      <td>202.75</td>\n",
       "      <td>27593.44</td>\n",
       "      <td>2452.34</td>\n",
       "      <td>14264.45</td>\n",
       "      <td>...</td>\n",
       "      <td>28</td>\n",
       "      <td>A</td>\n",
       "      <td>32.686471</td>\n",
       "      <td>6</td>\n",
       "      <td>3</td>\n",
       "      <td>Mississippi</td>\n",
       "      <td>-89.656138</td>\n",
       "      <td>G4000</td>\n",
       "      <td>121533519481</td>\n",
       "      <td>0000000000000000002c</td>\n",
       "    </tr>\n",
       "    <tr>\n",
       "      <th>39</th>\n",
       "      <td>8425.77</td>\n",
       "      <td>2398.66</td>\n",
       "      <td>20127.82</td>\n",
       "      <td>13092.48</td>\n",
       "      <td>669.82</td>\n",
       "      <td>3212.90</td>\n",
       "      <td>217.41</td>\n",
       "      <td>27579.63</td>\n",
       "      <td>1641.82</td>\n",
       "      <td>1531.80</td>\n",
       "      <td>...</td>\n",
       "      <td>22</td>\n",
       "      <td>A</td>\n",
       "      <td>30.863437</td>\n",
       "      <td>7</td>\n",
       "      <td>3</td>\n",
       "      <td>Louisiana</td>\n",
       "      <td>-91.798717</td>\n",
       "      <td>G4000</td>\n",
       "      <td>111897594374</td>\n",
       "      <td>00000000000000000014</td>\n",
       "    </tr>\n",
       "    <tr>\n",
       "      <th>40</th>\n",
       "      <td>74632.65</td>\n",
       "      <td>99724.41</td>\n",
       "      <td>86492.11</td>\n",
       "      <td>6992.45</td>\n",
       "      <td>15235.51</td>\n",
       "      <td>293807.31</td>\n",
       "      <td>1861.90</td>\n",
       "      <td>40347.05</td>\n",
       "      <td>8483.76</td>\n",
       "      <td>12405.71</td>\n",
       "      <td>...</td>\n",
       "      <td>48</td>\n",
       "      <td>A</td>\n",
       "      <td>31.434703</td>\n",
       "      <td>7</td>\n",
       "      <td>3</td>\n",
       "      <td>Texas</td>\n",
       "      <td>-99.281824</td>\n",
       "      <td>G4000</td>\n",
       "      <td>676653171537</td>\n",
       "      <td>00000000000000000019</td>\n",
       "    </tr>\n",
       "    <tr>\n",
       "      <th>41</th>\n",
       "      <td>23199.27</td>\n",
       "      <td>64807.85</td>\n",
       "      <td>31338.56</td>\n",
       "      <td>394.25</td>\n",
       "      <td>31258.05</td>\n",
       "      <td>9880.48</td>\n",
       "      <td>326.06</td>\n",
       "      <td>5702.03</td>\n",
       "      <td>3146.13</td>\n",
       "      <td>3663.35</td>\n",
       "      <td>...</td>\n",
       "      <td>40</td>\n",
       "      <td>A</td>\n",
       "      <td>35.590051</td>\n",
       "      <td>7</td>\n",
       "      <td>3</td>\n",
       "      <td>Oklahoma</td>\n",
       "      <td>-97.486815</td>\n",
       "      <td>G4000</td>\n",
       "      <td>177662925723</td>\n",
       "      <td>0000000000000000001c</td>\n",
       "    </tr>\n",
       "    <tr>\n",
       "      <th>42</th>\n",
       "      <td>20464.89</td>\n",
       "      <td>2935.73</td>\n",
       "      <td>29569.17</td>\n",
       "      <td>398.28</td>\n",
       "      <td>27672.35</td>\n",
       "      <td>2995.27</td>\n",
       "      <td>186.35</td>\n",
       "      <td>24286.71</td>\n",
       "      <td>1849.70</td>\n",
       "      <td>7717.60</td>\n",
       "      <td>...</td>\n",
       "      <td>5</td>\n",
       "      <td>A</td>\n",
       "      <td>34.895526</td>\n",
       "      <td>7</td>\n",
       "      <td>3</td>\n",
       "      <td>Arkansas</td>\n",
       "      <td>-92.444626</td>\n",
       "      <td>G4000</td>\n",
       "      <td>134768872727</td>\n",
       "      <td>0000000000000000002b</td>\n",
       "    </tr>\n",
       "    <tr>\n",
       "      <th>43</th>\n",
       "      <td>1854.33</td>\n",
       "      <td>34484.67</td>\n",
       "      <td>22681.95</td>\n",
       "      <td>1554.52</td>\n",
       "      <td>766.78</td>\n",
       "      <td>86176.56</td>\n",
       "      <td>416.00</td>\n",
       "      <td>63454.42</td>\n",
       "      <td>647.17</td>\n",
       "      <td>122.02</td>\n",
       "      <td>...</td>\n",
       "      <td>16</td>\n",
       "      <td>A</td>\n",
       "      <td>44.348422</td>\n",
       "      <td>8</td>\n",
       "      <td>4</td>\n",
       "      <td>Idaho</td>\n",
       "      <td>-114.558854</td>\n",
       "      <td>G4000</td>\n",
       "      <td>214049787659</td>\n",
       "      <td>00000000000000000006</td>\n",
       "    </tr>\n",
       "    <tr>\n",
       "      <th>44</th>\n",
       "      <td>539.24</td>\n",
       "      <td>53928.46</td>\n",
       "      <td>5751.08</td>\n",
       "      <td>660.14</td>\n",
       "      <td>636.40</td>\n",
       "      <td>200529.69</td>\n",
       "      <td>1262.96</td>\n",
       "      <td>48217.71</td>\n",
       "      <td>1130.75</td>\n",
       "      <td>176.35</td>\n",
       "      <td>...</td>\n",
       "      <td>35</td>\n",
       "      <td>A</td>\n",
       "      <td>34.434684</td>\n",
       "      <td>8</td>\n",
       "      <td>4</td>\n",
       "      <td>New Mexico</td>\n",
       "      <td>-106.131618</td>\n",
       "      <td>G4000</td>\n",
       "      <td>314196306401</td>\n",
       "      <td>0000000000000000000c</td>\n",
       "    </tr>\n",
       "    <tr>\n",
       "      <th>45</th>\n",
       "      <td>2108.26</td>\n",
       "      <td>10529.74</td>\n",
       "      <td>4793.30</td>\n",
       "      <td>1377.81</td>\n",
       "      <td>10087.07</td>\n",
       "      <td>127383.24</td>\n",
       "      <td>17280.11</td>\n",
       "      <td>37664.36</td>\n",
       "      <td>776.73</td>\n",
       "      <td>799.05</td>\n",
       "      <td>...</td>\n",
       "      <td>49</td>\n",
       "      <td>A</td>\n",
       "      <td>39.334992</td>\n",
       "      <td>8</td>\n",
       "      <td>4</td>\n",
       "      <td>Utah</td>\n",
       "      <td>-111.656333</td>\n",
       "      <td>G4000</td>\n",
       "      <td>212886221680</td>\n",
       "      <td>00000000000000000017</td>\n",
       "    </tr>\n",
       "    <tr>\n",
       "      <th>46</th>\n",
       "      <td>2878.25</td>\n",
       "      <td>80759.71</td>\n",
       "      <td>33585.57</td>\n",
       "      <td>2575.78</td>\n",
       "      <td>17401.06</td>\n",
       "      <td>66396.42</td>\n",
       "      <td>1746.29</td>\n",
       "      <td>54784.71</td>\n",
       "      <td>2141.46</td>\n",
       "      <td>1316.93</td>\n",
       "      <td>...</td>\n",
       "      <td>8</td>\n",
       "      <td>A</td>\n",
       "      <td>38.993848</td>\n",
       "      <td>8</td>\n",
       "      <td>4</td>\n",
       "      <td>Colorado</td>\n",
       "      <td>-105.508317</td>\n",
       "      <td>G4000</td>\n",
       "      <td>268422891711</td>\n",
       "      <td>0000000000000000001a</td>\n",
       "    </tr>\n",
       "    <tr>\n",
       "      <th>47</th>\n",
       "      <td>3699.00</td>\n",
       "      <td>59112.52</td>\n",
       "      <td>4488.27</td>\n",
       "      <td>2840.95</td>\n",
       "      <td>630.33</td>\n",
       "      <td>148220.07</td>\n",
       "      <td>2442.39</td>\n",
       "      <td>27966.32</td>\n",
       "      <td>403.90</td>\n",
       "      <td>78.62</td>\n",
       "      <td>...</td>\n",
       "      <td>56</td>\n",
       "      <td>A</td>\n",
       "      <td>42.989659</td>\n",
       "      <td>8</td>\n",
       "      <td>4</td>\n",
       "      <td>Wyoming</td>\n",
       "      <td>-107.544392</td>\n",
       "      <td>G4000</td>\n",
       "      <td>251458544898</td>\n",
       "      <td>0000000000000000001e</td>\n",
       "    </tr>\n",
       "    <tr>\n",
       "      <th>48</th>\n",
       "      <td>1054.22</td>\n",
       "      <td>31732.91</td>\n",
       "      <td>1596.65</td>\n",
       "      <td>1421.99</td>\n",
       "      <td>582.03</td>\n",
       "      <td>208794.24</td>\n",
       "      <td>9232.70</td>\n",
       "      <td>27406.13</td>\n",
       "      <td>314.30</td>\n",
       "      <td>76.93</td>\n",
       "      <td>...</td>\n",
       "      <td>32</td>\n",
       "      <td>A</td>\n",
       "      <td>39.331093</td>\n",
       "      <td>8</td>\n",
       "      <td>4</td>\n",
       "      <td>Nevada</td>\n",
       "      <td>-116.615147</td>\n",
       "      <td>G4000</td>\n",
       "      <td>284329506470</td>\n",
       "      <td>00000000000000000027</td>\n",
       "    </tr>\n",
       "    <tr>\n",
       "      <th>49</th>\n",
       "      <td>7192.23</td>\n",
       "      <td>134426.65</td>\n",
       "      <td>56291.96</td>\n",
       "      <td>3291.32</td>\n",
       "      <td>534.25</td>\n",
       "      <td>92528.45</td>\n",
       "      <td>1554.54</td>\n",
       "      <td>77699.07</td>\n",
       "      <td>700.83</td>\n",
       "      <td>169.34</td>\n",
       "      <td>...</td>\n",
       "      <td>30</td>\n",
       "      <td>A</td>\n",
       "      <td>47.051177</td>\n",
       "      <td>8</td>\n",
       "      <td>4</td>\n",
       "      <td>Montana</td>\n",
       "      <td>-109.634817</td>\n",
       "      <td>G4000</td>\n",
       "      <td>376962738765</td>\n",
       "      <td>0000000000000000002e</td>\n",
       "    </tr>\n",
       "    <tr>\n",
       "      <th>50</th>\n",
       "      <td>73.07</td>\n",
       "      <td>25487.94</td>\n",
       "      <td>5143.86</td>\n",
       "      <td>285.39</td>\n",
       "      <td>57.74</td>\n",
       "      <td>212761.85</td>\n",
       "      <td>6588.90</td>\n",
       "      <td>37917.97</td>\n",
       "      <td>1372.63</td>\n",
       "      <td>50.22</td>\n",
       "      <td>...</td>\n",
       "      <td>4</td>\n",
       "      <td>A</td>\n",
       "      <td>34.203936</td>\n",
       "      <td>8</td>\n",
       "      <td>4</td>\n",
       "      <td>Arizona</td>\n",
       "      <td>-111.606357</td>\n",
       "      <td>G4000</td>\n",
       "      <td>294198551143</td>\n",
       "      <td>00000000000000000037</td>\n",
       "    </tr>\n",
       "    <tr>\n",
       "      <th>51</th>\n",
       "      <td>2622.11</td>\n",
       "      <td>67997.35</td>\n",
       "      <td>41270.33</td>\n",
       "      <td>3723.48</td>\n",
       "      <td>672.06</td>\n",
       "      <td>167989.89</td>\n",
       "      <td>18577.31</td>\n",
       "      <td>74692.37</td>\n",
       "      <td>5560.90</td>\n",
       "      <td>5499.37</td>\n",
       "      <td>...</td>\n",
       "      <td>6</td>\n",
       "      <td>A</td>\n",
       "      <td>37.155177</td>\n",
       "      <td>9</td>\n",
       "      <td>4</td>\n",
       "      <td>California</td>\n",
       "      <td>-119.543418</td>\n",
       "      <td>G4000</td>\n",
       "      <td>403503931312</td>\n",
       "      <td>0000000000000000000d</td>\n",
       "    </tr>\n",
       "    <tr>\n",
       "      <th>52</th>\n",
       "      <td>8802.16</td>\n",
       "      <td>41597.76</td>\n",
       "      <td>12452.84</td>\n",
       "      <td>3714.38</td>\n",
       "      <td>296.93</td>\n",
       "      <td>82799.36</td>\n",
       "      <td>1530.89</td>\n",
       "      <td>88135.09</td>\n",
       "      <td>1427.10</td>\n",
       "      <td>4895.81</td>\n",
       "      <td>...</td>\n",
       "      <td>41</td>\n",
       "      <td>A</td>\n",
       "      <td>43.971713</td>\n",
       "      <td>9</td>\n",
       "      <td>4</td>\n",
       "      <td>Oregon</td>\n",
       "      <td>-120.622958</td>\n",
       "      <td>G4000</td>\n",
       "      <td>248606993270</td>\n",
       "      <td>00000000000000000010</td>\n",
       "    </tr>\n",
       "    <tr>\n",
       "      <th>53</th>\n",
       "      <td>4049.05</td>\n",
       "      <td>26687.15</td>\n",
       "      <td>26132.63</td>\n",
       "      <td>1396.07</td>\n",
       "      <td>1227.69</td>\n",
       "      <td>27323.35</td>\n",
       "      <td>2157.69</td>\n",
       "      <td>71031.63</td>\n",
       "      <td>1833.45</td>\n",
       "      <td>3096.61</td>\n",
       "      <td>...</td>\n",
       "      <td>53</td>\n",
       "      <td>A</td>\n",
       "      <td>47.407324</td>\n",
       "      <td>9</td>\n",
       "      <td>4</td>\n",
       "      <td>Washington</td>\n",
       "      <td>-120.575800</td>\n",
       "      <td>G4000</td>\n",
       "      <td>172112588220</td>\n",
       "      <td>00000000000000000013</td>\n",
       "    </tr>\n",
       "    <tr>\n",
       "      <th>54</th>\n",
       "      <td>0.00</td>\n",
       "      <td>0.00</td>\n",
       "      <td>0.00</td>\n",
       "      <td>0.00</td>\n",
       "      <td>0.00</td>\n",
       "      <td>0.00</td>\n",
       "      <td>0.00</td>\n",
       "      <td>0.00</td>\n",
       "      <td>0.00</td>\n",
       "      <td>0.00</td>\n",
       "      <td>...</td>\n",
       "      <td>15</td>\n",
       "      <td>A</td>\n",
       "      <td>19.597764</td>\n",
       "      <td>9</td>\n",
       "      <td>4</td>\n",
       "      <td>Hawaii</td>\n",
       "      <td>-155.502443</td>\n",
       "      <td>G4000</td>\n",
       "      <td>16633990195</td>\n",
       "      <td>0000000000000000001f</td>\n",
       "    </tr>\n",
       "    <tr>\n",
       "      <th>55</th>\n",
       "      <td>0.00</td>\n",
       "      <td>0.00</td>\n",
       "      <td>0.00</td>\n",
       "      <td>0.00</td>\n",
       "      <td>0.00</td>\n",
       "      <td>0.00</td>\n",
       "      <td>0.00</td>\n",
       "      <td>0.00</td>\n",
       "      <td>0.00</td>\n",
       "      <td>0.00</td>\n",
       "      <td>...</td>\n",
       "      <td>2</td>\n",
       "      <td>A</td>\n",
       "      <td>63.347356</td>\n",
       "      <td>9</td>\n",
       "      <td>4</td>\n",
       "      <td>Alaska</td>\n",
       "      <td>-152.839733</td>\n",
       "      <td>G4000</td>\n",
       "      <td>1478839695958</td>\n",
       "      <td>00000000000000000028</td>\n",
       "    </tr>\n",
       "  </tbody>\n",
       "</table>\n",
       "<p>56 rows × 32 columns</p>\n",
       "</div>"
      ],
      "text/plain": [
       "    Class_81   Class_71   Class_82  Class_95  Class_41   Class_52  Class_31  \\\n",
       "0       0.00       0.00       0.00      0.00      0.00       0.00      0.00   \n",
       "1       0.00       0.00       0.00      0.00      0.00       0.00      0.00   \n",
       "2       0.00       0.00       0.00      0.00      0.00       0.00      0.00   \n",
       "3       0.00       0.00       0.00      0.00      0.00       0.00      0.00   \n",
       "4       0.00       0.00       0.00      0.00      0.00       0.00      0.00   \n",
       "5      81.09      50.85      17.48     31.64    858.79      29.34     27.94   \n",
       "6     719.46     121.58      70.56    103.72   5293.13     177.91     75.16   \n",
       "7    3141.23      45.86     434.74    114.32   9588.68      74.28     33.12   \n",
       "8     462.99      50.07     214.63     87.39   6389.13      26.34     32.80   \n",
       "9    2241.05    1539.73    1062.59    783.29  12944.45     887.96    116.32   \n",
       "10    736.80     179.49     267.33    347.10   4606.55      89.26    158.60   \n",
       "11    863.03      97.41    1968.45    931.14   4117.11      66.26    101.05   \n",
       "12  16131.93     618.28   11791.80    160.96  59401.45     324.78    258.21   \n",
       "13  17537.60     423.07   11223.89    654.34  49498.80     382.84    225.29   \n",
       "14  10163.59     382.28   97422.14    480.38  19448.67      55.96    170.43   \n",
       "15  11473.94     888.82   43742.15   4367.66  36755.13     414.40    181.15   \n",
       "16  14619.66     345.14   42610.32    305.16  33486.95     205.30    203.55   \n",
       "17   4297.57    3338.75   38065.16   1059.72  34069.14    1047.30    453.44   \n",
       "18   6751.04     335.77   55141.65    161.15  20188.14      98.16    152.35   \n",
       "19  12844.18    1660.83   91060.33  16601.53  26423.12     947.52    360.25   \n",
       "20   1609.25  105848.81   79915.86   3531.80   1898.07     264.89    103.33   \n",
       "21  11063.68   42621.12   99802.46   5731.00   1901.35   11294.22    187.32   \n",
       "22  57066.65     453.10   42036.66    575.46  63550.61     530.26    209.65   \n",
       "23  18974.79   74907.25  100320.58    425.39   8018.80    1964.16    111.03   \n",
       "24  15276.05   95198.20   67434.39   3576.14    632.50    3252.13   1350.28   \n",
       "25  17795.19    1898.16  107191.71   1046.40   9615.61      47.22    122.60   \n",
       "26   5422.93     643.14     306.93     70.91  48597.73     343.51    135.89   \n",
       "27  17670.41    3457.94    9823.32  14553.46    106.47    5136.89    636.76   \n",
       "28   2685.16      95.22    5699.70    805.08   6475.47      58.35     64.27   \n",
       "29  10672.86    2557.12   19967.33   1599.98  26099.13    2831.12    290.77   \n",
       "30     51.40      10.04    2207.92    332.84    206.20       8.30     14.78   \n",
       "31  11370.65    6005.25   20430.19   2254.35  20300.48    5533.99    301.02   \n",
       "32   5704.32    3147.34    8215.62   2499.48   6556.12    3019.86    158.55   \n",
       "33  16920.18    2953.31    6380.26    879.19  35032.36    2169.89    177.75   \n",
       "34      0.00       0.15       0.07      0.28     15.21       0.00      0.21   \n",
       "35  19380.11    4871.77    6486.05    545.61  24027.56    4897.36    315.51   \n",
       "36  24155.22    1073.25   12334.92     91.03  45347.96     737.64    130.62   \n",
       "37  25049.97     579.14   13722.16    149.69  49896.15     422.03    187.28   \n",
       "38  16304.86    2842.33   17665.96    945.99  11657.71    3751.10    202.75   \n",
       "39   8425.77    2398.66   20127.82  13092.48    669.82    3212.90    217.41   \n",
       "40  74632.65   99724.41   86492.11   6992.45  15235.51  293807.31   1861.90   \n",
       "41  23199.27   64807.85   31338.56    394.25  31258.05    9880.48    326.06   \n",
       "42  20464.89    2935.73   29569.17    398.28  27672.35    2995.27    186.35   \n",
       "43   1854.33   34484.67   22681.95   1554.52    766.78   86176.56    416.00   \n",
       "44    539.24   53928.46    5751.08    660.14    636.40  200529.69   1262.96   \n",
       "45   2108.26   10529.74    4793.30   1377.81  10087.07  127383.24  17280.11   \n",
       "46   2878.25   80759.71   33585.57   2575.78  17401.06   66396.42   1746.29   \n",
       "47   3699.00   59112.52    4488.27   2840.95    630.33  148220.07   2442.39   \n",
       "48   1054.22   31732.91    1596.65   1421.99    582.03  208794.24   9232.70   \n",
       "49   7192.23  134426.65   56291.96   3291.32    534.25   92528.45   1554.54   \n",
       "50     73.07   25487.94    5143.86    285.39     57.74  212761.85   6588.90   \n",
       "51   2622.11   67997.35   41270.33   3723.48    672.06  167989.89  18577.31   \n",
       "52   8802.16   41597.76   12452.84   3714.38    296.93   82799.36   1530.89   \n",
       "53   4049.05   26687.15   26132.63   1396.07   1227.69   27323.35   2157.69   \n",
       "54      0.00       0.00       0.00      0.00      0.00       0.00      0.00   \n",
       "55      0.00       0.00       0.00      0.00      0.00       0.00      0.00   \n",
       "\n",
       "    Class_42  Class_21  Class_43  ...  STATEFP  FUNCSTAT   INTPTLAT  DIVISION  \\\n",
       "0       0.00      0.00      0.00  ...       78         A  18.326748         0   \n",
       "1       0.00      0.00      0.00  ...       69         A  14.936784         0   \n",
       "2       0.00      0.00      0.00  ...       66         A  13.438289         0   \n",
       "3       0.00      0.00      0.00  ...       60         A -14.267159         0   \n",
       "4       0.00      0.00      0.00  ...       72         A  18.217648         0   \n",
       "5     101.95    104.92    401.81  ...       44         A  41.597419         1   \n",
       "6    4370.31    524.16   9100.65  ...       33         A  43.672691         1   \n",
       "7    3129.44    387.45   5400.50  ...       50         A  44.068577         1   \n",
       "8     140.29    941.22   1329.85  ...        9         A  41.579864         1   \n",
       "9   17930.21    869.64  29878.28  ...       23         A  45.409284         1   \n",
       "10   1753.07    947.93   4686.42  ...       25         A  42.156520         1   \n",
       "11    765.51   1997.76    863.54  ...       34         A  40.107274         2   \n",
       "12   1338.69   5091.96  12832.17  ...       42         A  40.902496         2   \n",
       "13   9815.32   3968.74  12276.05  ...       36         A  42.913397         2   \n",
       "14    138.07   2188.70    886.36  ...       17         A  40.102875         3   \n",
       "15   2370.60   2514.74   8775.15  ...       55         A  44.630907         3   \n",
       "16    341.56   3698.71   1301.80  ...       39         A  40.414930         3   \n",
       "17   7368.15   4041.68  10116.02  ...       26         A  44.844177         3   \n",
       "18    141.00   2189.64    855.15  ...       18         A  39.901314         3   \n",
       "19   4205.69   2941.21   9747.75  ...       27         A  46.315957         4   \n",
       "20    731.21   1687.71    167.01  ...       31         A  41.543305         4   \n",
       "21    118.72   2460.36     63.32  ...       38         A  47.442174         4   \n",
       "22   1299.88   2589.13   2235.22  ...       29         A  38.350750         4   \n",
       "23     29.18   3267.25    293.57  ...       20         A  38.498546         4   \n",
       "24   5413.40   2153.57    123.86  ...       46         A  44.446796         4   \n",
       "25     74.23   1456.08    496.66  ...       19         A  42.070024         4   \n",
       "26    715.05   1007.39   3713.87  ...       54         A  38.647285         5   \n",
       "27  28628.62   7911.87    575.46  ...       12         A  28.457430         5   \n",
       "28    518.95   1815.26   1601.77  ...       24         A  38.946658         5   \n",
       "29  18170.89   7101.49  11521.21  ...       37         A  35.539710         5   \n",
       "30    157.16    331.05    156.16  ...       10         A  38.998566         5   \n",
       "31  38599.38   5872.87   7020.07  ...       13         A  32.629579         5   \n",
       "32  21161.41   3298.81   3423.49  ...       45         A  33.874178         5   \n",
       "33   9457.25   3499.33  14992.88  ...       51         A  37.522251         5   \n",
       "34      0.00     18.81      0.28  ...       11         A  38.904103         5   \n",
       "35  35284.96   3845.76  12065.93  ...        1         A  32.739632         6   \n",
       "36   3906.87   3633.84   7529.44  ...       47         A  35.860803         6   \n",
       "37    649.41   2264.69   6089.92  ...       21         A  37.533684         6   \n",
       "38  27593.44   2452.34  14264.45  ...       28         A  32.686471         6   \n",
       "39  27579.63   1641.82   1531.80  ...       22         A  30.863437         7   \n",
       "40  40347.05   8483.76  12405.71  ...       48         A  31.434703         7   \n",
       "41   5702.03   3146.13   3663.35  ...       40         A  35.590051         7   \n",
       "42  24286.71   1849.70   7717.60  ...        5         A  34.895526         7   \n",
       "43  63454.42    647.17    122.02  ...       16         A  44.348422         8   \n",
       "44  48217.71   1130.75    176.35  ...       35         A  34.434684         8   \n",
       "45  37664.36    776.73    799.05  ...       49         A  39.334992         8   \n",
       "46  54784.71   2141.46   1316.93  ...        8         A  38.993848         8   \n",
       "47  27966.32    403.90     78.62  ...       56         A  42.989659         8   \n",
       "48  27406.13    314.30     76.93  ...       32         A  39.331093         8   \n",
       "49  77699.07    700.83    169.34  ...       30         A  47.051177         8   \n",
       "50  37917.97   1372.63     50.22  ...        4         A  34.203936         8   \n",
       "51  74692.37   5560.90   5499.37  ...        6         A  37.155177         9   \n",
       "52  88135.09   1427.10   4895.81  ...       41         A  43.971713         9   \n",
       "53  71031.63   1833.45   3096.61  ...       53         A  47.407324         9   \n",
       "54      0.00      0.00      0.00  ...       15         A  19.597764         9   \n",
       "55      0.00      0.00      0.00  ...        2         A  63.347356         9   \n",
       "\n",
       "    REGION                                          NAME    INTPTLON  MTFCC  \\\n",
       "0        9                  United States Virgin Islands  -64.971251  G4000   \n",
       "1        9  Commonwealth of the Northern Mariana Islands  145.601021  G4000   \n",
       "2        9                                          Guam  144.772949  G4000   \n",
       "3        9                                American Samoa -170.668267  G4000   \n",
       "4        9                                   Puerto Rico  -66.410799  G4000   \n",
       "5        1                                  Rhode Island  -71.527272  G4000   \n",
       "6        1                                 New Hampshire  -71.584315  G4000   \n",
       "7        1                                       Vermont  -72.669184  G4000   \n",
       "8        1                                   Connecticut  -72.746657  G4000   \n",
       "9        1                                         Maine  -68.666616  G4000   \n",
       "10       1                                 Massachusetts  -71.489592  G4000   \n",
       "11       1                                    New Jersey  -74.665201  G4000   \n",
       "12       1                                  Pennsylvania  -77.833451  G4000   \n",
       "13       1                                      New York  -75.596272  G4000   \n",
       "14       2                                      Illinois  -89.152611  G4000   \n",
       "15       2                                     Wisconsin  -89.709392  G4000   \n",
       "16       2                                          Ohio  -82.711997  G4000   \n",
       "17       2                                      Michigan  -85.660491  G4000   \n",
       "18       2                                       Indiana  -86.291913  G4000   \n",
       "19       2                                     Minnesota  -94.199604  G4000   \n",
       "20       2                                      Nebraska  -99.811865  G4000   \n",
       "21       2                                  North Dakota -100.460826  G4000   \n",
       "22       2                                      Missouri  -92.456783  G4000   \n",
       "23       2                                        Kansas  -98.383430  G4000   \n",
       "24       2                                  South Dakota -100.238176  G4000   \n",
       "25       2                                          Iowa  -93.493347  G4000   \n",
       "26       3                                 West Virginia  -80.618327  G4000   \n",
       "27       3                                       Florida  -82.409148  G4000   \n",
       "28       3                                      Maryland  -76.674494  G4000   \n",
       "29       3                                North Carolina  -79.130864  G4000   \n",
       "30       3                                      Delaware  -75.441644  G4000   \n",
       "31       3                                       Georgia  -83.423511  G4000   \n",
       "32       3                                South Carolina  -80.854264  G4000   \n",
       "33       3                                      Virginia  -78.668194  G4000   \n",
       "34       3                          District of Columbia  -77.017229  G4000   \n",
       "35       3                                       Alabama  -86.843459  G4000   \n",
       "36       3                                     Tennessee  -86.349990  G4000   \n",
       "37       3                                      Kentucky  -85.292980  G4000   \n",
       "38       3                                   Mississippi  -89.656138  G4000   \n",
       "39       3                                     Louisiana  -91.798717  G4000   \n",
       "40       3                                         Texas  -99.281824  G4000   \n",
       "41       3                                      Oklahoma  -97.486815  G4000   \n",
       "42       3                                      Arkansas  -92.444626  G4000   \n",
       "43       4                                         Idaho -114.558854  G4000   \n",
       "44       4                                    New Mexico -106.131618  G4000   \n",
       "45       4                                          Utah -111.656333  G4000   \n",
       "46       4                                      Colorado -105.508317  G4000   \n",
       "47       4                                       Wyoming -107.544392  G4000   \n",
       "48       4                                        Nevada -116.615147  G4000   \n",
       "49       4                                       Montana -109.634817  G4000   \n",
       "50       4                                       Arizona -111.606357  G4000   \n",
       "51       4                                    California -119.543418  G4000   \n",
       "52       4                                        Oregon -120.622958  G4000   \n",
       "53       4                                    Washington -120.575800  G4000   \n",
       "54       4                                        Hawaii -155.502443  G4000   \n",
       "55       4                                        Alaska -152.839733  G4000   \n",
       "\n",
       "            ALAND          system:index  \n",
       "0       348021896  00000000000000000022  \n",
       "1       472292529  00000000000000000023  \n",
       "2       543555840  00000000000000000024  \n",
       "3       197759063  00000000000000000029  \n",
       "4      8868896030  00000000000000000031  \n",
       "5      2677779902  00000000000000000005  \n",
       "6     23189413166  00000000000000000007  \n",
       "7     23874175944  00000000000000000009  \n",
       "8     12542497068  0000000000000000000a  \n",
       "9     79887426037  00000000000000000025  \n",
       "10    20205125364  00000000000000000033  \n",
       "11    19047825980  0000000000000000000e  \n",
       "12   115884442321  00000000000000000012  \n",
       "13   122049149763  00000000000000000026  \n",
       "14   143780567633  00000000000000000002  \n",
       "15   140290039723  0000000000000000000f  \n",
       "16   105828882568  00000000000000000018  \n",
       "17   146600952990  0000000000000000002a  \n",
       "18    92789302676  00000000000000000030  \n",
       "19   206228939448  00000000000000000003  \n",
       "20   198956658395  00000000000000000011  \n",
       "21   178707534813  00000000000000000020  \n",
       "22   178050802184  0000000000000000002d  \n",
       "23   211755344060  0000000000000000002f  \n",
       "24   196346981786  00000000000000000032  \n",
       "25   144661267977  00000000000000000036  \n",
       "26    62266474513  00000000000000000000  \n",
       "27   138949136250  00000000000000000001  \n",
       "28    25151100280  00000000000000000004  \n",
       "29   125923656064  00000000000000000008  \n",
       "30     5045925646  0000000000000000000b  \n",
       "31   149482048342  00000000000000000015  \n",
       "32    77864918488  0000000000000000001b  \n",
       "33   102257717110  00000000000000000034  \n",
       "34      158340391  00000000000000000035  \n",
       "35   131174048583  00000000000000000016  \n",
       "36   106802728188  0000000000000000001d  \n",
       "37   102279490672  00000000000000000021  \n",
       "38   121533519481  0000000000000000002c  \n",
       "39   111897594374  00000000000000000014  \n",
       "40   676653171537  00000000000000000019  \n",
       "41   177662925723  0000000000000000001c  \n",
       "42   134768872727  0000000000000000002b  \n",
       "43   214049787659  00000000000000000006  \n",
       "44   314196306401  0000000000000000000c  \n",
       "45   212886221680  00000000000000000017  \n",
       "46   268422891711  0000000000000000001a  \n",
       "47   251458544898  0000000000000000001e  \n",
       "48   284329506470  00000000000000000027  \n",
       "49   376962738765  0000000000000000002e  \n",
       "50   294198551143  00000000000000000037  \n",
       "51   403503931312  0000000000000000000d  \n",
       "52   248606993270  00000000000000000010  \n",
       "53   172112588220  00000000000000000013  \n",
       "54    16633990195  0000000000000000001f  \n",
       "55  1478839695958  00000000000000000028  \n",
       "\n",
       "[56 rows x 32 columns]"
      ]
     },
     "execution_count": 81,
     "metadata": {},
     "output_type": "execute_result"
    }
   ],
   "source": [
    "geemap.csv_to_df(nlcd_stats)"
   ]
  },
  {
   "cell_type": "markdown",
   "metadata": {},
   "source": [
    "Calculate the percentage of each land cover type in each state."
   ]
  },
  {
   "cell_type": "code",
   "execution_count": 82,
   "metadata": {},
   "outputs": [
    {
     "data": {
      "text/html": [
       "\n",
       "            <style>\n",
       "                .geemap-dark {\n",
       "                    --jp-widgets-color: white;\n",
       "                    --jp-widgets-label-color: white;\n",
       "                    --jp-ui-font-color1: white;\n",
       "                    --jp-layout-color2: #454545;\n",
       "                    background-color: #383838;\n",
       "                }\n",
       "                    \n",
       "                .geemap-dark .jupyter-button {\n",
       "                    --jp-layout-color3: #383838;\n",
       "                }\n",
       "                \n",
       "                .geemap-colab {\n",
       "                    background-color: var(--colab-primary-surface-color, white);\n",
       "                }\n",
       "                    \n",
       "                .geemap-colab .jupyter-button {\n",
       "                    --jp-layout-color3: var(--colab-primary-surface-color, white);\n",
       "                }\n",
       "            </style>\n",
       "            "
      ],
      "text/plain": [
       "<IPython.core.display.HTML object>"
      ]
     },
     "metadata": {},
     "output_type": "display_data"
    },
    {
     "name": "stdout",
     "output_type": "stream",
     "text": [
      "Computing ... \n",
      "Generating URL ...\n",
      "Downloading data from https://earthengine.googleapis.com/v1/projects/earthengine-legacy/tables/cf871bbe0d7d5e022471747d8ba654fe-6527f2603ff807ca40a36ade97312288:getFeatures\n",
      "Please wait ...\n",
      "Data downloaded to /Users/ilyonsg/Documents/gee/gee-python-workshop/nlcd_stats_pct.csv\n"
     ]
    }
   ],
   "source": [
    "nlcd_stats = 'exports/nlcd_stats_pct.csv'\n",
    "\n",
    "geemap.zonal_stats_by_group(\n",
    "    landcover,\n",
    "    states,\n",
    "    nlcd_stats,\n",
    "    statistics_type='PERCENTAGE',\n",
    "    denominator=1e6,\n",
    "    decimal_places=2,\n",
    ")"
   ]
  },
  {
   "cell_type": "code",
   "execution_count": 84,
   "metadata": {},
   "outputs": [
    {
     "data": {
      "text/html": [
       "\n",
       "            <style>\n",
       "                .geemap-dark {\n",
       "                    --jp-widgets-color: white;\n",
       "                    --jp-widgets-label-color: white;\n",
       "                    --jp-ui-font-color1: white;\n",
       "                    --jp-layout-color2: #454545;\n",
       "                    background-color: #383838;\n",
       "                }\n",
       "                    \n",
       "                .geemap-dark .jupyter-button {\n",
       "                    --jp-layout-color3: #383838;\n",
       "                }\n",
       "                \n",
       "                .geemap-colab {\n",
       "                    background-color: var(--colab-primary-surface-color, white);\n",
       "                }\n",
       "                    \n",
       "                .geemap-colab .jupyter-button {\n",
       "                    --jp-layout-color3: var(--colab-primary-surface-color, white);\n",
       "                }\n",
       "            </style>\n",
       "            "
      ],
      "text/plain": [
       "<IPython.core.display.HTML object>"
      ]
     },
     "metadata": {},
     "output_type": "display_data"
    },
    {
     "data": {
      "text/html": [
       "<div>\n",
       "<style scoped>\n",
       "    .dataframe tbody tr th:only-of-type {\n",
       "        vertical-align: middle;\n",
       "    }\n",
       "\n",
       "    .dataframe tbody tr th {\n",
       "        vertical-align: top;\n",
       "    }\n",
       "\n",
       "    .dataframe thead th {\n",
       "        text-align: right;\n",
       "    }\n",
       "</style>\n",
       "<table border=\"1\" class=\"dataframe\">\n",
       "  <thead>\n",
       "    <tr style=\"text-align: right;\">\n",
       "      <th></th>\n",
       "      <th>Class_81</th>\n",
       "      <th>Class_71</th>\n",
       "      <th>Class_82</th>\n",
       "      <th>Class_95</th>\n",
       "      <th>Class_41</th>\n",
       "      <th>Class_52</th>\n",
       "      <th>Class_31</th>\n",
       "      <th>Class_42</th>\n",
       "      <th>Class_21</th>\n",
       "      <th>Class_43</th>\n",
       "      <th>...</th>\n",
       "      <th>STATEFP</th>\n",
       "      <th>FUNCSTAT</th>\n",
       "      <th>INTPTLAT</th>\n",
       "      <th>DIVISION</th>\n",
       "      <th>REGION</th>\n",
       "      <th>NAME</th>\n",
       "      <th>INTPTLON</th>\n",
       "      <th>MTFCC</th>\n",
       "      <th>ALAND</th>\n",
       "      <th>system:index</th>\n",
       "    </tr>\n",
       "  </thead>\n",
       "  <tbody>\n",
       "    <tr>\n",
       "      <th>0</th>\n",
       "      <td>0.000000</td>\n",
       "      <td>0.000000</td>\n",
       "      <td>0.000000</td>\n",
       "      <td>0.000000</td>\n",
       "      <td>0.000000</td>\n",
       "      <td>0.000000</td>\n",
       "      <td>0.000000</td>\n",
       "      <td>0.000000</td>\n",
       "      <td>0.000000</td>\n",
       "      <td>0.000000</td>\n",
       "      <td>...</td>\n",
       "      <td>78</td>\n",
       "      <td>A</td>\n",
       "      <td>18.326748</td>\n",
       "      <td>0</td>\n",
       "      <td>9</td>\n",
       "      <td>United States Virgin Islands</td>\n",
       "      <td>-64.971251</td>\n",
       "      <td>G4000</td>\n",
       "      <td>348021896</td>\n",
       "      <td>00000000000000000022</td>\n",
       "    </tr>\n",
       "    <tr>\n",
       "      <th>1</th>\n",
       "      <td>0.000000</td>\n",
       "      <td>0.000000</td>\n",
       "      <td>0.000000</td>\n",
       "      <td>0.000000</td>\n",
       "      <td>0.000000</td>\n",
       "      <td>0.000000</td>\n",
       "      <td>0.000000</td>\n",
       "      <td>0.000000</td>\n",
       "      <td>0.000000</td>\n",
       "      <td>0.000000</td>\n",
       "      <td>...</td>\n",
       "      <td>69</td>\n",
       "      <td>A</td>\n",
       "      <td>14.936784</td>\n",
       "      <td>0</td>\n",
       "      <td>9</td>\n",
       "      <td>Commonwealth of the Northern Mariana Islands</td>\n",
       "      <td>145.601021</td>\n",
       "      <td>G4000</td>\n",
       "      <td>472292529</td>\n",
       "      <td>00000000000000000023</td>\n",
       "    </tr>\n",
       "    <tr>\n",
       "      <th>2</th>\n",
       "      <td>0.000000</td>\n",
       "      <td>0.000000</td>\n",
       "      <td>0.000000</td>\n",
       "      <td>0.000000</td>\n",
       "      <td>0.000000</td>\n",
       "      <td>0.000000</td>\n",
       "      <td>0.000000</td>\n",
       "      <td>0.000000</td>\n",
       "      <td>0.000000</td>\n",
       "      <td>0.000000</td>\n",
       "      <td>...</td>\n",
       "      <td>66</td>\n",
       "      <td>A</td>\n",
       "      <td>13.438289</td>\n",
       "      <td>0</td>\n",
       "      <td>9</td>\n",
       "      <td>Guam</td>\n",
       "      <td>144.772949</td>\n",
       "      <td>G4000</td>\n",
       "      <td>543555840</td>\n",
       "      <td>00000000000000000024</td>\n",
       "    </tr>\n",
       "    <tr>\n",
       "      <th>3</th>\n",
       "      <td>0.000000</td>\n",
       "      <td>0.000000</td>\n",
       "      <td>0.000000</td>\n",
       "      <td>0.000000</td>\n",
       "      <td>0.000000</td>\n",
       "      <td>0.000000</td>\n",
       "      <td>0.000000</td>\n",
       "      <td>0.000000</td>\n",
       "      <td>0.000000</td>\n",
       "      <td>0.000000</td>\n",
       "      <td>...</td>\n",
       "      <td>60</td>\n",
       "      <td>A</td>\n",
       "      <td>-14.267159</td>\n",
       "      <td>0</td>\n",
       "      <td>9</td>\n",
       "      <td>American Samoa</td>\n",
       "      <td>-170.668267</td>\n",
       "      <td>G4000</td>\n",
       "      <td>197759063</td>\n",
       "      <td>00000000000000000029</td>\n",
       "    </tr>\n",
       "    <tr>\n",
       "      <th>4</th>\n",
       "      <td>0.000000</td>\n",
       "      <td>0.000000</td>\n",
       "      <td>0.000000</td>\n",
       "      <td>0.000000</td>\n",
       "      <td>0.000000</td>\n",
       "      <td>0.000000</td>\n",
       "      <td>0.000000</td>\n",
       "      <td>0.000000</td>\n",
       "      <td>0.000000</td>\n",
       "      <td>0.000000</td>\n",
       "      <td>...</td>\n",
       "      <td>72</td>\n",
       "      <td>A</td>\n",
       "      <td>18.217648</td>\n",
       "      <td>0</td>\n",
       "      <td>9</td>\n",
       "      <td>Puerto Rico</td>\n",
       "      <td>-66.410799</td>\n",
       "      <td>G4000</td>\n",
       "      <td>8868896030</td>\n",
       "      <td>00000000000000000031</td>\n",
       "    </tr>\n",
       "    <tr>\n",
       "      <th>5</th>\n",
       "      <td>0.020269</td>\n",
       "      <td>0.012710</td>\n",
       "      <td>0.004369</td>\n",
       "      <td>0.007909</td>\n",
       "      <td>0.214658</td>\n",
       "      <td>0.007334</td>\n",
       "      <td>0.006984</td>\n",
       "      <td>0.025483</td>\n",
       "      <td>0.026225</td>\n",
       "      <td>0.100434</td>\n",
       "      <td>...</td>\n",
       "      <td>44</td>\n",
       "      <td>A</td>\n",
       "      <td>41.597419</td>\n",
       "      <td>1</td>\n",
       "      <td>1</td>\n",
       "      <td>Rhode Island</td>\n",
       "      <td>-71.527272</td>\n",
       "      <td>G4000</td>\n",
       "      <td>2677779902</td>\n",
       "      <td>00000000000000000005</td>\n",
       "    </tr>\n",
       "    <tr>\n",
       "      <th>6</th>\n",
       "      <td>0.029711</td>\n",
       "      <td>0.005021</td>\n",
       "      <td>0.002914</td>\n",
       "      <td>0.004283</td>\n",
       "      <td>0.218584</td>\n",
       "      <td>0.007347</td>\n",
       "      <td>0.003104</td>\n",
       "      <td>0.180476</td>\n",
       "      <td>0.021646</td>\n",
       "      <td>0.375819</td>\n",
       "      <td>...</td>\n",
       "      <td>33</td>\n",
       "      <td>A</td>\n",
       "      <td>43.672691</td>\n",
       "      <td>1</td>\n",
       "      <td>1</td>\n",
       "      <td>New Hampshire</td>\n",
       "      <td>-71.584315</td>\n",
       "      <td>G4000</td>\n",
       "      <td>23189413166</td>\n",
       "      <td>00000000000000000007</td>\n",
       "    </tr>\n",
       "    <tr>\n",
       "      <th>7</th>\n",
       "      <td>0.126136</td>\n",
       "      <td>0.001842</td>\n",
       "      <td>0.017457</td>\n",
       "      <td>0.004591</td>\n",
       "      <td>0.385035</td>\n",
       "      <td>0.002983</td>\n",
       "      <td>0.001330</td>\n",
       "      <td>0.125663</td>\n",
       "      <td>0.015558</td>\n",
       "      <td>0.216858</td>\n",
       "      <td>...</td>\n",
       "      <td>50</td>\n",
       "      <td>A</td>\n",
       "      <td>44.068577</td>\n",
       "      <td>1</td>\n",
       "      <td>1</td>\n",
       "      <td>Vermont</td>\n",
       "      <td>-72.669184</td>\n",
       "      <td>G4000</td>\n",
       "      <td>23874175944</td>\n",
       "      <td>00000000000000000009</td>\n",
       "    </tr>\n",
       "    <tr>\n",
       "      <th>8</th>\n",
       "      <td>0.032246</td>\n",
       "      <td>0.003487</td>\n",
       "      <td>0.014948</td>\n",
       "      <td>0.006087</td>\n",
       "      <td>0.444988</td>\n",
       "      <td>0.001835</td>\n",
       "      <td>0.002284</td>\n",
       "      <td>0.009771</td>\n",
       "      <td>0.065554</td>\n",
       "      <td>0.092621</td>\n",
       "      <td>...</td>\n",
       "      <td>9</td>\n",
       "      <td>A</td>\n",
       "      <td>41.579864</td>\n",
       "      <td>1</td>\n",
       "      <td>1</td>\n",
       "      <td>Connecticut</td>\n",
       "      <td>-72.746657</td>\n",
       "      <td>G4000</td>\n",
       "      <td>12542497068</td>\n",
       "      <td>0000000000000000000a</td>\n",
       "    </tr>\n",
       "    <tr>\n",
       "      <th>9</th>\n",
       "      <td>0.024458</td>\n",
       "      <td>0.016804</td>\n",
       "      <td>0.011597</td>\n",
       "      <td>0.008549</td>\n",
       "      <td>0.141272</td>\n",
       "      <td>0.009691</td>\n",
       "      <td>0.001269</td>\n",
       "      <td>0.195685</td>\n",
       "      <td>0.009491</td>\n",
       "      <td>0.326083</td>\n",
       "      <td>...</td>\n",
       "      <td>23</td>\n",
       "      <td>A</td>\n",
       "      <td>45.409284</td>\n",
       "      <td>1</td>\n",
       "      <td>1</td>\n",
       "      <td>Maine</td>\n",
       "      <td>-68.666616</td>\n",
       "      <td>G4000</td>\n",
       "      <td>79887426037</td>\n",
       "      <td>00000000000000000025</td>\n",
       "    </tr>\n",
       "    <tr>\n",
       "      <th>10</th>\n",
       "      <td>0.026958</td>\n",
       "      <td>0.006567</td>\n",
       "      <td>0.009781</td>\n",
       "      <td>0.012700</td>\n",
       "      <td>0.168542</td>\n",
       "      <td>0.003266</td>\n",
       "      <td>0.005803</td>\n",
       "      <td>0.064140</td>\n",
       "      <td>0.034682</td>\n",
       "      <td>0.171464</td>\n",
       "      <td>...</td>\n",
       "      <td>25</td>\n",
       "      <td>A</td>\n",
       "      <td>42.156520</td>\n",
       "      <td>1</td>\n",
       "      <td>1</td>\n",
       "      <td>Massachusetts</td>\n",
       "      <td>-71.489592</td>\n",
       "      <td>G4000</td>\n",
       "      <td>20205125364</td>\n",
       "      <td>00000000000000000033</td>\n",
       "    </tr>\n",
       "    <tr>\n",
       "      <th>11</th>\n",
       "      <td>0.038202</td>\n",
       "      <td>0.004312</td>\n",
       "      <td>0.087133</td>\n",
       "      <td>0.041217</td>\n",
       "      <td>0.182243</td>\n",
       "      <td>0.002933</td>\n",
       "      <td>0.004473</td>\n",
       "      <td>0.033885</td>\n",
       "      <td>0.088431</td>\n",
       "      <td>0.038224</td>\n",
       "      <td>...</td>\n",
       "      <td>34</td>\n",
       "      <td>A</td>\n",
       "      <td>40.107274</td>\n",
       "      <td>2</td>\n",
       "      <td>1</td>\n",
       "      <td>New Jersey</td>\n",
       "      <td>-74.665201</td>\n",
       "      <td>G4000</td>\n",
       "      <td>19047825980</td>\n",
       "      <td>0000000000000000000e</td>\n",
       "    </tr>\n",
       "    <tr>\n",
       "      <th>12</th>\n",
       "      <td>0.135248</td>\n",
       "      <td>0.005184</td>\n",
       "      <td>0.098861</td>\n",
       "      <td>0.001349</td>\n",
       "      <td>0.498012</td>\n",
       "      <td>0.002723</td>\n",
       "      <td>0.002165</td>\n",
       "      <td>0.011223</td>\n",
       "      <td>0.042690</td>\n",
       "      <td>0.107583</td>\n",
       "      <td>...</td>\n",
       "      <td>42</td>\n",
       "      <td>A</td>\n",
       "      <td>40.902496</td>\n",
       "      <td>2</td>\n",
       "      <td>1</td>\n",
       "      <td>Pennsylvania</td>\n",
       "      <td>-77.833451</td>\n",
       "      <td>G4000</td>\n",
       "      <td>115884442321</td>\n",
       "      <td>00000000000000000012</td>\n",
       "    </tr>\n",
       "    <tr>\n",
       "      <th>13</th>\n",
       "      <td>0.124131</td>\n",
       "      <td>0.002994</td>\n",
       "      <td>0.079442</td>\n",
       "      <td>0.004631</td>\n",
       "      <td>0.350351</td>\n",
       "      <td>0.002710</td>\n",
       "      <td>0.001595</td>\n",
       "      <td>0.069473</td>\n",
       "      <td>0.028091</td>\n",
       "      <td>0.086890</td>\n",
       "      <td>...</td>\n",
       "      <td>36</td>\n",
       "      <td>A</td>\n",
       "      <td>42.913397</td>\n",
       "      <td>2</td>\n",
       "      <td>1</td>\n",
       "      <td>New York</td>\n",
       "      <td>-75.596272</td>\n",
       "      <td>G4000</td>\n",
       "      <td>122049149763</td>\n",
       "      <td>00000000000000000026</td>\n",
       "    </tr>\n",
       "    <tr>\n",
       "      <th>14</th>\n",
       "      <td>0.067760</td>\n",
       "      <td>0.002549</td>\n",
       "      <td>0.649505</td>\n",
       "      <td>0.003203</td>\n",
       "      <td>0.129663</td>\n",
       "      <td>0.000373</td>\n",
       "      <td>0.001136</td>\n",
       "      <td>0.000921</td>\n",
       "      <td>0.014592</td>\n",
       "      <td>0.005909</td>\n",
       "      <td>...</td>\n",
       "      <td>17</td>\n",
       "      <td>A</td>\n",
       "      <td>40.102875</td>\n",
       "      <td>3</td>\n",
       "      <td>2</td>\n",
       "      <td>Illinois</td>\n",
       "      <td>-89.152611</td>\n",
       "      <td>G4000</td>\n",
       "      <td>143780567633</td>\n",
       "      <td>00000000000000000002</td>\n",
       "    </tr>\n",
       "    <tr>\n",
       "      <th>15</th>\n",
       "      <td>0.067639</td>\n",
       "      <td>0.005240</td>\n",
       "      <td>0.257861</td>\n",
       "      <td>0.025747</td>\n",
       "      <td>0.216672</td>\n",
       "      <td>0.002443</td>\n",
       "      <td>0.001068</td>\n",
       "      <td>0.013975</td>\n",
       "      <td>0.014824</td>\n",
       "      <td>0.051730</td>\n",
       "      <td>...</td>\n",
       "      <td>55</td>\n",
       "      <td>A</td>\n",
       "      <td>44.630907</td>\n",
       "      <td>3</td>\n",
       "      <td>2</td>\n",
       "      <td>Wisconsin</td>\n",
       "      <td>-89.709392</td>\n",
       "      <td>G4000</td>\n",
       "      <td>140290039723</td>\n",
       "      <td>0000000000000000000f</td>\n",
       "    </tr>\n",
       "    <tr>\n",
       "      <th>16</th>\n",
       "      <td>0.125971</td>\n",
       "      <td>0.002974</td>\n",
       "      <td>0.367152</td>\n",
       "      <td>0.002629</td>\n",
       "      <td>0.288541</td>\n",
       "      <td>0.001769</td>\n",
       "      <td>0.001754</td>\n",
       "      <td>0.002943</td>\n",
       "      <td>0.031870</td>\n",
       "      <td>0.011217</td>\n",
       "      <td>...</td>\n",
       "      <td>39</td>\n",
       "      <td>A</td>\n",
       "      <td>40.414930</td>\n",
       "      <td>3</td>\n",
       "      <td>2</td>\n",
       "      <td>Ohio</td>\n",
       "      <td>-82.711997</td>\n",
       "      <td>G4000</td>\n",
       "      <td>105828882568</td>\n",
       "      <td>00000000000000000018</td>\n",
       "    </tr>\n",
       "    <tr>\n",
       "      <th>17</th>\n",
       "      <td>0.017159</td>\n",
       "      <td>0.013331</td>\n",
       "      <td>0.151985</td>\n",
       "      <td>0.004231</td>\n",
       "      <td>0.136030</td>\n",
       "      <td>0.004182</td>\n",
       "      <td>0.001810</td>\n",
       "      <td>0.029419</td>\n",
       "      <td>0.016138</td>\n",
       "      <td>0.040391</td>\n",
       "      <td>...</td>\n",
       "      <td>26</td>\n",
       "      <td>A</td>\n",
       "      <td>44.844177</td>\n",
       "      <td>3</td>\n",
       "      <td>2</td>\n",
       "      <td>Michigan</td>\n",
       "      <td>-85.660491</td>\n",
       "      <td>G4000</td>\n",
       "      <td>146600952990</td>\n",
       "      <td>0000000000000000002a</td>\n",
       "    </tr>\n",
       "    <tr>\n",
       "      <th>18</th>\n",
       "      <td>0.071571</td>\n",
       "      <td>0.003560</td>\n",
       "      <td>0.584582</td>\n",
       "      <td>0.001708</td>\n",
       "      <td>0.214024</td>\n",
       "      <td>0.001041</td>\n",
       "      <td>0.001615</td>\n",
       "      <td>0.001495</td>\n",
       "      <td>0.023213</td>\n",
       "      <td>0.009066</td>\n",
       "      <td>...</td>\n",
       "      <td>18</td>\n",
       "      <td>A</td>\n",
       "      <td>39.901314</td>\n",
       "      <td>3</td>\n",
       "      <td>2</td>\n",
       "      <td>Indiana</td>\n",
       "      <td>-86.291913</td>\n",
       "      <td>G4000</td>\n",
       "      <td>92789302676</td>\n",
       "      <td>00000000000000000030</td>\n",
       "    </tr>\n",
       "    <tr>\n",
       "      <th>19</th>\n",
       "      <td>0.057043</td>\n",
       "      <td>0.007376</td>\n",
       "      <td>0.404412</td>\n",
       "      <td>0.073730</td>\n",
       "      <td>0.117349</td>\n",
       "      <td>0.004208</td>\n",
       "      <td>0.001600</td>\n",
       "      <td>0.018678</td>\n",
       "      <td>0.013062</td>\n",
       "      <td>0.043291</td>\n",
       "      <td>...</td>\n",
       "      <td>27</td>\n",
       "      <td>A</td>\n",
       "      <td>46.315957</td>\n",
       "      <td>4</td>\n",
       "      <td>2</td>\n",
       "      <td>Minnesota</td>\n",
       "      <td>-94.199604</td>\n",
       "      <td>G4000</td>\n",
       "      <td>206228939448</td>\n",
       "      <td>00000000000000000003</td>\n",
       "    </tr>\n",
       "    <tr>\n",
       "      <th>20</th>\n",
       "      <td>0.008033</td>\n",
       "      <td>0.528379</td>\n",
       "      <td>0.398926</td>\n",
       "      <td>0.017630</td>\n",
       "      <td>0.009475</td>\n",
       "      <td>0.001322</td>\n",
       "      <td>0.000516</td>\n",
       "      <td>0.003650</td>\n",
       "      <td>0.008425</td>\n",
       "      <td>0.000834</td>\n",
       "      <td>...</td>\n",
       "      <td>31</td>\n",
       "      <td>A</td>\n",
       "      <td>41.543305</td>\n",
       "      <td>4</td>\n",
       "      <td>2</td>\n",
       "      <td>Nebraska</td>\n",
       "      <td>-99.811865</td>\n",
       "      <td>G4000</td>\n",
       "      <td>198956658395</td>\n",
       "      <td>00000000000000000011</td>\n",
       "    </tr>\n",
       "    <tr>\n",
       "      <th>21</th>\n",
       "      <td>0.060422</td>\n",
       "      <td>0.232768</td>\n",
       "      <td>0.545053</td>\n",
       "      <td>0.031299</td>\n",
       "      <td>0.010384</td>\n",
       "      <td>0.061681</td>\n",
       "      <td>0.001023</td>\n",
       "      <td>0.000648</td>\n",
       "      <td>0.013437</td>\n",
       "      <td>0.000346</td>\n",
       "      <td>...</td>\n",
       "      <td>38</td>\n",
       "      <td>A</td>\n",
       "      <td>47.442174</td>\n",
       "      <td>4</td>\n",
       "      <td>2</td>\n",
       "      <td>North Dakota</td>\n",
       "      <td>-100.460826</td>\n",
       "      <td>G4000</td>\n",
       "      <td>178707534813</td>\n",
       "      <td>00000000000000000020</td>\n",
       "    </tr>\n",
       "    <tr>\n",
       "      <th>22</th>\n",
       "      <td>0.316089</td>\n",
       "      <td>0.002510</td>\n",
       "      <td>0.232839</td>\n",
       "      <td>0.003187</td>\n",
       "      <td>0.352004</td>\n",
       "      <td>0.002937</td>\n",
       "      <td>0.001161</td>\n",
       "      <td>0.007200</td>\n",
       "      <td>0.014341</td>\n",
       "      <td>0.012381</td>\n",
       "      <td>...</td>\n",
       "      <td>29</td>\n",
       "      <td>A</td>\n",
       "      <td>38.350750</td>\n",
       "      <td>4</td>\n",
       "      <td>2</td>\n",
       "      <td>Missouri</td>\n",
       "      <td>-92.456783</td>\n",
       "      <td>G4000</td>\n",
       "      <td>178050802184</td>\n",
       "      <td>0000000000000000002d</td>\n",
       "    </tr>\n",
       "    <tr>\n",
       "      <th>23</th>\n",
       "      <td>0.089042</td>\n",
       "      <td>0.351513</td>\n",
       "      <td>0.470768</td>\n",
       "      <td>0.001996</td>\n",
       "      <td>0.037629</td>\n",
       "      <td>0.009217</td>\n",
       "      <td>0.000521</td>\n",
       "      <td>0.000137</td>\n",
       "      <td>0.015332</td>\n",
       "      <td>0.001378</td>\n",
       "      <td>...</td>\n",
       "      <td>20</td>\n",
       "      <td>A</td>\n",
       "      <td>38.498546</td>\n",
       "      <td>4</td>\n",
       "      <td>2</td>\n",
       "      <td>Kansas</td>\n",
       "      <td>-98.383430</td>\n",
       "      <td>G4000</td>\n",
       "      <td>211755344060</td>\n",
       "      <td>0000000000000000002f</td>\n",
       "    </tr>\n",
       "    <tr>\n",
       "      <th>24</th>\n",
       "      <td>0.076484</td>\n",
       "      <td>0.476636</td>\n",
       "      <td>0.337629</td>\n",
       "      <td>0.017905</td>\n",
       "      <td>0.003167</td>\n",
       "      <td>0.016283</td>\n",
       "      <td>0.006761</td>\n",
       "      <td>0.027104</td>\n",
       "      <td>0.010782</td>\n",
       "      <td>0.000620</td>\n",
       "      <td>...</td>\n",
       "      <td>46</td>\n",
       "      <td>A</td>\n",
       "      <td>44.446796</td>\n",
       "      <td>4</td>\n",
       "      <td>2</td>\n",
       "      <td>South Dakota</td>\n",
       "      <td>-100.238176</td>\n",
       "      <td>G4000</td>\n",
       "      <td>196346981786</td>\n",
       "      <td>00000000000000000032</td>\n",
       "    </tr>\n",
       "    <tr>\n",
       "      <th>25</th>\n",
       "      <td>0.122098</td>\n",
       "      <td>0.013024</td>\n",
       "      <td>0.735475</td>\n",
       "      <td>0.007180</td>\n",
       "      <td>0.065976</td>\n",
       "      <td>0.000324</td>\n",
       "      <td>0.000841</td>\n",
       "      <td>0.000509</td>\n",
       "      <td>0.009991</td>\n",
       "      <td>0.003408</td>\n",
       "      <td>...</td>\n",
       "      <td>19</td>\n",
       "      <td>A</td>\n",
       "      <td>42.070024</td>\n",
       "      <td>4</td>\n",
       "      <td>2</td>\n",
       "      <td>Iowa</td>\n",
       "      <td>-93.493347</td>\n",
       "      <td>G4000</td>\n",
       "      <td>144661267977</td>\n",
       "      <td>00000000000000000036</td>\n",
       "    </tr>\n",
       "    <tr>\n",
       "      <th>26</th>\n",
       "      <td>0.086414</td>\n",
       "      <td>0.010248</td>\n",
       "      <td>0.004891</td>\n",
       "      <td>0.001130</td>\n",
       "      <td>0.774405</td>\n",
       "      <td>0.005474</td>\n",
       "      <td>0.002165</td>\n",
       "      <td>0.011394</td>\n",
       "      <td>0.016053</td>\n",
       "      <td>0.059181</td>\n",
       "      <td>...</td>\n",
       "      <td>54</td>\n",
       "      <td>A</td>\n",
       "      <td>38.647285</td>\n",
       "      <td>5</td>\n",
       "      <td>3</td>\n",
       "      <td>West Virginia</td>\n",
       "      <td>-80.618327</td>\n",
       "      <td>G4000</td>\n",
       "      <td>62266474513</td>\n",
       "      <td>00000000000000000000</td>\n",
       "    </tr>\n",
       "    <tr>\n",
       "      <th>27</th>\n",
       "      <td>0.103895</td>\n",
       "      <td>0.020331</td>\n",
       "      <td>0.057757</td>\n",
       "      <td>0.085568</td>\n",
       "      <td>0.000626</td>\n",
       "      <td>0.030203</td>\n",
       "      <td>0.003744</td>\n",
       "      <td>0.168325</td>\n",
       "      <td>0.046519</td>\n",
       "      <td>0.003383</td>\n",
       "      <td>...</td>\n",
       "      <td>12</td>\n",
       "      <td>A</td>\n",
       "      <td>28.457430</td>\n",
       "      <td>5</td>\n",
       "      <td>3</td>\n",
       "      <td>Florida</td>\n",
       "      <td>-82.409148</td>\n",
       "      <td>G4000</td>\n",
       "      <td>138949136250</td>\n",
       "      <td>00000000000000000001</td>\n",
       "    </tr>\n",
       "    <tr>\n",
       "      <th>28</th>\n",
       "      <td>0.083574</td>\n",
       "      <td>0.002964</td>\n",
       "      <td>0.177399</td>\n",
       "      <td>0.025058</td>\n",
       "      <td>0.201544</td>\n",
       "      <td>0.001816</td>\n",
       "      <td>0.002000</td>\n",
       "      <td>0.016152</td>\n",
       "      <td>0.056499</td>\n",
       "      <td>0.049854</td>\n",
       "      <td>...</td>\n",
       "      <td>24</td>\n",
       "      <td>A</td>\n",
       "      <td>38.946658</td>\n",
       "      <td>5</td>\n",
       "      <td>3</td>\n",
       "      <td>Maryland</td>\n",
       "      <td>-76.674494</td>\n",
       "      <td>G4000</td>\n",
       "      <td>25151100280</td>\n",
       "      <td>00000000000000000004</td>\n",
       "    </tr>\n",
       "    <tr>\n",
       "      <th>29</th>\n",
       "      <td>0.076572</td>\n",
       "      <td>0.018346</td>\n",
       "      <td>0.143254</td>\n",
       "      <td>0.011479</td>\n",
       "      <td>0.187247</td>\n",
       "      <td>0.020312</td>\n",
       "      <td>0.002086</td>\n",
       "      <td>0.130366</td>\n",
       "      <td>0.050949</td>\n",
       "      <td>0.082658</td>\n",
       "      <td>...</td>\n",
       "      <td>37</td>\n",
       "      <td>A</td>\n",
       "      <td>35.539710</td>\n",
       "      <td>5</td>\n",
       "      <td>3</td>\n",
       "      <td>North Carolina</td>\n",
       "      <td>-79.130864</td>\n",
       "      <td>G4000</td>\n",
       "      <td>125923656064</td>\n",
       "      <td>00000000000000000008</td>\n",
       "    </tr>\n",
       "    <tr>\n",
       "      <th>30</th>\n",
       "      <td>0.007974</td>\n",
       "      <td>0.001558</td>\n",
       "      <td>0.342538</td>\n",
       "      <td>0.051637</td>\n",
       "      <td>0.031990</td>\n",
       "      <td>0.001288</td>\n",
       "      <td>0.002293</td>\n",
       "      <td>0.024382</td>\n",
       "      <td>0.051359</td>\n",
       "      <td>0.024227</td>\n",
       "      <td>...</td>\n",
       "      <td>10</td>\n",
       "      <td>A</td>\n",
       "      <td>38.998566</td>\n",
       "      <td>5</td>\n",
       "      <td>3</td>\n",
       "      <td>Delaware</td>\n",
       "      <td>-75.441644</td>\n",
       "      <td>G4000</td>\n",
       "      <td>5045925646</td>\n",
       "      <td>0000000000000000000b</td>\n",
       "    </tr>\n",
       "    <tr>\n",
       "      <th>31</th>\n",
       "      <td>0.073881</td>\n",
       "      <td>0.039019</td>\n",
       "      <td>0.132746</td>\n",
       "      <td>0.014648</td>\n",
       "      <td>0.131903</td>\n",
       "      <td>0.035957</td>\n",
       "      <td>0.001956</td>\n",
       "      <td>0.250801</td>\n",
       "      <td>0.038159</td>\n",
       "      <td>0.045613</td>\n",
       "      <td>...</td>\n",
       "      <td>13</td>\n",
       "      <td>A</td>\n",
       "      <td>32.629579</td>\n",
       "      <td>5</td>\n",
       "      <td>3</td>\n",
       "      <td>Georgia</td>\n",
       "      <td>-83.423511</td>\n",
       "      <td>G4000</td>\n",
       "      <td>149482048342</td>\n",
       "      <td>00000000000000000015</td>\n",
       "    </tr>\n",
       "    <tr>\n",
       "      <th>32</th>\n",
       "      <td>0.068802</td>\n",
       "      <td>0.037961</td>\n",
       "      <td>0.099092</td>\n",
       "      <td>0.030147</td>\n",
       "      <td>0.079076</td>\n",
       "      <td>0.036424</td>\n",
       "      <td>0.001912</td>\n",
       "      <td>0.255236</td>\n",
       "      <td>0.039788</td>\n",
       "      <td>0.041292</td>\n",
       "      <td>...</td>\n",
       "      <td>45</td>\n",
       "      <td>A</td>\n",
       "      <td>33.874178</td>\n",
       "      <td>5</td>\n",
       "      <td>3</td>\n",
       "      <td>South Carolina</td>\n",
       "      <td>-80.854264</td>\n",
       "      <td>G4000</td>\n",
       "      <td>77864918488</td>\n",
       "      <td>0000000000000000001b</td>\n",
       "    </tr>\n",
       "    <tr>\n",
       "      <th>33</th>\n",
       "      <td>0.152731</td>\n",
       "      <td>0.026658</td>\n",
       "      <td>0.057592</td>\n",
       "      <td>0.007936</td>\n",
       "      <td>0.316221</td>\n",
       "      <td>0.019587</td>\n",
       "      <td>0.001604</td>\n",
       "      <td>0.085366</td>\n",
       "      <td>0.031587</td>\n",
       "      <td>0.135334</td>\n",
       "      <td>...</td>\n",
       "      <td>51</td>\n",
       "      <td>A</td>\n",
       "      <td>37.522251</td>\n",
       "      <td>5</td>\n",
       "      <td>3</td>\n",
       "      <td>Virginia</td>\n",
       "      <td>-78.668194</td>\n",
       "      <td>G4000</td>\n",
       "      <td>102257717110</td>\n",
       "      <td>00000000000000000034</td>\n",
       "    </tr>\n",
       "    <tr>\n",
       "      <th>34</th>\n",
       "      <td>0.000000</td>\n",
       "      <td>0.000847</td>\n",
       "      <td>0.000395</td>\n",
       "      <td>0.001582</td>\n",
       "      <td>0.085922</td>\n",
       "      <td>0.000000</td>\n",
       "      <td>0.001186</td>\n",
       "      <td>0.000000</td>\n",
       "      <td>0.106259</td>\n",
       "      <td>0.001582</td>\n",
       "      <td>...</td>\n",
       "      <td>11</td>\n",
       "      <td>A</td>\n",
       "      <td>38.904103</td>\n",
       "      <td>5</td>\n",
       "      <td>3</td>\n",
       "      <td>District of Columbia</td>\n",
       "      <td>-77.017229</td>\n",
       "      <td>G4000</td>\n",
       "      <td>158340391</td>\n",
       "      <td>00000000000000000035</td>\n",
       "    </tr>\n",
       "    <tr>\n",
       "      <th>35</th>\n",
       "      <td>0.142747</td>\n",
       "      <td>0.035884</td>\n",
       "      <td>0.047774</td>\n",
       "      <td>0.004019</td>\n",
       "      <td>0.176978</td>\n",
       "      <td>0.036072</td>\n",
       "      <td>0.002324</td>\n",
       "      <td>0.259896</td>\n",
       "      <td>0.028326</td>\n",
       "      <td>0.088873</td>\n",
       "      <td>...</td>\n",
       "      <td>1</td>\n",
       "      <td>A</td>\n",
       "      <td>32.739632</td>\n",
       "      <td>6</td>\n",
       "      <td>3</td>\n",
       "      <td>Alabama</td>\n",
       "      <td>-86.843459</td>\n",
       "      <td>G4000</td>\n",
       "      <td>131174048583</td>\n",
       "      <td>00000000000000000016</td>\n",
       "    </tr>\n",
       "    <tr>\n",
       "      <th>36</th>\n",
       "      <td>0.221299</td>\n",
       "      <td>0.009833</td>\n",
       "      <td>0.113007</td>\n",
       "      <td>0.000834</td>\n",
       "      <td>0.415457</td>\n",
       "      <td>0.006758</td>\n",
       "      <td>0.001197</td>\n",
       "      <td>0.035793</td>\n",
       "      <td>0.033292</td>\n",
       "      <td>0.068981</td>\n",
       "      <td>...</td>\n",
       "      <td>47</td>\n",
       "      <td>A</td>\n",
       "      <td>35.860803</td>\n",
       "      <td>6</td>\n",
       "      <td>3</td>\n",
       "      <td>Tennessee</td>\n",
       "      <td>-86.349990</td>\n",
       "      <td>G4000</td>\n",
       "      <td>106802728188</td>\n",
       "      <td>0000000000000000001d</td>\n",
       "    </tr>\n",
       "    <tr>\n",
       "      <th>37</th>\n",
       "      <td>0.239359</td>\n",
       "      <td>0.005534</td>\n",
       "      <td>0.131119</td>\n",
       "      <td>0.001430</td>\n",
       "      <td>0.476771</td>\n",
       "      <td>0.004033</td>\n",
       "      <td>0.001790</td>\n",
       "      <td>0.006205</td>\n",
       "      <td>0.021640</td>\n",
       "      <td>0.058191</td>\n",
       "      <td>...</td>\n",
       "      <td>21</td>\n",
       "      <td>A</td>\n",
       "      <td>37.533684</td>\n",
       "      <td>6</td>\n",
       "      <td>3</td>\n",
       "      <td>Kentucky</td>\n",
       "      <td>-85.292980</td>\n",
       "      <td>G4000</td>\n",
       "      <td>102279490672</td>\n",
       "      <td>00000000000000000021</td>\n",
       "    </tr>\n",
       "    <tr>\n",
       "      <th>38</th>\n",
       "      <td>0.129983</td>\n",
       "      <td>0.022659</td>\n",
       "      <td>0.140834</td>\n",
       "      <td>0.007541</td>\n",
       "      <td>0.092936</td>\n",
       "      <td>0.029904</td>\n",
       "      <td>0.001616</td>\n",
       "      <td>0.219977</td>\n",
       "      <td>0.019550</td>\n",
       "      <td>0.113717</td>\n",
       "      <td>...</td>\n",
       "      <td>28</td>\n",
       "      <td>A</td>\n",
       "      <td>32.686471</td>\n",
       "      <td>6</td>\n",
       "      <td>3</td>\n",
       "      <td>Mississippi</td>\n",
       "      <td>-89.656138</td>\n",
       "      <td>G4000</td>\n",
       "      <td>121533519481</td>\n",
       "      <td>0000000000000000002c</td>\n",
       "    </tr>\n",
       "    <tr>\n",
       "      <th>39</th>\n",
       "      <td>0.062761</td>\n",
       "      <td>0.017867</td>\n",
       "      <td>0.149925</td>\n",
       "      <td>0.097521</td>\n",
       "      <td>0.004989</td>\n",
       "      <td>0.023932</td>\n",
       "      <td>0.001619</td>\n",
       "      <td>0.205431</td>\n",
       "      <td>0.012229</td>\n",
       "      <td>0.011410</td>\n",
       "      <td>...</td>\n",
       "      <td>22</td>\n",
       "      <td>A</td>\n",
       "      <td>30.863437</td>\n",
       "      <td>7</td>\n",
       "      <td>3</td>\n",
       "      <td>Louisiana</td>\n",
       "      <td>-91.798717</td>\n",
       "      <td>G4000</td>\n",
       "      <td>111897594374</td>\n",
       "      <td>00000000000000000014</td>\n",
       "    </tr>\n",
       "    <tr>\n",
       "      <th>40</th>\n",
       "      <td>0.107305</td>\n",
       "      <td>0.143381</td>\n",
       "      <td>0.124356</td>\n",
       "      <td>0.010054</td>\n",
       "      <td>0.021905</td>\n",
       "      <td>0.422427</td>\n",
       "      <td>0.002677</td>\n",
       "      <td>0.058010</td>\n",
       "      <td>0.012198</td>\n",
       "      <td>0.017837</td>\n",
       "      <td>...</td>\n",
       "      <td>48</td>\n",
       "      <td>A</td>\n",
       "      <td>31.434703</td>\n",
       "      <td>7</td>\n",
       "      <td>3</td>\n",
       "      <td>Texas</td>\n",
       "      <td>-99.281824</td>\n",
       "      <td>G4000</td>\n",
       "      <td>676653171537</td>\n",
       "      <td>00000000000000000019</td>\n",
       "    </tr>\n",
       "    <tr>\n",
       "      <th>41</th>\n",
       "      <td>0.128147</td>\n",
       "      <td>0.357981</td>\n",
       "      <td>0.173106</td>\n",
       "      <td>0.002178</td>\n",
       "      <td>0.172661</td>\n",
       "      <td>0.054577</td>\n",
       "      <td>0.001801</td>\n",
       "      <td>0.031496</td>\n",
       "      <td>0.017378</td>\n",
       "      <td>0.020235</td>\n",
       "      <td>...</td>\n",
       "      <td>40</td>\n",
       "      <td>A</td>\n",
       "      <td>35.590051</td>\n",
       "      <td>7</td>\n",
       "      <td>3</td>\n",
       "      <td>Oklahoma</td>\n",
       "      <td>-97.486815</td>\n",
       "      <td>G4000</td>\n",
       "      <td>177662925723</td>\n",
       "      <td>0000000000000000001c</td>\n",
       "    </tr>\n",
       "    <tr>\n",
       "      <th>42</th>\n",
       "      <td>0.148586</td>\n",
       "      <td>0.021315</td>\n",
       "      <td>0.214688</td>\n",
       "      <td>0.002892</td>\n",
       "      <td>0.200916</td>\n",
       "      <td>0.021747</td>\n",
       "      <td>0.001353</td>\n",
       "      <td>0.176334</td>\n",
       "      <td>0.013430</td>\n",
       "      <td>0.056034</td>\n",
       "      <td>...</td>\n",
       "      <td>5</td>\n",
       "      <td>A</td>\n",
       "      <td>34.895526</td>\n",
       "      <td>7</td>\n",
       "      <td>3</td>\n",
       "      <td>Arkansas</td>\n",
       "      <td>-92.444626</td>\n",
       "      <td>G4000</td>\n",
       "      <td>134768872727</td>\n",
       "      <td>0000000000000000002b</td>\n",
       "    </tr>\n",
       "    <tr>\n",
       "      <th>43</th>\n",
       "      <td>0.008567</td>\n",
       "      <td>0.159327</td>\n",
       "      <td>0.104796</td>\n",
       "      <td>0.007182</td>\n",
       "      <td>0.003543</td>\n",
       "      <td>0.398155</td>\n",
       "      <td>0.001922</td>\n",
       "      <td>0.293174</td>\n",
       "      <td>0.002990</td>\n",
       "      <td>0.000564</td>\n",
       "      <td>...</td>\n",
       "      <td>16</td>\n",
       "      <td>A</td>\n",
       "      <td>44.348422</td>\n",
       "      <td>8</td>\n",
       "      <td>4</td>\n",
       "      <td>Idaho</td>\n",
       "      <td>-114.558854</td>\n",
       "      <td>G4000</td>\n",
       "      <td>214049787659</td>\n",
       "      <td>00000000000000000006</td>\n",
       "    </tr>\n",
       "    <tr>\n",
       "      <th>44</th>\n",
       "      <td>0.001712</td>\n",
       "      <td>0.171246</td>\n",
       "      <td>0.018262</td>\n",
       "      <td>0.002096</td>\n",
       "      <td>0.002021</td>\n",
       "      <td>0.636767</td>\n",
       "      <td>0.004010</td>\n",
       "      <td>0.153112</td>\n",
       "      <td>0.003591</td>\n",
       "      <td>0.000560</td>\n",
       "      <td>...</td>\n",
       "      <td>35</td>\n",
       "      <td>A</td>\n",
       "      <td>34.434684</td>\n",
       "      <td>8</td>\n",
       "      <td>4</td>\n",
       "      <td>New Mexico</td>\n",
       "      <td>-106.131618</td>\n",
       "      <td>G4000</td>\n",
       "      <td>314196306401</td>\n",
       "      <td>0000000000000000000c</td>\n",
       "    </tr>\n",
       "    <tr>\n",
       "      <th>45</th>\n",
       "      <td>0.009588</td>\n",
       "      <td>0.047888</td>\n",
       "      <td>0.021799</td>\n",
       "      <td>0.006266</td>\n",
       "      <td>0.045874</td>\n",
       "      <td>0.579319</td>\n",
       "      <td>0.078587</td>\n",
       "      <td>0.171291</td>\n",
       "      <td>0.003532</td>\n",
       "      <td>0.003634</td>\n",
       "      <td>...</td>\n",
       "      <td>49</td>\n",
       "      <td>A</td>\n",
       "      <td>39.334992</td>\n",
       "      <td>8</td>\n",
       "      <td>4</td>\n",
       "      <td>Utah</td>\n",
       "      <td>-111.656333</td>\n",
       "      <td>G4000</td>\n",
       "      <td>212886221680</td>\n",
       "      <td>00000000000000000017</td>\n",
       "    </tr>\n",
       "    <tr>\n",
       "      <th>46</th>\n",
       "      <td>0.010676</td>\n",
       "      <td>0.299549</td>\n",
       "      <td>0.124574</td>\n",
       "      <td>0.009554</td>\n",
       "      <td>0.064543</td>\n",
       "      <td>0.246274</td>\n",
       "      <td>0.006477</td>\n",
       "      <td>0.203204</td>\n",
       "      <td>0.007943</td>\n",
       "      <td>0.004885</td>\n",
       "      <td>...</td>\n",
       "      <td>8</td>\n",
       "      <td>A</td>\n",
       "      <td>38.993848</td>\n",
       "      <td>8</td>\n",
       "      <td>4</td>\n",
       "      <td>Colorado</td>\n",
       "      <td>-105.508317</td>\n",
       "      <td>G4000</td>\n",
       "      <td>268422891711</td>\n",
       "      <td>0000000000000000001a</td>\n",
       "    </tr>\n",
       "    <tr>\n",
       "      <th>47</th>\n",
       "      <td>0.014602</td>\n",
       "      <td>0.233345</td>\n",
       "      <td>0.017717</td>\n",
       "      <td>0.011215</td>\n",
       "      <td>0.002488</td>\n",
       "      <td>0.585096</td>\n",
       "      <td>0.009641</td>\n",
       "      <td>0.110396</td>\n",
       "      <td>0.001594</td>\n",
       "      <td>0.000310</td>\n",
       "      <td>...</td>\n",
       "      <td>56</td>\n",
       "      <td>A</td>\n",
       "      <td>42.989659</td>\n",
       "      <td>8</td>\n",
       "      <td>4</td>\n",
       "      <td>Wyoming</td>\n",
       "      <td>-107.544392</td>\n",
       "      <td>G4000</td>\n",
       "      <td>251458544898</td>\n",
       "      <td>0000000000000000001e</td>\n",
       "    </tr>\n",
       "    <tr>\n",
       "      <th>48</th>\n",
       "      <td>0.003681</td>\n",
       "      <td>0.110808</td>\n",
       "      <td>0.005575</td>\n",
       "      <td>0.004965</td>\n",
       "      <td>0.002032</td>\n",
       "      <td>0.729091</td>\n",
       "      <td>0.032240</td>\n",
       "      <td>0.095700</td>\n",
       "      <td>0.001098</td>\n",
       "      <td>0.000269</td>\n",
       "      <td>...</td>\n",
       "      <td>32</td>\n",
       "      <td>A</td>\n",
       "      <td>39.331093</td>\n",
       "      <td>8</td>\n",
       "      <td>4</td>\n",
       "      <td>Nevada</td>\n",
       "      <td>-116.615147</td>\n",
       "      <td>G4000</td>\n",
       "      <td>284329506470</td>\n",
       "      <td>00000000000000000027</td>\n",
       "    </tr>\n",
       "    <tr>\n",
       "      <th>49</th>\n",
       "      <td>0.018886</td>\n",
       "      <td>0.352988</td>\n",
       "      <td>0.147816</td>\n",
       "      <td>0.008643</td>\n",
       "      <td>0.001403</td>\n",
       "      <td>0.242968</td>\n",
       "      <td>0.004082</td>\n",
       "      <td>0.204028</td>\n",
       "      <td>0.001840</td>\n",
       "      <td>0.000445</td>\n",
       "      <td>...</td>\n",
       "      <td>30</td>\n",
       "      <td>A</td>\n",
       "      <td>47.051177</td>\n",
       "      <td>8</td>\n",
       "      <td>4</td>\n",
       "      <td>Montana</td>\n",
       "      <td>-109.634817</td>\n",
       "      <td>G4000</td>\n",
       "      <td>376962738765</td>\n",
       "      <td>0000000000000000002e</td>\n",
       "    </tr>\n",
       "    <tr>\n",
       "      <th>50</th>\n",
       "      <td>0.000248</td>\n",
       "      <td>0.086336</td>\n",
       "      <td>0.017424</td>\n",
       "      <td>0.000967</td>\n",
       "      <td>0.000196</td>\n",
       "      <td>0.720692</td>\n",
       "      <td>0.022319</td>\n",
       "      <td>0.128440</td>\n",
       "      <td>0.004650</td>\n",
       "      <td>0.000170</td>\n",
       "      <td>...</td>\n",
       "      <td>4</td>\n",
       "      <td>A</td>\n",
       "      <td>34.203936</td>\n",
       "      <td>8</td>\n",
       "      <td>4</td>\n",
       "      <td>Arizona</td>\n",
       "      <td>-111.606357</td>\n",
       "      <td>G4000</td>\n",
       "      <td>294198551143</td>\n",
       "      <td>00000000000000000037</td>\n",
       "    </tr>\n",
       "    <tr>\n",
       "      <th>51</th>\n",
       "      <td>0.006186</td>\n",
       "      <td>0.160412</td>\n",
       "      <td>0.097361</td>\n",
       "      <td>0.008784</td>\n",
       "      <td>0.001585</td>\n",
       "      <td>0.396304</td>\n",
       "      <td>0.043826</td>\n",
       "      <td>0.176206</td>\n",
       "      <td>0.013119</td>\n",
       "      <td>0.012974</td>\n",
       "      <td>...</td>\n",
       "      <td>6</td>\n",
       "      <td>A</td>\n",
       "      <td>37.155177</td>\n",
       "      <td>9</td>\n",
       "      <td>4</td>\n",
       "      <td>California</td>\n",
       "      <td>-119.543418</td>\n",
       "      <td>G4000</td>\n",
       "      <td>403503931312</td>\n",
       "      <td>0000000000000000000d</td>\n",
       "    </tr>\n",
       "    <tr>\n",
       "      <th>52</th>\n",
       "      <td>0.034546</td>\n",
       "      <td>0.163258</td>\n",
       "      <td>0.048874</td>\n",
       "      <td>0.014578</td>\n",
       "      <td>0.001165</td>\n",
       "      <td>0.324962</td>\n",
       "      <td>0.006008</td>\n",
       "      <td>0.345903</td>\n",
       "      <td>0.005601</td>\n",
       "      <td>0.019215</td>\n",
       "      <td>...</td>\n",
       "      <td>41</td>\n",
       "      <td>A</td>\n",
       "      <td>43.971713</td>\n",
       "      <td>9</td>\n",
       "      <td>4</td>\n",
       "      <td>Oregon</td>\n",
       "      <td>-120.622958</td>\n",
       "      <td>G4000</td>\n",
       "      <td>248606993270</td>\n",
       "      <td>00000000000000000010</td>\n",
       "    </tr>\n",
       "    <tr>\n",
       "      <th>53</th>\n",
       "      <td>0.021928</td>\n",
       "      <td>0.144529</td>\n",
       "      <td>0.141526</td>\n",
       "      <td>0.007561</td>\n",
       "      <td>0.006649</td>\n",
       "      <td>0.147974</td>\n",
       "      <td>0.011685</td>\n",
       "      <td>0.384684</td>\n",
       "      <td>0.009929</td>\n",
       "      <td>0.016770</td>\n",
       "      <td>...</td>\n",
       "      <td>53</td>\n",
       "      <td>A</td>\n",
       "      <td>47.407324</td>\n",
       "      <td>9</td>\n",
       "      <td>4</td>\n",
       "      <td>Washington</td>\n",
       "      <td>-120.575800</td>\n",
       "      <td>G4000</td>\n",
       "      <td>172112588220</td>\n",
       "      <td>00000000000000000013</td>\n",
       "    </tr>\n",
       "    <tr>\n",
       "      <th>54</th>\n",
       "      <td>0.000000</td>\n",
       "      <td>0.000000</td>\n",
       "      <td>0.000000</td>\n",
       "      <td>0.000000</td>\n",
       "      <td>0.000000</td>\n",
       "      <td>0.000000</td>\n",
       "      <td>0.000000</td>\n",
       "      <td>0.000000</td>\n",
       "      <td>0.000000</td>\n",
       "      <td>0.000000</td>\n",
       "      <td>...</td>\n",
       "      <td>15</td>\n",
       "      <td>A</td>\n",
       "      <td>19.597764</td>\n",
       "      <td>9</td>\n",
       "      <td>4</td>\n",
       "      <td>Hawaii</td>\n",
       "      <td>-155.502443</td>\n",
       "      <td>G4000</td>\n",
       "      <td>16633990195</td>\n",
       "      <td>0000000000000000001f</td>\n",
       "    </tr>\n",
       "    <tr>\n",
       "      <th>55</th>\n",
       "      <td>0.000000</td>\n",
       "      <td>0.000000</td>\n",
       "      <td>0.000000</td>\n",
       "      <td>0.000000</td>\n",
       "      <td>0.000000</td>\n",
       "      <td>0.000000</td>\n",
       "      <td>0.000000</td>\n",
       "      <td>0.000000</td>\n",
       "      <td>0.000000</td>\n",
       "      <td>0.000000</td>\n",
       "      <td>...</td>\n",
       "      <td>2</td>\n",
       "      <td>A</td>\n",
       "      <td>63.347356</td>\n",
       "      <td>9</td>\n",
       "      <td>4</td>\n",
       "      <td>Alaska</td>\n",
       "      <td>-152.839733</td>\n",
       "      <td>G4000</td>\n",
       "      <td>1478839695958</td>\n",
       "      <td>00000000000000000028</td>\n",
       "    </tr>\n",
       "  </tbody>\n",
       "</table>\n",
       "<p>56 rows × 32 columns</p>\n",
       "</div>"
      ],
      "text/plain": [
       "    Class_81  Class_71  Class_82  Class_95  Class_41  Class_52  Class_31  \\\n",
       "0   0.000000  0.000000  0.000000  0.000000  0.000000  0.000000  0.000000   \n",
       "1   0.000000  0.000000  0.000000  0.000000  0.000000  0.000000  0.000000   \n",
       "2   0.000000  0.000000  0.000000  0.000000  0.000000  0.000000  0.000000   \n",
       "3   0.000000  0.000000  0.000000  0.000000  0.000000  0.000000  0.000000   \n",
       "4   0.000000  0.000000  0.000000  0.000000  0.000000  0.000000  0.000000   \n",
       "5   0.020269  0.012710  0.004369  0.007909  0.214658  0.007334  0.006984   \n",
       "6   0.029711  0.005021  0.002914  0.004283  0.218584  0.007347  0.003104   \n",
       "7   0.126136  0.001842  0.017457  0.004591  0.385035  0.002983  0.001330   \n",
       "8   0.032246  0.003487  0.014948  0.006087  0.444988  0.001835  0.002284   \n",
       "9   0.024458  0.016804  0.011597  0.008549  0.141272  0.009691  0.001269   \n",
       "10  0.026958  0.006567  0.009781  0.012700  0.168542  0.003266  0.005803   \n",
       "11  0.038202  0.004312  0.087133  0.041217  0.182243  0.002933  0.004473   \n",
       "12  0.135248  0.005184  0.098861  0.001349  0.498012  0.002723  0.002165   \n",
       "13  0.124131  0.002994  0.079442  0.004631  0.350351  0.002710  0.001595   \n",
       "14  0.067760  0.002549  0.649505  0.003203  0.129663  0.000373  0.001136   \n",
       "15  0.067639  0.005240  0.257861  0.025747  0.216672  0.002443  0.001068   \n",
       "16  0.125971  0.002974  0.367152  0.002629  0.288541  0.001769  0.001754   \n",
       "17  0.017159  0.013331  0.151985  0.004231  0.136030  0.004182  0.001810   \n",
       "18  0.071571  0.003560  0.584582  0.001708  0.214024  0.001041  0.001615   \n",
       "19  0.057043  0.007376  0.404412  0.073730  0.117349  0.004208  0.001600   \n",
       "20  0.008033  0.528379  0.398926  0.017630  0.009475  0.001322  0.000516   \n",
       "21  0.060422  0.232768  0.545053  0.031299  0.010384  0.061681  0.001023   \n",
       "22  0.316089  0.002510  0.232839  0.003187  0.352004  0.002937  0.001161   \n",
       "23  0.089042  0.351513  0.470768  0.001996  0.037629  0.009217  0.000521   \n",
       "24  0.076484  0.476636  0.337629  0.017905  0.003167  0.016283  0.006761   \n",
       "25  0.122098  0.013024  0.735475  0.007180  0.065976  0.000324  0.000841   \n",
       "26  0.086414  0.010248  0.004891  0.001130  0.774405  0.005474  0.002165   \n",
       "27  0.103895  0.020331  0.057757  0.085568  0.000626  0.030203  0.003744   \n",
       "28  0.083574  0.002964  0.177399  0.025058  0.201544  0.001816  0.002000   \n",
       "29  0.076572  0.018346  0.143254  0.011479  0.187247  0.020312  0.002086   \n",
       "30  0.007974  0.001558  0.342538  0.051637  0.031990  0.001288  0.002293   \n",
       "31  0.073881  0.039019  0.132746  0.014648  0.131903  0.035957  0.001956   \n",
       "32  0.068802  0.037961  0.099092  0.030147  0.079076  0.036424  0.001912   \n",
       "33  0.152731  0.026658  0.057592  0.007936  0.316221  0.019587  0.001604   \n",
       "34  0.000000  0.000847  0.000395  0.001582  0.085922  0.000000  0.001186   \n",
       "35  0.142747  0.035884  0.047774  0.004019  0.176978  0.036072  0.002324   \n",
       "36  0.221299  0.009833  0.113007  0.000834  0.415457  0.006758  0.001197   \n",
       "37  0.239359  0.005534  0.131119  0.001430  0.476771  0.004033  0.001790   \n",
       "38  0.129983  0.022659  0.140834  0.007541  0.092936  0.029904  0.001616   \n",
       "39  0.062761  0.017867  0.149925  0.097521  0.004989  0.023932  0.001619   \n",
       "40  0.107305  0.143381  0.124356  0.010054  0.021905  0.422427  0.002677   \n",
       "41  0.128147  0.357981  0.173106  0.002178  0.172661  0.054577  0.001801   \n",
       "42  0.148586  0.021315  0.214688  0.002892  0.200916  0.021747  0.001353   \n",
       "43  0.008567  0.159327  0.104796  0.007182  0.003543  0.398155  0.001922   \n",
       "44  0.001712  0.171246  0.018262  0.002096  0.002021  0.636767  0.004010   \n",
       "45  0.009588  0.047888  0.021799  0.006266  0.045874  0.579319  0.078587   \n",
       "46  0.010676  0.299549  0.124574  0.009554  0.064543  0.246274  0.006477   \n",
       "47  0.014602  0.233345  0.017717  0.011215  0.002488  0.585096  0.009641   \n",
       "48  0.003681  0.110808  0.005575  0.004965  0.002032  0.729091  0.032240   \n",
       "49  0.018886  0.352988  0.147816  0.008643  0.001403  0.242968  0.004082   \n",
       "50  0.000248  0.086336  0.017424  0.000967  0.000196  0.720692  0.022319   \n",
       "51  0.006186  0.160412  0.097361  0.008784  0.001585  0.396304  0.043826   \n",
       "52  0.034546  0.163258  0.048874  0.014578  0.001165  0.324962  0.006008   \n",
       "53  0.021928  0.144529  0.141526  0.007561  0.006649  0.147974  0.011685   \n",
       "54  0.000000  0.000000  0.000000  0.000000  0.000000  0.000000  0.000000   \n",
       "55  0.000000  0.000000  0.000000  0.000000  0.000000  0.000000  0.000000   \n",
       "\n",
       "    Class_42  Class_21  Class_43  ...  STATEFP  FUNCSTAT   INTPTLAT  DIVISION  \\\n",
       "0   0.000000  0.000000  0.000000  ...       78         A  18.326748         0   \n",
       "1   0.000000  0.000000  0.000000  ...       69         A  14.936784         0   \n",
       "2   0.000000  0.000000  0.000000  ...       66         A  13.438289         0   \n",
       "3   0.000000  0.000000  0.000000  ...       60         A -14.267159         0   \n",
       "4   0.000000  0.000000  0.000000  ...       72         A  18.217648         0   \n",
       "5   0.025483  0.026225  0.100434  ...       44         A  41.597419         1   \n",
       "6   0.180476  0.021646  0.375819  ...       33         A  43.672691         1   \n",
       "7   0.125663  0.015558  0.216858  ...       50         A  44.068577         1   \n",
       "8   0.009771  0.065554  0.092621  ...        9         A  41.579864         1   \n",
       "9   0.195685  0.009491  0.326083  ...       23         A  45.409284         1   \n",
       "10  0.064140  0.034682  0.171464  ...       25         A  42.156520         1   \n",
       "11  0.033885  0.088431  0.038224  ...       34         A  40.107274         2   \n",
       "12  0.011223  0.042690  0.107583  ...       42         A  40.902496         2   \n",
       "13  0.069473  0.028091  0.086890  ...       36         A  42.913397         2   \n",
       "14  0.000921  0.014592  0.005909  ...       17         A  40.102875         3   \n",
       "15  0.013975  0.014824  0.051730  ...       55         A  44.630907         3   \n",
       "16  0.002943  0.031870  0.011217  ...       39         A  40.414930         3   \n",
       "17  0.029419  0.016138  0.040391  ...       26         A  44.844177         3   \n",
       "18  0.001495  0.023213  0.009066  ...       18         A  39.901314         3   \n",
       "19  0.018678  0.013062  0.043291  ...       27         A  46.315957         4   \n",
       "20  0.003650  0.008425  0.000834  ...       31         A  41.543305         4   \n",
       "21  0.000648  0.013437  0.000346  ...       38         A  47.442174         4   \n",
       "22  0.007200  0.014341  0.012381  ...       29         A  38.350750         4   \n",
       "23  0.000137  0.015332  0.001378  ...       20         A  38.498546         4   \n",
       "24  0.027104  0.010782  0.000620  ...       46         A  44.446796         4   \n",
       "25  0.000509  0.009991  0.003408  ...       19         A  42.070024         4   \n",
       "26  0.011394  0.016053  0.059181  ...       54         A  38.647285         5   \n",
       "27  0.168325  0.046519  0.003383  ...       12         A  28.457430         5   \n",
       "28  0.016152  0.056499  0.049854  ...       24         A  38.946658         5   \n",
       "29  0.130366  0.050949  0.082658  ...       37         A  35.539710         5   \n",
       "30  0.024382  0.051359  0.024227  ...       10         A  38.998566         5   \n",
       "31  0.250801  0.038159  0.045613  ...       13         A  32.629579         5   \n",
       "32  0.255236  0.039788  0.041292  ...       45         A  33.874178         5   \n",
       "33  0.085366  0.031587  0.135334  ...       51         A  37.522251         5   \n",
       "34  0.000000  0.106259  0.001582  ...       11         A  38.904103         5   \n",
       "35  0.259896  0.028326  0.088873  ...        1         A  32.739632         6   \n",
       "36  0.035793  0.033292  0.068981  ...       47         A  35.860803         6   \n",
       "37  0.006205  0.021640  0.058191  ...       21         A  37.533684         6   \n",
       "38  0.219977  0.019550  0.113717  ...       28         A  32.686471         6   \n",
       "39  0.205431  0.012229  0.011410  ...       22         A  30.863437         7   \n",
       "40  0.058010  0.012198  0.017837  ...       48         A  31.434703         7   \n",
       "41  0.031496  0.017378  0.020235  ...       40         A  35.590051         7   \n",
       "42  0.176334  0.013430  0.056034  ...        5         A  34.895526         7   \n",
       "43  0.293174  0.002990  0.000564  ...       16         A  44.348422         8   \n",
       "44  0.153112  0.003591  0.000560  ...       35         A  34.434684         8   \n",
       "45  0.171291  0.003532  0.003634  ...       49         A  39.334992         8   \n",
       "46  0.203204  0.007943  0.004885  ...        8         A  38.993848         8   \n",
       "47  0.110396  0.001594  0.000310  ...       56         A  42.989659         8   \n",
       "48  0.095700  0.001098  0.000269  ...       32         A  39.331093         8   \n",
       "49  0.204028  0.001840  0.000445  ...       30         A  47.051177         8   \n",
       "50  0.128440  0.004650  0.000170  ...        4         A  34.203936         8   \n",
       "51  0.176206  0.013119  0.012974  ...        6         A  37.155177         9   \n",
       "52  0.345903  0.005601  0.019215  ...       41         A  43.971713         9   \n",
       "53  0.384684  0.009929  0.016770  ...       53         A  47.407324         9   \n",
       "54  0.000000  0.000000  0.000000  ...       15         A  19.597764         9   \n",
       "55  0.000000  0.000000  0.000000  ...        2         A  63.347356         9   \n",
       "\n",
       "    REGION                                          NAME    INTPTLON  MTFCC  \\\n",
       "0        9                  United States Virgin Islands  -64.971251  G4000   \n",
       "1        9  Commonwealth of the Northern Mariana Islands  145.601021  G4000   \n",
       "2        9                                          Guam  144.772949  G4000   \n",
       "3        9                                American Samoa -170.668267  G4000   \n",
       "4        9                                   Puerto Rico  -66.410799  G4000   \n",
       "5        1                                  Rhode Island  -71.527272  G4000   \n",
       "6        1                                 New Hampshire  -71.584315  G4000   \n",
       "7        1                                       Vermont  -72.669184  G4000   \n",
       "8        1                                   Connecticut  -72.746657  G4000   \n",
       "9        1                                         Maine  -68.666616  G4000   \n",
       "10       1                                 Massachusetts  -71.489592  G4000   \n",
       "11       1                                    New Jersey  -74.665201  G4000   \n",
       "12       1                                  Pennsylvania  -77.833451  G4000   \n",
       "13       1                                      New York  -75.596272  G4000   \n",
       "14       2                                      Illinois  -89.152611  G4000   \n",
       "15       2                                     Wisconsin  -89.709392  G4000   \n",
       "16       2                                          Ohio  -82.711997  G4000   \n",
       "17       2                                      Michigan  -85.660491  G4000   \n",
       "18       2                                       Indiana  -86.291913  G4000   \n",
       "19       2                                     Minnesota  -94.199604  G4000   \n",
       "20       2                                      Nebraska  -99.811865  G4000   \n",
       "21       2                                  North Dakota -100.460826  G4000   \n",
       "22       2                                      Missouri  -92.456783  G4000   \n",
       "23       2                                        Kansas  -98.383430  G4000   \n",
       "24       2                                  South Dakota -100.238176  G4000   \n",
       "25       2                                          Iowa  -93.493347  G4000   \n",
       "26       3                                 West Virginia  -80.618327  G4000   \n",
       "27       3                                       Florida  -82.409148  G4000   \n",
       "28       3                                      Maryland  -76.674494  G4000   \n",
       "29       3                                North Carolina  -79.130864  G4000   \n",
       "30       3                                      Delaware  -75.441644  G4000   \n",
       "31       3                                       Georgia  -83.423511  G4000   \n",
       "32       3                                South Carolina  -80.854264  G4000   \n",
       "33       3                                      Virginia  -78.668194  G4000   \n",
       "34       3                          District of Columbia  -77.017229  G4000   \n",
       "35       3                                       Alabama  -86.843459  G4000   \n",
       "36       3                                     Tennessee  -86.349990  G4000   \n",
       "37       3                                      Kentucky  -85.292980  G4000   \n",
       "38       3                                   Mississippi  -89.656138  G4000   \n",
       "39       3                                     Louisiana  -91.798717  G4000   \n",
       "40       3                                         Texas  -99.281824  G4000   \n",
       "41       3                                      Oklahoma  -97.486815  G4000   \n",
       "42       3                                      Arkansas  -92.444626  G4000   \n",
       "43       4                                         Idaho -114.558854  G4000   \n",
       "44       4                                    New Mexico -106.131618  G4000   \n",
       "45       4                                          Utah -111.656333  G4000   \n",
       "46       4                                      Colorado -105.508317  G4000   \n",
       "47       4                                       Wyoming -107.544392  G4000   \n",
       "48       4                                        Nevada -116.615147  G4000   \n",
       "49       4                                       Montana -109.634817  G4000   \n",
       "50       4                                       Arizona -111.606357  G4000   \n",
       "51       4                                    California -119.543418  G4000   \n",
       "52       4                                        Oregon -120.622958  G4000   \n",
       "53       4                                    Washington -120.575800  G4000   \n",
       "54       4                                        Hawaii -155.502443  G4000   \n",
       "55       4                                        Alaska -152.839733  G4000   \n",
       "\n",
       "            ALAND          system:index  \n",
       "0       348021896  00000000000000000022  \n",
       "1       472292529  00000000000000000023  \n",
       "2       543555840  00000000000000000024  \n",
       "3       197759063  00000000000000000029  \n",
       "4      8868896030  00000000000000000031  \n",
       "5      2677779902  00000000000000000005  \n",
       "6     23189413166  00000000000000000007  \n",
       "7     23874175944  00000000000000000009  \n",
       "8     12542497068  0000000000000000000a  \n",
       "9     79887426037  00000000000000000025  \n",
       "10    20205125364  00000000000000000033  \n",
       "11    19047825980  0000000000000000000e  \n",
       "12   115884442321  00000000000000000012  \n",
       "13   122049149763  00000000000000000026  \n",
       "14   143780567633  00000000000000000002  \n",
       "15   140290039723  0000000000000000000f  \n",
       "16   105828882568  00000000000000000018  \n",
       "17   146600952990  0000000000000000002a  \n",
       "18    92789302676  00000000000000000030  \n",
       "19   206228939448  00000000000000000003  \n",
       "20   198956658395  00000000000000000011  \n",
       "21   178707534813  00000000000000000020  \n",
       "22   178050802184  0000000000000000002d  \n",
       "23   211755344060  0000000000000000002f  \n",
       "24   196346981786  00000000000000000032  \n",
       "25   144661267977  00000000000000000036  \n",
       "26    62266474513  00000000000000000000  \n",
       "27   138949136250  00000000000000000001  \n",
       "28    25151100280  00000000000000000004  \n",
       "29   125923656064  00000000000000000008  \n",
       "30     5045925646  0000000000000000000b  \n",
       "31   149482048342  00000000000000000015  \n",
       "32    77864918488  0000000000000000001b  \n",
       "33   102257717110  00000000000000000034  \n",
       "34      158340391  00000000000000000035  \n",
       "35   131174048583  00000000000000000016  \n",
       "36   106802728188  0000000000000000001d  \n",
       "37   102279490672  00000000000000000021  \n",
       "38   121533519481  0000000000000000002c  \n",
       "39   111897594374  00000000000000000014  \n",
       "40   676653171537  00000000000000000019  \n",
       "41   177662925723  0000000000000000001c  \n",
       "42   134768872727  0000000000000000002b  \n",
       "43   214049787659  00000000000000000006  \n",
       "44   314196306401  0000000000000000000c  \n",
       "45   212886221680  00000000000000000017  \n",
       "46   268422891711  0000000000000000001a  \n",
       "47   251458544898  0000000000000000001e  \n",
       "48   284329506470  00000000000000000027  \n",
       "49   376962738765  0000000000000000002e  \n",
       "50   294198551143  00000000000000000037  \n",
       "51   403503931312  0000000000000000000d  \n",
       "52   248606993270  00000000000000000010  \n",
       "53   172112588220  00000000000000000013  \n",
       "54    16633990195  0000000000000000001f  \n",
       "55  1478839695958  00000000000000000028  \n",
       "\n",
       "[56 rows x 32 columns]"
      ]
     },
     "execution_count": 84,
     "metadata": {},
     "output_type": "execute_result"
    }
   ],
   "source": [
    "nlcd_stats = 'exports/nlcd_stats_pct.csv'\n",
    "geemap.csv_to_df(nlcd_stats)"
   ]
  },
  {
   "cell_type": "markdown",
   "metadata": {},
   "source": [
    "#### Zonal statistics with two images"
   ]
  },
  {
   "cell_type": "markdown",
   "metadata": {},
   "source": [
    "The zonal statistics by zone algorithm is similar to the zonal statistics by group algorithm, but it takes an image as the zone input instead of a feature collection."
   ]
  },
  {
   "cell_type": "code",
   "execution_count": 85,
   "metadata": {},
   "outputs": [
    {
     "data": {
      "text/html": [
       "\n",
       "            <style>\n",
       "                .geemap-dark {\n",
       "                    --jp-widgets-color: white;\n",
       "                    --jp-widgets-label-color: white;\n",
       "                    --jp-ui-font-color1: white;\n",
       "                    --jp-layout-color2: #454545;\n",
       "                    background-color: #383838;\n",
       "                }\n",
       "                    \n",
       "                .geemap-dark .jupyter-button {\n",
       "                    --jp-layout-color3: #383838;\n",
       "                }\n",
       "                \n",
       "                .geemap-colab {\n",
       "                    background-color: var(--colab-primary-surface-color, white);\n",
       "                }\n",
       "                    \n",
       "                .geemap-colab .jupyter-button {\n",
       "                    --jp-layout-color3: var(--colab-primary-surface-color, white);\n",
       "                }\n",
       "            </style>\n",
       "            "
      ],
      "text/plain": [
       "<IPython.core.display.HTML object>"
      ]
     },
     "metadata": {},
     "output_type": "display_data"
    },
    {
     "data": {
      "application/vnd.jupyter.widget-view+json": {
       "model_id": "07f1b8f8fe9e45e485940b87a8d7452f",
       "version_major": 2,
       "version_minor": 0
      },
      "text/plain": [
       "Map(center=[40, -100], controls=(WidgetControl(options=['position', 'transparent_bg'], widget=SearchDataGUI(ch…"
      ]
     },
     "execution_count": 85,
     "metadata": {},
     "output_type": "execute_result"
    }
   ],
   "source": [
    "m = geemap.Map(center=[40, -100], zoom=4)\n",
    "dem = ee.Image('USGS/3DEP/10m')\n",
    "vis = {'min': 0, 'max': 4000, 'palette': 'terrain'}\n",
    "m.add_layer(dem, vis, 'DEM')\n",
    "m"
   ]
  },
  {
   "cell_type": "code",
   "execution_count": 87,
   "metadata": {},
   "outputs": [
    {
     "data": {
      "text/html": [
       "\n",
       "            <style>\n",
       "                .geemap-dark {\n",
       "                    --jp-widgets-color: white;\n",
       "                    --jp-widgets-label-color: white;\n",
       "                    --jp-ui-font-color1: white;\n",
       "                    --jp-layout-color2: #454545;\n",
       "                    background-color: #383838;\n",
       "                }\n",
       "                    \n",
       "                .geemap-dark .jupyter-button {\n",
       "                    --jp-layout-color3: #383838;\n",
       "                }\n",
       "                \n",
       "                .geemap-colab {\n",
       "                    background-color: var(--colab-primary-surface-color, white);\n",
       "                }\n",
       "                    \n",
       "                .geemap-colab .jupyter-button {\n",
       "                    --jp-layout-color3: var(--colab-primary-surface-color, white);\n",
       "                }\n",
       "            </style>\n",
       "            "
      ],
      "text/plain": [
       "<IPython.core.display.HTML object>"
      ]
     },
     "metadata": {},
     "output_type": "display_data"
    }
   ],
   "source": [
    "landcover = ee.Image(\"USGS/NLCD_RELEASES/2021_REL/NLCD/2021\").select('landcover')\n",
    "m.add_layer(landcover, {}, 'NLCD 2021')\n",
    "m.add_legend(title='NLCD Land Cover Classification', builtin_legend='NLCD')"
   ]
  },
  {
   "cell_type": "markdown",
   "metadata": {},
   "source": [
    "Computer the mean elevation of each land cover type."
   ]
  },
  {
   "cell_type": "code",
   "execution_count": 88,
   "metadata": {},
   "outputs": [
    {
     "data": {
      "text/html": [
       "\n",
       "            <style>\n",
       "                .geemap-dark {\n",
       "                    --jp-widgets-color: white;\n",
       "                    --jp-widgets-label-color: white;\n",
       "                    --jp-ui-font-color1: white;\n",
       "                    --jp-layout-color2: #454545;\n",
       "                    background-color: #383838;\n",
       "                }\n",
       "                    \n",
       "                .geemap-dark .jupyter-button {\n",
       "                    --jp-layout-color3: #383838;\n",
       "                }\n",
       "                \n",
       "                .geemap-colab {\n",
       "                    background-color: var(--colab-primary-surface-color, white);\n",
       "                }\n",
       "                    \n",
       "                .geemap-colab .jupyter-button {\n",
       "                    --jp-layout-color3: var(--colab-primary-surface-color, white);\n",
       "                }\n",
       "            </style>\n",
       "            "
      ],
      "text/plain": [
       "<IPython.core.display.HTML object>"
      ]
     },
     "metadata": {},
     "output_type": "display_data"
    },
    {
     "data": {
      "text/html": [
       "<div>\n",
       "<style scoped>\n",
       "    .dataframe tbody tr th:only-of-type {\n",
       "        vertical-align: middle;\n",
       "    }\n",
       "\n",
       "    .dataframe tbody tr th {\n",
       "        vertical-align: top;\n",
       "    }\n",
       "\n",
       "    .dataframe thead th {\n",
       "        text-align: right;\n",
       "    }\n",
       "</style>\n",
       "<table border=\"1\" class=\"dataframe\">\n",
       "  <thead>\n",
       "    <tr style=\"text-align: right;\">\n",
       "      <th></th>\n",
       "      <th>zone</th>\n",
       "      <th>stat</th>\n",
       "    </tr>\n",
       "  </thead>\n",
       "  <tbody>\n",
       "    <tr>\n",
       "      <th>0</th>\n",
       "      <td>11</td>\n",
       "      <td>157.088502</td>\n",
       "    </tr>\n",
       "    <tr>\n",
       "      <th>1</th>\n",
       "      <td>12</td>\n",
       "      <td>2087.599387</td>\n",
       "    </tr>\n",
       "    <tr>\n",
       "      <th>2</th>\n",
       "      <td>21</td>\n",
       "      <td>199.447195</td>\n",
       "    </tr>\n",
       "    <tr>\n",
       "      <th>3</th>\n",
       "      <td>22</td>\n",
       "      <td>235.956287</td>\n",
       "    </tr>\n",
       "    <tr>\n",
       "      <th>4</th>\n",
       "      <td>23</td>\n",
       "      <td>245.613319</td>\n",
       "    </tr>\n",
       "    <tr>\n",
       "      <th>5</th>\n",
       "      <td>24</td>\n",
       "      <td>179.232739</td>\n",
       "    </tr>\n",
       "    <tr>\n",
       "      <th>6</th>\n",
       "      <td>31</td>\n",
       "      <td>1136.430165</td>\n",
       "    </tr>\n",
       "    <tr>\n",
       "      <th>7</th>\n",
       "      <td>41</td>\n",
       "      <td>408.416279</td>\n",
       "    </tr>\n",
       "    <tr>\n",
       "      <th>8</th>\n",
       "      <td>42</td>\n",
       "      <td>1139.498470</td>\n",
       "    </tr>\n",
       "    <tr>\n",
       "      <th>9</th>\n",
       "      <td>43</td>\n",
       "      <td>296.424302</td>\n",
       "    </tr>\n",
       "    <tr>\n",
       "      <th>10</th>\n",
       "      <td>52</td>\n",
       "      <td>1397.099128</td>\n",
       "    </tr>\n",
       "    <tr>\n",
       "      <th>11</th>\n",
       "      <td>71</td>\n",
       "      <td>971.619914</td>\n",
       "    </tr>\n",
       "    <tr>\n",
       "      <th>12</th>\n",
       "      <td>81</td>\n",
       "      <td>262.048099</td>\n",
       "    </tr>\n",
       "    <tr>\n",
       "      <th>13</th>\n",
       "      <td>82</td>\n",
       "      <td>431.391148</td>\n",
       "    </tr>\n",
       "    <tr>\n",
       "      <th>14</th>\n",
       "      <td>90</td>\n",
       "      <td>163.314145</td>\n",
       "    </tr>\n",
       "    <tr>\n",
       "      <th>15</th>\n",
       "      <td>95</td>\n",
       "      <td>329.891366</td>\n",
       "    </tr>\n",
       "  </tbody>\n",
       "</table>\n",
       "</div>"
      ],
      "text/plain": [
       "    zone         stat\n",
       "0     11   157.088502\n",
       "1     12  2087.599387\n",
       "2     21   199.447195\n",
       "3     22   235.956287\n",
       "4     23   245.613319\n",
       "5     24   179.232739\n",
       "6     31  1136.430165\n",
       "7     41   408.416279\n",
       "8     42  1139.498470\n",
       "9     43   296.424302\n",
       "10    52  1397.099128\n",
       "11    71   971.619914\n",
       "12    81   262.048099\n",
       "13    82   431.391148\n",
       "14    90   163.314145\n",
       "15    95   329.891366"
      ]
     },
     "execution_count": 88,
     "metadata": {},
     "output_type": "execute_result"
    }
   ],
   "source": [
    "stats = geemap.image_stats_by_zone(dem, landcover, reducer='MEAN')\n",
    "stats"
   ]
  },
  {
   "cell_type": "code",
   "execution_count": 89,
   "metadata": {},
   "outputs": [
    {
     "data": {
      "text/html": [
       "\n",
       "            <style>\n",
       "                .geemap-dark {\n",
       "                    --jp-widgets-color: white;\n",
       "                    --jp-widgets-label-color: white;\n",
       "                    --jp-ui-font-color1: white;\n",
       "                    --jp-layout-color2: #454545;\n",
       "                    background-color: #383838;\n",
       "                }\n",
       "                    \n",
       "                .geemap-dark .jupyter-button {\n",
       "                    --jp-layout-color3: #383838;\n",
       "                }\n",
       "                \n",
       "                .geemap-colab {\n",
       "                    background-color: var(--colab-primary-surface-color, white);\n",
       "                }\n",
       "                    \n",
       "                .geemap-colab .jupyter-button {\n",
       "                    --jp-layout-color3: var(--colab-primary-surface-color, white);\n",
       "                }\n",
       "            </style>\n",
       "            "
      ],
      "text/plain": [
       "<IPython.core.display.HTML object>"
      ]
     },
     "metadata": {},
     "output_type": "display_data"
    }
   ],
   "source": [
    "stats.to_csv('exports/mean.csv', index=False)"
   ]
  },
  {
   "cell_type": "markdown",
   "metadata": {},
   "source": [
    "Compute the standard deviation of each land cover type."
   ]
  },
  {
   "cell_type": "code",
   "execution_count": null,
   "metadata": {},
   "outputs": [],
   "source": [
    "geemap.image_stats_by_zone(dem, landcover, out_csv=\"std.csv\", reducer='STD')"
   ]
  },
  {
   "cell_type": "code",
   "execution_count": null,
   "metadata": {},
   "outputs": [],
   "source": [
    "geemap.csv_to_df('exports/std.csv')"
   ]
  },
  {
   "cell_type": "markdown",
   "metadata": {},
   "source": [
    "### Exercise 3 - Zonal statistics\n",
    "\n",
    "Find out which state has the highest mean temperature on in the United States on June 28, 2023. Relevant Earth Engine assets:\n",
    "\n",
    "-   [ee.FeatureCollection(\"TIGER/2018/States\")](https://developers.google.com/earth-engine/datasets/catalog/TIGER_2018_States)\n",
    "-   [ee.ImageCollection(\"NOAA/GFS0P25\")](https://developers.google.com/earth-engine/datasets/catalog/NOAA_GFS0P25)\n",
    "\n",
    "![](https://i.imgur.com/GZCHHz3.png)"
   ]
  },
  {
   "cell_type": "code",
   "execution_count": 96,
   "metadata": {},
   "outputs": [
    {
     "data": {
      "text/html": [
       "\n",
       "            <style>\n",
       "                .geemap-dark {\n",
       "                    --jp-widgets-color: white;\n",
       "                    --jp-widgets-label-color: white;\n",
       "                    --jp-ui-font-color1: white;\n",
       "                    --jp-layout-color2: #454545;\n",
       "                    background-color: #383838;\n",
       "                }\n",
       "                    \n",
       "                .geemap-dark .jupyter-button {\n",
       "                    --jp-layout-color3: #383838;\n",
       "                }\n",
       "                \n",
       "                .geemap-colab {\n",
       "                    background-color: var(--colab-primary-surface-color, white);\n",
       "                }\n",
       "                    \n",
       "                .geemap-colab .jupyter-button {\n",
       "                    --jp-layout-color3: var(--colab-primary-surface-color, white);\n",
       "                }\n",
       "            </style>\n",
       "            "
      ],
      "text/plain": [
       "<IPython.core.display.HTML object>"
      ]
     },
     "metadata": {},
     "output_type": "display_data"
    },
    {
     "name": "stdout",
     "output_type": "stream",
     "text": [
      "Computing statistics ...\n"
     ]
    },
    {
     "ename": "Exception",
     "evalue": "ImageCollection.toBands: Too many bands (more than 5000).",
     "output_type": "error",
     "traceback": [
      "\u001b[0;31m---------------------------------------------------------------------------\u001b[0m",
      "\u001b[0;31mHttpError\u001b[0m                                 Traceback (most recent call last)",
      "File \u001b[0;32m~/opt/anaconda3/envs/gee/lib/python3.9/site-packages/ee/data.py:354\u001b[0m, in \u001b[0;36m_execute_cloud_call\u001b[0;34m(call, num_retries)\u001b[0m\n\u001b[1;32m    353\u001b[0m \u001b[39mtry\u001b[39;00m:\n\u001b[0;32m--> 354\u001b[0m   \u001b[39mreturn\u001b[39;00m call\u001b[39m.\u001b[39;49mexecute(num_retries\u001b[39m=\u001b[39;49mnum_retries)\n\u001b[1;32m    355\u001b[0m \u001b[39mexcept\u001b[39;00m googleapiclient\u001b[39m.\u001b[39merrors\u001b[39m.\u001b[39mHttpError \u001b[39mas\u001b[39;00m e:\n",
      "File \u001b[0;32m~/opt/anaconda3/envs/gee/lib/python3.9/site-packages/googleapiclient/_helpers.py:130\u001b[0m, in \u001b[0;36mpositional.<locals>.positional_decorator.<locals>.positional_wrapper\u001b[0;34m(*args, **kwargs)\u001b[0m\n\u001b[1;32m    129\u001b[0m         logger\u001b[39m.\u001b[39mwarning(message)\n\u001b[0;32m--> 130\u001b[0m \u001b[39mreturn\u001b[39;00m wrapped(\u001b[39m*\u001b[39;49margs, \u001b[39m*\u001b[39;49m\u001b[39m*\u001b[39;49mkwargs)\n",
      "File \u001b[0;32m~/opt/anaconda3/envs/gee/lib/python3.9/site-packages/googleapiclient/http.py:938\u001b[0m, in \u001b[0;36mHttpRequest.execute\u001b[0;34m(self, http, num_retries)\u001b[0m\n\u001b[1;32m    937\u001b[0m \u001b[39mif\u001b[39;00m resp\u001b[39m.\u001b[39mstatus \u001b[39m>\u001b[39m\u001b[39m=\u001b[39m \u001b[39m300\u001b[39m:\n\u001b[0;32m--> 938\u001b[0m     \u001b[39mraise\u001b[39;00m HttpError(resp, content, uri\u001b[39m=\u001b[39m\u001b[39mself\u001b[39m\u001b[39m.\u001b[39muri)\n\u001b[1;32m    939\u001b[0m \u001b[39mreturn\u001b[39;00m \u001b[39mself\u001b[39m\u001b[39m.\u001b[39mpostproc(resp, content)\n",
      "\u001b[0;31mHttpError\u001b[0m: <HttpError 400 when requesting https://earthengine.googleapis.com/v1/projects/earthengine-legacy/value:compute?prettyPrint=false&alt=json returned \"ImageCollection.toBands: Too many bands (more than 5000).\". Details: \"ImageCollection.toBands: Too many bands (more than 5000).\">",
      "\nDuring handling of the above exception, another exception occurred:\n",
      "\u001b[0;31mEEException\u001b[0m                               Traceback (most recent call last)",
      "File \u001b[0;32m~/opt/anaconda3/envs/gee/lib/python3.9/site-packages/geemap/common.py:6873\u001b[0m, in \u001b[0;36mzonal_stats\u001b[0;34m(in_value_raster, in_zone_vector, out_file_path, statistics_type, scale, crs, tile_scale, return_fc, verbose, timeout, proxies, **kwargs)\u001b[0m\n\u001b[1;32m   6872\u001b[0m     \u001b[39melse\u001b[39;00m:\n\u001b[0;32m-> 6873\u001b[0m         ee_export_vector(result, filename, timeout\u001b[39m=\u001b[39;49mtimeout, proxies\u001b[39m=\u001b[39;49mproxies)\n\u001b[1;32m   6874\u001b[0m \u001b[39mexcept\u001b[39;00m \u001b[39mException\u001b[39;00m \u001b[39mas\u001b[39;00m e:\n",
      "File \u001b[0;32m~/opt/anaconda3/envs/gee/lib/python3.9/site-packages/geemap/common.py:1022\u001b[0m, in \u001b[0;36mee_export_vector\u001b[0;34m(ee_object, filename, selectors, verbose, keep_zip, timeout, proxies)\u001b[0m\n\u001b[1;32m   1021\u001b[0m \u001b[39mif\u001b[39;00m selectors \u001b[39mis\u001b[39;00m \u001b[39mNone\u001b[39;00m:\n\u001b[0;32m-> 1022\u001b[0m     selectors \u001b[39m=\u001b[39m ee_object\u001b[39m.\u001b[39;49mfirst()\u001b[39m.\u001b[39;49mpropertyNames()\u001b[39m.\u001b[39;49mgetInfo()\n\u001b[1;32m   1023\u001b[0m     \u001b[39mif\u001b[39;00m filetype \u001b[39m==\u001b[39m \u001b[39m\"\u001b[39m\u001b[39mcsv\u001b[39m\u001b[39m\"\u001b[39m:\n\u001b[1;32m   1024\u001b[0m         \u001b[39m# remove .geo coordinate field\u001b[39;00m\n",
      "File \u001b[0;32m~/opt/anaconda3/envs/gee/lib/python3.9/site-packages/ee/computedobject.py:105\u001b[0m, in \u001b[0;36mComputedObject.getInfo\u001b[0;34m(self)\u001b[0m\n\u001b[1;32m    100\u001b[0m \u001b[39m\u001b[39m\u001b[39m\"\"\"Fetch and return information about this object.\u001b[39;00m\n\u001b[1;32m    101\u001b[0m \n\u001b[1;32m    102\u001b[0m \u001b[39mReturns:\u001b[39;00m\n\u001b[1;32m    103\u001b[0m \u001b[39m  The object can evaluate to anything.\u001b[39;00m\n\u001b[1;32m    104\u001b[0m \u001b[39m\"\"\"\u001b[39;00m\n\u001b[0;32m--> 105\u001b[0m \u001b[39mreturn\u001b[39;00m data\u001b[39m.\u001b[39;49mcomputeValue(\u001b[39mself\u001b[39;49m)\n",
      "File \u001b[0;32m~/opt/anaconda3/envs/gee/lib/python3.9/site-packages/ee/data.py:1021\u001b[0m, in \u001b[0;36mcomputeValue\u001b[0;34m(obj)\u001b[0m\n\u001b[1;32m   1019\u001b[0m _maybe_populate_workload_tag(body)\n\u001b[0;32m-> 1021\u001b[0m \u001b[39mreturn\u001b[39;00m _execute_cloud_call(\n\u001b[1;32m   1022\u001b[0m     _get_cloud_projects()\n\u001b[1;32m   1023\u001b[0m     \u001b[39m.\u001b[39;49mvalue()\n\u001b[1;32m   1024\u001b[0m     \u001b[39m.\u001b[39;49mcompute(body\u001b[39m=\u001b[39;49mbody, project\u001b[39m=\u001b[39;49m_get_projects_path(), prettyPrint\u001b[39m=\u001b[39;49m\u001b[39mFalse\u001b[39;49;00m)\n\u001b[1;32m   1025\u001b[0m )[\u001b[39m'\u001b[39m\u001b[39mresult\u001b[39m\u001b[39m'\u001b[39m]\n",
      "File \u001b[0;32m~/opt/anaconda3/envs/gee/lib/python3.9/site-packages/ee/data.py:356\u001b[0m, in \u001b[0;36m_execute_cloud_call\u001b[0;34m(call, num_retries)\u001b[0m\n\u001b[1;32m    355\u001b[0m \u001b[39mexcept\u001b[39;00m googleapiclient\u001b[39m.\u001b[39merrors\u001b[39m.\u001b[39mHttpError \u001b[39mas\u001b[39;00m e:\n\u001b[0;32m--> 356\u001b[0m   \u001b[39mraise\u001b[39;00m _translate_cloud_exception(e)\n",
      "\u001b[0;31mEEException\u001b[0m: ImageCollection.toBands: Too many bands (more than 5000).",
      "\nDuring handling of the above exception, another exception occurred:\n",
      "\u001b[0;31mException\u001b[0m                                 Traceback (most recent call last)",
      "\u001b[0;32m/var/folders/1p/wbwsvy8x73v0fxb0dfm9pj446vjgl7/T/ipykernel_29993/3014084885.py\u001b[0m in \u001b[0;36m?\u001b[0;34m()\u001b[0m\n\u001b[0;32m----> 7\u001b[0;31m \u001b[0mstates\u001b[0m \u001b[0;34m=\u001b[0m \u001b[0mee\u001b[0m\u001b[0;34m.\u001b[0m\u001b[0mFeatureCollection\u001b[0m\u001b[0;34m(\u001b[0m\u001b[0;34m\"TIGER/2018/States\"\u001b[0m\u001b[0;34m)\u001b[0m\u001b[0;34m\u001b[0m\u001b[0;34m\u001b[0m\u001b[0m\n\u001b[0m\u001b[1;32m      8\u001b[0m \u001b[0mtemps\u001b[0m \u001b[0;34m=\u001b[0m \u001b[0mee\u001b[0m\u001b[0;34m.\u001b[0m\u001b[0mImageCollection\u001b[0m\u001b[0;34m(\u001b[0m\u001b[0;34m\"NOAA/GFS0P25\"\u001b[0m\u001b[0;34m)\u001b[0m\u001b[0;34m\u001b[0m\u001b[0;34m\u001b[0m\u001b[0m\n\u001b[1;32m      9\u001b[0m \u001b[0;34m\u001b[0m\u001b[0m\n\u001b[1;32m     10\u001b[0m \u001b[0;31m# get the specific day\u001b[0m\u001b[0;34m\u001b[0m\u001b[0;34m\u001b[0m\u001b[0m\n",
      "\u001b[0;32m~/opt/anaconda3/envs/gee/lib/python3.9/site-packages/geemap/common.py\u001b[0m in \u001b[0;36m?\u001b[0;34m(in_value_raster, in_zone_vector, out_file_path, statistics_type, scale, crs, tile_scale, return_fc, verbose, timeout, proxies, **kwargs)\u001b[0m\n\u001b[1;32m   6871\u001b[0m             \u001b[0;32mreturn\u001b[0m \u001b[0mresult\u001b[0m\u001b[0;34m\u001b[0m\u001b[0;34m\u001b[0m\u001b[0m\n\u001b[1;32m   6872\u001b[0m         \u001b[0;32melse\u001b[0m\u001b[0;34m:\u001b[0m\u001b[0;34m\u001b[0m\u001b[0;34m\u001b[0m\u001b[0m\n\u001b[1;32m   6873\u001b[0m             \u001b[0mee_export_vector\u001b[0m\u001b[0;34m(\u001b[0m\u001b[0mresult\u001b[0m\u001b[0;34m,\u001b[0m \u001b[0mfilename\u001b[0m\u001b[0;34m,\u001b[0m \u001b[0mtimeout\u001b[0m\u001b[0;34m=\u001b[0m\u001b[0mtimeout\u001b[0m\u001b[0;34m,\u001b[0m \u001b[0mproxies\u001b[0m\u001b[0;34m=\u001b[0m\u001b[0mproxies\u001b[0m\u001b[0;34m)\u001b[0m\u001b[0;34m\u001b[0m\u001b[0;34m\u001b[0m\u001b[0m\n\u001b[1;32m   6874\u001b[0m     \u001b[0;32mexcept\u001b[0m \u001b[0mException\u001b[0m \u001b[0;32mas\u001b[0m \u001b[0me\u001b[0m\u001b[0;34m:\u001b[0m\u001b[0;34m\u001b[0m\u001b[0;34m\u001b[0m\u001b[0m\n\u001b[0;32m-> 6875\u001b[0;31m         \u001b[0;32mraise\u001b[0m \u001b[0mException\u001b[0m\u001b[0;34m(\u001b[0m\u001b[0me\u001b[0m\u001b[0;34m)\u001b[0m\u001b[0;34m\u001b[0m\u001b[0;34m\u001b[0m\u001b[0m\n\u001b[0m",
      "\u001b[0;31mException\u001b[0m: ImageCollection.toBands: Too many bands (more than 5000)."
     ]
    }
   ],
   "source": [
    "states = ee.FeatureCollection(\"TIGER/2018/States\")\n",
    "temps = ee.ImageCollection(\"NOAA/GFS0P25\")\n",
    "\n",
    "# get the specific day\n",
    "temps = temps.filterDate('2023-06-28', '2023-06-29')\n",
    "\n",
    "stats = geemap.zonal_statistics(temps, states, 'exports/mean_temps.csv', reducer='MEAN')"
   ]
  },
  {
   "cell_type": "markdown",
   "metadata": {},
   "source": [
    "### Coordinate grids and fishnets\n",
    "\n",
    "#### Creating coordinate grids\n",
    "\n",
    "Create a latitudinal grid with a 5-degree interval."
   ]
  },
  {
   "cell_type": "code",
   "execution_count": 97,
   "metadata": {},
   "outputs": [
    {
     "data": {
      "text/html": [
       "\n",
       "            <style>\n",
       "                .geemap-dark {\n",
       "                    --jp-widgets-color: white;\n",
       "                    --jp-widgets-label-color: white;\n",
       "                    --jp-ui-font-color1: white;\n",
       "                    --jp-layout-color2: #454545;\n",
       "                    background-color: #383838;\n",
       "                }\n",
       "                    \n",
       "                .geemap-dark .jupyter-button {\n",
       "                    --jp-layout-color3: #383838;\n",
       "                }\n",
       "                \n",
       "                .geemap-colab {\n",
       "                    background-color: var(--colab-primary-surface-color, white);\n",
       "                }\n",
       "                    \n",
       "                .geemap-colab .jupyter-button {\n",
       "                    --jp-layout-color3: var(--colab-primary-surface-color, white);\n",
       "                }\n",
       "            </style>\n",
       "            "
      ],
      "text/plain": [
       "<IPython.core.display.HTML object>"
      ]
     },
     "metadata": {},
     "output_type": "display_data"
    }
   ],
   "source": [
    "lat_grid = geemap.latitude_grid(step=5.0, west=-180, east=180, south=-85, north=85)"
   ]
  },
  {
   "cell_type": "code",
   "execution_count": 98,
   "metadata": {},
   "outputs": [
    {
     "data": {
      "text/html": [
       "\n",
       "            <style>\n",
       "                .geemap-dark {\n",
       "                    --jp-widgets-color: white;\n",
       "                    --jp-widgets-label-color: white;\n",
       "                    --jp-ui-font-color1: white;\n",
       "                    --jp-layout-color2: #454545;\n",
       "                    background-color: #383838;\n",
       "                }\n",
       "                    \n",
       "                .geemap-dark .jupyter-button {\n",
       "                    --jp-layout-color3: #383838;\n",
       "                }\n",
       "                \n",
       "                .geemap-colab {\n",
       "                    background-color: var(--colab-primary-surface-color, white);\n",
       "                }\n",
       "                    \n",
       "                .geemap-colab .jupyter-button {\n",
       "                    --jp-layout-color3: var(--colab-primary-surface-color, white);\n",
       "                }\n",
       "            </style>\n",
       "            "
      ],
      "text/plain": [
       "<IPython.core.display.HTML object>"
      ]
     },
     "metadata": {},
     "output_type": "display_data"
    },
    {
     "data": {
      "application/vnd.jupyter.widget-view+json": {
       "model_id": "146682b780ed47c3947258cdc9bb1836",
       "version_major": 2,
       "version_minor": 0
      },
      "text/plain": [
       "Map(center=[0, 0], controls=(WidgetControl(options=['position', 'transparent_bg'], widget=SearchDataGUI(childr…"
      ]
     },
     "execution_count": 98,
     "metadata": {},
     "output_type": "execute_result"
    }
   ],
   "source": [
    "m = geemap.Map()\n",
    "style = {'fillColor': '00000000'}\n",
    "m.add_layer(lat_grid.style(**style), {}, 'Latitude Grid')\n",
    "m"
   ]
  },
  {
   "cell_type": "code",
   "execution_count": 99,
   "metadata": {},
   "outputs": [
    {
     "data": {
      "text/html": [
       "\n",
       "            <style>\n",
       "                .geemap-dark {\n",
       "                    --jp-widgets-color: white;\n",
       "                    --jp-widgets-label-color: white;\n",
       "                    --jp-ui-font-color1: white;\n",
       "                    --jp-layout-color2: #454545;\n",
       "                    background-color: #383838;\n",
       "                }\n",
       "                    \n",
       "                .geemap-dark .jupyter-button {\n",
       "                    --jp-layout-color3: #383838;\n",
       "                }\n",
       "                \n",
       "                .geemap-colab {\n",
       "                    background-color: var(--colab-primary-surface-color, white);\n",
       "                }\n",
       "                    \n",
       "                .geemap-colab .jupyter-button {\n",
       "                    --jp-layout-color3: var(--colab-primary-surface-color, white);\n",
       "                }\n",
       "            </style>\n",
       "            "
      ],
      "text/plain": [
       "<IPython.core.display.HTML object>"
      ]
     },
     "metadata": {},
     "output_type": "display_data"
    },
    {
     "data": {
      "text/html": [
       "<div>\n",
       "<style scoped>\n",
       "    .dataframe tbody tr th:only-of-type {\n",
       "        vertical-align: middle;\n",
       "    }\n",
       "\n",
       "    .dataframe tbody tr th {\n",
       "        vertical-align: top;\n",
       "    }\n",
       "\n",
       "    .dataframe thead th {\n",
       "        text-align: right;\n",
       "    }\n",
       "</style>\n",
       "<table border=\"1\" class=\"dataframe\">\n",
       "  <thead>\n",
       "    <tr style=\"text-align: right;\">\n",
       "      <th></th>\n",
       "      <th>east</th>\n",
       "      <th>north</th>\n",
       "      <th>south</th>\n",
       "      <th>west</th>\n",
       "    </tr>\n",
       "  </thead>\n",
       "  <tbody>\n",
       "    <tr>\n",
       "      <th>0</th>\n",
       "      <td>180</td>\n",
       "      <td>-80</td>\n",
       "      <td>-85</td>\n",
       "      <td>-180</td>\n",
       "    </tr>\n",
       "    <tr>\n",
       "      <th>1</th>\n",
       "      <td>180</td>\n",
       "      <td>-75</td>\n",
       "      <td>-80</td>\n",
       "      <td>-180</td>\n",
       "    </tr>\n",
       "    <tr>\n",
       "      <th>2</th>\n",
       "      <td>180</td>\n",
       "      <td>-70</td>\n",
       "      <td>-75</td>\n",
       "      <td>-180</td>\n",
       "    </tr>\n",
       "    <tr>\n",
       "      <th>3</th>\n",
       "      <td>180</td>\n",
       "      <td>-65</td>\n",
       "      <td>-70</td>\n",
       "      <td>-180</td>\n",
       "    </tr>\n",
       "    <tr>\n",
       "      <th>4</th>\n",
       "      <td>180</td>\n",
       "      <td>-60</td>\n",
       "      <td>-65</td>\n",
       "      <td>-180</td>\n",
       "    </tr>\n",
       "  </tbody>\n",
       "</table>\n",
       "</div>"
      ],
      "text/plain": [
       "   east  north  south  west\n",
       "0   180    -80    -85  -180\n",
       "1   180    -75    -80  -180\n",
       "2   180    -70    -75  -180\n",
       "3   180    -65    -70  -180\n",
       "4   180    -60    -65  -180"
      ]
     },
     "execution_count": 99,
     "metadata": {},
     "output_type": "execute_result"
    }
   ],
   "source": [
    "df = geemap.ee_to_df(lat_grid)\n",
    "df.head()"
   ]
  },
  {
   "cell_type": "markdown",
   "metadata": {},
   "source": [
    "Create a longitudinal grid with a 5-degree interval."
   ]
  },
  {
   "cell_type": "code",
   "execution_count": 100,
   "metadata": {},
   "outputs": [
    {
     "data": {
      "text/html": [
       "\n",
       "            <style>\n",
       "                .geemap-dark {\n",
       "                    --jp-widgets-color: white;\n",
       "                    --jp-widgets-label-color: white;\n",
       "                    --jp-ui-font-color1: white;\n",
       "                    --jp-layout-color2: #454545;\n",
       "                    background-color: #383838;\n",
       "                }\n",
       "                    \n",
       "                .geemap-dark .jupyter-button {\n",
       "                    --jp-layout-color3: #383838;\n",
       "                }\n",
       "                \n",
       "                .geemap-colab {\n",
       "                    background-color: var(--colab-primary-surface-color, white);\n",
       "                }\n",
       "                    \n",
       "                .geemap-colab .jupyter-button {\n",
       "                    --jp-layout-color3: var(--colab-primary-surface-color, white);\n",
       "                }\n",
       "            </style>\n",
       "            "
      ],
      "text/plain": [
       "<IPython.core.display.HTML object>"
      ]
     },
     "metadata": {},
     "output_type": "display_data"
    }
   ],
   "source": [
    "lon_grid = geemap.longitude_grid(step=5.0, west=-180, east=180, south=-85, north=85)"
   ]
  },
  {
   "cell_type": "code",
   "execution_count": 101,
   "metadata": {},
   "outputs": [
    {
     "data": {
      "text/html": [
       "\n",
       "            <style>\n",
       "                .geemap-dark {\n",
       "                    --jp-widgets-color: white;\n",
       "                    --jp-widgets-label-color: white;\n",
       "                    --jp-ui-font-color1: white;\n",
       "                    --jp-layout-color2: #454545;\n",
       "                    background-color: #383838;\n",
       "                }\n",
       "                    \n",
       "                .geemap-dark .jupyter-button {\n",
       "                    --jp-layout-color3: #383838;\n",
       "                }\n",
       "                \n",
       "                .geemap-colab {\n",
       "                    background-color: var(--colab-primary-surface-color, white);\n",
       "                }\n",
       "                    \n",
       "                .geemap-colab .jupyter-button {\n",
       "                    --jp-layout-color3: var(--colab-primary-surface-color, white);\n",
       "                }\n",
       "            </style>\n",
       "            "
      ],
      "text/plain": [
       "<IPython.core.display.HTML object>"
      ]
     },
     "metadata": {},
     "output_type": "display_data"
    },
    {
     "data": {
      "application/vnd.jupyter.widget-view+json": {
       "model_id": "73f4e6286ca44dd1a57f5222e8e23596",
       "version_major": 2,
       "version_minor": 0
      },
      "text/plain": [
       "Map(center=[0, 0], controls=(WidgetControl(options=['position', 'transparent_bg'], widget=SearchDataGUI(childr…"
      ]
     },
     "execution_count": 101,
     "metadata": {},
     "output_type": "execute_result"
    }
   ],
   "source": [
    "m = geemap.Map()\n",
    "style = {'fillColor': '00000000'}\n",
    "m.add_layer(lon_grid.style(**style), {}, 'Longitude Grid')\n",
    "m"
   ]
  },
  {
   "cell_type": "markdown",
   "metadata": {},
   "source": [
    "Create a rectangular grid with a 10-degree interval."
   ]
  },
  {
   "cell_type": "code",
   "execution_count": 103,
   "metadata": {},
   "outputs": [
    {
     "data": {
      "text/html": [
       "\n",
       "            <style>\n",
       "                .geemap-dark {\n",
       "                    --jp-widgets-color: white;\n",
       "                    --jp-widgets-label-color: white;\n",
       "                    --jp-ui-font-color1: white;\n",
       "                    --jp-layout-color2: #454545;\n",
       "                    background-color: #383838;\n",
       "                }\n",
       "                    \n",
       "                .geemap-dark .jupyter-button {\n",
       "                    --jp-layout-color3: #383838;\n",
       "                }\n",
       "                \n",
       "                .geemap-colab {\n",
       "                    background-color: var(--colab-primary-surface-color, white);\n",
       "                }\n",
       "                    \n",
       "                .geemap-colab .jupyter-button {\n",
       "                    --jp-layout-color3: var(--colab-primary-surface-color, white);\n",
       "                }\n",
       "            </style>\n",
       "            "
      ],
      "text/plain": [
       "<IPython.core.display.HTML object>"
      ]
     },
     "metadata": {},
     "output_type": "display_data"
    }
   ],
   "source": [
    "grid = geemap.latlon_grid(\n",
    "    lat_step=10, lon_step=10, west=-180, east=180, south=-85, north=85\n",
    ")"
   ]
  },
  {
   "cell_type": "code",
   "execution_count": 104,
   "metadata": {},
   "outputs": [
    {
     "data": {
      "text/html": [
       "\n",
       "            <style>\n",
       "                .geemap-dark {\n",
       "                    --jp-widgets-color: white;\n",
       "                    --jp-widgets-label-color: white;\n",
       "                    --jp-ui-font-color1: white;\n",
       "                    --jp-layout-color2: #454545;\n",
       "                    background-color: #383838;\n",
       "                }\n",
       "                    \n",
       "                .geemap-dark .jupyter-button {\n",
       "                    --jp-layout-color3: #383838;\n",
       "                }\n",
       "                \n",
       "                .geemap-colab {\n",
       "                    background-color: var(--colab-primary-surface-color, white);\n",
       "                }\n",
       "                    \n",
       "                .geemap-colab .jupyter-button {\n",
       "                    --jp-layout-color3: var(--colab-primary-surface-color, white);\n",
       "                }\n",
       "            </style>\n",
       "            "
      ],
      "text/plain": [
       "<IPython.core.display.HTML object>"
      ]
     },
     "metadata": {},
     "output_type": "display_data"
    },
    {
     "data": {
      "application/vnd.jupyter.widget-view+json": {
       "model_id": "7d47491e40fd44db98b3d8cc50f87786",
       "version_major": 2,
       "version_minor": 0
      },
      "text/plain": [
       "Map(center=[0, 0], controls=(WidgetControl(options=['position', 'transparent_bg'], widget=SearchDataGUI(childr…"
      ]
     },
     "execution_count": 104,
     "metadata": {},
     "output_type": "execute_result"
    }
   ],
   "source": [
    "m = geemap.Map()\n",
    "style = {'fillColor': '00000000'}\n",
    "m.add_layer(grid.style(**style), {}, 'Coordinate Grid')\n",
    "m"
   ]
  },
  {
   "cell_type": "markdown",
   "metadata": {},
   "source": [
    "#### Creating fishnets\n",
    "\n",
    "Create a fishnet based on an Earth Engine geometry."
   ]
  },
  {
   "cell_type": "code",
   "execution_count": 106,
   "metadata": {},
   "outputs": [
    {
     "data": {
      "text/html": [
       "\n",
       "            <style>\n",
       "                .geemap-dark {\n",
       "                    --jp-widgets-color: white;\n",
       "                    --jp-widgets-label-color: white;\n",
       "                    --jp-ui-font-color1: white;\n",
       "                    --jp-layout-color2: #454545;\n",
       "                    background-color: #383838;\n",
       "                }\n",
       "                    \n",
       "                .geemap-dark .jupyter-button {\n",
       "                    --jp-layout-color3: #383838;\n",
       "                }\n",
       "                \n",
       "                .geemap-colab {\n",
       "                    background-color: var(--colab-primary-surface-color, white);\n",
       "                }\n",
       "                    \n",
       "                .geemap-colab .jupyter-button {\n",
       "                    --jp-layout-color3: var(--colab-primary-surface-color, white);\n",
       "                }\n",
       "            </style>\n",
       "            "
      ],
      "text/plain": [
       "<IPython.core.display.HTML object>"
      ]
     },
     "metadata": {},
     "output_type": "display_data"
    },
    {
     "data": {
      "application/vnd.jupyter.widget-view+json": {
       "model_id": "7a24de505c2b41a9a18034ca486e528b",
       "version_major": 2,
       "version_minor": 0
      },
      "text/plain": [
       "Map(center=[0, 0], controls=(WidgetControl(options=['position', 'transparent_bg'], widget=SearchDataGUI(childr…"
      ]
     },
     "execution_count": 106,
     "metadata": {},
     "output_type": "execute_result"
    }
   ],
   "source": [
    "m = geemap.Map()\n",
    "m"
   ]
  },
  {
   "cell_type": "markdown",
   "metadata": {},
   "source": [
    "Use the drawing tools to draw a polygon on the map above. If no polygon is drawn, the default polygon will be used."
   ]
  },
  {
   "cell_type": "code",
   "execution_count": 107,
   "metadata": {},
   "outputs": [
    {
     "data": {
      "text/html": [
       "\n",
       "            <style>\n",
       "                .geemap-dark {\n",
       "                    --jp-widgets-color: white;\n",
       "                    --jp-widgets-label-color: white;\n",
       "                    --jp-ui-font-color1: white;\n",
       "                    --jp-layout-color2: #454545;\n",
       "                    background-color: #383838;\n",
       "                }\n",
       "                    \n",
       "                .geemap-dark .jupyter-button {\n",
       "                    --jp-layout-color3: #383838;\n",
       "                }\n",
       "                \n",
       "                .geemap-colab {\n",
       "                    background-color: var(--colab-primary-surface-color, white);\n",
       "                }\n",
       "                    \n",
       "                .geemap-colab .jupyter-button {\n",
       "                    --jp-layout-color3: var(--colab-primary-surface-color, white);\n",
       "                }\n",
       "            </style>\n",
       "            "
      ],
      "text/plain": [
       "<IPython.core.display.HTML object>"
      ]
     },
     "metadata": {},
     "output_type": "display_data"
    }
   ],
   "source": [
    "roi = m.user_roi\n",
    "\n",
    "if roi is None:\n",
    "    roi = ee.Geometry.BBox(-112.8089, 33.7306, -88.5951, 46.6244)\n",
    "    m.add_layer(roi, {}, 'ROI')\n",
    "\n",
    "m.center_object(roi)"
   ]
  },
  {
   "cell_type": "markdown",
   "metadata": {},
   "source": [
    "Create a fishnet based on a user-drawn polygon with a 2-degree interval."
   ]
  },
  {
   "cell_type": "code",
   "execution_count": 108,
   "metadata": {},
   "outputs": [
    {
     "data": {
      "text/html": [
       "\n",
       "            <style>\n",
       "                .geemap-dark {\n",
       "                    --jp-widgets-color: white;\n",
       "                    --jp-widgets-label-color: white;\n",
       "                    --jp-ui-font-color1: white;\n",
       "                    --jp-layout-color2: #454545;\n",
       "                    background-color: #383838;\n",
       "                }\n",
       "                    \n",
       "                .geemap-dark .jupyter-button {\n",
       "                    --jp-layout-color3: #383838;\n",
       "                }\n",
       "                \n",
       "                .geemap-colab {\n",
       "                    background-color: var(--colab-primary-surface-color, white);\n",
       "                }\n",
       "                    \n",
       "                .geemap-colab .jupyter-button {\n",
       "                    --jp-layout-color3: var(--colab-primary-surface-color, white);\n",
       "                }\n",
       "            </style>\n",
       "            "
      ],
      "text/plain": [
       "<IPython.core.display.HTML object>"
      ]
     },
     "metadata": {},
     "output_type": "display_data"
    }
   ],
   "source": [
    "fishnet = geemap.fishnet(roi, h_interval=2.0, v_interval=2.0, delta=1)\n",
    "style = {'color': 'blue', 'fillColor': '00000000'}\n",
    "m.add_layer(fishnet.style(**style), {}, 'Fishnet')"
   ]
  },
  {
   "cell_type": "markdown",
   "metadata": {},
   "source": [
    "Create a new map."
   ]
  },
  {
   "cell_type": "code",
   "execution_count": 109,
   "metadata": {},
   "outputs": [
    {
     "data": {
      "text/html": [
       "\n",
       "            <style>\n",
       "                .geemap-dark {\n",
       "                    --jp-widgets-color: white;\n",
       "                    --jp-widgets-label-color: white;\n",
       "                    --jp-ui-font-color1: white;\n",
       "                    --jp-layout-color2: #454545;\n",
       "                    background-color: #383838;\n",
       "                }\n",
       "                    \n",
       "                .geemap-dark .jupyter-button {\n",
       "                    --jp-layout-color3: #383838;\n",
       "                }\n",
       "                \n",
       "                .geemap-colab {\n",
       "                    background-color: var(--colab-primary-surface-color, white);\n",
       "                }\n",
       "                    \n",
       "                .geemap-colab .jupyter-button {\n",
       "                    --jp-layout-color3: var(--colab-primary-surface-color, white);\n",
       "                }\n",
       "            </style>\n",
       "            "
      ],
      "text/plain": [
       "<IPython.core.display.HTML object>"
      ]
     },
     "metadata": {},
     "output_type": "display_data"
    },
    {
     "data": {
      "application/vnd.jupyter.widget-view+json": {
       "model_id": "72b898838635429baa032fb1b716955f",
       "version_major": 2,
       "version_minor": 0
      },
      "text/plain": [
       "Map(center=[0, 0], controls=(WidgetControl(options=['position', 'transparent_bg'], widget=SearchDataGUI(childr…"
      ]
     },
     "execution_count": 109,
     "metadata": {},
     "output_type": "execute_result"
    }
   ],
   "source": [
    "m = geemap.Map()\n",
    "m"
   ]
  },
  {
   "cell_type": "markdown",
   "metadata": {},
   "source": [
    "Draw a polygon on the map."
   ]
  },
  {
   "cell_type": "code",
   "execution_count": 110,
   "metadata": {},
   "outputs": [
    {
     "data": {
      "text/html": [
       "\n",
       "            <style>\n",
       "                .geemap-dark {\n",
       "                    --jp-widgets-color: white;\n",
       "                    --jp-widgets-label-color: white;\n",
       "                    --jp-ui-font-color1: white;\n",
       "                    --jp-layout-color2: #454545;\n",
       "                    background-color: #383838;\n",
       "                }\n",
       "                    \n",
       "                .geemap-dark .jupyter-button {\n",
       "                    --jp-layout-color3: #383838;\n",
       "                }\n",
       "                \n",
       "                .geemap-colab {\n",
       "                    background-color: var(--colab-primary-surface-color, white);\n",
       "                }\n",
       "                    \n",
       "                .geemap-colab .jupyter-button {\n",
       "                    --jp-layout-color3: var(--colab-primary-surface-color, white);\n",
       "                }\n",
       "            </style>\n",
       "            "
      ],
      "text/plain": [
       "<IPython.core.display.HTML object>"
      ]
     },
     "metadata": {},
     "output_type": "display_data"
    },
    {
     "data": {
      "application/vnd.jupyter.widget-view+json": {
       "model_id": "72b898838635429baa032fb1b716955f",
       "version_major": 2,
       "version_minor": 0
      },
      "text/plain": [
       "Map(bottom=713.0, center=[32.99023555965106, 72.07031250000001], controls=(WidgetControl(options=['position', …"
      ]
     },
     "execution_count": 110,
     "metadata": {},
     "output_type": "execute_result"
    }
   ],
   "source": [
    "roi = m.user_roi\n",
    "\n",
    "if roi is None:\n",
    "    roi = ee.Geometry.Polygon(\n",
    "        [\n",
    "            [\n",
    "                [-64.602356, -1.127399],\n",
    "                [-68.821106, -12.625598],\n",
    "                [-60.647278, -22.498601],\n",
    "                [-47.815247, -21.111406],\n",
    "                [-43.860168, -8.913564],\n",
    "                [-54.582825, -0.775886],\n",
    "                [-60.823059, 0.454555],\n",
    "                [-64.602356, -1.127399],\n",
    "            ]\n",
    "        ]\n",
    "    )\n",
    "    m.add_layer(roi, {}, 'ROI')\n",
    "\n",
    "m.center_object(roi)\n",
    "m"
   ]
  },
  {
   "cell_type": "markdown",
   "metadata": {},
   "source": [
    "Create a fishnet based on a user-drawn polygon with specified number of rows and columns."
   ]
  },
  {
   "cell_type": "code",
   "execution_count": 111,
   "metadata": {},
   "outputs": [
    {
     "data": {
      "text/html": [
       "\n",
       "            <style>\n",
       "                .geemap-dark {\n",
       "                    --jp-widgets-color: white;\n",
       "                    --jp-widgets-label-color: white;\n",
       "                    --jp-ui-font-color1: white;\n",
       "                    --jp-layout-color2: #454545;\n",
       "                    background-color: #383838;\n",
       "                }\n",
       "                    \n",
       "                .geemap-dark .jupyter-button {\n",
       "                    --jp-layout-color3: #383838;\n",
       "                }\n",
       "                \n",
       "                .geemap-colab {\n",
       "                    background-color: var(--colab-primary-surface-color, white);\n",
       "                }\n",
       "                    \n",
       "                .geemap-colab .jupyter-button {\n",
       "                    --jp-layout-color3: var(--colab-primary-surface-color, white);\n",
       "                }\n",
       "            </style>\n",
       "            "
      ],
      "text/plain": [
       "<IPython.core.display.HTML object>"
      ]
     },
     "metadata": {},
     "output_type": "display_data"
    }
   ],
   "source": [
    "fishnet = geemap.fishnet(roi, rows=6, cols=8, delta=1)\n",
    "style = {'color': 'blue', 'fillColor': '00000000'}\n",
    "m.add_layer(fishnet.style(**style), {}, 'Fishnet')"
   ]
  },
  {
   "cell_type": "markdown",
   "metadata": {},
   "source": [
    "### Land use and land cover change analysis\n",
    "\n",
    "#### Forest cover mapping\n",
    "\n",
    "We will use the [Hansen Global Forest Change v1.10 (2000-2022) dataset](https://developers.google.com/earth-engine/datasets/catalog/UMD_hansen_global_forest_change_2022_v1_10)."
   ]
  },
  {
   "cell_type": "code",
   "execution_count": 112,
   "metadata": {},
   "outputs": [
    {
     "data": {
      "text/html": [
       "\n",
       "            <style>\n",
       "                .geemap-dark {\n",
       "                    --jp-widgets-color: white;\n",
       "                    --jp-widgets-label-color: white;\n",
       "                    --jp-ui-font-color1: white;\n",
       "                    --jp-layout-color2: #454545;\n",
       "                    background-color: #383838;\n",
       "                }\n",
       "                    \n",
       "                .geemap-dark .jupyter-button {\n",
       "                    --jp-layout-color3: #383838;\n",
       "                }\n",
       "                \n",
       "                .geemap-colab {\n",
       "                    background-color: var(--colab-primary-surface-color, white);\n",
       "                }\n",
       "                    \n",
       "                .geemap-colab .jupyter-button {\n",
       "                    --jp-layout-color3: var(--colab-primary-surface-color, white);\n",
       "                }\n",
       "            </style>\n",
       "            "
      ],
      "text/plain": [
       "<IPython.core.display.HTML object>"
      ]
     },
     "metadata": {},
     "output_type": "display_data"
    },
    {
     "data": {
      "text/html": [
       "<div><style>:root {\n",
       "  --font-color-primary: var(--jp-content-font-color0, rgba(0, 0, 0, 1));\n",
       "  --font-color-secondary: var(--jp-content-font-color2, rgba(0, 0, 0, 0.6));\n",
       "  --font-color-accent: rgba(123, 31, 162, 1);\n",
       "  --border-color: var(--jp-border-color2, #e0e0e0);\n",
       "  --background-color: var(--jp-layout-color0, white);\n",
       "  --background-color-row-even: var(--jp-layout-color1, white);\n",
       "  --background-color-row-odd: var(--jp-layout-color2, #eeeeee);\n",
       "}\n",
       "\n",
       "html[theme=\"dark\"],\n",
       "body[data-theme=\"dark\"],\n",
       "body.vscode-dark {\n",
       "  --font-color-primary: rgba(255, 255, 255, 1);\n",
       "  --font-color-secondary: rgba(255, 255, 255, 0.6);\n",
       "  --font-color-accent: rgb(173, 132, 190);\n",
       "  --border-color: #2e2e2e;\n",
       "  --background-color: #111111;\n",
       "  --background-color-row-even: #111111;\n",
       "  --background-color-row-odd: #313131;\n",
       "}\n",
       "\n",
       ".ee {\n",
       "  padding: 1em;\n",
       "  line-height: 1.5em;\n",
       "  min-width: 300px;\n",
       "  max-width: 1200px;\n",
       "  overflow-y: scroll;\n",
       "  max-height: 600px;\n",
       "  border: 1px solid var(--border-color);\n",
       "  font-family: monospace;\n",
       "}\n",
       "\n",
       ".ee li {\n",
       "  list-style-type: none;\n",
       "}\n",
       "\n",
       ".ee ul {\n",
       "  padding-left: 1.5em !important;\n",
       "  margin: 0;\n",
       "}\n",
       "\n",
       ".ee > ul {\n",
       "  padding-left: 0 !important;\n",
       "}\n",
       "\n",
       ".ee-open,\n",
       ".ee-shut {\n",
       "  color: var(--font-color-secondary);\n",
       "  cursor: pointer;\n",
       "  margin: 0;\n",
       "}\n",
       "\n",
       ".ee-open:hover,\n",
       ".ee-shut:hover {\n",
       "  color: var(--font-color-primary);\n",
       "}\n",
       "\n",
       ".ee-k {\n",
       "  color: var(--font-color-accent);\n",
       "  margin-right: 6px;\n",
       "}\n",
       "\n",
       ".ee-v {\n",
       "  color: var(--font-color-primary);\n",
       "}\n",
       "\n",
       ".ee-toggle {\n",
       "  display: none;\n",
       "}\n",
       "\n",
       ".ee-shut + ul {\n",
       "  display: none;\n",
       "}\n",
       "\n",
       ".ee-open + ul {\n",
       "  display: block;\n",
       "}\n",
       "\n",
       ".ee-shut::before {\n",
       "  display: inline-block;\n",
       "  content: \"▼\";\n",
       "  margin-right: 6px;\n",
       "  transform: rotate(-90deg);\n",
       "  transition: transform 0.2s;\n",
       "}\n",
       "\n",
       ".ee-open::before {\n",
       "  transform: rotate(0deg);\n",
       "  display: inline-block;\n",
       "  content: \"▼\";\n",
       "  margin-right: 6px;\n",
       "  transition: transform 0.2s;\n",
       "}\n",
       "</style><div class='ee'><ul><li><label class='ee-shut'>List (13 elements)<input type='checkbox' class='ee-toggle'></label><ul><li><span class='ee-k'>0:</span><span class='ee-v'>treecover2000</span></li><li><span class='ee-k'>1:</span><span class='ee-v'>loss</span></li><li><span class='ee-k'>2:</span><span class='ee-v'>gain</span></li><li><span class='ee-k'>3:</span><span class='ee-v'>lossyear</span></li><li><span class='ee-k'>4:</span><span class='ee-v'>first_b30</span></li><li><span class='ee-k'>5:</span><span class='ee-v'>first_b40</span></li><li><span class='ee-k'>6:</span><span class='ee-v'>first_b50</span></li><li><span class='ee-k'>7:</span><span class='ee-v'>first_b70</span></li><li><span class='ee-k'>8:</span><span class='ee-v'>last_b30</span></li><li><span class='ee-k'>9:</span><span class='ee-v'>last_b40</span></li><li><span class='ee-k'>10:</span><span class='ee-v'>last_b50</span></li><li><span class='ee-k'>11:</span><span class='ee-v'>last_b70</span></li><li><span class='ee-k'>12:</span><span class='ee-v'>datamask</span></li></ul></li></ul></div><script>function toggleHeader() {\n",
       "    const parent = this.parentElement;\n",
       "    parent.className = parent.className === \"ee-open\" ? \"ee-shut\" : \"ee-open\";\n",
       "}\n",
       "\n",
       "for (let c of document.getElementsByClassName(\"ee-toggle\")) {\n",
       "    c.onclick = toggleHeader;\n",
       "}</script></div>"
      ],
      "text/plain": [
       "<ee.ee_list.List at 0x16ad68910>"
      ]
     },
     "execution_count": 112,
     "metadata": {},
     "output_type": "execute_result"
    }
   ],
   "source": [
    "dataset = ee.Image('UMD/hansen/global_forest_change_2022_v1_10')\n",
    "dataset.bandNames()"
   ]
  },
  {
   "cell_type": "markdown",
   "metadata": {},
   "source": [
    "Select the imagery for 2000."
   ]
  },
  {
   "cell_type": "code",
   "execution_count": 113,
   "metadata": {},
   "outputs": [
    {
     "data": {
      "text/html": [
       "\n",
       "            <style>\n",
       "                .geemap-dark {\n",
       "                    --jp-widgets-color: white;\n",
       "                    --jp-widgets-label-color: white;\n",
       "                    --jp-ui-font-color1: white;\n",
       "                    --jp-layout-color2: #454545;\n",
       "                    background-color: #383838;\n",
       "                }\n",
       "                    \n",
       "                .geemap-dark .jupyter-button {\n",
       "                    --jp-layout-color3: #383838;\n",
       "                }\n",
       "                \n",
       "                .geemap-colab {\n",
       "                    background-color: var(--colab-primary-surface-color, white);\n",
       "                }\n",
       "                    \n",
       "                .geemap-colab .jupyter-button {\n",
       "                    --jp-layout-color3: var(--colab-primary-surface-color, white);\n",
       "                }\n",
       "            </style>\n",
       "            "
      ],
      "text/plain": [
       "<IPython.core.display.HTML object>"
      ]
     },
     "metadata": {},
     "output_type": "display_data"
    }
   ],
   "source": [
    "m = geemap.Map()\n",
    "first_bands = ['first_b50', 'first_b40', 'first_b30']\n",
    "first_image = dataset.select(first_bands)\n",
    "m.add_layer(first_image, {'bands': first_bands, 'gamma': 1.5}, 'Landsat 2000')"
   ]
  },
  {
   "cell_type": "markdown",
   "metadata": {},
   "source": [
    "Select the imagery for 2022."
   ]
  },
  {
   "cell_type": "code",
   "execution_count": 114,
   "metadata": {},
   "outputs": [
    {
     "data": {
      "text/html": [
       "\n",
       "            <style>\n",
       "                .geemap-dark {\n",
       "                    --jp-widgets-color: white;\n",
       "                    --jp-widgets-label-color: white;\n",
       "                    --jp-ui-font-color1: white;\n",
       "                    --jp-layout-color2: #454545;\n",
       "                    background-color: #383838;\n",
       "                }\n",
       "                    \n",
       "                .geemap-dark .jupyter-button {\n",
       "                    --jp-layout-color3: #383838;\n",
       "                }\n",
       "                \n",
       "                .geemap-colab {\n",
       "                    background-color: var(--colab-primary-surface-color, white);\n",
       "                }\n",
       "                    \n",
       "                .geemap-colab .jupyter-button {\n",
       "                    --jp-layout-color3: var(--colab-primary-surface-color, white);\n",
       "                }\n",
       "            </style>\n",
       "            "
      ],
      "text/plain": [
       "<IPython.core.display.HTML object>"
      ]
     },
     "metadata": {},
     "output_type": "display_data"
    }
   ],
   "source": [
    "last_bands = ['last_b50', 'last_b40', 'last_b30']\n",
    "last_image = dataset.select(last_bands)\n",
    "m.add_layer(last_image, {'bands': last_bands, 'gamma': 1.5}, 'Landsat 2022')"
   ]
  },
  {
   "cell_type": "markdown",
   "metadata": {},
   "source": [
    "Select the tree cover imagery for 2000."
   ]
  },
  {
   "cell_type": "code",
   "execution_count": 115,
   "metadata": {},
   "outputs": [
    {
     "data": {
      "text/html": [
       "\n",
       "            <style>\n",
       "                .geemap-dark {\n",
       "                    --jp-widgets-color: white;\n",
       "                    --jp-widgets-label-color: white;\n",
       "                    --jp-ui-font-color1: white;\n",
       "                    --jp-layout-color2: #454545;\n",
       "                    background-color: #383838;\n",
       "                }\n",
       "                    \n",
       "                .geemap-dark .jupyter-button {\n",
       "                    --jp-layout-color3: #383838;\n",
       "                }\n",
       "                \n",
       "                .geemap-colab {\n",
       "                    background-color: var(--colab-primary-surface-color, white);\n",
       "                }\n",
       "                    \n",
       "                .geemap-colab .jupyter-button {\n",
       "                    --jp-layout-color3: var(--colab-primary-surface-color, white);\n",
       "                }\n",
       "            </style>\n",
       "            "
      ],
      "text/plain": [
       "<IPython.core.display.HTML object>"
      ]
     },
     "metadata": {},
     "output_type": "display_data"
    },
    {
     "data": {
      "application/vnd.jupyter.widget-view+json": {
       "model_id": "03cbfeebdedf4d97a193b15cafe570af",
       "version_major": 2,
       "version_minor": 0
      },
      "text/plain": [
       "Map(center=[0, 0], controls=(WidgetControl(options=['position', 'transparent_bg'], widget=SearchDataGUI(childr…"
      ]
     },
     "execution_count": 115,
     "metadata": {},
     "output_type": "execute_result"
    }
   ],
   "source": [
    "treecover = dataset.select(['treecover2000'])\n",
    "treeCoverVisParam = {'min': 0, 'max': 100, 'palette': ['black', 'green']}\n",
    "name = 'Tree cover (%)'\n",
    "m.add_layer(treecover, treeCoverVisParam, name)\n",
    "m.add_colorbar(treeCoverVisParam, label=name, layer_name=name)\n",
    "m.add('layer_manager')\n",
    "m"
   ]
  },
  {
   "cell_type": "markdown",
   "metadata": {},
   "source": [
    "Extract tree cover 2000 by using the threshold of 10%."
   ]
  },
  {
   "cell_type": "code",
   "execution_count": 117,
   "metadata": {},
   "outputs": [
    {
     "data": {
      "text/html": [
       "\n",
       "            <style>\n",
       "                .geemap-dark {\n",
       "                    --jp-widgets-color: white;\n",
       "                    --jp-widgets-label-color: white;\n",
       "                    --jp-ui-font-color1: white;\n",
       "                    --jp-layout-color2: #454545;\n",
       "                    background-color: #383838;\n",
       "                }\n",
       "                    \n",
       "                .geemap-dark .jupyter-button {\n",
       "                    --jp-layout-color3: #383838;\n",
       "                }\n",
       "                \n",
       "                .geemap-colab {\n",
       "                    background-color: var(--colab-primary-surface-color, white);\n",
       "                }\n",
       "                    \n",
       "                .geemap-colab .jupyter-button {\n",
       "                    --jp-layout-color3: var(--colab-primary-surface-color, white);\n",
       "                }\n",
       "            </style>\n",
       "            "
      ],
      "text/plain": [
       "<IPython.core.display.HTML object>"
      ]
     },
     "metadata": {},
     "output_type": "display_data"
    }
   ],
   "source": [
    "threshold = 10\n",
    "treecover_bin = treecover.gte(threshold).selfMask()\n",
    "treeVisParam = {'palette': ['green']}\n",
    "m.add_layer(treecover_bin, treeVisParam, 'Tree cover bin')"
   ]
  },
  {
   "cell_type": "markdown",
   "metadata": {},
   "source": [
    "#### Forest loss and gain mapping\n",
    "\n",
    "Visualize forest loss."
   ]
  },
  {
   "cell_type": "code",
   "execution_count": 118,
   "metadata": {},
   "outputs": [
    {
     "data": {
      "text/html": [
       "\n",
       "            <style>\n",
       "                .geemap-dark {\n",
       "                    --jp-widgets-color: white;\n",
       "                    --jp-widgets-label-color: white;\n",
       "                    --jp-ui-font-color1: white;\n",
       "                    --jp-layout-color2: #454545;\n",
       "                    background-color: #383838;\n",
       "                }\n",
       "                    \n",
       "                .geemap-dark .jupyter-button {\n",
       "                    --jp-layout-color3: #383838;\n",
       "                }\n",
       "                \n",
       "                .geemap-colab {\n",
       "                    background-color: var(--colab-primary-surface-color, white);\n",
       "                }\n",
       "                    \n",
       "                .geemap-colab .jupyter-button {\n",
       "                    --jp-layout-color3: var(--colab-primary-surface-color, white);\n",
       "                }\n",
       "            </style>\n",
       "            "
      ],
      "text/plain": [
       "<IPython.core.display.HTML object>"
      ]
     },
     "metadata": {},
     "output_type": "display_data"
    },
    {
     "data": {
      "application/vnd.jupyter.widget-view+json": {
       "model_id": "ad9a2f6bf6ab47b8a6b40f662b07a4d9",
       "version_major": 2,
       "version_minor": 0
      },
      "text/plain": [
       "Map(center=[0, 0], controls=(WidgetControl(options=['position', 'transparent_bg'], widget=SearchDataGUI(childr…"
      ]
     },
     "execution_count": 118,
     "metadata": {},
     "output_type": "execute_result"
    }
   ],
   "source": [
    "m = geemap.Map()\n",
    "m.add_basemap('Esri.WorldImagery')\n",
    "treeloss_year = dataset.select(['lossyear'])\n",
    "treeLossVisParam = {'min': 0, 'max': 22, 'palette': ['yellow', 'red']}\n",
    "layer_name = 'Tree loss year'\n",
    "m.add_layer(treeloss_year, treeLossVisParam, layer_name)\n",
    "m.add_colorbar(treeLossVisParam, label=layer_name, layer_name=layer_name)\n",
    "m.add('layer_manager')\n",
    "m"
   ]
  },
  {
   "cell_type": "markdown",
   "metadata": {},
   "source": [
    "Compare forest loss and gain."
   ]
  },
  {
   "cell_type": "code",
   "execution_count": 120,
   "metadata": {},
   "outputs": [
    {
     "data": {
      "text/html": [
       "\n",
       "            <style>\n",
       "                .geemap-dark {\n",
       "                    --jp-widgets-color: white;\n",
       "                    --jp-widgets-label-color: white;\n",
       "                    --jp-ui-font-color1: white;\n",
       "                    --jp-layout-color2: #454545;\n",
       "                    background-color: #383838;\n",
       "                }\n",
       "                    \n",
       "                .geemap-dark .jupyter-button {\n",
       "                    --jp-layout-color3: #383838;\n",
       "                }\n",
       "                \n",
       "                .geemap-colab {\n",
       "                    background-color: var(--colab-primary-surface-color, white);\n",
       "                }\n",
       "                    \n",
       "                .geemap-colab .jupyter-button {\n",
       "                    --jp-layout-color3: var(--colab-primary-surface-color, white);\n",
       "                }\n",
       "            </style>\n",
       "            "
      ],
      "text/plain": [
       "<IPython.core.display.HTML object>"
      ]
     },
     "metadata": {},
     "output_type": "display_data"
    },
    {
     "data": {
      "application/vnd.jupyter.widget-view+json": {
       "model_id": "d1d3d196a5ea479c9756a2fc8cad90e5",
       "version_major": 2,
       "version_minor": 0
      },
      "text/plain": [
       "Map(center=[0, 0], controls=(WidgetControl(options=['position', 'transparent_bg'], widget=SearchDataGUI(childr…"
      ]
     },
     "execution_count": 120,
     "metadata": {},
     "output_type": "execute_result"
    }
   ],
   "source": [
    "m = geemap.Map()\n",
    "m.add_basemap('Esri.WorldImagery')\n",
    "treeloss = dataset.select(['loss']).selfMask()\n",
    "treegain = dataset.select(['gain']).selfMask()\n",
    "m.add_layer(treeloss, {'palette': 'red'}, 'Tree loss')\n",
    "m.add_layer(treegain, {'palette': 'yellow'}, 'Tree gain')\n",
    "m.add('layer_manager')\n",
    "m"
   ]
  },
  {
   "cell_type": "markdown",
   "metadata": {},
   "source": [
    "#### Zonal statistics by country\n",
    "\n",
    "Compute zonal statistics to find out which country has the largest forest area in 2000.\n",
    "\n",
    "Add a country boundary layer to the map."
   ]
  },
  {
   "cell_type": "code",
   "execution_count": 122,
   "metadata": {},
   "outputs": [
    {
     "data": {
      "text/html": [
       "\n",
       "            <style>\n",
       "                .geemap-dark {\n",
       "                    --jp-widgets-color: white;\n",
       "                    --jp-widgets-label-color: white;\n",
       "                    --jp-ui-font-color1: white;\n",
       "                    --jp-layout-color2: #454545;\n",
       "                    background-color: #383838;\n",
       "                }\n",
       "                    \n",
       "                .geemap-dark .jupyter-button {\n",
       "                    --jp-layout-color3: #383838;\n",
       "                }\n",
       "                \n",
       "                .geemap-colab {\n",
       "                    background-color: var(--colab-primary-surface-color, white);\n",
       "                }\n",
       "                    \n",
       "                .geemap-colab .jupyter-button {\n",
       "                    --jp-layout-color3: var(--colab-primary-surface-color, white);\n",
       "                }\n",
       "            </style>\n",
       "            "
      ],
      "text/plain": [
       "<IPython.core.display.HTML object>"
      ]
     },
     "metadata": {},
     "output_type": "display_data"
    },
    {
     "data": {
      "application/vnd.jupyter.widget-view+json": {
       "model_id": "30556493a8a04902a49119b6f2d775d6",
       "version_major": 2,
       "version_minor": 0
      },
      "text/plain": [
       "Map(center=[0, 0], controls=(WidgetControl(options=['position', 'transparent_bg'], widget=SearchDataGUI(childr…"
      ]
     },
     "execution_count": 122,
     "metadata": {},
     "output_type": "execute_result"
    }
   ],
   "source": [
    "m = geemap.Map()\n",
    "countries = ee.FeatureCollection(geemap.examples.get_ee_path('countries'))\n",
    "style = {'color': '#000000ff', 'fillColor': '#00000000'}\n",
    "m.add_layer(countries.style(**style), {}, 'Countries')\n",
    "m"
   ]
  },
  {
   "cell_type": "markdown",
   "metadata": {},
   "source": [
    "Compute zonal statistics by country."
   ]
  },
  {
   "cell_type": "code",
   "execution_count": 124,
   "metadata": {},
   "outputs": [
    {
     "data": {
      "text/html": [
       "\n",
       "            <style>\n",
       "                .geemap-dark {\n",
       "                    --jp-widgets-color: white;\n",
       "                    --jp-widgets-label-color: white;\n",
       "                    --jp-ui-font-color1: white;\n",
       "                    --jp-layout-color2: #454545;\n",
       "                    background-color: #383838;\n",
       "                }\n",
       "                    \n",
       "                .geemap-dark .jupyter-button {\n",
       "                    --jp-layout-color3: #383838;\n",
       "                }\n",
       "                \n",
       "                .geemap-colab {\n",
       "                    background-color: var(--colab-primary-surface-color, white);\n",
       "                }\n",
       "                    \n",
       "                .geemap-colab .jupyter-button {\n",
       "                    --jp-layout-color3: var(--colab-primary-surface-color, white);\n",
       "                }\n",
       "            </style>\n",
       "            "
      ],
      "text/plain": [
       "<IPython.core.display.HTML object>"
      ]
     },
     "metadata": {},
     "output_type": "display_data"
    },
    {
     "name": "stdout",
     "output_type": "stream",
     "text": [
      "Computing statistics ...\n",
      "Generating URL ...\n",
      "Downloading data from https://earthengine.googleapis.com/v1/projects/earthengine-legacy/tables/07c67befd41ec0be407f180335c8c827-f386021ac963ba7a91eae57c00c67df4:getFeatures\n",
      "Please wait ...\n",
      "Data downloaded to /Users/ilyonsg/Documents/gee/gee-python-workshop/exports/forest_cover.csv\n"
     ]
    }
   ],
   "source": [
    "geemap.zonal_stats(\n",
    "    treecover_bin,\n",
    "    countries,\n",
    "    'exports/forest_cover.csv',\n",
    "    statistics_type='SUM',\n",
    "    denominator=1e6,\n",
    "    scale=1000,\n",
    ")"
   ]
  },
  {
   "cell_type": "markdown",
   "metadata": {},
   "source": [
    "Create a pie chart to visualize the forest area by country."
   ]
  },
  {
   "cell_type": "code",
   "execution_count": 126,
   "metadata": {},
   "outputs": [
    {
     "data": {
      "text/html": [
       "\n",
       "            <style>\n",
       "                .geemap-dark {\n",
       "                    --jp-widgets-color: white;\n",
       "                    --jp-widgets-label-color: white;\n",
       "                    --jp-ui-font-color1: white;\n",
       "                    --jp-layout-color2: #454545;\n",
       "                    background-color: #383838;\n",
       "                }\n",
       "                    \n",
       "                .geemap-dark .jupyter-button {\n",
       "                    --jp-layout-color3: #383838;\n",
       "                }\n",
       "                \n",
       "                .geemap-colab {\n",
       "                    background-color: var(--colab-primary-surface-color, white);\n",
       "                }\n",
       "                    \n",
       "                .geemap-colab .jupyter-button {\n",
       "                    --jp-layout-color3: var(--colab-primary-surface-color, white);\n",
       "                }\n",
       "            </style>\n",
       "            "
      ],
      "text/plain": [
       "<IPython.core.display.HTML object>"
      ]
     },
     "metadata": {},
     "output_type": "display_data"
    },
    {
     "data": {
      "application/vnd.plotly.v1+json": {
       "config": {
        "plotlyServerURL": "https://plot.ly"
       },
       "data": [
        {
         "domain": {
          "x": [
           0,
           1
          ],
          "y": [
           0,
           1
          ]
         },
         "hovertemplate": "NAME=%{label}<br>sum=%{value}<extra></extra>",
         "labels": [
          "Russia",
          "Canada",
          "Brazil",
          "United States of America",
          "China",
          "Dem. Rep. Congo",
          "Indonesia",
          "Angola",
          "Colombia",
          "Mexico",
          "Australia",
          "Peru",
          "Mozambique",
          "Sweden",
          "Bolivia",
          "Venezuela",
          "Tanzania",
          "Finland",
          "Zambia",
          "Other",
          "Other",
          "Other",
          "Other",
          "Other",
          "Other",
          "Other",
          "Other",
          "Other",
          "Other",
          "Other",
          "Other",
          "Other",
          "Other",
          "Other",
          "Other",
          "Other",
          "Other",
          "Other",
          "Other",
          "Other",
          "Other",
          "Other",
          "Other",
          "Other",
          "Other",
          "Other",
          "Other",
          "Other",
          "Other",
          "Other",
          "Other",
          "Other",
          "Other",
          "Other",
          "Other",
          "Other",
          "Other",
          "Other",
          "Other",
          "Other",
          "Other",
          "Other",
          "Other",
          "Other",
          "Other",
          "Other",
          "Other",
          "Other",
          "Other",
          "Other",
          "Other",
          "Other",
          "Other",
          "Other",
          "Other",
          "Other",
          "Other",
          "Other",
          "Other",
          "Other",
          "Other",
          "Other",
          "Other",
          "Other",
          "Other",
          "Other",
          "Other",
          "Other",
          "Other",
          "Other",
          "Other",
          "Other",
          "Other",
          "Other",
          "Other",
          "Other",
          "Other",
          "Other",
          "Other",
          "Other",
          "Other",
          "Other",
          "Other",
          "Other",
          "Other",
          "Other",
          "Other",
          "Other",
          "Other",
          "Other",
          "Other",
          "Other",
          "Other",
          "Other",
          "Other",
          "Other",
          "Other",
          "Other",
          "Other",
          "Other",
          "Other",
          "Other",
          "Other",
          "Other",
          "Other",
          "Other",
          "Other",
          "Other",
          "Other",
          "Other",
          "Other",
          "Other",
          "Other",
          "Other",
          "Other",
          "Other",
          "Other",
          "Other",
          "Other",
          "Other",
          "Other",
          "Other",
          "Other",
          "Other",
          "Other",
          "Other",
          "Other",
          "Other",
          "Other",
          "Other",
          "Other",
          "Other",
          "Other",
          "Other",
          "Other",
          "Other",
          "Other",
          "Other",
          "Other",
          "Other",
          "Other",
          "Other",
          "Other",
          "Other",
          "Other",
          "Other",
          "Other",
          "Other",
          "Other",
          "Other",
          "Other",
          "Other",
          "Other",
          "Other",
          "Other",
          "Other"
         ],
         "legendgroup": "",
         "name": "",
         "showlegend": true,
         "type": "pie",
         "values": [
          20806459.717647053,
          9859578.486274512,
          6814060.937254902,
          6054365.50980392,
          3066764.2470588232,
          2319213.4862745088,
          1665379.6392156864,
          1017770.9764705884,
          995206.6784313729,
          885007.7254901947,
          884440.8941176471,
          835082.3372549014,
          799483.6039215687,
          798572.674509804,
          764771.3098039209,
          695175.7019607839,
          689332.0705882346,
          685101.3490196083,
          674879.6392156859,
          627136.5803921571,
          616192.0666666667,
          565477.1882352942,
          541900.3882352939,
          523977.4078431375,
          476560.66666666657,
          442325.7686274506,
          440389.7137254898,
          416817.4078431374,
          405493.8196078428,
          389489.87843137246,
          382913.3333333336,
          365233.3411764709,
          364336.48235294106,
          363318.4156862745,
          339031.50196078385,
          326596.7568627449,
          326140.50588235265,
          322948.2549019608,
          280463.75294117647,
          268120.8549019611,
          267359.1333333333,
          262065.66274509797,
          261376.3803921569,
          260862.47843137264,
          243985.99215686263,
          235165.07450980355,
          231450.074509804,
          229999.52941176464,
          226315.5725490196,
          225550.2117647059,
          223966.34509803937,
          214618.89803921583,
          209196.27450980392,
          200122.55294117643,
          199275.9843137256,
          194680.8470588235,
          192655.00784313737,
          168833.43529411775,
          142621.38039215692,
          140506.57254901945,
          133826.63137254893,
          128465.37647058826,
          123668.54901960802,
          122397.35294117645,
          117907.9725490196,
          112443.23529411772,
          106765.73333333332,
          104155.3411764706,
          100135.97254901969,
          97047.2039215687,
          96498.0235294118,
          95910.89803921568,
          95704.25490196078,
          94398.062745098,
          93131.07450980388,
          89095.79999999994,
          86470.96862745093,
          84391.92156862754,
          80054.7960784314,
          76612.15686274512,
          73541.76862745106,
          68785.53725490192,
          68737.8039215687,
          67439.36470588231,
          64306.721568627465,
          62806.71764705889,
          60048.12941176472,
          57478.76862745106,
          56540.65490196079,
          53333.545098039234,
          52409.36862745098,
          51473.592156862615,
          50955.345098039244,
          50601.12549019604,
          48230.79215686285,
          47924.49803921572,
          46974.9098039216,
          43740.43529411765,
          40917.45098039216,
          40625.01176470591,
          39681.9725490196,
          35028.84705882357,
          30787.376470588217,
          30668.31764705884,
          30147.92156862748,
          29542.023529411763,
          29323.02745098038,
          29292.000000000025,
          28879.027450980397,
          28528.49411764706,
          28136.929411764693,
          28086.474509803924,
          24780.376470588264,
          24713.15686274515,
          24092.22745098036,
          23679.67843137255,
          22382.450980392157,
          22104.011764705883,
          21308.643137254887,
          20752.63529411765,
          20033.8862745098,
          19362.07843137256,
          19150.749019607854,
          19149.58823529412,
          18345.180392156875,
          18072.84705882353,
          18038.85882352941,
          17965.80392156863,
          17910.117647058833,
          16652.53725490195,
          15812.69019607843,
          14540.960784313726,
          13790.498039215689,
          11541.101960784315,
          10517.74509803922,
          9963.156862745098,
          9351.329411764706,
          8098.266666666667,
          7933.235294117641,
          6942.3803921568615,
          6207.75294117647,
          6108.8941176470535,
          5893.168627450981,
          5629.392156862744,
          4435.568627450981,
          4012.4980392156863,
          3274.227450980392,
          2889.4980392156854,
          2756.811764705884,
          2280.4666666666667,
          1973.1843137254896,
          1956.278431372548,
          1903.9843137254904,
          842.7372549019608,
          526.2941176470589,
          388.25882352941176,
          258,
          250.0196078431373,
          230.0745098039216,
          147.09019607843138,
          82,
          13.686274509803924,
          7,
          4.96470588235294,
          3,
          2,
          0,
          0,
          0,
          0,
          0,
          0,
          0,
          0,
          0,
          0
         ]
        }
       ],
       "layout": {
        "height": 400,
        "legend": {
         "tracegroupgap": 0
        },
        "margin": {
         "t": 60
        },
        "template": {
         "data": {
          "bar": [
           {
            "error_x": {
             "color": "#2a3f5f"
            },
            "error_y": {
             "color": "#2a3f5f"
            },
            "marker": {
             "line": {
              "color": "#E5ECF6",
              "width": 0.5
             },
             "pattern": {
              "fillmode": "overlay",
              "size": 10,
              "solidity": 0.2
             }
            },
            "type": "bar"
           }
          ],
          "barpolar": [
           {
            "marker": {
             "line": {
              "color": "#E5ECF6",
              "width": 0.5
             },
             "pattern": {
              "fillmode": "overlay",
              "size": 10,
              "solidity": 0.2
             }
            },
            "type": "barpolar"
           }
          ],
          "carpet": [
           {
            "aaxis": {
             "endlinecolor": "#2a3f5f",
             "gridcolor": "white",
             "linecolor": "white",
             "minorgridcolor": "white",
             "startlinecolor": "#2a3f5f"
            },
            "baxis": {
             "endlinecolor": "#2a3f5f",
             "gridcolor": "white",
             "linecolor": "white",
             "minorgridcolor": "white",
             "startlinecolor": "#2a3f5f"
            },
            "type": "carpet"
           }
          ],
          "choropleth": [
           {
            "colorbar": {
             "outlinewidth": 0,
             "ticks": ""
            },
            "type": "choropleth"
           }
          ],
          "contour": [
           {
            "colorbar": {
             "outlinewidth": 0,
             "ticks": ""
            },
            "colorscale": [
             [
              0,
              "#0d0887"
             ],
             [
              0.1111111111111111,
              "#46039f"
             ],
             [
              0.2222222222222222,
              "#7201a8"
             ],
             [
              0.3333333333333333,
              "#9c179e"
             ],
             [
              0.4444444444444444,
              "#bd3786"
             ],
             [
              0.5555555555555556,
              "#d8576b"
             ],
             [
              0.6666666666666666,
              "#ed7953"
             ],
             [
              0.7777777777777778,
              "#fb9f3a"
             ],
             [
              0.8888888888888888,
              "#fdca26"
             ],
             [
              1,
              "#f0f921"
             ]
            ],
            "type": "contour"
           }
          ],
          "contourcarpet": [
           {
            "colorbar": {
             "outlinewidth": 0,
             "ticks": ""
            },
            "type": "contourcarpet"
           }
          ],
          "heatmap": [
           {
            "colorbar": {
             "outlinewidth": 0,
             "ticks": ""
            },
            "colorscale": [
             [
              0,
              "#0d0887"
             ],
             [
              0.1111111111111111,
              "#46039f"
             ],
             [
              0.2222222222222222,
              "#7201a8"
             ],
             [
              0.3333333333333333,
              "#9c179e"
             ],
             [
              0.4444444444444444,
              "#bd3786"
             ],
             [
              0.5555555555555556,
              "#d8576b"
             ],
             [
              0.6666666666666666,
              "#ed7953"
             ],
             [
              0.7777777777777778,
              "#fb9f3a"
             ],
             [
              0.8888888888888888,
              "#fdca26"
             ],
             [
              1,
              "#f0f921"
             ]
            ],
            "type": "heatmap"
           }
          ],
          "heatmapgl": [
           {
            "colorbar": {
             "outlinewidth": 0,
             "ticks": ""
            },
            "colorscale": [
             [
              0,
              "#0d0887"
             ],
             [
              0.1111111111111111,
              "#46039f"
             ],
             [
              0.2222222222222222,
              "#7201a8"
             ],
             [
              0.3333333333333333,
              "#9c179e"
             ],
             [
              0.4444444444444444,
              "#bd3786"
             ],
             [
              0.5555555555555556,
              "#d8576b"
             ],
             [
              0.6666666666666666,
              "#ed7953"
             ],
             [
              0.7777777777777778,
              "#fb9f3a"
             ],
             [
              0.8888888888888888,
              "#fdca26"
             ],
             [
              1,
              "#f0f921"
             ]
            ],
            "type": "heatmapgl"
           }
          ],
          "histogram": [
           {
            "marker": {
             "pattern": {
              "fillmode": "overlay",
              "size": 10,
              "solidity": 0.2
             }
            },
            "type": "histogram"
           }
          ],
          "histogram2d": [
           {
            "colorbar": {
             "outlinewidth": 0,
             "ticks": ""
            },
            "colorscale": [
             [
              0,
              "#0d0887"
             ],
             [
              0.1111111111111111,
              "#46039f"
             ],
             [
              0.2222222222222222,
              "#7201a8"
             ],
             [
              0.3333333333333333,
              "#9c179e"
             ],
             [
              0.4444444444444444,
              "#bd3786"
             ],
             [
              0.5555555555555556,
              "#d8576b"
             ],
             [
              0.6666666666666666,
              "#ed7953"
             ],
             [
              0.7777777777777778,
              "#fb9f3a"
             ],
             [
              0.8888888888888888,
              "#fdca26"
             ],
             [
              1,
              "#f0f921"
             ]
            ],
            "type": "histogram2d"
           }
          ],
          "histogram2dcontour": [
           {
            "colorbar": {
             "outlinewidth": 0,
             "ticks": ""
            },
            "colorscale": [
             [
              0,
              "#0d0887"
             ],
             [
              0.1111111111111111,
              "#46039f"
             ],
             [
              0.2222222222222222,
              "#7201a8"
             ],
             [
              0.3333333333333333,
              "#9c179e"
             ],
             [
              0.4444444444444444,
              "#bd3786"
             ],
             [
              0.5555555555555556,
              "#d8576b"
             ],
             [
              0.6666666666666666,
              "#ed7953"
             ],
             [
              0.7777777777777778,
              "#fb9f3a"
             ],
             [
              0.8888888888888888,
              "#fdca26"
             ],
             [
              1,
              "#f0f921"
             ]
            ],
            "type": "histogram2dcontour"
           }
          ],
          "mesh3d": [
           {
            "colorbar": {
             "outlinewidth": 0,
             "ticks": ""
            },
            "type": "mesh3d"
           }
          ],
          "parcoords": [
           {
            "line": {
             "colorbar": {
              "outlinewidth": 0,
              "ticks": ""
             }
            },
            "type": "parcoords"
           }
          ],
          "pie": [
           {
            "automargin": true,
            "type": "pie"
           }
          ],
          "scatter": [
           {
            "fillpattern": {
             "fillmode": "overlay",
             "size": 10,
             "solidity": 0.2
            },
            "type": "scatter"
           }
          ],
          "scatter3d": [
           {
            "line": {
             "colorbar": {
              "outlinewidth": 0,
              "ticks": ""
             }
            },
            "marker": {
             "colorbar": {
              "outlinewidth": 0,
              "ticks": ""
             }
            },
            "type": "scatter3d"
           }
          ],
          "scattercarpet": [
           {
            "marker": {
             "colorbar": {
              "outlinewidth": 0,
              "ticks": ""
             }
            },
            "type": "scattercarpet"
           }
          ],
          "scattergeo": [
           {
            "marker": {
             "colorbar": {
              "outlinewidth": 0,
              "ticks": ""
             }
            },
            "type": "scattergeo"
           }
          ],
          "scattergl": [
           {
            "marker": {
             "colorbar": {
              "outlinewidth": 0,
              "ticks": ""
             }
            },
            "type": "scattergl"
           }
          ],
          "scattermapbox": [
           {
            "marker": {
             "colorbar": {
              "outlinewidth": 0,
              "ticks": ""
             }
            },
            "type": "scattermapbox"
           }
          ],
          "scatterpolar": [
           {
            "marker": {
             "colorbar": {
              "outlinewidth": 0,
              "ticks": ""
             }
            },
            "type": "scatterpolar"
           }
          ],
          "scatterpolargl": [
           {
            "marker": {
             "colorbar": {
              "outlinewidth": 0,
              "ticks": ""
             }
            },
            "type": "scatterpolargl"
           }
          ],
          "scatterternary": [
           {
            "marker": {
             "colorbar": {
              "outlinewidth": 0,
              "ticks": ""
             }
            },
            "type": "scatterternary"
           }
          ],
          "surface": [
           {
            "colorbar": {
             "outlinewidth": 0,
             "ticks": ""
            },
            "colorscale": [
             [
              0,
              "#0d0887"
             ],
             [
              0.1111111111111111,
              "#46039f"
             ],
             [
              0.2222222222222222,
              "#7201a8"
             ],
             [
              0.3333333333333333,
              "#9c179e"
             ],
             [
              0.4444444444444444,
              "#bd3786"
             ],
             [
              0.5555555555555556,
              "#d8576b"
             ],
             [
              0.6666666666666666,
              "#ed7953"
             ],
             [
              0.7777777777777778,
              "#fb9f3a"
             ],
             [
              0.8888888888888888,
              "#fdca26"
             ],
             [
              1,
              "#f0f921"
             ]
            ],
            "type": "surface"
           }
          ],
          "table": [
           {
            "cells": {
             "fill": {
              "color": "#EBF0F8"
             },
             "line": {
              "color": "white"
             }
            },
            "header": {
             "fill": {
              "color": "#C8D4E3"
             },
             "line": {
              "color": "white"
             }
            },
            "type": "table"
           }
          ]
         },
         "layout": {
          "annotationdefaults": {
           "arrowcolor": "#2a3f5f",
           "arrowhead": 0,
           "arrowwidth": 1
          },
          "autotypenumbers": "strict",
          "coloraxis": {
           "colorbar": {
            "outlinewidth": 0,
            "ticks": ""
           }
          },
          "colorscale": {
           "diverging": [
            [
             0,
             "#8e0152"
            ],
            [
             0.1,
             "#c51b7d"
            ],
            [
             0.2,
             "#de77ae"
            ],
            [
             0.3,
             "#f1b6da"
            ],
            [
             0.4,
             "#fde0ef"
            ],
            [
             0.5,
             "#f7f7f7"
            ],
            [
             0.6,
             "#e6f5d0"
            ],
            [
             0.7,
             "#b8e186"
            ],
            [
             0.8,
             "#7fbc41"
            ],
            [
             0.9,
             "#4d9221"
            ],
            [
             1,
             "#276419"
            ]
           ],
           "sequential": [
            [
             0,
             "#0d0887"
            ],
            [
             0.1111111111111111,
             "#46039f"
            ],
            [
             0.2222222222222222,
             "#7201a8"
            ],
            [
             0.3333333333333333,
             "#9c179e"
            ],
            [
             0.4444444444444444,
             "#bd3786"
            ],
            [
             0.5555555555555556,
             "#d8576b"
            ],
            [
             0.6666666666666666,
             "#ed7953"
            ],
            [
             0.7777777777777778,
             "#fb9f3a"
            ],
            [
             0.8888888888888888,
             "#fdca26"
            ],
            [
             1,
             "#f0f921"
            ]
           ],
           "sequentialminus": [
            [
             0,
             "#0d0887"
            ],
            [
             0.1111111111111111,
             "#46039f"
            ],
            [
             0.2222222222222222,
             "#7201a8"
            ],
            [
             0.3333333333333333,
             "#9c179e"
            ],
            [
             0.4444444444444444,
             "#bd3786"
            ],
            [
             0.5555555555555556,
             "#d8576b"
            ],
            [
             0.6666666666666666,
             "#ed7953"
            ],
            [
             0.7777777777777778,
             "#fb9f3a"
            ],
            [
             0.8888888888888888,
             "#fdca26"
            ],
            [
             1,
             "#f0f921"
            ]
           ]
          },
          "colorway": [
           "#636efa",
           "#EF553B",
           "#00cc96",
           "#ab63fa",
           "#FFA15A",
           "#19d3f3",
           "#FF6692",
           "#B6E880",
           "#FF97FF",
           "#FECB52"
          ],
          "font": {
           "color": "#2a3f5f"
          },
          "geo": {
           "bgcolor": "white",
           "lakecolor": "white",
           "landcolor": "#E5ECF6",
           "showlakes": true,
           "showland": true,
           "subunitcolor": "white"
          },
          "hoverlabel": {
           "align": "left"
          },
          "hovermode": "closest",
          "mapbox": {
           "style": "light"
          },
          "paper_bgcolor": "white",
          "plot_bgcolor": "#E5ECF6",
          "polar": {
           "angularaxis": {
            "gridcolor": "white",
            "linecolor": "white",
            "ticks": ""
           },
           "bgcolor": "#E5ECF6",
           "radialaxis": {
            "gridcolor": "white",
            "linecolor": "white",
            "ticks": ""
           }
          },
          "scene": {
           "xaxis": {
            "backgroundcolor": "#E5ECF6",
            "gridcolor": "white",
            "gridwidth": 2,
            "linecolor": "white",
            "showbackground": true,
            "ticks": "",
            "zerolinecolor": "white"
           },
           "yaxis": {
            "backgroundcolor": "#E5ECF6",
            "gridcolor": "white",
            "gridwidth": 2,
            "linecolor": "white",
            "showbackground": true,
            "ticks": "",
            "zerolinecolor": "white"
           },
           "zaxis": {
            "backgroundcolor": "#E5ECF6",
            "gridcolor": "white",
            "gridwidth": 2,
            "linecolor": "white",
            "showbackground": true,
            "ticks": "",
            "zerolinecolor": "white"
           }
          },
          "shapedefaults": {
           "line": {
            "color": "#2a3f5f"
           }
          },
          "ternary": {
           "aaxis": {
            "gridcolor": "white",
            "linecolor": "white",
            "ticks": ""
           },
           "baxis": {
            "gridcolor": "white",
            "linecolor": "white",
            "ticks": ""
           },
           "bgcolor": "#E5ECF6",
           "caxis": {
            "gridcolor": "white",
            "linecolor": "white",
            "ticks": ""
           }
          },
          "title": {
           "x": 0.05
          },
          "xaxis": {
           "automargin": true,
           "gridcolor": "white",
           "linecolor": "white",
           "ticks": "",
           "title": {
            "standoff": 15
           },
           "zerolinecolor": "white",
           "zerolinewidth": 2
          },
          "yaxis": {
           "automargin": true,
           "gridcolor": "white",
           "linecolor": "white",
           "ticks": "",
           "title": {
            "standoff": 15
           },
           "zerolinecolor": "white",
           "zerolinewidth": 2
          }
         }
        }
       }
      }
     },
     "metadata": {},
     "output_type": "display_data"
    }
   ],
   "source": [
    "geemap.pie_chart(\n",
    "    'exports/forest_cover.csv', names='NAME', values='sum', max_rows=20, height=400\n",
    ")"
   ]
  },
  {
   "cell_type": "markdown",
   "metadata": {},
   "source": [
    "Create a bar chart to visualize the forest area by country."
   ]
  },
  {
   "cell_type": "code",
   "execution_count": 128,
   "metadata": {},
   "outputs": [
    {
     "data": {
      "text/html": [
       "\n",
       "            <style>\n",
       "                .geemap-dark {\n",
       "                    --jp-widgets-color: white;\n",
       "                    --jp-widgets-label-color: white;\n",
       "                    --jp-ui-font-color1: white;\n",
       "                    --jp-layout-color2: #454545;\n",
       "                    background-color: #383838;\n",
       "                }\n",
       "                    \n",
       "                .geemap-dark .jupyter-button {\n",
       "                    --jp-layout-color3: #383838;\n",
       "                }\n",
       "                \n",
       "                .geemap-colab {\n",
       "                    background-color: var(--colab-primary-surface-color, white);\n",
       "                }\n",
       "                    \n",
       "                .geemap-colab .jupyter-button {\n",
       "                    --jp-layout-color3: var(--colab-primary-surface-color, white);\n",
       "                }\n",
       "            </style>\n",
       "            "
      ],
      "text/plain": [
       "<IPython.core.display.HTML object>"
      ]
     },
     "metadata": {},
     "output_type": "display_data"
    },
    {
     "data": {
      "application/vnd.plotly.v1+json": {
       "config": {
        "plotlyServerURL": "https://plot.ly"
       },
       "data": [
        {
         "alignmentgroup": "True",
         "hovertemplate": "Country=%{x}<br>Forest area (km2)=%{y}<extra></extra>",
         "legendgroup": "",
         "marker": {
          "color": "#636efa",
          "pattern": {
           "shape": ""
          }
         },
         "name": "",
         "offsetgroup": "",
         "orientation": "v",
         "showlegend": false,
         "textposition": "auto",
         "type": "bar",
         "x": [
          "Russia",
          "Canada",
          "Brazil",
          "United States of America",
          "China",
          "Dem. Rep. Congo",
          "Indonesia",
          "Angola",
          "Colombia",
          "Mexico",
          "Australia",
          "Peru",
          "Mozambique",
          "Sweden",
          "Bolivia",
          "Venezuela",
          "Tanzania",
          "Finland",
          "Zambia",
          "Argentina"
         ],
         "xaxis": "x",
         "y": [
          20806459.717647053,
          9859578.486274512,
          6814060.937254902,
          6054365.50980392,
          3066764.2470588232,
          2319213.4862745088,
          1665379.6392156864,
          1017770.9764705884,
          995206.6784313729,
          885007.7254901947,
          884440.8941176471,
          835082.3372549014,
          799483.6039215687,
          798572.674509804,
          764771.3098039209,
          695175.7019607839,
          689332.0705882346,
          685101.3490196083,
          674879.6392156859,
          627136.5803921571
         ],
         "yaxis": "y"
        }
       ],
       "layout": {
        "barmode": "group",
        "height": 500,
        "legend": {
         "tracegroupgap": 0
        },
        "margin": {
         "t": 60
        },
        "template": {
         "data": {
          "bar": [
           {
            "error_x": {
             "color": "#2a3f5f"
            },
            "error_y": {
             "color": "#2a3f5f"
            },
            "marker": {
             "line": {
              "color": "#E5ECF6",
              "width": 0.5
             },
             "pattern": {
              "fillmode": "overlay",
              "size": 10,
              "solidity": 0.2
             }
            },
            "type": "bar"
           }
          ],
          "barpolar": [
           {
            "marker": {
             "line": {
              "color": "#E5ECF6",
              "width": 0.5
             },
             "pattern": {
              "fillmode": "overlay",
              "size": 10,
              "solidity": 0.2
             }
            },
            "type": "barpolar"
           }
          ],
          "carpet": [
           {
            "aaxis": {
             "endlinecolor": "#2a3f5f",
             "gridcolor": "white",
             "linecolor": "white",
             "minorgridcolor": "white",
             "startlinecolor": "#2a3f5f"
            },
            "baxis": {
             "endlinecolor": "#2a3f5f",
             "gridcolor": "white",
             "linecolor": "white",
             "minorgridcolor": "white",
             "startlinecolor": "#2a3f5f"
            },
            "type": "carpet"
           }
          ],
          "choropleth": [
           {
            "colorbar": {
             "outlinewidth": 0,
             "ticks": ""
            },
            "type": "choropleth"
           }
          ],
          "contour": [
           {
            "colorbar": {
             "outlinewidth": 0,
             "ticks": ""
            },
            "colorscale": [
             [
              0,
              "#0d0887"
             ],
             [
              0.1111111111111111,
              "#46039f"
             ],
             [
              0.2222222222222222,
              "#7201a8"
             ],
             [
              0.3333333333333333,
              "#9c179e"
             ],
             [
              0.4444444444444444,
              "#bd3786"
             ],
             [
              0.5555555555555556,
              "#d8576b"
             ],
             [
              0.6666666666666666,
              "#ed7953"
             ],
             [
              0.7777777777777778,
              "#fb9f3a"
             ],
             [
              0.8888888888888888,
              "#fdca26"
             ],
             [
              1,
              "#f0f921"
             ]
            ],
            "type": "contour"
           }
          ],
          "contourcarpet": [
           {
            "colorbar": {
             "outlinewidth": 0,
             "ticks": ""
            },
            "type": "contourcarpet"
           }
          ],
          "heatmap": [
           {
            "colorbar": {
             "outlinewidth": 0,
             "ticks": ""
            },
            "colorscale": [
             [
              0,
              "#0d0887"
             ],
             [
              0.1111111111111111,
              "#46039f"
             ],
             [
              0.2222222222222222,
              "#7201a8"
             ],
             [
              0.3333333333333333,
              "#9c179e"
             ],
             [
              0.4444444444444444,
              "#bd3786"
             ],
             [
              0.5555555555555556,
              "#d8576b"
             ],
             [
              0.6666666666666666,
              "#ed7953"
             ],
             [
              0.7777777777777778,
              "#fb9f3a"
             ],
             [
              0.8888888888888888,
              "#fdca26"
             ],
             [
              1,
              "#f0f921"
             ]
            ],
            "type": "heatmap"
           }
          ],
          "heatmapgl": [
           {
            "colorbar": {
             "outlinewidth": 0,
             "ticks": ""
            },
            "colorscale": [
             [
              0,
              "#0d0887"
             ],
             [
              0.1111111111111111,
              "#46039f"
             ],
             [
              0.2222222222222222,
              "#7201a8"
             ],
             [
              0.3333333333333333,
              "#9c179e"
             ],
             [
              0.4444444444444444,
              "#bd3786"
             ],
             [
              0.5555555555555556,
              "#d8576b"
             ],
             [
              0.6666666666666666,
              "#ed7953"
             ],
             [
              0.7777777777777778,
              "#fb9f3a"
             ],
             [
              0.8888888888888888,
              "#fdca26"
             ],
             [
              1,
              "#f0f921"
             ]
            ],
            "type": "heatmapgl"
           }
          ],
          "histogram": [
           {
            "marker": {
             "pattern": {
              "fillmode": "overlay",
              "size": 10,
              "solidity": 0.2
             }
            },
            "type": "histogram"
           }
          ],
          "histogram2d": [
           {
            "colorbar": {
             "outlinewidth": 0,
             "ticks": ""
            },
            "colorscale": [
             [
              0,
              "#0d0887"
             ],
             [
              0.1111111111111111,
              "#46039f"
             ],
             [
              0.2222222222222222,
              "#7201a8"
             ],
             [
              0.3333333333333333,
              "#9c179e"
             ],
             [
              0.4444444444444444,
              "#bd3786"
             ],
             [
              0.5555555555555556,
              "#d8576b"
             ],
             [
              0.6666666666666666,
              "#ed7953"
             ],
             [
              0.7777777777777778,
              "#fb9f3a"
             ],
             [
              0.8888888888888888,
              "#fdca26"
             ],
             [
              1,
              "#f0f921"
             ]
            ],
            "type": "histogram2d"
           }
          ],
          "histogram2dcontour": [
           {
            "colorbar": {
             "outlinewidth": 0,
             "ticks": ""
            },
            "colorscale": [
             [
              0,
              "#0d0887"
             ],
             [
              0.1111111111111111,
              "#46039f"
             ],
             [
              0.2222222222222222,
              "#7201a8"
             ],
             [
              0.3333333333333333,
              "#9c179e"
             ],
             [
              0.4444444444444444,
              "#bd3786"
             ],
             [
              0.5555555555555556,
              "#d8576b"
             ],
             [
              0.6666666666666666,
              "#ed7953"
             ],
             [
              0.7777777777777778,
              "#fb9f3a"
             ],
             [
              0.8888888888888888,
              "#fdca26"
             ],
             [
              1,
              "#f0f921"
             ]
            ],
            "type": "histogram2dcontour"
           }
          ],
          "mesh3d": [
           {
            "colorbar": {
             "outlinewidth": 0,
             "ticks": ""
            },
            "type": "mesh3d"
           }
          ],
          "parcoords": [
           {
            "line": {
             "colorbar": {
              "outlinewidth": 0,
              "ticks": ""
             }
            },
            "type": "parcoords"
           }
          ],
          "pie": [
           {
            "automargin": true,
            "type": "pie"
           }
          ],
          "scatter": [
           {
            "fillpattern": {
             "fillmode": "overlay",
             "size": 10,
             "solidity": 0.2
            },
            "type": "scatter"
           }
          ],
          "scatter3d": [
           {
            "line": {
             "colorbar": {
              "outlinewidth": 0,
              "ticks": ""
             }
            },
            "marker": {
             "colorbar": {
              "outlinewidth": 0,
              "ticks": ""
             }
            },
            "type": "scatter3d"
           }
          ],
          "scattercarpet": [
           {
            "marker": {
             "colorbar": {
              "outlinewidth": 0,
              "ticks": ""
             }
            },
            "type": "scattercarpet"
           }
          ],
          "scattergeo": [
           {
            "marker": {
             "colorbar": {
              "outlinewidth": 0,
              "ticks": ""
             }
            },
            "type": "scattergeo"
           }
          ],
          "scattergl": [
           {
            "marker": {
             "colorbar": {
              "outlinewidth": 0,
              "ticks": ""
             }
            },
            "type": "scattergl"
           }
          ],
          "scattermapbox": [
           {
            "marker": {
             "colorbar": {
              "outlinewidth": 0,
              "ticks": ""
             }
            },
            "type": "scattermapbox"
           }
          ],
          "scatterpolar": [
           {
            "marker": {
             "colorbar": {
              "outlinewidth": 0,
              "ticks": ""
             }
            },
            "type": "scatterpolar"
           }
          ],
          "scatterpolargl": [
           {
            "marker": {
             "colorbar": {
              "outlinewidth": 0,
              "ticks": ""
             }
            },
            "type": "scatterpolargl"
           }
          ],
          "scatterternary": [
           {
            "marker": {
             "colorbar": {
              "outlinewidth": 0,
              "ticks": ""
             }
            },
            "type": "scatterternary"
           }
          ],
          "surface": [
           {
            "colorbar": {
             "outlinewidth": 0,
             "ticks": ""
            },
            "colorscale": [
             [
              0,
              "#0d0887"
             ],
             [
              0.1111111111111111,
              "#46039f"
             ],
             [
              0.2222222222222222,
              "#7201a8"
             ],
             [
              0.3333333333333333,
              "#9c179e"
             ],
             [
              0.4444444444444444,
              "#bd3786"
             ],
             [
              0.5555555555555556,
              "#d8576b"
             ],
             [
              0.6666666666666666,
              "#ed7953"
             ],
             [
              0.7777777777777778,
              "#fb9f3a"
             ],
             [
              0.8888888888888888,
              "#fdca26"
             ],
             [
              1,
              "#f0f921"
             ]
            ],
            "type": "surface"
           }
          ],
          "table": [
           {
            "cells": {
             "fill": {
              "color": "#EBF0F8"
             },
             "line": {
              "color": "white"
             }
            },
            "header": {
             "fill": {
              "color": "#C8D4E3"
             },
             "line": {
              "color": "white"
             }
            },
            "type": "table"
           }
          ]
         },
         "layout": {
          "annotationdefaults": {
           "arrowcolor": "#2a3f5f",
           "arrowhead": 0,
           "arrowwidth": 1
          },
          "autotypenumbers": "strict",
          "coloraxis": {
           "colorbar": {
            "outlinewidth": 0,
            "ticks": ""
           }
          },
          "colorscale": {
           "diverging": [
            [
             0,
             "#8e0152"
            ],
            [
             0.1,
             "#c51b7d"
            ],
            [
             0.2,
             "#de77ae"
            ],
            [
             0.3,
             "#f1b6da"
            ],
            [
             0.4,
             "#fde0ef"
            ],
            [
             0.5,
             "#f7f7f7"
            ],
            [
             0.6,
             "#e6f5d0"
            ],
            [
             0.7,
             "#b8e186"
            ],
            [
             0.8,
             "#7fbc41"
            ],
            [
             0.9,
             "#4d9221"
            ],
            [
             1,
             "#276419"
            ]
           ],
           "sequential": [
            [
             0,
             "#0d0887"
            ],
            [
             0.1111111111111111,
             "#46039f"
            ],
            [
             0.2222222222222222,
             "#7201a8"
            ],
            [
             0.3333333333333333,
             "#9c179e"
            ],
            [
             0.4444444444444444,
             "#bd3786"
            ],
            [
             0.5555555555555556,
             "#d8576b"
            ],
            [
             0.6666666666666666,
             "#ed7953"
            ],
            [
             0.7777777777777778,
             "#fb9f3a"
            ],
            [
             0.8888888888888888,
             "#fdca26"
            ],
            [
             1,
             "#f0f921"
            ]
           ],
           "sequentialminus": [
            [
             0,
             "#0d0887"
            ],
            [
             0.1111111111111111,
             "#46039f"
            ],
            [
             0.2222222222222222,
             "#7201a8"
            ],
            [
             0.3333333333333333,
             "#9c179e"
            ],
            [
             0.4444444444444444,
             "#bd3786"
            ],
            [
             0.5555555555555556,
             "#d8576b"
            ],
            [
             0.6666666666666666,
             "#ed7953"
            ],
            [
             0.7777777777777778,
             "#fb9f3a"
            ],
            [
             0.8888888888888888,
             "#fdca26"
            ],
            [
             1,
             "#f0f921"
            ]
           ]
          },
          "colorway": [
           "#636efa",
           "#EF553B",
           "#00cc96",
           "#ab63fa",
           "#FFA15A",
           "#19d3f3",
           "#FF6692",
           "#B6E880",
           "#FF97FF",
           "#FECB52"
          ],
          "font": {
           "color": "#2a3f5f"
          },
          "geo": {
           "bgcolor": "white",
           "lakecolor": "white",
           "landcolor": "#E5ECF6",
           "showlakes": true,
           "showland": true,
           "subunitcolor": "white"
          },
          "hoverlabel": {
           "align": "left"
          },
          "hovermode": "closest",
          "mapbox": {
           "style": "light"
          },
          "paper_bgcolor": "white",
          "plot_bgcolor": "#E5ECF6",
          "polar": {
           "angularaxis": {
            "gridcolor": "white",
            "linecolor": "white",
            "ticks": ""
           },
           "bgcolor": "#E5ECF6",
           "radialaxis": {
            "gridcolor": "white",
            "linecolor": "white",
            "ticks": ""
           }
          },
          "scene": {
           "xaxis": {
            "backgroundcolor": "#E5ECF6",
            "gridcolor": "white",
            "gridwidth": 2,
            "linecolor": "white",
            "showbackground": true,
            "ticks": "",
            "zerolinecolor": "white"
           },
           "yaxis": {
            "backgroundcolor": "#E5ECF6",
            "gridcolor": "white",
            "gridwidth": 2,
            "linecolor": "white",
            "showbackground": true,
            "ticks": "",
            "zerolinecolor": "white"
           },
           "zaxis": {
            "backgroundcolor": "#E5ECF6",
            "gridcolor": "white",
            "gridwidth": 2,
            "linecolor": "white",
            "showbackground": true,
            "ticks": "",
            "zerolinecolor": "white"
           }
          },
          "shapedefaults": {
           "line": {
            "color": "#2a3f5f"
           }
          },
          "ternary": {
           "aaxis": {
            "gridcolor": "white",
            "linecolor": "white",
            "ticks": ""
           },
           "baxis": {
            "gridcolor": "white",
            "linecolor": "white",
            "ticks": ""
           },
           "bgcolor": "#E5ECF6",
           "caxis": {
            "gridcolor": "white",
            "linecolor": "white",
            "ticks": ""
           }
          },
          "title": {
           "x": 0.05
          },
          "xaxis": {
           "automargin": true,
           "gridcolor": "white",
           "linecolor": "white",
           "ticks": "",
           "title": {
            "standoff": 15
           },
           "zerolinecolor": "white",
           "zerolinewidth": 2
          },
          "yaxis": {
           "automargin": true,
           "gridcolor": "white",
           "linecolor": "white",
           "ticks": "",
           "title": {
            "standoff": 15
           },
           "zerolinecolor": "white",
           "zerolinewidth": 2
          }
         }
        },
        "xaxis": {
         "anchor": "y",
         "domain": [
          0,
          1
         ],
         "title": {
          "text": "Country"
         }
        },
        "yaxis": {
         "anchor": "x",
         "domain": [
          0,
          1
         ],
         "title": {
          "text": "Forest area (km2)"
         }
        }
       }
      }
     },
     "metadata": {},
     "output_type": "display_data"
    }
   ],
   "source": [
    "geemap.bar_chart(\n",
    "    'exports/forest_cover.csv',\n",
    "    x='NAME',\n",
    "    y='sum',\n",
    "    max_rows=20,\n",
    "    x_label='Country',\n",
    "    y_label='Forest area (km2)',\n",
    ")"
   ]
  },
  {
   "cell_type": "markdown",
   "metadata": {},
   "source": [
    "Calculate the forest loss area by country."
   ]
  },
  {
   "cell_type": "code",
   "execution_count": 129,
   "metadata": {},
   "outputs": [
    {
     "data": {
      "text/html": [
       "\n",
       "            <style>\n",
       "                .geemap-dark {\n",
       "                    --jp-widgets-color: white;\n",
       "                    --jp-widgets-label-color: white;\n",
       "                    --jp-ui-font-color1: white;\n",
       "                    --jp-layout-color2: #454545;\n",
       "                    background-color: #383838;\n",
       "                }\n",
       "                    \n",
       "                .geemap-dark .jupyter-button {\n",
       "                    --jp-layout-color3: #383838;\n",
       "                }\n",
       "                \n",
       "                .geemap-colab {\n",
       "                    background-color: var(--colab-primary-surface-color, white);\n",
       "                }\n",
       "                    \n",
       "                .geemap-colab .jupyter-button {\n",
       "                    --jp-layout-color3: var(--colab-primary-surface-color, white);\n",
       "                }\n",
       "            </style>\n",
       "            "
      ],
      "text/plain": [
       "<IPython.core.display.HTML object>"
      ]
     },
     "metadata": {},
     "output_type": "display_data"
    },
    {
     "name": "stdout",
     "output_type": "stream",
     "text": [
      "Computing statistics ...\n",
      "Generating URL ...\n",
      "Downloading data from https://earthengine.googleapis.com/v1/projects/earthengine-legacy/tables/2fb1f8dc5ef873fbc542c2236038181a-cc1e04848d553ce7e942434c0e40c2df:getFeatures\n",
      "Please wait ...\n",
      "Data downloaded to /Users/ilyonsg/Documents/gee/gee-python-workshop/exports/treeloss.csv\n"
     ]
    }
   ],
   "source": [
    "geemap.zonal_stats(\n",
    "    treeloss.gt(0),\n",
    "    countries,\n",
    "    'exports/treeloss.csv',\n",
    "    statistics_type='SUM',\n",
    "    denominator=1e6,\n",
    "    scale=1000,\n",
    ")"
   ]
  },
  {
   "cell_type": "markdown",
   "metadata": {},
   "source": [
    "Create a bar chart to visualize the forest loss area by country."
   ]
  },
  {
   "cell_type": "code",
   "execution_count": 131,
   "metadata": {},
   "outputs": [
    {
     "data": {
      "text/html": [
       "\n",
       "            <style>\n",
       "                .geemap-dark {\n",
       "                    --jp-widgets-color: white;\n",
       "                    --jp-widgets-label-color: white;\n",
       "                    --jp-ui-font-color1: white;\n",
       "                    --jp-layout-color2: #454545;\n",
       "                    background-color: #383838;\n",
       "                }\n",
       "                    \n",
       "                .geemap-dark .jupyter-button {\n",
       "                    --jp-layout-color3: #383838;\n",
       "                }\n",
       "                \n",
       "                .geemap-colab {\n",
       "                    background-color: var(--colab-primary-surface-color, white);\n",
       "                }\n",
       "                    \n",
       "                .geemap-colab .jupyter-button {\n",
       "                    --jp-layout-color3: var(--colab-primary-surface-color, white);\n",
       "                }\n",
       "            </style>\n",
       "            "
      ],
      "text/plain": [
       "<IPython.core.display.HTML object>"
      ]
     },
     "metadata": {},
     "output_type": "display_data"
    },
    {
     "data": {
      "application/vnd.plotly.v1+json": {
       "config": {
        "plotlyServerURL": "https://plot.ly"
       },
       "data": [
        {
         "domain": {
          "x": [
           0,
           1
          ],
          "y": [
           0,
           1
          ]
         },
         "hovertemplate": "NAME=%{label}<br>sum=%{value}<extra></extra>",
         "labels": [
          "Russia",
          "Canada",
          "Brazil",
          "United States of America",
          "Indonesia",
          "Dem. Rep. Congo",
          "China",
          "Sweden",
          "Australia",
          "Finland",
          "Malaysia",
          "Argentina",
          "Bolivia",
          "Paraguay",
          "Myanmar",
          "Côte d'Ivoire",
          "Angola",
          "Mozambique",
          "Madagascar",
          "Other",
          "Other",
          "Other",
          "Other",
          "Other",
          "Other",
          "Other",
          "Other",
          "Other",
          "Other",
          "Other",
          "Other",
          "Other",
          "Other",
          "Other",
          "Other",
          "Other",
          "Other",
          "Other",
          "Other",
          "Other",
          "Other",
          "Other",
          "Other",
          "Other",
          "Other",
          "Other",
          "Other",
          "Other",
          "Other",
          "Other",
          "Other",
          "Other",
          "Other",
          "Other",
          "Other",
          "Other",
          "Other",
          "Other",
          "Other",
          "Other",
          "Other",
          "Other",
          "Other",
          "Other",
          "Other",
          "Other",
          "Other",
          "Other",
          "Other",
          "Other",
          "Other",
          "Other",
          "Other",
          "Other",
          "Other",
          "Other",
          "Other",
          "Other",
          "Other",
          "Other",
          "Other",
          "Other",
          "Other",
          "Other",
          "Other",
          "Other",
          "Other",
          "Other",
          "Other",
          "Other",
          "Other",
          "Other",
          "Other",
          "Other",
          "Other",
          "Other",
          "Other",
          "Other",
          "Other",
          "Other",
          "Other",
          "Other",
          "Other",
          "Other",
          "Other",
          "Other",
          "Other",
          "Other",
          "Other",
          "Other",
          "Other",
          "Other",
          "Other",
          "Other",
          "Other",
          "Other",
          "Other",
          "Other",
          "Other",
          "Other",
          "Other",
          "Other",
          "Other",
          "Other",
          "Other",
          "Other",
          "Other",
          "Other",
          "Other",
          "Other",
          "Other",
          "Other",
          "Other",
          "Other",
          "Other",
          "Other",
          "Other",
          "Other",
          "Other",
          "Other",
          "Other",
          "Other",
          "Other",
          "Other",
          "Other",
          "Other",
          "Other",
          "Other",
          "Other",
          "Other",
          "Other",
          "Other",
          "Other",
          "Other",
          "Other",
          "Other",
          "Other",
          "Other",
          "Other",
          "Other",
          "Other",
          "Other",
          "Other",
          "Other",
          "Other",
          "Other",
          "Other",
          "Other",
          "Other",
          "Other",
          "Other",
          "Other",
          "Other",
          "Other",
          "Other",
          "Other"
         ],
         "legendgroup": "",
         "name": "",
         "showlegend": true,
         "type": "pie",
         "values": [
          3078590.749019608,
          1535145.4784313724,
          1270822.1019607848,
          1242110.349019608,
          463855.6196078433,
          342803.98431372555,
          283010.90196078434,
          262976.02352941176,
          252969.31372549024,
          239963.25098039236,
          149547.6823529412,
          135966.31764705887,
          126750.04705882356,
          118066.5098039216,
          102919.80392156866,
          102577.60784313727,
          100817.45098039215,
          100393.21568627456,
          98435.86666666673,
          93605.4039215687,
          92148.3529411765,
          89424.8078431372,
          87041.76862745093,
          74190.9725490196,
          74133.07450980395,
          73342.12156862745,
          59335.81960784312,
          55271.85882352943,
          54562.14901960784,
          52384.00784313726,
          50926.71764705881,
          46592.18431372551,
          45498.76078431375,
          44638.94901960781,
          42224.40392156864,
          40848.725490196106,
          38393.49019607842,
          38098.51764705882,
          37454.85098039216,
          37311.48235294117,
          36442.90588235293,
          36138.36862745101,
          35844.98039215687,
          33933.4039215686,
          33890.286274509795,
          32911.01176470588,
          32503.250980392164,
          31357.78039215686,
          29457.576470588232,
          26836.44705882353,
          24984.43529411763,
          24961.478431372587,
          24774.94509803922,
          18812.13725490196,
          18787.517647058823,
          17783.827450980403,
          17673.843137254902,
          17529.30588235294,
          16073.643137254898,
          15847.254901960783,
          14943.73725490196,
          14869.81176470589,
          14111.196078431374,
          14051.862745098038,
          13499.917647058825,
          13243.070588235296,
          10435.674509803925,
          9547.333333333334,
          8612.686274509804,
          8502.07450980392,
          7731.043137254903,
          7555.360784313727,
          7358,
          6761.717647058825,
          6738.937254901959,
          6711.254901960784,
          6403.396078431371,
          6127.63137254902,
          6033.3647058823535,
          5941.901960784314,
          5857.094117647054,
          5807.356862745099,
          5773.090196078433,
          5727.937254901961,
          5443.219607843137,
          5310.945098039216,
          5296.313725490197,
          4538.529411764706,
          4321.8039215686285,
          4250.1098039215685,
          3568.505882352941,
          3341.772549019607,
          3138.9843137254893,
          2901.9294117647064,
          2885.5372549019608,
          2710.1294117647058,
          2708.8745098039217,
          2601.8117647058825,
          2538.4941176470584,
          2371.996078431373,
          2175.905882352942,
          2091.26274509804,
          2074.019607843137,
          1938.2823529411764,
          1661.9686274509804,
          1536.905882352941,
          1194.0156862745098,
          1186.1333333333334,
          1150.3686274509798,
          1073.2274509803922,
          1051.3137254901962,
          1026.862745098039,
          940.6313725490196,
          933.529411764706,
          757.7882352941176,
          737.4117647058823,
          710.7254901960787,
          643.3960784313725,
          566.1607843137257,
          496.8980392156861,
          470.6549019607843,
          450.2862745098039,
          445.1882352941177,
          377.7372549019608,
          366,
          317.58431372549023,
          299.9764705882353,
          286.6274509803921,
          280.2980392156863,
          260.7647058823529,
          241.96078431372555,
          174.9764705882353,
          165.12941176470588,
          151.59607843137258,
          151.5686274509804,
          145,
          126.87450980392155,
          110,
          102,
          88.38823529411765,
          78.68235294117648,
          74,
          58,
          22,
          19,
          18.054901960784317,
          18,
          13,
          12,
          12,
          7,
          7,
          5,
          5,
          4,
          2,
          1.87843137254902,
          1,
          1,
          0,
          0,
          0,
          0,
          0,
          0,
          0,
          0,
          0,
          0,
          0,
          0,
          0,
          0,
          0,
          0,
          0
         ]
        }
       ],
       "layout": {
        "height": 600,
        "legend": {
         "tracegroupgap": 0
        },
        "margin": {
         "t": 60
        },
        "template": {
         "data": {
          "bar": [
           {
            "error_x": {
             "color": "#2a3f5f"
            },
            "error_y": {
             "color": "#2a3f5f"
            },
            "marker": {
             "line": {
              "color": "#E5ECF6",
              "width": 0.5
             },
             "pattern": {
              "fillmode": "overlay",
              "size": 10,
              "solidity": 0.2
             }
            },
            "type": "bar"
           }
          ],
          "barpolar": [
           {
            "marker": {
             "line": {
              "color": "#E5ECF6",
              "width": 0.5
             },
             "pattern": {
              "fillmode": "overlay",
              "size": 10,
              "solidity": 0.2
             }
            },
            "type": "barpolar"
           }
          ],
          "carpet": [
           {
            "aaxis": {
             "endlinecolor": "#2a3f5f",
             "gridcolor": "white",
             "linecolor": "white",
             "minorgridcolor": "white",
             "startlinecolor": "#2a3f5f"
            },
            "baxis": {
             "endlinecolor": "#2a3f5f",
             "gridcolor": "white",
             "linecolor": "white",
             "minorgridcolor": "white",
             "startlinecolor": "#2a3f5f"
            },
            "type": "carpet"
           }
          ],
          "choropleth": [
           {
            "colorbar": {
             "outlinewidth": 0,
             "ticks": ""
            },
            "type": "choropleth"
           }
          ],
          "contour": [
           {
            "colorbar": {
             "outlinewidth": 0,
             "ticks": ""
            },
            "colorscale": [
             [
              0,
              "#0d0887"
             ],
             [
              0.1111111111111111,
              "#46039f"
             ],
             [
              0.2222222222222222,
              "#7201a8"
             ],
             [
              0.3333333333333333,
              "#9c179e"
             ],
             [
              0.4444444444444444,
              "#bd3786"
             ],
             [
              0.5555555555555556,
              "#d8576b"
             ],
             [
              0.6666666666666666,
              "#ed7953"
             ],
             [
              0.7777777777777778,
              "#fb9f3a"
             ],
             [
              0.8888888888888888,
              "#fdca26"
             ],
             [
              1,
              "#f0f921"
             ]
            ],
            "type": "contour"
           }
          ],
          "contourcarpet": [
           {
            "colorbar": {
             "outlinewidth": 0,
             "ticks": ""
            },
            "type": "contourcarpet"
           }
          ],
          "heatmap": [
           {
            "colorbar": {
             "outlinewidth": 0,
             "ticks": ""
            },
            "colorscale": [
             [
              0,
              "#0d0887"
             ],
             [
              0.1111111111111111,
              "#46039f"
             ],
             [
              0.2222222222222222,
              "#7201a8"
             ],
             [
              0.3333333333333333,
              "#9c179e"
             ],
             [
              0.4444444444444444,
              "#bd3786"
             ],
             [
              0.5555555555555556,
              "#d8576b"
             ],
             [
              0.6666666666666666,
              "#ed7953"
             ],
             [
              0.7777777777777778,
              "#fb9f3a"
             ],
             [
              0.8888888888888888,
              "#fdca26"
             ],
             [
              1,
              "#f0f921"
             ]
            ],
            "type": "heatmap"
           }
          ],
          "heatmapgl": [
           {
            "colorbar": {
             "outlinewidth": 0,
             "ticks": ""
            },
            "colorscale": [
             [
              0,
              "#0d0887"
             ],
             [
              0.1111111111111111,
              "#46039f"
             ],
             [
              0.2222222222222222,
              "#7201a8"
             ],
             [
              0.3333333333333333,
              "#9c179e"
             ],
             [
              0.4444444444444444,
              "#bd3786"
             ],
             [
              0.5555555555555556,
              "#d8576b"
             ],
             [
              0.6666666666666666,
              "#ed7953"
             ],
             [
              0.7777777777777778,
              "#fb9f3a"
             ],
             [
              0.8888888888888888,
              "#fdca26"
             ],
             [
              1,
              "#f0f921"
             ]
            ],
            "type": "heatmapgl"
           }
          ],
          "histogram": [
           {
            "marker": {
             "pattern": {
              "fillmode": "overlay",
              "size": 10,
              "solidity": 0.2
             }
            },
            "type": "histogram"
           }
          ],
          "histogram2d": [
           {
            "colorbar": {
             "outlinewidth": 0,
             "ticks": ""
            },
            "colorscale": [
             [
              0,
              "#0d0887"
             ],
             [
              0.1111111111111111,
              "#46039f"
             ],
             [
              0.2222222222222222,
              "#7201a8"
             ],
             [
              0.3333333333333333,
              "#9c179e"
             ],
             [
              0.4444444444444444,
              "#bd3786"
             ],
             [
              0.5555555555555556,
              "#d8576b"
             ],
             [
              0.6666666666666666,
              "#ed7953"
             ],
             [
              0.7777777777777778,
              "#fb9f3a"
             ],
             [
              0.8888888888888888,
              "#fdca26"
             ],
             [
              1,
              "#f0f921"
             ]
            ],
            "type": "histogram2d"
           }
          ],
          "histogram2dcontour": [
           {
            "colorbar": {
             "outlinewidth": 0,
             "ticks": ""
            },
            "colorscale": [
             [
              0,
              "#0d0887"
             ],
             [
              0.1111111111111111,
              "#46039f"
             ],
             [
              0.2222222222222222,
              "#7201a8"
             ],
             [
              0.3333333333333333,
              "#9c179e"
             ],
             [
              0.4444444444444444,
              "#bd3786"
             ],
             [
              0.5555555555555556,
              "#d8576b"
             ],
             [
              0.6666666666666666,
              "#ed7953"
             ],
             [
              0.7777777777777778,
              "#fb9f3a"
             ],
             [
              0.8888888888888888,
              "#fdca26"
             ],
             [
              1,
              "#f0f921"
             ]
            ],
            "type": "histogram2dcontour"
           }
          ],
          "mesh3d": [
           {
            "colorbar": {
             "outlinewidth": 0,
             "ticks": ""
            },
            "type": "mesh3d"
           }
          ],
          "parcoords": [
           {
            "line": {
             "colorbar": {
              "outlinewidth": 0,
              "ticks": ""
             }
            },
            "type": "parcoords"
           }
          ],
          "pie": [
           {
            "automargin": true,
            "type": "pie"
           }
          ],
          "scatter": [
           {
            "fillpattern": {
             "fillmode": "overlay",
             "size": 10,
             "solidity": 0.2
            },
            "type": "scatter"
           }
          ],
          "scatter3d": [
           {
            "line": {
             "colorbar": {
              "outlinewidth": 0,
              "ticks": ""
             }
            },
            "marker": {
             "colorbar": {
              "outlinewidth": 0,
              "ticks": ""
             }
            },
            "type": "scatter3d"
           }
          ],
          "scattercarpet": [
           {
            "marker": {
             "colorbar": {
              "outlinewidth": 0,
              "ticks": ""
             }
            },
            "type": "scattercarpet"
           }
          ],
          "scattergeo": [
           {
            "marker": {
             "colorbar": {
              "outlinewidth": 0,
              "ticks": ""
             }
            },
            "type": "scattergeo"
           }
          ],
          "scattergl": [
           {
            "marker": {
             "colorbar": {
              "outlinewidth": 0,
              "ticks": ""
             }
            },
            "type": "scattergl"
           }
          ],
          "scattermapbox": [
           {
            "marker": {
             "colorbar": {
              "outlinewidth": 0,
              "ticks": ""
             }
            },
            "type": "scattermapbox"
           }
          ],
          "scatterpolar": [
           {
            "marker": {
             "colorbar": {
              "outlinewidth": 0,
              "ticks": ""
             }
            },
            "type": "scatterpolar"
           }
          ],
          "scatterpolargl": [
           {
            "marker": {
             "colorbar": {
              "outlinewidth": 0,
              "ticks": ""
             }
            },
            "type": "scatterpolargl"
           }
          ],
          "scatterternary": [
           {
            "marker": {
             "colorbar": {
              "outlinewidth": 0,
              "ticks": ""
             }
            },
            "type": "scatterternary"
           }
          ],
          "surface": [
           {
            "colorbar": {
             "outlinewidth": 0,
             "ticks": ""
            },
            "colorscale": [
             [
              0,
              "#0d0887"
             ],
             [
              0.1111111111111111,
              "#46039f"
             ],
             [
              0.2222222222222222,
              "#7201a8"
             ],
             [
              0.3333333333333333,
              "#9c179e"
             ],
             [
              0.4444444444444444,
              "#bd3786"
             ],
             [
              0.5555555555555556,
              "#d8576b"
             ],
             [
              0.6666666666666666,
              "#ed7953"
             ],
             [
              0.7777777777777778,
              "#fb9f3a"
             ],
             [
              0.8888888888888888,
              "#fdca26"
             ],
             [
              1,
              "#f0f921"
             ]
            ],
            "type": "surface"
           }
          ],
          "table": [
           {
            "cells": {
             "fill": {
              "color": "#EBF0F8"
             },
             "line": {
              "color": "white"
             }
            },
            "header": {
             "fill": {
              "color": "#C8D4E3"
             },
             "line": {
              "color": "white"
             }
            },
            "type": "table"
           }
          ]
         },
         "layout": {
          "annotationdefaults": {
           "arrowcolor": "#2a3f5f",
           "arrowhead": 0,
           "arrowwidth": 1
          },
          "autotypenumbers": "strict",
          "coloraxis": {
           "colorbar": {
            "outlinewidth": 0,
            "ticks": ""
           }
          },
          "colorscale": {
           "diverging": [
            [
             0,
             "#8e0152"
            ],
            [
             0.1,
             "#c51b7d"
            ],
            [
             0.2,
             "#de77ae"
            ],
            [
             0.3,
             "#f1b6da"
            ],
            [
             0.4,
             "#fde0ef"
            ],
            [
             0.5,
             "#f7f7f7"
            ],
            [
             0.6,
             "#e6f5d0"
            ],
            [
             0.7,
             "#b8e186"
            ],
            [
             0.8,
             "#7fbc41"
            ],
            [
             0.9,
             "#4d9221"
            ],
            [
             1,
             "#276419"
            ]
           ],
           "sequential": [
            [
             0,
             "#0d0887"
            ],
            [
             0.1111111111111111,
             "#46039f"
            ],
            [
             0.2222222222222222,
             "#7201a8"
            ],
            [
             0.3333333333333333,
             "#9c179e"
            ],
            [
             0.4444444444444444,
             "#bd3786"
            ],
            [
             0.5555555555555556,
             "#d8576b"
            ],
            [
             0.6666666666666666,
             "#ed7953"
            ],
            [
             0.7777777777777778,
             "#fb9f3a"
            ],
            [
             0.8888888888888888,
             "#fdca26"
            ],
            [
             1,
             "#f0f921"
            ]
           ],
           "sequentialminus": [
            [
             0,
             "#0d0887"
            ],
            [
             0.1111111111111111,
             "#46039f"
            ],
            [
             0.2222222222222222,
             "#7201a8"
            ],
            [
             0.3333333333333333,
             "#9c179e"
            ],
            [
             0.4444444444444444,
             "#bd3786"
            ],
            [
             0.5555555555555556,
             "#d8576b"
            ],
            [
             0.6666666666666666,
             "#ed7953"
            ],
            [
             0.7777777777777778,
             "#fb9f3a"
            ],
            [
             0.8888888888888888,
             "#fdca26"
            ],
            [
             1,
             "#f0f921"
            ]
           ]
          },
          "colorway": [
           "#636efa",
           "#EF553B",
           "#00cc96",
           "#ab63fa",
           "#FFA15A",
           "#19d3f3",
           "#FF6692",
           "#B6E880",
           "#FF97FF",
           "#FECB52"
          ],
          "font": {
           "color": "#2a3f5f"
          },
          "geo": {
           "bgcolor": "white",
           "lakecolor": "white",
           "landcolor": "#E5ECF6",
           "showlakes": true,
           "showland": true,
           "subunitcolor": "white"
          },
          "hoverlabel": {
           "align": "left"
          },
          "hovermode": "closest",
          "mapbox": {
           "style": "light"
          },
          "paper_bgcolor": "white",
          "plot_bgcolor": "#E5ECF6",
          "polar": {
           "angularaxis": {
            "gridcolor": "white",
            "linecolor": "white",
            "ticks": ""
           },
           "bgcolor": "#E5ECF6",
           "radialaxis": {
            "gridcolor": "white",
            "linecolor": "white",
            "ticks": ""
           }
          },
          "scene": {
           "xaxis": {
            "backgroundcolor": "#E5ECF6",
            "gridcolor": "white",
            "gridwidth": 2,
            "linecolor": "white",
            "showbackground": true,
            "ticks": "",
            "zerolinecolor": "white"
           },
           "yaxis": {
            "backgroundcolor": "#E5ECF6",
            "gridcolor": "white",
            "gridwidth": 2,
            "linecolor": "white",
            "showbackground": true,
            "ticks": "",
            "zerolinecolor": "white"
           },
           "zaxis": {
            "backgroundcolor": "#E5ECF6",
            "gridcolor": "white",
            "gridwidth": 2,
            "linecolor": "white",
            "showbackground": true,
            "ticks": "",
            "zerolinecolor": "white"
           }
          },
          "shapedefaults": {
           "line": {
            "color": "#2a3f5f"
           }
          },
          "ternary": {
           "aaxis": {
            "gridcolor": "white",
            "linecolor": "white",
            "ticks": ""
           },
           "baxis": {
            "gridcolor": "white",
            "linecolor": "white",
            "ticks": ""
           },
           "bgcolor": "#E5ECF6",
           "caxis": {
            "gridcolor": "white",
            "linecolor": "white",
            "ticks": ""
           }
          },
          "title": {
           "x": 0.05
          },
          "xaxis": {
           "automargin": true,
           "gridcolor": "white",
           "linecolor": "white",
           "ticks": "",
           "title": {
            "standoff": 15
           },
           "zerolinecolor": "white",
           "zerolinewidth": 2
          },
          "yaxis": {
           "automargin": true,
           "gridcolor": "white",
           "linecolor": "white",
           "ticks": "",
           "title": {
            "standoff": 15
           },
           "zerolinecolor": "white",
           "zerolinewidth": 2
          }
         }
        }
       }
      }
     },
     "metadata": {},
     "output_type": "display_data"
    }
   ],
   "source": [
    "geemap.pie_chart('exports/treeloss.csv', names='NAME', values='sum', max_rows=20, height=600)"
   ]
  },
  {
   "cell_type": "markdown",
   "metadata": {},
   "source": [
    "Create a bar chart to visualize the forest loss area by country."
   ]
  },
  {
   "cell_type": "code",
   "execution_count": 133,
   "metadata": {},
   "outputs": [
    {
     "data": {
      "text/html": [
       "\n",
       "            <style>\n",
       "                .geemap-dark {\n",
       "                    --jp-widgets-color: white;\n",
       "                    --jp-widgets-label-color: white;\n",
       "                    --jp-ui-font-color1: white;\n",
       "                    --jp-layout-color2: #454545;\n",
       "                    background-color: #383838;\n",
       "                }\n",
       "                    \n",
       "                .geemap-dark .jupyter-button {\n",
       "                    --jp-layout-color3: #383838;\n",
       "                }\n",
       "                \n",
       "                .geemap-colab {\n",
       "                    background-color: var(--colab-primary-surface-color, white);\n",
       "                }\n",
       "                    \n",
       "                .geemap-colab .jupyter-button {\n",
       "                    --jp-layout-color3: var(--colab-primary-surface-color, white);\n",
       "                }\n",
       "            </style>\n",
       "            "
      ],
      "text/plain": [
       "<IPython.core.display.HTML object>"
      ]
     },
     "metadata": {},
     "output_type": "display_data"
    },
    {
     "data": {
      "application/vnd.plotly.v1+json": {
       "config": {
        "plotlyServerURL": "https://plot.ly"
       },
       "data": [
        {
         "alignmentgroup": "True",
         "hovertemplate": "Country=%{x}<br>Forest loss area (km2)=%{y}<extra></extra>",
         "legendgroup": "",
         "marker": {
          "color": "#636efa",
          "pattern": {
           "shape": ""
          }
         },
         "name": "",
         "offsetgroup": "",
         "orientation": "v",
         "showlegend": false,
         "textposition": "auto",
         "type": "bar",
         "x": [
          "Russia",
          "Canada",
          "Brazil",
          "United States of America",
          "Indonesia",
          "Dem. Rep. Congo",
          "China",
          "Sweden",
          "Australia",
          "Finland",
          "Malaysia",
          "Argentina",
          "Bolivia",
          "Paraguay",
          "Myanmar",
          "Côte d'Ivoire",
          "Angola",
          "Mozambique",
          "Madagascar",
          "Mexico"
         ],
         "xaxis": "x",
         "y": [
          3078590.749019608,
          1535145.4784313724,
          1270822.1019607848,
          1242110.349019608,
          463855.6196078433,
          342803.98431372555,
          283010.90196078434,
          262976.02352941176,
          252969.31372549024,
          239963.25098039236,
          149547.6823529412,
          135966.31764705887,
          126750.04705882356,
          118066.5098039216,
          102919.80392156866,
          102577.60784313727,
          100817.45098039215,
          100393.21568627456,
          98435.86666666673,
          93605.4039215687
         ],
         "yaxis": "y"
        }
       ],
       "layout": {
        "barmode": "group",
        "height": 500,
        "legend": {
         "tracegroupgap": 0
        },
        "margin": {
         "t": 60
        },
        "template": {
         "data": {
          "bar": [
           {
            "error_x": {
             "color": "#2a3f5f"
            },
            "error_y": {
             "color": "#2a3f5f"
            },
            "marker": {
             "line": {
              "color": "#E5ECF6",
              "width": 0.5
             },
             "pattern": {
              "fillmode": "overlay",
              "size": 10,
              "solidity": 0.2
             }
            },
            "type": "bar"
           }
          ],
          "barpolar": [
           {
            "marker": {
             "line": {
              "color": "#E5ECF6",
              "width": 0.5
             },
             "pattern": {
              "fillmode": "overlay",
              "size": 10,
              "solidity": 0.2
             }
            },
            "type": "barpolar"
           }
          ],
          "carpet": [
           {
            "aaxis": {
             "endlinecolor": "#2a3f5f",
             "gridcolor": "white",
             "linecolor": "white",
             "minorgridcolor": "white",
             "startlinecolor": "#2a3f5f"
            },
            "baxis": {
             "endlinecolor": "#2a3f5f",
             "gridcolor": "white",
             "linecolor": "white",
             "minorgridcolor": "white",
             "startlinecolor": "#2a3f5f"
            },
            "type": "carpet"
           }
          ],
          "choropleth": [
           {
            "colorbar": {
             "outlinewidth": 0,
             "ticks": ""
            },
            "type": "choropleth"
           }
          ],
          "contour": [
           {
            "colorbar": {
             "outlinewidth": 0,
             "ticks": ""
            },
            "colorscale": [
             [
              0,
              "#0d0887"
             ],
             [
              0.1111111111111111,
              "#46039f"
             ],
             [
              0.2222222222222222,
              "#7201a8"
             ],
             [
              0.3333333333333333,
              "#9c179e"
             ],
             [
              0.4444444444444444,
              "#bd3786"
             ],
             [
              0.5555555555555556,
              "#d8576b"
             ],
             [
              0.6666666666666666,
              "#ed7953"
             ],
             [
              0.7777777777777778,
              "#fb9f3a"
             ],
             [
              0.8888888888888888,
              "#fdca26"
             ],
             [
              1,
              "#f0f921"
             ]
            ],
            "type": "contour"
           }
          ],
          "contourcarpet": [
           {
            "colorbar": {
             "outlinewidth": 0,
             "ticks": ""
            },
            "type": "contourcarpet"
           }
          ],
          "heatmap": [
           {
            "colorbar": {
             "outlinewidth": 0,
             "ticks": ""
            },
            "colorscale": [
             [
              0,
              "#0d0887"
             ],
             [
              0.1111111111111111,
              "#46039f"
             ],
             [
              0.2222222222222222,
              "#7201a8"
             ],
             [
              0.3333333333333333,
              "#9c179e"
             ],
             [
              0.4444444444444444,
              "#bd3786"
             ],
             [
              0.5555555555555556,
              "#d8576b"
             ],
             [
              0.6666666666666666,
              "#ed7953"
             ],
             [
              0.7777777777777778,
              "#fb9f3a"
             ],
             [
              0.8888888888888888,
              "#fdca26"
             ],
             [
              1,
              "#f0f921"
             ]
            ],
            "type": "heatmap"
           }
          ],
          "heatmapgl": [
           {
            "colorbar": {
             "outlinewidth": 0,
             "ticks": ""
            },
            "colorscale": [
             [
              0,
              "#0d0887"
             ],
             [
              0.1111111111111111,
              "#46039f"
             ],
             [
              0.2222222222222222,
              "#7201a8"
             ],
             [
              0.3333333333333333,
              "#9c179e"
             ],
             [
              0.4444444444444444,
              "#bd3786"
             ],
             [
              0.5555555555555556,
              "#d8576b"
             ],
             [
              0.6666666666666666,
              "#ed7953"
             ],
             [
              0.7777777777777778,
              "#fb9f3a"
             ],
             [
              0.8888888888888888,
              "#fdca26"
             ],
             [
              1,
              "#f0f921"
             ]
            ],
            "type": "heatmapgl"
           }
          ],
          "histogram": [
           {
            "marker": {
             "pattern": {
              "fillmode": "overlay",
              "size": 10,
              "solidity": 0.2
             }
            },
            "type": "histogram"
           }
          ],
          "histogram2d": [
           {
            "colorbar": {
             "outlinewidth": 0,
             "ticks": ""
            },
            "colorscale": [
             [
              0,
              "#0d0887"
             ],
             [
              0.1111111111111111,
              "#46039f"
             ],
             [
              0.2222222222222222,
              "#7201a8"
             ],
             [
              0.3333333333333333,
              "#9c179e"
             ],
             [
              0.4444444444444444,
              "#bd3786"
             ],
             [
              0.5555555555555556,
              "#d8576b"
             ],
             [
              0.6666666666666666,
              "#ed7953"
             ],
             [
              0.7777777777777778,
              "#fb9f3a"
             ],
             [
              0.8888888888888888,
              "#fdca26"
             ],
             [
              1,
              "#f0f921"
             ]
            ],
            "type": "histogram2d"
           }
          ],
          "histogram2dcontour": [
           {
            "colorbar": {
             "outlinewidth": 0,
             "ticks": ""
            },
            "colorscale": [
             [
              0,
              "#0d0887"
             ],
             [
              0.1111111111111111,
              "#46039f"
             ],
             [
              0.2222222222222222,
              "#7201a8"
             ],
             [
              0.3333333333333333,
              "#9c179e"
             ],
             [
              0.4444444444444444,
              "#bd3786"
             ],
             [
              0.5555555555555556,
              "#d8576b"
             ],
             [
              0.6666666666666666,
              "#ed7953"
             ],
             [
              0.7777777777777778,
              "#fb9f3a"
             ],
             [
              0.8888888888888888,
              "#fdca26"
             ],
             [
              1,
              "#f0f921"
             ]
            ],
            "type": "histogram2dcontour"
           }
          ],
          "mesh3d": [
           {
            "colorbar": {
             "outlinewidth": 0,
             "ticks": ""
            },
            "type": "mesh3d"
           }
          ],
          "parcoords": [
           {
            "line": {
             "colorbar": {
              "outlinewidth": 0,
              "ticks": ""
             }
            },
            "type": "parcoords"
           }
          ],
          "pie": [
           {
            "automargin": true,
            "type": "pie"
           }
          ],
          "scatter": [
           {
            "fillpattern": {
             "fillmode": "overlay",
             "size": 10,
             "solidity": 0.2
            },
            "type": "scatter"
           }
          ],
          "scatter3d": [
           {
            "line": {
             "colorbar": {
              "outlinewidth": 0,
              "ticks": ""
             }
            },
            "marker": {
             "colorbar": {
              "outlinewidth": 0,
              "ticks": ""
             }
            },
            "type": "scatter3d"
           }
          ],
          "scattercarpet": [
           {
            "marker": {
             "colorbar": {
              "outlinewidth": 0,
              "ticks": ""
             }
            },
            "type": "scattercarpet"
           }
          ],
          "scattergeo": [
           {
            "marker": {
             "colorbar": {
              "outlinewidth": 0,
              "ticks": ""
             }
            },
            "type": "scattergeo"
           }
          ],
          "scattergl": [
           {
            "marker": {
             "colorbar": {
              "outlinewidth": 0,
              "ticks": ""
             }
            },
            "type": "scattergl"
           }
          ],
          "scattermapbox": [
           {
            "marker": {
             "colorbar": {
              "outlinewidth": 0,
              "ticks": ""
             }
            },
            "type": "scattermapbox"
           }
          ],
          "scatterpolar": [
           {
            "marker": {
             "colorbar": {
              "outlinewidth": 0,
              "ticks": ""
             }
            },
            "type": "scatterpolar"
           }
          ],
          "scatterpolargl": [
           {
            "marker": {
             "colorbar": {
              "outlinewidth": 0,
              "ticks": ""
             }
            },
            "type": "scatterpolargl"
           }
          ],
          "scatterternary": [
           {
            "marker": {
             "colorbar": {
              "outlinewidth": 0,
              "ticks": ""
             }
            },
            "type": "scatterternary"
           }
          ],
          "surface": [
           {
            "colorbar": {
             "outlinewidth": 0,
             "ticks": ""
            },
            "colorscale": [
             [
              0,
              "#0d0887"
             ],
             [
              0.1111111111111111,
              "#46039f"
             ],
             [
              0.2222222222222222,
              "#7201a8"
             ],
             [
              0.3333333333333333,
              "#9c179e"
             ],
             [
              0.4444444444444444,
              "#bd3786"
             ],
             [
              0.5555555555555556,
              "#d8576b"
             ],
             [
              0.6666666666666666,
              "#ed7953"
             ],
             [
              0.7777777777777778,
              "#fb9f3a"
             ],
             [
              0.8888888888888888,
              "#fdca26"
             ],
             [
              1,
              "#f0f921"
             ]
            ],
            "type": "surface"
           }
          ],
          "table": [
           {
            "cells": {
             "fill": {
              "color": "#EBF0F8"
             },
             "line": {
              "color": "white"
             }
            },
            "header": {
             "fill": {
              "color": "#C8D4E3"
             },
             "line": {
              "color": "white"
             }
            },
            "type": "table"
           }
          ]
         },
         "layout": {
          "annotationdefaults": {
           "arrowcolor": "#2a3f5f",
           "arrowhead": 0,
           "arrowwidth": 1
          },
          "autotypenumbers": "strict",
          "coloraxis": {
           "colorbar": {
            "outlinewidth": 0,
            "ticks": ""
           }
          },
          "colorscale": {
           "diverging": [
            [
             0,
             "#8e0152"
            ],
            [
             0.1,
             "#c51b7d"
            ],
            [
             0.2,
             "#de77ae"
            ],
            [
             0.3,
             "#f1b6da"
            ],
            [
             0.4,
             "#fde0ef"
            ],
            [
             0.5,
             "#f7f7f7"
            ],
            [
             0.6,
             "#e6f5d0"
            ],
            [
             0.7,
             "#b8e186"
            ],
            [
             0.8,
             "#7fbc41"
            ],
            [
             0.9,
             "#4d9221"
            ],
            [
             1,
             "#276419"
            ]
           ],
           "sequential": [
            [
             0,
             "#0d0887"
            ],
            [
             0.1111111111111111,
             "#46039f"
            ],
            [
             0.2222222222222222,
             "#7201a8"
            ],
            [
             0.3333333333333333,
             "#9c179e"
            ],
            [
             0.4444444444444444,
             "#bd3786"
            ],
            [
             0.5555555555555556,
             "#d8576b"
            ],
            [
             0.6666666666666666,
             "#ed7953"
            ],
            [
             0.7777777777777778,
             "#fb9f3a"
            ],
            [
             0.8888888888888888,
             "#fdca26"
            ],
            [
             1,
             "#f0f921"
            ]
           ],
           "sequentialminus": [
            [
             0,
             "#0d0887"
            ],
            [
             0.1111111111111111,
             "#46039f"
            ],
            [
             0.2222222222222222,
             "#7201a8"
            ],
            [
             0.3333333333333333,
             "#9c179e"
            ],
            [
             0.4444444444444444,
             "#bd3786"
            ],
            [
             0.5555555555555556,
             "#d8576b"
            ],
            [
             0.6666666666666666,
             "#ed7953"
            ],
            [
             0.7777777777777778,
             "#fb9f3a"
            ],
            [
             0.8888888888888888,
             "#fdca26"
            ],
            [
             1,
             "#f0f921"
            ]
           ]
          },
          "colorway": [
           "#636efa",
           "#EF553B",
           "#00cc96",
           "#ab63fa",
           "#FFA15A",
           "#19d3f3",
           "#FF6692",
           "#B6E880",
           "#FF97FF",
           "#FECB52"
          ],
          "font": {
           "color": "#2a3f5f"
          },
          "geo": {
           "bgcolor": "white",
           "lakecolor": "white",
           "landcolor": "#E5ECF6",
           "showlakes": true,
           "showland": true,
           "subunitcolor": "white"
          },
          "hoverlabel": {
           "align": "left"
          },
          "hovermode": "closest",
          "mapbox": {
           "style": "light"
          },
          "paper_bgcolor": "white",
          "plot_bgcolor": "#E5ECF6",
          "polar": {
           "angularaxis": {
            "gridcolor": "white",
            "linecolor": "white",
            "ticks": ""
           },
           "bgcolor": "#E5ECF6",
           "radialaxis": {
            "gridcolor": "white",
            "linecolor": "white",
            "ticks": ""
           }
          },
          "scene": {
           "xaxis": {
            "backgroundcolor": "#E5ECF6",
            "gridcolor": "white",
            "gridwidth": 2,
            "linecolor": "white",
            "showbackground": true,
            "ticks": "",
            "zerolinecolor": "white"
           },
           "yaxis": {
            "backgroundcolor": "#E5ECF6",
            "gridcolor": "white",
            "gridwidth": 2,
            "linecolor": "white",
            "showbackground": true,
            "ticks": "",
            "zerolinecolor": "white"
           },
           "zaxis": {
            "backgroundcolor": "#E5ECF6",
            "gridcolor": "white",
            "gridwidth": 2,
            "linecolor": "white",
            "showbackground": true,
            "ticks": "",
            "zerolinecolor": "white"
           }
          },
          "shapedefaults": {
           "line": {
            "color": "#2a3f5f"
           }
          },
          "ternary": {
           "aaxis": {
            "gridcolor": "white",
            "linecolor": "white",
            "ticks": ""
           },
           "baxis": {
            "gridcolor": "white",
            "linecolor": "white",
            "ticks": ""
           },
           "bgcolor": "#E5ECF6",
           "caxis": {
            "gridcolor": "white",
            "linecolor": "white",
            "ticks": ""
           }
          },
          "title": {
           "x": 0.05
          },
          "xaxis": {
           "automargin": true,
           "gridcolor": "white",
           "linecolor": "white",
           "ticks": "",
           "title": {
            "standoff": 15
           },
           "zerolinecolor": "white",
           "zerolinewidth": 2
          },
          "yaxis": {
           "automargin": true,
           "gridcolor": "white",
           "linecolor": "white",
           "ticks": "",
           "title": {
            "standoff": 15
           },
           "zerolinecolor": "white",
           "zerolinewidth": 2
          }
         }
        },
        "xaxis": {
         "anchor": "y",
         "domain": [
          0,
          1
         ],
         "title": {
          "text": "Country"
         }
        },
        "yaxis": {
         "anchor": "x",
         "domain": [
          0,
          1
         ],
         "title": {
          "text": "Forest loss area (km2)"
         }
        }
       }
      }
     },
     "metadata": {},
     "output_type": "display_data"
    }
   ],
   "source": [
    "geemap.bar_chart(\n",
    "    'exports/treeloss.csv',\n",
    "    x='NAME',\n",
    "    y='sum',\n",
    "    max_rows=20,\n",
    "    x_label='Country',\n",
    "    y_label='Forest loss area (km2)',\n",
    ")"
   ]
  },
  {
   "cell_type": "markdown",
   "metadata": {},
   "source": [
    "### Exercise 4 - Analyzing forest cover gain and loss\n",
    "\n",
    "Find out which US state has the largest forest gain and loss between 2000 and 2022. Create pie charts and bar charts to show the results. Relevant Earth Engine assets:\n",
    "\n",
    "-   [ee.FeatureCollection(\"TIGER/2018/States\")](https://developers.google.com/earth-engine/datasets/catalog/TIGER_2018_States)\n",
    "-   [ee.Image(\"UMD/hansen/global_forest_change_2022_v1_10\")](https://developers.google.com/earth-engine/datasets/catalog/UMD_hansen_global_forest_change_2022_v1_10)\n",
    "\n",
    "![](https://i.imgur.com/NQ4UUnj.png)"
   ]
  },
  {
   "cell_type": "code",
   "execution_count": 136,
   "metadata": {},
   "outputs": [
    {
     "data": {
      "text/html": [
       "\n",
       "            <style>\n",
       "                .geemap-dark {\n",
       "                    --jp-widgets-color: white;\n",
       "                    --jp-widgets-label-color: white;\n",
       "                    --jp-ui-font-color1: white;\n",
       "                    --jp-layout-color2: #454545;\n",
       "                    background-color: #383838;\n",
       "                }\n",
       "                    \n",
       "                .geemap-dark .jupyter-button {\n",
       "                    --jp-layout-color3: #383838;\n",
       "                }\n",
       "                \n",
       "                .geemap-colab {\n",
       "                    background-color: var(--colab-primary-surface-color, white);\n",
       "                }\n",
       "                    \n",
       "                .geemap-colab .jupyter-button {\n",
       "                    --jp-layout-color3: var(--colab-primary-surface-color, white);\n",
       "                }\n",
       "            </style>\n",
       "            "
      ],
      "text/plain": [
       "<IPython.core.display.HTML object>"
      ]
     },
     "metadata": {},
     "output_type": "display_data"
    },
    {
     "name": "stdout",
     "output_type": "stream",
     "text": [
      "Computing statistics ...\n",
      "Generating URL ...\n",
      "Downloading data from https://earthengine.googleapis.com/v1/projects/earthengine-legacy/tables/19e3453042afc96a54012cab2d566b92-43b69345d5c70c9e0454d6333d2c3c8b:getFeatures\n",
      "Please wait ...\n",
      "Data downloaded to /Users/ilyonsg/Documents/gee/gee-python-workshop/exports/treeloss.csv\n"
     ]
    },
    {
     "data": {
      "application/vnd.plotly.v1+json": {
       "config": {
        "plotlyServerURL": "https://plot.ly"
       },
       "data": [
        {
         "alignmentgroup": "True",
         "hovertemplate": "State=%{x}<br>Forest loss area (km2)=%{y}<extra></extra>",
         "legendgroup": "",
         "marker": {
          "color": "#636efa",
          "pattern": {
           "shape": ""
          }
         },
         "name": "",
         "offsetgroup": "",
         "orientation": "v",
         "showlegend": false,
         "textposition": "auto",
         "type": "bar",
         "x": [
          "Alaska",
          "Georgia",
          "Alabama",
          "California",
          "Mississippi",
          "Oregon",
          "Washington",
          "Florida",
          "North Carolina",
          "South Carolina",
          "Texas",
          "Louisiana",
          "Arkansas",
          "Montana",
          "Idaho",
          "Maine",
          "Virginia",
          "Minnesota",
          "Michigan",
          "Tennessee"
         ],
         "xaxis": "x",
         "y": [
          254828.37254901967,
          86655.01568627456,
          80741.23921568618,
          72899.41176470589,
          62994.662745098045,
          58449.56862745099,
          51115.40784313726,
          48651.19215686274,
          48499.17647058825,
          47482.164705882366,
          47206.89019607842,
          44642.0823529412,
          43673.7254901961,
          38073.05882352941,
          37946.48235294118,
          31824.18823529412,
          30920.34901960793,
          21205.15294117647,
          17030.545098039205,
          14315.37647058825
         ],
         "yaxis": "y"
        }
       ],
       "layout": {
        "barmode": "group",
        "height": 500,
        "legend": {
         "tracegroupgap": 0
        },
        "margin": {
         "t": 60
        },
        "template": {
         "data": {
          "bar": [
           {
            "error_x": {
             "color": "#2a3f5f"
            },
            "error_y": {
             "color": "#2a3f5f"
            },
            "marker": {
             "line": {
              "color": "#E5ECF6",
              "width": 0.5
             },
             "pattern": {
              "fillmode": "overlay",
              "size": 10,
              "solidity": 0.2
             }
            },
            "type": "bar"
           }
          ],
          "barpolar": [
           {
            "marker": {
             "line": {
              "color": "#E5ECF6",
              "width": 0.5
             },
             "pattern": {
              "fillmode": "overlay",
              "size": 10,
              "solidity": 0.2
             }
            },
            "type": "barpolar"
           }
          ],
          "carpet": [
           {
            "aaxis": {
             "endlinecolor": "#2a3f5f",
             "gridcolor": "white",
             "linecolor": "white",
             "minorgridcolor": "white",
             "startlinecolor": "#2a3f5f"
            },
            "baxis": {
             "endlinecolor": "#2a3f5f",
             "gridcolor": "white",
             "linecolor": "white",
             "minorgridcolor": "white",
             "startlinecolor": "#2a3f5f"
            },
            "type": "carpet"
           }
          ],
          "choropleth": [
           {
            "colorbar": {
             "outlinewidth": 0,
             "ticks": ""
            },
            "type": "choropleth"
           }
          ],
          "contour": [
           {
            "colorbar": {
             "outlinewidth": 0,
             "ticks": ""
            },
            "colorscale": [
             [
              0,
              "#0d0887"
             ],
             [
              0.1111111111111111,
              "#46039f"
             ],
             [
              0.2222222222222222,
              "#7201a8"
             ],
             [
              0.3333333333333333,
              "#9c179e"
             ],
             [
              0.4444444444444444,
              "#bd3786"
             ],
             [
              0.5555555555555556,
              "#d8576b"
             ],
             [
              0.6666666666666666,
              "#ed7953"
             ],
             [
              0.7777777777777778,
              "#fb9f3a"
             ],
             [
              0.8888888888888888,
              "#fdca26"
             ],
             [
              1,
              "#f0f921"
             ]
            ],
            "type": "contour"
           }
          ],
          "contourcarpet": [
           {
            "colorbar": {
             "outlinewidth": 0,
             "ticks": ""
            },
            "type": "contourcarpet"
           }
          ],
          "heatmap": [
           {
            "colorbar": {
             "outlinewidth": 0,
             "ticks": ""
            },
            "colorscale": [
             [
              0,
              "#0d0887"
             ],
             [
              0.1111111111111111,
              "#46039f"
             ],
             [
              0.2222222222222222,
              "#7201a8"
             ],
             [
              0.3333333333333333,
              "#9c179e"
             ],
             [
              0.4444444444444444,
              "#bd3786"
             ],
             [
              0.5555555555555556,
              "#d8576b"
             ],
             [
              0.6666666666666666,
              "#ed7953"
             ],
             [
              0.7777777777777778,
              "#fb9f3a"
             ],
             [
              0.8888888888888888,
              "#fdca26"
             ],
             [
              1,
              "#f0f921"
             ]
            ],
            "type": "heatmap"
           }
          ],
          "heatmapgl": [
           {
            "colorbar": {
             "outlinewidth": 0,
             "ticks": ""
            },
            "colorscale": [
             [
              0,
              "#0d0887"
             ],
             [
              0.1111111111111111,
              "#46039f"
             ],
             [
              0.2222222222222222,
              "#7201a8"
             ],
             [
              0.3333333333333333,
              "#9c179e"
             ],
             [
              0.4444444444444444,
              "#bd3786"
             ],
             [
              0.5555555555555556,
              "#d8576b"
             ],
             [
              0.6666666666666666,
              "#ed7953"
             ],
             [
              0.7777777777777778,
              "#fb9f3a"
             ],
             [
              0.8888888888888888,
              "#fdca26"
             ],
             [
              1,
              "#f0f921"
             ]
            ],
            "type": "heatmapgl"
           }
          ],
          "histogram": [
           {
            "marker": {
             "pattern": {
              "fillmode": "overlay",
              "size": 10,
              "solidity": 0.2
             }
            },
            "type": "histogram"
           }
          ],
          "histogram2d": [
           {
            "colorbar": {
             "outlinewidth": 0,
             "ticks": ""
            },
            "colorscale": [
             [
              0,
              "#0d0887"
             ],
             [
              0.1111111111111111,
              "#46039f"
             ],
             [
              0.2222222222222222,
              "#7201a8"
             ],
             [
              0.3333333333333333,
              "#9c179e"
             ],
             [
              0.4444444444444444,
              "#bd3786"
             ],
             [
              0.5555555555555556,
              "#d8576b"
             ],
             [
              0.6666666666666666,
              "#ed7953"
             ],
             [
              0.7777777777777778,
              "#fb9f3a"
             ],
             [
              0.8888888888888888,
              "#fdca26"
             ],
             [
              1,
              "#f0f921"
             ]
            ],
            "type": "histogram2d"
           }
          ],
          "histogram2dcontour": [
           {
            "colorbar": {
             "outlinewidth": 0,
             "ticks": ""
            },
            "colorscale": [
             [
              0,
              "#0d0887"
             ],
             [
              0.1111111111111111,
              "#46039f"
             ],
             [
              0.2222222222222222,
              "#7201a8"
             ],
             [
              0.3333333333333333,
              "#9c179e"
             ],
             [
              0.4444444444444444,
              "#bd3786"
             ],
             [
              0.5555555555555556,
              "#d8576b"
             ],
             [
              0.6666666666666666,
              "#ed7953"
             ],
             [
              0.7777777777777778,
              "#fb9f3a"
             ],
             [
              0.8888888888888888,
              "#fdca26"
             ],
             [
              1,
              "#f0f921"
             ]
            ],
            "type": "histogram2dcontour"
           }
          ],
          "mesh3d": [
           {
            "colorbar": {
             "outlinewidth": 0,
             "ticks": ""
            },
            "type": "mesh3d"
           }
          ],
          "parcoords": [
           {
            "line": {
             "colorbar": {
              "outlinewidth": 0,
              "ticks": ""
             }
            },
            "type": "parcoords"
           }
          ],
          "pie": [
           {
            "automargin": true,
            "type": "pie"
           }
          ],
          "scatter": [
           {
            "fillpattern": {
             "fillmode": "overlay",
             "size": 10,
             "solidity": 0.2
            },
            "type": "scatter"
           }
          ],
          "scatter3d": [
           {
            "line": {
             "colorbar": {
              "outlinewidth": 0,
              "ticks": ""
             }
            },
            "marker": {
             "colorbar": {
              "outlinewidth": 0,
              "ticks": ""
             }
            },
            "type": "scatter3d"
           }
          ],
          "scattercarpet": [
           {
            "marker": {
             "colorbar": {
              "outlinewidth": 0,
              "ticks": ""
             }
            },
            "type": "scattercarpet"
           }
          ],
          "scattergeo": [
           {
            "marker": {
             "colorbar": {
              "outlinewidth": 0,
              "ticks": ""
             }
            },
            "type": "scattergeo"
           }
          ],
          "scattergl": [
           {
            "marker": {
             "colorbar": {
              "outlinewidth": 0,
              "ticks": ""
             }
            },
            "type": "scattergl"
           }
          ],
          "scattermapbox": [
           {
            "marker": {
             "colorbar": {
              "outlinewidth": 0,
              "ticks": ""
             }
            },
            "type": "scattermapbox"
           }
          ],
          "scatterpolar": [
           {
            "marker": {
             "colorbar": {
              "outlinewidth": 0,
              "ticks": ""
             }
            },
            "type": "scatterpolar"
           }
          ],
          "scatterpolargl": [
           {
            "marker": {
             "colorbar": {
              "outlinewidth": 0,
              "ticks": ""
             }
            },
            "type": "scatterpolargl"
           }
          ],
          "scatterternary": [
           {
            "marker": {
             "colorbar": {
              "outlinewidth": 0,
              "ticks": ""
             }
            },
            "type": "scatterternary"
           }
          ],
          "surface": [
           {
            "colorbar": {
             "outlinewidth": 0,
             "ticks": ""
            },
            "colorscale": [
             [
              0,
              "#0d0887"
             ],
             [
              0.1111111111111111,
              "#46039f"
             ],
             [
              0.2222222222222222,
              "#7201a8"
             ],
             [
              0.3333333333333333,
              "#9c179e"
             ],
             [
              0.4444444444444444,
              "#bd3786"
             ],
             [
              0.5555555555555556,
              "#d8576b"
             ],
             [
              0.6666666666666666,
              "#ed7953"
             ],
             [
              0.7777777777777778,
              "#fb9f3a"
             ],
             [
              0.8888888888888888,
              "#fdca26"
             ],
             [
              1,
              "#f0f921"
             ]
            ],
            "type": "surface"
           }
          ],
          "table": [
           {
            "cells": {
             "fill": {
              "color": "#EBF0F8"
             },
             "line": {
              "color": "white"
             }
            },
            "header": {
             "fill": {
              "color": "#C8D4E3"
             },
             "line": {
              "color": "white"
             }
            },
            "type": "table"
           }
          ]
         },
         "layout": {
          "annotationdefaults": {
           "arrowcolor": "#2a3f5f",
           "arrowhead": 0,
           "arrowwidth": 1
          },
          "autotypenumbers": "strict",
          "coloraxis": {
           "colorbar": {
            "outlinewidth": 0,
            "ticks": ""
           }
          },
          "colorscale": {
           "diverging": [
            [
             0,
             "#8e0152"
            ],
            [
             0.1,
             "#c51b7d"
            ],
            [
             0.2,
             "#de77ae"
            ],
            [
             0.3,
             "#f1b6da"
            ],
            [
             0.4,
             "#fde0ef"
            ],
            [
             0.5,
             "#f7f7f7"
            ],
            [
             0.6,
             "#e6f5d0"
            ],
            [
             0.7,
             "#b8e186"
            ],
            [
             0.8,
             "#7fbc41"
            ],
            [
             0.9,
             "#4d9221"
            ],
            [
             1,
             "#276419"
            ]
           ],
           "sequential": [
            [
             0,
             "#0d0887"
            ],
            [
             0.1111111111111111,
             "#46039f"
            ],
            [
             0.2222222222222222,
             "#7201a8"
            ],
            [
             0.3333333333333333,
             "#9c179e"
            ],
            [
             0.4444444444444444,
             "#bd3786"
            ],
            [
             0.5555555555555556,
             "#d8576b"
            ],
            [
             0.6666666666666666,
             "#ed7953"
            ],
            [
             0.7777777777777778,
             "#fb9f3a"
            ],
            [
             0.8888888888888888,
             "#fdca26"
            ],
            [
             1,
             "#f0f921"
            ]
           ],
           "sequentialminus": [
            [
             0,
             "#0d0887"
            ],
            [
             0.1111111111111111,
             "#46039f"
            ],
            [
             0.2222222222222222,
             "#7201a8"
            ],
            [
             0.3333333333333333,
             "#9c179e"
            ],
            [
             0.4444444444444444,
             "#bd3786"
            ],
            [
             0.5555555555555556,
             "#d8576b"
            ],
            [
             0.6666666666666666,
             "#ed7953"
            ],
            [
             0.7777777777777778,
             "#fb9f3a"
            ],
            [
             0.8888888888888888,
             "#fdca26"
            ],
            [
             1,
             "#f0f921"
            ]
           ]
          },
          "colorway": [
           "#636efa",
           "#EF553B",
           "#00cc96",
           "#ab63fa",
           "#FFA15A",
           "#19d3f3",
           "#FF6692",
           "#B6E880",
           "#FF97FF",
           "#FECB52"
          ],
          "font": {
           "color": "#2a3f5f"
          },
          "geo": {
           "bgcolor": "white",
           "lakecolor": "white",
           "landcolor": "#E5ECF6",
           "showlakes": true,
           "showland": true,
           "subunitcolor": "white"
          },
          "hoverlabel": {
           "align": "left"
          },
          "hovermode": "closest",
          "mapbox": {
           "style": "light"
          },
          "paper_bgcolor": "white",
          "plot_bgcolor": "#E5ECF6",
          "polar": {
           "angularaxis": {
            "gridcolor": "white",
            "linecolor": "white",
            "ticks": ""
           },
           "bgcolor": "#E5ECF6",
           "radialaxis": {
            "gridcolor": "white",
            "linecolor": "white",
            "ticks": ""
           }
          },
          "scene": {
           "xaxis": {
            "backgroundcolor": "#E5ECF6",
            "gridcolor": "white",
            "gridwidth": 2,
            "linecolor": "white",
            "showbackground": true,
            "ticks": "",
            "zerolinecolor": "white"
           },
           "yaxis": {
            "backgroundcolor": "#E5ECF6",
            "gridcolor": "white",
            "gridwidth": 2,
            "linecolor": "white",
            "showbackground": true,
            "ticks": "",
            "zerolinecolor": "white"
           },
           "zaxis": {
            "backgroundcolor": "#E5ECF6",
            "gridcolor": "white",
            "gridwidth": 2,
            "linecolor": "white",
            "showbackground": true,
            "ticks": "",
            "zerolinecolor": "white"
           }
          },
          "shapedefaults": {
           "line": {
            "color": "#2a3f5f"
           }
          },
          "ternary": {
           "aaxis": {
            "gridcolor": "white",
            "linecolor": "white",
            "ticks": ""
           },
           "baxis": {
            "gridcolor": "white",
            "linecolor": "white",
            "ticks": ""
           },
           "bgcolor": "#E5ECF6",
           "caxis": {
            "gridcolor": "white",
            "linecolor": "white",
            "ticks": ""
           }
          },
          "title": {
           "x": 0.05
          },
          "xaxis": {
           "automargin": true,
           "gridcolor": "white",
           "linecolor": "white",
           "ticks": "",
           "title": {
            "standoff": 15
           },
           "zerolinecolor": "white",
           "zerolinewidth": 2
          },
          "yaxis": {
           "automargin": true,
           "gridcolor": "white",
           "linecolor": "white",
           "ticks": "",
           "title": {
            "standoff": 15
           },
           "zerolinecolor": "white",
           "zerolinewidth": 2
          }
         }
        },
        "xaxis": {
         "anchor": "y",
         "domain": [
          0,
          1
         ],
         "title": {
          "text": "State"
         }
        },
        "yaxis": {
         "anchor": "x",
         "domain": [
          0,
          1
         ],
         "title": {
          "text": "Forest loss area (km2)"
         }
        }
       }
      }
     },
     "metadata": {},
     "output_type": "display_data"
    }
   ],
   "source": [
    "states = ee.FeatureCollection('TIGER/2018/States')\n",
    "image = ee.Image(\"UMD/hansen/global_forest_change_2022_v1_10\")\n",
    "treeloss = image.select(['loss']).selfMask()\n",
    "geemap.zonal_stats(\n",
    "    treeloss.gt(0),\n",
    "    states,\n",
    "    'exports/treeloss.csv',\n",
    "    statistics_type='SUM',\n",
    "    denominator=1e6,\n",
    "    scale=1000,\n",
    ")\n",
    "# create a bar chart of loss by state\n",
    "geemap.bar_chart(\n",
    "    'exports/treeloss.csv',\n",
    "    x='NAME',\n",
    "    y='sum',\n",
    "    max_rows=20,\n",
    "    x_label='State',\n",
    "    y_label='Forest loss area (km2)',\n",
    ")\n"
   ]
  },
  {
   "cell_type": "markdown",
   "metadata": {},
   "source": [
    "## Break 2 (10 mins)\n",
    "\n",
    "## Exporting Earth Engine data (30 mins)\n",
    "\n",
    "### Exporting images\n",
    "\n",
    "Add a Landsat image to the map."
   ]
  },
  {
   "cell_type": "code",
   "execution_count": 137,
   "metadata": {},
   "outputs": [
    {
     "data": {
      "text/html": [
       "\n",
       "            <style>\n",
       "                .geemap-dark {\n",
       "                    --jp-widgets-color: white;\n",
       "                    --jp-widgets-label-color: white;\n",
       "                    --jp-ui-font-color1: white;\n",
       "                    --jp-layout-color2: #454545;\n",
       "                    background-color: #383838;\n",
       "                }\n",
       "                    \n",
       "                .geemap-dark .jupyter-button {\n",
       "                    --jp-layout-color3: #383838;\n",
       "                }\n",
       "                \n",
       "                .geemap-colab {\n",
       "                    background-color: var(--colab-primary-surface-color, white);\n",
       "                }\n",
       "                    \n",
       "                .geemap-colab .jupyter-button {\n",
       "                    --jp-layout-color3: var(--colab-primary-surface-color, white);\n",
       "                }\n",
       "            </style>\n",
       "            "
      ],
      "text/plain": [
       "<IPython.core.display.HTML object>"
      ]
     },
     "metadata": {},
     "output_type": "display_data"
    },
    {
     "data": {
      "application/vnd.jupyter.widget-view+json": {
       "model_id": "081853a1cbf0458cbc2a5aeb9b77ebb4",
       "version_major": 2,
       "version_minor": 0
      },
      "text/plain": [
       "Map(center=[0, 0], controls=(WidgetControl(options=['position', 'transparent_bg'], widget=SearchDataGUI(childr…"
      ]
     },
     "execution_count": 137,
     "metadata": {},
     "output_type": "execute_result"
    }
   ],
   "source": [
    "m = geemap.Map()\n",
    "\n",
    "image = ee.Image('LANDSAT/LC08/C02/T1_TOA/LC08_044034_20140318').select(\n",
    "    ['B5', 'B4', 'B3']\n",
    ")\n",
    "\n",
    "vis_params = {'min': 0, 'max': 0.5, 'gamma': [0.95, 1.1, 1]}\n",
    "\n",
    "m.center_object(image)\n",
    "m.add_layer(image, vis_params, 'Landsat')\n",
    "m"
   ]
  },
  {
   "cell_type": "markdown",
   "metadata": {},
   "source": [
    "Add a rectangle to the map."
   ]
  },
  {
   "cell_type": "code",
   "execution_count": 138,
   "metadata": {},
   "outputs": [
    {
     "data": {
      "text/html": [
       "\n",
       "            <style>\n",
       "                .geemap-dark {\n",
       "                    --jp-widgets-color: white;\n",
       "                    --jp-widgets-label-color: white;\n",
       "                    --jp-ui-font-color1: white;\n",
       "                    --jp-layout-color2: #454545;\n",
       "                    background-color: #383838;\n",
       "                }\n",
       "                    \n",
       "                .geemap-dark .jupyter-button {\n",
       "                    --jp-layout-color3: #383838;\n",
       "                }\n",
       "                \n",
       "                .geemap-colab {\n",
       "                    background-color: var(--colab-primary-surface-color, white);\n",
       "                }\n",
       "                    \n",
       "                .geemap-colab .jupyter-button {\n",
       "                    --jp-layout-color3: var(--colab-primary-surface-color, white);\n",
       "                }\n",
       "            </style>\n",
       "            "
      ],
      "text/plain": [
       "<IPython.core.display.HTML object>"
      ]
     },
     "metadata": {},
     "output_type": "display_data"
    }
   ],
   "source": [
    "region = ee.Geometry.BBox(-122.5955, 37.5339, -122.0982, 37.8252)\n",
    "fc = ee.FeatureCollection(region)\n",
    "style = {'color': 'ffff00ff', 'fillColor': '00000000'}\n",
    "m.add_layer(fc.style(**style), {}, 'ROI')"
   ]
  },
  {
   "cell_type": "markdown",
   "metadata": {},
   "source": [
    "To local drive"
   ]
  },
  {
   "cell_type": "code",
   "execution_count": 140,
   "metadata": {},
   "outputs": [
    {
     "data": {
      "text/html": [
       "\n",
       "            <style>\n",
       "                .geemap-dark {\n",
       "                    --jp-widgets-color: white;\n",
       "                    --jp-widgets-label-color: white;\n",
       "                    --jp-ui-font-color1: white;\n",
       "                    --jp-layout-color2: #454545;\n",
       "                    background-color: #383838;\n",
       "                }\n",
       "                    \n",
       "                .geemap-dark .jupyter-button {\n",
       "                    --jp-layout-color3: #383838;\n",
       "                }\n",
       "                \n",
       "                .geemap-colab {\n",
       "                    background-color: var(--colab-primary-surface-color, white);\n",
       "                }\n",
       "                    \n",
       "                .geemap-colab .jupyter-button {\n",
       "                    --jp-layout-color3: var(--colab-primary-surface-color, white);\n",
       "                }\n",
       "            </style>\n",
       "            "
      ],
      "text/plain": [
       "<IPython.core.display.HTML object>"
      ]
     },
     "metadata": {},
     "output_type": "display_data"
    },
    {
     "name": "stdout",
     "output_type": "stream",
     "text": [
      "Generating URL ...\n",
      "Downloading data from https://earthengine.googleapis.com/v1/projects/earthengine-legacy/thumbnails/37d459899fe25fdfa4685af1ea96d888-597b3167c188ae19fd3edd38b1f5ae83:getPixels\n",
      "Please wait ...\n",
      "Data downloaded to /Users/ilyonsg/Documents/gee/gee-python-workshop/exports/landsat.tif\n"
     ]
    }
   ],
   "source": [
    "geemap.ee_export_image(image, filename=\"exports/landsat.tif\", scale=30, region=region)"
   ]
  },
  {
   "cell_type": "markdown",
   "metadata": {},
   "source": [
    "Check image projection."
   ]
  },
  {
   "cell_type": "code",
   "execution_count": 142,
   "metadata": {},
   "outputs": [
    {
     "data": {
      "text/html": [
       "\n",
       "            <style>\n",
       "                .geemap-dark {\n",
       "                    --jp-widgets-color: white;\n",
       "                    --jp-widgets-label-color: white;\n",
       "                    --jp-ui-font-color1: white;\n",
       "                    --jp-layout-color2: #454545;\n",
       "                    background-color: #383838;\n",
       "                }\n",
       "                    \n",
       "                .geemap-dark .jupyter-button {\n",
       "                    --jp-layout-color3: #383838;\n",
       "                }\n",
       "                \n",
       "                .geemap-colab {\n",
       "                    background-color: var(--colab-primary-surface-color, white);\n",
       "                }\n",
       "                    \n",
       "                .geemap-colab .jupyter-button {\n",
       "                    --jp-layout-color3: var(--colab-primary-surface-color, white);\n",
       "                }\n",
       "            </style>\n",
       "            "
      ],
      "text/plain": [
       "<IPython.core.display.HTML object>"
      ]
     },
     "metadata": {},
     "output_type": "display_data"
    },
    {
     "data": {
      "text/plain": [
       "{'type': 'Projection',\n",
       " 'crs': 'EPSG:32610',\n",
       " 'transform': [30, 0, 460785, 0, -30, 4264215]}"
      ]
     },
     "execution_count": 142,
     "metadata": {},
     "output_type": "execute_result"
    }
   ],
   "source": [
    "projection = image.select(0).projection().getInfo()\n",
    "projection"
   ]
  },
  {
   "cell_type": "code",
   "execution_count": 143,
   "metadata": {},
   "outputs": [
    {
     "data": {
      "text/html": [
       "\n",
       "            <style>\n",
       "                .geemap-dark {\n",
       "                    --jp-widgets-color: white;\n",
       "                    --jp-widgets-label-color: white;\n",
       "                    --jp-ui-font-color1: white;\n",
       "                    --jp-layout-color2: #454545;\n",
       "                    background-color: #383838;\n",
       "                }\n",
       "                    \n",
       "                .geemap-dark .jupyter-button {\n",
       "                    --jp-layout-color3: #383838;\n",
       "                }\n",
       "                \n",
       "                .geemap-colab {\n",
       "                    background-color: var(--colab-primary-surface-color, white);\n",
       "                }\n",
       "                    \n",
       "                .geemap-colab .jupyter-button {\n",
       "                    --jp-layout-color3: var(--colab-primary-surface-color, white);\n",
       "                }\n",
       "            </style>\n",
       "            "
      ],
      "text/plain": [
       "<IPython.core.display.HTML object>"
      ]
     },
     "metadata": {},
     "output_type": "display_data"
    }
   ],
   "source": [
    "crs = projection['crs']\n",
    "crs_transform = projection['transform']"
   ]
  },
  {
   "cell_type": "markdown",
   "metadata": {},
   "source": [
    "Specify region, crs, and crs_transform."
   ]
  },
  {
   "cell_type": "code",
   "execution_count": 144,
   "metadata": {},
   "outputs": [
    {
     "data": {
      "text/html": [
       "\n",
       "            <style>\n",
       "                .geemap-dark {\n",
       "                    --jp-widgets-color: white;\n",
       "                    --jp-widgets-label-color: white;\n",
       "                    --jp-ui-font-color1: white;\n",
       "                    --jp-layout-color2: #454545;\n",
       "                    background-color: #383838;\n",
       "                }\n",
       "                    \n",
       "                .geemap-dark .jupyter-button {\n",
       "                    --jp-layout-color3: #383838;\n",
       "                }\n",
       "                \n",
       "                .geemap-colab {\n",
       "                    background-color: var(--colab-primary-surface-color, white);\n",
       "                }\n",
       "                    \n",
       "                .geemap-colab .jupyter-button {\n",
       "                    --jp-layout-color3: var(--colab-primary-surface-color, white);\n",
       "                }\n",
       "            </style>\n",
       "            "
      ],
      "text/plain": [
       "<IPython.core.display.HTML object>"
      ]
     },
     "metadata": {},
     "output_type": "display_data"
    },
    {
     "name": "stdout",
     "output_type": "stream",
     "text": [
      "Generating URL ...\n",
      "Downloading data from https://earthengine.googleapis.com/v1/projects/earthengine-legacy/thumbnails/1747aec83d93c8252bc4dc25be074d69-0de38fc0177d151f6e1fcd0b2236b4ca:getPixels\n",
      "Please wait ...\n",
      "Data downloaded to /Users/ilyonsg/Documents/gee/gee-python-workshop/landsat_crs.tif\n"
     ]
    }
   ],
   "source": [
    "geemap.ee_export_image(\n",
    "    image,\n",
    "    filename=\"landsat_crs.tif\",\n",
    "    crs=crs,\n",
    "    crs_transform=crs_transform,\n",
    "    region=region,\n",
    ")"
   ]
  },
  {
   "cell_type": "markdown",
   "metadata": {},
   "source": [
    "To Google Drive"
   ]
  },
  {
   "cell_type": "code",
   "execution_count": 145,
   "metadata": {},
   "outputs": [
    {
     "data": {
      "text/html": [
       "\n",
       "            <style>\n",
       "                .geemap-dark {\n",
       "                    --jp-widgets-color: white;\n",
       "                    --jp-widgets-label-color: white;\n",
       "                    --jp-ui-font-color1: white;\n",
       "                    --jp-layout-color2: #454545;\n",
       "                    background-color: #383838;\n",
       "                }\n",
       "                    \n",
       "                .geemap-dark .jupyter-button {\n",
       "                    --jp-layout-color3: #383838;\n",
       "                }\n",
       "                \n",
       "                .geemap-colab {\n",
       "                    background-color: var(--colab-primary-surface-color, white);\n",
       "                }\n",
       "                    \n",
       "                .geemap-colab .jupyter-button {\n",
       "                    --jp-layout-color3: var(--colab-primary-surface-color, white);\n",
       "                }\n",
       "            </style>\n",
       "            "
      ],
      "text/plain": [
       "<IPython.core.display.HTML object>"
      ]
     },
     "metadata": {},
     "output_type": "display_data"
    }
   ],
   "source": [
    "geemap.ee_export_image_to_drive(\n",
    "    image, description='landsat', folder='export', region=region, scale=30\n",
    ")"
   ]
  },
  {
   "cell_type": "markdown",
   "metadata": {},
   "source": [
    "### Exporting image collections"
   ]
  },
  {
   "cell_type": "code",
   "execution_count": 146,
   "metadata": {},
   "outputs": [
    {
     "data": {
      "text/html": [
       "\n",
       "            <style>\n",
       "                .geemap-dark {\n",
       "                    --jp-widgets-color: white;\n",
       "                    --jp-widgets-label-color: white;\n",
       "                    --jp-ui-font-color1: white;\n",
       "                    --jp-layout-color2: #454545;\n",
       "                    background-color: #383838;\n",
       "                }\n",
       "                    \n",
       "                .geemap-dark .jupyter-button {\n",
       "                    --jp-layout-color3: #383838;\n",
       "                }\n",
       "                \n",
       "                .geemap-colab {\n",
       "                    background-color: var(--colab-primary-surface-color, white);\n",
       "                }\n",
       "                    \n",
       "                .geemap-colab .jupyter-button {\n",
       "                    --jp-layout-color3: var(--colab-primary-surface-color, white);\n",
       "                }\n",
       "            </style>\n",
       "            "
      ],
      "text/plain": [
       "<IPython.core.display.HTML object>"
      ]
     },
     "metadata": {},
     "output_type": "display_data"
    }
   ],
   "source": [
    "point = ee.Geometry.Point(-99.2222, 46.7816)\n",
    "collection = (\n",
    "    ee.ImageCollection('USDA/NAIP/DOQQ')\n",
    "    .filterBounds(point)\n",
    "    .filterDate('2008-01-01', '2018-01-01')\n",
    "    .filter(ee.Filter.listContains(\"system:band_names\", \"N\"))\n",
    ")"
   ]
  },
  {
   "cell_type": "code",
   "execution_count": 147,
   "metadata": {},
   "outputs": [
    {
     "data": {
      "text/html": [
       "\n",
       "            <style>\n",
       "                .geemap-dark {\n",
       "                    --jp-widgets-color: white;\n",
       "                    --jp-widgets-label-color: white;\n",
       "                    --jp-ui-font-color1: white;\n",
       "                    --jp-layout-color2: #454545;\n",
       "                    background-color: #383838;\n",
       "                }\n",
       "                    \n",
       "                .geemap-dark .jupyter-button {\n",
       "                    --jp-layout-color3: #383838;\n",
       "                }\n",
       "                \n",
       "                .geemap-colab {\n",
       "                    background-color: var(--colab-primary-surface-color, white);\n",
       "                }\n",
       "                    \n",
       "                .geemap-colab .jupyter-button {\n",
       "                    --jp-layout-color3: var(--colab-primary-surface-color, white);\n",
       "                }\n",
       "            </style>\n",
       "            "
      ],
      "text/plain": [
       "<IPython.core.display.HTML object>"
      ]
     },
     "metadata": {},
     "output_type": "display_data"
    },
    {
     "data": {
      "text/html": [
       "<div><style>:root {\n",
       "  --font-color-primary: var(--jp-content-font-color0, rgba(0, 0, 0, 1));\n",
       "  --font-color-secondary: var(--jp-content-font-color2, rgba(0, 0, 0, 0.6));\n",
       "  --font-color-accent: rgba(123, 31, 162, 1);\n",
       "  --border-color: var(--jp-border-color2, #e0e0e0);\n",
       "  --background-color: var(--jp-layout-color0, white);\n",
       "  --background-color-row-even: var(--jp-layout-color1, white);\n",
       "  --background-color-row-odd: var(--jp-layout-color2, #eeeeee);\n",
       "}\n",
       "\n",
       "html[theme=\"dark\"],\n",
       "body[data-theme=\"dark\"],\n",
       "body.vscode-dark {\n",
       "  --font-color-primary: rgba(255, 255, 255, 1);\n",
       "  --font-color-secondary: rgba(255, 255, 255, 0.6);\n",
       "  --font-color-accent: rgb(173, 132, 190);\n",
       "  --border-color: #2e2e2e;\n",
       "  --background-color: #111111;\n",
       "  --background-color-row-even: #111111;\n",
       "  --background-color-row-odd: #313131;\n",
       "}\n",
       "\n",
       ".ee {\n",
       "  padding: 1em;\n",
       "  line-height: 1.5em;\n",
       "  min-width: 300px;\n",
       "  max-width: 1200px;\n",
       "  overflow-y: scroll;\n",
       "  max-height: 600px;\n",
       "  border: 1px solid var(--border-color);\n",
       "  font-family: monospace;\n",
       "}\n",
       "\n",
       ".ee li {\n",
       "  list-style-type: none;\n",
       "}\n",
       "\n",
       ".ee ul {\n",
       "  padding-left: 1.5em !important;\n",
       "  margin: 0;\n",
       "}\n",
       "\n",
       ".ee > ul {\n",
       "  padding-left: 0 !important;\n",
       "}\n",
       "\n",
       ".ee-open,\n",
       ".ee-shut {\n",
       "  color: var(--font-color-secondary);\n",
       "  cursor: pointer;\n",
       "  margin: 0;\n",
       "}\n",
       "\n",
       ".ee-open:hover,\n",
       ".ee-shut:hover {\n",
       "  color: var(--font-color-primary);\n",
       "}\n",
       "\n",
       ".ee-k {\n",
       "  color: var(--font-color-accent);\n",
       "  margin-right: 6px;\n",
       "}\n",
       "\n",
       ".ee-v {\n",
       "  color: var(--font-color-primary);\n",
       "}\n",
       "\n",
       ".ee-toggle {\n",
       "  display: none;\n",
       "}\n",
       "\n",
       ".ee-shut + ul {\n",
       "  display: none;\n",
       "}\n",
       "\n",
       ".ee-open + ul {\n",
       "  display: block;\n",
       "}\n",
       "\n",
       ".ee-shut::before {\n",
       "  display: inline-block;\n",
       "  content: \"▼\";\n",
       "  margin-right: 6px;\n",
       "  transform: rotate(-90deg);\n",
       "  transition: transform 0.2s;\n",
       "}\n",
       "\n",
       ".ee-open::before {\n",
       "  transform: rotate(0deg);\n",
       "  display: inline-block;\n",
       "  content: \"▼\";\n",
       "  margin-right: 6px;\n",
       "  transition: transform 0.2s;\n",
       "}\n",
       "</style><div class='ee'><ul><li><label class='ee-shut'>List (7 elements)<input type='checkbox' class='ee-toggle'></label><ul><li><span class='ee-k'>0:</span><span class='ee-v'>m_4609915_sw_14_1_20090818</span></li><li><span class='ee-k'>1:</span><span class='ee-v'>m_4609915_sw_14_1_20100629</span></li><li><span class='ee-k'>2:</span><span class='ee-v'>m_4609915_sw_14_1_20120714</span></li><li><span class='ee-k'>3:</span><span class='ee-v'>m_4609915_sw_14_1_20140901</span></li><li><span class='ee-k'>4:</span><span class='ee-v'>m_4609915_sw_14_1_20150926</span></li><li><span class='ee-k'>5:</span><span class='ee-v'>m_4609915_sw_14_h_20160704</span></li><li><span class='ee-k'>6:</span><span class='ee-v'>m_4609915_sw_14_h_20170703</span></li></ul></li></ul></div><script>function toggleHeader() {\n",
       "    const parent = this.parentElement;\n",
       "    parent.className = parent.className === \"ee-open\" ? \"ee-shut\" : \"ee-open\";\n",
       "}\n",
       "\n",
       "for (let c of document.getElementsByClassName(\"ee-toggle\")) {\n",
       "    c.onclick = toggleHeader;\n",
       "}</script></div>"
      ],
      "text/plain": [
       "<ee.ee_list.List at 0x16a9525e0>"
      ]
     },
     "execution_count": 147,
     "metadata": {},
     "output_type": "execute_result"
    }
   ],
   "source": [
    "collection.aggregate_array('system:index')"
   ]
  },
  {
   "cell_type": "markdown",
   "metadata": {},
   "source": [
    "To local drive"
   ]
  },
  {
   "cell_type": "code",
   "execution_count": 148,
   "metadata": {},
   "outputs": [
    {
     "data": {
      "text/html": [
       "\n",
       "            <style>\n",
       "                .geemap-dark {\n",
       "                    --jp-widgets-color: white;\n",
       "                    --jp-widgets-label-color: white;\n",
       "                    --jp-ui-font-color1: white;\n",
       "                    --jp-layout-color2: #454545;\n",
       "                    background-color: #383838;\n",
       "                }\n",
       "                    \n",
       "                .geemap-dark .jupyter-button {\n",
       "                    --jp-layout-color3: #383838;\n",
       "                }\n",
       "                \n",
       "                .geemap-colab {\n",
       "                    background-color: var(--colab-primary-surface-color, white);\n",
       "                }\n",
       "                    \n",
       "                .geemap-colab .jupyter-button {\n",
       "                    --jp-layout-color3: var(--colab-primary-surface-color, white);\n",
       "                }\n",
       "            </style>\n",
       "            "
      ],
      "text/plain": [
       "<IPython.core.display.HTML object>"
      ]
     },
     "metadata": {},
     "output_type": "display_data"
    },
    {
     "name": "stdout",
     "output_type": "stream",
     "text": [
      "Total number of images: 7\n",
      "\n",
      "Exporting 1/7: ./m_4609915_sw_14_1_20090818.tif\n",
      "Generating URL ...\n",
      "Downloading data from https://earthengine.googleapis.com/v1/projects/earthengine-legacy/thumbnails/63b9d150a3e033fcc8c5b05eb76653c5-74ff91ca24b34ccda970d64524bc1207:getPixels\n",
      "Please wait ...\n",
      "Data downloaded to /Users/ilyonsg/Documents/gee/gee-python-workshop/m_4609915_sw_14_1_20090818.tif\n",
      "\n",
      "\n",
      "Exporting 2/7: ./m_4609915_sw_14_1_20100629.tif\n",
      "Generating URL ...\n",
      "Downloading data from https://earthengine.googleapis.com/v1/projects/earthengine-legacy/thumbnails/a634398a0eb52e9ab7aa57f39960cc07-37670c2a906407c740b6330d980f5a76:getPixels\n",
      "Please wait ...\n",
      "Data downloaded to /Users/ilyonsg/Documents/gee/gee-python-workshop/m_4609915_sw_14_1_20100629.tif\n",
      "\n",
      "\n",
      "Exporting 3/7: ./m_4609915_sw_14_1_20120714.tif\n",
      "Generating URL ...\n",
      "Downloading data from https://earthengine.googleapis.com/v1/projects/earthengine-legacy/thumbnails/07f6d80b4edb37934459b2956e495979-5caaca3cd8654c61e4abe24047b6d9d7:getPixels\n",
      "Please wait ...\n",
      "Data downloaded to /Users/ilyonsg/Documents/gee/gee-python-workshop/m_4609915_sw_14_1_20120714.tif\n",
      "\n",
      "\n",
      "Exporting 4/7: ./m_4609915_sw_14_1_20140901.tif\n",
      "Generating URL ...\n",
      "Downloading data from https://earthengine.googleapis.com/v1/projects/earthengine-legacy/thumbnails/73d7715c293621da501870bf8e59f3a2-3b63ffe8b9a61eaef9779b8b3614aef4:getPixels\n",
      "Please wait ...\n",
      "Data downloaded to /Users/ilyonsg/Documents/gee/gee-python-workshop/m_4609915_sw_14_1_20140901.tif\n",
      "\n",
      "\n",
      "Exporting 5/7: ./m_4609915_sw_14_1_20150926.tif\n",
      "Generating URL ...\n",
      "Downloading data from https://earthengine.googleapis.com/v1/projects/earthengine-legacy/thumbnails/8e08cba8c9a64309cf5bfa42b06f7331-dce66048587b7d95cd779160334161b2:getPixels\n",
      "Please wait ...\n",
      "Data downloaded to /Users/ilyonsg/Documents/gee/gee-python-workshop/m_4609915_sw_14_1_20150926.tif\n",
      "\n",
      "\n",
      "Exporting 6/7: ./m_4609915_sw_14_h_20160704.tif\n",
      "Generating URL ...\n",
      "Downloading data from https://earthengine.googleapis.com/v1/projects/earthengine-legacy/thumbnails/dd3866eee94d13454820cc125cd6cc73-a623f41de5dfbf7ae9b3322500d08af5:getPixels\n",
      "Please wait ...\n",
      "Data downloaded to /Users/ilyonsg/Documents/gee/gee-python-workshop/m_4609915_sw_14_h_20160704.tif\n",
      "\n",
      "\n",
      "Exporting 7/7: ./m_4609915_sw_14_h_20170703.tif\n",
      "Generating URL ...\n",
      "Downloading data from https://earthengine.googleapis.com/v1/projects/earthengine-legacy/thumbnails/0708f025694f2cbd4d3ca3468ec39c37-af351fe68ea19c2cbda8f95171ee41f7:getPixels\n",
      "Please wait ...\n",
      "Data downloaded to /Users/ilyonsg/Documents/gee/gee-python-workshop/m_4609915_sw_14_h_20170703.tif\n",
      "\n",
      "\n"
     ]
    }
   ],
   "source": [
    "geemap.ee_export_image_collection(collection, out_dir='./exports', scale=10)"
   ]
  },
  {
   "cell_type": "markdown",
   "metadata": {},
   "source": [
    "To Google Drive"
   ]
  },
  {
   "cell_type": "code",
   "execution_count": 149,
   "metadata": {},
   "outputs": [
    {
     "data": {
      "text/html": [
       "\n",
       "            <style>\n",
       "                .geemap-dark {\n",
       "                    --jp-widgets-color: white;\n",
       "                    --jp-widgets-label-color: white;\n",
       "                    --jp-ui-font-color1: white;\n",
       "                    --jp-layout-color2: #454545;\n",
       "                    background-color: #383838;\n",
       "                }\n",
       "                    \n",
       "                .geemap-dark .jupyter-button {\n",
       "                    --jp-layout-color3: #383838;\n",
       "                }\n",
       "                \n",
       "                .geemap-colab {\n",
       "                    background-color: var(--colab-primary-surface-color, white);\n",
       "                }\n",
       "                    \n",
       "                .geemap-colab .jupyter-button {\n",
       "                    --jp-layout-color3: var(--colab-primary-surface-color, white);\n",
       "                }\n",
       "            </style>\n",
       "            "
      ],
      "text/plain": [
       "<IPython.core.display.HTML object>"
      ]
     },
     "metadata": {},
     "output_type": "display_data"
    },
    {
     "name": "stdout",
     "output_type": "stream",
     "text": [
      "Total number of images: 7\n",
      "\n"
     ]
    }
   ],
   "source": [
    "geemap.ee_export_image_collection_to_drive(collection, folder='export', scale=10)"
   ]
  },
  {
   "cell_type": "code",
   "execution_count": null,
   "id": "4f95cfd1",
   "metadata": {},
   "outputs": [],
   "source": [
    "# merge tiles\n",
    "geemap.mosaic(\"tiles\", \"merge.tif\")"
   ]
  },
  {
   "cell_type": "markdown",
   "metadata": {},
   "source": [
    "### Exporting feature collections"
   ]
  },
  {
   "cell_type": "code",
   "execution_count": 150,
   "metadata": {},
   "outputs": [
    {
     "data": {
      "text/html": [
       "\n",
       "            <style>\n",
       "                .geemap-dark {\n",
       "                    --jp-widgets-color: white;\n",
       "                    --jp-widgets-label-color: white;\n",
       "                    --jp-ui-font-color1: white;\n",
       "                    --jp-layout-color2: #454545;\n",
       "                    background-color: #383838;\n",
       "                }\n",
       "                    \n",
       "                .geemap-dark .jupyter-button {\n",
       "                    --jp-layout-color3: #383838;\n",
       "                }\n",
       "                \n",
       "                .geemap-colab {\n",
       "                    background-color: var(--colab-primary-surface-color, white);\n",
       "                }\n",
       "                    \n",
       "                .geemap-colab .jupyter-button {\n",
       "                    --jp-layout-color3: var(--colab-primary-surface-color, white);\n",
       "                }\n",
       "            </style>\n",
       "            "
      ],
      "text/plain": [
       "<IPython.core.display.HTML object>"
      ]
     },
     "metadata": {},
     "output_type": "display_data"
    },
    {
     "data": {
      "application/vnd.jupyter.widget-view+json": {
       "model_id": "29246702d2ae4134aa3559487d5d9b7e",
       "version_major": 2,
       "version_minor": 0
      },
      "text/plain": [
       "Map(center=[0, 0], controls=(WidgetControl(options=['position', 'transparent_bg'], widget=SearchDataGUI(childr…"
      ]
     },
     "execution_count": 150,
     "metadata": {},
     "output_type": "execute_result"
    }
   ],
   "source": [
    "m = geemap.Map()\n",
    "fc = ee.FeatureCollection('USDOS/LSIB_SIMPLE/2017').filter(\n",
    "    ee.Filter.eq('country_na', 'Germany')\n",
    ")\n",
    "m.add_layer(fc, {}, \"Germany\")\n",
    "m.center_object(fc)\n",
    "m"
   ]
  },
  {
   "cell_type": "markdown",
   "metadata": {},
   "source": [
    "To local drive"
   ]
  },
  {
   "cell_type": "code",
   "execution_count": null,
   "metadata": {},
   "outputs": [],
   "source": [
    "geemap.ee_to_shp(fc, filename='Germany.shp', selectors=None)"
   ]
  },
  {
   "cell_type": "code",
   "execution_count": null,
   "metadata": {},
   "outputs": [],
   "source": [
    "geemap.ee_export_vector(fc, filename='Germany2.shp')"
   ]
  },
  {
   "cell_type": "code",
   "execution_count": null,
   "metadata": {},
   "outputs": [],
   "source": [
    "geemap.ee_to_geojson(fc, filename='Germany.geojson')"
   ]
  },
  {
   "cell_type": "code",
   "execution_count": null,
   "metadata": {},
   "outputs": [],
   "source": [
    "geemap.ee_to_csv(fc, filename='Germany.csv')"
   ]
  },
  {
   "cell_type": "code",
   "execution_count": null,
   "metadata": {},
   "outputs": [],
   "source": [
    "gdf = geemap.ee_to_gdf(fc)\n",
    "gdf"
   ]
  },
  {
   "cell_type": "code",
   "execution_count": null,
   "metadata": {},
   "outputs": [],
   "source": [
    "df = geemap.ee_to_df(fc)\n",
    "df"
   ]
  },
  {
   "cell_type": "markdown",
   "metadata": {},
   "source": [
    "To Google Drive"
   ]
  },
  {
   "cell_type": "code",
   "execution_count": null,
   "metadata": {},
   "outputs": [],
   "source": [
    "geemap.ee_export_vector_to_drive(\n",
    "    fc, description=\"germany\", fileFormat='SHP', folder=\"export\"\n",
    ")"
   ]
  },
  {
   "cell_type": "markdown",
   "metadata": {},
   "source": [
    "### Exercise 5 - Exporting images by a fishnet\n",
    "\n",
    "Create a fishnet with a 4-degree interval based on the extent of `[-112.5439, 34.0891, -85.0342, 49.6858]`. Use the fishnet to download the Landsat 7 image tiles by the fishnet using the `geemap.download_ee_image_tiles()` and `geemap.download_ee_image_tiles_parallel()` functions. Relevant Earth Engine assets:\n",
    "\n",
    "-   `ee.Image('LANDSAT/LE7_TOA_5YEAR/1999_2003')`\n",
    "\n",
    "![](https://i.imgur.com/L1IH3fq.png)"
   ]
  },
  {
   "cell_type": "code",
   "execution_count": null,
   "metadata": {},
   "outputs": [],
   "source": [
    "m = geemap.Map(center=[40, -100], zoom=4)\n",
    "image = ee.Image('LANDSAT/LE7_TOA_5YEAR/1999_2003').select(['B4', 'B3', 'B2'])\n",
    "m.add_layer(image, {'min': 20, 'max': 200, 'gamma': 2.0}, 'Landsat')\n",
    "region = ee.Geometry.BBox(-112.5439, 34.0891, -85.0342, 49.6858)\n",
    "m.add_layer(region, {}, 'ROI')\n",
    "m.center_object(region)\n",
    "m"
   ]
  },
  {
   "cell_type": "code",
   "execution_count": null,
   "metadata": {},
   "outputs": [],
   "source": []
  },
  {
   "cell_type": "markdown",
   "metadata": {},
   "source": [
    "## Creating satellite timelapse animations (30 mins)\n",
    "\n",
    "### Creating satellite timeseries\n",
    "\n",
    "Use the [Harmonized Sentinel-2 MSI](https://developers.google.com/earth-engine/datasets/catalog/COPERNICUS_S2_HARMONIZED) dataset to create a timeseries for a given location."
   ]
  },
  {
   "cell_type": "code",
   "execution_count": 151,
   "metadata": {},
   "outputs": [
    {
     "data": {
      "text/html": [
       "\n",
       "            <style>\n",
       "                .geemap-dark {\n",
       "                    --jp-widgets-color: white;\n",
       "                    --jp-widgets-label-color: white;\n",
       "                    --jp-ui-font-color1: white;\n",
       "                    --jp-layout-color2: #454545;\n",
       "                    background-color: #383838;\n",
       "                }\n",
       "                    \n",
       "                .geemap-dark .jupyter-button {\n",
       "                    --jp-layout-color3: #383838;\n",
       "                }\n",
       "                \n",
       "                .geemap-colab {\n",
       "                    background-color: var(--colab-primary-surface-color, white);\n",
       "                }\n",
       "                    \n",
       "                .geemap-colab .jupyter-button {\n",
       "                    --jp-layout-color3: var(--colab-primary-surface-color, white);\n",
       "                }\n",
       "            </style>\n",
       "            "
      ],
      "text/plain": [
       "<IPython.core.display.HTML object>"
      ]
     },
     "metadata": {},
     "output_type": "display_data"
    }
   ],
   "source": [
    "collection = ee.ImageCollection(\"COPERNICUS/S2_HARMONIZED\").filterMetadata(\n",
    "    'CLOUDY_PIXEL_PERCENTAGE', 'less_than', 10\n",
    ")"
   ]
  },
  {
   "cell_type": "markdown",
   "metadata": {},
   "source": [
    "Specify the location of interest and date range."
   ]
  },
  {
   "cell_type": "code",
   "execution_count": 152,
   "metadata": {},
   "outputs": [
    {
     "data": {
      "text/html": [
       "\n",
       "            <style>\n",
       "                .geemap-dark {\n",
       "                    --jp-widgets-color: white;\n",
       "                    --jp-widgets-label-color: white;\n",
       "                    --jp-ui-font-color1: white;\n",
       "                    --jp-layout-color2: #454545;\n",
       "                    background-color: #383838;\n",
       "                }\n",
       "                    \n",
       "                .geemap-dark .jupyter-button {\n",
       "                    --jp-layout-color3: #383838;\n",
       "                }\n",
       "                \n",
       "                .geemap-colab {\n",
       "                    background-color: var(--colab-primary-surface-color, white);\n",
       "                }\n",
       "                    \n",
       "                .geemap-colab .jupyter-button {\n",
       "                    --jp-layout-color3: var(--colab-primary-surface-color, white);\n",
       "                }\n",
       "            </style>\n",
       "            "
      ],
      "text/plain": [
       "<IPython.core.display.HTML object>"
      ]
     },
     "metadata": {},
     "output_type": "display_data"
    }
   ],
   "source": [
    "start_date = '2016-01-01'\n",
    "end_date = '2022-12-31'\n",
    "region = ee.Geometry.BBox(-122.5549, 37.6968, -122.3446, 37.8111)"
   ]
  },
  {
   "cell_type": "markdown",
   "metadata": {},
   "source": [
    "Create an annual composite."
   ]
  },
  {
   "cell_type": "code",
   "execution_count": 153,
   "metadata": {},
   "outputs": [
    {
     "data": {
      "text/html": [
       "\n",
       "            <style>\n",
       "                .geemap-dark {\n",
       "                    --jp-widgets-color: white;\n",
       "                    --jp-widgets-label-color: white;\n",
       "                    --jp-ui-font-color1: white;\n",
       "                    --jp-layout-color2: #454545;\n",
       "                    background-color: #383838;\n",
       "                }\n",
       "                    \n",
       "                .geemap-dark .jupyter-button {\n",
       "                    --jp-layout-color3: #383838;\n",
       "                }\n",
       "                \n",
       "                .geemap-colab {\n",
       "                    background-color: var(--colab-primary-surface-color, white);\n",
       "                }\n",
       "                    \n",
       "                .geemap-colab .jupyter-button {\n",
       "                    --jp-layout-color3: var(--colab-primary-surface-color, white);\n",
       "                }\n",
       "            </style>\n",
       "            "
      ],
      "text/plain": [
       "<IPython.core.display.HTML object>"
      ]
     },
     "metadata": {},
     "output_type": "display_data"
    },
    {
     "data": {
      "text/html": [
       "<div><style>:root {\n",
       "  --font-color-primary: var(--jp-content-font-color0, rgba(0, 0, 0, 1));\n",
       "  --font-color-secondary: var(--jp-content-font-color2, rgba(0, 0, 0, 0.6));\n",
       "  --font-color-accent: rgba(123, 31, 162, 1);\n",
       "  --border-color: var(--jp-border-color2, #e0e0e0);\n",
       "  --background-color: var(--jp-layout-color0, white);\n",
       "  --background-color-row-even: var(--jp-layout-color1, white);\n",
       "  --background-color-row-odd: var(--jp-layout-color2, #eeeeee);\n",
       "}\n",
       "\n",
       "html[theme=\"dark\"],\n",
       "body[data-theme=\"dark\"],\n",
       "body.vscode-dark {\n",
       "  --font-color-primary: rgba(255, 255, 255, 1);\n",
       "  --font-color-secondary: rgba(255, 255, 255, 0.6);\n",
       "  --font-color-accent: rgb(173, 132, 190);\n",
       "  --border-color: #2e2e2e;\n",
       "  --background-color: #111111;\n",
       "  --background-color-row-even: #111111;\n",
       "  --background-color-row-odd: #313131;\n",
       "}\n",
       "\n",
       ".ee {\n",
       "  padding: 1em;\n",
       "  line-height: 1.5em;\n",
       "  min-width: 300px;\n",
       "  max-width: 1200px;\n",
       "  overflow-y: scroll;\n",
       "  max-height: 600px;\n",
       "  border: 1px solid var(--border-color);\n",
       "  font-family: monospace;\n",
       "}\n",
       "\n",
       ".ee li {\n",
       "  list-style-type: none;\n",
       "}\n",
       "\n",
       ".ee ul {\n",
       "  padding-left: 1.5em !important;\n",
       "  margin: 0;\n",
       "}\n",
       "\n",
       ".ee > ul {\n",
       "  padding-left: 0 !important;\n",
       "}\n",
       "\n",
       ".ee-open,\n",
       ".ee-shut {\n",
       "  color: var(--font-color-secondary);\n",
       "  cursor: pointer;\n",
       "  margin: 0;\n",
       "}\n",
       "\n",
       ".ee-open:hover,\n",
       ".ee-shut:hover {\n",
       "  color: var(--font-color-primary);\n",
       "}\n",
       "\n",
       ".ee-k {\n",
       "  color: var(--font-color-accent);\n",
       "  margin-right: 6px;\n",
       "}\n",
       "\n",
       ".ee-v {\n",
       "  color: var(--font-color-primary);\n",
       "}\n",
       "\n",
       ".ee-toggle {\n",
       "  display: none;\n",
       "}\n",
       "\n",
       ".ee-shut + ul {\n",
       "  display: none;\n",
       "}\n",
       "\n",
       ".ee-open + ul {\n",
       "  display: block;\n",
       "}\n",
       "\n",
       ".ee-shut::before {\n",
       "  display: inline-block;\n",
       "  content: \"▼\";\n",
       "  margin-right: 6px;\n",
       "  transform: rotate(-90deg);\n",
       "  transition: transform 0.2s;\n",
       "}\n",
       "\n",
       ".ee-open::before {\n",
       "  transform: rotate(0deg);\n",
       "  display: inline-block;\n",
       "  content: \"▼\";\n",
       "  margin-right: 6px;\n",
       "  transition: transform 0.2s;\n",
       "}\n",
       "</style><div class='ee'><ul><li><label class='ee-shut'>ImageCollection (7 elements)<input type='checkbox' class='ee-toggle'></label><ul><li><span class='ee-k'>type:</span><span class='ee-v'>ImageCollection</span></li><li><label class='ee-shut'>bands: []<input type='checkbox' class='ee-toggle'></label><ul></ul></li><li><label class='ee-shut'>features: List (7 elements)<input type='checkbox' class='ee-toggle'></label><ul><li><label class='ee-shut'>0: Image (16 bands)<input type='checkbox' class='ee-toggle'></label><ul><li><span class='ee-k'>type:</span><span class='ee-v'>Image</span></li><li><label class='ee-shut'>bands: List (16 elements)<input type='checkbox' class='ee-toggle'></label><ul><li><label class='ee-shut'>0: \"B1\", double, EPSG:4326, 1x1 px<input type='checkbox' class='ee-toggle'></label><ul><li><span class='ee-k'>id:</span><span class='ee-v'>B1</span></li><li><span class='ee-k'>crs:</span><span class='ee-v'>EPSG:4326</span></li><li><label class='ee-shut'>crs_transform: [1, 0, 0, 0, 1, 0]<input type='checkbox' class='ee-toggle'></label><ul><li><span class='ee-k'>0:</span><span class='ee-v'>1</span></li><li><span class='ee-k'>1:</span><span class='ee-v'>0</span></li><li><span class='ee-k'>2:</span><span class='ee-v'>0</span></li><li><span class='ee-k'>3:</span><span class='ee-v'>0</span></li><li><span class='ee-k'>4:</span><span class='ee-v'>1</span></li><li><span class='ee-k'>5:</span><span class='ee-v'>0</span></li></ul></li><li><label class='ee-shut'>data_type: double<input type='checkbox' class='ee-toggle'></label><ul><li><span class='ee-k'>type:</span><span class='ee-v'>PixelType</span></li><li><span class='ee-k'>max:</span><span class='ee-v'>65535</span></li><li><span class='ee-k'>min:</span><span class='ee-v'>0</span></li><li><span class='ee-k'>precision:</span><span class='ee-v'>double</span></li></ul></li><li><label class='ee-shut'>dimensions: [1, 1]<input type='checkbox' class='ee-toggle'></label><ul><li><span class='ee-k'>0:</span><span class='ee-v'>1</span></li><li><span class='ee-k'>1:</span><span class='ee-v'>1</span></li></ul></li><li><label class='ee-shut'>origin: [-123, 37]<input type='checkbox' class='ee-toggle'></label><ul><li><span class='ee-k'>0:</span><span class='ee-v'>-123</span></li><li><span class='ee-k'>1:</span><span class='ee-v'>37</span></li></ul></li></ul></li><li><label class='ee-shut'>1: \"B2\", double, EPSG:4326, 1x1 px<input type='checkbox' class='ee-toggle'></label><ul><li><span class='ee-k'>id:</span><span class='ee-v'>B2</span></li><li><span class='ee-k'>crs:</span><span class='ee-v'>EPSG:4326</span></li><li><label class='ee-shut'>crs_transform: [1, 0, 0, 0, 1, 0]<input type='checkbox' class='ee-toggle'></label><ul><li><span class='ee-k'>0:</span><span class='ee-v'>1</span></li><li><span class='ee-k'>1:</span><span class='ee-v'>0</span></li><li><span class='ee-k'>2:</span><span class='ee-v'>0</span></li><li><span class='ee-k'>3:</span><span class='ee-v'>0</span></li><li><span class='ee-k'>4:</span><span class='ee-v'>1</span></li><li><span class='ee-k'>5:</span><span class='ee-v'>0</span></li></ul></li><li><label class='ee-shut'>data_type: double<input type='checkbox' class='ee-toggle'></label><ul><li><span class='ee-k'>type:</span><span class='ee-v'>PixelType</span></li><li><span class='ee-k'>max:</span><span class='ee-v'>65535</span></li><li><span class='ee-k'>min:</span><span class='ee-v'>0</span></li><li><span class='ee-k'>precision:</span><span class='ee-v'>double</span></li></ul></li><li><label class='ee-shut'>dimensions: [1, 1]<input type='checkbox' class='ee-toggle'></label><ul><li><span class='ee-k'>0:</span><span class='ee-v'>1</span></li><li><span class='ee-k'>1:</span><span class='ee-v'>1</span></li></ul></li><li><label class='ee-shut'>origin: [-123, 37]<input type='checkbox' class='ee-toggle'></label><ul><li><span class='ee-k'>0:</span><span class='ee-v'>-123</span></li><li><span class='ee-k'>1:</span><span class='ee-v'>37</span></li></ul></li></ul></li><li><label class='ee-shut'>2: \"B3\", double, EPSG:4326, 1x1 px<input type='checkbox' class='ee-toggle'></label><ul><li><span class='ee-k'>id:</span><span class='ee-v'>B3</span></li><li><span class='ee-k'>crs:</span><span class='ee-v'>EPSG:4326</span></li><li><label class='ee-shut'>crs_transform: [1, 0, 0, 0, 1, 0]<input type='checkbox' class='ee-toggle'></label><ul><li><span class='ee-k'>0:</span><span class='ee-v'>1</span></li><li><span class='ee-k'>1:</span><span class='ee-v'>0</span></li><li><span class='ee-k'>2:</span><span class='ee-v'>0</span></li><li><span class='ee-k'>3:</span><span class='ee-v'>0</span></li><li><span class='ee-k'>4:</span><span class='ee-v'>1</span></li><li><span class='ee-k'>5:</span><span class='ee-v'>0</span></li></ul></li><li><label class='ee-shut'>data_type: double<input type='checkbox' class='ee-toggle'></label><ul><li><span class='ee-k'>type:</span><span class='ee-v'>PixelType</span></li><li><span class='ee-k'>max:</span><span class='ee-v'>65535</span></li><li><span class='ee-k'>min:</span><span class='ee-v'>0</span></li><li><span class='ee-k'>precision:</span><span class='ee-v'>double</span></li></ul></li><li><label class='ee-shut'>dimensions: [1, 1]<input type='checkbox' class='ee-toggle'></label><ul><li><span class='ee-k'>0:</span><span class='ee-v'>1</span></li><li><span class='ee-k'>1:</span><span class='ee-v'>1</span></li></ul></li><li><label class='ee-shut'>origin: [-123, 37]<input type='checkbox' class='ee-toggle'></label><ul><li><span class='ee-k'>0:</span><span class='ee-v'>-123</span></li><li><span class='ee-k'>1:</span><span class='ee-v'>37</span></li></ul></li></ul></li><li><label class='ee-shut'>3: \"B4\", double, EPSG:4326, 1x1 px<input type='checkbox' class='ee-toggle'></label><ul><li><span class='ee-k'>id:</span><span class='ee-v'>B4</span></li><li><span class='ee-k'>crs:</span><span class='ee-v'>EPSG:4326</span></li><li><label class='ee-shut'>crs_transform: [1, 0, 0, 0, 1, 0]<input type='checkbox' class='ee-toggle'></label><ul><li><span class='ee-k'>0:</span><span class='ee-v'>1</span></li><li><span class='ee-k'>1:</span><span class='ee-v'>0</span></li><li><span class='ee-k'>2:</span><span class='ee-v'>0</span></li><li><span class='ee-k'>3:</span><span class='ee-v'>0</span></li><li><span class='ee-k'>4:</span><span class='ee-v'>1</span></li><li><span class='ee-k'>5:</span><span class='ee-v'>0</span></li></ul></li><li><label class='ee-shut'>data_type: double<input type='checkbox' class='ee-toggle'></label><ul><li><span class='ee-k'>type:</span><span class='ee-v'>PixelType</span></li><li><span class='ee-k'>max:</span><span class='ee-v'>65535</span></li><li><span class='ee-k'>min:</span><span class='ee-v'>0</span></li><li><span class='ee-k'>precision:</span><span class='ee-v'>double</span></li></ul></li><li><label class='ee-shut'>dimensions: [1, 1]<input type='checkbox' class='ee-toggle'></label><ul><li><span class='ee-k'>0:</span><span class='ee-v'>1</span></li><li><span class='ee-k'>1:</span><span class='ee-v'>1</span></li></ul></li><li><label class='ee-shut'>origin: [-123, 37]<input type='checkbox' class='ee-toggle'></label><ul><li><span class='ee-k'>0:</span><span class='ee-v'>-123</span></li><li><span class='ee-k'>1:</span><span class='ee-v'>37</span></li></ul></li></ul></li><li><label class='ee-shut'>4: \"B5\", double, EPSG:4326, 1x1 px<input type='checkbox' class='ee-toggle'></label><ul><li><span class='ee-k'>id:</span><span class='ee-v'>B5</span></li><li><span class='ee-k'>crs:</span><span class='ee-v'>EPSG:4326</span></li><li><label class='ee-shut'>crs_transform: [1, 0, 0, 0, 1, 0]<input type='checkbox' class='ee-toggle'></label><ul><li><span class='ee-k'>0:</span><span class='ee-v'>1</span></li><li><span class='ee-k'>1:</span><span class='ee-v'>0</span></li><li><span class='ee-k'>2:</span><span class='ee-v'>0</span></li><li><span class='ee-k'>3:</span><span class='ee-v'>0</span></li><li><span class='ee-k'>4:</span><span class='ee-v'>1</span></li><li><span class='ee-k'>5:</span><span class='ee-v'>0</span></li></ul></li><li><label class='ee-shut'>data_type: double<input type='checkbox' class='ee-toggle'></label><ul><li><span class='ee-k'>type:</span><span class='ee-v'>PixelType</span></li><li><span class='ee-k'>max:</span><span class='ee-v'>65535</span></li><li><span class='ee-k'>min:</span><span class='ee-v'>0</span></li><li><span class='ee-k'>precision:</span><span class='ee-v'>double</span></li></ul></li><li><label class='ee-shut'>dimensions: [1, 1]<input type='checkbox' class='ee-toggle'></label><ul><li><span class='ee-k'>0:</span><span class='ee-v'>1</span></li><li><span class='ee-k'>1:</span><span class='ee-v'>1</span></li></ul></li><li><label class='ee-shut'>origin: [-123, 37]<input type='checkbox' class='ee-toggle'></label><ul><li><span class='ee-k'>0:</span><span class='ee-v'>-123</span></li><li><span class='ee-k'>1:</span><span class='ee-v'>37</span></li></ul></li></ul></li><li><label class='ee-shut'>5: \"B6\", double, EPSG:4326, 1x1 px<input type='checkbox' class='ee-toggle'></label><ul><li><span class='ee-k'>id:</span><span class='ee-v'>B6</span></li><li><span class='ee-k'>crs:</span><span class='ee-v'>EPSG:4326</span></li><li><label class='ee-shut'>crs_transform: [1, 0, 0, 0, 1, 0]<input type='checkbox' class='ee-toggle'></label><ul><li><span class='ee-k'>0:</span><span class='ee-v'>1</span></li><li><span class='ee-k'>1:</span><span class='ee-v'>0</span></li><li><span class='ee-k'>2:</span><span class='ee-v'>0</span></li><li><span class='ee-k'>3:</span><span class='ee-v'>0</span></li><li><span class='ee-k'>4:</span><span class='ee-v'>1</span></li><li><span class='ee-k'>5:</span><span class='ee-v'>0</span></li></ul></li><li><label class='ee-shut'>data_type: double<input type='checkbox' class='ee-toggle'></label><ul><li><span class='ee-k'>type:</span><span class='ee-v'>PixelType</span></li><li><span class='ee-k'>max:</span><span class='ee-v'>65535</span></li><li><span class='ee-k'>min:</span><span class='ee-v'>0</span></li><li><span class='ee-k'>precision:</span><span class='ee-v'>double</span></li></ul></li><li><label class='ee-shut'>dimensions: [1, 1]<input type='checkbox' class='ee-toggle'></label><ul><li><span class='ee-k'>0:</span><span class='ee-v'>1</span></li><li><span class='ee-k'>1:</span><span class='ee-v'>1</span></li></ul></li><li><label class='ee-shut'>origin: [-123, 37]<input type='checkbox' class='ee-toggle'></label><ul><li><span class='ee-k'>0:</span><span class='ee-v'>-123</span></li><li><span class='ee-k'>1:</span><span class='ee-v'>37</span></li></ul></li></ul></li><li><label class='ee-shut'>6: \"B7\", double, EPSG:4326, 1x1 px<input type='checkbox' class='ee-toggle'></label><ul><li><span class='ee-k'>id:</span><span class='ee-v'>B7</span></li><li><span class='ee-k'>crs:</span><span class='ee-v'>EPSG:4326</span></li><li><label class='ee-shut'>crs_transform: [1, 0, 0, 0, 1, 0]<input type='checkbox' class='ee-toggle'></label><ul><li><span class='ee-k'>0:</span><span class='ee-v'>1</span></li><li><span class='ee-k'>1:</span><span class='ee-v'>0</span></li><li><span class='ee-k'>2:</span><span class='ee-v'>0</span></li><li><span class='ee-k'>3:</span><span class='ee-v'>0</span></li><li><span class='ee-k'>4:</span><span class='ee-v'>1</span></li><li><span class='ee-k'>5:</span><span class='ee-v'>0</span></li></ul></li><li><label class='ee-shut'>data_type: double<input type='checkbox' class='ee-toggle'></label><ul><li><span class='ee-k'>type:</span><span class='ee-v'>PixelType</span></li><li><span class='ee-k'>max:</span><span class='ee-v'>65535</span></li><li><span class='ee-k'>min:</span><span class='ee-v'>0</span></li><li><span class='ee-k'>precision:</span><span class='ee-v'>double</span></li></ul></li><li><label class='ee-shut'>dimensions: [1, 1]<input type='checkbox' class='ee-toggle'></label><ul><li><span class='ee-k'>0:</span><span class='ee-v'>1</span></li><li><span class='ee-k'>1:</span><span class='ee-v'>1</span></li></ul></li><li><label class='ee-shut'>origin: [-123, 37]<input type='checkbox' class='ee-toggle'></label><ul><li><span class='ee-k'>0:</span><span class='ee-v'>-123</span></li><li><span class='ee-k'>1:</span><span class='ee-v'>37</span></li></ul></li></ul></li><li><label class='ee-shut'>7: \"B8\", double, EPSG:4326, 1x1 px<input type='checkbox' class='ee-toggle'></label><ul><li><span class='ee-k'>id:</span><span class='ee-v'>B8</span></li><li><span class='ee-k'>crs:</span><span class='ee-v'>EPSG:4326</span></li><li><label class='ee-shut'>crs_transform: [1, 0, 0, 0, 1, 0]<input type='checkbox' class='ee-toggle'></label><ul><li><span class='ee-k'>0:</span><span class='ee-v'>1</span></li><li><span class='ee-k'>1:</span><span class='ee-v'>0</span></li><li><span class='ee-k'>2:</span><span class='ee-v'>0</span></li><li><span class='ee-k'>3:</span><span class='ee-v'>0</span></li><li><span class='ee-k'>4:</span><span class='ee-v'>1</span></li><li><span class='ee-k'>5:</span><span class='ee-v'>0</span></li></ul></li><li><label class='ee-shut'>data_type: double<input type='checkbox' class='ee-toggle'></label><ul><li><span class='ee-k'>type:</span><span class='ee-v'>PixelType</span></li><li><span class='ee-k'>max:</span><span class='ee-v'>65535</span></li><li><span class='ee-k'>min:</span><span class='ee-v'>0</span></li><li><span class='ee-k'>precision:</span><span class='ee-v'>double</span></li></ul></li><li><label class='ee-shut'>dimensions: [1, 1]<input type='checkbox' class='ee-toggle'></label><ul><li><span class='ee-k'>0:</span><span class='ee-v'>1</span></li><li><span class='ee-k'>1:</span><span class='ee-v'>1</span></li></ul></li><li><label class='ee-shut'>origin: [-123, 37]<input type='checkbox' class='ee-toggle'></label><ul><li><span class='ee-k'>0:</span><span class='ee-v'>-123</span></li><li><span class='ee-k'>1:</span><span class='ee-v'>37</span></li></ul></li></ul></li><li><label class='ee-shut'>8: \"B8A\", double, EPSG:4326, 1x1 px<input type='checkbox' class='ee-toggle'></label><ul><li><span class='ee-k'>id:</span><span class='ee-v'>B8A</span></li><li><span class='ee-k'>crs:</span><span class='ee-v'>EPSG:4326</span></li><li><label class='ee-shut'>crs_transform: [1, 0, 0, 0, 1, 0]<input type='checkbox' class='ee-toggle'></label><ul><li><span class='ee-k'>0:</span><span class='ee-v'>1</span></li><li><span class='ee-k'>1:</span><span class='ee-v'>0</span></li><li><span class='ee-k'>2:</span><span class='ee-v'>0</span></li><li><span class='ee-k'>3:</span><span class='ee-v'>0</span></li><li><span class='ee-k'>4:</span><span class='ee-v'>1</span></li><li><span class='ee-k'>5:</span><span class='ee-v'>0</span></li></ul></li><li><label class='ee-shut'>data_type: double<input type='checkbox' class='ee-toggle'></label><ul><li><span class='ee-k'>type:</span><span class='ee-v'>PixelType</span></li><li><span class='ee-k'>max:</span><span class='ee-v'>65535</span></li><li><span class='ee-k'>min:</span><span class='ee-v'>0</span></li><li><span class='ee-k'>precision:</span><span class='ee-v'>double</span></li></ul></li><li><label class='ee-shut'>dimensions: [1, 1]<input type='checkbox' class='ee-toggle'></label><ul><li><span class='ee-k'>0:</span><span class='ee-v'>1</span></li><li><span class='ee-k'>1:</span><span class='ee-v'>1</span></li></ul></li><li><label class='ee-shut'>origin: [-123, 37]<input type='checkbox' class='ee-toggle'></label><ul><li><span class='ee-k'>0:</span><span class='ee-v'>-123</span></li><li><span class='ee-k'>1:</span><span class='ee-v'>37</span></li></ul></li></ul></li><li><label class='ee-shut'>9: \"B9\", double, EPSG:4326, 1x1 px<input type='checkbox' class='ee-toggle'></label><ul><li><span class='ee-k'>id:</span><span class='ee-v'>B9</span></li><li><span class='ee-k'>crs:</span><span class='ee-v'>EPSG:4326</span></li><li><label class='ee-shut'>crs_transform: [1, 0, 0, 0, 1, 0]<input type='checkbox' class='ee-toggle'></label><ul><li><span class='ee-k'>0:</span><span class='ee-v'>1</span></li><li><span class='ee-k'>1:</span><span class='ee-v'>0</span></li><li><span class='ee-k'>2:</span><span class='ee-v'>0</span></li><li><span class='ee-k'>3:</span><span class='ee-v'>0</span></li><li><span class='ee-k'>4:</span><span class='ee-v'>1</span></li><li><span class='ee-k'>5:</span><span class='ee-v'>0</span></li></ul></li><li><label class='ee-shut'>data_type: double<input type='checkbox' class='ee-toggle'></label><ul><li><span class='ee-k'>type:</span><span class='ee-v'>PixelType</span></li><li><span class='ee-k'>max:</span><span class='ee-v'>65535</span></li><li><span class='ee-k'>min:</span><span class='ee-v'>0</span></li><li><span class='ee-k'>precision:</span><span class='ee-v'>double</span></li></ul></li><li><label class='ee-shut'>dimensions: [1, 1]<input type='checkbox' class='ee-toggle'></label><ul><li><span class='ee-k'>0:</span><span class='ee-v'>1</span></li><li><span class='ee-k'>1:</span><span class='ee-v'>1</span></li></ul></li><li><label class='ee-shut'>origin: [-123, 37]<input type='checkbox' class='ee-toggle'></label><ul><li><span class='ee-k'>0:</span><span class='ee-v'>-123</span></li><li><span class='ee-k'>1:</span><span class='ee-v'>37</span></li></ul></li></ul></li><li><label class='ee-shut'>10: \"B10\", double, EPSG:4326, 1x1 px<input type='checkbox' class='ee-toggle'></label><ul><li><span class='ee-k'>id:</span><span class='ee-v'>B10</span></li><li><span class='ee-k'>crs:</span><span class='ee-v'>EPSG:4326</span></li><li><label class='ee-shut'>crs_transform: [1, 0, 0, 0, 1, 0]<input type='checkbox' class='ee-toggle'></label><ul><li><span class='ee-k'>0:</span><span class='ee-v'>1</span></li><li><span class='ee-k'>1:</span><span class='ee-v'>0</span></li><li><span class='ee-k'>2:</span><span class='ee-v'>0</span></li><li><span class='ee-k'>3:</span><span class='ee-v'>0</span></li><li><span class='ee-k'>4:</span><span class='ee-v'>1</span></li><li><span class='ee-k'>5:</span><span class='ee-v'>0</span></li></ul></li><li><label class='ee-shut'>data_type: double<input type='checkbox' class='ee-toggle'></label><ul><li><span class='ee-k'>type:</span><span class='ee-v'>PixelType</span></li><li><span class='ee-k'>max:</span><span class='ee-v'>65535</span></li><li><span class='ee-k'>min:</span><span class='ee-v'>0</span></li><li><span class='ee-k'>precision:</span><span class='ee-v'>double</span></li></ul></li><li><label class='ee-shut'>dimensions: [1, 1]<input type='checkbox' class='ee-toggle'></label><ul><li><span class='ee-k'>0:</span><span class='ee-v'>1</span></li><li><span class='ee-k'>1:</span><span class='ee-v'>1</span></li></ul></li><li><label class='ee-shut'>origin: [-123, 37]<input type='checkbox' class='ee-toggle'></label><ul><li><span class='ee-k'>0:</span><span class='ee-v'>-123</span></li><li><span class='ee-k'>1:</span><span class='ee-v'>37</span></li></ul></li></ul></li><li><label class='ee-shut'>11: \"B11\", double, EPSG:4326, 1x1 px<input type='checkbox' class='ee-toggle'></label><ul><li><span class='ee-k'>id:</span><span class='ee-v'>B11</span></li><li><span class='ee-k'>crs:</span><span class='ee-v'>EPSG:4326</span></li><li><label class='ee-shut'>crs_transform: [1, 0, 0, 0, 1, 0]<input type='checkbox' class='ee-toggle'></label><ul><li><span class='ee-k'>0:</span><span class='ee-v'>1</span></li><li><span class='ee-k'>1:</span><span class='ee-v'>0</span></li><li><span class='ee-k'>2:</span><span class='ee-v'>0</span></li><li><span class='ee-k'>3:</span><span class='ee-v'>0</span></li><li><span class='ee-k'>4:</span><span class='ee-v'>1</span></li><li><span class='ee-k'>5:</span><span class='ee-v'>0</span></li></ul></li><li><label class='ee-shut'>data_type: double<input type='checkbox' class='ee-toggle'></label><ul><li><span class='ee-k'>type:</span><span class='ee-v'>PixelType</span></li><li><span class='ee-k'>max:</span><span class='ee-v'>65535</span></li><li><span class='ee-k'>min:</span><span class='ee-v'>0</span></li><li><span class='ee-k'>precision:</span><span class='ee-v'>double</span></li></ul></li><li><label class='ee-shut'>dimensions: [1, 1]<input type='checkbox' class='ee-toggle'></label><ul><li><span class='ee-k'>0:</span><span class='ee-v'>1</span></li><li><span class='ee-k'>1:</span><span class='ee-v'>1</span></li></ul></li><li><label class='ee-shut'>origin: [-123, 37]<input type='checkbox' class='ee-toggle'></label><ul><li><span class='ee-k'>0:</span><span class='ee-v'>-123</span></li><li><span class='ee-k'>1:</span><span class='ee-v'>37</span></li></ul></li></ul></li><li><label class='ee-shut'>12: \"B12\", double, EPSG:4326, 1x1 px<input type='checkbox' class='ee-toggle'></label><ul><li><span class='ee-k'>id:</span><span class='ee-v'>B12</span></li><li><span class='ee-k'>crs:</span><span class='ee-v'>EPSG:4326</span></li><li><label class='ee-shut'>crs_transform: [1, 0, 0, 0, 1, 0]<input type='checkbox' class='ee-toggle'></label><ul><li><span class='ee-k'>0:</span><span class='ee-v'>1</span></li><li><span class='ee-k'>1:</span><span class='ee-v'>0</span></li><li><span class='ee-k'>2:</span><span class='ee-v'>0</span></li><li><span class='ee-k'>3:</span><span class='ee-v'>0</span></li><li><span class='ee-k'>4:</span><span class='ee-v'>1</span></li><li><span class='ee-k'>5:</span><span class='ee-v'>0</span></li></ul></li><li><label class='ee-shut'>data_type: double<input type='checkbox' class='ee-toggle'></label><ul><li><span class='ee-k'>type:</span><span class='ee-v'>PixelType</span></li><li><span class='ee-k'>max:</span><span class='ee-v'>65535</span></li><li><span class='ee-k'>min:</span><span class='ee-v'>0</span></li><li><span class='ee-k'>precision:</span><span class='ee-v'>double</span></li></ul></li><li><label class='ee-shut'>dimensions: [1, 1]<input type='checkbox' class='ee-toggle'></label><ul><li><span class='ee-k'>0:</span><span class='ee-v'>1</span></li><li><span class='ee-k'>1:</span><span class='ee-v'>1</span></li></ul></li><li><label class='ee-shut'>origin: [-123, 37]<input type='checkbox' class='ee-toggle'></label><ul><li><span class='ee-k'>0:</span><span class='ee-v'>-123</span></li><li><span class='ee-k'>1:</span><span class='ee-v'>37</span></li></ul></li></ul></li><li><label class='ee-shut'>13: \"QA10\", double, EPSG:4326, 1x1 px<input type='checkbox' class='ee-toggle'></label><ul><li><span class='ee-k'>id:</span><span class='ee-v'>QA10</span></li><li><span class='ee-k'>crs:</span><span class='ee-v'>EPSG:4326</span></li><li><label class='ee-shut'>crs_transform: [1, 0, 0, 0, 1, 0]<input type='checkbox' class='ee-toggle'></label><ul><li><span class='ee-k'>0:</span><span class='ee-v'>1</span></li><li><span class='ee-k'>1:</span><span class='ee-v'>0</span></li><li><span class='ee-k'>2:</span><span class='ee-v'>0</span></li><li><span class='ee-k'>3:</span><span class='ee-v'>0</span></li><li><span class='ee-k'>4:</span><span class='ee-v'>1</span></li><li><span class='ee-k'>5:</span><span class='ee-v'>0</span></li></ul></li><li><label class='ee-shut'>data_type: double<input type='checkbox' class='ee-toggle'></label><ul><li><span class='ee-k'>type:</span><span class='ee-v'>PixelType</span></li><li><span class='ee-k'>max:</span><span class='ee-v'>65535</span></li><li><span class='ee-k'>min:</span><span class='ee-v'>0</span></li><li><span class='ee-k'>precision:</span><span class='ee-v'>double</span></li></ul></li><li><label class='ee-shut'>dimensions: [1, 1]<input type='checkbox' class='ee-toggle'></label><ul><li><span class='ee-k'>0:</span><span class='ee-v'>1</span></li><li><span class='ee-k'>1:</span><span class='ee-v'>1</span></li></ul></li><li><label class='ee-shut'>origin: [-123, 37]<input type='checkbox' class='ee-toggle'></label><ul><li><span class='ee-k'>0:</span><span class='ee-v'>-123</span></li><li><span class='ee-k'>1:</span><span class='ee-v'>37</span></li></ul></li></ul></li><li><label class='ee-shut'>14: \"QA20\", double, EPSG:4326, 1x1 px<input type='checkbox' class='ee-toggle'></label><ul><li><span class='ee-k'>id:</span><span class='ee-v'>QA20</span></li><li><span class='ee-k'>crs:</span><span class='ee-v'>EPSG:4326</span></li><li><label class='ee-shut'>crs_transform: [1, 0, 0, 0, 1, 0]<input type='checkbox' class='ee-toggle'></label><ul><li><span class='ee-k'>0:</span><span class='ee-v'>1</span></li><li><span class='ee-k'>1:</span><span class='ee-v'>0</span></li><li><span class='ee-k'>2:</span><span class='ee-v'>0</span></li><li><span class='ee-k'>3:</span><span class='ee-v'>0</span></li><li><span class='ee-k'>4:</span><span class='ee-v'>1</span></li><li><span class='ee-k'>5:</span><span class='ee-v'>0</span></li></ul></li><li><label class='ee-shut'>data_type: double<input type='checkbox' class='ee-toggle'></label><ul><li><span class='ee-k'>type:</span><span class='ee-v'>PixelType</span></li><li><span class='ee-k'>max:</span><span class='ee-v'>4294967295</span></li><li><span class='ee-k'>min:</span><span class='ee-v'>0</span></li><li><span class='ee-k'>precision:</span><span class='ee-v'>double</span></li></ul></li><li><label class='ee-shut'>dimensions: [1, 1]<input type='checkbox' class='ee-toggle'></label><ul><li><span class='ee-k'>0:</span><span class='ee-v'>1</span></li><li><span class='ee-k'>1:</span><span class='ee-v'>1</span></li></ul></li><li><label class='ee-shut'>origin: [-123, 37]<input type='checkbox' class='ee-toggle'></label><ul><li><span class='ee-k'>0:</span><span class='ee-v'>-123</span></li><li><span class='ee-k'>1:</span><span class='ee-v'>37</span></li></ul></li></ul></li><li><label class='ee-shut'>15: \"QA60\", double, EPSG:4326, 1x1 px<input type='checkbox' class='ee-toggle'></label><ul><li><span class='ee-k'>id:</span><span class='ee-v'>QA60</span></li><li><span class='ee-k'>crs:</span><span class='ee-v'>EPSG:4326</span></li><li><label class='ee-shut'>crs_transform: [1, 0, 0, 0, 1, 0]<input type='checkbox' class='ee-toggle'></label><ul><li><span class='ee-k'>0:</span><span class='ee-v'>1</span></li><li><span class='ee-k'>1:</span><span class='ee-v'>0</span></li><li><span class='ee-k'>2:</span><span class='ee-v'>0</span></li><li><span class='ee-k'>3:</span><span class='ee-v'>0</span></li><li><span class='ee-k'>4:</span><span class='ee-v'>1</span></li><li><span class='ee-k'>5:</span><span class='ee-v'>0</span></li></ul></li><li><label class='ee-shut'>data_type: double<input type='checkbox' class='ee-toggle'></label><ul><li><span class='ee-k'>type:</span><span class='ee-v'>PixelType</span></li><li><span class='ee-k'>max:</span><span class='ee-v'>65535</span></li><li><span class='ee-k'>min:</span><span class='ee-v'>0</span></li><li><span class='ee-k'>precision:</span><span class='ee-v'>double</span></li></ul></li><li><label class='ee-shut'>dimensions: [1, 1]<input type='checkbox' class='ee-toggle'></label><ul><li><span class='ee-k'>0:</span><span class='ee-v'>1</span></li><li><span class='ee-k'>1:</span><span class='ee-v'>1</span></li></ul></li><li><label class='ee-shut'>origin: [-123, 37]<input type='checkbox' class='ee-toggle'></label><ul><li><span class='ee-k'>0:</span><span class='ee-v'>-123</span></li><li><span class='ee-k'>1:</span><span class='ee-v'>37</span></li></ul></li></ul></li></ul></li><li><label class='ee-shut'>properties: Object (5 properties)<input type='checkbox' class='ee-toggle'></label><ul><li><span class='ee-k'>empty:</span><span class='ee-v'>0</span></li><li><span class='ee-k'>system:date:</span><span class='ee-v'>2016</span></li><li><label class='ee-shut'>system:footprint: Polygon (5 vertices)<input type='checkbox' class='ee-toggle'></label><ul><li><span class='ee-k'>type:</span><span class='ee-v'>Polygon</span></li><li><label class='ee-shut'>coordinates: List (1 element)<input type='checkbox' class='ee-toggle'></label><ul><li><label class='ee-shut'>0: List (5 elements)<input type='checkbox' class='ee-toggle'></label><ul><li><label class='ee-shut'>0: [-122.5549, 37.6968]<input type='checkbox' class='ee-toggle'></label><ul><li><span class='ee-k'>0:</span><span class='ee-v'>-122.5549</span></li><li><span class='ee-k'>1:</span><span class='ee-v'>37.6968</span></li></ul></li><li><label class='ee-shut'>1: [-122.34460000000001, 37.6968]<input type='checkbox' class='ee-toggle'></label><ul><li><span class='ee-k'>0:</span><span class='ee-v'>-122.34460000000001</span></li><li><span class='ee-k'>1:</span><span class='ee-v'>37.6968</span></li></ul></li><li><label class='ee-shut'>2: [-122.34460000000001, 37.8111]<input type='checkbox' class='ee-toggle'></label><ul><li><span class='ee-k'>0:</span><span class='ee-v'>-122.34460000000001</span></li><li><span class='ee-k'>1:</span><span class='ee-v'>37.8111</span></li></ul></li><li><label class='ee-shut'>3: [-122.5549, 37.8111]<input type='checkbox' class='ee-toggle'></label><ul><li><span class='ee-k'>0:</span><span class='ee-v'>-122.5549</span></li><li><span class='ee-k'>1:</span><span class='ee-v'>37.8111</span></li></ul></li><li><label class='ee-shut'>4: [-122.5549, 37.6968]<input type='checkbox' class='ee-toggle'></label><ul><li><span class='ee-k'>0:</span><span class='ee-v'>-122.5549</span></li><li><span class='ee-k'>1:</span><span class='ee-v'>37.6968</span></li></ul></li></ul></li></ul></li><li><span class='ee-k'>geodesic:</span><span class='ee-v'>False</span></li></ul></li><li><span class='ee-k'>system:index:</span><span class='ee-v'>0</span></li><li><span class='ee-k'>system:time_start:</span><span class='ee-v'>1451606400000</span></li></ul></li></ul></li><li><label class='ee-shut'>1: Image (16 bands)<input type='checkbox' class='ee-toggle'></label><ul><li><span class='ee-k'>type:</span><span class='ee-v'>Image</span></li><li><label class='ee-shut'>bands: List (16 elements)<input type='checkbox' class='ee-toggle'></label><ul><li><label class='ee-shut'>0: \"B1\", double, EPSG:4326, 1x1 px<input type='checkbox' class='ee-toggle'></label><ul><li><span class='ee-k'>id:</span><span class='ee-v'>B1</span></li><li><span class='ee-k'>crs:</span><span class='ee-v'>EPSG:4326</span></li><li><label class='ee-shut'>crs_transform: [1, 0, 0, 0, 1, 0]<input type='checkbox' class='ee-toggle'></label><ul><li><span class='ee-k'>0:</span><span class='ee-v'>1</span></li><li><span class='ee-k'>1:</span><span class='ee-v'>0</span></li><li><span class='ee-k'>2:</span><span class='ee-v'>0</span></li><li><span class='ee-k'>3:</span><span class='ee-v'>0</span></li><li><span class='ee-k'>4:</span><span class='ee-v'>1</span></li><li><span class='ee-k'>5:</span><span class='ee-v'>0</span></li></ul></li><li><label class='ee-shut'>data_type: double<input type='checkbox' class='ee-toggle'></label><ul><li><span class='ee-k'>type:</span><span class='ee-v'>PixelType</span></li><li><span class='ee-k'>max:</span><span class='ee-v'>65535</span></li><li><span class='ee-k'>min:</span><span class='ee-v'>0</span></li><li><span class='ee-k'>precision:</span><span class='ee-v'>double</span></li></ul></li><li><label class='ee-shut'>dimensions: [1, 1]<input type='checkbox' class='ee-toggle'></label><ul><li><span class='ee-k'>0:</span><span class='ee-v'>1</span></li><li><span class='ee-k'>1:</span><span class='ee-v'>1</span></li></ul></li><li><label class='ee-shut'>origin: [-123, 37]<input type='checkbox' class='ee-toggle'></label><ul><li><span class='ee-k'>0:</span><span class='ee-v'>-123</span></li><li><span class='ee-k'>1:</span><span class='ee-v'>37</span></li></ul></li></ul></li><li><label class='ee-shut'>1: \"B2\", double, EPSG:4326, 1x1 px<input type='checkbox' class='ee-toggle'></label><ul><li><span class='ee-k'>id:</span><span class='ee-v'>B2</span></li><li><span class='ee-k'>crs:</span><span class='ee-v'>EPSG:4326</span></li><li><label class='ee-shut'>crs_transform: [1, 0, 0, 0, 1, 0]<input type='checkbox' class='ee-toggle'></label><ul><li><span class='ee-k'>0:</span><span class='ee-v'>1</span></li><li><span class='ee-k'>1:</span><span class='ee-v'>0</span></li><li><span class='ee-k'>2:</span><span class='ee-v'>0</span></li><li><span class='ee-k'>3:</span><span class='ee-v'>0</span></li><li><span class='ee-k'>4:</span><span class='ee-v'>1</span></li><li><span class='ee-k'>5:</span><span class='ee-v'>0</span></li></ul></li><li><label class='ee-shut'>data_type: double<input type='checkbox' class='ee-toggle'></label><ul><li><span class='ee-k'>type:</span><span class='ee-v'>PixelType</span></li><li><span class='ee-k'>max:</span><span class='ee-v'>65535</span></li><li><span class='ee-k'>min:</span><span class='ee-v'>0</span></li><li><span class='ee-k'>precision:</span><span class='ee-v'>double</span></li></ul></li><li><label class='ee-shut'>dimensions: [1, 1]<input type='checkbox' class='ee-toggle'></label><ul><li><span class='ee-k'>0:</span><span class='ee-v'>1</span></li><li><span class='ee-k'>1:</span><span class='ee-v'>1</span></li></ul></li><li><label class='ee-shut'>origin: [-123, 37]<input type='checkbox' class='ee-toggle'></label><ul><li><span class='ee-k'>0:</span><span class='ee-v'>-123</span></li><li><span class='ee-k'>1:</span><span class='ee-v'>37</span></li></ul></li></ul></li><li><label class='ee-shut'>2: \"B3\", double, EPSG:4326, 1x1 px<input type='checkbox' class='ee-toggle'></label><ul><li><span class='ee-k'>id:</span><span class='ee-v'>B3</span></li><li><span class='ee-k'>crs:</span><span class='ee-v'>EPSG:4326</span></li><li><label class='ee-shut'>crs_transform: [1, 0, 0, 0, 1, 0]<input type='checkbox' class='ee-toggle'></label><ul><li><span class='ee-k'>0:</span><span class='ee-v'>1</span></li><li><span class='ee-k'>1:</span><span class='ee-v'>0</span></li><li><span class='ee-k'>2:</span><span class='ee-v'>0</span></li><li><span class='ee-k'>3:</span><span class='ee-v'>0</span></li><li><span class='ee-k'>4:</span><span class='ee-v'>1</span></li><li><span class='ee-k'>5:</span><span class='ee-v'>0</span></li></ul></li><li><label class='ee-shut'>data_type: double<input type='checkbox' class='ee-toggle'></label><ul><li><span class='ee-k'>type:</span><span class='ee-v'>PixelType</span></li><li><span class='ee-k'>max:</span><span class='ee-v'>65535</span></li><li><span class='ee-k'>min:</span><span class='ee-v'>0</span></li><li><span class='ee-k'>precision:</span><span class='ee-v'>double</span></li></ul></li><li><label class='ee-shut'>dimensions: [1, 1]<input type='checkbox' class='ee-toggle'></label><ul><li><span class='ee-k'>0:</span><span class='ee-v'>1</span></li><li><span class='ee-k'>1:</span><span class='ee-v'>1</span></li></ul></li><li><label class='ee-shut'>origin: [-123, 37]<input type='checkbox' class='ee-toggle'></label><ul><li><span class='ee-k'>0:</span><span class='ee-v'>-123</span></li><li><span class='ee-k'>1:</span><span class='ee-v'>37</span></li></ul></li></ul></li><li><label class='ee-shut'>3: \"B4\", double, EPSG:4326, 1x1 px<input type='checkbox' class='ee-toggle'></label><ul><li><span class='ee-k'>id:</span><span class='ee-v'>B4</span></li><li><span class='ee-k'>crs:</span><span class='ee-v'>EPSG:4326</span></li><li><label class='ee-shut'>crs_transform: [1, 0, 0, 0, 1, 0]<input type='checkbox' class='ee-toggle'></label><ul><li><span class='ee-k'>0:</span><span class='ee-v'>1</span></li><li><span class='ee-k'>1:</span><span class='ee-v'>0</span></li><li><span class='ee-k'>2:</span><span class='ee-v'>0</span></li><li><span class='ee-k'>3:</span><span class='ee-v'>0</span></li><li><span class='ee-k'>4:</span><span class='ee-v'>1</span></li><li><span class='ee-k'>5:</span><span class='ee-v'>0</span></li></ul></li><li><label class='ee-shut'>data_type: double<input type='checkbox' class='ee-toggle'></label><ul><li><span class='ee-k'>type:</span><span class='ee-v'>PixelType</span></li><li><span class='ee-k'>max:</span><span class='ee-v'>65535</span></li><li><span class='ee-k'>min:</span><span class='ee-v'>0</span></li><li><span class='ee-k'>precision:</span><span class='ee-v'>double</span></li></ul></li><li><label class='ee-shut'>dimensions: [1, 1]<input type='checkbox' class='ee-toggle'></label><ul><li><span class='ee-k'>0:</span><span class='ee-v'>1</span></li><li><span class='ee-k'>1:</span><span class='ee-v'>1</span></li></ul></li><li><label class='ee-shut'>origin: [-123, 37]<input type='checkbox' class='ee-toggle'></label><ul><li><span class='ee-k'>0:</span><span class='ee-v'>-123</span></li><li><span class='ee-k'>1:</span><span class='ee-v'>37</span></li></ul></li></ul></li><li><label class='ee-shut'>4: \"B5\", double, EPSG:4326, 1x1 px<input type='checkbox' class='ee-toggle'></label><ul><li><span class='ee-k'>id:</span><span class='ee-v'>B5</span></li><li><span class='ee-k'>crs:</span><span class='ee-v'>EPSG:4326</span></li><li><label class='ee-shut'>crs_transform: [1, 0, 0, 0, 1, 0]<input type='checkbox' class='ee-toggle'></label><ul><li><span class='ee-k'>0:</span><span class='ee-v'>1</span></li><li><span class='ee-k'>1:</span><span class='ee-v'>0</span></li><li><span class='ee-k'>2:</span><span class='ee-v'>0</span></li><li><span class='ee-k'>3:</span><span class='ee-v'>0</span></li><li><span class='ee-k'>4:</span><span class='ee-v'>1</span></li><li><span class='ee-k'>5:</span><span class='ee-v'>0</span></li></ul></li><li><label class='ee-shut'>data_type: double<input type='checkbox' class='ee-toggle'></label><ul><li><span class='ee-k'>type:</span><span class='ee-v'>PixelType</span></li><li><span class='ee-k'>max:</span><span class='ee-v'>65535</span></li><li><span class='ee-k'>min:</span><span class='ee-v'>0</span></li><li><span class='ee-k'>precision:</span><span class='ee-v'>double</span></li></ul></li><li><label class='ee-shut'>dimensions: [1, 1]<input type='checkbox' class='ee-toggle'></label><ul><li><span class='ee-k'>0:</span><span class='ee-v'>1</span></li><li><span class='ee-k'>1:</span><span class='ee-v'>1</span></li></ul></li><li><label class='ee-shut'>origin: [-123, 37]<input type='checkbox' class='ee-toggle'></label><ul><li><span class='ee-k'>0:</span><span class='ee-v'>-123</span></li><li><span class='ee-k'>1:</span><span class='ee-v'>37</span></li></ul></li></ul></li><li><label class='ee-shut'>5: \"B6\", double, EPSG:4326, 1x1 px<input type='checkbox' class='ee-toggle'></label><ul><li><span class='ee-k'>id:</span><span class='ee-v'>B6</span></li><li><span class='ee-k'>crs:</span><span class='ee-v'>EPSG:4326</span></li><li><label class='ee-shut'>crs_transform: [1, 0, 0, 0, 1, 0]<input type='checkbox' class='ee-toggle'></label><ul><li><span class='ee-k'>0:</span><span class='ee-v'>1</span></li><li><span class='ee-k'>1:</span><span class='ee-v'>0</span></li><li><span class='ee-k'>2:</span><span class='ee-v'>0</span></li><li><span class='ee-k'>3:</span><span class='ee-v'>0</span></li><li><span class='ee-k'>4:</span><span class='ee-v'>1</span></li><li><span class='ee-k'>5:</span><span class='ee-v'>0</span></li></ul></li><li><label class='ee-shut'>data_type: double<input type='checkbox' class='ee-toggle'></label><ul><li><span class='ee-k'>type:</span><span class='ee-v'>PixelType</span></li><li><span class='ee-k'>max:</span><span class='ee-v'>65535</span></li><li><span class='ee-k'>min:</span><span class='ee-v'>0</span></li><li><span class='ee-k'>precision:</span><span class='ee-v'>double</span></li></ul></li><li><label class='ee-shut'>dimensions: [1, 1]<input type='checkbox' class='ee-toggle'></label><ul><li><span class='ee-k'>0:</span><span class='ee-v'>1</span></li><li><span class='ee-k'>1:</span><span class='ee-v'>1</span></li></ul></li><li><label class='ee-shut'>origin: [-123, 37]<input type='checkbox' class='ee-toggle'></label><ul><li><span class='ee-k'>0:</span><span class='ee-v'>-123</span></li><li><span class='ee-k'>1:</span><span class='ee-v'>37</span></li></ul></li></ul></li><li><label class='ee-shut'>6: \"B7\", double, EPSG:4326, 1x1 px<input type='checkbox' class='ee-toggle'></label><ul><li><span class='ee-k'>id:</span><span class='ee-v'>B7</span></li><li><span class='ee-k'>crs:</span><span class='ee-v'>EPSG:4326</span></li><li><label class='ee-shut'>crs_transform: [1, 0, 0, 0, 1, 0]<input type='checkbox' class='ee-toggle'></label><ul><li><span class='ee-k'>0:</span><span class='ee-v'>1</span></li><li><span class='ee-k'>1:</span><span class='ee-v'>0</span></li><li><span class='ee-k'>2:</span><span class='ee-v'>0</span></li><li><span class='ee-k'>3:</span><span class='ee-v'>0</span></li><li><span class='ee-k'>4:</span><span class='ee-v'>1</span></li><li><span class='ee-k'>5:</span><span class='ee-v'>0</span></li></ul></li><li><label class='ee-shut'>data_type: double<input type='checkbox' class='ee-toggle'></label><ul><li><span class='ee-k'>type:</span><span class='ee-v'>PixelType</span></li><li><span class='ee-k'>max:</span><span class='ee-v'>65535</span></li><li><span class='ee-k'>min:</span><span class='ee-v'>0</span></li><li><span class='ee-k'>precision:</span><span class='ee-v'>double</span></li></ul></li><li><label class='ee-shut'>dimensions: [1, 1]<input type='checkbox' class='ee-toggle'></label><ul><li><span class='ee-k'>0:</span><span class='ee-v'>1</span></li><li><span class='ee-k'>1:</span><span class='ee-v'>1</span></li></ul></li><li><label class='ee-shut'>origin: [-123, 37]<input type='checkbox' class='ee-toggle'></label><ul><li><span class='ee-k'>0:</span><span class='ee-v'>-123</span></li><li><span class='ee-k'>1:</span><span class='ee-v'>37</span></li></ul></li></ul></li><li><label class='ee-shut'>7: \"B8\", double, EPSG:4326, 1x1 px<input type='checkbox' class='ee-toggle'></label><ul><li><span class='ee-k'>id:</span><span class='ee-v'>B8</span></li><li><span class='ee-k'>crs:</span><span class='ee-v'>EPSG:4326</span></li><li><label class='ee-shut'>crs_transform: [1, 0, 0, 0, 1, 0]<input type='checkbox' class='ee-toggle'></label><ul><li><span class='ee-k'>0:</span><span class='ee-v'>1</span></li><li><span class='ee-k'>1:</span><span class='ee-v'>0</span></li><li><span class='ee-k'>2:</span><span class='ee-v'>0</span></li><li><span class='ee-k'>3:</span><span class='ee-v'>0</span></li><li><span class='ee-k'>4:</span><span class='ee-v'>1</span></li><li><span class='ee-k'>5:</span><span class='ee-v'>0</span></li></ul></li><li><label class='ee-shut'>data_type: double<input type='checkbox' class='ee-toggle'></label><ul><li><span class='ee-k'>type:</span><span class='ee-v'>PixelType</span></li><li><span class='ee-k'>max:</span><span class='ee-v'>65535</span></li><li><span class='ee-k'>min:</span><span class='ee-v'>0</span></li><li><span class='ee-k'>precision:</span><span class='ee-v'>double</span></li></ul></li><li><label class='ee-shut'>dimensions: [1, 1]<input type='checkbox' class='ee-toggle'></label><ul><li><span class='ee-k'>0:</span><span class='ee-v'>1</span></li><li><span class='ee-k'>1:</span><span class='ee-v'>1</span></li></ul></li><li><label class='ee-shut'>origin: [-123, 37]<input type='checkbox' class='ee-toggle'></label><ul><li><span class='ee-k'>0:</span><span class='ee-v'>-123</span></li><li><span class='ee-k'>1:</span><span class='ee-v'>37</span></li></ul></li></ul></li><li><label class='ee-shut'>8: \"B8A\", double, EPSG:4326, 1x1 px<input type='checkbox' class='ee-toggle'></label><ul><li><span class='ee-k'>id:</span><span class='ee-v'>B8A</span></li><li><span class='ee-k'>crs:</span><span class='ee-v'>EPSG:4326</span></li><li><label class='ee-shut'>crs_transform: [1, 0, 0, 0, 1, 0]<input type='checkbox' class='ee-toggle'></label><ul><li><span class='ee-k'>0:</span><span class='ee-v'>1</span></li><li><span class='ee-k'>1:</span><span class='ee-v'>0</span></li><li><span class='ee-k'>2:</span><span class='ee-v'>0</span></li><li><span class='ee-k'>3:</span><span class='ee-v'>0</span></li><li><span class='ee-k'>4:</span><span class='ee-v'>1</span></li><li><span class='ee-k'>5:</span><span class='ee-v'>0</span></li></ul></li><li><label class='ee-shut'>data_type: double<input type='checkbox' class='ee-toggle'></label><ul><li><span class='ee-k'>type:</span><span class='ee-v'>PixelType</span></li><li><span class='ee-k'>max:</span><span class='ee-v'>65535</span></li><li><span class='ee-k'>min:</span><span class='ee-v'>0</span></li><li><span class='ee-k'>precision:</span><span class='ee-v'>double</span></li></ul></li><li><label class='ee-shut'>dimensions: [1, 1]<input type='checkbox' class='ee-toggle'></label><ul><li><span class='ee-k'>0:</span><span class='ee-v'>1</span></li><li><span class='ee-k'>1:</span><span class='ee-v'>1</span></li></ul></li><li><label class='ee-shut'>origin: [-123, 37]<input type='checkbox' class='ee-toggle'></label><ul><li><span class='ee-k'>0:</span><span class='ee-v'>-123</span></li><li><span class='ee-k'>1:</span><span class='ee-v'>37</span></li></ul></li></ul></li><li><label class='ee-shut'>9: \"B9\", double, EPSG:4326, 1x1 px<input type='checkbox' class='ee-toggle'></label><ul><li><span class='ee-k'>id:</span><span class='ee-v'>B9</span></li><li><span class='ee-k'>crs:</span><span class='ee-v'>EPSG:4326</span></li><li><label class='ee-shut'>crs_transform: [1, 0, 0, 0, 1, 0]<input type='checkbox' class='ee-toggle'></label><ul><li><span class='ee-k'>0:</span><span class='ee-v'>1</span></li><li><span class='ee-k'>1:</span><span class='ee-v'>0</span></li><li><span class='ee-k'>2:</span><span class='ee-v'>0</span></li><li><span class='ee-k'>3:</span><span class='ee-v'>0</span></li><li><span class='ee-k'>4:</span><span class='ee-v'>1</span></li><li><span class='ee-k'>5:</span><span class='ee-v'>0</span></li></ul></li><li><label class='ee-shut'>data_type: double<input type='checkbox' class='ee-toggle'></label><ul><li><span class='ee-k'>type:</span><span class='ee-v'>PixelType</span></li><li><span class='ee-k'>max:</span><span class='ee-v'>65535</span></li><li><span class='ee-k'>min:</span><span class='ee-v'>0</span></li><li><span class='ee-k'>precision:</span><span class='ee-v'>double</span></li></ul></li><li><label class='ee-shut'>dimensions: [1, 1]<input type='checkbox' class='ee-toggle'></label><ul><li><span class='ee-k'>0:</span><span class='ee-v'>1</span></li><li><span class='ee-k'>1:</span><span class='ee-v'>1</span></li></ul></li><li><label class='ee-shut'>origin: [-123, 37]<input type='checkbox' class='ee-toggle'></label><ul><li><span class='ee-k'>0:</span><span class='ee-v'>-123</span></li><li><span class='ee-k'>1:</span><span class='ee-v'>37</span></li></ul></li></ul></li><li><label class='ee-shut'>10: \"B10\", double, EPSG:4326, 1x1 px<input type='checkbox' class='ee-toggle'></label><ul><li><span class='ee-k'>id:</span><span class='ee-v'>B10</span></li><li><span class='ee-k'>crs:</span><span class='ee-v'>EPSG:4326</span></li><li><label class='ee-shut'>crs_transform: [1, 0, 0, 0, 1, 0]<input type='checkbox' class='ee-toggle'></label><ul><li><span class='ee-k'>0:</span><span class='ee-v'>1</span></li><li><span class='ee-k'>1:</span><span class='ee-v'>0</span></li><li><span class='ee-k'>2:</span><span class='ee-v'>0</span></li><li><span class='ee-k'>3:</span><span class='ee-v'>0</span></li><li><span class='ee-k'>4:</span><span class='ee-v'>1</span></li><li><span class='ee-k'>5:</span><span class='ee-v'>0</span></li></ul></li><li><label class='ee-shut'>data_type: double<input type='checkbox' class='ee-toggle'></label><ul><li><span class='ee-k'>type:</span><span class='ee-v'>PixelType</span></li><li><span class='ee-k'>max:</span><span class='ee-v'>65535</span></li><li><span class='ee-k'>min:</span><span class='ee-v'>0</span></li><li><span class='ee-k'>precision:</span><span class='ee-v'>double</span></li></ul></li><li><label class='ee-shut'>dimensions: [1, 1]<input type='checkbox' class='ee-toggle'></label><ul><li><span class='ee-k'>0:</span><span class='ee-v'>1</span></li><li><span class='ee-k'>1:</span><span class='ee-v'>1</span></li></ul></li><li><label class='ee-shut'>origin: [-123, 37]<input type='checkbox' class='ee-toggle'></label><ul><li><span class='ee-k'>0:</span><span class='ee-v'>-123</span></li><li><span class='ee-k'>1:</span><span class='ee-v'>37</span></li></ul></li></ul></li><li><label class='ee-shut'>11: \"B11\", double, EPSG:4326, 1x1 px<input type='checkbox' class='ee-toggle'></label><ul><li><span class='ee-k'>id:</span><span class='ee-v'>B11</span></li><li><span class='ee-k'>crs:</span><span class='ee-v'>EPSG:4326</span></li><li><label class='ee-shut'>crs_transform: [1, 0, 0, 0, 1, 0]<input type='checkbox' class='ee-toggle'></label><ul><li><span class='ee-k'>0:</span><span class='ee-v'>1</span></li><li><span class='ee-k'>1:</span><span class='ee-v'>0</span></li><li><span class='ee-k'>2:</span><span class='ee-v'>0</span></li><li><span class='ee-k'>3:</span><span class='ee-v'>0</span></li><li><span class='ee-k'>4:</span><span class='ee-v'>1</span></li><li><span class='ee-k'>5:</span><span class='ee-v'>0</span></li></ul></li><li><label class='ee-shut'>data_type: double<input type='checkbox' class='ee-toggle'></label><ul><li><span class='ee-k'>type:</span><span class='ee-v'>PixelType</span></li><li><span class='ee-k'>max:</span><span class='ee-v'>65535</span></li><li><span class='ee-k'>min:</span><span class='ee-v'>0</span></li><li><span class='ee-k'>precision:</span><span class='ee-v'>double</span></li></ul></li><li><label class='ee-shut'>dimensions: [1, 1]<input type='checkbox' class='ee-toggle'></label><ul><li><span class='ee-k'>0:</span><span class='ee-v'>1</span></li><li><span class='ee-k'>1:</span><span class='ee-v'>1</span></li></ul></li><li><label class='ee-shut'>origin: [-123, 37]<input type='checkbox' class='ee-toggle'></label><ul><li><span class='ee-k'>0:</span><span class='ee-v'>-123</span></li><li><span class='ee-k'>1:</span><span class='ee-v'>37</span></li></ul></li></ul></li><li><label class='ee-shut'>12: \"B12\", double, EPSG:4326, 1x1 px<input type='checkbox' class='ee-toggle'></label><ul><li><span class='ee-k'>id:</span><span class='ee-v'>B12</span></li><li><span class='ee-k'>crs:</span><span class='ee-v'>EPSG:4326</span></li><li><label class='ee-shut'>crs_transform: [1, 0, 0, 0, 1, 0]<input type='checkbox' class='ee-toggle'></label><ul><li><span class='ee-k'>0:</span><span class='ee-v'>1</span></li><li><span class='ee-k'>1:</span><span class='ee-v'>0</span></li><li><span class='ee-k'>2:</span><span class='ee-v'>0</span></li><li><span class='ee-k'>3:</span><span class='ee-v'>0</span></li><li><span class='ee-k'>4:</span><span class='ee-v'>1</span></li><li><span class='ee-k'>5:</span><span class='ee-v'>0</span></li></ul></li><li><label class='ee-shut'>data_type: double<input type='checkbox' class='ee-toggle'></label><ul><li><span class='ee-k'>type:</span><span class='ee-v'>PixelType</span></li><li><span class='ee-k'>max:</span><span class='ee-v'>65535</span></li><li><span class='ee-k'>min:</span><span class='ee-v'>0</span></li><li><span class='ee-k'>precision:</span><span class='ee-v'>double</span></li></ul></li><li><label class='ee-shut'>dimensions: [1, 1]<input type='checkbox' class='ee-toggle'></label><ul><li><span class='ee-k'>0:</span><span class='ee-v'>1</span></li><li><span class='ee-k'>1:</span><span class='ee-v'>1</span></li></ul></li><li><label class='ee-shut'>origin: [-123, 37]<input type='checkbox' class='ee-toggle'></label><ul><li><span class='ee-k'>0:</span><span class='ee-v'>-123</span></li><li><span class='ee-k'>1:</span><span class='ee-v'>37</span></li></ul></li></ul></li><li><label class='ee-shut'>13: \"QA10\", double, EPSG:4326, 1x1 px<input type='checkbox' class='ee-toggle'></label><ul><li><span class='ee-k'>id:</span><span class='ee-v'>QA10</span></li><li><span class='ee-k'>crs:</span><span class='ee-v'>EPSG:4326</span></li><li><label class='ee-shut'>crs_transform: [1, 0, 0, 0, 1, 0]<input type='checkbox' class='ee-toggle'></label><ul><li><span class='ee-k'>0:</span><span class='ee-v'>1</span></li><li><span class='ee-k'>1:</span><span class='ee-v'>0</span></li><li><span class='ee-k'>2:</span><span class='ee-v'>0</span></li><li><span class='ee-k'>3:</span><span class='ee-v'>0</span></li><li><span class='ee-k'>4:</span><span class='ee-v'>1</span></li><li><span class='ee-k'>5:</span><span class='ee-v'>0</span></li></ul></li><li><label class='ee-shut'>data_type: double<input type='checkbox' class='ee-toggle'></label><ul><li><span class='ee-k'>type:</span><span class='ee-v'>PixelType</span></li><li><span class='ee-k'>max:</span><span class='ee-v'>65535</span></li><li><span class='ee-k'>min:</span><span class='ee-v'>0</span></li><li><span class='ee-k'>precision:</span><span class='ee-v'>double</span></li></ul></li><li><label class='ee-shut'>dimensions: [1, 1]<input type='checkbox' class='ee-toggle'></label><ul><li><span class='ee-k'>0:</span><span class='ee-v'>1</span></li><li><span class='ee-k'>1:</span><span class='ee-v'>1</span></li></ul></li><li><label class='ee-shut'>origin: [-123, 37]<input type='checkbox' class='ee-toggle'></label><ul><li><span class='ee-k'>0:</span><span class='ee-v'>-123</span></li><li><span class='ee-k'>1:</span><span class='ee-v'>37</span></li></ul></li></ul></li><li><label class='ee-shut'>14: \"QA20\", double, EPSG:4326, 1x1 px<input type='checkbox' class='ee-toggle'></label><ul><li><span class='ee-k'>id:</span><span class='ee-v'>QA20</span></li><li><span class='ee-k'>crs:</span><span class='ee-v'>EPSG:4326</span></li><li><label class='ee-shut'>crs_transform: [1, 0, 0, 0, 1, 0]<input type='checkbox' class='ee-toggle'></label><ul><li><span class='ee-k'>0:</span><span class='ee-v'>1</span></li><li><span class='ee-k'>1:</span><span class='ee-v'>0</span></li><li><span class='ee-k'>2:</span><span class='ee-v'>0</span></li><li><span class='ee-k'>3:</span><span class='ee-v'>0</span></li><li><span class='ee-k'>4:</span><span class='ee-v'>1</span></li><li><span class='ee-k'>5:</span><span class='ee-v'>0</span></li></ul></li><li><label class='ee-shut'>data_type: double<input type='checkbox' class='ee-toggle'></label><ul><li><span class='ee-k'>type:</span><span class='ee-v'>PixelType</span></li><li><span class='ee-k'>max:</span><span class='ee-v'>4294967295</span></li><li><span class='ee-k'>min:</span><span class='ee-v'>0</span></li><li><span class='ee-k'>precision:</span><span class='ee-v'>double</span></li></ul></li><li><label class='ee-shut'>dimensions: [1, 1]<input type='checkbox' class='ee-toggle'></label><ul><li><span class='ee-k'>0:</span><span class='ee-v'>1</span></li><li><span class='ee-k'>1:</span><span class='ee-v'>1</span></li></ul></li><li><label class='ee-shut'>origin: [-123, 37]<input type='checkbox' class='ee-toggle'></label><ul><li><span class='ee-k'>0:</span><span class='ee-v'>-123</span></li><li><span class='ee-k'>1:</span><span class='ee-v'>37</span></li></ul></li></ul></li><li><label class='ee-shut'>15: \"QA60\", double, EPSG:4326, 1x1 px<input type='checkbox' class='ee-toggle'></label><ul><li><span class='ee-k'>id:</span><span class='ee-v'>QA60</span></li><li><span class='ee-k'>crs:</span><span class='ee-v'>EPSG:4326</span></li><li><label class='ee-shut'>crs_transform: [1, 0, 0, 0, 1, 0]<input type='checkbox' class='ee-toggle'></label><ul><li><span class='ee-k'>0:</span><span class='ee-v'>1</span></li><li><span class='ee-k'>1:</span><span class='ee-v'>0</span></li><li><span class='ee-k'>2:</span><span class='ee-v'>0</span></li><li><span class='ee-k'>3:</span><span class='ee-v'>0</span></li><li><span class='ee-k'>4:</span><span class='ee-v'>1</span></li><li><span class='ee-k'>5:</span><span class='ee-v'>0</span></li></ul></li><li><label class='ee-shut'>data_type: double<input type='checkbox' class='ee-toggle'></label><ul><li><span class='ee-k'>type:</span><span class='ee-v'>PixelType</span></li><li><span class='ee-k'>max:</span><span class='ee-v'>65535</span></li><li><span class='ee-k'>min:</span><span class='ee-v'>0</span></li><li><span class='ee-k'>precision:</span><span class='ee-v'>double</span></li></ul></li><li><label class='ee-shut'>dimensions: [1, 1]<input type='checkbox' class='ee-toggle'></label><ul><li><span class='ee-k'>0:</span><span class='ee-v'>1</span></li><li><span class='ee-k'>1:</span><span class='ee-v'>1</span></li></ul></li><li><label class='ee-shut'>origin: [-123, 37]<input type='checkbox' class='ee-toggle'></label><ul><li><span class='ee-k'>0:</span><span class='ee-v'>-123</span></li><li><span class='ee-k'>1:</span><span class='ee-v'>37</span></li></ul></li></ul></li></ul></li><li><label class='ee-shut'>properties: Object (5 properties)<input type='checkbox' class='ee-toggle'></label><ul><li><span class='ee-k'>empty:</span><span class='ee-v'>0</span></li><li><span class='ee-k'>system:date:</span><span class='ee-v'>2017</span></li><li><label class='ee-shut'>system:footprint: Polygon (5 vertices)<input type='checkbox' class='ee-toggle'></label><ul><li><span class='ee-k'>type:</span><span class='ee-v'>Polygon</span></li><li><label class='ee-shut'>coordinates: List (1 element)<input type='checkbox' class='ee-toggle'></label><ul><li><label class='ee-shut'>0: List (5 elements)<input type='checkbox' class='ee-toggle'></label><ul><li><label class='ee-shut'>0: [-122.5549, 37.6968]<input type='checkbox' class='ee-toggle'></label><ul><li><span class='ee-k'>0:</span><span class='ee-v'>-122.5549</span></li><li><span class='ee-k'>1:</span><span class='ee-v'>37.6968</span></li></ul></li><li><label class='ee-shut'>1: [-122.34460000000001, 37.6968]<input type='checkbox' class='ee-toggle'></label><ul><li><span class='ee-k'>0:</span><span class='ee-v'>-122.34460000000001</span></li><li><span class='ee-k'>1:</span><span class='ee-v'>37.6968</span></li></ul></li><li><label class='ee-shut'>2: [-122.34460000000001, 37.8111]<input type='checkbox' class='ee-toggle'></label><ul><li><span class='ee-k'>0:</span><span class='ee-v'>-122.34460000000001</span></li><li><span class='ee-k'>1:</span><span class='ee-v'>37.8111</span></li></ul></li><li><label class='ee-shut'>3: [-122.5549, 37.8111]<input type='checkbox' class='ee-toggle'></label><ul><li><span class='ee-k'>0:</span><span class='ee-v'>-122.5549</span></li><li><span class='ee-k'>1:</span><span class='ee-v'>37.8111</span></li></ul></li><li><label class='ee-shut'>4: [-122.5549, 37.6968]<input type='checkbox' class='ee-toggle'></label><ul><li><span class='ee-k'>0:</span><span class='ee-v'>-122.5549</span></li><li><span class='ee-k'>1:</span><span class='ee-v'>37.6968</span></li></ul></li></ul></li></ul></li><li><span class='ee-k'>geodesic:</span><span class='ee-v'>False</span></li></ul></li><li><span class='ee-k'>system:index:</span><span class='ee-v'>1</span></li><li><span class='ee-k'>system:time_start:</span><span class='ee-v'>1483228800000</span></li></ul></li></ul></li><li><label class='ee-shut'>2: Image (16 bands)<input type='checkbox' class='ee-toggle'></label><ul><li><span class='ee-k'>type:</span><span class='ee-v'>Image</span></li><li><label class='ee-shut'>bands: List (16 elements)<input type='checkbox' class='ee-toggle'></label><ul><li><label class='ee-shut'>0: \"B1\", double, EPSG:4326, 1x1 px<input type='checkbox' class='ee-toggle'></label><ul><li><span class='ee-k'>id:</span><span class='ee-v'>B1</span></li><li><span class='ee-k'>crs:</span><span class='ee-v'>EPSG:4326</span></li><li><label class='ee-shut'>crs_transform: [1, 0, 0, 0, 1, 0]<input type='checkbox' class='ee-toggle'></label><ul><li><span class='ee-k'>0:</span><span class='ee-v'>1</span></li><li><span class='ee-k'>1:</span><span class='ee-v'>0</span></li><li><span class='ee-k'>2:</span><span class='ee-v'>0</span></li><li><span class='ee-k'>3:</span><span class='ee-v'>0</span></li><li><span class='ee-k'>4:</span><span class='ee-v'>1</span></li><li><span class='ee-k'>5:</span><span class='ee-v'>0</span></li></ul></li><li><label class='ee-shut'>data_type: double<input type='checkbox' class='ee-toggle'></label><ul><li><span class='ee-k'>type:</span><span class='ee-v'>PixelType</span></li><li><span class='ee-k'>max:</span><span class='ee-v'>65535</span></li><li><span class='ee-k'>min:</span><span class='ee-v'>0</span></li><li><span class='ee-k'>precision:</span><span class='ee-v'>double</span></li></ul></li><li><label class='ee-shut'>dimensions: [1, 1]<input type='checkbox' class='ee-toggle'></label><ul><li><span class='ee-k'>0:</span><span class='ee-v'>1</span></li><li><span class='ee-k'>1:</span><span class='ee-v'>1</span></li></ul></li><li><label class='ee-shut'>origin: [-123, 37]<input type='checkbox' class='ee-toggle'></label><ul><li><span class='ee-k'>0:</span><span class='ee-v'>-123</span></li><li><span class='ee-k'>1:</span><span class='ee-v'>37</span></li></ul></li></ul></li><li><label class='ee-shut'>1: \"B2\", double, EPSG:4326, 1x1 px<input type='checkbox' class='ee-toggle'></label><ul><li><span class='ee-k'>id:</span><span class='ee-v'>B2</span></li><li><span class='ee-k'>crs:</span><span class='ee-v'>EPSG:4326</span></li><li><label class='ee-shut'>crs_transform: [1, 0, 0, 0, 1, 0]<input type='checkbox' class='ee-toggle'></label><ul><li><span class='ee-k'>0:</span><span class='ee-v'>1</span></li><li><span class='ee-k'>1:</span><span class='ee-v'>0</span></li><li><span class='ee-k'>2:</span><span class='ee-v'>0</span></li><li><span class='ee-k'>3:</span><span class='ee-v'>0</span></li><li><span class='ee-k'>4:</span><span class='ee-v'>1</span></li><li><span class='ee-k'>5:</span><span class='ee-v'>0</span></li></ul></li><li><label class='ee-shut'>data_type: double<input type='checkbox' class='ee-toggle'></label><ul><li><span class='ee-k'>type:</span><span class='ee-v'>PixelType</span></li><li><span class='ee-k'>max:</span><span class='ee-v'>65535</span></li><li><span class='ee-k'>min:</span><span class='ee-v'>0</span></li><li><span class='ee-k'>precision:</span><span class='ee-v'>double</span></li></ul></li><li><label class='ee-shut'>dimensions: [1, 1]<input type='checkbox' class='ee-toggle'></label><ul><li><span class='ee-k'>0:</span><span class='ee-v'>1</span></li><li><span class='ee-k'>1:</span><span class='ee-v'>1</span></li></ul></li><li><label class='ee-shut'>origin: [-123, 37]<input type='checkbox' class='ee-toggle'></label><ul><li><span class='ee-k'>0:</span><span class='ee-v'>-123</span></li><li><span class='ee-k'>1:</span><span class='ee-v'>37</span></li></ul></li></ul></li><li><label class='ee-shut'>2: \"B3\", double, EPSG:4326, 1x1 px<input type='checkbox' class='ee-toggle'></label><ul><li><span class='ee-k'>id:</span><span class='ee-v'>B3</span></li><li><span class='ee-k'>crs:</span><span class='ee-v'>EPSG:4326</span></li><li><label class='ee-shut'>crs_transform: [1, 0, 0, 0, 1, 0]<input type='checkbox' class='ee-toggle'></label><ul><li><span class='ee-k'>0:</span><span class='ee-v'>1</span></li><li><span class='ee-k'>1:</span><span class='ee-v'>0</span></li><li><span class='ee-k'>2:</span><span class='ee-v'>0</span></li><li><span class='ee-k'>3:</span><span class='ee-v'>0</span></li><li><span class='ee-k'>4:</span><span class='ee-v'>1</span></li><li><span class='ee-k'>5:</span><span class='ee-v'>0</span></li></ul></li><li><label class='ee-shut'>data_type: double<input type='checkbox' class='ee-toggle'></label><ul><li><span class='ee-k'>type:</span><span class='ee-v'>PixelType</span></li><li><span class='ee-k'>max:</span><span class='ee-v'>65535</span></li><li><span class='ee-k'>min:</span><span class='ee-v'>0</span></li><li><span class='ee-k'>precision:</span><span class='ee-v'>double</span></li></ul></li><li><label class='ee-shut'>dimensions: [1, 1]<input type='checkbox' class='ee-toggle'></label><ul><li><span class='ee-k'>0:</span><span class='ee-v'>1</span></li><li><span class='ee-k'>1:</span><span class='ee-v'>1</span></li></ul></li><li><label class='ee-shut'>origin: [-123, 37]<input type='checkbox' class='ee-toggle'></label><ul><li><span class='ee-k'>0:</span><span class='ee-v'>-123</span></li><li><span class='ee-k'>1:</span><span class='ee-v'>37</span></li></ul></li></ul></li><li><label class='ee-shut'>3: \"B4\", double, EPSG:4326, 1x1 px<input type='checkbox' class='ee-toggle'></label><ul><li><span class='ee-k'>id:</span><span class='ee-v'>B4</span></li><li><span class='ee-k'>crs:</span><span class='ee-v'>EPSG:4326</span></li><li><label class='ee-shut'>crs_transform: [1, 0, 0, 0, 1, 0]<input type='checkbox' class='ee-toggle'></label><ul><li><span class='ee-k'>0:</span><span class='ee-v'>1</span></li><li><span class='ee-k'>1:</span><span class='ee-v'>0</span></li><li><span class='ee-k'>2:</span><span class='ee-v'>0</span></li><li><span class='ee-k'>3:</span><span class='ee-v'>0</span></li><li><span class='ee-k'>4:</span><span class='ee-v'>1</span></li><li><span class='ee-k'>5:</span><span class='ee-v'>0</span></li></ul></li><li><label class='ee-shut'>data_type: double<input type='checkbox' class='ee-toggle'></label><ul><li><span class='ee-k'>type:</span><span class='ee-v'>PixelType</span></li><li><span class='ee-k'>max:</span><span class='ee-v'>65535</span></li><li><span class='ee-k'>min:</span><span class='ee-v'>0</span></li><li><span class='ee-k'>precision:</span><span class='ee-v'>double</span></li></ul></li><li><label class='ee-shut'>dimensions: [1, 1]<input type='checkbox' class='ee-toggle'></label><ul><li><span class='ee-k'>0:</span><span class='ee-v'>1</span></li><li><span class='ee-k'>1:</span><span class='ee-v'>1</span></li></ul></li><li><label class='ee-shut'>origin: [-123, 37]<input type='checkbox' class='ee-toggle'></label><ul><li><span class='ee-k'>0:</span><span class='ee-v'>-123</span></li><li><span class='ee-k'>1:</span><span class='ee-v'>37</span></li></ul></li></ul></li><li><label class='ee-shut'>4: \"B5\", double, EPSG:4326, 1x1 px<input type='checkbox' class='ee-toggle'></label><ul><li><span class='ee-k'>id:</span><span class='ee-v'>B5</span></li><li><span class='ee-k'>crs:</span><span class='ee-v'>EPSG:4326</span></li><li><label class='ee-shut'>crs_transform: [1, 0, 0, 0, 1, 0]<input type='checkbox' class='ee-toggle'></label><ul><li><span class='ee-k'>0:</span><span class='ee-v'>1</span></li><li><span class='ee-k'>1:</span><span class='ee-v'>0</span></li><li><span class='ee-k'>2:</span><span class='ee-v'>0</span></li><li><span class='ee-k'>3:</span><span class='ee-v'>0</span></li><li><span class='ee-k'>4:</span><span class='ee-v'>1</span></li><li><span class='ee-k'>5:</span><span class='ee-v'>0</span></li></ul></li><li><label class='ee-shut'>data_type: double<input type='checkbox' class='ee-toggle'></label><ul><li><span class='ee-k'>type:</span><span class='ee-v'>PixelType</span></li><li><span class='ee-k'>max:</span><span class='ee-v'>65535</span></li><li><span class='ee-k'>min:</span><span class='ee-v'>0</span></li><li><span class='ee-k'>precision:</span><span class='ee-v'>double</span></li></ul></li><li><label class='ee-shut'>dimensions: [1, 1]<input type='checkbox' class='ee-toggle'></label><ul><li><span class='ee-k'>0:</span><span class='ee-v'>1</span></li><li><span class='ee-k'>1:</span><span class='ee-v'>1</span></li></ul></li><li><label class='ee-shut'>origin: [-123, 37]<input type='checkbox' class='ee-toggle'></label><ul><li><span class='ee-k'>0:</span><span class='ee-v'>-123</span></li><li><span class='ee-k'>1:</span><span class='ee-v'>37</span></li></ul></li></ul></li><li><label class='ee-shut'>5: \"B6\", double, EPSG:4326, 1x1 px<input type='checkbox' class='ee-toggle'></label><ul><li><span class='ee-k'>id:</span><span class='ee-v'>B6</span></li><li><span class='ee-k'>crs:</span><span class='ee-v'>EPSG:4326</span></li><li><label class='ee-shut'>crs_transform: [1, 0, 0, 0, 1, 0]<input type='checkbox' class='ee-toggle'></label><ul><li><span class='ee-k'>0:</span><span class='ee-v'>1</span></li><li><span class='ee-k'>1:</span><span class='ee-v'>0</span></li><li><span class='ee-k'>2:</span><span class='ee-v'>0</span></li><li><span class='ee-k'>3:</span><span class='ee-v'>0</span></li><li><span class='ee-k'>4:</span><span class='ee-v'>1</span></li><li><span class='ee-k'>5:</span><span class='ee-v'>0</span></li></ul></li><li><label class='ee-shut'>data_type: double<input type='checkbox' class='ee-toggle'></label><ul><li><span class='ee-k'>type:</span><span class='ee-v'>PixelType</span></li><li><span class='ee-k'>max:</span><span class='ee-v'>65535</span></li><li><span class='ee-k'>min:</span><span class='ee-v'>0</span></li><li><span class='ee-k'>precision:</span><span class='ee-v'>double</span></li></ul></li><li><label class='ee-shut'>dimensions: [1, 1]<input type='checkbox' class='ee-toggle'></label><ul><li><span class='ee-k'>0:</span><span class='ee-v'>1</span></li><li><span class='ee-k'>1:</span><span class='ee-v'>1</span></li></ul></li><li><label class='ee-shut'>origin: [-123, 37]<input type='checkbox' class='ee-toggle'></label><ul><li><span class='ee-k'>0:</span><span class='ee-v'>-123</span></li><li><span class='ee-k'>1:</span><span class='ee-v'>37</span></li></ul></li></ul></li><li><label class='ee-shut'>6: \"B7\", double, EPSG:4326, 1x1 px<input type='checkbox' class='ee-toggle'></label><ul><li><span class='ee-k'>id:</span><span class='ee-v'>B7</span></li><li><span class='ee-k'>crs:</span><span class='ee-v'>EPSG:4326</span></li><li><label class='ee-shut'>crs_transform: [1, 0, 0, 0, 1, 0]<input type='checkbox' class='ee-toggle'></label><ul><li><span class='ee-k'>0:</span><span class='ee-v'>1</span></li><li><span class='ee-k'>1:</span><span class='ee-v'>0</span></li><li><span class='ee-k'>2:</span><span class='ee-v'>0</span></li><li><span class='ee-k'>3:</span><span class='ee-v'>0</span></li><li><span class='ee-k'>4:</span><span class='ee-v'>1</span></li><li><span class='ee-k'>5:</span><span class='ee-v'>0</span></li></ul></li><li><label class='ee-shut'>data_type: double<input type='checkbox' class='ee-toggle'></label><ul><li><span class='ee-k'>type:</span><span class='ee-v'>PixelType</span></li><li><span class='ee-k'>max:</span><span class='ee-v'>65535</span></li><li><span class='ee-k'>min:</span><span class='ee-v'>0</span></li><li><span class='ee-k'>precision:</span><span class='ee-v'>double</span></li></ul></li><li><label class='ee-shut'>dimensions: [1, 1]<input type='checkbox' class='ee-toggle'></label><ul><li><span class='ee-k'>0:</span><span class='ee-v'>1</span></li><li><span class='ee-k'>1:</span><span class='ee-v'>1</span></li></ul></li><li><label class='ee-shut'>origin: [-123, 37]<input type='checkbox' class='ee-toggle'></label><ul><li><span class='ee-k'>0:</span><span class='ee-v'>-123</span></li><li><span class='ee-k'>1:</span><span class='ee-v'>37</span></li></ul></li></ul></li><li><label class='ee-shut'>7: \"B8\", double, EPSG:4326, 1x1 px<input type='checkbox' class='ee-toggle'></label><ul><li><span class='ee-k'>id:</span><span class='ee-v'>B8</span></li><li><span class='ee-k'>crs:</span><span class='ee-v'>EPSG:4326</span></li><li><label class='ee-shut'>crs_transform: [1, 0, 0, 0, 1, 0]<input type='checkbox' class='ee-toggle'></label><ul><li><span class='ee-k'>0:</span><span class='ee-v'>1</span></li><li><span class='ee-k'>1:</span><span class='ee-v'>0</span></li><li><span class='ee-k'>2:</span><span class='ee-v'>0</span></li><li><span class='ee-k'>3:</span><span class='ee-v'>0</span></li><li><span class='ee-k'>4:</span><span class='ee-v'>1</span></li><li><span class='ee-k'>5:</span><span class='ee-v'>0</span></li></ul></li><li><label class='ee-shut'>data_type: double<input type='checkbox' class='ee-toggle'></label><ul><li><span class='ee-k'>type:</span><span class='ee-v'>PixelType</span></li><li><span class='ee-k'>max:</span><span class='ee-v'>65535</span></li><li><span class='ee-k'>min:</span><span class='ee-v'>0</span></li><li><span class='ee-k'>precision:</span><span class='ee-v'>double</span></li></ul></li><li><label class='ee-shut'>dimensions: [1, 1]<input type='checkbox' class='ee-toggle'></label><ul><li><span class='ee-k'>0:</span><span class='ee-v'>1</span></li><li><span class='ee-k'>1:</span><span class='ee-v'>1</span></li></ul></li><li><label class='ee-shut'>origin: [-123, 37]<input type='checkbox' class='ee-toggle'></label><ul><li><span class='ee-k'>0:</span><span class='ee-v'>-123</span></li><li><span class='ee-k'>1:</span><span class='ee-v'>37</span></li></ul></li></ul></li><li><label class='ee-shut'>8: \"B8A\", double, EPSG:4326, 1x1 px<input type='checkbox' class='ee-toggle'></label><ul><li><span class='ee-k'>id:</span><span class='ee-v'>B8A</span></li><li><span class='ee-k'>crs:</span><span class='ee-v'>EPSG:4326</span></li><li><label class='ee-shut'>crs_transform: [1, 0, 0, 0, 1, 0]<input type='checkbox' class='ee-toggle'></label><ul><li><span class='ee-k'>0:</span><span class='ee-v'>1</span></li><li><span class='ee-k'>1:</span><span class='ee-v'>0</span></li><li><span class='ee-k'>2:</span><span class='ee-v'>0</span></li><li><span class='ee-k'>3:</span><span class='ee-v'>0</span></li><li><span class='ee-k'>4:</span><span class='ee-v'>1</span></li><li><span class='ee-k'>5:</span><span class='ee-v'>0</span></li></ul></li><li><label class='ee-shut'>data_type: double<input type='checkbox' class='ee-toggle'></label><ul><li><span class='ee-k'>type:</span><span class='ee-v'>PixelType</span></li><li><span class='ee-k'>max:</span><span class='ee-v'>65535</span></li><li><span class='ee-k'>min:</span><span class='ee-v'>0</span></li><li><span class='ee-k'>precision:</span><span class='ee-v'>double</span></li></ul></li><li><label class='ee-shut'>dimensions: [1, 1]<input type='checkbox' class='ee-toggle'></label><ul><li><span class='ee-k'>0:</span><span class='ee-v'>1</span></li><li><span class='ee-k'>1:</span><span class='ee-v'>1</span></li></ul></li><li><label class='ee-shut'>origin: [-123, 37]<input type='checkbox' class='ee-toggle'></label><ul><li><span class='ee-k'>0:</span><span class='ee-v'>-123</span></li><li><span class='ee-k'>1:</span><span class='ee-v'>37</span></li></ul></li></ul></li><li><label class='ee-shut'>9: \"B9\", double, EPSG:4326, 1x1 px<input type='checkbox' class='ee-toggle'></label><ul><li><span class='ee-k'>id:</span><span class='ee-v'>B9</span></li><li><span class='ee-k'>crs:</span><span class='ee-v'>EPSG:4326</span></li><li><label class='ee-shut'>crs_transform: [1, 0, 0, 0, 1, 0]<input type='checkbox' class='ee-toggle'></label><ul><li><span class='ee-k'>0:</span><span class='ee-v'>1</span></li><li><span class='ee-k'>1:</span><span class='ee-v'>0</span></li><li><span class='ee-k'>2:</span><span class='ee-v'>0</span></li><li><span class='ee-k'>3:</span><span class='ee-v'>0</span></li><li><span class='ee-k'>4:</span><span class='ee-v'>1</span></li><li><span class='ee-k'>5:</span><span class='ee-v'>0</span></li></ul></li><li><label class='ee-shut'>data_type: double<input type='checkbox' class='ee-toggle'></label><ul><li><span class='ee-k'>type:</span><span class='ee-v'>PixelType</span></li><li><span class='ee-k'>max:</span><span class='ee-v'>65535</span></li><li><span class='ee-k'>min:</span><span class='ee-v'>0</span></li><li><span class='ee-k'>precision:</span><span class='ee-v'>double</span></li></ul></li><li><label class='ee-shut'>dimensions: [1, 1]<input type='checkbox' class='ee-toggle'></label><ul><li><span class='ee-k'>0:</span><span class='ee-v'>1</span></li><li><span class='ee-k'>1:</span><span class='ee-v'>1</span></li></ul></li><li><label class='ee-shut'>origin: [-123, 37]<input type='checkbox' class='ee-toggle'></label><ul><li><span class='ee-k'>0:</span><span class='ee-v'>-123</span></li><li><span class='ee-k'>1:</span><span class='ee-v'>37</span></li></ul></li></ul></li><li><label class='ee-shut'>10: \"B10\", double, EPSG:4326, 1x1 px<input type='checkbox' class='ee-toggle'></label><ul><li><span class='ee-k'>id:</span><span class='ee-v'>B10</span></li><li><span class='ee-k'>crs:</span><span class='ee-v'>EPSG:4326</span></li><li><label class='ee-shut'>crs_transform: [1, 0, 0, 0, 1, 0]<input type='checkbox' class='ee-toggle'></label><ul><li><span class='ee-k'>0:</span><span class='ee-v'>1</span></li><li><span class='ee-k'>1:</span><span class='ee-v'>0</span></li><li><span class='ee-k'>2:</span><span class='ee-v'>0</span></li><li><span class='ee-k'>3:</span><span class='ee-v'>0</span></li><li><span class='ee-k'>4:</span><span class='ee-v'>1</span></li><li><span class='ee-k'>5:</span><span class='ee-v'>0</span></li></ul></li><li><label class='ee-shut'>data_type: double<input type='checkbox' class='ee-toggle'></label><ul><li><span class='ee-k'>type:</span><span class='ee-v'>PixelType</span></li><li><span class='ee-k'>max:</span><span class='ee-v'>65535</span></li><li><span class='ee-k'>min:</span><span class='ee-v'>0</span></li><li><span class='ee-k'>precision:</span><span class='ee-v'>double</span></li></ul></li><li><label class='ee-shut'>dimensions: [1, 1]<input type='checkbox' class='ee-toggle'></label><ul><li><span class='ee-k'>0:</span><span class='ee-v'>1</span></li><li><span class='ee-k'>1:</span><span class='ee-v'>1</span></li></ul></li><li><label class='ee-shut'>origin: [-123, 37]<input type='checkbox' class='ee-toggle'></label><ul><li><span class='ee-k'>0:</span><span class='ee-v'>-123</span></li><li><span class='ee-k'>1:</span><span class='ee-v'>37</span></li></ul></li></ul></li><li><label class='ee-shut'>11: \"B11\", double, EPSG:4326, 1x1 px<input type='checkbox' class='ee-toggle'></label><ul><li><span class='ee-k'>id:</span><span class='ee-v'>B11</span></li><li><span class='ee-k'>crs:</span><span class='ee-v'>EPSG:4326</span></li><li><label class='ee-shut'>crs_transform: [1, 0, 0, 0, 1, 0]<input type='checkbox' class='ee-toggle'></label><ul><li><span class='ee-k'>0:</span><span class='ee-v'>1</span></li><li><span class='ee-k'>1:</span><span class='ee-v'>0</span></li><li><span class='ee-k'>2:</span><span class='ee-v'>0</span></li><li><span class='ee-k'>3:</span><span class='ee-v'>0</span></li><li><span class='ee-k'>4:</span><span class='ee-v'>1</span></li><li><span class='ee-k'>5:</span><span class='ee-v'>0</span></li></ul></li><li><label class='ee-shut'>data_type: double<input type='checkbox' class='ee-toggle'></label><ul><li><span class='ee-k'>type:</span><span class='ee-v'>PixelType</span></li><li><span class='ee-k'>max:</span><span class='ee-v'>65535</span></li><li><span class='ee-k'>min:</span><span class='ee-v'>0</span></li><li><span class='ee-k'>precision:</span><span class='ee-v'>double</span></li></ul></li><li><label class='ee-shut'>dimensions: [1, 1]<input type='checkbox' class='ee-toggle'></label><ul><li><span class='ee-k'>0:</span><span class='ee-v'>1</span></li><li><span class='ee-k'>1:</span><span class='ee-v'>1</span></li></ul></li><li><label class='ee-shut'>origin: [-123, 37]<input type='checkbox' class='ee-toggle'></label><ul><li><span class='ee-k'>0:</span><span class='ee-v'>-123</span></li><li><span class='ee-k'>1:</span><span class='ee-v'>37</span></li></ul></li></ul></li><li><label class='ee-shut'>12: \"B12\", double, EPSG:4326, 1x1 px<input type='checkbox' class='ee-toggle'></label><ul><li><span class='ee-k'>id:</span><span class='ee-v'>B12</span></li><li><span class='ee-k'>crs:</span><span class='ee-v'>EPSG:4326</span></li><li><label class='ee-shut'>crs_transform: [1, 0, 0, 0, 1, 0]<input type='checkbox' class='ee-toggle'></label><ul><li><span class='ee-k'>0:</span><span class='ee-v'>1</span></li><li><span class='ee-k'>1:</span><span class='ee-v'>0</span></li><li><span class='ee-k'>2:</span><span class='ee-v'>0</span></li><li><span class='ee-k'>3:</span><span class='ee-v'>0</span></li><li><span class='ee-k'>4:</span><span class='ee-v'>1</span></li><li><span class='ee-k'>5:</span><span class='ee-v'>0</span></li></ul></li><li><label class='ee-shut'>data_type: double<input type='checkbox' class='ee-toggle'></label><ul><li><span class='ee-k'>type:</span><span class='ee-v'>PixelType</span></li><li><span class='ee-k'>max:</span><span class='ee-v'>65535</span></li><li><span class='ee-k'>min:</span><span class='ee-v'>0</span></li><li><span class='ee-k'>precision:</span><span class='ee-v'>double</span></li></ul></li><li><label class='ee-shut'>dimensions: [1, 1]<input type='checkbox' class='ee-toggle'></label><ul><li><span class='ee-k'>0:</span><span class='ee-v'>1</span></li><li><span class='ee-k'>1:</span><span class='ee-v'>1</span></li></ul></li><li><label class='ee-shut'>origin: [-123, 37]<input type='checkbox' class='ee-toggle'></label><ul><li><span class='ee-k'>0:</span><span class='ee-v'>-123</span></li><li><span class='ee-k'>1:</span><span class='ee-v'>37</span></li></ul></li></ul></li><li><label class='ee-shut'>13: \"QA10\", double, EPSG:4326, 1x1 px<input type='checkbox' class='ee-toggle'></label><ul><li><span class='ee-k'>id:</span><span class='ee-v'>QA10</span></li><li><span class='ee-k'>crs:</span><span class='ee-v'>EPSG:4326</span></li><li><label class='ee-shut'>crs_transform: [1, 0, 0, 0, 1, 0]<input type='checkbox' class='ee-toggle'></label><ul><li><span class='ee-k'>0:</span><span class='ee-v'>1</span></li><li><span class='ee-k'>1:</span><span class='ee-v'>0</span></li><li><span class='ee-k'>2:</span><span class='ee-v'>0</span></li><li><span class='ee-k'>3:</span><span class='ee-v'>0</span></li><li><span class='ee-k'>4:</span><span class='ee-v'>1</span></li><li><span class='ee-k'>5:</span><span class='ee-v'>0</span></li></ul></li><li><label class='ee-shut'>data_type: double<input type='checkbox' class='ee-toggle'></label><ul><li><span class='ee-k'>type:</span><span class='ee-v'>PixelType</span></li><li><span class='ee-k'>max:</span><span class='ee-v'>65535</span></li><li><span class='ee-k'>min:</span><span class='ee-v'>0</span></li><li><span class='ee-k'>precision:</span><span class='ee-v'>double</span></li></ul></li><li><label class='ee-shut'>dimensions: [1, 1]<input type='checkbox' class='ee-toggle'></label><ul><li><span class='ee-k'>0:</span><span class='ee-v'>1</span></li><li><span class='ee-k'>1:</span><span class='ee-v'>1</span></li></ul></li><li><label class='ee-shut'>origin: [-123, 37]<input type='checkbox' class='ee-toggle'></label><ul><li><span class='ee-k'>0:</span><span class='ee-v'>-123</span></li><li><span class='ee-k'>1:</span><span class='ee-v'>37</span></li></ul></li></ul></li><li><label class='ee-shut'>14: \"QA20\", double, EPSG:4326, 1x1 px<input type='checkbox' class='ee-toggle'></label><ul><li><span class='ee-k'>id:</span><span class='ee-v'>QA20</span></li><li><span class='ee-k'>crs:</span><span class='ee-v'>EPSG:4326</span></li><li><label class='ee-shut'>crs_transform: [1, 0, 0, 0, 1, 0]<input type='checkbox' class='ee-toggle'></label><ul><li><span class='ee-k'>0:</span><span class='ee-v'>1</span></li><li><span class='ee-k'>1:</span><span class='ee-v'>0</span></li><li><span class='ee-k'>2:</span><span class='ee-v'>0</span></li><li><span class='ee-k'>3:</span><span class='ee-v'>0</span></li><li><span class='ee-k'>4:</span><span class='ee-v'>1</span></li><li><span class='ee-k'>5:</span><span class='ee-v'>0</span></li></ul></li><li><label class='ee-shut'>data_type: double<input type='checkbox' class='ee-toggle'></label><ul><li><span class='ee-k'>type:</span><span class='ee-v'>PixelType</span></li><li><span class='ee-k'>max:</span><span class='ee-v'>4294967295</span></li><li><span class='ee-k'>min:</span><span class='ee-v'>0</span></li><li><span class='ee-k'>precision:</span><span class='ee-v'>double</span></li></ul></li><li><label class='ee-shut'>dimensions: [1, 1]<input type='checkbox' class='ee-toggle'></label><ul><li><span class='ee-k'>0:</span><span class='ee-v'>1</span></li><li><span class='ee-k'>1:</span><span class='ee-v'>1</span></li></ul></li><li><label class='ee-shut'>origin: [-123, 37]<input type='checkbox' class='ee-toggle'></label><ul><li><span class='ee-k'>0:</span><span class='ee-v'>-123</span></li><li><span class='ee-k'>1:</span><span class='ee-v'>37</span></li></ul></li></ul></li><li><label class='ee-shut'>15: \"QA60\", double, EPSG:4326, 1x1 px<input type='checkbox' class='ee-toggle'></label><ul><li><span class='ee-k'>id:</span><span class='ee-v'>QA60</span></li><li><span class='ee-k'>crs:</span><span class='ee-v'>EPSG:4326</span></li><li><label class='ee-shut'>crs_transform: [1, 0, 0, 0, 1, 0]<input type='checkbox' class='ee-toggle'></label><ul><li><span class='ee-k'>0:</span><span class='ee-v'>1</span></li><li><span class='ee-k'>1:</span><span class='ee-v'>0</span></li><li><span class='ee-k'>2:</span><span class='ee-v'>0</span></li><li><span class='ee-k'>3:</span><span class='ee-v'>0</span></li><li><span class='ee-k'>4:</span><span class='ee-v'>1</span></li><li><span class='ee-k'>5:</span><span class='ee-v'>0</span></li></ul></li><li><label class='ee-shut'>data_type: double<input type='checkbox' class='ee-toggle'></label><ul><li><span class='ee-k'>type:</span><span class='ee-v'>PixelType</span></li><li><span class='ee-k'>max:</span><span class='ee-v'>65535</span></li><li><span class='ee-k'>min:</span><span class='ee-v'>0</span></li><li><span class='ee-k'>precision:</span><span class='ee-v'>double</span></li></ul></li><li><label class='ee-shut'>dimensions: [1, 1]<input type='checkbox' class='ee-toggle'></label><ul><li><span class='ee-k'>0:</span><span class='ee-v'>1</span></li><li><span class='ee-k'>1:</span><span class='ee-v'>1</span></li></ul></li><li><label class='ee-shut'>origin: [-123, 37]<input type='checkbox' class='ee-toggle'></label><ul><li><span class='ee-k'>0:</span><span class='ee-v'>-123</span></li><li><span class='ee-k'>1:</span><span class='ee-v'>37</span></li></ul></li></ul></li></ul></li><li><label class='ee-shut'>properties: Object (5 properties)<input type='checkbox' class='ee-toggle'></label><ul><li><span class='ee-k'>empty:</span><span class='ee-v'>0</span></li><li><span class='ee-k'>system:date:</span><span class='ee-v'>2018</span></li><li><label class='ee-shut'>system:footprint: Polygon (5 vertices)<input type='checkbox' class='ee-toggle'></label><ul><li><span class='ee-k'>type:</span><span class='ee-v'>Polygon</span></li><li><label class='ee-shut'>coordinates: List (1 element)<input type='checkbox' class='ee-toggle'></label><ul><li><label class='ee-shut'>0: List (5 elements)<input type='checkbox' class='ee-toggle'></label><ul><li><label class='ee-shut'>0: [-122.5549, 37.6968]<input type='checkbox' class='ee-toggle'></label><ul><li><span class='ee-k'>0:</span><span class='ee-v'>-122.5549</span></li><li><span class='ee-k'>1:</span><span class='ee-v'>37.6968</span></li></ul></li><li><label class='ee-shut'>1: [-122.34460000000001, 37.6968]<input type='checkbox' class='ee-toggle'></label><ul><li><span class='ee-k'>0:</span><span class='ee-v'>-122.34460000000001</span></li><li><span class='ee-k'>1:</span><span class='ee-v'>37.6968</span></li></ul></li><li><label class='ee-shut'>2: [-122.34460000000001, 37.8111]<input type='checkbox' class='ee-toggle'></label><ul><li><span class='ee-k'>0:</span><span class='ee-v'>-122.34460000000001</span></li><li><span class='ee-k'>1:</span><span class='ee-v'>37.8111</span></li></ul></li><li><label class='ee-shut'>3: [-122.5549, 37.8111]<input type='checkbox' class='ee-toggle'></label><ul><li><span class='ee-k'>0:</span><span class='ee-v'>-122.5549</span></li><li><span class='ee-k'>1:</span><span class='ee-v'>37.8111</span></li></ul></li><li><label class='ee-shut'>4: [-122.5549, 37.6968]<input type='checkbox' class='ee-toggle'></label><ul><li><span class='ee-k'>0:</span><span class='ee-v'>-122.5549</span></li><li><span class='ee-k'>1:</span><span class='ee-v'>37.6968</span></li></ul></li></ul></li></ul></li><li><span class='ee-k'>geodesic:</span><span class='ee-v'>False</span></li></ul></li><li><span class='ee-k'>system:index:</span><span class='ee-v'>2</span></li><li><span class='ee-k'>system:time_start:</span><span class='ee-v'>1514764800000</span></li></ul></li></ul></li><li><label class='ee-shut'>3: Image (16 bands)<input type='checkbox' class='ee-toggle'></label><ul><li><span class='ee-k'>type:</span><span class='ee-v'>Image</span></li><li><label class='ee-shut'>bands: List (16 elements)<input type='checkbox' class='ee-toggle'></label><ul><li><label class='ee-shut'>0: \"B1\", double, EPSG:4326, 1x1 px<input type='checkbox' class='ee-toggle'></label><ul><li><span class='ee-k'>id:</span><span class='ee-v'>B1</span></li><li><span class='ee-k'>crs:</span><span class='ee-v'>EPSG:4326</span></li><li><label class='ee-shut'>crs_transform: [1, 0, 0, 0, 1, 0]<input type='checkbox' class='ee-toggle'></label><ul><li><span class='ee-k'>0:</span><span class='ee-v'>1</span></li><li><span class='ee-k'>1:</span><span class='ee-v'>0</span></li><li><span class='ee-k'>2:</span><span class='ee-v'>0</span></li><li><span class='ee-k'>3:</span><span class='ee-v'>0</span></li><li><span class='ee-k'>4:</span><span class='ee-v'>1</span></li><li><span class='ee-k'>5:</span><span class='ee-v'>0</span></li></ul></li><li><label class='ee-shut'>data_type: double<input type='checkbox' class='ee-toggle'></label><ul><li><span class='ee-k'>type:</span><span class='ee-v'>PixelType</span></li><li><span class='ee-k'>max:</span><span class='ee-v'>65535</span></li><li><span class='ee-k'>min:</span><span class='ee-v'>0</span></li><li><span class='ee-k'>precision:</span><span class='ee-v'>double</span></li></ul></li><li><label class='ee-shut'>dimensions: [1, 1]<input type='checkbox' class='ee-toggle'></label><ul><li><span class='ee-k'>0:</span><span class='ee-v'>1</span></li><li><span class='ee-k'>1:</span><span class='ee-v'>1</span></li></ul></li><li><label class='ee-shut'>origin: [-123, 37]<input type='checkbox' class='ee-toggle'></label><ul><li><span class='ee-k'>0:</span><span class='ee-v'>-123</span></li><li><span class='ee-k'>1:</span><span class='ee-v'>37</span></li></ul></li></ul></li><li><label class='ee-shut'>1: \"B2\", double, EPSG:4326, 1x1 px<input type='checkbox' class='ee-toggle'></label><ul><li><span class='ee-k'>id:</span><span class='ee-v'>B2</span></li><li><span class='ee-k'>crs:</span><span class='ee-v'>EPSG:4326</span></li><li><label class='ee-shut'>crs_transform: [1, 0, 0, 0, 1, 0]<input type='checkbox' class='ee-toggle'></label><ul><li><span class='ee-k'>0:</span><span class='ee-v'>1</span></li><li><span class='ee-k'>1:</span><span class='ee-v'>0</span></li><li><span class='ee-k'>2:</span><span class='ee-v'>0</span></li><li><span class='ee-k'>3:</span><span class='ee-v'>0</span></li><li><span class='ee-k'>4:</span><span class='ee-v'>1</span></li><li><span class='ee-k'>5:</span><span class='ee-v'>0</span></li></ul></li><li><label class='ee-shut'>data_type: double<input type='checkbox' class='ee-toggle'></label><ul><li><span class='ee-k'>type:</span><span class='ee-v'>PixelType</span></li><li><span class='ee-k'>max:</span><span class='ee-v'>65535</span></li><li><span class='ee-k'>min:</span><span class='ee-v'>0</span></li><li><span class='ee-k'>precision:</span><span class='ee-v'>double</span></li></ul></li><li><label class='ee-shut'>dimensions: [1, 1]<input type='checkbox' class='ee-toggle'></label><ul><li><span class='ee-k'>0:</span><span class='ee-v'>1</span></li><li><span class='ee-k'>1:</span><span class='ee-v'>1</span></li></ul></li><li><label class='ee-shut'>origin: [-123, 37]<input type='checkbox' class='ee-toggle'></label><ul><li><span class='ee-k'>0:</span><span class='ee-v'>-123</span></li><li><span class='ee-k'>1:</span><span class='ee-v'>37</span></li></ul></li></ul></li><li><label class='ee-shut'>2: \"B3\", double, EPSG:4326, 1x1 px<input type='checkbox' class='ee-toggle'></label><ul><li><span class='ee-k'>id:</span><span class='ee-v'>B3</span></li><li><span class='ee-k'>crs:</span><span class='ee-v'>EPSG:4326</span></li><li><label class='ee-shut'>crs_transform: [1, 0, 0, 0, 1, 0]<input type='checkbox' class='ee-toggle'></label><ul><li><span class='ee-k'>0:</span><span class='ee-v'>1</span></li><li><span class='ee-k'>1:</span><span class='ee-v'>0</span></li><li><span class='ee-k'>2:</span><span class='ee-v'>0</span></li><li><span class='ee-k'>3:</span><span class='ee-v'>0</span></li><li><span class='ee-k'>4:</span><span class='ee-v'>1</span></li><li><span class='ee-k'>5:</span><span class='ee-v'>0</span></li></ul></li><li><label class='ee-shut'>data_type: double<input type='checkbox' class='ee-toggle'></label><ul><li><span class='ee-k'>type:</span><span class='ee-v'>PixelType</span></li><li><span class='ee-k'>max:</span><span class='ee-v'>65535</span></li><li><span class='ee-k'>min:</span><span class='ee-v'>0</span></li><li><span class='ee-k'>precision:</span><span class='ee-v'>double</span></li></ul></li><li><label class='ee-shut'>dimensions: [1, 1]<input type='checkbox' class='ee-toggle'></label><ul><li><span class='ee-k'>0:</span><span class='ee-v'>1</span></li><li><span class='ee-k'>1:</span><span class='ee-v'>1</span></li></ul></li><li><label class='ee-shut'>origin: [-123, 37]<input type='checkbox' class='ee-toggle'></label><ul><li><span class='ee-k'>0:</span><span class='ee-v'>-123</span></li><li><span class='ee-k'>1:</span><span class='ee-v'>37</span></li></ul></li></ul></li><li><label class='ee-shut'>3: \"B4\", double, EPSG:4326, 1x1 px<input type='checkbox' class='ee-toggle'></label><ul><li><span class='ee-k'>id:</span><span class='ee-v'>B4</span></li><li><span class='ee-k'>crs:</span><span class='ee-v'>EPSG:4326</span></li><li><label class='ee-shut'>crs_transform: [1, 0, 0, 0, 1, 0]<input type='checkbox' class='ee-toggle'></label><ul><li><span class='ee-k'>0:</span><span class='ee-v'>1</span></li><li><span class='ee-k'>1:</span><span class='ee-v'>0</span></li><li><span class='ee-k'>2:</span><span class='ee-v'>0</span></li><li><span class='ee-k'>3:</span><span class='ee-v'>0</span></li><li><span class='ee-k'>4:</span><span class='ee-v'>1</span></li><li><span class='ee-k'>5:</span><span class='ee-v'>0</span></li></ul></li><li><label class='ee-shut'>data_type: double<input type='checkbox' class='ee-toggle'></label><ul><li><span class='ee-k'>type:</span><span class='ee-v'>PixelType</span></li><li><span class='ee-k'>max:</span><span class='ee-v'>65535</span></li><li><span class='ee-k'>min:</span><span class='ee-v'>0</span></li><li><span class='ee-k'>precision:</span><span class='ee-v'>double</span></li></ul></li><li><label class='ee-shut'>dimensions: [1, 1]<input type='checkbox' class='ee-toggle'></label><ul><li><span class='ee-k'>0:</span><span class='ee-v'>1</span></li><li><span class='ee-k'>1:</span><span class='ee-v'>1</span></li></ul></li><li><label class='ee-shut'>origin: [-123, 37]<input type='checkbox' class='ee-toggle'></label><ul><li><span class='ee-k'>0:</span><span class='ee-v'>-123</span></li><li><span class='ee-k'>1:</span><span class='ee-v'>37</span></li></ul></li></ul></li><li><label class='ee-shut'>4: \"B5\", double, EPSG:4326, 1x1 px<input type='checkbox' class='ee-toggle'></label><ul><li><span class='ee-k'>id:</span><span class='ee-v'>B5</span></li><li><span class='ee-k'>crs:</span><span class='ee-v'>EPSG:4326</span></li><li><label class='ee-shut'>crs_transform: [1, 0, 0, 0, 1, 0]<input type='checkbox' class='ee-toggle'></label><ul><li><span class='ee-k'>0:</span><span class='ee-v'>1</span></li><li><span class='ee-k'>1:</span><span class='ee-v'>0</span></li><li><span class='ee-k'>2:</span><span class='ee-v'>0</span></li><li><span class='ee-k'>3:</span><span class='ee-v'>0</span></li><li><span class='ee-k'>4:</span><span class='ee-v'>1</span></li><li><span class='ee-k'>5:</span><span class='ee-v'>0</span></li></ul></li><li><label class='ee-shut'>data_type: double<input type='checkbox' class='ee-toggle'></label><ul><li><span class='ee-k'>type:</span><span class='ee-v'>PixelType</span></li><li><span class='ee-k'>max:</span><span class='ee-v'>65535</span></li><li><span class='ee-k'>min:</span><span class='ee-v'>0</span></li><li><span class='ee-k'>precision:</span><span class='ee-v'>double</span></li></ul></li><li><label class='ee-shut'>dimensions: [1, 1]<input type='checkbox' class='ee-toggle'></label><ul><li><span class='ee-k'>0:</span><span class='ee-v'>1</span></li><li><span class='ee-k'>1:</span><span class='ee-v'>1</span></li></ul></li><li><label class='ee-shut'>origin: [-123, 37]<input type='checkbox' class='ee-toggle'></label><ul><li><span class='ee-k'>0:</span><span class='ee-v'>-123</span></li><li><span class='ee-k'>1:</span><span class='ee-v'>37</span></li></ul></li></ul></li><li><label class='ee-shut'>5: \"B6\", double, EPSG:4326, 1x1 px<input type='checkbox' class='ee-toggle'></label><ul><li><span class='ee-k'>id:</span><span class='ee-v'>B6</span></li><li><span class='ee-k'>crs:</span><span class='ee-v'>EPSG:4326</span></li><li><label class='ee-shut'>crs_transform: [1, 0, 0, 0, 1, 0]<input type='checkbox' class='ee-toggle'></label><ul><li><span class='ee-k'>0:</span><span class='ee-v'>1</span></li><li><span class='ee-k'>1:</span><span class='ee-v'>0</span></li><li><span class='ee-k'>2:</span><span class='ee-v'>0</span></li><li><span class='ee-k'>3:</span><span class='ee-v'>0</span></li><li><span class='ee-k'>4:</span><span class='ee-v'>1</span></li><li><span class='ee-k'>5:</span><span class='ee-v'>0</span></li></ul></li><li><label class='ee-shut'>data_type: double<input type='checkbox' class='ee-toggle'></label><ul><li><span class='ee-k'>type:</span><span class='ee-v'>PixelType</span></li><li><span class='ee-k'>max:</span><span class='ee-v'>65535</span></li><li><span class='ee-k'>min:</span><span class='ee-v'>0</span></li><li><span class='ee-k'>precision:</span><span class='ee-v'>double</span></li></ul></li><li><label class='ee-shut'>dimensions: [1, 1]<input type='checkbox' class='ee-toggle'></label><ul><li><span class='ee-k'>0:</span><span class='ee-v'>1</span></li><li><span class='ee-k'>1:</span><span class='ee-v'>1</span></li></ul></li><li><label class='ee-shut'>origin: [-123, 37]<input type='checkbox' class='ee-toggle'></label><ul><li><span class='ee-k'>0:</span><span class='ee-v'>-123</span></li><li><span class='ee-k'>1:</span><span class='ee-v'>37</span></li></ul></li></ul></li><li><label class='ee-shut'>6: \"B7\", double, EPSG:4326, 1x1 px<input type='checkbox' class='ee-toggle'></label><ul><li><span class='ee-k'>id:</span><span class='ee-v'>B7</span></li><li><span class='ee-k'>crs:</span><span class='ee-v'>EPSG:4326</span></li><li><label class='ee-shut'>crs_transform: [1, 0, 0, 0, 1, 0]<input type='checkbox' class='ee-toggle'></label><ul><li><span class='ee-k'>0:</span><span class='ee-v'>1</span></li><li><span class='ee-k'>1:</span><span class='ee-v'>0</span></li><li><span class='ee-k'>2:</span><span class='ee-v'>0</span></li><li><span class='ee-k'>3:</span><span class='ee-v'>0</span></li><li><span class='ee-k'>4:</span><span class='ee-v'>1</span></li><li><span class='ee-k'>5:</span><span class='ee-v'>0</span></li></ul></li><li><label class='ee-shut'>data_type: double<input type='checkbox' class='ee-toggle'></label><ul><li><span class='ee-k'>type:</span><span class='ee-v'>PixelType</span></li><li><span class='ee-k'>max:</span><span class='ee-v'>65535</span></li><li><span class='ee-k'>min:</span><span class='ee-v'>0</span></li><li><span class='ee-k'>precision:</span><span class='ee-v'>double</span></li></ul></li><li><label class='ee-shut'>dimensions: [1, 1]<input type='checkbox' class='ee-toggle'></label><ul><li><span class='ee-k'>0:</span><span class='ee-v'>1</span></li><li><span class='ee-k'>1:</span><span class='ee-v'>1</span></li></ul></li><li><label class='ee-shut'>origin: [-123, 37]<input type='checkbox' class='ee-toggle'></label><ul><li><span class='ee-k'>0:</span><span class='ee-v'>-123</span></li><li><span class='ee-k'>1:</span><span class='ee-v'>37</span></li></ul></li></ul></li><li><label class='ee-shut'>7: \"B8\", double, EPSG:4326, 1x1 px<input type='checkbox' class='ee-toggle'></label><ul><li><span class='ee-k'>id:</span><span class='ee-v'>B8</span></li><li><span class='ee-k'>crs:</span><span class='ee-v'>EPSG:4326</span></li><li><label class='ee-shut'>crs_transform: [1, 0, 0, 0, 1, 0]<input type='checkbox' class='ee-toggle'></label><ul><li><span class='ee-k'>0:</span><span class='ee-v'>1</span></li><li><span class='ee-k'>1:</span><span class='ee-v'>0</span></li><li><span class='ee-k'>2:</span><span class='ee-v'>0</span></li><li><span class='ee-k'>3:</span><span class='ee-v'>0</span></li><li><span class='ee-k'>4:</span><span class='ee-v'>1</span></li><li><span class='ee-k'>5:</span><span class='ee-v'>0</span></li></ul></li><li><label class='ee-shut'>data_type: double<input type='checkbox' class='ee-toggle'></label><ul><li><span class='ee-k'>type:</span><span class='ee-v'>PixelType</span></li><li><span class='ee-k'>max:</span><span class='ee-v'>65535</span></li><li><span class='ee-k'>min:</span><span class='ee-v'>0</span></li><li><span class='ee-k'>precision:</span><span class='ee-v'>double</span></li></ul></li><li><label class='ee-shut'>dimensions: [1, 1]<input type='checkbox' class='ee-toggle'></label><ul><li><span class='ee-k'>0:</span><span class='ee-v'>1</span></li><li><span class='ee-k'>1:</span><span class='ee-v'>1</span></li></ul></li><li><label class='ee-shut'>origin: [-123, 37]<input type='checkbox' class='ee-toggle'></label><ul><li><span class='ee-k'>0:</span><span class='ee-v'>-123</span></li><li><span class='ee-k'>1:</span><span class='ee-v'>37</span></li></ul></li></ul></li><li><label class='ee-shut'>8: \"B8A\", double, EPSG:4326, 1x1 px<input type='checkbox' class='ee-toggle'></label><ul><li><span class='ee-k'>id:</span><span class='ee-v'>B8A</span></li><li><span class='ee-k'>crs:</span><span class='ee-v'>EPSG:4326</span></li><li><label class='ee-shut'>crs_transform: [1, 0, 0, 0, 1, 0]<input type='checkbox' class='ee-toggle'></label><ul><li><span class='ee-k'>0:</span><span class='ee-v'>1</span></li><li><span class='ee-k'>1:</span><span class='ee-v'>0</span></li><li><span class='ee-k'>2:</span><span class='ee-v'>0</span></li><li><span class='ee-k'>3:</span><span class='ee-v'>0</span></li><li><span class='ee-k'>4:</span><span class='ee-v'>1</span></li><li><span class='ee-k'>5:</span><span class='ee-v'>0</span></li></ul></li><li><label class='ee-shut'>data_type: double<input type='checkbox' class='ee-toggle'></label><ul><li><span class='ee-k'>type:</span><span class='ee-v'>PixelType</span></li><li><span class='ee-k'>max:</span><span class='ee-v'>65535</span></li><li><span class='ee-k'>min:</span><span class='ee-v'>0</span></li><li><span class='ee-k'>precision:</span><span class='ee-v'>double</span></li></ul></li><li><label class='ee-shut'>dimensions: [1, 1]<input type='checkbox' class='ee-toggle'></label><ul><li><span class='ee-k'>0:</span><span class='ee-v'>1</span></li><li><span class='ee-k'>1:</span><span class='ee-v'>1</span></li></ul></li><li><label class='ee-shut'>origin: [-123, 37]<input type='checkbox' class='ee-toggle'></label><ul><li><span class='ee-k'>0:</span><span class='ee-v'>-123</span></li><li><span class='ee-k'>1:</span><span class='ee-v'>37</span></li></ul></li></ul></li><li><label class='ee-shut'>9: \"B9\", double, EPSG:4326, 1x1 px<input type='checkbox' class='ee-toggle'></label><ul><li><span class='ee-k'>id:</span><span class='ee-v'>B9</span></li><li><span class='ee-k'>crs:</span><span class='ee-v'>EPSG:4326</span></li><li><label class='ee-shut'>crs_transform: [1, 0, 0, 0, 1, 0]<input type='checkbox' class='ee-toggle'></label><ul><li><span class='ee-k'>0:</span><span class='ee-v'>1</span></li><li><span class='ee-k'>1:</span><span class='ee-v'>0</span></li><li><span class='ee-k'>2:</span><span class='ee-v'>0</span></li><li><span class='ee-k'>3:</span><span class='ee-v'>0</span></li><li><span class='ee-k'>4:</span><span class='ee-v'>1</span></li><li><span class='ee-k'>5:</span><span class='ee-v'>0</span></li></ul></li><li><label class='ee-shut'>data_type: double<input type='checkbox' class='ee-toggle'></label><ul><li><span class='ee-k'>type:</span><span class='ee-v'>PixelType</span></li><li><span class='ee-k'>max:</span><span class='ee-v'>65535</span></li><li><span class='ee-k'>min:</span><span class='ee-v'>0</span></li><li><span class='ee-k'>precision:</span><span class='ee-v'>double</span></li></ul></li><li><label class='ee-shut'>dimensions: [1, 1]<input type='checkbox' class='ee-toggle'></label><ul><li><span class='ee-k'>0:</span><span class='ee-v'>1</span></li><li><span class='ee-k'>1:</span><span class='ee-v'>1</span></li></ul></li><li><label class='ee-shut'>origin: [-123, 37]<input type='checkbox' class='ee-toggle'></label><ul><li><span class='ee-k'>0:</span><span class='ee-v'>-123</span></li><li><span class='ee-k'>1:</span><span class='ee-v'>37</span></li></ul></li></ul></li><li><label class='ee-shut'>10: \"B10\", double, EPSG:4326, 1x1 px<input type='checkbox' class='ee-toggle'></label><ul><li><span class='ee-k'>id:</span><span class='ee-v'>B10</span></li><li><span class='ee-k'>crs:</span><span class='ee-v'>EPSG:4326</span></li><li><label class='ee-shut'>crs_transform: [1, 0, 0, 0, 1, 0]<input type='checkbox' class='ee-toggle'></label><ul><li><span class='ee-k'>0:</span><span class='ee-v'>1</span></li><li><span class='ee-k'>1:</span><span class='ee-v'>0</span></li><li><span class='ee-k'>2:</span><span class='ee-v'>0</span></li><li><span class='ee-k'>3:</span><span class='ee-v'>0</span></li><li><span class='ee-k'>4:</span><span class='ee-v'>1</span></li><li><span class='ee-k'>5:</span><span class='ee-v'>0</span></li></ul></li><li><label class='ee-shut'>data_type: double<input type='checkbox' class='ee-toggle'></label><ul><li><span class='ee-k'>type:</span><span class='ee-v'>PixelType</span></li><li><span class='ee-k'>max:</span><span class='ee-v'>65535</span></li><li><span class='ee-k'>min:</span><span class='ee-v'>0</span></li><li><span class='ee-k'>precision:</span><span class='ee-v'>double</span></li></ul></li><li><label class='ee-shut'>dimensions: [1, 1]<input type='checkbox' class='ee-toggle'></label><ul><li><span class='ee-k'>0:</span><span class='ee-v'>1</span></li><li><span class='ee-k'>1:</span><span class='ee-v'>1</span></li></ul></li><li><label class='ee-shut'>origin: [-123, 37]<input type='checkbox' class='ee-toggle'></label><ul><li><span class='ee-k'>0:</span><span class='ee-v'>-123</span></li><li><span class='ee-k'>1:</span><span class='ee-v'>37</span></li></ul></li></ul></li><li><label class='ee-shut'>11: \"B11\", double, EPSG:4326, 1x1 px<input type='checkbox' class='ee-toggle'></label><ul><li><span class='ee-k'>id:</span><span class='ee-v'>B11</span></li><li><span class='ee-k'>crs:</span><span class='ee-v'>EPSG:4326</span></li><li><label class='ee-shut'>crs_transform: [1, 0, 0, 0, 1, 0]<input type='checkbox' class='ee-toggle'></label><ul><li><span class='ee-k'>0:</span><span class='ee-v'>1</span></li><li><span class='ee-k'>1:</span><span class='ee-v'>0</span></li><li><span class='ee-k'>2:</span><span class='ee-v'>0</span></li><li><span class='ee-k'>3:</span><span class='ee-v'>0</span></li><li><span class='ee-k'>4:</span><span class='ee-v'>1</span></li><li><span class='ee-k'>5:</span><span class='ee-v'>0</span></li></ul></li><li><label class='ee-shut'>data_type: double<input type='checkbox' class='ee-toggle'></label><ul><li><span class='ee-k'>type:</span><span class='ee-v'>PixelType</span></li><li><span class='ee-k'>max:</span><span class='ee-v'>65535</span></li><li><span class='ee-k'>min:</span><span class='ee-v'>0</span></li><li><span class='ee-k'>precision:</span><span class='ee-v'>double</span></li></ul></li><li><label class='ee-shut'>dimensions: [1, 1]<input type='checkbox' class='ee-toggle'></label><ul><li><span class='ee-k'>0:</span><span class='ee-v'>1</span></li><li><span class='ee-k'>1:</span><span class='ee-v'>1</span></li></ul></li><li><label class='ee-shut'>origin: [-123, 37]<input type='checkbox' class='ee-toggle'></label><ul><li><span class='ee-k'>0:</span><span class='ee-v'>-123</span></li><li><span class='ee-k'>1:</span><span class='ee-v'>37</span></li></ul></li></ul></li><li><label class='ee-shut'>12: \"B12\", double, EPSG:4326, 1x1 px<input type='checkbox' class='ee-toggle'></label><ul><li><span class='ee-k'>id:</span><span class='ee-v'>B12</span></li><li><span class='ee-k'>crs:</span><span class='ee-v'>EPSG:4326</span></li><li><label class='ee-shut'>crs_transform: [1, 0, 0, 0, 1, 0]<input type='checkbox' class='ee-toggle'></label><ul><li><span class='ee-k'>0:</span><span class='ee-v'>1</span></li><li><span class='ee-k'>1:</span><span class='ee-v'>0</span></li><li><span class='ee-k'>2:</span><span class='ee-v'>0</span></li><li><span class='ee-k'>3:</span><span class='ee-v'>0</span></li><li><span class='ee-k'>4:</span><span class='ee-v'>1</span></li><li><span class='ee-k'>5:</span><span class='ee-v'>0</span></li></ul></li><li><label class='ee-shut'>data_type: double<input type='checkbox' class='ee-toggle'></label><ul><li><span class='ee-k'>type:</span><span class='ee-v'>PixelType</span></li><li><span class='ee-k'>max:</span><span class='ee-v'>65535</span></li><li><span class='ee-k'>min:</span><span class='ee-v'>0</span></li><li><span class='ee-k'>precision:</span><span class='ee-v'>double</span></li></ul></li><li><label class='ee-shut'>dimensions: [1, 1]<input type='checkbox' class='ee-toggle'></label><ul><li><span class='ee-k'>0:</span><span class='ee-v'>1</span></li><li><span class='ee-k'>1:</span><span class='ee-v'>1</span></li></ul></li><li><label class='ee-shut'>origin: [-123, 37]<input type='checkbox' class='ee-toggle'></label><ul><li><span class='ee-k'>0:</span><span class='ee-v'>-123</span></li><li><span class='ee-k'>1:</span><span class='ee-v'>37</span></li></ul></li></ul></li><li><label class='ee-shut'>13: \"QA10\", double, EPSG:4326, 1x1 px<input type='checkbox' class='ee-toggle'></label><ul><li><span class='ee-k'>id:</span><span class='ee-v'>QA10</span></li><li><span class='ee-k'>crs:</span><span class='ee-v'>EPSG:4326</span></li><li><label class='ee-shut'>crs_transform: [1, 0, 0, 0, 1, 0]<input type='checkbox' class='ee-toggle'></label><ul><li><span class='ee-k'>0:</span><span class='ee-v'>1</span></li><li><span class='ee-k'>1:</span><span class='ee-v'>0</span></li><li><span class='ee-k'>2:</span><span class='ee-v'>0</span></li><li><span class='ee-k'>3:</span><span class='ee-v'>0</span></li><li><span class='ee-k'>4:</span><span class='ee-v'>1</span></li><li><span class='ee-k'>5:</span><span class='ee-v'>0</span></li></ul></li><li><label class='ee-shut'>data_type: double<input type='checkbox' class='ee-toggle'></label><ul><li><span class='ee-k'>type:</span><span class='ee-v'>PixelType</span></li><li><span class='ee-k'>max:</span><span class='ee-v'>65535</span></li><li><span class='ee-k'>min:</span><span class='ee-v'>0</span></li><li><span class='ee-k'>precision:</span><span class='ee-v'>double</span></li></ul></li><li><label class='ee-shut'>dimensions: [1, 1]<input type='checkbox' class='ee-toggle'></label><ul><li><span class='ee-k'>0:</span><span class='ee-v'>1</span></li><li><span class='ee-k'>1:</span><span class='ee-v'>1</span></li></ul></li><li><label class='ee-shut'>origin: [-123, 37]<input type='checkbox' class='ee-toggle'></label><ul><li><span class='ee-k'>0:</span><span class='ee-v'>-123</span></li><li><span class='ee-k'>1:</span><span class='ee-v'>37</span></li></ul></li></ul></li><li><label class='ee-shut'>14: \"QA20\", double, EPSG:4326, 1x1 px<input type='checkbox' class='ee-toggle'></label><ul><li><span class='ee-k'>id:</span><span class='ee-v'>QA20</span></li><li><span class='ee-k'>crs:</span><span class='ee-v'>EPSG:4326</span></li><li><label class='ee-shut'>crs_transform: [1, 0, 0, 0, 1, 0]<input type='checkbox' class='ee-toggle'></label><ul><li><span class='ee-k'>0:</span><span class='ee-v'>1</span></li><li><span class='ee-k'>1:</span><span class='ee-v'>0</span></li><li><span class='ee-k'>2:</span><span class='ee-v'>0</span></li><li><span class='ee-k'>3:</span><span class='ee-v'>0</span></li><li><span class='ee-k'>4:</span><span class='ee-v'>1</span></li><li><span class='ee-k'>5:</span><span class='ee-v'>0</span></li></ul></li><li><label class='ee-shut'>data_type: double<input type='checkbox' class='ee-toggle'></label><ul><li><span class='ee-k'>type:</span><span class='ee-v'>PixelType</span></li><li><span class='ee-k'>max:</span><span class='ee-v'>4294967295</span></li><li><span class='ee-k'>min:</span><span class='ee-v'>0</span></li><li><span class='ee-k'>precision:</span><span class='ee-v'>double</span></li></ul></li><li><label class='ee-shut'>dimensions: [1, 1]<input type='checkbox' class='ee-toggle'></label><ul><li><span class='ee-k'>0:</span><span class='ee-v'>1</span></li><li><span class='ee-k'>1:</span><span class='ee-v'>1</span></li></ul></li><li><label class='ee-shut'>origin: [-123, 37]<input type='checkbox' class='ee-toggle'></label><ul><li><span class='ee-k'>0:</span><span class='ee-v'>-123</span></li><li><span class='ee-k'>1:</span><span class='ee-v'>37</span></li></ul></li></ul></li><li><label class='ee-shut'>15: \"QA60\", double, EPSG:4326, 1x1 px<input type='checkbox' class='ee-toggle'></label><ul><li><span class='ee-k'>id:</span><span class='ee-v'>QA60</span></li><li><span class='ee-k'>crs:</span><span class='ee-v'>EPSG:4326</span></li><li><label class='ee-shut'>crs_transform: [1, 0, 0, 0, 1, 0]<input type='checkbox' class='ee-toggle'></label><ul><li><span class='ee-k'>0:</span><span class='ee-v'>1</span></li><li><span class='ee-k'>1:</span><span class='ee-v'>0</span></li><li><span class='ee-k'>2:</span><span class='ee-v'>0</span></li><li><span class='ee-k'>3:</span><span class='ee-v'>0</span></li><li><span class='ee-k'>4:</span><span class='ee-v'>1</span></li><li><span class='ee-k'>5:</span><span class='ee-v'>0</span></li></ul></li><li><label class='ee-shut'>data_type: double<input type='checkbox' class='ee-toggle'></label><ul><li><span class='ee-k'>type:</span><span class='ee-v'>PixelType</span></li><li><span class='ee-k'>max:</span><span class='ee-v'>65535</span></li><li><span class='ee-k'>min:</span><span class='ee-v'>0</span></li><li><span class='ee-k'>precision:</span><span class='ee-v'>double</span></li></ul></li><li><label class='ee-shut'>dimensions: [1, 1]<input type='checkbox' class='ee-toggle'></label><ul><li><span class='ee-k'>0:</span><span class='ee-v'>1</span></li><li><span class='ee-k'>1:</span><span class='ee-v'>1</span></li></ul></li><li><label class='ee-shut'>origin: [-123, 37]<input type='checkbox' class='ee-toggle'></label><ul><li><span class='ee-k'>0:</span><span class='ee-v'>-123</span></li><li><span class='ee-k'>1:</span><span class='ee-v'>37</span></li></ul></li></ul></li></ul></li><li><label class='ee-shut'>properties: Object (5 properties)<input type='checkbox' class='ee-toggle'></label><ul><li><span class='ee-k'>empty:</span><span class='ee-v'>0</span></li><li><span class='ee-k'>system:date:</span><span class='ee-v'>2019</span></li><li><label class='ee-shut'>system:footprint: Polygon (5 vertices)<input type='checkbox' class='ee-toggle'></label><ul><li><span class='ee-k'>type:</span><span class='ee-v'>Polygon</span></li><li><label class='ee-shut'>coordinates: List (1 element)<input type='checkbox' class='ee-toggle'></label><ul><li><label class='ee-shut'>0: List (5 elements)<input type='checkbox' class='ee-toggle'></label><ul><li><label class='ee-shut'>0: [-122.5549, 37.6968]<input type='checkbox' class='ee-toggle'></label><ul><li><span class='ee-k'>0:</span><span class='ee-v'>-122.5549</span></li><li><span class='ee-k'>1:</span><span class='ee-v'>37.6968</span></li></ul></li><li><label class='ee-shut'>1: [-122.34460000000001, 37.6968]<input type='checkbox' class='ee-toggle'></label><ul><li><span class='ee-k'>0:</span><span class='ee-v'>-122.34460000000001</span></li><li><span class='ee-k'>1:</span><span class='ee-v'>37.6968</span></li></ul></li><li><label class='ee-shut'>2: [-122.34460000000001, 37.8111]<input type='checkbox' class='ee-toggle'></label><ul><li><span class='ee-k'>0:</span><span class='ee-v'>-122.34460000000001</span></li><li><span class='ee-k'>1:</span><span class='ee-v'>37.8111</span></li></ul></li><li><label class='ee-shut'>3: [-122.5549, 37.8111]<input type='checkbox' class='ee-toggle'></label><ul><li><span class='ee-k'>0:</span><span class='ee-v'>-122.5549</span></li><li><span class='ee-k'>1:</span><span class='ee-v'>37.8111</span></li></ul></li><li><label class='ee-shut'>4: [-122.5549, 37.6968]<input type='checkbox' class='ee-toggle'></label><ul><li><span class='ee-k'>0:</span><span class='ee-v'>-122.5549</span></li><li><span class='ee-k'>1:</span><span class='ee-v'>37.6968</span></li></ul></li></ul></li></ul></li><li><span class='ee-k'>geodesic:</span><span class='ee-v'>False</span></li></ul></li><li><span class='ee-k'>system:index:</span><span class='ee-v'>3</span></li><li><span class='ee-k'>system:time_start:</span><span class='ee-v'>1546300800000</span></li></ul></li></ul></li><li><label class='ee-shut'>4: Image (16 bands)<input type='checkbox' class='ee-toggle'></label><ul><li><span class='ee-k'>type:</span><span class='ee-v'>Image</span></li><li><label class='ee-shut'>bands: List (16 elements)<input type='checkbox' class='ee-toggle'></label><ul><li><label class='ee-shut'>0: \"B1\", double, EPSG:4326, 1x1 px<input type='checkbox' class='ee-toggle'></label><ul><li><span class='ee-k'>id:</span><span class='ee-v'>B1</span></li><li><span class='ee-k'>crs:</span><span class='ee-v'>EPSG:4326</span></li><li><label class='ee-shut'>crs_transform: [1, 0, 0, 0, 1, 0]<input type='checkbox' class='ee-toggle'></label><ul><li><span class='ee-k'>0:</span><span class='ee-v'>1</span></li><li><span class='ee-k'>1:</span><span class='ee-v'>0</span></li><li><span class='ee-k'>2:</span><span class='ee-v'>0</span></li><li><span class='ee-k'>3:</span><span class='ee-v'>0</span></li><li><span class='ee-k'>4:</span><span class='ee-v'>1</span></li><li><span class='ee-k'>5:</span><span class='ee-v'>0</span></li></ul></li><li><label class='ee-shut'>data_type: double<input type='checkbox' class='ee-toggle'></label><ul><li><span class='ee-k'>type:</span><span class='ee-v'>PixelType</span></li><li><span class='ee-k'>max:</span><span class='ee-v'>65535</span></li><li><span class='ee-k'>min:</span><span class='ee-v'>0</span></li><li><span class='ee-k'>precision:</span><span class='ee-v'>double</span></li></ul></li><li><label class='ee-shut'>dimensions: [1, 1]<input type='checkbox' class='ee-toggle'></label><ul><li><span class='ee-k'>0:</span><span class='ee-v'>1</span></li><li><span class='ee-k'>1:</span><span class='ee-v'>1</span></li></ul></li><li><label class='ee-shut'>origin: [-123, 37]<input type='checkbox' class='ee-toggle'></label><ul><li><span class='ee-k'>0:</span><span class='ee-v'>-123</span></li><li><span class='ee-k'>1:</span><span class='ee-v'>37</span></li></ul></li></ul></li><li><label class='ee-shut'>1: \"B2\", double, EPSG:4326, 1x1 px<input type='checkbox' class='ee-toggle'></label><ul><li><span class='ee-k'>id:</span><span class='ee-v'>B2</span></li><li><span class='ee-k'>crs:</span><span class='ee-v'>EPSG:4326</span></li><li><label class='ee-shut'>crs_transform: [1, 0, 0, 0, 1, 0]<input type='checkbox' class='ee-toggle'></label><ul><li><span class='ee-k'>0:</span><span class='ee-v'>1</span></li><li><span class='ee-k'>1:</span><span class='ee-v'>0</span></li><li><span class='ee-k'>2:</span><span class='ee-v'>0</span></li><li><span class='ee-k'>3:</span><span class='ee-v'>0</span></li><li><span class='ee-k'>4:</span><span class='ee-v'>1</span></li><li><span class='ee-k'>5:</span><span class='ee-v'>0</span></li></ul></li><li><label class='ee-shut'>data_type: double<input type='checkbox' class='ee-toggle'></label><ul><li><span class='ee-k'>type:</span><span class='ee-v'>PixelType</span></li><li><span class='ee-k'>max:</span><span class='ee-v'>65535</span></li><li><span class='ee-k'>min:</span><span class='ee-v'>0</span></li><li><span class='ee-k'>precision:</span><span class='ee-v'>double</span></li></ul></li><li><label class='ee-shut'>dimensions: [1, 1]<input type='checkbox' class='ee-toggle'></label><ul><li><span class='ee-k'>0:</span><span class='ee-v'>1</span></li><li><span class='ee-k'>1:</span><span class='ee-v'>1</span></li></ul></li><li><label class='ee-shut'>origin: [-123, 37]<input type='checkbox' class='ee-toggle'></label><ul><li><span class='ee-k'>0:</span><span class='ee-v'>-123</span></li><li><span class='ee-k'>1:</span><span class='ee-v'>37</span></li></ul></li></ul></li><li><label class='ee-shut'>2: \"B3\", double, EPSG:4326, 1x1 px<input type='checkbox' class='ee-toggle'></label><ul><li><span class='ee-k'>id:</span><span class='ee-v'>B3</span></li><li><span class='ee-k'>crs:</span><span class='ee-v'>EPSG:4326</span></li><li><label class='ee-shut'>crs_transform: [1, 0, 0, 0, 1, 0]<input type='checkbox' class='ee-toggle'></label><ul><li><span class='ee-k'>0:</span><span class='ee-v'>1</span></li><li><span class='ee-k'>1:</span><span class='ee-v'>0</span></li><li><span class='ee-k'>2:</span><span class='ee-v'>0</span></li><li><span class='ee-k'>3:</span><span class='ee-v'>0</span></li><li><span class='ee-k'>4:</span><span class='ee-v'>1</span></li><li><span class='ee-k'>5:</span><span class='ee-v'>0</span></li></ul></li><li><label class='ee-shut'>data_type: double<input type='checkbox' class='ee-toggle'></label><ul><li><span class='ee-k'>type:</span><span class='ee-v'>PixelType</span></li><li><span class='ee-k'>max:</span><span class='ee-v'>65535</span></li><li><span class='ee-k'>min:</span><span class='ee-v'>0</span></li><li><span class='ee-k'>precision:</span><span class='ee-v'>double</span></li></ul></li><li><label class='ee-shut'>dimensions: [1, 1]<input type='checkbox' class='ee-toggle'></label><ul><li><span class='ee-k'>0:</span><span class='ee-v'>1</span></li><li><span class='ee-k'>1:</span><span class='ee-v'>1</span></li></ul></li><li><label class='ee-shut'>origin: [-123, 37]<input type='checkbox' class='ee-toggle'></label><ul><li><span class='ee-k'>0:</span><span class='ee-v'>-123</span></li><li><span class='ee-k'>1:</span><span class='ee-v'>37</span></li></ul></li></ul></li><li><label class='ee-shut'>3: \"B4\", double, EPSG:4326, 1x1 px<input type='checkbox' class='ee-toggle'></label><ul><li><span class='ee-k'>id:</span><span class='ee-v'>B4</span></li><li><span class='ee-k'>crs:</span><span class='ee-v'>EPSG:4326</span></li><li><label class='ee-shut'>crs_transform: [1, 0, 0, 0, 1, 0]<input type='checkbox' class='ee-toggle'></label><ul><li><span class='ee-k'>0:</span><span class='ee-v'>1</span></li><li><span class='ee-k'>1:</span><span class='ee-v'>0</span></li><li><span class='ee-k'>2:</span><span class='ee-v'>0</span></li><li><span class='ee-k'>3:</span><span class='ee-v'>0</span></li><li><span class='ee-k'>4:</span><span class='ee-v'>1</span></li><li><span class='ee-k'>5:</span><span class='ee-v'>0</span></li></ul></li><li><label class='ee-shut'>data_type: double<input type='checkbox' class='ee-toggle'></label><ul><li><span class='ee-k'>type:</span><span class='ee-v'>PixelType</span></li><li><span class='ee-k'>max:</span><span class='ee-v'>65535</span></li><li><span class='ee-k'>min:</span><span class='ee-v'>0</span></li><li><span class='ee-k'>precision:</span><span class='ee-v'>double</span></li></ul></li><li><label class='ee-shut'>dimensions: [1, 1]<input type='checkbox' class='ee-toggle'></label><ul><li><span class='ee-k'>0:</span><span class='ee-v'>1</span></li><li><span class='ee-k'>1:</span><span class='ee-v'>1</span></li></ul></li><li><label class='ee-shut'>origin: [-123, 37]<input type='checkbox' class='ee-toggle'></label><ul><li><span class='ee-k'>0:</span><span class='ee-v'>-123</span></li><li><span class='ee-k'>1:</span><span class='ee-v'>37</span></li></ul></li></ul></li><li><label class='ee-shut'>4: \"B5\", double, EPSG:4326, 1x1 px<input type='checkbox' class='ee-toggle'></label><ul><li><span class='ee-k'>id:</span><span class='ee-v'>B5</span></li><li><span class='ee-k'>crs:</span><span class='ee-v'>EPSG:4326</span></li><li><label class='ee-shut'>crs_transform: [1, 0, 0, 0, 1, 0]<input type='checkbox' class='ee-toggle'></label><ul><li><span class='ee-k'>0:</span><span class='ee-v'>1</span></li><li><span class='ee-k'>1:</span><span class='ee-v'>0</span></li><li><span class='ee-k'>2:</span><span class='ee-v'>0</span></li><li><span class='ee-k'>3:</span><span class='ee-v'>0</span></li><li><span class='ee-k'>4:</span><span class='ee-v'>1</span></li><li><span class='ee-k'>5:</span><span class='ee-v'>0</span></li></ul></li><li><label class='ee-shut'>data_type: double<input type='checkbox' class='ee-toggle'></label><ul><li><span class='ee-k'>type:</span><span class='ee-v'>PixelType</span></li><li><span class='ee-k'>max:</span><span class='ee-v'>65535</span></li><li><span class='ee-k'>min:</span><span class='ee-v'>0</span></li><li><span class='ee-k'>precision:</span><span class='ee-v'>double</span></li></ul></li><li><label class='ee-shut'>dimensions: [1, 1]<input type='checkbox' class='ee-toggle'></label><ul><li><span class='ee-k'>0:</span><span class='ee-v'>1</span></li><li><span class='ee-k'>1:</span><span class='ee-v'>1</span></li></ul></li><li><label class='ee-shut'>origin: [-123, 37]<input type='checkbox' class='ee-toggle'></label><ul><li><span class='ee-k'>0:</span><span class='ee-v'>-123</span></li><li><span class='ee-k'>1:</span><span class='ee-v'>37</span></li></ul></li></ul></li><li><label class='ee-shut'>5: \"B6\", double, EPSG:4326, 1x1 px<input type='checkbox' class='ee-toggle'></label><ul><li><span class='ee-k'>id:</span><span class='ee-v'>B6</span></li><li><span class='ee-k'>crs:</span><span class='ee-v'>EPSG:4326</span></li><li><label class='ee-shut'>crs_transform: [1, 0, 0, 0, 1, 0]<input type='checkbox' class='ee-toggle'></label><ul><li><span class='ee-k'>0:</span><span class='ee-v'>1</span></li><li><span class='ee-k'>1:</span><span class='ee-v'>0</span></li><li><span class='ee-k'>2:</span><span class='ee-v'>0</span></li><li><span class='ee-k'>3:</span><span class='ee-v'>0</span></li><li><span class='ee-k'>4:</span><span class='ee-v'>1</span></li><li><span class='ee-k'>5:</span><span class='ee-v'>0</span></li></ul></li><li><label class='ee-shut'>data_type: double<input type='checkbox' class='ee-toggle'></label><ul><li><span class='ee-k'>type:</span><span class='ee-v'>PixelType</span></li><li><span class='ee-k'>max:</span><span class='ee-v'>65535</span></li><li><span class='ee-k'>min:</span><span class='ee-v'>0</span></li><li><span class='ee-k'>precision:</span><span class='ee-v'>double</span></li></ul></li><li><label class='ee-shut'>dimensions: [1, 1]<input type='checkbox' class='ee-toggle'></label><ul><li><span class='ee-k'>0:</span><span class='ee-v'>1</span></li><li><span class='ee-k'>1:</span><span class='ee-v'>1</span></li></ul></li><li><label class='ee-shut'>origin: [-123, 37]<input type='checkbox' class='ee-toggle'></label><ul><li><span class='ee-k'>0:</span><span class='ee-v'>-123</span></li><li><span class='ee-k'>1:</span><span class='ee-v'>37</span></li></ul></li></ul></li><li><label class='ee-shut'>6: \"B7\", double, EPSG:4326, 1x1 px<input type='checkbox' class='ee-toggle'></label><ul><li><span class='ee-k'>id:</span><span class='ee-v'>B7</span></li><li><span class='ee-k'>crs:</span><span class='ee-v'>EPSG:4326</span></li><li><label class='ee-shut'>crs_transform: [1, 0, 0, 0, 1, 0]<input type='checkbox' class='ee-toggle'></label><ul><li><span class='ee-k'>0:</span><span class='ee-v'>1</span></li><li><span class='ee-k'>1:</span><span class='ee-v'>0</span></li><li><span class='ee-k'>2:</span><span class='ee-v'>0</span></li><li><span class='ee-k'>3:</span><span class='ee-v'>0</span></li><li><span class='ee-k'>4:</span><span class='ee-v'>1</span></li><li><span class='ee-k'>5:</span><span class='ee-v'>0</span></li></ul></li><li><label class='ee-shut'>data_type: double<input type='checkbox' class='ee-toggle'></label><ul><li><span class='ee-k'>type:</span><span class='ee-v'>PixelType</span></li><li><span class='ee-k'>max:</span><span class='ee-v'>65535</span></li><li><span class='ee-k'>min:</span><span class='ee-v'>0</span></li><li><span class='ee-k'>precision:</span><span class='ee-v'>double</span></li></ul></li><li><label class='ee-shut'>dimensions: [1, 1]<input type='checkbox' class='ee-toggle'></label><ul><li><span class='ee-k'>0:</span><span class='ee-v'>1</span></li><li><span class='ee-k'>1:</span><span class='ee-v'>1</span></li></ul></li><li><label class='ee-shut'>origin: [-123, 37]<input type='checkbox' class='ee-toggle'></label><ul><li><span class='ee-k'>0:</span><span class='ee-v'>-123</span></li><li><span class='ee-k'>1:</span><span class='ee-v'>37</span></li></ul></li></ul></li><li><label class='ee-shut'>7: \"B8\", double, EPSG:4326, 1x1 px<input type='checkbox' class='ee-toggle'></label><ul><li><span class='ee-k'>id:</span><span class='ee-v'>B8</span></li><li><span class='ee-k'>crs:</span><span class='ee-v'>EPSG:4326</span></li><li><label class='ee-shut'>crs_transform: [1, 0, 0, 0, 1, 0]<input type='checkbox' class='ee-toggle'></label><ul><li><span class='ee-k'>0:</span><span class='ee-v'>1</span></li><li><span class='ee-k'>1:</span><span class='ee-v'>0</span></li><li><span class='ee-k'>2:</span><span class='ee-v'>0</span></li><li><span class='ee-k'>3:</span><span class='ee-v'>0</span></li><li><span class='ee-k'>4:</span><span class='ee-v'>1</span></li><li><span class='ee-k'>5:</span><span class='ee-v'>0</span></li></ul></li><li><label class='ee-shut'>data_type: double<input type='checkbox' class='ee-toggle'></label><ul><li><span class='ee-k'>type:</span><span class='ee-v'>PixelType</span></li><li><span class='ee-k'>max:</span><span class='ee-v'>65535</span></li><li><span class='ee-k'>min:</span><span class='ee-v'>0</span></li><li><span class='ee-k'>precision:</span><span class='ee-v'>double</span></li></ul></li><li><label class='ee-shut'>dimensions: [1, 1]<input type='checkbox' class='ee-toggle'></label><ul><li><span class='ee-k'>0:</span><span class='ee-v'>1</span></li><li><span class='ee-k'>1:</span><span class='ee-v'>1</span></li></ul></li><li><label class='ee-shut'>origin: [-123, 37]<input type='checkbox' class='ee-toggle'></label><ul><li><span class='ee-k'>0:</span><span class='ee-v'>-123</span></li><li><span class='ee-k'>1:</span><span class='ee-v'>37</span></li></ul></li></ul></li><li><label class='ee-shut'>8: \"B8A\", double, EPSG:4326, 1x1 px<input type='checkbox' class='ee-toggle'></label><ul><li><span class='ee-k'>id:</span><span class='ee-v'>B8A</span></li><li><span class='ee-k'>crs:</span><span class='ee-v'>EPSG:4326</span></li><li><label class='ee-shut'>crs_transform: [1, 0, 0, 0, 1, 0]<input type='checkbox' class='ee-toggle'></label><ul><li><span class='ee-k'>0:</span><span class='ee-v'>1</span></li><li><span class='ee-k'>1:</span><span class='ee-v'>0</span></li><li><span class='ee-k'>2:</span><span class='ee-v'>0</span></li><li><span class='ee-k'>3:</span><span class='ee-v'>0</span></li><li><span class='ee-k'>4:</span><span class='ee-v'>1</span></li><li><span class='ee-k'>5:</span><span class='ee-v'>0</span></li></ul></li><li><label class='ee-shut'>data_type: double<input type='checkbox' class='ee-toggle'></label><ul><li><span class='ee-k'>type:</span><span class='ee-v'>PixelType</span></li><li><span class='ee-k'>max:</span><span class='ee-v'>65535</span></li><li><span class='ee-k'>min:</span><span class='ee-v'>0</span></li><li><span class='ee-k'>precision:</span><span class='ee-v'>double</span></li></ul></li><li><label class='ee-shut'>dimensions: [1, 1]<input type='checkbox' class='ee-toggle'></label><ul><li><span class='ee-k'>0:</span><span class='ee-v'>1</span></li><li><span class='ee-k'>1:</span><span class='ee-v'>1</span></li></ul></li><li><label class='ee-shut'>origin: [-123, 37]<input type='checkbox' class='ee-toggle'></label><ul><li><span class='ee-k'>0:</span><span class='ee-v'>-123</span></li><li><span class='ee-k'>1:</span><span class='ee-v'>37</span></li></ul></li></ul></li><li><label class='ee-shut'>9: \"B9\", double, EPSG:4326, 1x1 px<input type='checkbox' class='ee-toggle'></label><ul><li><span class='ee-k'>id:</span><span class='ee-v'>B9</span></li><li><span class='ee-k'>crs:</span><span class='ee-v'>EPSG:4326</span></li><li><label class='ee-shut'>crs_transform: [1, 0, 0, 0, 1, 0]<input type='checkbox' class='ee-toggle'></label><ul><li><span class='ee-k'>0:</span><span class='ee-v'>1</span></li><li><span class='ee-k'>1:</span><span class='ee-v'>0</span></li><li><span class='ee-k'>2:</span><span class='ee-v'>0</span></li><li><span class='ee-k'>3:</span><span class='ee-v'>0</span></li><li><span class='ee-k'>4:</span><span class='ee-v'>1</span></li><li><span class='ee-k'>5:</span><span class='ee-v'>0</span></li></ul></li><li><label class='ee-shut'>data_type: double<input type='checkbox' class='ee-toggle'></label><ul><li><span class='ee-k'>type:</span><span class='ee-v'>PixelType</span></li><li><span class='ee-k'>max:</span><span class='ee-v'>65535</span></li><li><span class='ee-k'>min:</span><span class='ee-v'>0</span></li><li><span class='ee-k'>precision:</span><span class='ee-v'>double</span></li></ul></li><li><label class='ee-shut'>dimensions: [1, 1]<input type='checkbox' class='ee-toggle'></label><ul><li><span class='ee-k'>0:</span><span class='ee-v'>1</span></li><li><span class='ee-k'>1:</span><span class='ee-v'>1</span></li></ul></li><li><label class='ee-shut'>origin: [-123, 37]<input type='checkbox' class='ee-toggle'></label><ul><li><span class='ee-k'>0:</span><span class='ee-v'>-123</span></li><li><span class='ee-k'>1:</span><span class='ee-v'>37</span></li></ul></li></ul></li><li><label class='ee-shut'>10: \"B10\", double, EPSG:4326, 1x1 px<input type='checkbox' class='ee-toggle'></label><ul><li><span class='ee-k'>id:</span><span class='ee-v'>B10</span></li><li><span class='ee-k'>crs:</span><span class='ee-v'>EPSG:4326</span></li><li><label class='ee-shut'>crs_transform: [1, 0, 0, 0, 1, 0]<input type='checkbox' class='ee-toggle'></label><ul><li><span class='ee-k'>0:</span><span class='ee-v'>1</span></li><li><span class='ee-k'>1:</span><span class='ee-v'>0</span></li><li><span class='ee-k'>2:</span><span class='ee-v'>0</span></li><li><span class='ee-k'>3:</span><span class='ee-v'>0</span></li><li><span class='ee-k'>4:</span><span class='ee-v'>1</span></li><li><span class='ee-k'>5:</span><span class='ee-v'>0</span></li></ul></li><li><label class='ee-shut'>data_type: double<input type='checkbox' class='ee-toggle'></label><ul><li><span class='ee-k'>type:</span><span class='ee-v'>PixelType</span></li><li><span class='ee-k'>max:</span><span class='ee-v'>65535</span></li><li><span class='ee-k'>min:</span><span class='ee-v'>0</span></li><li><span class='ee-k'>precision:</span><span class='ee-v'>double</span></li></ul></li><li><label class='ee-shut'>dimensions: [1, 1]<input type='checkbox' class='ee-toggle'></label><ul><li><span class='ee-k'>0:</span><span class='ee-v'>1</span></li><li><span class='ee-k'>1:</span><span class='ee-v'>1</span></li></ul></li><li><label class='ee-shut'>origin: [-123, 37]<input type='checkbox' class='ee-toggle'></label><ul><li><span class='ee-k'>0:</span><span class='ee-v'>-123</span></li><li><span class='ee-k'>1:</span><span class='ee-v'>37</span></li></ul></li></ul></li><li><label class='ee-shut'>11: \"B11\", double, EPSG:4326, 1x1 px<input type='checkbox' class='ee-toggle'></label><ul><li><span class='ee-k'>id:</span><span class='ee-v'>B11</span></li><li><span class='ee-k'>crs:</span><span class='ee-v'>EPSG:4326</span></li><li><label class='ee-shut'>crs_transform: [1, 0, 0, 0, 1, 0]<input type='checkbox' class='ee-toggle'></label><ul><li><span class='ee-k'>0:</span><span class='ee-v'>1</span></li><li><span class='ee-k'>1:</span><span class='ee-v'>0</span></li><li><span class='ee-k'>2:</span><span class='ee-v'>0</span></li><li><span class='ee-k'>3:</span><span class='ee-v'>0</span></li><li><span class='ee-k'>4:</span><span class='ee-v'>1</span></li><li><span class='ee-k'>5:</span><span class='ee-v'>0</span></li></ul></li><li><label class='ee-shut'>data_type: double<input type='checkbox' class='ee-toggle'></label><ul><li><span class='ee-k'>type:</span><span class='ee-v'>PixelType</span></li><li><span class='ee-k'>max:</span><span class='ee-v'>65535</span></li><li><span class='ee-k'>min:</span><span class='ee-v'>0</span></li><li><span class='ee-k'>precision:</span><span class='ee-v'>double</span></li></ul></li><li><label class='ee-shut'>dimensions: [1, 1]<input type='checkbox' class='ee-toggle'></label><ul><li><span class='ee-k'>0:</span><span class='ee-v'>1</span></li><li><span class='ee-k'>1:</span><span class='ee-v'>1</span></li></ul></li><li><label class='ee-shut'>origin: [-123, 37]<input type='checkbox' class='ee-toggle'></label><ul><li><span class='ee-k'>0:</span><span class='ee-v'>-123</span></li><li><span class='ee-k'>1:</span><span class='ee-v'>37</span></li></ul></li></ul></li><li><label class='ee-shut'>12: \"B12\", double, EPSG:4326, 1x1 px<input type='checkbox' class='ee-toggle'></label><ul><li><span class='ee-k'>id:</span><span class='ee-v'>B12</span></li><li><span class='ee-k'>crs:</span><span class='ee-v'>EPSG:4326</span></li><li><label class='ee-shut'>crs_transform: [1, 0, 0, 0, 1, 0]<input type='checkbox' class='ee-toggle'></label><ul><li><span class='ee-k'>0:</span><span class='ee-v'>1</span></li><li><span class='ee-k'>1:</span><span class='ee-v'>0</span></li><li><span class='ee-k'>2:</span><span class='ee-v'>0</span></li><li><span class='ee-k'>3:</span><span class='ee-v'>0</span></li><li><span class='ee-k'>4:</span><span class='ee-v'>1</span></li><li><span class='ee-k'>5:</span><span class='ee-v'>0</span></li></ul></li><li><label class='ee-shut'>data_type: double<input type='checkbox' class='ee-toggle'></label><ul><li><span class='ee-k'>type:</span><span class='ee-v'>PixelType</span></li><li><span class='ee-k'>max:</span><span class='ee-v'>65535</span></li><li><span class='ee-k'>min:</span><span class='ee-v'>0</span></li><li><span class='ee-k'>precision:</span><span class='ee-v'>double</span></li></ul></li><li><label class='ee-shut'>dimensions: [1, 1]<input type='checkbox' class='ee-toggle'></label><ul><li><span class='ee-k'>0:</span><span class='ee-v'>1</span></li><li><span class='ee-k'>1:</span><span class='ee-v'>1</span></li></ul></li><li><label class='ee-shut'>origin: [-123, 37]<input type='checkbox' class='ee-toggle'></label><ul><li><span class='ee-k'>0:</span><span class='ee-v'>-123</span></li><li><span class='ee-k'>1:</span><span class='ee-v'>37</span></li></ul></li></ul></li><li><label class='ee-shut'>13: \"QA10\", double, EPSG:4326, 1x1 px<input type='checkbox' class='ee-toggle'></label><ul><li><span class='ee-k'>id:</span><span class='ee-v'>QA10</span></li><li><span class='ee-k'>crs:</span><span class='ee-v'>EPSG:4326</span></li><li><label class='ee-shut'>crs_transform: [1, 0, 0, 0, 1, 0]<input type='checkbox' class='ee-toggle'></label><ul><li><span class='ee-k'>0:</span><span class='ee-v'>1</span></li><li><span class='ee-k'>1:</span><span class='ee-v'>0</span></li><li><span class='ee-k'>2:</span><span class='ee-v'>0</span></li><li><span class='ee-k'>3:</span><span class='ee-v'>0</span></li><li><span class='ee-k'>4:</span><span class='ee-v'>1</span></li><li><span class='ee-k'>5:</span><span class='ee-v'>0</span></li></ul></li><li><label class='ee-shut'>data_type: double<input type='checkbox' class='ee-toggle'></label><ul><li><span class='ee-k'>type:</span><span class='ee-v'>PixelType</span></li><li><span class='ee-k'>max:</span><span class='ee-v'>65535</span></li><li><span class='ee-k'>min:</span><span class='ee-v'>0</span></li><li><span class='ee-k'>precision:</span><span class='ee-v'>double</span></li></ul></li><li><label class='ee-shut'>dimensions: [1, 1]<input type='checkbox' class='ee-toggle'></label><ul><li><span class='ee-k'>0:</span><span class='ee-v'>1</span></li><li><span class='ee-k'>1:</span><span class='ee-v'>1</span></li></ul></li><li><label class='ee-shut'>origin: [-123, 37]<input type='checkbox' class='ee-toggle'></label><ul><li><span class='ee-k'>0:</span><span class='ee-v'>-123</span></li><li><span class='ee-k'>1:</span><span class='ee-v'>37</span></li></ul></li></ul></li><li><label class='ee-shut'>14: \"QA20\", double, EPSG:4326, 1x1 px<input type='checkbox' class='ee-toggle'></label><ul><li><span class='ee-k'>id:</span><span class='ee-v'>QA20</span></li><li><span class='ee-k'>crs:</span><span class='ee-v'>EPSG:4326</span></li><li><label class='ee-shut'>crs_transform: [1, 0, 0, 0, 1, 0]<input type='checkbox' class='ee-toggle'></label><ul><li><span class='ee-k'>0:</span><span class='ee-v'>1</span></li><li><span class='ee-k'>1:</span><span class='ee-v'>0</span></li><li><span class='ee-k'>2:</span><span class='ee-v'>0</span></li><li><span class='ee-k'>3:</span><span class='ee-v'>0</span></li><li><span class='ee-k'>4:</span><span class='ee-v'>1</span></li><li><span class='ee-k'>5:</span><span class='ee-v'>0</span></li></ul></li><li><label class='ee-shut'>data_type: double<input type='checkbox' class='ee-toggle'></label><ul><li><span class='ee-k'>type:</span><span class='ee-v'>PixelType</span></li><li><span class='ee-k'>max:</span><span class='ee-v'>4294967295</span></li><li><span class='ee-k'>min:</span><span class='ee-v'>0</span></li><li><span class='ee-k'>precision:</span><span class='ee-v'>double</span></li></ul></li><li><label class='ee-shut'>dimensions: [1, 1]<input type='checkbox' class='ee-toggle'></label><ul><li><span class='ee-k'>0:</span><span class='ee-v'>1</span></li><li><span class='ee-k'>1:</span><span class='ee-v'>1</span></li></ul></li><li><label class='ee-shut'>origin: [-123, 37]<input type='checkbox' class='ee-toggle'></label><ul><li><span class='ee-k'>0:</span><span class='ee-v'>-123</span></li><li><span class='ee-k'>1:</span><span class='ee-v'>37</span></li></ul></li></ul></li><li><label class='ee-shut'>15: \"QA60\", double, EPSG:4326, 1x1 px<input type='checkbox' class='ee-toggle'></label><ul><li><span class='ee-k'>id:</span><span class='ee-v'>QA60</span></li><li><span class='ee-k'>crs:</span><span class='ee-v'>EPSG:4326</span></li><li><label class='ee-shut'>crs_transform: [1, 0, 0, 0, 1, 0]<input type='checkbox' class='ee-toggle'></label><ul><li><span class='ee-k'>0:</span><span class='ee-v'>1</span></li><li><span class='ee-k'>1:</span><span class='ee-v'>0</span></li><li><span class='ee-k'>2:</span><span class='ee-v'>0</span></li><li><span class='ee-k'>3:</span><span class='ee-v'>0</span></li><li><span class='ee-k'>4:</span><span class='ee-v'>1</span></li><li><span class='ee-k'>5:</span><span class='ee-v'>0</span></li></ul></li><li><label class='ee-shut'>data_type: double<input type='checkbox' class='ee-toggle'></label><ul><li><span class='ee-k'>type:</span><span class='ee-v'>PixelType</span></li><li><span class='ee-k'>max:</span><span class='ee-v'>65535</span></li><li><span class='ee-k'>min:</span><span class='ee-v'>0</span></li><li><span class='ee-k'>precision:</span><span class='ee-v'>double</span></li></ul></li><li><label class='ee-shut'>dimensions: [1, 1]<input type='checkbox' class='ee-toggle'></label><ul><li><span class='ee-k'>0:</span><span class='ee-v'>1</span></li><li><span class='ee-k'>1:</span><span class='ee-v'>1</span></li></ul></li><li><label class='ee-shut'>origin: [-123, 37]<input type='checkbox' class='ee-toggle'></label><ul><li><span class='ee-k'>0:</span><span class='ee-v'>-123</span></li><li><span class='ee-k'>1:</span><span class='ee-v'>37</span></li></ul></li></ul></li></ul></li><li><label class='ee-shut'>properties: Object (5 properties)<input type='checkbox' class='ee-toggle'></label><ul><li><span class='ee-k'>empty:</span><span class='ee-v'>0</span></li><li><span class='ee-k'>system:date:</span><span class='ee-v'>2020</span></li><li><label class='ee-shut'>system:footprint: Polygon (5 vertices)<input type='checkbox' class='ee-toggle'></label><ul><li><span class='ee-k'>type:</span><span class='ee-v'>Polygon</span></li><li><label class='ee-shut'>coordinates: List (1 element)<input type='checkbox' class='ee-toggle'></label><ul><li><label class='ee-shut'>0: List (5 elements)<input type='checkbox' class='ee-toggle'></label><ul><li><label class='ee-shut'>0: [-122.5549, 37.6968]<input type='checkbox' class='ee-toggle'></label><ul><li><span class='ee-k'>0:</span><span class='ee-v'>-122.5549</span></li><li><span class='ee-k'>1:</span><span class='ee-v'>37.6968</span></li></ul></li><li><label class='ee-shut'>1: [-122.34460000000001, 37.6968]<input type='checkbox' class='ee-toggle'></label><ul><li><span class='ee-k'>0:</span><span class='ee-v'>-122.34460000000001</span></li><li><span class='ee-k'>1:</span><span class='ee-v'>37.6968</span></li></ul></li><li><label class='ee-shut'>2: [-122.34460000000001, 37.8111]<input type='checkbox' class='ee-toggle'></label><ul><li><span class='ee-k'>0:</span><span class='ee-v'>-122.34460000000001</span></li><li><span class='ee-k'>1:</span><span class='ee-v'>37.8111</span></li></ul></li><li><label class='ee-shut'>3: [-122.5549, 37.8111]<input type='checkbox' class='ee-toggle'></label><ul><li><span class='ee-k'>0:</span><span class='ee-v'>-122.5549</span></li><li><span class='ee-k'>1:</span><span class='ee-v'>37.8111</span></li></ul></li><li><label class='ee-shut'>4: [-122.5549, 37.6968]<input type='checkbox' class='ee-toggle'></label><ul><li><span class='ee-k'>0:</span><span class='ee-v'>-122.5549</span></li><li><span class='ee-k'>1:</span><span class='ee-v'>37.6968</span></li></ul></li></ul></li></ul></li><li><span class='ee-k'>geodesic:</span><span class='ee-v'>False</span></li></ul></li><li><span class='ee-k'>system:index:</span><span class='ee-v'>4</span></li><li><span class='ee-k'>system:time_start:</span><span class='ee-v'>1577836800000</span></li></ul></li></ul></li><li><label class='ee-shut'>5: Image (16 bands)<input type='checkbox' class='ee-toggle'></label><ul><li><span class='ee-k'>type:</span><span class='ee-v'>Image</span></li><li><label class='ee-shut'>bands: List (16 elements)<input type='checkbox' class='ee-toggle'></label><ul><li><label class='ee-shut'>0: \"B1\", double, EPSG:4326, 1x1 px<input type='checkbox' class='ee-toggle'></label><ul><li><span class='ee-k'>id:</span><span class='ee-v'>B1</span></li><li><span class='ee-k'>crs:</span><span class='ee-v'>EPSG:4326</span></li><li><label class='ee-shut'>crs_transform: [1, 0, 0, 0, 1, 0]<input type='checkbox' class='ee-toggle'></label><ul><li><span class='ee-k'>0:</span><span class='ee-v'>1</span></li><li><span class='ee-k'>1:</span><span class='ee-v'>0</span></li><li><span class='ee-k'>2:</span><span class='ee-v'>0</span></li><li><span class='ee-k'>3:</span><span class='ee-v'>0</span></li><li><span class='ee-k'>4:</span><span class='ee-v'>1</span></li><li><span class='ee-k'>5:</span><span class='ee-v'>0</span></li></ul></li><li><label class='ee-shut'>data_type: double<input type='checkbox' class='ee-toggle'></label><ul><li><span class='ee-k'>type:</span><span class='ee-v'>PixelType</span></li><li><span class='ee-k'>max:</span><span class='ee-v'>65535</span></li><li><span class='ee-k'>min:</span><span class='ee-v'>0</span></li><li><span class='ee-k'>precision:</span><span class='ee-v'>double</span></li></ul></li><li><label class='ee-shut'>dimensions: [1, 1]<input type='checkbox' class='ee-toggle'></label><ul><li><span class='ee-k'>0:</span><span class='ee-v'>1</span></li><li><span class='ee-k'>1:</span><span class='ee-v'>1</span></li></ul></li><li><label class='ee-shut'>origin: [-123, 37]<input type='checkbox' class='ee-toggle'></label><ul><li><span class='ee-k'>0:</span><span class='ee-v'>-123</span></li><li><span class='ee-k'>1:</span><span class='ee-v'>37</span></li></ul></li></ul></li><li><label class='ee-shut'>1: \"B2\", double, EPSG:4326, 1x1 px<input type='checkbox' class='ee-toggle'></label><ul><li><span class='ee-k'>id:</span><span class='ee-v'>B2</span></li><li><span class='ee-k'>crs:</span><span class='ee-v'>EPSG:4326</span></li><li><label class='ee-shut'>crs_transform: [1, 0, 0, 0, 1, 0]<input type='checkbox' class='ee-toggle'></label><ul><li><span class='ee-k'>0:</span><span class='ee-v'>1</span></li><li><span class='ee-k'>1:</span><span class='ee-v'>0</span></li><li><span class='ee-k'>2:</span><span class='ee-v'>0</span></li><li><span class='ee-k'>3:</span><span class='ee-v'>0</span></li><li><span class='ee-k'>4:</span><span class='ee-v'>1</span></li><li><span class='ee-k'>5:</span><span class='ee-v'>0</span></li></ul></li><li><label class='ee-shut'>data_type: double<input type='checkbox' class='ee-toggle'></label><ul><li><span class='ee-k'>type:</span><span class='ee-v'>PixelType</span></li><li><span class='ee-k'>max:</span><span class='ee-v'>65535</span></li><li><span class='ee-k'>min:</span><span class='ee-v'>0</span></li><li><span class='ee-k'>precision:</span><span class='ee-v'>double</span></li></ul></li><li><label class='ee-shut'>dimensions: [1, 1]<input type='checkbox' class='ee-toggle'></label><ul><li><span class='ee-k'>0:</span><span class='ee-v'>1</span></li><li><span class='ee-k'>1:</span><span class='ee-v'>1</span></li></ul></li><li><label class='ee-shut'>origin: [-123, 37]<input type='checkbox' class='ee-toggle'></label><ul><li><span class='ee-k'>0:</span><span class='ee-v'>-123</span></li><li><span class='ee-k'>1:</span><span class='ee-v'>37</span></li></ul></li></ul></li><li><label class='ee-shut'>2: \"B3\", double, EPSG:4326, 1x1 px<input type='checkbox' class='ee-toggle'></label><ul><li><span class='ee-k'>id:</span><span class='ee-v'>B3</span></li><li><span class='ee-k'>crs:</span><span class='ee-v'>EPSG:4326</span></li><li><label class='ee-shut'>crs_transform: [1, 0, 0, 0, 1, 0]<input type='checkbox' class='ee-toggle'></label><ul><li><span class='ee-k'>0:</span><span class='ee-v'>1</span></li><li><span class='ee-k'>1:</span><span class='ee-v'>0</span></li><li><span class='ee-k'>2:</span><span class='ee-v'>0</span></li><li><span class='ee-k'>3:</span><span class='ee-v'>0</span></li><li><span class='ee-k'>4:</span><span class='ee-v'>1</span></li><li><span class='ee-k'>5:</span><span class='ee-v'>0</span></li></ul></li><li><label class='ee-shut'>data_type: double<input type='checkbox' class='ee-toggle'></label><ul><li><span class='ee-k'>type:</span><span class='ee-v'>PixelType</span></li><li><span class='ee-k'>max:</span><span class='ee-v'>65535</span></li><li><span class='ee-k'>min:</span><span class='ee-v'>0</span></li><li><span class='ee-k'>precision:</span><span class='ee-v'>double</span></li></ul></li><li><label class='ee-shut'>dimensions: [1, 1]<input type='checkbox' class='ee-toggle'></label><ul><li><span class='ee-k'>0:</span><span class='ee-v'>1</span></li><li><span class='ee-k'>1:</span><span class='ee-v'>1</span></li></ul></li><li><label class='ee-shut'>origin: [-123, 37]<input type='checkbox' class='ee-toggle'></label><ul><li><span class='ee-k'>0:</span><span class='ee-v'>-123</span></li><li><span class='ee-k'>1:</span><span class='ee-v'>37</span></li></ul></li></ul></li><li><label class='ee-shut'>3: \"B4\", double, EPSG:4326, 1x1 px<input type='checkbox' class='ee-toggle'></label><ul><li><span class='ee-k'>id:</span><span class='ee-v'>B4</span></li><li><span class='ee-k'>crs:</span><span class='ee-v'>EPSG:4326</span></li><li><label class='ee-shut'>crs_transform: [1, 0, 0, 0, 1, 0]<input type='checkbox' class='ee-toggle'></label><ul><li><span class='ee-k'>0:</span><span class='ee-v'>1</span></li><li><span class='ee-k'>1:</span><span class='ee-v'>0</span></li><li><span class='ee-k'>2:</span><span class='ee-v'>0</span></li><li><span class='ee-k'>3:</span><span class='ee-v'>0</span></li><li><span class='ee-k'>4:</span><span class='ee-v'>1</span></li><li><span class='ee-k'>5:</span><span class='ee-v'>0</span></li></ul></li><li><label class='ee-shut'>data_type: double<input type='checkbox' class='ee-toggle'></label><ul><li><span class='ee-k'>type:</span><span class='ee-v'>PixelType</span></li><li><span class='ee-k'>max:</span><span class='ee-v'>65535</span></li><li><span class='ee-k'>min:</span><span class='ee-v'>0</span></li><li><span class='ee-k'>precision:</span><span class='ee-v'>double</span></li></ul></li><li><label class='ee-shut'>dimensions: [1, 1]<input type='checkbox' class='ee-toggle'></label><ul><li><span class='ee-k'>0:</span><span class='ee-v'>1</span></li><li><span class='ee-k'>1:</span><span class='ee-v'>1</span></li></ul></li><li><label class='ee-shut'>origin: [-123, 37]<input type='checkbox' class='ee-toggle'></label><ul><li><span class='ee-k'>0:</span><span class='ee-v'>-123</span></li><li><span class='ee-k'>1:</span><span class='ee-v'>37</span></li></ul></li></ul></li><li><label class='ee-shut'>4: \"B5\", double, EPSG:4326, 1x1 px<input type='checkbox' class='ee-toggle'></label><ul><li><span class='ee-k'>id:</span><span class='ee-v'>B5</span></li><li><span class='ee-k'>crs:</span><span class='ee-v'>EPSG:4326</span></li><li><label class='ee-shut'>crs_transform: [1, 0, 0, 0, 1, 0]<input type='checkbox' class='ee-toggle'></label><ul><li><span class='ee-k'>0:</span><span class='ee-v'>1</span></li><li><span class='ee-k'>1:</span><span class='ee-v'>0</span></li><li><span class='ee-k'>2:</span><span class='ee-v'>0</span></li><li><span class='ee-k'>3:</span><span class='ee-v'>0</span></li><li><span class='ee-k'>4:</span><span class='ee-v'>1</span></li><li><span class='ee-k'>5:</span><span class='ee-v'>0</span></li></ul></li><li><label class='ee-shut'>data_type: double<input type='checkbox' class='ee-toggle'></label><ul><li><span class='ee-k'>type:</span><span class='ee-v'>PixelType</span></li><li><span class='ee-k'>max:</span><span class='ee-v'>65535</span></li><li><span class='ee-k'>min:</span><span class='ee-v'>0</span></li><li><span class='ee-k'>precision:</span><span class='ee-v'>double</span></li></ul></li><li><label class='ee-shut'>dimensions: [1, 1]<input type='checkbox' class='ee-toggle'></label><ul><li><span class='ee-k'>0:</span><span class='ee-v'>1</span></li><li><span class='ee-k'>1:</span><span class='ee-v'>1</span></li></ul></li><li><label class='ee-shut'>origin: [-123, 37]<input type='checkbox' class='ee-toggle'></label><ul><li><span class='ee-k'>0:</span><span class='ee-v'>-123</span></li><li><span class='ee-k'>1:</span><span class='ee-v'>37</span></li></ul></li></ul></li><li><label class='ee-shut'>5: \"B6\", double, EPSG:4326, 1x1 px<input type='checkbox' class='ee-toggle'></label><ul><li><span class='ee-k'>id:</span><span class='ee-v'>B6</span></li><li><span class='ee-k'>crs:</span><span class='ee-v'>EPSG:4326</span></li><li><label class='ee-shut'>crs_transform: [1, 0, 0, 0, 1, 0]<input type='checkbox' class='ee-toggle'></label><ul><li><span class='ee-k'>0:</span><span class='ee-v'>1</span></li><li><span class='ee-k'>1:</span><span class='ee-v'>0</span></li><li><span class='ee-k'>2:</span><span class='ee-v'>0</span></li><li><span class='ee-k'>3:</span><span class='ee-v'>0</span></li><li><span class='ee-k'>4:</span><span class='ee-v'>1</span></li><li><span class='ee-k'>5:</span><span class='ee-v'>0</span></li></ul></li><li><label class='ee-shut'>data_type: double<input type='checkbox' class='ee-toggle'></label><ul><li><span class='ee-k'>type:</span><span class='ee-v'>PixelType</span></li><li><span class='ee-k'>max:</span><span class='ee-v'>65535</span></li><li><span class='ee-k'>min:</span><span class='ee-v'>0</span></li><li><span class='ee-k'>precision:</span><span class='ee-v'>double</span></li></ul></li><li><label class='ee-shut'>dimensions: [1, 1]<input type='checkbox' class='ee-toggle'></label><ul><li><span class='ee-k'>0:</span><span class='ee-v'>1</span></li><li><span class='ee-k'>1:</span><span class='ee-v'>1</span></li></ul></li><li><label class='ee-shut'>origin: [-123, 37]<input type='checkbox' class='ee-toggle'></label><ul><li><span class='ee-k'>0:</span><span class='ee-v'>-123</span></li><li><span class='ee-k'>1:</span><span class='ee-v'>37</span></li></ul></li></ul></li><li><label class='ee-shut'>6: \"B7\", double, EPSG:4326, 1x1 px<input type='checkbox' class='ee-toggle'></label><ul><li><span class='ee-k'>id:</span><span class='ee-v'>B7</span></li><li><span class='ee-k'>crs:</span><span class='ee-v'>EPSG:4326</span></li><li><label class='ee-shut'>crs_transform: [1, 0, 0, 0, 1, 0]<input type='checkbox' class='ee-toggle'></label><ul><li><span class='ee-k'>0:</span><span class='ee-v'>1</span></li><li><span class='ee-k'>1:</span><span class='ee-v'>0</span></li><li><span class='ee-k'>2:</span><span class='ee-v'>0</span></li><li><span class='ee-k'>3:</span><span class='ee-v'>0</span></li><li><span class='ee-k'>4:</span><span class='ee-v'>1</span></li><li><span class='ee-k'>5:</span><span class='ee-v'>0</span></li></ul></li><li><label class='ee-shut'>data_type: double<input type='checkbox' class='ee-toggle'></label><ul><li><span class='ee-k'>type:</span><span class='ee-v'>PixelType</span></li><li><span class='ee-k'>max:</span><span class='ee-v'>65535</span></li><li><span class='ee-k'>min:</span><span class='ee-v'>0</span></li><li><span class='ee-k'>precision:</span><span class='ee-v'>double</span></li></ul></li><li><label class='ee-shut'>dimensions: [1, 1]<input type='checkbox' class='ee-toggle'></label><ul><li><span class='ee-k'>0:</span><span class='ee-v'>1</span></li><li><span class='ee-k'>1:</span><span class='ee-v'>1</span></li></ul></li><li><label class='ee-shut'>origin: [-123, 37]<input type='checkbox' class='ee-toggle'></label><ul><li><span class='ee-k'>0:</span><span class='ee-v'>-123</span></li><li><span class='ee-k'>1:</span><span class='ee-v'>37</span></li></ul></li></ul></li><li><label class='ee-shut'>7: \"B8\", double, EPSG:4326, 1x1 px<input type='checkbox' class='ee-toggle'></label><ul><li><span class='ee-k'>id:</span><span class='ee-v'>B8</span></li><li><span class='ee-k'>crs:</span><span class='ee-v'>EPSG:4326</span></li><li><label class='ee-shut'>crs_transform: [1, 0, 0, 0, 1, 0]<input type='checkbox' class='ee-toggle'></label><ul><li><span class='ee-k'>0:</span><span class='ee-v'>1</span></li><li><span class='ee-k'>1:</span><span class='ee-v'>0</span></li><li><span class='ee-k'>2:</span><span class='ee-v'>0</span></li><li><span class='ee-k'>3:</span><span class='ee-v'>0</span></li><li><span class='ee-k'>4:</span><span class='ee-v'>1</span></li><li><span class='ee-k'>5:</span><span class='ee-v'>0</span></li></ul></li><li><label class='ee-shut'>data_type: double<input type='checkbox' class='ee-toggle'></label><ul><li><span class='ee-k'>type:</span><span class='ee-v'>PixelType</span></li><li><span class='ee-k'>max:</span><span class='ee-v'>65535</span></li><li><span class='ee-k'>min:</span><span class='ee-v'>0</span></li><li><span class='ee-k'>precision:</span><span class='ee-v'>double</span></li></ul></li><li><label class='ee-shut'>dimensions: [1, 1]<input type='checkbox' class='ee-toggle'></label><ul><li><span class='ee-k'>0:</span><span class='ee-v'>1</span></li><li><span class='ee-k'>1:</span><span class='ee-v'>1</span></li></ul></li><li><label class='ee-shut'>origin: [-123, 37]<input type='checkbox' class='ee-toggle'></label><ul><li><span class='ee-k'>0:</span><span class='ee-v'>-123</span></li><li><span class='ee-k'>1:</span><span class='ee-v'>37</span></li></ul></li></ul></li><li><label class='ee-shut'>8: \"B8A\", double, EPSG:4326, 1x1 px<input type='checkbox' class='ee-toggle'></label><ul><li><span class='ee-k'>id:</span><span class='ee-v'>B8A</span></li><li><span class='ee-k'>crs:</span><span class='ee-v'>EPSG:4326</span></li><li><label class='ee-shut'>crs_transform: [1, 0, 0, 0, 1, 0]<input type='checkbox' class='ee-toggle'></label><ul><li><span class='ee-k'>0:</span><span class='ee-v'>1</span></li><li><span class='ee-k'>1:</span><span class='ee-v'>0</span></li><li><span class='ee-k'>2:</span><span class='ee-v'>0</span></li><li><span class='ee-k'>3:</span><span class='ee-v'>0</span></li><li><span class='ee-k'>4:</span><span class='ee-v'>1</span></li><li><span class='ee-k'>5:</span><span class='ee-v'>0</span></li></ul></li><li><label class='ee-shut'>data_type: double<input type='checkbox' class='ee-toggle'></label><ul><li><span class='ee-k'>type:</span><span class='ee-v'>PixelType</span></li><li><span class='ee-k'>max:</span><span class='ee-v'>65535</span></li><li><span class='ee-k'>min:</span><span class='ee-v'>0</span></li><li><span class='ee-k'>precision:</span><span class='ee-v'>double</span></li></ul></li><li><label class='ee-shut'>dimensions: [1, 1]<input type='checkbox' class='ee-toggle'></label><ul><li><span class='ee-k'>0:</span><span class='ee-v'>1</span></li><li><span class='ee-k'>1:</span><span class='ee-v'>1</span></li></ul></li><li><label class='ee-shut'>origin: [-123, 37]<input type='checkbox' class='ee-toggle'></label><ul><li><span class='ee-k'>0:</span><span class='ee-v'>-123</span></li><li><span class='ee-k'>1:</span><span class='ee-v'>37</span></li></ul></li></ul></li><li><label class='ee-shut'>9: \"B9\", double, EPSG:4326, 1x1 px<input type='checkbox' class='ee-toggle'></label><ul><li><span class='ee-k'>id:</span><span class='ee-v'>B9</span></li><li><span class='ee-k'>crs:</span><span class='ee-v'>EPSG:4326</span></li><li><label class='ee-shut'>crs_transform: [1, 0, 0, 0, 1, 0]<input type='checkbox' class='ee-toggle'></label><ul><li><span class='ee-k'>0:</span><span class='ee-v'>1</span></li><li><span class='ee-k'>1:</span><span class='ee-v'>0</span></li><li><span class='ee-k'>2:</span><span class='ee-v'>0</span></li><li><span class='ee-k'>3:</span><span class='ee-v'>0</span></li><li><span class='ee-k'>4:</span><span class='ee-v'>1</span></li><li><span class='ee-k'>5:</span><span class='ee-v'>0</span></li></ul></li><li><label class='ee-shut'>data_type: double<input type='checkbox' class='ee-toggle'></label><ul><li><span class='ee-k'>type:</span><span class='ee-v'>PixelType</span></li><li><span class='ee-k'>max:</span><span class='ee-v'>65535</span></li><li><span class='ee-k'>min:</span><span class='ee-v'>0</span></li><li><span class='ee-k'>precision:</span><span class='ee-v'>double</span></li></ul></li><li><label class='ee-shut'>dimensions: [1, 1]<input type='checkbox' class='ee-toggle'></label><ul><li><span class='ee-k'>0:</span><span class='ee-v'>1</span></li><li><span class='ee-k'>1:</span><span class='ee-v'>1</span></li></ul></li><li><label class='ee-shut'>origin: [-123, 37]<input type='checkbox' class='ee-toggle'></label><ul><li><span class='ee-k'>0:</span><span class='ee-v'>-123</span></li><li><span class='ee-k'>1:</span><span class='ee-v'>37</span></li></ul></li></ul></li><li><label class='ee-shut'>10: \"B10\", double, EPSG:4326, 1x1 px<input type='checkbox' class='ee-toggle'></label><ul><li><span class='ee-k'>id:</span><span class='ee-v'>B10</span></li><li><span class='ee-k'>crs:</span><span class='ee-v'>EPSG:4326</span></li><li><label class='ee-shut'>crs_transform: [1, 0, 0, 0, 1, 0]<input type='checkbox' class='ee-toggle'></label><ul><li><span class='ee-k'>0:</span><span class='ee-v'>1</span></li><li><span class='ee-k'>1:</span><span class='ee-v'>0</span></li><li><span class='ee-k'>2:</span><span class='ee-v'>0</span></li><li><span class='ee-k'>3:</span><span class='ee-v'>0</span></li><li><span class='ee-k'>4:</span><span class='ee-v'>1</span></li><li><span class='ee-k'>5:</span><span class='ee-v'>0</span></li></ul></li><li><label class='ee-shut'>data_type: double<input type='checkbox' class='ee-toggle'></label><ul><li><span class='ee-k'>type:</span><span class='ee-v'>PixelType</span></li><li><span class='ee-k'>max:</span><span class='ee-v'>65535</span></li><li><span class='ee-k'>min:</span><span class='ee-v'>0</span></li><li><span class='ee-k'>precision:</span><span class='ee-v'>double</span></li></ul></li><li><label class='ee-shut'>dimensions: [1, 1]<input type='checkbox' class='ee-toggle'></label><ul><li><span class='ee-k'>0:</span><span class='ee-v'>1</span></li><li><span class='ee-k'>1:</span><span class='ee-v'>1</span></li></ul></li><li><label class='ee-shut'>origin: [-123, 37]<input type='checkbox' class='ee-toggle'></label><ul><li><span class='ee-k'>0:</span><span class='ee-v'>-123</span></li><li><span class='ee-k'>1:</span><span class='ee-v'>37</span></li></ul></li></ul></li><li><label class='ee-shut'>11: \"B11\", double, EPSG:4326, 1x1 px<input type='checkbox' class='ee-toggle'></label><ul><li><span class='ee-k'>id:</span><span class='ee-v'>B11</span></li><li><span class='ee-k'>crs:</span><span class='ee-v'>EPSG:4326</span></li><li><label class='ee-shut'>crs_transform: [1, 0, 0, 0, 1, 0]<input type='checkbox' class='ee-toggle'></label><ul><li><span class='ee-k'>0:</span><span class='ee-v'>1</span></li><li><span class='ee-k'>1:</span><span class='ee-v'>0</span></li><li><span class='ee-k'>2:</span><span class='ee-v'>0</span></li><li><span class='ee-k'>3:</span><span class='ee-v'>0</span></li><li><span class='ee-k'>4:</span><span class='ee-v'>1</span></li><li><span class='ee-k'>5:</span><span class='ee-v'>0</span></li></ul></li><li><label class='ee-shut'>data_type: double<input type='checkbox' class='ee-toggle'></label><ul><li><span class='ee-k'>type:</span><span class='ee-v'>PixelType</span></li><li><span class='ee-k'>max:</span><span class='ee-v'>65535</span></li><li><span class='ee-k'>min:</span><span class='ee-v'>0</span></li><li><span class='ee-k'>precision:</span><span class='ee-v'>double</span></li></ul></li><li><label class='ee-shut'>dimensions: [1, 1]<input type='checkbox' class='ee-toggle'></label><ul><li><span class='ee-k'>0:</span><span class='ee-v'>1</span></li><li><span class='ee-k'>1:</span><span class='ee-v'>1</span></li></ul></li><li><label class='ee-shut'>origin: [-123, 37]<input type='checkbox' class='ee-toggle'></label><ul><li><span class='ee-k'>0:</span><span class='ee-v'>-123</span></li><li><span class='ee-k'>1:</span><span class='ee-v'>37</span></li></ul></li></ul></li><li><label class='ee-shut'>12: \"B12\", double, EPSG:4326, 1x1 px<input type='checkbox' class='ee-toggle'></label><ul><li><span class='ee-k'>id:</span><span class='ee-v'>B12</span></li><li><span class='ee-k'>crs:</span><span class='ee-v'>EPSG:4326</span></li><li><label class='ee-shut'>crs_transform: [1, 0, 0, 0, 1, 0]<input type='checkbox' class='ee-toggle'></label><ul><li><span class='ee-k'>0:</span><span class='ee-v'>1</span></li><li><span class='ee-k'>1:</span><span class='ee-v'>0</span></li><li><span class='ee-k'>2:</span><span class='ee-v'>0</span></li><li><span class='ee-k'>3:</span><span class='ee-v'>0</span></li><li><span class='ee-k'>4:</span><span class='ee-v'>1</span></li><li><span class='ee-k'>5:</span><span class='ee-v'>0</span></li></ul></li><li><label class='ee-shut'>data_type: double<input type='checkbox' class='ee-toggle'></label><ul><li><span class='ee-k'>type:</span><span class='ee-v'>PixelType</span></li><li><span class='ee-k'>max:</span><span class='ee-v'>65535</span></li><li><span class='ee-k'>min:</span><span class='ee-v'>0</span></li><li><span class='ee-k'>precision:</span><span class='ee-v'>double</span></li></ul></li><li><label class='ee-shut'>dimensions: [1, 1]<input type='checkbox' class='ee-toggle'></label><ul><li><span class='ee-k'>0:</span><span class='ee-v'>1</span></li><li><span class='ee-k'>1:</span><span class='ee-v'>1</span></li></ul></li><li><label class='ee-shut'>origin: [-123, 37]<input type='checkbox' class='ee-toggle'></label><ul><li><span class='ee-k'>0:</span><span class='ee-v'>-123</span></li><li><span class='ee-k'>1:</span><span class='ee-v'>37</span></li></ul></li></ul></li><li><label class='ee-shut'>13: \"QA10\", double, EPSG:4326, 1x1 px<input type='checkbox' class='ee-toggle'></label><ul><li><span class='ee-k'>id:</span><span class='ee-v'>QA10</span></li><li><span class='ee-k'>crs:</span><span class='ee-v'>EPSG:4326</span></li><li><label class='ee-shut'>crs_transform: [1, 0, 0, 0, 1, 0]<input type='checkbox' class='ee-toggle'></label><ul><li><span class='ee-k'>0:</span><span class='ee-v'>1</span></li><li><span class='ee-k'>1:</span><span class='ee-v'>0</span></li><li><span class='ee-k'>2:</span><span class='ee-v'>0</span></li><li><span class='ee-k'>3:</span><span class='ee-v'>0</span></li><li><span class='ee-k'>4:</span><span class='ee-v'>1</span></li><li><span class='ee-k'>5:</span><span class='ee-v'>0</span></li></ul></li><li><label class='ee-shut'>data_type: double<input type='checkbox' class='ee-toggle'></label><ul><li><span class='ee-k'>type:</span><span class='ee-v'>PixelType</span></li><li><span class='ee-k'>max:</span><span class='ee-v'>65535</span></li><li><span class='ee-k'>min:</span><span class='ee-v'>0</span></li><li><span class='ee-k'>precision:</span><span class='ee-v'>double</span></li></ul></li><li><label class='ee-shut'>dimensions: [1, 1]<input type='checkbox' class='ee-toggle'></label><ul><li><span class='ee-k'>0:</span><span class='ee-v'>1</span></li><li><span class='ee-k'>1:</span><span class='ee-v'>1</span></li></ul></li><li><label class='ee-shut'>origin: [-123, 37]<input type='checkbox' class='ee-toggle'></label><ul><li><span class='ee-k'>0:</span><span class='ee-v'>-123</span></li><li><span class='ee-k'>1:</span><span class='ee-v'>37</span></li></ul></li></ul></li><li><label class='ee-shut'>14: \"QA20\", double, EPSG:4326, 1x1 px<input type='checkbox' class='ee-toggle'></label><ul><li><span class='ee-k'>id:</span><span class='ee-v'>QA20</span></li><li><span class='ee-k'>crs:</span><span class='ee-v'>EPSG:4326</span></li><li><label class='ee-shut'>crs_transform: [1, 0, 0, 0, 1, 0]<input type='checkbox' class='ee-toggle'></label><ul><li><span class='ee-k'>0:</span><span class='ee-v'>1</span></li><li><span class='ee-k'>1:</span><span class='ee-v'>0</span></li><li><span class='ee-k'>2:</span><span class='ee-v'>0</span></li><li><span class='ee-k'>3:</span><span class='ee-v'>0</span></li><li><span class='ee-k'>4:</span><span class='ee-v'>1</span></li><li><span class='ee-k'>5:</span><span class='ee-v'>0</span></li></ul></li><li><label class='ee-shut'>data_type: double<input type='checkbox' class='ee-toggle'></label><ul><li><span class='ee-k'>type:</span><span class='ee-v'>PixelType</span></li><li><span class='ee-k'>max:</span><span class='ee-v'>4294967295</span></li><li><span class='ee-k'>min:</span><span class='ee-v'>0</span></li><li><span class='ee-k'>precision:</span><span class='ee-v'>double</span></li></ul></li><li><label class='ee-shut'>dimensions: [1, 1]<input type='checkbox' class='ee-toggle'></label><ul><li><span class='ee-k'>0:</span><span class='ee-v'>1</span></li><li><span class='ee-k'>1:</span><span class='ee-v'>1</span></li></ul></li><li><label class='ee-shut'>origin: [-123, 37]<input type='checkbox' class='ee-toggle'></label><ul><li><span class='ee-k'>0:</span><span class='ee-v'>-123</span></li><li><span class='ee-k'>1:</span><span class='ee-v'>37</span></li></ul></li></ul></li><li><label class='ee-shut'>15: \"QA60\", double, EPSG:4326, 1x1 px<input type='checkbox' class='ee-toggle'></label><ul><li><span class='ee-k'>id:</span><span class='ee-v'>QA60</span></li><li><span class='ee-k'>crs:</span><span class='ee-v'>EPSG:4326</span></li><li><label class='ee-shut'>crs_transform: [1, 0, 0, 0, 1, 0]<input type='checkbox' class='ee-toggle'></label><ul><li><span class='ee-k'>0:</span><span class='ee-v'>1</span></li><li><span class='ee-k'>1:</span><span class='ee-v'>0</span></li><li><span class='ee-k'>2:</span><span class='ee-v'>0</span></li><li><span class='ee-k'>3:</span><span class='ee-v'>0</span></li><li><span class='ee-k'>4:</span><span class='ee-v'>1</span></li><li><span class='ee-k'>5:</span><span class='ee-v'>0</span></li></ul></li><li><label class='ee-shut'>data_type: double<input type='checkbox' class='ee-toggle'></label><ul><li><span class='ee-k'>type:</span><span class='ee-v'>PixelType</span></li><li><span class='ee-k'>max:</span><span class='ee-v'>65535</span></li><li><span class='ee-k'>min:</span><span class='ee-v'>0</span></li><li><span class='ee-k'>precision:</span><span class='ee-v'>double</span></li></ul></li><li><label class='ee-shut'>dimensions: [1, 1]<input type='checkbox' class='ee-toggle'></label><ul><li><span class='ee-k'>0:</span><span class='ee-v'>1</span></li><li><span class='ee-k'>1:</span><span class='ee-v'>1</span></li></ul></li><li><label class='ee-shut'>origin: [-123, 37]<input type='checkbox' class='ee-toggle'></label><ul><li><span class='ee-k'>0:</span><span class='ee-v'>-123</span></li><li><span class='ee-k'>1:</span><span class='ee-v'>37</span></li></ul></li></ul></li></ul></li><li><label class='ee-shut'>properties: Object (5 properties)<input type='checkbox' class='ee-toggle'></label><ul><li><span class='ee-k'>empty:</span><span class='ee-v'>0</span></li><li><span class='ee-k'>system:date:</span><span class='ee-v'>2021</span></li><li><label class='ee-shut'>system:footprint: Polygon (5 vertices)<input type='checkbox' class='ee-toggle'></label><ul><li><span class='ee-k'>type:</span><span class='ee-v'>Polygon</span></li><li><label class='ee-shut'>coordinates: List (1 element)<input type='checkbox' class='ee-toggle'></label><ul><li><label class='ee-shut'>0: List (5 elements)<input type='checkbox' class='ee-toggle'></label><ul><li><label class='ee-shut'>0: [-122.5549, 37.6968]<input type='checkbox' class='ee-toggle'></label><ul><li><span class='ee-k'>0:</span><span class='ee-v'>-122.5549</span></li><li><span class='ee-k'>1:</span><span class='ee-v'>37.6968</span></li></ul></li><li><label class='ee-shut'>1: [-122.34460000000001, 37.6968]<input type='checkbox' class='ee-toggle'></label><ul><li><span class='ee-k'>0:</span><span class='ee-v'>-122.34460000000001</span></li><li><span class='ee-k'>1:</span><span class='ee-v'>37.6968</span></li></ul></li><li><label class='ee-shut'>2: [-122.34460000000001, 37.8111]<input type='checkbox' class='ee-toggle'></label><ul><li><span class='ee-k'>0:</span><span class='ee-v'>-122.34460000000001</span></li><li><span class='ee-k'>1:</span><span class='ee-v'>37.8111</span></li></ul></li><li><label class='ee-shut'>3: [-122.5549, 37.8111]<input type='checkbox' class='ee-toggle'></label><ul><li><span class='ee-k'>0:</span><span class='ee-v'>-122.5549</span></li><li><span class='ee-k'>1:</span><span class='ee-v'>37.8111</span></li></ul></li><li><label class='ee-shut'>4: [-122.5549, 37.6968]<input type='checkbox' class='ee-toggle'></label><ul><li><span class='ee-k'>0:</span><span class='ee-v'>-122.5549</span></li><li><span class='ee-k'>1:</span><span class='ee-v'>37.6968</span></li></ul></li></ul></li></ul></li><li><span class='ee-k'>geodesic:</span><span class='ee-v'>False</span></li></ul></li><li><span class='ee-k'>system:index:</span><span class='ee-v'>5</span></li><li><span class='ee-k'>system:time_start:</span><span class='ee-v'>1609459200000</span></li></ul></li></ul></li><li><label class='ee-shut'>6: Image (16 bands)<input type='checkbox' class='ee-toggle'></label><ul><li><span class='ee-k'>type:</span><span class='ee-v'>Image</span></li><li><label class='ee-shut'>bands: List (16 elements)<input type='checkbox' class='ee-toggle'></label><ul><li><label class='ee-shut'>0: \"B1\", double, EPSG:4326, 1x1 px<input type='checkbox' class='ee-toggle'></label><ul><li><span class='ee-k'>id:</span><span class='ee-v'>B1</span></li><li><span class='ee-k'>crs:</span><span class='ee-v'>EPSG:4326</span></li><li><label class='ee-shut'>crs_transform: [1, 0, 0, 0, 1, 0]<input type='checkbox' class='ee-toggle'></label><ul><li><span class='ee-k'>0:</span><span class='ee-v'>1</span></li><li><span class='ee-k'>1:</span><span class='ee-v'>0</span></li><li><span class='ee-k'>2:</span><span class='ee-v'>0</span></li><li><span class='ee-k'>3:</span><span class='ee-v'>0</span></li><li><span class='ee-k'>4:</span><span class='ee-v'>1</span></li><li><span class='ee-k'>5:</span><span class='ee-v'>0</span></li></ul></li><li><label class='ee-shut'>data_type: double<input type='checkbox' class='ee-toggle'></label><ul><li><span class='ee-k'>type:</span><span class='ee-v'>PixelType</span></li><li><span class='ee-k'>max:</span><span class='ee-v'>65535</span></li><li><span class='ee-k'>min:</span><span class='ee-v'>0</span></li><li><span class='ee-k'>precision:</span><span class='ee-v'>double</span></li></ul></li><li><label class='ee-shut'>dimensions: [1, 1]<input type='checkbox' class='ee-toggle'></label><ul><li><span class='ee-k'>0:</span><span class='ee-v'>1</span></li><li><span class='ee-k'>1:</span><span class='ee-v'>1</span></li></ul></li><li><label class='ee-shut'>origin: [-123, 37]<input type='checkbox' class='ee-toggle'></label><ul><li><span class='ee-k'>0:</span><span class='ee-v'>-123</span></li><li><span class='ee-k'>1:</span><span class='ee-v'>37</span></li></ul></li></ul></li><li><label class='ee-shut'>1: \"B2\", double, EPSG:4326, 1x1 px<input type='checkbox' class='ee-toggle'></label><ul><li><span class='ee-k'>id:</span><span class='ee-v'>B2</span></li><li><span class='ee-k'>crs:</span><span class='ee-v'>EPSG:4326</span></li><li><label class='ee-shut'>crs_transform: [1, 0, 0, 0, 1, 0]<input type='checkbox' class='ee-toggle'></label><ul><li><span class='ee-k'>0:</span><span class='ee-v'>1</span></li><li><span class='ee-k'>1:</span><span class='ee-v'>0</span></li><li><span class='ee-k'>2:</span><span class='ee-v'>0</span></li><li><span class='ee-k'>3:</span><span class='ee-v'>0</span></li><li><span class='ee-k'>4:</span><span class='ee-v'>1</span></li><li><span class='ee-k'>5:</span><span class='ee-v'>0</span></li></ul></li><li><label class='ee-shut'>data_type: double<input type='checkbox' class='ee-toggle'></label><ul><li><span class='ee-k'>type:</span><span class='ee-v'>PixelType</span></li><li><span class='ee-k'>max:</span><span class='ee-v'>65535</span></li><li><span class='ee-k'>min:</span><span class='ee-v'>0</span></li><li><span class='ee-k'>precision:</span><span class='ee-v'>double</span></li></ul></li><li><label class='ee-shut'>dimensions: [1, 1]<input type='checkbox' class='ee-toggle'></label><ul><li><span class='ee-k'>0:</span><span class='ee-v'>1</span></li><li><span class='ee-k'>1:</span><span class='ee-v'>1</span></li></ul></li><li><label class='ee-shut'>origin: [-123, 37]<input type='checkbox' class='ee-toggle'></label><ul><li><span class='ee-k'>0:</span><span class='ee-v'>-123</span></li><li><span class='ee-k'>1:</span><span class='ee-v'>37</span></li></ul></li></ul></li><li><label class='ee-shut'>2: \"B3\", double, EPSG:4326, 1x1 px<input type='checkbox' class='ee-toggle'></label><ul><li><span class='ee-k'>id:</span><span class='ee-v'>B3</span></li><li><span class='ee-k'>crs:</span><span class='ee-v'>EPSG:4326</span></li><li><label class='ee-shut'>crs_transform: [1, 0, 0, 0, 1, 0]<input type='checkbox' class='ee-toggle'></label><ul><li><span class='ee-k'>0:</span><span class='ee-v'>1</span></li><li><span class='ee-k'>1:</span><span class='ee-v'>0</span></li><li><span class='ee-k'>2:</span><span class='ee-v'>0</span></li><li><span class='ee-k'>3:</span><span class='ee-v'>0</span></li><li><span class='ee-k'>4:</span><span class='ee-v'>1</span></li><li><span class='ee-k'>5:</span><span class='ee-v'>0</span></li></ul></li><li><label class='ee-shut'>data_type: double<input type='checkbox' class='ee-toggle'></label><ul><li><span class='ee-k'>type:</span><span class='ee-v'>PixelType</span></li><li><span class='ee-k'>max:</span><span class='ee-v'>65535</span></li><li><span class='ee-k'>min:</span><span class='ee-v'>0</span></li><li><span class='ee-k'>precision:</span><span class='ee-v'>double</span></li></ul></li><li><label class='ee-shut'>dimensions: [1, 1]<input type='checkbox' class='ee-toggle'></label><ul><li><span class='ee-k'>0:</span><span class='ee-v'>1</span></li><li><span class='ee-k'>1:</span><span class='ee-v'>1</span></li></ul></li><li><label class='ee-shut'>origin: [-123, 37]<input type='checkbox' class='ee-toggle'></label><ul><li><span class='ee-k'>0:</span><span class='ee-v'>-123</span></li><li><span class='ee-k'>1:</span><span class='ee-v'>37</span></li></ul></li></ul></li><li><label class='ee-shut'>3: \"B4\", double, EPSG:4326, 1x1 px<input type='checkbox' class='ee-toggle'></label><ul><li><span class='ee-k'>id:</span><span class='ee-v'>B4</span></li><li><span class='ee-k'>crs:</span><span class='ee-v'>EPSG:4326</span></li><li><label class='ee-shut'>crs_transform: [1, 0, 0, 0, 1, 0]<input type='checkbox' class='ee-toggle'></label><ul><li><span class='ee-k'>0:</span><span class='ee-v'>1</span></li><li><span class='ee-k'>1:</span><span class='ee-v'>0</span></li><li><span class='ee-k'>2:</span><span class='ee-v'>0</span></li><li><span class='ee-k'>3:</span><span class='ee-v'>0</span></li><li><span class='ee-k'>4:</span><span class='ee-v'>1</span></li><li><span class='ee-k'>5:</span><span class='ee-v'>0</span></li></ul></li><li><label class='ee-shut'>data_type: double<input type='checkbox' class='ee-toggle'></label><ul><li><span class='ee-k'>type:</span><span class='ee-v'>PixelType</span></li><li><span class='ee-k'>max:</span><span class='ee-v'>65535</span></li><li><span class='ee-k'>min:</span><span class='ee-v'>0</span></li><li><span class='ee-k'>precision:</span><span class='ee-v'>double</span></li></ul></li><li><label class='ee-shut'>dimensions: [1, 1]<input type='checkbox' class='ee-toggle'></label><ul><li><span class='ee-k'>0:</span><span class='ee-v'>1</span></li><li><span class='ee-k'>1:</span><span class='ee-v'>1</span></li></ul></li><li><label class='ee-shut'>origin: [-123, 37]<input type='checkbox' class='ee-toggle'></label><ul><li><span class='ee-k'>0:</span><span class='ee-v'>-123</span></li><li><span class='ee-k'>1:</span><span class='ee-v'>37</span></li></ul></li></ul></li><li><label class='ee-shut'>4: \"B5\", double, EPSG:4326, 1x1 px<input type='checkbox' class='ee-toggle'></label><ul><li><span class='ee-k'>id:</span><span class='ee-v'>B5</span></li><li><span class='ee-k'>crs:</span><span class='ee-v'>EPSG:4326</span></li><li><label class='ee-shut'>crs_transform: [1, 0, 0, 0, 1, 0]<input type='checkbox' class='ee-toggle'></label><ul><li><span class='ee-k'>0:</span><span class='ee-v'>1</span></li><li><span class='ee-k'>1:</span><span class='ee-v'>0</span></li><li><span class='ee-k'>2:</span><span class='ee-v'>0</span></li><li><span class='ee-k'>3:</span><span class='ee-v'>0</span></li><li><span class='ee-k'>4:</span><span class='ee-v'>1</span></li><li><span class='ee-k'>5:</span><span class='ee-v'>0</span></li></ul></li><li><label class='ee-shut'>data_type: double<input type='checkbox' class='ee-toggle'></label><ul><li><span class='ee-k'>type:</span><span class='ee-v'>PixelType</span></li><li><span class='ee-k'>max:</span><span class='ee-v'>65535</span></li><li><span class='ee-k'>min:</span><span class='ee-v'>0</span></li><li><span class='ee-k'>precision:</span><span class='ee-v'>double</span></li></ul></li><li><label class='ee-shut'>dimensions: [1, 1]<input type='checkbox' class='ee-toggle'></label><ul><li><span class='ee-k'>0:</span><span class='ee-v'>1</span></li><li><span class='ee-k'>1:</span><span class='ee-v'>1</span></li></ul></li><li><label class='ee-shut'>origin: [-123, 37]<input type='checkbox' class='ee-toggle'></label><ul><li><span class='ee-k'>0:</span><span class='ee-v'>-123</span></li><li><span class='ee-k'>1:</span><span class='ee-v'>37</span></li></ul></li></ul></li><li><label class='ee-shut'>5: \"B6\", double, EPSG:4326, 1x1 px<input type='checkbox' class='ee-toggle'></label><ul><li><span class='ee-k'>id:</span><span class='ee-v'>B6</span></li><li><span class='ee-k'>crs:</span><span class='ee-v'>EPSG:4326</span></li><li><label class='ee-shut'>crs_transform: [1, 0, 0, 0, 1, 0]<input type='checkbox' class='ee-toggle'></label><ul><li><span class='ee-k'>0:</span><span class='ee-v'>1</span></li><li><span class='ee-k'>1:</span><span class='ee-v'>0</span></li><li><span class='ee-k'>2:</span><span class='ee-v'>0</span></li><li><span class='ee-k'>3:</span><span class='ee-v'>0</span></li><li><span class='ee-k'>4:</span><span class='ee-v'>1</span></li><li><span class='ee-k'>5:</span><span class='ee-v'>0</span></li></ul></li><li><label class='ee-shut'>data_type: double<input type='checkbox' class='ee-toggle'></label><ul><li><span class='ee-k'>type:</span><span class='ee-v'>PixelType</span></li><li><span class='ee-k'>max:</span><span class='ee-v'>65535</span></li><li><span class='ee-k'>min:</span><span class='ee-v'>0</span></li><li><span class='ee-k'>precision:</span><span class='ee-v'>double</span></li></ul></li><li><label class='ee-shut'>dimensions: [1, 1]<input type='checkbox' class='ee-toggle'></label><ul><li><span class='ee-k'>0:</span><span class='ee-v'>1</span></li><li><span class='ee-k'>1:</span><span class='ee-v'>1</span></li></ul></li><li><label class='ee-shut'>origin: [-123, 37]<input type='checkbox' class='ee-toggle'></label><ul><li><span class='ee-k'>0:</span><span class='ee-v'>-123</span></li><li><span class='ee-k'>1:</span><span class='ee-v'>37</span></li></ul></li></ul></li><li><label class='ee-shut'>6: \"B7\", double, EPSG:4326, 1x1 px<input type='checkbox' class='ee-toggle'></label><ul><li><span class='ee-k'>id:</span><span class='ee-v'>B7</span></li><li><span class='ee-k'>crs:</span><span class='ee-v'>EPSG:4326</span></li><li><label class='ee-shut'>crs_transform: [1, 0, 0, 0, 1, 0]<input type='checkbox' class='ee-toggle'></label><ul><li><span class='ee-k'>0:</span><span class='ee-v'>1</span></li><li><span class='ee-k'>1:</span><span class='ee-v'>0</span></li><li><span class='ee-k'>2:</span><span class='ee-v'>0</span></li><li><span class='ee-k'>3:</span><span class='ee-v'>0</span></li><li><span class='ee-k'>4:</span><span class='ee-v'>1</span></li><li><span class='ee-k'>5:</span><span class='ee-v'>0</span></li></ul></li><li><label class='ee-shut'>data_type: double<input type='checkbox' class='ee-toggle'></label><ul><li><span class='ee-k'>type:</span><span class='ee-v'>PixelType</span></li><li><span class='ee-k'>max:</span><span class='ee-v'>65535</span></li><li><span class='ee-k'>min:</span><span class='ee-v'>0</span></li><li><span class='ee-k'>precision:</span><span class='ee-v'>double</span></li></ul></li><li><label class='ee-shut'>dimensions: [1, 1]<input type='checkbox' class='ee-toggle'></label><ul><li><span class='ee-k'>0:</span><span class='ee-v'>1</span></li><li><span class='ee-k'>1:</span><span class='ee-v'>1</span></li></ul></li><li><label class='ee-shut'>origin: [-123, 37]<input type='checkbox' class='ee-toggle'></label><ul><li><span class='ee-k'>0:</span><span class='ee-v'>-123</span></li><li><span class='ee-k'>1:</span><span class='ee-v'>37</span></li></ul></li></ul></li><li><label class='ee-shut'>7: \"B8\", double, EPSG:4326, 1x1 px<input type='checkbox' class='ee-toggle'></label><ul><li><span class='ee-k'>id:</span><span class='ee-v'>B8</span></li><li><span class='ee-k'>crs:</span><span class='ee-v'>EPSG:4326</span></li><li><label class='ee-shut'>crs_transform: [1, 0, 0, 0, 1, 0]<input type='checkbox' class='ee-toggle'></label><ul><li><span class='ee-k'>0:</span><span class='ee-v'>1</span></li><li><span class='ee-k'>1:</span><span class='ee-v'>0</span></li><li><span class='ee-k'>2:</span><span class='ee-v'>0</span></li><li><span class='ee-k'>3:</span><span class='ee-v'>0</span></li><li><span class='ee-k'>4:</span><span class='ee-v'>1</span></li><li><span class='ee-k'>5:</span><span class='ee-v'>0</span></li></ul></li><li><label class='ee-shut'>data_type: double<input type='checkbox' class='ee-toggle'></label><ul><li><span class='ee-k'>type:</span><span class='ee-v'>PixelType</span></li><li><span class='ee-k'>max:</span><span class='ee-v'>65535</span></li><li><span class='ee-k'>min:</span><span class='ee-v'>0</span></li><li><span class='ee-k'>precision:</span><span class='ee-v'>double</span></li></ul></li><li><label class='ee-shut'>dimensions: [1, 1]<input type='checkbox' class='ee-toggle'></label><ul><li><span class='ee-k'>0:</span><span class='ee-v'>1</span></li><li><span class='ee-k'>1:</span><span class='ee-v'>1</span></li></ul></li><li><label class='ee-shut'>origin: [-123, 37]<input type='checkbox' class='ee-toggle'></label><ul><li><span class='ee-k'>0:</span><span class='ee-v'>-123</span></li><li><span class='ee-k'>1:</span><span class='ee-v'>37</span></li></ul></li></ul></li><li><label class='ee-shut'>8: \"B8A\", double, EPSG:4326, 1x1 px<input type='checkbox' class='ee-toggle'></label><ul><li><span class='ee-k'>id:</span><span class='ee-v'>B8A</span></li><li><span class='ee-k'>crs:</span><span class='ee-v'>EPSG:4326</span></li><li><label class='ee-shut'>crs_transform: [1, 0, 0, 0, 1, 0]<input type='checkbox' class='ee-toggle'></label><ul><li><span class='ee-k'>0:</span><span class='ee-v'>1</span></li><li><span class='ee-k'>1:</span><span class='ee-v'>0</span></li><li><span class='ee-k'>2:</span><span class='ee-v'>0</span></li><li><span class='ee-k'>3:</span><span class='ee-v'>0</span></li><li><span class='ee-k'>4:</span><span class='ee-v'>1</span></li><li><span class='ee-k'>5:</span><span class='ee-v'>0</span></li></ul></li><li><label class='ee-shut'>data_type: double<input type='checkbox' class='ee-toggle'></label><ul><li><span class='ee-k'>type:</span><span class='ee-v'>PixelType</span></li><li><span class='ee-k'>max:</span><span class='ee-v'>65535</span></li><li><span class='ee-k'>min:</span><span class='ee-v'>0</span></li><li><span class='ee-k'>precision:</span><span class='ee-v'>double</span></li></ul></li><li><label class='ee-shut'>dimensions: [1, 1]<input type='checkbox' class='ee-toggle'></label><ul><li><span class='ee-k'>0:</span><span class='ee-v'>1</span></li><li><span class='ee-k'>1:</span><span class='ee-v'>1</span></li></ul></li><li><label class='ee-shut'>origin: [-123, 37]<input type='checkbox' class='ee-toggle'></label><ul><li><span class='ee-k'>0:</span><span class='ee-v'>-123</span></li><li><span class='ee-k'>1:</span><span class='ee-v'>37</span></li></ul></li></ul></li><li><label class='ee-shut'>9: \"B9\", double, EPSG:4326, 1x1 px<input type='checkbox' class='ee-toggle'></label><ul><li><span class='ee-k'>id:</span><span class='ee-v'>B9</span></li><li><span class='ee-k'>crs:</span><span class='ee-v'>EPSG:4326</span></li><li><label class='ee-shut'>crs_transform: [1, 0, 0, 0, 1, 0]<input type='checkbox' class='ee-toggle'></label><ul><li><span class='ee-k'>0:</span><span class='ee-v'>1</span></li><li><span class='ee-k'>1:</span><span class='ee-v'>0</span></li><li><span class='ee-k'>2:</span><span class='ee-v'>0</span></li><li><span class='ee-k'>3:</span><span class='ee-v'>0</span></li><li><span class='ee-k'>4:</span><span class='ee-v'>1</span></li><li><span class='ee-k'>5:</span><span class='ee-v'>0</span></li></ul></li><li><label class='ee-shut'>data_type: double<input type='checkbox' class='ee-toggle'></label><ul><li><span class='ee-k'>type:</span><span class='ee-v'>PixelType</span></li><li><span class='ee-k'>max:</span><span class='ee-v'>65535</span></li><li><span class='ee-k'>min:</span><span class='ee-v'>0</span></li><li><span class='ee-k'>precision:</span><span class='ee-v'>double</span></li></ul></li><li><label class='ee-shut'>dimensions: [1, 1]<input type='checkbox' class='ee-toggle'></label><ul><li><span class='ee-k'>0:</span><span class='ee-v'>1</span></li><li><span class='ee-k'>1:</span><span class='ee-v'>1</span></li></ul></li><li><label class='ee-shut'>origin: [-123, 37]<input type='checkbox' class='ee-toggle'></label><ul><li><span class='ee-k'>0:</span><span class='ee-v'>-123</span></li><li><span class='ee-k'>1:</span><span class='ee-v'>37</span></li></ul></li></ul></li><li><label class='ee-shut'>10: \"B10\", double, EPSG:4326, 1x1 px<input type='checkbox' class='ee-toggle'></label><ul><li><span class='ee-k'>id:</span><span class='ee-v'>B10</span></li><li><span class='ee-k'>crs:</span><span class='ee-v'>EPSG:4326</span></li><li><label class='ee-shut'>crs_transform: [1, 0, 0, 0, 1, 0]<input type='checkbox' class='ee-toggle'></label><ul><li><span class='ee-k'>0:</span><span class='ee-v'>1</span></li><li><span class='ee-k'>1:</span><span class='ee-v'>0</span></li><li><span class='ee-k'>2:</span><span class='ee-v'>0</span></li><li><span class='ee-k'>3:</span><span class='ee-v'>0</span></li><li><span class='ee-k'>4:</span><span class='ee-v'>1</span></li><li><span class='ee-k'>5:</span><span class='ee-v'>0</span></li></ul></li><li><label class='ee-shut'>data_type: double<input type='checkbox' class='ee-toggle'></label><ul><li><span class='ee-k'>type:</span><span class='ee-v'>PixelType</span></li><li><span class='ee-k'>max:</span><span class='ee-v'>65535</span></li><li><span class='ee-k'>min:</span><span class='ee-v'>0</span></li><li><span class='ee-k'>precision:</span><span class='ee-v'>double</span></li></ul></li><li><label class='ee-shut'>dimensions: [1, 1]<input type='checkbox' class='ee-toggle'></label><ul><li><span class='ee-k'>0:</span><span class='ee-v'>1</span></li><li><span class='ee-k'>1:</span><span class='ee-v'>1</span></li></ul></li><li><label class='ee-shut'>origin: [-123, 37]<input type='checkbox' class='ee-toggle'></label><ul><li><span class='ee-k'>0:</span><span class='ee-v'>-123</span></li><li><span class='ee-k'>1:</span><span class='ee-v'>37</span></li></ul></li></ul></li><li><label class='ee-shut'>11: \"B11\", double, EPSG:4326, 1x1 px<input type='checkbox' class='ee-toggle'></label><ul><li><span class='ee-k'>id:</span><span class='ee-v'>B11</span></li><li><span class='ee-k'>crs:</span><span class='ee-v'>EPSG:4326</span></li><li><label class='ee-shut'>crs_transform: [1, 0, 0, 0, 1, 0]<input type='checkbox' class='ee-toggle'></label><ul><li><span class='ee-k'>0:</span><span class='ee-v'>1</span></li><li><span class='ee-k'>1:</span><span class='ee-v'>0</span></li><li><span class='ee-k'>2:</span><span class='ee-v'>0</span></li><li><span class='ee-k'>3:</span><span class='ee-v'>0</span></li><li><span class='ee-k'>4:</span><span class='ee-v'>1</span></li><li><span class='ee-k'>5:</span><span class='ee-v'>0</span></li></ul></li><li><label class='ee-shut'>data_type: double<input type='checkbox' class='ee-toggle'></label><ul><li><span class='ee-k'>type:</span><span class='ee-v'>PixelType</span></li><li><span class='ee-k'>max:</span><span class='ee-v'>65535</span></li><li><span class='ee-k'>min:</span><span class='ee-v'>0</span></li><li><span class='ee-k'>precision:</span><span class='ee-v'>double</span></li></ul></li><li><label class='ee-shut'>dimensions: [1, 1]<input type='checkbox' class='ee-toggle'></label><ul><li><span class='ee-k'>0:</span><span class='ee-v'>1</span></li><li><span class='ee-k'>1:</span><span class='ee-v'>1</span></li></ul></li><li><label class='ee-shut'>origin: [-123, 37]<input type='checkbox' class='ee-toggle'></label><ul><li><span class='ee-k'>0:</span><span class='ee-v'>-123</span></li><li><span class='ee-k'>1:</span><span class='ee-v'>37</span></li></ul></li></ul></li><li><label class='ee-shut'>12: \"B12\", double, EPSG:4326, 1x1 px<input type='checkbox' class='ee-toggle'></label><ul><li><span class='ee-k'>id:</span><span class='ee-v'>B12</span></li><li><span class='ee-k'>crs:</span><span class='ee-v'>EPSG:4326</span></li><li><label class='ee-shut'>crs_transform: [1, 0, 0, 0, 1, 0]<input type='checkbox' class='ee-toggle'></label><ul><li><span class='ee-k'>0:</span><span class='ee-v'>1</span></li><li><span class='ee-k'>1:</span><span class='ee-v'>0</span></li><li><span class='ee-k'>2:</span><span class='ee-v'>0</span></li><li><span class='ee-k'>3:</span><span class='ee-v'>0</span></li><li><span class='ee-k'>4:</span><span class='ee-v'>1</span></li><li><span class='ee-k'>5:</span><span class='ee-v'>0</span></li></ul></li><li><label class='ee-shut'>data_type: double<input type='checkbox' class='ee-toggle'></label><ul><li><span class='ee-k'>type:</span><span class='ee-v'>PixelType</span></li><li><span class='ee-k'>max:</span><span class='ee-v'>65535</span></li><li><span class='ee-k'>min:</span><span class='ee-v'>0</span></li><li><span class='ee-k'>precision:</span><span class='ee-v'>double</span></li></ul></li><li><label class='ee-shut'>dimensions: [1, 1]<input type='checkbox' class='ee-toggle'></label><ul><li><span class='ee-k'>0:</span><span class='ee-v'>1</span></li><li><span class='ee-k'>1:</span><span class='ee-v'>1</span></li></ul></li><li><label class='ee-shut'>origin: [-123, 37]<input type='checkbox' class='ee-toggle'></label><ul><li><span class='ee-k'>0:</span><span class='ee-v'>-123</span></li><li><span class='ee-k'>1:</span><span class='ee-v'>37</span></li></ul></li></ul></li><li><label class='ee-shut'>13: \"QA10\", double, EPSG:4326, 1x1 px<input type='checkbox' class='ee-toggle'></label><ul><li><span class='ee-k'>id:</span><span class='ee-v'>QA10</span></li><li><span class='ee-k'>crs:</span><span class='ee-v'>EPSG:4326</span></li><li><label class='ee-shut'>crs_transform: [1, 0, 0, 0, 1, 0]<input type='checkbox' class='ee-toggle'></label><ul><li><span class='ee-k'>0:</span><span class='ee-v'>1</span></li><li><span class='ee-k'>1:</span><span class='ee-v'>0</span></li><li><span class='ee-k'>2:</span><span class='ee-v'>0</span></li><li><span class='ee-k'>3:</span><span class='ee-v'>0</span></li><li><span class='ee-k'>4:</span><span class='ee-v'>1</span></li><li><span class='ee-k'>5:</span><span class='ee-v'>0</span></li></ul></li><li><label class='ee-shut'>data_type: double<input type='checkbox' class='ee-toggle'></label><ul><li><span class='ee-k'>type:</span><span class='ee-v'>PixelType</span></li><li><span class='ee-k'>max:</span><span class='ee-v'>65535</span></li><li><span class='ee-k'>min:</span><span class='ee-v'>0</span></li><li><span class='ee-k'>precision:</span><span class='ee-v'>double</span></li></ul></li><li><label class='ee-shut'>dimensions: [1, 1]<input type='checkbox' class='ee-toggle'></label><ul><li><span class='ee-k'>0:</span><span class='ee-v'>1</span></li><li><span class='ee-k'>1:</span><span class='ee-v'>1</span></li></ul></li><li><label class='ee-shut'>origin: [-123, 37]<input type='checkbox' class='ee-toggle'></label><ul><li><span class='ee-k'>0:</span><span class='ee-v'>-123</span></li><li><span class='ee-k'>1:</span><span class='ee-v'>37</span></li></ul></li></ul></li><li><label class='ee-shut'>14: \"QA20\", double, EPSG:4326, 1x1 px<input type='checkbox' class='ee-toggle'></label><ul><li><span class='ee-k'>id:</span><span class='ee-v'>QA20</span></li><li><span class='ee-k'>crs:</span><span class='ee-v'>EPSG:4326</span></li><li><label class='ee-shut'>crs_transform: [1, 0, 0, 0, 1, 0]<input type='checkbox' class='ee-toggle'></label><ul><li><span class='ee-k'>0:</span><span class='ee-v'>1</span></li><li><span class='ee-k'>1:</span><span class='ee-v'>0</span></li><li><span class='ee-k'>2:</span><span class='ee-v'>0</span></li><li><span class='ee-k'>3:</span><span class='ee-v'>0</span></li><li><span class='ee-k'>4:</span><span class='ee-v'>1</span></li><li><span class='ee-k'>5:</span><span class='ee-v'>0</span></li></ul></li><li><label class='ee-shut'>data_type: double<input type='checkbox' class='ee-toggle'></label><ul><li><span class='ee-k'>type:</span><span class='ee-v'>PixelType</span></li><li><span class='ee-k'>max:</span><span class='ee-v'>4294967295</span></li><li><span class='ee-k'>min:</span><span class='ee-v'>0</span></li><li><span class='ee-k'>precision:</span><span class='ee-v'>double</span></li></ul></li><li><label class='ee-shut'>dimensions: [1, 1]<input type='checkbox' class='ee-toggle'></label><ul><li><span class='ee-k'>0:</span><span class='ee-v'>1</span></li><li><span class='ee-k'>1:</span><span class='ee-v'>1</span></li></ul></li><li><label class='ee-shut'>origin: [-123, 37]<input type='checkbox' class='ee-toggle'></label><ul><li><span class='ee-k'>0:</span><span class='ee-v'>-123</span></li><li><span class='ee-k'>1:</span><span class='ee-v'>37</span></li></ul></li></ul></li><li><label class='ee-shut'>15: \"QA60\", double, EPSG:4326, 1x1 px<input type='checkbox' class='ee-toggle'></label><ul><li><span class='ee-k'>id:</span><span class='ee-v'>QA60</span></li><li><span class='ee-k'>crs:</span><span class='ee-v'>EPSG:4326</span></li><li><label class='ee-shut'>crs_transform: [1, 0, 0, 0, 1, 0]<input type='checkbox' class='ee-toggle'></label><ul><li><span class='ee-k'>0:</span><span class='ee-v'>1</span></li><li><span class='ee-k'>1:</span><span class='ee-v'>0</span></li><li><span class='ee-k'>2:</span><span class='ee-v'>0</span></li><li><span class='ee-k'>3:</span><span class='ee-v'>0</span></li><li><span class='ee-k'>4:</span><span class='ee-v'>1</span></li><li><span class='ee-k'>5:</span><span class='ee-v'>0</span></li></ul></li><li><label class='ee-shut'>data_type: double<input type='checkbox' class='ee-toggle'></label><ul><li><span class='ee-k'>type:</span><span class='ee-v'>PixelType</span></li><li><span class='ee-k'>max:</span><span class='ee-v'>65535</span></li><li><span class='ee-k'>min:</span><span class='ee-v'>0</span></li><li><span class='ee-k'>precision:</span><span class='ee-v'>double</span></li></ul></li><li><label class='ee-shut'>dimensions: [1, 1]<input type='checkbox' class='ee-toggle'></label><ul><li><span class='ee-k'>0:</span><span class='ee-v'>1</span></li><li><span class='ee-k'>1:</span><span class='ee-v'>1</span></li></ul></li><li><label class='ee-shut'>origin: [-123, 37]<input type='checkbox' class='ee-toggle'></label><ul><li><span class='ee-k'>0:</span><span class='ee-v'>-123</span></li><li><span class='ee-k'>1:</span><span class='ee-v'>37</span></li></ul></li></ul></li></ul></li><li><label class='ee-shut'>properties: Object (5 properties)<input type='checkbox' class='ee-toggle'></label><ul><li><span class='ee-k'>empty:</span><span class='ee-v'>0</span></li><li><span class='ee-k'>system:date:</span><span class='ee-v'>2022</span></li><li><label class='ee-shut'>system:footprint: Polygon (5 vertices)<input type='checkbox' class='ee-toggle'></label><ul><li><span class='ee-k'>type:</span><span class='ee-v'>Polygon</span></li><li><label class='ee-shut'>coordinates: List (1 element)<input type='checkbox' class='ee-toggle'></label><ul><li><label class='ee-shut'>0: List (5 elements)<input type='checkbox' class='ee-toggle'></label><ul><li><label class='ee-shut'>0: [-122.5549, 37.6968]<input type='checkbox' class='ee-toggle'></label><ul><li><span class='ee-k'>0:</span><span class='ee-v'>-122.5549</span></li><li><span class='ee-k'>1:</span><span class='ee-v'>37.6968</span></li></ul></li><li><label class='ee-shut'>1: [-122.34460000000001, 37.6968]<input type='checkbox' class='ee-toggle'></label><ul><li><span class='ee-k'>0:</span><span class='ee-v'>-122.34460000000001</span></li><li><span class='ee-k'>1:</span><span class='ee-v'>37.6968</span></li></ul></li><li><label class='ee-shut'>2: [-122.34460000000001, 37.8111]<input type='checkbox' class='ee-toggle'></label><ul><li><span class='ee-k'>0:</span><span class='ee-v'>-122.34460000000001</span></li><li><span class='ee-k'>1:</span><span class='ee-v'>37.8111</span></li></ul></li><li><label class='ee-shut'>3: [-122.5549, 37.8111]<input type='checkbox' class='ee-toggle'></label><ul><li><span class='ee-k'>0:</span><span class='ee-v'>-122.5549</span></li><li><span class='ee-k'>1:</span><span class='ee-v'>37.8111</span></li></ul></li><li><label class='ee-shut'>4: [-122.5549, 37.6968]<input type='checkbox' class='ee-toggle'></label><ul><li><span class='ee-k'>0:</span><span class='ee-v'>-122.5549</span></li><li><span class='ee-k'>1:</span><span class='ee-v'>37.6968</span></li></ul></li></ul></li></ul></li><li><span class='ee-k'>geodesic:</span><span class='ee-v'>False</span></li></ul></li><li><span class='ee-k'>system:index:</span><span class='ee-v'>6</span></li><li><span class='ee-k'>system:time_start:</span><span class='ee-v'>1640995200000</span></li></ul></li></ul></li></ul></li></ul></li></ul></div><script>function toggleHeader() {\n",
       "    const parent = this.parentElement;\n",
       "    parent.className = parent.className === \"ee-open\" ? \"ee-shut\" : \"ee-open\";\n",
       "}\n",
       "\n",
       "for (let c of document.getElementsByClassName(\"ee-toggle\")) {\n",
       "    c.onclick = toggleHeader;\n",
       "}</script></div>"
      ],
      "text/plain": [
       "<ee.imagecollection.ImageCollection at 0x169b37160>"
      ]
     },
     "execution_count": 153,
     "metadata": {},
     "output_type": "execute_result"
    }
   ],
   "source": [
    "images = geemap.create_timeseries(\n",
    "    collection, start_date, end_date, region, frequency='year', reducer='median'\n",
    ")\n",
    "images"
   ]
  },
  {
   "cell_type": "markdown",
   "metadata": {},
   "source": [
    "Display the timeseries."
   ]
  },
  {
   "cell_type": "code",
   "execution_count": 154,
   "metadata": {},
   "outputs": [
    {
     "data": {
      "text/html": [
       "\n",
       "            <style>\n",
       "                .geemap-dark {\n",
       "                    --jp-widgets-color: white;\n",
       "                    --jp-widgets-label-color: white;\n",
       "                    --jp-ui-font-color1: white;\n",
       "                    --jp-layout-color2: #454545;\n",
       "                    background-color: #383838;\n",
       "                }\n",
       "                    \n",
       "                .geemap-dark .jupyter-button {\n",
       "                    --jp-layout-color3: #383838;\n",
       "                }\n",
       "                \n",
       "                .geemap-colab {\n",
       "                    background-color: var(--colab-primary-surface-color, white);\n",
       "                }\n",
       "                    \n",
       "                .geemap-colab .jupyter-button {\n",
       "                    --jp-layout-color3: var(--colab-primary-surface-color, white);\n",
       "                }\n",
       "            </style>\n",
       "            "
      ],
      "text/plain": [
       "<IPython.core.display.HTML object>"
      ]
     },
     "metadata": {},
     "output_type": "display_data"
    },
    {
     "data": {
      "application/vnd.jupyter.widget-view+json": {
       "model_id": "4411425c27674034b534d694517c28e6",
       "version_major": 2,
       "version_minor": 0
      },
      "text/plain": [
       "Map(center=[0, 0], controls=(WidgetControl(options=['position', 'transparent_bg'], widget=SearchDataGUI(childr…"
      ]
     },
     "execution_count": 154,
     "metadata": {},
     "output_type": "execute_result"
    }
   ],
   "source": [
    "m = geemap.Map()\n",
    "vis_params = {\"min\": 0, \"max\": 4000, \"bands\": [\"B8\", \"B4\", \"B3\"]}\n",
    "labels = [str(y) for y in range(2016, 2023)]\n",
    "m.add_layer(images, vis_params, \"Sentinel-2\", False)\n",
    "m.add_time_slider(images, vis_params, time_interval=2, labels=labels)\n",
    "m.center_object(region)\n",
    "m"
   ]
  },
  {
   "cell_type": "markdown",
   "metadata": {},
   "source": [
    "### Creating satellite timelapse animations\n",
    "\n",
    "#### NAIP timelapse"
   ]
  },
  {
   "cell_type": "code",
   "execution_count": 155,
   "metadata": {},
   "outputs": [
    {
     "data": {
      "text/html": [
       "\n",
       "            <style>\n",
       "                .geemap-dark {\n",
       "                    --jp-widgets-color: white;\n",
       "                    --jp-widgets-label-color: white;\n",
       "                    --jp-ui-font-color1: white;\n",
       "                    --jp-layout-color2: #454545;\n",
       "                    background-color: #383838;\n",
       "                }\n",
       "                    \n",
       "                .geemap-dark .jupyter-button {\n",
       "                    --jp-layout-color3: #383838;\n",
       "                }\n",
       "                \n",
       "                .geemap-colab {\n",
       "                    background-color: var(--colab-primary-surface-color, white);\n",
       "                }\n",
       "                    \n",
       "                .geemap-colab .jupyter-button {\n",
       "                    --jp-layout-color3: var(--colab-primary-surface-color, white);\n",
       "                }\n",
       "            </style>\n",
       "            "
      ],
      "text/plain": [
       "<IPython.core.display.HTML object>"
      ]
     },
     "metadata": {},
     "output_type": "display_data"
    },
    {
     "data": {
      "application/vnd.jupyter.widget-view+json": {
       "model_id": "dd7b1728b4bf4997b6835bd2c055d1e4",
       "version_major": 2,
       "version_minor": 0
      },
      "text/plain": [
       "Map(center=[40, -100], controls=(WidgetControl(options=['position', 'transparent_bg'], widget=SearchDataGUI(ch…"
      ]
     },
     "execution_count": 155,
     "metadata": {},
     "output_type": "execute_result"
    }
   ],
   "source": [
    "m = geemap.Map(center=[40, -100], zoom=4)\n",
    "m"
   ]
  },
  {
   "cell_type": "code",
   "execution_count": 156,
   "metadata": {},
   "outputs": [
    {
     "data": {
      "text/html": [
       "\n",
       "            <style>\n",
       "                .geemap-dark {\n",
       "                    --jp-widgets-color: white;\n",
       "                    --jp-widgets-label-color: white;\n",
       "                    --jp-ui-font-color1: white;\n",
       "                    --jp-layout-color2: #454545;\n",
       "                    background-color: #383838;\n",
       "                }\n",
       "                    \n",
       "                .geemap-dark .jupyter-button {\n",
       "                    --jp-layout-color3: #383838;\n",
       "                }\n",
       "                \n",
       "                .geemap-colab {\n",
       "                    background-color: var(--colab-primary-surface-color, white);\n",
       "                }\n",
       "                    \n",
       "                .geemap-colab .jupyter-button {\n",
       "                    --jp-layout-color3: var(--colab-primary-surface-color, white);\n",
       "                }\n",
       "            </style>\n",
       "            "
      ],
      "text/plain": [
       "<IPython.core.display.HTML object>"
      ]
     },
     "metadata": {},
     "output_type": "display_data"
    }
   ],
   "source": [
    "roi = m.user_roi\n",
    "if roi is None:\n",
    "    roi = ee.Geometry.BBox(-99.1019, 47.1274, -99.0334, 47.1562)\n",
    "    m.add_layer(roi, {}, 'ROI')\n",
    "    m.center_object(roi)"
   ]
  },
  {
   "cell_type": "code",
   "execution_count": 157,
   "metadata": {},
   "outputs": [
    {
     "data": {
      "text/html": [
       "\n",
       "            <style>\n",
       "                .geemap-dark {\n",
       "                    --jp-widgets-color: white;\n",
       "                    --jp-widgets-label-color: white;\n",
       "                    --jp-ui-font-color1: white;\n",
       "                    --jp-layout-color2: #454545;\n",
       "                    background-color: #383838;\n",
       "                }\n",
       "                    \n",
       "                .geemap-dark .jupyter-button {\n",
       "                    --jp-layout-color3: #383838;\n",
       "                }\n",
       "                \n",
       "                .geemap-colab {\n",
       "                    background-color: var(--colab-primary-surface-color, white);\n",
       "                }\n",
       "                    \n",
       "                .geemap-colab .jupyter-button {\n",
       "                    --jp-layout-color3: var(--colab-primary-surface-color, white);\n",
       "                }\n",
       "            </style>\n",
       "            "
      ],
      "text/plain": [
       "<IPython.core.display.HTML object>"
      ]
     },
     "metadata": {},
     "output_type": "display_data"
    }
   ],
   "source": [
    "collection = geemap.naip_timeseries(roi, start_year=2009, end_year=2022, RGBN=True)"
   ]
  },
  {
   "cell_type": "code",
   "execution_count": 158,
   "metadata": {},
   "outputs": [
    {
     "data": {
      "text/html": [
       "\n",
       "            <style>\n",
       "                .geemap-dark {\n",
       "                    --jp-widgets-color: white;\n",
       "                    --jp-widgets-label-color: white;\n",
       "                    --jp-ui-font-color1: white;\n",
       "                    --jp-layout-color2: #454545;\n",
       "                    background-color: #383838;\n",
       "                }\n",
       "                    \n",
       "                .geemap-dark .jupyter-button {\n",
       "                    --jp-layout-color3: #383838;\n",
       "                }\n",
       "                \n",
       "                .geemap-colab {\n",
       "                    background-color: var(--colab-primary-surface-color, white);\n",
       "                }\n",
       "                    \n",
       "                .geemap-colab .jupyter-button {\n",
       "                    --jp-layout-color3: var(--colab-primary-surface-color, white);\n",
       "                }\n",
       "            </style>\n",
       "            "
      ],
      "text/plain": [
       "<IPython.core.display.HTML object>"
      ]
     },
     "metadata": {},
     "output_type": "display_data"
    },
    {
     "name": "stdout",
     "output_type": "stream",
     "text": [
      "['2009', '2010', '2012', '2014', '2015', '2016', '2017', '2018', '2019', '2020', '2021', '2022']\n"
     ]
    }
   ],
   "source": [
    "years = geemap.image_dates(collection, date_format='YYYY').getInfo()\n",
    "print(years)"
   ]
  },
  {
   "cell_type": "code",
   "execution_count": 159,
   "metadata": {},
   "outputs": [
    {
     "data": {
      "text/html": [
       "\n",
       "            <style>\n",
       "                .geemap-dark {\n",
       "                    --jp-widgets-color: white;\n",
       "                    --jp-widgets-label-color: white;\n",
       "                    --jp-ui-font-color1: white;\n",
       "                    --jp-layout-color2: #454545;\n",
       "                    background-color: #383838;\n",
       "                }\n",
       "                    \n",
       "                .geemap-dark .jupyter-button {\n",
       "                    --jp-layout-color3: #383838;\n",
       "                }\n",
       "                \n",
       "                .geemap-colab {\n",
       "                    background-color: var(--colab-primary-surface-color, white);\n",
       "                }\n",
       "                    \n",
       "                .geemap-colab .jupyter-button {\n",
       "                    --jp-layout-color3: var(--colab-primary-surface-color, white);\n",
       "                }\n",
       "            </style>\n",
       "            "
      ],
      "text/plain": [
       "<IPython.core.display.HTML object>"
      ]
     },
     "metadata": {},
     "output_type": "display_data"
    },
    {
     "data": {
      "application/vnd.jupyter.widget-view+json": {
       "model_id": "dd7b1728b4bf4997b6835bd2c055d1e4",
       "version_major": 2,
       "version_minor": 0
      },
      "text/plain": [
       "Map(bottom=2016.0, center=[27.994401411046148, -66.18164062500001], controls=(WidgetControl(options=['position…"
      ]
     },
     "execution_count": 159,
     "metadata": {},
     "output_type": "execute_result"
    }
   ],
   "source": [
    "size = len(years)\n",
    "images = collection.toList(size)\n",
    "for i in range(size):\n",
    "    image = ee.Image(images.get(i))\n",
    "    m.add_layer(image, {'bands': ['N', 'R', 'G']}, years[i])\n",
    "m"
   ]
  },
  {
   "cell_type": "code",
   "execution_count": 160,
   "metadata": {},
   "outputs": [
    {
     "data": {
      "text/html": [
       "\n",
       "            <style>\n",
       "                .geemap-dark {\n",
       "                    --jp-widgets-color: white;\n",
       "                    --jp-widgets-label-color: white;\n",
       "                    --jp-ui-font-color1: white;\n",
       "                    --jp-layout-color2: #454545;\n",
       "                    background-color: #383838;\n",
       "                }\n",
       "                    \n",
       "                .geemap-dark .jupyter-button {\n",
       "                    --jp-layout-color3: #383838;\n",
       "                }\n",
       "                \n",
       "                .geemap-colab {\n",
       "                    background-color: var(--colab-primary-surface-color, white);\n",
       "                }\n",
       "                    \n",
       "                .geemap-colab .jupyter-button {\n",
       "                    --jp-layout-color3: var(--colab-primary-surface-color, white);\n",
       "                }\n",
       "            </style>\n",
       "            "
      ],
      "text/plain": [
       "<IPython.core.display.HTML object>"
      ]
     },
     "metadata": {},
     "output_type": "display_data"
    },
    {
     "name": "stdout",
     "output_type": "stream",
     "text": [
      "Generating URL...\n",
      "Downloading GIF image from https://earthengine.googleapis.com/v1/projects/earthengine-legacy/videoThumbnails/f8f9def87d7319dad9d4f2424f2a2eb1-989b770949c37971556ee6104cead455:getPixels\n",
      "Please wait ...\n",
      "The GIF image has been saved to: /Users/ilyonsg/Documents/gee/gee-python-workshop/naip.gif\n"
     ]
    },
    {
     "data": {
      "application/vnd.jupyter.widget-view+json": {
       "model_id": "a4ac28d85cdc489ba9feb4d99af6b8d0",
       "version_major": 2,
       "version_minor": 0
      },
      "text/plain": [
       "Output()"
      ]
     },
     "metadata": {},
     "output_type": "display_data"
    }
   ],
   "source": [
    "timelapse = geemap.naip_timelapse(\n",
    "    roi,\n",
    "    out_gif=\"exports/naip.gif\",\n",
    "    bands=['N', 'R', 'G'],\n",
    "    frames_per_second=3,\n",
    "    title='NAIP Timelapse',\n",
    ")\n",
    "geemap.show_image(timelapse)"
   ]
  },
  {
   "cell_type": "markdown",
   "metadata": {},
   "source": [
    "#### Landsat timelapse"
   ]
  },
  {
   "cell_type": "code",
   "execution_count": 161,
   "metadata": {},
   "outputs": [
    {
     "data": {
      "text/html": [
       "\n",
       "            <style>\n",
       "                .geemap-dark {\n",
       "                    --jp-widgets-color: white;\n",
       "                    --jp-widgets-label-color: white;\n",
       "                    --jp-ui-font-color1: white;\n",
       "                    --jp-layout-color2: #454545;\n",
       "                    background-color: #383838;\n",
       "                }\n",
       "                    \n",
       "                .geemap-dark .jupyter-button {\n",
       "                    --jp-layout-color3: #383838;\n",
       "                }\n",
       "                \n",
       "                .geemap-colab {\n",
       "                    background-color: var(--colab-primary-surface-color, white);\n",
       "                }\n",
       "                    \n",
       "                .geemap-colab .jupyter-button {\n",
       "                    --jp-layout-color3: var(--colab-primary-surface-color, white);\n",
       "                }\n",
       "            </style>\n",
       "            "
      ],
      "text/plain": [
       "<IPython.core.display.HTML object>"
      ]
     },
     "metadata": {},
     "output_type": "display_data"
    },
    {
     "data": {
      "application/vnd.jupyter.widget-view+json": {
       "model_id": "2c2b52fa37c94b459ec0faf151979209",
       "version_major": 2,
       "version_minor": 0
      },
      "text/plain": [
       "Map(center=[0, 0], controls=(WidgetControl(options=['position', 'transparent_bg'], widget=SearchDataGUI(childr…"
      ]
     },
     "execution_count": 161,
     "metadata": {},
     "output_type": "execute_result"
    }
   ],
   "source": [
    "m = geemap.Map()\n",
    "m"
   ]
  },
  {
   "cell_type": "markdown",
   "metadata": {},
   "source": [
    "Pan and zoom the map to an area of interest. Use the drawing tools to draw a rectangle on the map. If no rectangle is drawn, the default rectangle shown below will be used."
   ]
  },
  {
   "cell_type": "code",
   "execution_count": 163,
   "metadata": {},
   "outputs": [
    {
     "data": {
      "text/html": [
       "\n",
       "            <style>\n",
       "                .geemap-dark {\n",
       "                    --jp-widgets-color: white;\n",
       "                    --jp-widgets-label-color: white;\n",
       "                    --jp-ui-font-color1: white;\n",
       "                    --jp-layout-color2: #454545;\n",
       "                    background-color: #383838;\n",
       "                }\n",
       "                    \n",
       "                .geemap-dark .jupyter-button {\n",
       "                    --jp-layout-color3: #383838;\n",
       "                }\n",
       "                \n",
       "                .geemap-colab {\n",
       "                    background-color: var(--colab-primary-surface-color, white);\n",
       "                }\n",
       "                    \n",
       "                .geemap-colab .jupyter-button {\n",
       "                    --jp-layout-color3: var(--colab-primary-surface-color, white);\n",
       "                }\n",
       "            </style>\n",
       "            "
      ],
      "text/plain": [
       "<IPython.core.display.HTML object>"
      ]
     },
     "metadata": {},
     "output_type": "display_data"
    }
   ],
   "source": [
    "roi = m.user_roi\n",
    "if roi is None:\n",
    "    roi = ee.Geometry.BBox(-74.7222, -8.5867, -74.1596, -8.2824)\n",
    "    m.add_layer(roi)\n",
    "    m.center_object(roi)"
   ]
  },
  {
   "cell_type": "code",
   "execution_count": 164,
   "metadata": {},
   "outputs": [
    {
     "data": {
      "text/html": [
       "\n",
       "            <style>\n",
       "                .geemap-dark {\n",
       "                    --jp-widgets-color: white;\n",
       "                    --jp-widgets-label-color: white;\n",
       "                    --jp-ui-font-color1: white;\n",
       "                    --jp-layout-color2: #454545;\n",
       "                    background-color: #383838;\n",
       "                }\n",
       "                    \n",
       "                .geemap-dark .jupyter-button {\n",
       "                    --jp-layout-color3: #383838;\n",
       "                }\n",
       "                \n",
       "                .geemap-colab {\n",
       "                    background-color: var(--colab-primary-surface-color, white);\n",
       "                }\n",
       "                    \n",
       "                .geemap-colab .jupyter-button {\n",
       "                    --jp-layout-color3: var(--colab-primary-surface-color, white);\n",
       "                }\n",
       "            </style>\n",
       "            "
      ],
      "text/plain": [
       "<IPython.core.display.HTML object>"
      ]
     },
     "metadata": {},
     "output_type": "display_data"
    },
    {
     "name": "stdout",
     "output_type": "stream",
     "text": [
      "Generating URL...\n",
      "Downloading GIF image from https://earthengine.googleapis.com/v1/projects/earthengine-legacy/videoThumbnails/e09d44926bec6d9d676c2686cc638d3a-03fb9da93b81c8c4bf40db094ab10bec:getPixels\n",
      "Please wait ...\n",
      "The GIF image has been saved to: /Users/ilyonsg/Documents/gee/gee-python-workshop/exports/landsat.gif\n"
     ]
    },
    {
     "data": {
      "application/vnd.jupyter.widget-view+json": {
       "model_id": "76bf84f2427246f78b8d760b17943089",
       "version_major": 2,
       "version_minor": 0
      },
      "text/plain": [
       "Output()"
      ]
     },
     "metadata": {},
     "output_type": "display_data"
    }
   ],
   "source": [
    "timelapse = geemap.landsat_timelapse(\n",
    "    roi,\n",
    "    out_gif='exports/landsat.gif',\n",
    "    start_year=1984,\n",
    "    end_year=2022,\n",
    "    start_date='01-01',\n",
    "    end_date='12-31',\n",
    "    bands=['SWIR1', 'NIR', 'Red'],\n",
    "    frames_per_second=5,\n",
    "    title='Landsat Timelapse',\n",
    "    progress_bar_color='blue',\n",
    "    mp4=True,\n",
    ")\n",
    "geemap.show_image(timelapse)"
   ]
  },
  {
   "cell_type": "code",
   "execution_count": 165,
   "metadata": {},
   "outputs": [
    {
     "data": {
      "text/html": [
       "\n",
       "            <style>\n",
       "                .geemap-dark {\n",
       "                    --jp-widgets-color: white;\n",
       "                    --jp-widgets-label-color: white;\n",
       "                    --jp-ui-font-color1: white;\n",
       "                    --jp-layout-color2: #454545;\n",
       "                    background-color: #383838;\n",
       "                }\n",
       "                    \n",
       "                .geemap-dark .jupyter-button {\n",
       "                    --jp-layout-color3: #383838;\n",
       "                }\n",
       "                \n",
       "                .geemap-colab {\n",
       "                    background-color: var(--colab-primary-surface-color, white);\n",
       "                }\n",
       "                    \n",
       "                .geemap-colab .jupyter-button {\n",
       "                    --jp-layout-color3: var(--colab-primary-surface-color, white);\n",
       "                }\n",
       "            </style>\n",
       "            "
      ],
      "text/plain": [
       "<IPython.core.display.HTML object>"
      ]
     },
     "metadata": {},
     "output_type": "display_data"
    },
    {
     "data": {
      "application/vnd.jupyter.widget-view+json": {
       "model_id": "4c6dd83beff64f39b9693be5be2a5a5d",
       "version_major": 2,
       "version_minor": 0
      },
      "text/plain": [
       "Map(center=[0, 0], controls=(WidgetControl(options=['position', 'transparent_bg'], widget=SearchDataGUI(childr…"
      ]
     },
     "execution_count": 165,
     "metadata": {},
     "output_type": "execute_result"
    }
   ],
   "source": [
    "m = geemap.Map()\n",
    "roi = ee.Geometry.BBox(-115.5541, 35.8044, -113.9035, 36.5581)\n",
    "m.add_layer(roi)\n",
    "m.center_object(roi)\n",
    "m"
   ]
  },
  {
   "cell_type": "code",
   "execution_count": null,
   "metadata": {},
   "outputs": [],
   "source": [
    "timelapse = geemap.landsat_timelapse(\n",
    "    roi,\n",
    "    out_gif='las_vegas.gif',\n",
    "    start_year=1984,\n",
    "    end_year=2022,\n",
    "    bands=['NIR', 'Red', 'Green'],\n",
    "    frames_per_second=5,\n",
    "    title='Las Vegas, NV',\n",
    "    font_color='blue',\n",
    ")\n",
    "geemap.show_image(timelapse)"
   ]
  },
  {
   "cell_type": "code",
   "execution_count": null,
   "metadata": {},
   "outputs": [],
   "source": [
    "m = geemap.Map()\n",
    "roi = ee.Geometry.BBox(113.8252, 22.1988, 114.0851, 22.3497)\n",
    "m.add_layer(roi)\n",
    "m.center_object(roi)\n",
    "m"
   ]
  },
  {
   "cell_type": "code",
   "execution_count": null,
   "metadata": {},
   "outputs": [],
   "source": [
    "timelapse = geemap.landsat_timelapse(\n",
    "    roi,\n",
    "    out_gif='hong_kong.gif',\n",
    "    start_year=1990,\n",
    "    end_year=2022,\n",
    "    start_date='01-01',\n",
    "    end_date='12-31',\n",
    "    bands=['SWIR1', 'NIR', 'Red'],\n",
    "    frames_per_second=3,\n",
    "    title='Hong Kong',\n",
    ")\n",
    "geemap.show_image(timelapse)"
   ]
  },
  {
   "cell_type": "markdown",
   "metadata": {},
   "source": [
    "#### Sentinel-2 timelapse"
   ]
  },
  {
   "cell_type": "code",
   "execution_count": 168,
   "metadata": {},
   "outputs": [
    {
     "data": {
      "text/html": [
       "\n",
       "            <style>\n",
       "                .geemap-dark {\n",
       "                    --jp-widgets-color: white;\n",
       "                    --jp-widgets-label-color: white;\n",
       "                    --jp-ui-font-color1: white;\n",
       "                    --jp-layout-color2: #454545;\n",
       "                    background-color: #383838;\n",
       "                }\n",
       "                    \n",
       "                .geemap-dark .jupyter-button {\n",
       "                    --jp-layout-color3: #383838;\n",
       "                }\n",
       "                \n",
       "                .geemap-colab {\n",
       "                    background-color: var(--colab-primary-surface-color, white);\n",
       "                }\n",
       "                    \n",
       "                .geemap-colab .jupyter-button {\n",
       "                    --jp-layout-color3: var(--colab-primary-surface-color, white);\n",
       "                }\n",
       "            </style>\n",
       "            "
      ],
      "text/plain": [
       "<IPython.core.display.HTML object>"
      ]
     },
     "metadata": {},
     "output_type": "display_data"
    },
    {
     "data": {
      "application/vnd.jupyter.widget-view+json": {
       "model_id": "94012fba089441469cce40bde122970a",
       "version_major": 2,
       "version_minor": 0
      },
      "text/plain": [
       "Map(center=[0, 0], controls=(WidgetControl(options=['position', 'transparent_bg'], widget=SearchDataGUI(childr…"
      ]
     },
     "execution_count": 168,
     "metadata": {},
     "output_type": "execute_result"
    }
   ],
   "source": [
    "m = geemap.Map()\n",
    "m"
   ]
  },
  {
   "cell_type": "markdown",
   "metadata": {},
   "source": [
    "Pan and zoom the map to an area of interest. Use the drawing tools to draw a rectangle on the map. If no rectangle is drawn, the default rectangle shown below will be used."
   ]
  },
  {
   "cell_type": "code",
   "execution_count": 166,
   "metadata": {},
   "outputs": [
    {
     "data": {
      "text/html": [
       "\n",
       "            <style>\n",
       "                .geemap-dark {\n",
       "                    --jp-widgets-color: white;\n",
       "                    --jp-widgets-label-color: white;\n",
       "                    --jp-ui-font-color1: white;\n",
       "                    --jp-layout-color2: #454545;\n",
       "                    background-color: #383838;\n",
       "                }\n",
       "                    \n",
       "                .geemap-dark .jupyter-button {\n",
       "                    --jp-layout-color3: #383838;\n",
       "                }\n",
       "                \n",
       "                .geemap-colab {\n",
       "                    background-color: var(--colab-primary-surface-color, white);\n",
       "                }\n",
       "                    \n",
       "                .geemap-colab .jupyter-button {\n",
       "                    --jp-layout-color3: var(--colab-primary-surface-color, white);\n",
       "                }\n",
       "            </style>\n",
       "            "
      ],
      "text/plain": [
       "<IPython.core.display.HTML object>"
      ]
     },
     "metadata": {},
     "output_type": "display_data"
    }
   ],
   "source": [
    "roi = m.user_roi\n",
    "if roi is None:\n",
    "    roi = ee.Geometry.BBox(-74.7222, -8.5867, -74.1596, -8.2824)\n",
    "    m.add_layer(roi)\n",
    "    m.center_object(roi)"
   ]
  },
  {
   "cell_type": "code",
   "execution_count": 167,
   "metadata": {},
   "outputs": [
    {
     "data": {
      "text/html": [
       "\n",
       "            <style>\n",
       "                .geemap-dark {\n",
       "                    --jp-widgets-color: white;\n",
       "                    --jp-widgets-label-color: white;\n",
       "                    --jp-ui-font-color1: white;\n",
       "                    --jp-layout-color2: #454545;\n",
       "                    background-color: #383838;\n",
       "                }\n",
       "                    \n",
       "                .geemap-dark .jupyter-button {\n",
       "                    --jp-layout-color3: #383838;\n",
       "                }\n",
       "                \n",
       "                .geemap-colab {\n",
       "                    background-color: var(--colab-primary-surface-color, white);\n",
       "                }\n",
       "                    \n",
       "                .geemap-colab .jupyter-button {\n",
       "                    --jp-layout-color3: var(--colab-primary-surface-color, white);\n",
       "                }\n",
       "            </style>\n",
       "            "
      ],
      "text/plain": [
       "<IPython.core.display.HTML object>"
      ]
     },
     "metadata": {},
     "output_type": "display_data"
    },
    {
     "name": "stdout",
     "output_type": "stream",
     "text": [
      "Generating URL...\n",
      "Downloading GIF image from https://earthengine.googleapis.com/v1/projects/earthengine-legacy/videoThumbnails/a3db40304df5be0283358e41b0e48698-fd8bf585beb720fe1bd186306701aced:getPixels\n",
      "Please wait ...\n",
      "The GIF image has been saved to: /Users/ilyonsg/Documents/gee/gee-python-workshop/sentinel2.gif\n"
     ]
    },
    {
     "data": {
      "application/vnd.jupyter.widget-view+json": {
       "model_id": "89ef503db36e4243a1e1506d16a1c0b2",
       "version_major": 2,
       "version_minor": 0
      },
      "text/plain": [
       "Output()"
      ]
     },
     "metadata": {},
     "output_type": "display_data"
    }
   ],
   "source": [
    "timelapse = geemap.sentinel2_timelapse(\n",
    "    roi,\n",
    "    out_gif='sentinel2.gif',\n",
    "    start_year=2016,\n",
    "    end_year=2021,\n",
    "    start_date='01-01',\n",
    "    end_date='12-31',\n",
    "    frequency='year',\n",
    "    bands=['SWIR1', 'NIR', 'Red'],\n",
    "    frames_per_second=3,\n",
    "    title='Sentinel-2 Timelapse',\n",
    ")\n",
    "geemap.show_image(timelapse)"
   ]
  },
  {
   "cell_type": "markdown",
   "metadata": {},
   "source": [
    "#### MODIS timelapse\n",
    "\n",
    "MODIS vegetation indices"
   ]
  },
  {
   "cell_type": "code",
   "execution_count": 169,
   "metadata": {},
   "outputs": [
    {
     "data": {
      "text/html": [
       "\n",
       "            <style>\n",
       "                .geemap-dark {\n",
       "                    --jp-widgets-color: white;\n",
       "                    --jp-widgets-label-color: white;\n",
       "                    --jp-ui-font-color1: white;\n",
       "                    --jp-layout-color2: #454545;\n",
       "                    background-color: #383838;\n",
       "                }\n",
       "                    \n",
       "                .geemap-dark .jupyter-button {\n",
       "                    --jp-layout-color3: #383838;\n",
       "                }\n",
       "                \n",
       "                .geemap-colab {\n",
       "                    background-color: var(--colab-primary-surface-color, white);\n",
       "                }\n",
       "                    \n",
       "                .geemap-colab .jupyter-button {\n",
       "                    --jp-layout-color3: var(--colab-primary-surface-color, white);\n",
       "                }\n",
       "            </style>\n",
       "            "
      ],
      "text/plain": [
       "<IPython.core.display.HTML object>"
      ]
     },
     "metadata": {},
     "output_type": "display_data"
    },
    {
     "data": {
      "application/vnd.jupyter.widget-view+json": {
       "model_id": "70ecf6c3bb854987832e4e0df3488215",
       "version_major": 2,
       "version_minor": 0
      },
      "text/plain": [
       "Map(center=[0, 0], controls=(WidgetControl(options=['position', 'transparent_bg'], widget=SearchDataGUI(childr…"
      ]
     },
     "execution_count": 169,
     "metadata": {},
     "output_type": "execute_result"
    }
   ],
   "source": [
    "m = geemap.Map()\n",
    "m"
   ]
  },
  {
   "cell_type": "code",
   "execution_count": 170,
   "metadata": {},
   "outputs": [
    {
     "data": {
      "text/html": [
       "\n",
       "            <style>\n",
       "                .geemap-dark {\n",
       "                    --jp-widgets-color: white;\n",
       "                    --jp-widgets-label-color: white;\n",
       "                    --jp-ui-font-color1: white;\n",
       "                    --jp-layout-color2: #454545;\n",
       "                    background-color: #383838;\n",
       "                }\n",
       "                    \n",
       "                .geemap-dark .jupyter-button {\n",
       "                    --jp-layout-color3: #383838;\n",
       "                }\n",
       "                \n",
       "                .geemap-colab {\n",
       "                    background-color: var(--colab-primary-surface-color, white);\n",
       "                }\n",
       "                    \n",
       "                .geemap-colab .jupyter-button {\n",
       "                    --jp-layout-color3: var(--colab-primary-surface-color, white);\n",
       "                }\n",
       "            </style>\n",
       "            "
      ],
      "text/plain": [
       "<IPython.core.display.HTML object>"
      ]
     },
     "metadata": {},
     "output_type": "display_data"
    }
   ],
   "source": [
    "roi = m.user_roi\n",
    "if roi is None:\n",
    "    roi = ee.Geometry.BBox(-18.6983, -36.1630, 52.2293, 38.1446)\n",
    "    m.add_layer(roi)\n",
    "    m.center_object(roi)"
   ]
  },
  {
   "cell_type": "code",
   "execution_count": 171,
   "metadata": {},
   "outputs": [
    {
     "data": {
      "text/html": [
       "\n",
       "            <style>\n",
       "                .geemap-dark {\n",
       "                    --jp-widgets-color: white;\n",
       "                    --jp-widgets-label-color: white;\n",
       "                    --jp-ui-font-color1: white;\n",
       "                    --jp-layout-color2: #454545;\n",
       "                    background-color: #383838;\n",
       "                }\n",
       "                    \n",
       "                .geemap-dark .jupyter-button {\n",
       "                    --jp-layout-color3: #383838;\n",
       "                }\n",
       "                \n",
       "                .geemap-colab {\n",
       "                    background-color: var(--colab-primary-surface-color, white);\n",
       "                }\n",
       "                    \n",
       "                .geemap-colab .jupyter-button {\n",
       "                    --jp-layout-color3: var(--colab-primary-surface-color, white);\n",
       "                }\n",
       "            </style>\n",
       "            "
      ],
      "text/plain": [
       "<IPython.core.display.HTML object>"
      ]
     },
     "metadata": {},
     "output_type": "display_data"
    },
    {
     "name": "stdout",
     "output_type": "stream",
     "text": [
      "Generating URL...\n",
      "Downloading GIF image from https://earthengine.googleapis.com/v1/projects/earthengine-legacy/videoThumbnails/c42181e2a9f4402139507f2784a24c09-e29250a54a0cf50139aa18696ec711ce:getPixels\n",
      "Please wait ...\n",
      "The GIF image has been saved to: /Users/ilyonsg/Documents/gee/gee-python-workshop/ndvi.gif\n"
     ]
    },
    {
     "data": {
      "application/vnd.jupyter.widget-view+json": {
       "model_id": "48590b0800f140a3a92b438febe1df45",
       "version_major": 2,
       "version_minor": 0
      },
      "text/plain": [
       "Output()"
      ]
     },
     "metadata": {},
     "output_type": "display_data"
    }
   ],
   "source": [
    "timelapse = geemap.modis_ndvi_timelapse(\n",
    "    roi,\n",
    "    out_gif='ndvi.gif',\n",
    "    data='Terra',\n",
    "    band='NDVI',\n",
    "    start_date='2000-01-01',\n",
    "    end_date='2022-12-31',\n",
    "    frames_per_second=3,\n",
    "    title='MODIS NDVI Timelapse',\n",
    "    overlay_data='countries', # add country borders\n",
    ")\n",
    "geemap.show_image(timelapse)"
   ]
  },
  {
   "cell_type": "markdown",
   "metadata": {},
   "source": [
    "MODIS temperature"
   ]
  },
  {
   "cell_type": "code",
   "execution_count": 172,
   "metadata": {},
   "outputs": [
    {
     "data": {
      "text/html": [
       "\n",
       "            <style>\n",
       "                .geemap-dark {\n",
       "                    --jp-widgets-color: white;\n",
       "                    --jp-widgets-label-color: white;\n",
       "                    --jp-ui-font-color1: white;\n",
       "                    --jp-layout-color2: #454545;\n",
       "                    background-color: #383838;\n",
       "                }\n",
       "                    \n",
       "                .geemap-dark .jupyter-button {\n",
       "                    --jp-layout-color3: #383838;\n",
       "                }\n",
       "                \n",
       "                .geemap-colab {\n",
       "                    background-color: var(--colab-primary-surface-color, white);\n",
       "                }\n",
       "                    \n",
       "                .geemap-colab .jupyter-button {\n",
       "                    --jp-layout-color3: var(--colab-primary-surface-color, white);\n",
       "                }\n",
       "            </style>\n",
       "            "
      ],
      "text/plain": [
       "<IPython.core.display.HTML object>"
      ]
     },
     "metadata": {},
     "output_type": "display_data"
    },
    {
     "data": {
      "application/vnd.jupyter.widget-view+json": {
       "model_id": "01c18a5acb9b436ea09ad877bcec50e3",
       "version_major": 2,
       "version_minor": 0
      },
      "text/plain": [
       "Map(center=[0, 0], controls=(WidgetControl(options=['position', 'transparent_bg'], widget=SearchDataGUI(childr…"
      ]
     },
     "execution_count": 172,
     "metadata": {},
     "output_type": "execute_result"
    }
   ],
   "source": [
    "m = geemap.Map()\n",
    "m"
   ]
  },
  {
   "cell_type": "code",
   "execution_count": 174,
   "metadata": {},
   "outputs": [
    {
     "data": {
      "text/html": [
       "\n",
       "            <style>\n",
       "                .geemap-dark {\n",
       "                    --jp-widgets-color: white;\n",
       "                    --jp-widgets-label-color: white;\n",
       "                    --jp-ui-font-color1: white;\n",
       "                    --jp-layout-color2: #454545;\n",
       "                    background-color: #383838;\n",
       "                }\n",
       "                    \n",
       "                .geemap-dark .jupyter-button {\n",
       "                    --jp-layout-color3: #383838;\n",
       "                }\n",
       "                \n",
       "                .geemap-colab {\n",
       "                    background-color: var(--colab-primary-surface-color, white);\n",
       "                }\n",
       "                    \n",
       "                .geemap-colab .jupyter-button {\n",
       "                    --jp-layout-color3: var(--colab-primary-surface-color, white);\n",
       "                }\n",
       "            </style>\n",
       "            "
      ],
      "text/plain": [
       "<IPython.core.display.HTML object>"
      ]
     },
     "metadata": {},
     "output_type": "display_data"
    }
   ],
   "source": [
    "roi = m.user_roi\n",
    "if roi is None:\n",
    "    roi = ee.Geometry.BBox(-171.21, -57.13, 177.53, 79.99)\n",
    "    m.add_layer(roi)\n",
    "    m.center_object(roi)"
   ]
  },
  {
   "cell_type": "code",
   "execution_count": 175,
   "metadata": {},
   "outputs": [
    {
     "data": {
      "text/html": [
       "\n",
       "            <style>\n",
       "                .geemap-dark {\n",
       "                    --jp-widgets-color: white;\n",
       "                    --jp-widgets-label-color: white;\n",
       "                    --jp-ui-font-color1: white;\n",
       "                    --jp-layout-color2: #454545;\n",
       "                    background-color: #383838;\n",
       "                }\n",
       "                    \n",
       "                .geemap-dark .jupyter-button {\n",
       "                    --jp-layout-color3: #383838;\n",
       "                }\n",
       "                \n",
       "                .geemap-colab {\n",
       "                    background-color: var(--colab-primary-surface-color, white);\n",
       "                }\n",
       "                    \n",
       "                .geemap-colab .jupyter-button {\n",
       "                    --jp-layout-color3: var(--colab-primary-surface-color, white);\n",
       "                }\n",
       "            </style>\n",
       "            "
      ],
      "text/plain": [
       "<IPython.core.display.HTML object>"
      ]
     },
     "metadata": {},
     "output_type": "display_data"
    },
    {
     "name": "stdout",
     "output_type": "stream",
     "text": [
      "Generating URL...\n",
      "Downloading GIF image from https://earthengine.googleapis.com/v1/projects/earthengine-legacy/videoThumbnails/6e5f26032e4ff2ca1ef18a2f12fbb197-98f35d181a297213dd947a1e45f2fef2:getPixels\n",
      "Please wait ...\n",
      "The GIF image has been saved to: /Users/ilyonsg/Documents/gee/gee-python-workshop/temperature.gif\n"
     ]
    },
    {
     "data": {
      "application/vnd.jupyter.widget-view+json": {
       "model_id": "9c6ff187e1cf42919d5a160ce9becc65",
       "version_major": 2,
       "version_minor": 0
      },
      "text/plain": [
       "Output()"
      ]
     },
     "metadata": {},
     "output_type": "display_data"
    }
   ],
   "source": [
    "timelapse = geemap.modis_ocean_color_timelapse(\n",
    "    satellite='Aqua',\n",
    "    start_date='2018-01-01',\n",
    "    end_date='2020-12-31',\n",
    "    roi=roi,\n",
    "    frequency='month',\n",
    "    out_gif='exports/temperature.gif',\n",
    "    overlay_data='continents',\n",
    "    overlay_color='yellow',\n",
    "    overlay_opacity=0.5,\n",
    ")\n",
    "geemap.show_image(timelapse)"
   ]
  },
  {
   "cell_type": "markdown",
   "metadata": {},
   "source": [
    "#### GOES timelapse"
   ]
  },
  {
   "cell_type": "code",
   "execution_count": 176,
   "metadata": {},
   "outputs": [
    {
     "data": {
      "text/html": [
       "\n",
       "            <style>\n",
       "                .geemap-dark {\n",
       "                    --jp-widgets-color: white;\n",
       "                    --jp-widgets-label-color: white;\n",
       "                    --jp-ui-font-color1: white;\n",
       "                    --jp-layout-color2: #454545;\n",
       "                    background-color: #383838;\n",
       "                }\n",
       "                    \n",
       "                .geemap-dark .jupyter-button {\n",
       "                    --jp-layout-color3: #383838;\n",
       "                }\n",
       "                \n",
       "                .geemap-colab {\n",
       "                    background-color: var(--colab-primary-surface-color, white);\n",
       "                }\n",
       "                    \n",
       "                .geemap-colab .jupyter-button {\n",
       "                    --jp-layout-color3: var(--colab-primary-surface-color, white);\n",
       "                }\n",
       "            </style>\n",
       "            "
      ],
      "text/plain": [
       "<IPython.core.display.HTML object>"
      ]
     },
     "metadata": {},
     "output_type": "display_data"
    }
   ],
   "source": [
    "roi = ee.Geometry.BBox(167.1898, -28.5757, 202.6258, -12.4411)\n",
    "start_date = \"2022-01-15T03:00:00\"\n",
    "end_date = \"2022-01-15T07:00:00\"\n",
    "data = \"GOES-17\"\n",
    "scan = \"full_disk\""
   ]
  },
  {
   "cell_type": "code",
   "execution_count": 177,
   "metadata": {},
   "outputs": [
    {
     "data": {
      "text/html": [
       "\n",
       "            <style>\n",
       "                .geemap-dark {\n",
       "                    --jp-widgets-color: white;\n",
       "                    --jp-widgets-label-color: white;\n",
       "                    --jp-ui-font-color1: white;\n",
       "                    --jp-layout-color2: #454545;\n",
       "                    background-color: #383838;\n",
       "                }\n",
       "                    \n",
       "                .geemap-dark .jupyter-button {\n",
       "                    --jp-layout-color3: #383838;\n",
       "                }\n",
       "                \n",
       "                .geemap-colab {\n",
       "                    background-color: var(--colab-primary-surface-color, white);\n",
       "                }\n",
       "                    \n",
       "                .geemap-colab .jupyter-button {\n",
       "                    --jp-layout-color3: var(--colab-primary-surface-color, white);\n",
       "                }\n",
       "            </style>\n",
       "            "
      ],
      "text/plain": [
       "<IPython.core.display.HTML object>"
      ]
     },
     "metadata": {},
     "output_type": "display_data"
    },
    {
     "name": "stdout",
     "output_type": "stream",
     "text": [
      "Generating URL...\n",
      "Downloading GIF image from https://earthengine.googleapis.com/v1/projects/earthengine-legacy/videoThumbnails/8aaa91610b17421b6f4e4871669ecf09-084a14b8d2489c1ef6b5ad67125c39a7:getPixels\n",
      "Please wait ...\n",
      "The GIF image has been saved to: /Users/ilyonsg/Documents/gee/gee-python-workshop/goes.gif\n"
     ]
    },
    {
     "data": {
      "application/vnd.jupyter.widget-view+json": {
       "model_id": "da8841fde2a74d48a0fb0fd81f4e1a93",
       "version_major": 2,
       "version_minor": 0
      },
      "text/plain": [
       "Output()"
      ]
     },
     "metadata": {},
     "output_type": "display_data"
    }
   ],
   "source": [
    "timelapse = geemap.goes_timelapse(\n",
    "    roi, \"exports/goes.gif\", start_date, end_date, data, scan, framesPerSecond=5\n",
    ")\n",
    "geemap.show_image(timelapse)"
   ]
  },
  {
   "cell_type": "code",
   "execution_count": 178,
   "metadata": {},
   "outputs": [
    {
     "data": {
      "text/html": [
       "\n",
       "            <style>\n",
       "                .geemap-dark {\n",
       "                    --jp-widgets-color: white;\n",
       "                    --jp-widgets-label-color: white;\n",
       "                    --jp-ui-font-color1: white;\n",
       "                    --jp-layout-color2: #454545;\n",
       "                    background-color: #383838;\n",
       "                }\n",
       "                    \n",
       "                .geemap-dark .jupyter-button {\n",
       "                    --jp-layout-color3: #383838;\n",
       "                }\n",
       "                \n",
       "                .geemap-colab {\n",
       "                    background-color: var(--colab-primary-surface-color, white);\n",
       "                }\n",
       "                    \n",
       "                .geemap-colab .jupyter-button {\n",
       "                    --jp-layout-color3: var(--colab-primary-surface-color, white);\n",
       "                }\n",
       "            </style>\n",
       "            "
      ],
      "text/plain": [
       "<IPython.core.display.HTML object>"
      ]
     },
     "metadata": {},
     "output_type": "display_data"
    }
   ],
   "source": [
    "roi = ee.Geometry.BBox(-159.5954, 24.5178, -114.2438, 60.4088)\n",
    "start_date = \"2021-10-24T14:00:00\"\n",
    "end_date = \"2021-10-25T01:00:00\"\n",
    "data = \"GOES-17\"\n",
    "scan = \"full_disk\""
   ]
  },
  {
   "cell_type": "code",
   "execution_count": 179,
   "metadata": {},
   "outputs": [
    {
     "data": {
      "text/html": [
       "\n",
       "            <style>\n",
       "                .geemap-dark {\n",
       "                    --jp-widgets-color: white;\n",
       "                    --jp-widgets-label-color: white;\n",
       "                    --jp-ui-font-color1: white;\n",
       "                    --jp-layout-color2: #454545;\n",
       "                    background-color: #383838;\n",
       "                }\n",
       "                    \n",
       "                .geemap-dark .jupyter-button {\n",
       "                    --jp-layout-color3: #383838;\n",
       "                }\n",
       "                \n",
       "                .geemap-colab {\n",
       "                    background-color: var(--colab-primary-surface-color, white);\n",
       "                }\n",
       "                    \n",
       "                .geemap-colab .jupyter-button {\n",
       "                    --jp-layout-color3: var(--colab-primary-surface-color, white);\n",
       "                }\n",
       "            </style>\n",
       "            "
      ],
      "text/plain": [
       "<IPython.core.display.HTML object>"
      ]
     },
     "metadata": {},
     "output_type": "display_data"
    },
    {
     "name": "stdout",
     "output_type": "stream",
     "text": [
      "Generating URL...\n",
      "Downloading GIF image from https://earthengine.googleapis.com/v1/projects/earthengine-legacy/videoThumbnails/9ffc0479600ca67df78caa03d9aa8fd9-01233d5a31ee850405c891fffc0124bd:getPixels\n",
      "Please wait ...\n",
      "The GIF image has been saved to: /Users/ilyonsg/Documents/gee/gee-python-workshop/hurricane.gif\n"
     ]
    },
    {
     "data": {
      "application/vnd.jupyter.widget-view+json": {
       "model_id": "235064108d3b49edbd7c31d909ced1da",
       "version_major": 2,
       "version_minor": 0
      },
      "text/plain": [
       "Output()"
      ]
     },
     "metadata": {},
     "output_type": "display_data"
    }
   ],
   "source": [
    "timelapse = geemap.goes_timelapse(\n",
    "    roi, \"exports/hurricane.gif\", start_date, end_date, data, scan, framesPerSecond=5\n",
    ")\n",
    "geemap.show_image(timelapse)"
   ]
  },
  {
   "cell_type": "code",
   "execution_count": 180,
   "metadata": {},
   "outputs": [
    {
     "data": {
      "text/html": [
       "\n",
       "            <style>\n",
       "                .geemap-dark {\n",
       "                    --jp-widgets-color: white;\n",
       "                    --jp-widgets-label-color: white;\n",
       "                    --jp-ui-font-color1: white;\n",
       "                    --jp-layout-color2: #454545;\n",
       "                    background-color: #383838;\n",
       "                }\n",
       "                    \n",
       "                .geemap-dark .jupyter-button {\n",
       "                    --jp-layout-color3: #383838;\n",
       "                }\n",
       "                \n",
       "                .geemap-colab {\n",
       "                    background-color: var(--colab-primary-surface-color, white);\n",
       "                }\n",
       "                    \n",
       "                .geemap-colab .jupyter-button {\n",
       "                    --jp-layout-color3: var(--colab-primary-surface-color, white);\n",
       "                }\n",
       "            </style>\n",
       "            "
      ],
      "text/plain": [
       "<IPython.core.display.HTML object>"
      ]
     },
     "metadata": {},
     "output_type": "display_data"
    }
   ],
   "source": [
    "roi = ee.Geometry.BBox(-121.0034, 36.8488, -117.9052, 39.0490)\n",
    "start_date = \"2020-09-05T15:00:00\"\n",
    "end_date = \"2020-09-06T02:00:00\"\n",
    "data = \"GOES-17\"\n",
    "scan = \"full_disk\""
   ]
  },
  {
   "cell_type": "code",
   "execution_count": 181,
   "metadata": {},
   "outputs": [
    {
     "data": {
      "text/html": [
       "\n",
       "            <style>\n",
       "                .geemap-dark {\n",
       "                    --jp-widgets-color: white;\n",
       "                    --jp-widgets-label-color: white;\n",
       "                    --jp-ui-font-color1: white;\n",
       "                    --jp-layout-color2: #454545;\n",
       "                    background-color: #383838;\n",
       "                }\n",
       "                    \n",
       "                .geemap-dark .jupyter-button {\n",
       "                    --jp-layout-color3: #383838;\n",
       "                }\n",
       "                \n",
       "                .geemap-colab {\n",
       "                    background-color: var(--colab-primary-surface-color, white);\n",
       "                }\n",
       "                    \n",
       "                .geemap-colab .jupyter-button {\n",
       "                    --jp-layout-color3: var(--colab-primary-surface-color, white);\n",
       "                }\n",
       "            </style>\n",
       "            "
      ],
      "text/plain": [
       "<IPython.core.display.HTML object>"
      ]
     },
     "metadata": {},
     "output_type": "display_data"
    },
    {
     "name": "stdout",
     "output_type": "stream",
     "text": [
      "Generating URL...\n",
      "Downloading GIF image from https://earthengine.googleapis.com/v1/projects/earthengine-legacy/videoThumbnails/9bbb18ce72ba518431821f1ce20ef5e9-52ef35cf5f4c45b346ef9ae91ebfc2c4:getPixels\n",
      "Please wait ...\n",
      "The GIF image has been saved to: /Users/ilyonsg/Documents/gee/gee-python-workshop/exports/fire.gif\n"
     ]
    },
    {
     "data": {
      "application/vnd.jupyter.widget-view+json": {
       "model_id": "81e3469d92c64d688b8281a1c531d44b",
       "version_major": 2,
       "version_minor": 0
      },
      "text/plain": [
       "Output()"
      ]
     },
     "metadata": {},
     "output_type": "display_data"
    }
   ],
   "source": [
    "timelapse = geemap.goes_fire_timelapse(\n",
    "    roi, \"exports/fire.gif\", start_date, end_date, data, scan, framesPerSecond=5\n",
    ")\n",
    "geemap.show_image(timelapse)"
   ]
  },
  {
   "cell_type": "markdown",
   "metadata": {},
   "source": [
    "### Exercise 6 - Creating timelapse animations\n",
    "\n",
    "Use the geemap timelapse GUI to create a timelapse animation for any location of your choice. Share the timelapse on social media and use the hashtagd such as #EarthEngine and #geemap. See [this](https://i.imgur.com/YaCHvKC.gif) example.\n",
    "\n",
    "![](https://i.imgur.com/ohrXeFC.png)"
   ]
  },
  {
   "cell_type": "code",
   "execution_count": null,
   "metadata": {},
   "outputs": [],
   "source": [
    "m = geemap.Map()\n",
    "m.add_gui(\"timelapse\")\n",
    "m"
   ]
  },
  {
   "cell_type": "markdown",
   "metadata": {},
   "source": [
    "## Break 3 (10 mins)\n",
    "\n",
    "## Building interactive web apps (30 mins)\n",
    "\n",
    "This section is optional. We might not have enough time to cover this section.\n",
    "\n",
    "Follow the instructions [here](https://huggingface.co/spaces/giswqs/solara-geemap) to build an interactive Earth Engine web app with [Solara](https://github.com/widgetti/solara) and geemap. You need to [sign up](https://huggingface.co/join) for a free Hugging Face account to create the web app. It is free and easy to sign up.\n",
    "\n",
    "### Exercise 7 - Building an interactive web app for visualizing land cover change\n",
    "\n",
    "After following the instructions above, you should have a web app that looks like this:\n",
    "\n",
    "![](https://i.imgur.com/X3ZFyRr.png)\n",
    "\n",
    "The web app URL should look like this: https://giswqs-solara-geemap.hf.space/split-map."
   ]
  },
  {
   "cell_type": "code",
   "execution_count": null,
   "metadata": {},
   "outputs": [],
   "source": []
  }
 ],
 "metadata": {
  "kernelspec": {
   "display_name": "Python 3 (ipykernel)",
   "language": "python",
   "name": "python3"
  },
  "language_info": {
   "codemirror_mode": {
    "name": "ipython",
    "version": 3
   },
   "file_extension": ".py",
   "mimetype": "text/x-python",
   "name": "python",
   "nbconvert_exporter": "python",
   "pygments_lexer": "ipython3",
   "version": "3.9.18"
  }
 },
 "nbformat": 4,
 "nbformat_minor": 5
}
